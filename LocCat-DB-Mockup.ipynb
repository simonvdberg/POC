{
 "cells": [
  {
   "cell_type": "code",
   "execution_count": 1,
   "metadata": {},
   "outputs": [],
   "source": [
    "%config IPCompleter.greedy = True  \n",
    "%matplotlib inline\n",
    "\n",
    "import numpy as np\n",
    "import pandas as pd\n",
    "import matplotlib.pyplot as plt\n",
    "import seaborn as sns\n",
    "from sqlalchemy import create_engine\n",
    "\n",
    "from seaborn import countplot\n",
    "from matplotlib.pyplot import figure, show\n",
    "\n",
    "from bokeh.io import show, output_notebook\n",
    "from bokeh.models import ColumnDataSource\n",
    "from bokeh.plotting import figure\n",
    "from bokeh.models import FactorRange, ColumnDataSource, TableColumn, DataTable, CustomJS\n",
    "from bokeh.server.server import Server\n",
    "from bokeh.application import Application\n",
    "from bokeh.application.handlers.function import FunctionHandler\n",
    "\n",
    "from bokeh.models.widgets import Panel, Tabs, Select\n",
    "from bokeh.io import output_file, show\n",
    "from bokeh.plotting import figure\n",
    "from bokeh.models.widgets import CheckboxGroup\n",
    "from bokeh.layouts import column, row, WidgetBox  \n",
    "from bokeh.core.properties import value "
   ]
  },
  {
   "cell_type": "code",
   "execution_count": 2,
   "metadata": {},
   "outputs": [
    {
     "name": "stdout",
     "output_type": "stream",
     "text": [
      "<class 'pandas.core.frame.DataFrame'>\n",
      "RangeIndex: 169415 entries, 0 to 169414\n",
      "Data columns (total 14 columns):\n",
      "nr                    169415 non-null int64\n",
      "PC4_LEERL             169415 non-null int64\n",
      "KWALIFICATIENIVEAU    169415 non-null int64\n",
      "KWALIFICATIE CODE     169415 non-null int64\n",
      "KWALIFICATIE NAAM     169415 non-null object\n",
      "MBO SECTOR            169415 non-null object\n",
      "DOMEIN                169415 non-null object\n",
      "SECTORUNIT SBB        169415 non-null object\n",
      "GESLACHT              169415 non-null object\n",
      "2013   AANT           169415 non-null int64\n",
      "2014   AANT           169415 non-null int64\n",
      "2015   AANT           169415 non-null int64\n",
      "2016   AANT           169415 non-null int64\n",
      "2017   AANT           169415 non-null int64\n",
      "dtypes: int64(9), object(5)\n",
      "memory usage: 18.1+ MB\n",
      "<class 'pandas.core.frame.DataFrame'>\n",
      "RangeIndex: 44 entries, 0 to 43\n",
      "Data columns (total 6 columns):\n",
      "index            44 non-null int64\n",
      "PostcodeStart    44 non-null int64\n",
      "PostcodeEind     44 non-null int64\n",
      "Gemeente         44 non-null object\n",
      "Locatie          44 non-null object\n",
      "Categorie        44 non-null object\n",
      "dtypes: int64(3), object(3)\n",
      "memory usage: 2.1+ KB\n"
     ]
    }
   ],
   "source": [
    "host = \"mysql.nm-interactive.net\"\n",
    "port = 3306\n",
    "user = \"windesheim\"\n",
    "password = \"pMjq357Kdee7Sx8C\"\n",
    "database = \"windesheim\"\n",
    "client = \"mysql\"\n",
    "\n",
    "#Installeer eerst Mysqlcient in Anaconda Navigator\n",
    "engine = create_engine(\"{0}://{1}:{2}@{3}:{4}/{5}\".format(client, user, password, host, port, database))\n",
    "\n",
    "datasource = pd.read_sql_query(\"SELECT * FROM source WHERE KWALIFICATIENIVEAU = 4\",engine)\n",
    "wervingsgebieden = pd.read_sql_query(\"SELECT * FROM wervingsgebieden\",engine)\n",
    "datasource.info()\n",
    "wervingsgebieden.info()"
   ]
  },
  {
   "cell_type": "code",
   "execution_count": 3,
   "metadata": {},
   "outputs": [
    {
     "data": {
      "text/html": [
       "<div>\n",
       "<style scoped>\n",
       "    .dataframe tbody tr th:only-of-type {\n",
       "        vertical-align: middle;\n",
       "    }\n",
       "\n",
       "    .dataframe tbody tr th {\n",
       "        vertical-align: top;\n",
       "    }\n",
       "\n",
       "    .dataframe thead th {\n",
       "        text-align: right;\n",
       "    }\n",
       "</style>\n",
       "<table border=\"1\" class=\"dataframe\">\n",
       "  <thead>\n",
       "    <tr style=\"text-align: right;\">\n",
       "      <th></th>\n",
       "      <th>nr</th>\n",
       "      <th>PC4_LEERL</th>\n",
       "      <th>KWALIFICATIENIVEAU</th>\n",
       "      <th>KWALIFICATIE CODE</th>\n",
       "      <th>KWALIFICATIE NAAM</th>\n",
       "      <th>MBO SECTOR</th>\n",
       "      <th>DOMEIN</th>\n",
       "      <th>SECTORUNIT SBB</th>\n",
       "      <th>GESLACHT</th>\n",
       "      <th>2013   AANT</th>\n",
       "      <th>2014   AANT</th>\n",
       "      <th>2015   AANT</th>\n",
       "      <th>2016   AANT</th>\n",
       "      <th>2017   AANT</th>\n",
       "    </tr>\n",
       "  </thead>\n",
       "  <tbody>\n",
       "    <tr>\n",
       "      <th>0</th>\n",
       "      <td>1424</td>\n",
       "      <td>1011</td>\n",
       "      <td>4</td>\n",
       "      <td>10388</td>\n",
       "      <td>Horeca-ondernemer/-manager</td>\n",
       "      <td>economie</td>\n",
       "      <td>Horeca en bakkerij</td>\n",
       "      <td>Sectorunit voedsel, groen en gastvrijheid</td>\n",
       "      <td>M</td>\n",
       "      <td>1</td>\n",
       "      <td>0</td>\n",
       "      <td>0</td>\n",
       "      <td>0</td>\n",
       "      <td>0</td>\n",
       "    </tr>\n",
       "    <tr>\n",
       "      <th>1</th>\n",
       "      <td>1425</td>\n",
       "      <td>1011</td>\n",
       "      <td>4</td>\n",
       "      <td>10801</td>\n",
       "      <td>Restauratiemedewerker</td>\n",
       "      <td>techniek</td>\n",
       "      <td>Bouw en infra</td>\n",
       "      <td>Sectorunit techniek en gebouwde omgeving</td>\n",
       "      <td>M</td>\n",
       "      <td>1</td>\n",
       "      <td>0</td>\n",
       "      <td>0</td>\n",
       "      <td>0</td>\n",
       "      <td>0</td>\n",
       "    </tr>\n",
       "    <tr>\n",
       "      <th>2</th>\n",
       "      <td>1426</td>\n",
       "      <td>1011</td>\n",
       "      <td>4</td>\n",
       "      <td>90038</td>\n",
       "      <td>Artiest (Muziek)</td>\n",
       "      <td>techniek</td>\n",
       "      <td>Zorg en welzijn</td>\n",
       "      <td>Sectorunit creatieve industrie en ICT</td>\n",
       "      <td>M</td>\n",
       "      <td>0</td>\n",
       "      <td>0</td>\n",
       "      <td>0</td>\n",
       "      <td>2</td>\n",
       "      <td>0</td>\n",
       "    </tr>\n",
       "    <tr>\n",
       "      <th>3</th>\n",
       "      <td>1427</td>\n",
       "      <td>1011</td>\n",
       "      <td>4</td>\n",
       "      <td>90290</td>\n",
       "      <td>Ondernemer detailhandel</td>\n",
       "      <td>economie</td>\n",
       "      <td>Handel en ondernemerschap</td>\n",
       "      <td>Sectorunit handel</td>\n",
       "      <td>M</td>\n",
       "      <td>1</td>\n",
       "      <td>0</td>\n",
       "      <td>0</td>\n",
       "      <td>0</td>\n",
       "      <td>0</td>\n",
       "    </tr>\n",
       "    <tr>\n",
       "      <th>4</th>\n",
       "      <td>1428</td>\n",
       "      <td>1011</td>\n",
       "      <td>4</td>\n",
       "      <td>90301</td>\n",
       "      <td>Ondernemer horeca/bakkerij (Manager/ondernemer...</td>\n",
       "      <td>economie</td>\n",
       "      <td>Horeca en bakkerij</td>\n",
       "      <td>Sectorunit voedsel, groen en gastvrijheid</td>\n",
       "      <td>M</td>\n",
       "      <td>0</td>\n",
       "      <td>1</td>\n",
       "      <td>0</td>\n",
       "      <td>0</td>\n",
       "      <td>0</td>\n",
       "    </tr>\n",
       "  </tbody>\n",
       "</table>\n",
       "</div>"
      ],
      "text/plain": [
       "     nr  PC4_LEERL  KWALIFICATIENIVEAU  KWALIFICATIE CODE  \\\n",
       "0  1424       1011                   4              10388   \n",
       "1  1425       1011                   4              10801   \n",
       "2  1426       1011                   4              90038   \n",
       "3  1427       1011                   4              90290   \n",
       "4  1428       1011                   4              90301   \n",
       "\n",
       "                                   KWALIFICATIE NAAM MBO SECTOR  \\\n",
       "0                         Horeca-ondernemer/-manager   economie   \n",
       "1                              Restauratiemedewerker   techniek   \n",
       "2                                   Artiest (Muziek)   techniek   \n",
       "3                            Ondernemer detailhandel   economie   \n",
       "4  Ondernemer horeca/bakkerij (Manager/ondernemer...   economie   \n",
       "\n",
       "                      DOMEIN                             SECTORUNIT SBB  \\\n",
       "0         Horeca en bakkerij  Sectorunit voedsel, groen en gastvrijheid   \n",
       "1              Bouw en infra   Sectorunit techniek en gebouwde omgeving   \n",
       "2            Zorg en welzijn      Sectorunit creatieve industrie en ICT   \n",
       "3  Handel en ondernemerschap                          Sectorunit handel   \n",
       "4         Horeca en bakkerij  Sectorunit voedsel, groen en gastvrijheid   \n",
       "\n",
       "  GESLACHT  2013   AANT  2014   AANT  2015   AANT  2016   AANT  2017   AANT  \n",
       "0        M            1            0            0            0            0  \n",
       "1        M            1            0            0            0            0  \n",
       "2        M            0            0            0            2            0  \n",
       "3        M            1            0            0            0            0  \n",
       "4        M            0            1            0            0            0  "
      ]
     },
     "execution_count": 3,
     "metadata": {},
     "output_type": "execute_result"
    }
   ],
   "source": [
    "# Laat n records zien van de datasource\n",
    "datasource.head()"
   ]
  },
  {
   "cell_type": "code",
   "execution_count": 4,
   "metadata": {},
   "outputs": [
    {
     "data": {
      "text/plain": [
       "nr                     int64\n",
       "PC4_LEERL              int64\n",
       "KWALIFICATIENIVEAU     int64\n",
       "KWALIFICATIE CODE      int64\n",
       "KWALIFICATIE NAAM     object\n",
       "MBO SECTOR            object\n",
       "DOMEIN                object\n",
       "SECTORUNIT SBB        object\n",
       "GESLACHT              object\n",
       "2013   AANT            int64\n",
       "2014   AANT            int64\n",
       "2015   AANT            int64\n",
       "2016   AANT            int64\n",
       "2017   AANT            int64\n",
       "dtype: object"
      ]
     },
     "execution_count": 4,
     "metadata": {},
     "output_type": "execute_result"
    }
   ],
   "source": [
    "datasource.dtypes"
   ]
  },
  {
   "cell_type": "code",
   "execution_count": 5,
   "metadata": {},
   "outputs": [
    {
     "data": {
      "text/html": [
       "<div>\n",
       "<style scoped>\n",
       "    .dataframe tbody tr th:only-of-type {\n",
       "        vertical-align: middle;\n",
       "    }\n",
       "\n",
       "    .dataframe tbody tr th {\n",
       "        vertical-align: top;\n",
       "    }\n",
       "\n",
       "    .dataframe thead th {\n",
       "        text-align: right;\n",
       "    }\n",
       "</style>\n",
       "<table border=\"1\" class=\"dataframe\">\n",
       "  <thead>\n",
       "    <tr style=\"text-align: right;\">\n",
       "      <th></th>\n",
       "      <th>index</th>\n",
       "      <th>PostcodeStart</th>\n",
       "      <th>PostcodeEind</th>\n",
       "      <th>Gemeente</th>\n",
       "      <th>Locatie</th>\n",
       "      <th>Categorie</th>\n",
       "    </tr>\n",
       "  </thead>\n",
       "  <tbody>\n",
       "    <tr>\n",
       "      <th>0</th>\n",
       "      <td>0</td>\n",
       "      <td>7940</td>\n",
       "      <td>7999</td>\n",
       "      <td>Meppel</td>\n",
       "      <td>Zwolle</td>\n",
       "      <td>Thuismarkt</td>\n",
       "    </tr>\n",
       "    <tr>\n",
       "      <th>1</th>\n",
       "      <td>1</td>\n",
       "      <td>8000</td>\n",
       "      <td>8069</td>\n",
       "      <td>Zwolle</td>\n",
       "      <td>Zwolle</td>\n",
       "      <td>Thuismarkt</td>\n",
       "    </tr>\n",
       "    <tr>\n",
       "      <th>2</th>\n",
       "      <td>2</td>\n",
       "      <td>8070</td>\n",
       "      <td>8099</td>\n",
       "      <td>Nunspeet</td>\n",
       "      <td>Zwolle</td>\n",
       "      <td>Thuismarkt</td>\n",
       "    </tr>\n",
       "    <tr>\n",
       "      <th>3</th>\n",
       "      <td>3</td>\n",
       "      <td>8100</td>\n",
       "      <td>8159</td>\n",
       "      <td>Raalte</td>\n",
       "      <td>Zwolle</td>\n",
       "      <td>Thuismarkt</td>\n",
       "    </tr>\n",
       "    <tr>\n",
       "      <th>4</th>\n",
       "      <td>4</td>\n",
       "      <td>8160</td>\n",
       "      <td>8199</td>\n",
       "      <td>Epe</td>\n",
       "      <td>Zwolle</td>\n",
       "      <td>Thuismarkt</td>\n",
       "    </tr>\n",
       "  </tbody>\n",
       "</table>\n",
       "</div>"
      ],
      "text/plain": [
       "   index  PostcodeStart  PostcodeEind  Gemeente Locatie   Categorie\n",
       "0      0           7940          7999    Meppel  Zwolle  Thuismarkt\n",
       "1      1           8000          8069    Zwolle  Zwolle  Thuismarkt\n",
       "2      2           8070          8099  Nunspeet  Zwolle  Thuismarkt\n",
       "3      3           8100          8159    Raalte  Zwolle  Thuismarkt\n",
       "4      4           8160          8199       Epe  Zwolle  Thuismarkt"
      ]
     },
     "execution_count": 5,
     "metadata": {},
     "output_type": "execute_result"
    }
   ],
   "source": [
    "# Laat n records zien van de ingevoerde wervingsgebieden\n",
    "wervingsgebieden.head()"
   ]
  },
  {
   "cell_type": "code",
   "execution_count": 6,
   "metadata": {},
   "outputs": [
    {
     "data": {
      "text/plain": [
       "index             int64\n",
       "PostcodeStart     int64\n",
       "PostcodeEind      int64\n",
       "Gemeente         object\n",
       "Locatie          object\n",
       "Categorie        object\n",
       "dtype: object"
      ]
     },
     "execution_count": 6,
     "metadata": {},
     "output_type": "execute_result"
    }
   ],
   "source": [
    "wervingsgebieden.dtypes"
   ]
  },
  {
   "cell_type": "code",
   "execution_count": 7,
   "metadata": {},
   "outputs": [],
   "source": [
    "# tijdelijke dataframe - 1000 rows\n",
    "ds = datasource.sample(n=1000)\n"
   ]
  },
  {
   "cell_type": "code",
   "execution_count": 8,
   "metadata": {},
   "outputs": [],
   "source": [
    "# Functie voor het checken van de locatie en categorie, stukje sneller gemaakt ook.\n",
    "def check_locatie(PostCode):\n",
    "    test = wervingsgebieden.loc[(wervingsgebieden.PostcodeStart <= PostCode) & (wervingsgebieden.PostcodeEind >= PostCode), ['Locatie', 'Categorie']]\n",
    "    if test['Locatie'].empty:\n",
    "        r = pd.Series(['',''])\n",
    "    else:\n",
    "        r = pd.Series([test['Locatie'].iloc[0], test['Categorie'].iloc[0]])\n",
    "    return r\n",
    "\n",
    "#voeg kolommen toe aan datasource \n",
    "datasource[['Locatie', 'Categorie']] = datasource.apply(lambda row: check_locatie(row[\"PC4_LEERL\"]), axis=1)\n"
   ]
  },
  {
   "cell_type": "code",
   "execution_count": 9,
   "metadata": {},
   "outputs": [
    {
     "data": {
      "text/plain": [
       "array(['Aangrenzend Primair', '', 'Thuismarkt', 'Aangrenzend Secundair'],\n",
       "      dtype=object)"
      ]
     },
     "execution_count": 9,
     "metadata": {},
     "output_type": "execute_result"
    }
   ],
   "source": [
    "#Welke soorten zitten er in Locatie?\n",
    "datasource.Locatie.unique()\n",
    "\n",
    "#Welke soorten zitten in Categorie?\n",
    "datasource.Categorie.unique()"
   ]
  },
  {
   "cell_type": "code",
   "execution_count": 10,
   "metadata": {},
   "outputs": [
    {
     "data": {
      "text/html": [
       "<div>\n",
       "<style scoped>\n",
       "    .dataframe tbody tr th:only-of-type {\n",
       "        vertical-align: middle;\n",
       "    }\n",
       "\n",
       "    .dataframe tbody tr th {\n",
       "        vertical-align: top;\n",
       "    }\n",
       "\n",
       "    .dataframe thead th {\n",
       "        text-align: right;\n",
       "    }\n",
       "</style>\n",
       "<table border=\"1\" class=\"dataframe\">\n",
       "  <thead>\n",
       "    <tr style=\"text-align: right;\">\n",
       "      <th></th>\n",
       "      <th>nr</th>\n",
       "      <th>PC4_LEERL</th>\n",
       "      <th>KWALIFICATIENIVEAU</th>\n",
       "      <th>KWALIFICATIE CODE</th>\n",
       "      <th>KWALIFICATIE NAAM</th>\n",
       "      <th>MBO SECTOR</th>\n",
       "      <th>DOMEIN</th>\n",
       "      <th>SECTORUNIT SBB</th>\n",
       "      <th>GESLACHT</th>\n",
       "      <th>2013   AANT</th>\n",
       "      <th>2014   AANT</th>\n",
       "      <th>2015   AANT</th>\n",
       "      <th>2016   AANT</th>\n",
       "      <th>2017   AANT</th>\n",
       "      <th>Locatie</th>\n",
       "      <th>Categorie</th>\n",
       "    </tr>\n",
       "  </thead>\n",
       "  <tbody>\n",
       "    <tr>\n",
       "      <th>0</th>\n",
       "      <td>1424</td>\n",
       "      <td>1011</td>\n",
       "      <td>4</td>\n",
       "      <td>10388</td>\n",
       "      <td>Horeca-ondernemer/-manager</td>\n",
       "      <td>economie</td>\n",
       "      <td>Horeca en bakkerij</td>\n",
       "      <td>Sectorunit voedsel, groen en gastvrijheid</td>\n",
       "      <td>M</td>\n",
       "      <td>1</td>\n",
       "      <td>0</td>\n",
       "      <td>0</td>\n",
       "      <td>0</td>\n",
       "      <td>0</td>\n",
       "      <td>Flevoland</td>\n",
       "      <td>Aangrenzend Primair</td>\n",
       "    </tr>\n",
       "    <tr>\n",
       "      <th>1</th>\n",
       "      <td>1425</td>\n",
       "      <td>1011</td>\n",
       "      <td>4</td>\n",
       "      <td>10801</td>\n",
       "      <td>Restauratiemedewerker</td>\n",
       "      <td>techniek</td>\n",
       "      <td>Bouw en infra</td>\n",
       "      <td>Sectorunit techniek en gebouwde omgeving</td>\n",
       "      <td>M</td>\n",
       "      <td>1</td>\n",
       "      <td>0</td>\n",
       "      <td>0</td>\n",
       "      <td>0</td>\n",
       "      <td>0</td>\n",
       "      <td>Flevoland</td>\n",
       "      <td>Aangrenzend Primair</td>\n",
       "    </tr>\n",
       "    <tr>\n",
       "      <th>2</th>\n",
       "      <td>1426</td>\n",
       "      <td>1011</td>\n",
       "      <td>4</td>\n",
       "      <td>90038</td>\n",
       "      <td>Artiest (Muziek)</td>\n",
       "      <td>techniek</td>\n",
       "      <td>Zorg en welzijn</td>\n",
       "      <td>Sectorunit creatieve industrie en ICT</td>\n",
       "      <td>M</td>\n",
       "      <td>0</td>\n",
       "      <td>0</td>\n",
       "      <td>0</td>\n",
       "      <td>2</td>\n",
       "      <td>0</td>\n",
       "      <td>Flevoland</td>\n",
       "      <td>Aangrenzend Primair</td>\n",
       "    </tr>\n",
       "    <tr>\n",
       "      <th>3</th>\n",
       "      <td>1427</td>\n",
       "      <td>1011</td>\n",
       "      <td>4</td>\n",
       "      <td>90290</td>\n",
       "      <td>Ondernemer detailhandel</td>\n",
       "      <td>economie</td>\n",
       "      <td>Handel en ondernemerschap</td>\n",
       "      <td>Sectorunit handel</td>\n",
       "      <td>M</td>\n",
       "      <td>1</td>\n",
       "      <td>0</td>\n",
       "      <td>0</td>\n",
       "      <td>0</td>\n",
       "      <td>0</td>\n",
       "      <td>Flevoland</td>\n",
       "      <td>Aangrenzend Primair</td>\n",
       "    </tr>\n",
       "    <tr>\n",
       "      <th>4</th>\n",
       "      <td>1428</td>\n",
       "      <td>1011</td>\n",
       "      <td>4</td>\n",
       "      <td>90301</td>\n",
       "      <td>Ondernemer horeca/bakkerij (Manager/ondernemer...</td>\n",
       "      <td>economie</td>\n",
       "      <td>Horeca en bakkerij</td>\n",
       "      <td>Sectorunit voedsel, groen en gastvrijheid</td>\n",
       "      <td>M</td>\n",
       "      <td>0</td>\n",
       "      <td>1</td>\n",
       "      <td>0</td>\n",
       "      <td>0</td>\n",
       "      <td>0</td>\n",
       "      <td>Flevoland</td>\n",
       "      <td>Aangrenzend Primair</td>\n",
       "    </tr>\n",
       "  </tbody>\n",
       "</table>\n",
       "</div>"
      ],
      "text/plain": [
       "     nr  PC4_LEERL  KWALIFICATIENIVEAU  KWALIFICATIE CODE  \\\n",
       "0  1424       1011                   4              10388   \n",
       "1  1425       1011                   4              10801   \n",
       "2  1426       1011                   4              90038   \n",
       "3  1427       1011                   4              90290   \n",
       "4  1428       1011                   4              90301   \n",
       "\n",
       "                                   KWALIFICATIE NAAM MBO SECTOR  \\\n",
       "0                         Horeca-ondernemer/-manager   economie   \n",
       "1                              Restauratiemedewerker   techniek   \n",
       "2                                   Artiest (Muziek)   techniek   \n",
       "3                            Ondernemer detailhandel   economie   \n",
       "4  Ondernemer horeca/bakkerij (Manager/ondernemer...   economie   \n",
       "\n",
       "                      DOMEIN                             SECTORUNIT SBB  \\\n",
       "0         Horeca en bakkerij  Sectorunit voedsel, groen en gastvrijheid   \n",
       "1              Bouw en infra   Sectorunit techniek en gebouwde omgeving   \n",
       "2            Zorg en welzijn      Sectorunit creatieve industrie en ICT   \n",
       "3  Handel en ondernemerschap                          Sectorunit handel   \n",
       "4         Horeca en bakkerij  Sectorunit voedsel, groen en gastvrijheid   \n",
       "\n",
       "  GESLACHT  2013   AANT  2014   AANT  2015   AANT  2016   AANT  2017   AANT  \\\n",
       "0        M            1            0            0            0            0   \n",
       "1        M            1            0            0            0            0   \n",
       "2        M            0            0            0            2            0   \n",
       "3        M            1            0            0            0            0   \n",
       "4        M            0            1            0            0            0   \n",
       "\n",
       "     Locatie            Categorie  \n",
       "0  Flevoland  Aangrenzend Primair  \n",
       "1  Flevoland  Aangrenzend Primair  \n",
       "2  Flevoland  Aangrenzend Primair  \n",
       "3  Flevoland  Aangrenzend Primair  \n",
       "4  Flevoland  Aangrenzend Primair  "
      ]
     },
     "execution_count": 10,
     "metadata": {},
     "output_type": "execute_result"
    }
   ],
   "source": [
    "datasource.head()"
   ]
  },
  {
   "cell_type": "markdown",
   "metadata": {},
   "source": [
    "# 1. Data-Melter\n",
    "\n",
    "Een punt van aandacht is het feit dat de data niet (mooi) allemaal in gelijke kolommen zitten. Zo zijn bijvoorbeeld de jaargegevens over diverse kolommen verdeeld. Om hiermee goed te kunnen werken, dient deze data onder elkaar te worden gezet."
   ]
  },
  {
   "cell_type": "code",
   "execution_count": 11,
   "metadata": {},
   "outputs": [],
   "source": [
    "# Originele dataset behouden, in kopie werken:\n",
    "dsc = datasource.copy()"
   ]
  },
  {
   "cell_type": "code",
   "execution_count": 12,
   "metadata": {},
   "outputs": [
    {
     "data": {
      "text/plain": [
       "['2013   AANT', '2014   AANT', '2015   AANT', '2016   AANT', '2017   AANT']"
      ]
     },
     "execution_count": 12,
     "metadata": {},
     "output_type": "execute_result"
    }
   ],
   "source": [
    "# Verkrijg alle 'Jaartal' kolommen (de kolommen die ge-melt dienen te worden)\n",
    "jaarCols = [col for col in dsc.columns if 'AANT' in col]\n",
    "jaarCols"
   ]
  },
  {
   "cell_type": "code",
   "execution_count": 13,
   "metadata": {},
   "outputs": [
    {
     "data": {
      "text/plain": [
       "['nr',\n",
       " 'PC4_LEERL',\n",
       " 'KWALIFICATIENIVEAU',\n",
       " 'KWALIFICATIE CODE',\n",
       " 'KWALIFICATIE NAAM',\n",
       " 'MBO SECTOR',\n",
       " 'DOMEIN',\n",
       " 'SECTORUNIT SBB',\n",
       " 'GESLACHT',\n",
       " 'Locatie',\n",
       " 'Categorie']"
      ]
     },
     "execution_count": 13,
     "metadata": {},
     "output_type": "execute_result"
    }
   ],
   "source": [
    "# Wat zijn dan de id vars? (kolommen die gelijk moeten blijven)\n",
    "otherCols = [col for col in dsc.columns if not 'AANT' in col]\n",
    "otherCols"
   ]
  },
  {
   "cell_type": "code",
   "execution_count": 14,
   "metadata": {},
   "outputs": [
    {
     "data": {
      "text/plain": [
       "['2013', '2014', '2015', '2016', '2017']"
      ]
     },
     "execution_count": 14,
     "metadata": {},
     "output_type": "execute_result"
    }
   ],
   "source": [
    "# Verander de jaartalkolomnamen naar pure jaartallen (gebruik alleen eerste 4 karakters van kolomnaam)\n",
    "jaarCleanCols = [str(x)[:4] for x in jaarCols]\n",
    "jaarCleanCols"
   ]
  },
  {
   "cell_type": "code",
   "execution_count": 15,
   "metadata": {},
   "outputs": [
    {
     "data": {
      "text/plain": [
       "{'2013   AANT': '2013',\n",
       " '2014   AANT': '2014',\n",
       " '2015   AANT': '2015',\n",
       " '2016   AANT': '2016',\n",
       " '2017   AANT': '2017'}"
      ]
     },
     "execution_count": 15,
     "metadata": {},
     "output_type": "execute_result"
    }
   ],
   "source": [
    "# Maak een dictionary voor de rename functie\n",
    "jaarDict = dict(zip(jaarCols, jaarCleanCols))\n",
    "jaarDict"
   ]
  },
  {
   "cell_type": "code",
   "execution_count": 16,
   "metadata": {},
   "outputs": [],
   "source": [
    "# Rename de betreffende colommen\n",
    "dsc = dsc.rename(columns=jaarDict)"
   ]
  },
  {
   "cell_type": "code",
   "execution_count": 17,
   "metadata": {},
   "outputs": [],
   "source": [
    "# Voer werkelijke melt uit\n",
    "dscMelt = pd.melt(dsc, id_vars=otherCols, var_name=\"Jaar\", value_name=\"Aantal\")"
   ]
  },
  {
   "cell_type": "code",
   "execution_count": 18,
   "metadata": {},
   "outputs": [
    {
     "data": {
      "text/html": [
       "<div>\n",
       "<style scoped>\n",
       "    .dataframe tbody tr th:only-of-type {\n",
       "        vertical-align: middle;\n",
       "    }\n",
       "\n",
       "    .dataframe tbody tr th {\n",
       "        vertical-align: top;\n",
       "    }\n",
       "\n",
       "    .dataframe thead th {\n",
       "        text-align: right;\n",
       "    }\n",
       "</style>\n",
       "<table border=\"1\" class=\"dataframe\">\n",
       "  <thead>\n",
       "    <tr style=\"text-align: right;\">\n",
       "      <th></th>\n",
       "      <th>nr</th>\n",
       "      <th>PC4_LEERL</th>\n",
       "      <th>KWALIFICATIENIVEAU</th>\n",
       "      <th>KWALIFICATIE CODE</th>\n",
       "      <th>KWALIFICATIE NAAM</th>\n",
       "      <th>MBO SECTOR</th>\n",
       "      <th>DOMEIN</th>\n",
       "      <th>SECTORUNIT SBB</th>\n",
       "      <th>GESLACHT</th>\n",
       "      <th>Locatie</th>\n",
       "      <th>Categorie</th>\n",
       "      <th>Jaar</th>\n",
       "      <th>Aantal</th>\n",
       "    </tr>\n",
       "  </thead>\n",
       "  <tbody>\n",
       "    <tr>\n",
       "      <th>0</th>\n",
       "      <td>1424</td>\n",
       "      <td>1011</td>\n",
       "      <td>4</td>\n",
       "      <td>10388</td>\n",
       "      <td>Horeca-ondernemer/-manager</td>\n",
       "      <td>economie</td>\n",
       "      <td>Horeca en bakkerij</td>\n",
       "      <td>Sectorunit voedsel, groen en gastvrijheid</td>\n",
       "      <td>M</td>\n",
       "      <td>Flevoland</td>\n",
       "      <td>Aangrenzend Primair</td>\n",
       "      <td>2013</td>\n",
       "      <td>1</td>\n",
       "    </tr>\n",
       "    <tr>\n",
       "      <th>1</th>\n",
       "      <td>1425</td>\n",
       "      <td>1011</td>\n",
       "      <td>4</td>\n",
       "      <td>10801</td>\n",
       "      <td>Restauratiemedewerker</td>\n",
       "      <td>techniek</td>\n",
       "      <td>Bouw en infra</td>\n",
       "      <td>Sectorunit techniek en gebouwde omgeving</td>\n",
       "      <td>M</td>\n",
       "      <td>Flevoland</td>\n",
       "      <td>Aangrenzend Primair</td>\n",
       "      <td>2013</td>\n",
       "      <td>1</td>\n",
       "    </tr>\n",
       "    <tr>\n",
       "      <th>2</th>\n",
       "      <td>1426</td>\n",
       "      <td>1011</td>\n",
       "      <td>4</td>\n",
       "      <td>90038</td>\n",
       "      <td>Artiest (Muziek)</td>\n",
       "      <td>techniek</td>\n",
       "      <td>Zorg en welzijn</td>\n",
       "      <td>Sectorunit creatieve industrie en ICT</td>\n",
       "      <td>M</td>\n",
       "      <td>Flevoland</td>\n",
       "      <td>Aangrenzend Primair</td>\n",
       "      <td>2013</td>\n",
       "      <td>0</td>\n",
       "    </tr>\n",
       "    <tr>\n",
       "      <th>3</th>\n",
       "      <td>1427</td>\n",
       "      <td>1011</td>\n",
       "      <td>4</td>\n",
       "      <td>90290</td>\n",
       "      <td>Ondernemer detailhandel</td>\n",
       "      <td>economie</td>\n",
       "      <td>Handel en ondernemerschap</td>\n",
       "      <td>Sectorunit handel</td>\n",
       "      <td>M</td>\n",
       "      <td>Flevoland</td>\n",
       "      <td>Aangrenzend Primair</td>\n",
       "      <td>2013</td>\n",
       "      <td>1</td>\n",
       "    </tr>\n",
       "    <tr>\n",
       "      <th>4</th>\n",
       "      <td>1428</td>\n",
       "      <td>1011</td>\n",
       "      <td>4</td>\n",
       "      <td>90301</td>\n",
       "      <td>Ondernemer horeca/bakkerij (Manager/ondernemer...</td>\n",
       "      <td>economie</td>\n",
       "      <td>Horeca en bakkerij</td>\n",
       "      <td>Sectorunit voedsel, groen en gastvrijheid</td>\n",
       "      <td>M</td>\n",
       "      <td>Flevoland</td>\n",
       "      <td>Aangrenzend Primair</td>\n",
       "      <td>2013</td>\n",
       "      <td>0</td>\n",
       "    </tr>\n",
       "  </tbody>\n",
       "</table>\n",
       "</div>"
      ],
      "text/plain": [
       "     nr  PC4_LEERL  KWALIFICATIENIVEAU  KWALIFICATIE CODE  \\\n",
       "0  1424       1011                   4              10388   \n",
       "1  1425       1011                   4              10801   \n",
       "2  1426       1011                   4              90038   \n",
       "3  1427       1011                   4              90290   \n",
       "4  1428       1011                   4              90301   \n",
       "\n",
       "                                   KWALIFICATIE NAAM MBO SECTOR  \\\n",
       "0                         Horeca-ondernemer/-manager   economie   \n",
       "1                              Restauratiemedewerker   techniek   \n",
       "2                                   Artiest (Muziek)   techniek   \n",
       "3                            Ondernemer detailhandel   economie   \n",
       "4  Ondernemer horeca/bakkerij (Manager/ondernemer...   economie   \n",
       "\n",
       "                      DOMEIN                             SECTORUNIT SBB  \\\n",
       "0         Horeca en bakkerij  Sectorunit voedsel, groen en gastvrijheid   \n",
       "1              Bouw en infra   Sectorunit techniek en gebouwde omgeving   \n",
       "2            Zorg en welzijn      Sectorunit creatieve industrie en ICT   \n",
       "3  Handel en ondernemerschap                          Sectorunit handel   \n",
       "4         Horeca en bakkerij  Sectorunit voedsel, groen en gastvrijheid   \n",
       "\n",
       "  GESLACHT    Locatie            Categorie  Jaar  Aantal  \n",
       "0        M  Flevoland  Aangrenzend Primair  2013       1  \n",
       "1        M  Flevoland  Aangrenzend Primair  2013       1  \n",
       "2        M  Flevoland  Aangrenzend Primair  2013       0  \n",
       "3        M  Flevoland  Aangrenzend Primair  2013       1  \n",
       "4        M  Flevoland  Aangrenzend Primair  2013       0  "
      ]
     },
     "execution_count": 18,
     "metadata": {},
     "output_type": "execute_result"
    }
   ],
   "source": [
    "dscMelt.head()"
   ]
  },
  {
   "cell_type": "code",
   "execution_count": 19,
   "metadata": {},
   "outputs": [
    {
     "data": {
      "text/plain": [
       "array(['2013', '2014', '2015', '2016', '2017'], dtype=object)"
      ]
     },
     "execution_count": 19,
     "metadata": {},
     "output_type": "execute_result"
    }
   ],
   "source": [
    "dscMelt['Jaar'].unique()"
   ]
  },
  {
   "cell_type": "code",
   "execution_count": 20,
   "metadata": {},
   "outputs": [
    {
     "name": "stdout",
     "output_type": "stream",
     "text": [
      "<class 'pandas.core.frame.DataFrame'>\n",
      "RangeIndex: 847075 entries, 0 to 847074\n",
      "Data columns (total 13 columns):\n",
      "nr                    847075 non-null int64\n",
      "PC4_LEERL             847075 non-null int64\n",
      "KWALIFICATIENIVEAU    847075 non-null int64\n",
      "KWALIFICATIE CODE     847075 non-null int64\n",
      "KWALIFICATIE NAAM     847075 non-null object\n",
      "MBO SECTOR            847075 non-null object\n",
      "DOMEIN                847075 non-null object\n",
      "SECTORUNIT SBB        847075 non-null object\n",
      "GESLACHT              847075 non-null object\n",
      "Locatie               847075 non-null object\n",
      "Categorie             847075 non-null object\n",
      "Jaar                  847075 non-null object\n",
      "Aantal                847075 non-null int64\n",
      "dtypes: int64(5), object(8)\n",
      "memory usage: 84.0+ MB\n"
     ]
    }
   ],
   "source": [
    "dscMelt.info()"
   ]
  },
  {
   "cell_type": "markdown",
   "metadata": {},
   "source": [
    "# 2. Voorbeeld in Bokeh:\n",
    "\n",
    "Poging een voorbeeld te maken in Bokeh"
   ]
  },
  {
   "cell_type": "code",
   "execution_count": 49,
   "metadata": {},
   "outputs": [
    {
     "data": {
      "text/html": [
       "<div>\n",
       "<style scoped>\n",
       "    .dataframe tbody tr th:only-of-type {\n",
       "        vertical-align: middle;\n",
       "    }\n",
       "\n",
       "    .dataframe tbody tr th {\n",
       "        vertical-align: top;\n",
       "    }\n",
       "\n",
       "    .dataframe thead th {\n",
       "        text-align: right;\n",
       "    }\n",
       "</style>\n",
       "<table border=\"1\" class=\"dataframe\">\n",
       "  <thead>\n",
       "    <tr style=\"text-align: right;\">\n",
       "      <th></th>\n",
       "      <th></th>\n",
       "      <th>Aantal</th>\n",
       "    </tr>\n",
       "    <tr>\n",
       "      <th>SECTORUNIT SBB</th>\n",
       "      <th>Jaar</th>\n",
       "      <th></th>\n",
       "    </tr>\n",
       "  </thead>\n",
       "  <tbody>\n",
       "    <tr>\n",
       "      <th rowspan=\"5\" valign=\"top\">Bovensectoraal</th>\n",
       "      <th>2013</th>\n",
       "      <td>369</td>\n",
       "    </tr>\n",
       "    <tr>\n",
       "      <th>2014</th>\n",
       "      <td>517</td>\n",
       "    </tr>\n",
       "    <tr>\n",
       "      <th>2015</th>\n",
       "      <td>433</td>\n",
       "    </tr>\n",
       "    <tr>\n",
       "      <th>2016</th>\n",
       "      <td>306</td>\n",
       "    </tr>\n",
       "    <tr>\n",
       "      <th>2017</th>\n",
       "      <td>562</td>\n",
       "    </tr>\n",
       "  </tbody>\n",
       "</table>\n",
       "</div>"
      ],
      "text/plain": [
       "                     Aantal\n",
       "SECTORUNIT SBB Jaar        \n",
       "Bovensectoraal 2013     369\n",
       "               2014     517\n",
       "               2015     433\n",
       "               2016     306\n",
       "               2017     562"
      ]
     },
     "execution_count": 49,
     "metadata": {},
     "output_type": "execute_result"
    }
   ],
   "source": [
    "# maak document, met daarin grafiek. Hier zullen (uiteindelijk) meerdere grafieken moeten worden \n",
    "# weergegeven met meerdere opties.\n",
    "df = dscMelt.copy()\n",
    "\n",
    "# defineer variabelen voor grafiek\n",
    "df_totaalSBB = df.groupby(['SECTORUNIT SBB', 'Jaar'], as_index=False).sum()[['SECTORUNIT SBB', 'Jaar', 'Aantal']]\n",
    "df_totaalSBB.head()\n",
    "\n",
    "# maak document, met daarin grafiek. Hier zullen (uiteindelijk) meerdere grafieken moeten worden \n",
    "# weergegeven met meerdere opties.\n",
    "dx = dscMelt.copy()\n",
    "\n",
    "# defineer variabelen voor grafiek\n",
    "dx_totaalSBB = dx.groupby(['SECTORUNIT SBB', 'Jaar']).sum()[['Aantal']]\n",
    "dx_totaalSBB.head()"
   ]
  },
  {
   "cell_type": "code",
   "execution_count": 22,
   "metadata": {},
   "outputs": [
    {
     "name": "stdout",
     "output_type": "stream",
     "text": [
      "<class 'pandas.core.frame.DataFrame'>\n",
      "Int64Index: 45 entries, 0 to 44\n",
      "Data columns (total 3 columns):\n",
      "SECTORUNIT SBB    45 non-null object\n",
      "Jaar              45 non-null object\n",
      "Aantal            45 non-null int64\n",
      "dtypes: int64(1), object(2)\n",
      "memory usage: 1.4+ KB\n"
     ]
    }
   ],
   "source": [
    "df_totaalSBB.info()\n"
   ]
  },
  {
   "cell_type": "code",
   "execution_count": 23,
   "metadata": {},
   "outputs": [],
   "source": [
    "#Defineer brondata & kolommen\n",
    "source = ColumnDataSource(df_totaalSBB)\n",
    "original_source = ColumnDataSource(df_totaalSBB)\n",
    "columns = [\n",
    "   TableColumn(field=\"SECTORUNIT SBB\", title=\"Sector\"),\n",
    "   TableColumn(field=\"Jaar\", title=\"Jaar\"),\n",
    "   TableColumn(field=\"Aantal\", title=\"Aantal\"),\n",
    "]"
   ]
  },
  {
   "cell_type": "code",
   "execution_count": 50,
   "metadata": {},
   "outputs": [
    {
     "data": {
      "text/html": [
       "\n",
       "    <div class=\"bk-root\">\n",
       "        <a href=\"https://bokeh.pydata.org\" target=\"_blank\" class=\"bk-logo bk-logo-small bk-logo-notebook\"></a>\n",
       "        <span id=\"be402307-f3ef-4dc7-9d28-aeca8d56ff99\">Loading BokehJS ...</span>\n",
       "    </div>"
      ]
     },
     "metadata": {},
     "output_type": "display_data"
    },
    {
     "data": {
      "application/javascript": [
       "\n",
       "(function(root) {\n",
       "  function now() {\n",
       "    return new Date();\n",
       "  }\n",
       "\n",
       "  var force = true;\n",
       "\n",
       "  if (typeof (root._bokeh_onload_callbacks) === \"undefined\" || force === true) {\n",
       "    root._bokeh_onload_callbacks = [];\n",
       "    root._bokeh_is_loading = undefined;\n",
       "  }\n",
       "\n",
       "  var JS_MIME_TYPE = 'application/javascript';\n",
       "  var HTML_MIME_TYPE = 'text/html';\n",
       "  var EXEC_MIME_TYPE = 'application/vnd.bokehjs_exec.v0+json';\n",
       "  var CLASS_NAME = 'output_bokeh rendered_html';\n",
       "\n",
       "  /**\n",
       "   * Render data to the DOM node\n",
       "   */\n",
       "  function render(props, node) {\n",
       "    var script = document.createElement(\"script\");\n",
       "    node.appendChild(script);\n",
       "  }\n",
       "\n",
       "  /**\n",
       "   * Handle when an output is cleared or removed\n",
       "   */\n",
       "  function handleClearOutput(event, handle) {\n",
       "    var cell = handle.cell;\n",
       "\n",
       "    var id = cell.output_area._bokeh_element_id;\n",
       "    var server_id = cell.output_area._bokeh_server_id;\n",
       "    // Clean up Bokeh references\n",
       "    if (id !== undefined) {\n",
       "      Bokeh.index[id].model.document.clear();\n",
       "      delete Bokeh.index[id];\n",
       "    }\n",
       "\n",
       "    if (server_id !== undefined) {\n",
       "      // Clean up Bokeh references\n",
       "      var cmd = \"from bokeh.io.state import curstate; print(curstate().uuid_to_server['\" + server_id + \"'].get_sessions()[0].document.roots[0]._id)\";\n",
       "      cell.notebook.kernel.execute(cmd, {\n",
       "        iopub: {\n",
       "          output: function(msg) {\n",
       "            var element_id = msg.content.text.trim();\n",
       "            Bokeh.index[element_id].model.document.clear();\n",
       "            delete Bokeh.index[element_id];\n",
       "          }\n",
       "        }\n",
       "      });\n",
       "      // Destroy server and session\n",
       "      var cmd = \"import bokeh.io.notebook as ion; ion.destroy_server('\" + server_id + \"')\";\n",
       "      cell.notebook.kernel.execute(cmd);\n",
       "    }\n",
       "  }\n",
       "\n",
       "  /**\n",
       "   * Handle when a new output is added\n",
       "   */\n",
       "  function handleAddOutput(event, handle) {\n",
       "    var output_area = handle.output_area;\n",
       "    var output = handle.output;\n",
       "\n",
       "    // limit handleAddOutput to display_data with EXEC_MIME_TYPE content only\n",
       "    if ((output.output_type != \"display_data\") || (!output.data.hasOwnProperty(EXEC_MIME_TYPE))) {\n",
       "      return\n",
       "    }\n",
       "\n",
       "    var toinsert = output_area.element.find(\".\" + CLASS_NAME.split(' ')[0]);\n",
       "\n",
       "    if (output.metadata[EXEC_MIME_TYPE][\"id\"] !== undefined) {\n",
       "      toinsert[toinsert.length - 1].firstChild.textContent = output.data[JS_MIME_TYPE];\n",
       "      // store reference to embed id on output_area\n",
       "      output_area._bokeh_element_id = output.metadata[EXEC_MIME_TYPE][\"id\"];\n",
       "    }\n",
       "    if (output.metadata[EXEC_MIME_TYPE][\"server_id\"] !== undefined) {\n",
       "      var bk_div = document.createElement(\"div\");\n",
       "      bk_div.innerHTML = output.data[HTML_MIME_TYPE];\n",
       "      var script_attrs = bk_div.children[0].attributes;\n",
       "      for (var i = 0; i < script_attrs.length; i++) {\n",
       "        toinsert[toinsert.length - 1].firstChild.setAttribute(script_attrs[i].name, script_attrs[i].value);\n",
       "      }\n",
       "      // store reference to server id on output_area\n",
       "      output_area._bokeh_server_id = output.metadata[EXEC_MIME_TYPE][\"server_id\"];\n",
       "    }\n",
       "  }\n",
       "\n",
       "  function register_renderer(events, OutputArea) {\n",
       "\n",
       "    function append_mime(data, metadata, element) {\n",
       "      // create a DOM node to render to\n",
       "      var toinsert = this.create_output_subarea(\n",
       "        metadata,\n",
       "        CLASS_NAME,\n",
       "        EXEC_MIME_TYPE\n",
       "      );\n",
       "      this.keyboard_manager.register_events(toinsert);\n",
       "      // Render to node\n",
       "      var props = {data: data, metadata: metadata[EXEC_MIME_TYPE]};\n",
       "      render(props, toinsert[toinsert.length - 1]);\n",
       "      element.append(toinsert);\n",
       "      return toinsert\n",
       "    }\n",
       "\n",
       "    /* Handle when an output is cleared or removed */\n",
       "    events.on('clear_output.CodeCell', handleClearOutput);\n",
       "    events.on('delete.Cell', handleClearOutput);\n",
       "\n",
       "    /* Handle when a new output is added */\n",
       "    events.on('output_added.OutputArea', handleAddOutput);\n",
       "\n",
       "    /**\n",
       "     * Register the mime type and append_mime function with output_area\n",
       "     */\n",
       "    OutputArea.prototype.register_mime_type(EXEC_MIME_TYPE, append_mime, {\n",
       "      /* Is output safe? */\n",
       "      safe: true,\n",
       "      /* Index of renderer in `output_area.display_order` */\n",
       "      index: 0\n",
       "    });\n",
       "  }\n",
       "\n",
       "  // register the mime type if in Jupyter Notebook environment and previously unregistered\n",
       "  if (root.Jupyter !== undefined) {\n",
       "    var events = require('base/js/events');\n",
       "    var OutputArea = require('notebook/js/outputarea').OutputArea;\n",
       "\n",
       "    if (OutputArea.prototype.mime_types().indexOf(EXEC_MIME_TYPE) == -1) {\n",
       "      register_renderer(events, OutputArea);\n",
       "    }\n",
       "  }\n",
       "\n",
       "  \n",
       "  if (typeof (root._bokeh_timeout) === \"undefined\" || force === true) {\n",
       "    root._bokeh_timeout = Date.now() + 5000;\n",
       "    root._bokeh_failed_load = false;\n",
       "  }\n",
       "\n",
       "  var NB_LOAD_WARNING = {'data': {'text/html':\n",
       "     \"<div style='background-color: #fdd'>\\n\"+\n",
       "     \"<p>\\n\"+\n",
       "     \"BokehJS does not appear to have successfully loaded. If loading BokehJS from CDN, this \\n\"+\n",
       "     \"may be due to a slow or bad network connection. Possible fixes:\\n\"+\n",
       "     \"</p>\\n\"+\n",
       "     \"<ul>\\n\"+\n",
       "     \"<li>re-rerun `output_notebook()` to attempt to load from CDN again, or</li>\\n\"+\n",
       "     \"<li>use INLINE resources instead, as so:</li>\\n\"+\n",
       "     \"</ul>\\n\"+\n",
       "     \"<code>\\n\"+\n",
       "     \"from bokeh.resources import INLINE\\n\"+\n",
       "     \"output_notebook(resources=INLINE)\\n\"+\n",
       "     \"</code>\\n\"+\n",
       "     \"</div>\"}};\n",
       "\n",
       "  function display_loaded() {\n",
       "    var el = document.getElementById(\"be402307-f3ef-4dc7-9d28-aeca8d56ff99\");\n",
       "    if (el != null) {\n",
       "      el.textContent = \"BokehJS is loading...\";\n",
       "    }\n",
       "    if (root.Bokeh !== undefined) {\n",
       "      if (el != null) {\n",
       "        el.textContent = \"BokehJS \" + root.Bokeh.version + \" successfully loaded.\";\n",
       "      }\n",
       "    } else if (Date.now() < root._bokeh_timeout) {\n",
       "      setTimeout(display_loaded, 100)\n",
       "    }\n",
       "  }\n",
       "\n",
       "\n",
       "  function run_callbacks() {\n",
       "    try {\n",
       "      root._bokeh_onload_callbacks.forEach(function(callback) { callback() });\n",
       "    }\n",
       "    finally {\n",
       "      delete root._bokeh_onload_callbacks\n",
       "    }\n",
       "    console.info(\"Bokeh: all callbacks have finished\");\n",
       "  }\n",
       "\n",
       "  function load_libs(js_urls, callback) {\n",
       "    root._bokeh_onload_callbacks.push(callback);\n",
       "    if (root._bokeh_is_loading > 0) {\n",
       "      console.log(\"Bokeh: BokehJS is being loaded, scheduling callback at\", now());\n",
       "      return null;\n",
       "    }\n",
       "    if (js_urls == null || js_urls.length === 0) {\n",
       "      run_callbacks();\n",
       "      return null;\n",
       "    }\n",
       "    console.log(\"Bokeh: BokehJS not loaded, scheduling load and callback at\", now());\n",
       "    root._bokeh_is_loading = js_urls.length;\n",
       "    for (var i = 0; i < js_urls.length; i++) {\n",
       "      var url = js_urls[i];\n",
       "      var s = document.createElement('script');\n",
       "      s.src = url;\n",
       "      s.async = false;\n",
       "      s.onreadystatechange = s.onload = function() {\n",
       "        root._bokeh_is_loading--;\n",
       "        if (root._bokeh_is_loading === 0) {\n",
       "          console.log(\"Bokeh: all BokehJS libraries loaded\");\n",
       "          run_callbacks()\n",
       "        }\n",
       "      };\n",
       "      s.onerror = function() {\n",
       "        console.warn(\"failed to load library \" + url);\n",
       "      };\n",
       "      console.log(\"Bokeh: injecting script tag for BokehJS library: \", url);\n",
       "      document.getElementsByTagName(\"head\")[0].appendChild(s);\n",
       "    }\n",
       "  };var element = document.getElementById(\"be402307-f3ef-4dc7-9d28-aeca8d56ff99\");\n",
       "  if (element == null) {\n",
       "    console.log(\"Bokeh: ERROR: autoload.js configured with elementid 'be402307-f3ef-4dc7-9d28-aeca8d56ff99' but no matching script tag was found. \")\n",
       "    return false;\n",
       "  }\n",
       "\n",
       "  var js_urls = [\"https://cdn.pydata.org/bokeh/release/bokeh-0.12.16.min.js\", \"https://cdn.pydata.org/bokeh/release/bokeh-widgets-0.12.16.min.js\", \"https://cdn.pydata.org/bokeh/release/bokeh-tables-0.12.16.min.js\", \"https://cdn.pydata.org/bokeh/release/bokeh-gl-0.12.16.min.js\"];\n",
       "\n",
       "  var inline_js = [\n",
       "    function(Bokeh) {\n",
       "      Bokeh.set_log_level(\"info\");\n",
       "    },\n",
       "    \n",
       "    function(Bokeh) {\n",
       "      \n",
       "    },\n",
       "    function(Bokeh) {\n",
       "      console.log(\"Bokeh: injecting CSS: https://cdn.pydata.org/bokeh/release/bokeh-0.12.16.min.css\");\n",
       "      Bokeh.embed.inject_css(\"https://cdn.pydata.org/bokeh/release/bokeh-0.12.16.min.css\");\n",
       "      console.log(\"Bokeh: injecting CSS: https://cdn.pydata.org/bokeh/release/bokeh-widgets-0.12.16.min.css\");\n",
       "      Bokeh.embed.inject_css(\"https://cdn.pydata.org/bokeh/release/bokeh-widgets-0.12.16.min.css\");\n",
       "      console.log(\"Bokeh: injecting CSS: https://cdn.pydata.org/bokeh/release/bokeh-tables-0.12.16.min.css\");\n",
       "      Bokeh.embed.inject_css(\"https://cdn.pydata.org/bokeh/release/bokeh-tables-0.12.16.min.css\");\n",
       "    }\n",
       "  ];\n",
       "\n",
       "  function run_inline_js() {\n",
       "    \n",
       "    if ((root.Bokeh !== undefined) || (force === true)) {\n",
       "      for (var i = 0; i < inline_js.length; i++) {\n",
       "        inline_js[i].call(root, root.Bokeh);\n",
       "      }if (force === true) {\n",
       "        display_loaded();\n",
       "      }} else if (Date.now() < root._bokeh_timeout) {\n",
       "      setTimeout(run_inline_js, 100);\n",
       "    } else if (!root._bokeh_failed_load) {\n",
       "      console.log(\"Bokeh: BokehJS failed to load within specified timeout.\");\n",
       "      root._bokeh_failed_load = true;\n",
       "    } else if (force !== true) {\n",
       "      var cell = $(document.getElementById(\"be402307-f3ef-4dc7-9d28-aeca8d56ff99\")).parents('.cell').data().cell;\n",
       "      cell.output_area.append_execute_result(NB_LOAD_WARNING)\n",
       "    }\n",
       "\n",
       "  }\n",
       "\n",
       "  if (root._bokeh_is_loading === 0) {\n",
       "    console.log(\"Bokeh: BokehJS loaded, going straight to plotting\");\n",
       "    run_inline_js();\n",
       "  } else {\n",
       "    load_libs(js_urls, function() {\n",
       "      console.log(\"Bokeh: BokehJS plotting callback run at\", now());\n",
       "      run_inline_js();\n",
       "    });\n",
       "  }\n",
       "}(window));"
      ],
      "application/vnd.bokehjs_load.v0+json": "\n(function(root) {\n  function now() {\n    return new Date();\n  }\n\n  var force = true;\n\n  if (typeof (root._bokeh_onload_callbacks) === \"undefined\" || force === true) {\n    root._bokeh_onload_callbacks = [];\n    root._bokeh_is_loading = undefined;\n  }\n\n  \n\n  \n  if (typeof (root._bokeh_timeout) === \"undefined\" || force === true) {\n    root._bokeh_timeout = Date.now() + 5000;\n    root._bokeh_failed_load = false;\n  }\n\n  var NB_LOAD_WARNING = {'data': {'text/html':\n     \"<div style='background-color: #fdd'>\\n\"+\n     \"<p>\\n\"+\n     \"BokehJS does not appear to have successfully loaded. If loading BokehJS from CDN, this \\n\"+\n     \"may be due to a slow or bad network connection. Possible fixes:\\n\"+\n     \"</p>\\n\"+\n     \"<ul>\\n\"+\n     \"<li>re-rerun `output_notebook()` to attempt to load from CDN again, or</li>\\n\"+\n     \"<li>use INLINE resources instead, as so:</li>\\n\"+\n     \"</ul>\\n\"+\n     \"<code>\\n\"+\n     \"from bokeh.resources import INLINE\\n\"+\n     \"output_notebook(resources=INLINE)\\n\"+\n     \"</code>\\n\"+\n     \"</div>\"}};\n\n  function display_loaded() {\n    var el = document.getElementById(\"be402307-f3ef-4dc7-9d28-aeca8d56ff99\");\n    if (el != null) {\n      el.textContent = \"BokehJS is loading...\";\n    }\n    if (root.Bokeh !== undefined) {\n      if (el != null) {\n        el.textContent = \"BokehJS \" + root.Bokeh.version + \" successfully loaded.\";\n      }\n    } else if (Date.now() < root._bokeh_timeout) {\n      setTimeout(display_loaded, 100)\n    }\n  }\n\n\n  function run_callbacks() {\n    try {\n      root._bokeh_onload_callbacks.forEach(function(callback) { callback() });\n    }\n    finally {\n      delete root._bokeh_onload_callbacks\n    }\n    console.info(\"Bokeh: all callbacks have finished\");\n  }\n\n  function load_libs(js_urls, callback) {\n    root._bokeh_onload_callbacks.push(callback);\n    if (root._bokeh_is_loading > 0) {\n      console.log(\"Bokeh: BokehJS is being loaded, scheduling callback at\", now());\n      return null;\n    }\n    if (js_urls == null || js_urls.length === 0) {\n      run_callbacks();\n      return null;\n    }\n    console.log(\"Bokeh: BokehJS not loaded, scheduling load and callback at\", now());\n    root._bokeh_is_loading = js_urls.length;\n    for (var i = 0; i < js_urls.length; i++) {\n      var url = js_urls[i];\n      var s = document.createElement('script');\n      s.src = url;\n      s.async = false;\n      s.onreadystatechange = s.onload = function() {\n        root._bokeh_is_loading--;\n        if (root._bokeh_is_loading === 0) {\n          console.log(\"Bokeh: all BokehJS libraries loaded\");\n          run_callbacks()\n        }\n      };\n      s.onerror = function() {\n        console.warn(\"failed to load library \" + url);\n      };\n      console.log(\"Bokeh: injecting script tag for BokehJS library: \", url);\n      document.getElementsByTagName(\"head\")[0].appendChild(s);\n    }\n  };var element = document.getElementById(\"be402307-f3ef-4dc7-9d28-aeca8d56ff99\");\n  if (element == null) {\n    console.log(\"Bokeh: ERROR: autoload.js configured with elementid 'be402307-f3ef-4dc7-9d28-aeca8d56ff99' but no matching script tag was found. \")\n    return false;\n  }\n\n  var js_urls = [\"https://cdn.pydata.org/bokeh/release/bokeh-0.12.16.min.js\", \"https://cdn.pydata.org/bokeh/release/bokeh-widgets-0.12.16.min.js\", \"https://cdn.pydata.org/bokeh/release/bokeh-tables-0.12.16.min.js\", \"https://cdn.pydata.org/bokeh/release/bokeh-gl-0.12.16.min.js\"];\n\n  var inline_js = [\n    function(Bokeh) {\n      Bokeh.set_log_level(\"info\");\n    },\n    \n    function(Bokeh) {\n      \n    },\n    function(Bokeh) {\n      console.log(\"Bokeh: injecting CSS: https://cdn.pydata.org/bokeh/release/bokeh-0.12.16.min.css\");\n      Bokeh.embed.inject_css(\"https://cdn.pydata.org/bokeh/release/bokeh-0.12.16.min.css\");\n      console.log(\"Bokeh: injecting CSS: https://cdn.pydata.org/bokeh/release/bokeh-widgets-0.12.16.min.css\");\n      Bokeh.embed.inject_css(\"https://cdn.pydata.org/bokeh/release/bokeh-widgets-0.12.16.min.css\");\n      console.log(\"Bokeh: injecting CSS: https://cdn.pydata.org/bokeh/release/bokeh-tables-0.12.16.min.css\");\n      Bokeh.embed.inject_css(\"https://cdn.pydata.org/bokeh/release/bokeh-tables-0.12.16.min.css\");\n    }\n  ];\n\n  function run_inline_js() {\n    \n    if ((root.Bokeh !== undefined) || (force === true)) {\n      for (var i = 0; i < inline_js.length; i++) {\n        inline_js[i].call(root, root.Bokeh);\n      }if (force === true) {\n        display_loaded();\n      }} else if (Date.now() < root._bokeh_timeout) {\n      setTimeout(run_inline_js, 100);\n    } else if (!root._bokeh_failed_load) {\n      console.log(\"Bokeh: BokehJS failed to load within specified timeout.\");\n      root._bokeh_failed_load = true;\n    } else if (force !== true) {\n      var cell = $(document.getElementById(\"be402307-f3ef-4dc7-9d28-aeca8d56ff99\")).parents('.cell').data().cell;\n      cell.output_area.append_execute_result(NB_LOAD_WARNING)\n    }\n\n  }\n\n  if (root._bokeh_is_loading === 0) {\n    console.log(\"Bokeh: BokehJS loaded, going straight to plotting\");\n    run_inline_js();\n  } else {\n    load_libs(js_urls, function() {\n      console.log(\"Bokeh: BokehJS plotting callback run at\", now());\n      run_inline_js();\n    });\n  }\n}(window));"
     },
     "metadata": {},
     "output_type": "display_data"
    },
    {
     "data": {
      "text/html": [
       "\n",
       "<div class=\"bk-root\">\n",
       "    <div class=\"bk-plotdiv\" id=\"8e09f4b6-58a5-4daf-8782-e60cc24d1956\"></div>\n",
       "</div>"
      ]
     },
     "metadata": {},
     "output_type": "display_data"
    },
    {
     "data": {
      "application/javascript": [
       "(function(root) {\n",
       "  function embed_document(root) {\n",
       "    \n",
       "  var docs_json = {\"2dd83b56-308e-453d-8a49-3d45a99e42be\":{\"roots\":{\"references\":[{\"attributes\":{},\"id\":\"f9f5e580-b88b-400f-b54d-4d4f368a2253\",\"type\":\"StringEditor\"},{\"attributes\":{\"callback\":null,\"js_property_callbacks\":{\"change:value\":[{\"id\":\"d912a92f-5c88-4a4b-97a9-6f98b4faa82d\",\"type\":\"CustomJS\"}]},\"options\":[\"ALL\",\"Bovensectoraal\",\"Sectorunit creatieve industrie en ICT\",\"Sectorunit handel\",\"Sectorunit mobiliteit, transport, logistiek, maritiem\",\"Sectorunit specialistisch vakmanschap\",\"Sectorunit techniek en gebouwde omgeving\",\"Sectorunit voedsel, groen en gastvrijheid\",\"Sectorunit zakelijke dienstverlening en veiligheid\",\"Sectorunit zorg, welzijn en sport\"],\"title\":\"Sector:\",\"value\":\"ALL\"},\"id\":\"1e84ea06-f480-4c79-9161-40e920cbc500\",\"type\":\"Select\"},{\"attributes\":{\"editor\":{\"id\":\"38547e83-e647-4a92-8925-09a620ded450\",\"type\":\"StringEditor\"},\"field\":\"Jaar\",\"formatter\":{\"id\":\"382dbaeb-656b-4d17-806b-c29d591f5396\",\"type\":\"StringFormatter\"},\"title\":\"Jaar\"},\"id\":\"042122d6-a865-4b53-a80a-2e7d3579160f\",\"type\":\"TableColumn\"},{\"attributes\":{\"editor\":{\"id\":\"f9f5e580-b88b-400f-b54d-4d4f368a2253\",\"type\":\"StringEditor\"},\"field\":\"Aantal\",\"formatter\":{\"id\":\"154e9701-7b5e-4127-81eb-b4250014b20b\",\"type\":\"StringFormatter\"},\"title\":\"Aantal\"},\"id\":\"5acf56a2-5239-4763-9025-400fff7ea6a3\",\"type\":\"TableColumn\"},{\"attributes\":{\"callback\":null,\"data\":{\"Aantal\":[369,517,433,306,562,6856,7066,7667,8033,9663,5792,6105,6009,6134,6248,2383,2472,2677,2765,3027,463,573,568,596,649,6523,6176,6270,6310,6517,6892,7078,7720,7851,10070,9769,10178,10071,9482,9214,22036,22116,22298,20812,21885],\"Jaar\":[\"2013\",\"2014\",\"2015\",\"2016\",\"2017\",\"2013\",\"2014\",\"2015\",\"2016\",\"2017\",\"2013\",\"2014\",\"2015\",\"2016\",\"2017\",\"2013\",\"2014\",\"2015\",\"2016\",\"2017\",\"2013\",\"2014\",\"2015\",\"2016\",\"2017\",\"2013\",\"2014\",\"2015\",\"2016\",\"2017\",\"2013\",\"2014\",\"2015\",\"2016\",\"2017\",\"2013\",\"2014\",\"2015\",\"2016\",\"2017\",\"2013\",\"2014\",\"2015\",\"2016\",\"2017\"],\"SECTORUNIT SBB\":[\"Bovensectoraal\",\"Bovensectoraal\",\"Bovensectoraal\",\"Bovensectoraal\",\"Bovensectoraal\",\"Sectorunit creatieve industrie en ICT\",\"Sectorunit creatieve industrie en ICT\",\"Sectorunit creatieve industrie en ICT\",\"Sectorunit creatieve industrie en ICT\",\"Sectorunit creatieve industrie en ICT\",\"Sectorunit handel\",\"Sectorunit handel\",\"Sectorunit handel\",\"Sectorunit handel\",\"Sectorunit handel\",\"Sectorunit mobiliteit, transport, logistiek, maritiem\",\"Sectorunit mobiliteit, transport, logistiek, maritiem\",\"Sectorunit mobiliteit, transport, logistiek, maritiem\",\"Sectorunit mobiliteit, transport, logistiek, maritiem\",\"Sectorunit mobiliteit, transport, logistiek, maritiem\",\"Sectorunit specialistisch vakmanschap\",\"Sectorunit specialistisch vakmanschap\",\"Sectorunit specialistisch vakmanschap\",\"Sectorunit specialistisch vakmanschap\",\"Sectorunit specialistisch vakmanschap\",\"Sectorunit techniek en gebouwde omgeving\",\"Sectorunit techniek en gebouwde omgeving\",\"Sectorunit techniek en gebouwde omgeving\",\"Sectorunit techniek en gebouwde omgeving\",\"Sectorunit techniek en gebouwde omgeving\",\"Sectorunit voedsel, groen en gastvrijheid\",\"Sectorunit voedsel, groen en gastvrijheid\",\"Sectorunit voedsel, groen en gastvrijheid\",\"Sectorunit voedsel, groen en gastvrijheid\",\"Sectorunit voedsel, groen en gastvrijheid\",\"Sectorunit zakelijke dienstverlening en veiligheid\",\"Sectorunit zakelijke dienstverlening en veiligheid\",\"Sectorunit zakelijke dienstverlening en veiligheid\",\"Sectorunit zakelijke dienstverlening en veiligheid\",\"Sectorunit zakelijke dienstverlening en veiligheid\",\"Sectorunit zorg, welzijn en sport\",\"Sectorunit zorg, welzijn en sport\",\"Sectorunit zorg, welzijn en sport\",\"Sectorunit zorg, welzijn en sport\",\"Sectorunit zorg, welzijn en sport\"],\"index\":[0,1,2,3,4,5,6,7,8,9,10,11,12,13,14,15,16,17,18,19,20,21,22,23,24,25,26,27,28,29,30,31,32,33,34,35,36,37,38,39,40,41,42,43,44]},\"selected\":{\"id\":\"074b8f09-85b2-4256-98d5-eff917df9d51\",\"type\":\"Selection\"},\"selection_policy\":{\"id\":\"9c88147b-8abd-4ab2-914e-81623fbfc712\",\"type\":\"UnionRenderers\"}},\"id\":\"333b8a4c-e4d8-4ea6-a936-276beb062ba3\",\"type\":\"ColumnDataSource\"},{\"attributes\":{\"children\":[{\"id\":\"3be06b8d-e6de-45a4-992b-3d70600e0980\",\"type\":\"WidgetBox\"},{\"id\":\"9444fc90-db5f-4d8e-922c-dc90883b319f\",\"type\":\"WidgetBox\"},{\"id\":\"b4f8ba98-592d-410e-b81e-af6f06112aef\",\"type\":\"WidgetBox\"}]},\"id\":\"d68a1727-22ad-4231-92d9-5f7f65885a33\",\"type\":\"Column\"},{\"attributes\":{\"children\":[{\"id\":\"88f02f02-f974-4f26-9270-d06a84af89d9\",\"type\":\"DataTable\"}],\"height\":400},\"id\":\"b4f8ba98-592d-410e-b81e-af6f06112aef\",\"type\":\"WidgetBox\"},{\"attributes\":{\"children\":[{\"id\":\"08664809-53e1-4912-ac1b-1566bced6c8c\",\"type\":\"Select\"}]},\"id\":\"9444fc90-db5f-4d8e-922c-dc90883b319f\",\"type\":\"WidgetBox\"},{\"attributes\":{},\"id\":\"154e9701-7b5e-4127-81eb-b4250014b20b\",\"type\":\"StringFormatter\"},{\"attributes\":{\"callback\":null,\"data\":{\"Aantal\":[369,517,433,306,562,6856,7066,7667,8033,9663,5792,6105,6009,6134,6248,2383,2472,2677,2765,3027,463,573,568,596,649,6523,6176,6270,6310,6517,6892,7078,7720,7851,10070,9769,10178,10071,9482,9214,22036,22116,22298,20812,21885],\"Jaar\":[\"2013\",\"2014\",\"2015\",\"2016\",\"2017\",\"2013\",\"2014\",\"2015\",\"2016\",\"2017\",\"2013\",\"2014\",\"2015\",\"2016\",\"2017\",\"2013\",\"2014\",\"2015\",\"2016\",\"2017\",\"2013\",\"2014\",\"2015\",\"2016\",\"2017\",\"2013\",\"2014\",\"2015\",\"2016\",\"2017\",\"2013\",\"2014\",\"2015\",\"2016\",\"2017\",\"2013\",\"2014\",\"2015\",\"2016\",\"2017\",\"2013\",\"2014\",\"2015\",\"2016\",\"2017\"],\"SECTORUNIT SBB\":[\"Bovensectoraal\",\"Bovensectoraal\",\"Bovensectoraal\",\"Bovensectoraal\",\"Bovensectoraal\",\"Sectorunit creatieve industrie en ICT\",\"Sectorunit creatieve industrie en ICT\",\"Sectorunit creatieve industrie en ICT\",\"Sectorunit creatieve industrie en ICT\",\"Sectorunit creatieve industrie en ICT\",\"Sectorunit handel\",\"Sectorunit handel\",\"Sectorunit handel\",\"Sectorunit handel\",\"Sectorunit handel\",\"Sectorunit mobiliteit, transport, logistiek, maritiem\",\"Sectorunit mobiliteit, transport, logistiek, maritiem\",\"Sectorunit mobiliteit, transport, logistiek, maritiem\",\"Sectorunit mobiliteit, transport, logistiek, maritiem\",\"Sectorunit mobiliteit, transport, logistiek, maritiem\",\"Sectorunit specialistisch vakmanschap\",\"Sectorunit specialistisch vakmanschap\",\"Sectorunit specialistisch vakmanschap\",\"Sectorunit specialistisch vakmanschap\",\"Sectorunit specialistisch vakmanschap\",\"Sectorunit techniek en gebouwde omgeving\",\"Sectorunit techniek en gebouwde omgeving\",\"Sectorunit techniek en gebouwde omgeving\",\"Sectorunit techniek en gebouwde omgeving\",\"Sectorunit techniek en gebouwde omgeving\",\"Sectorunit voedsel, groen en gastvrijheid\",\"Sectorunit voedsel, groen en gastvrijheid\",\"Sectorunit voedsel, groen en gastvrijheid\",\"Sectorunit voedsel, groen en gastvrijheid\",\"Sectorunit voedsel, groen en gastvrijheid\",\"Sectorunit zakelijke dienstverlening en veiligheid\",\"Sectorunit zakelijke dienstverlening en veiligheid\",\"Sectorunit zakelijke dienstverlening en veiligheid\",\"Sectorunit zakelijke dienstverlening en veiligheid\",\"Sectorunit zakelijke dienstverlening en veiligheid\",\"Sectorunit zorg, welzijn en sport\",\"Sectorunit zorg, welzijn en sport\",\"Sectorunit zorg, welzijn en sport\",\"Sectorunit zorg, welzijn en sport\",\"Sectorunit zorg, welzijn en sport\"],\"index\":[0,1,2,3,4,5,6,7,8,9,10,11,12,13,14,15,16,17,18,19,20,21,22,23,24,25,26,27,28,29,30,31,32,33,34,35,36,37,38,39,40,41,42,43,44]},\"selected\":{\"id\":\"4dbac0bc-53c8-45fd-946f-fa08fe8bf15b\",\"type\":\"Selection\"},\"selection_policy\":{\"id\":\"78e792ae-7f8f-4c3e-9f71-21c0353e588c\",\"type\":\"UnionRenderers\"}},\"id\":\"de17900b-a440-41a7-b82c-2fd464cfb28a\",\"type\":\"ColumnDataSource\"},{\"attributes\":{},\"id\":\"074b8f09-85b2-4256-98d5-eff917df9d51\",\"type\":\"Selection\"},{\"attributes\":{\"args\":{\"jaar_select_obj\":{\"id\":\"08664809-53e1-4912-ac1b-1566bced6c8c\",\"type\":\"Select\"},\"original_source\":{\"id\":\"de17900b-a440-41a7-b82c-2fd464cfb28a\",\"type\":\"ColumnDataSource\"},\"sector_select_obj\":{\"id\":\"1e84ea06-f480-4c79-9161-40e920cbc500\",\"type\":\"Select\"},\"source\":{\"id\":\"333b8a4c-e4d8-4ea6-a936-276beb062ba3\",\"type\":\"ColumnDataSource\"},\"target_obj\":{\"id\":\"88f02f02-f974-4f26-9270-d06a84af89d9\",\"type\":\"DataTable\"}},\"code\":\"\\nvar data = source.data;\\nvar original_data = original_source.data;\\nvar sector = sector_select_obj.value;\\nconsole.log(\\\"sector: \\\" + sector);\\nvar jaar = jaar_select_obj.value;\\nconsole.log(\\\"jaar: \\\" + jaar);\\nfor (var key in original_data) {\\n    data[key] = [];\\n    for (var i = 0; i < original_data['SECTORUNIT SBB'].length; ++i) {\\n        if ((sector === \\\"ALL\\\" || original_data['SECTORUNIT SBB'][i] === sector) &&\\n            (jaar === \\\"ALL\\\" || original_data['Jaar'][i] === jaar)) {\\n            data[key].push(original_data[key][i]);\\n        }\\n    }\\n}\\ntarget_obj.change.emit();;\\nsource.change.emit();\\n\"},\"id\":\"d912a92f-5c88-4a4b-97a9-6f98b4faa82d\",\"type\":\"CustomJS\"},{\"attributes\":{},\"id\":\"38547e83-e647-4a92-8925-09a620ded450\",\"type\":\"StringEditor\"},{\"attributes\":{},\"id\":\"2a604fca-edf0-44c9-8ae5-42dbaedc8d1f\",\"type\":\"StringEditor\"},{\"attributes\":{\"children\":[{\"id\":\"1e84ea06-f480-4c79-9161-40e920cbc500\",\"type\":\"Select\"}]},\"id\":\"3be06b8d-e6de-45a4-992b-3d70600e0980\",\"type\":\"WidgetBox\"},{\"attributes\":{},\"id\":\"382dbaeb-656b-4d17-806b-c29d591f5396\",\"type\":\"StringFormatter\"},{\"attributes\":{},\"id\":\"4dbac0bc-53c8-45fd-946f-fa08fe8bf15b\",\"type\":\"Selection\"},{\"attributes\":{},\"id\":\"78e792ae-7f8f-4c3e-9f71-21c0353e588c\",\"type\":\"UnionRenderers\"},{\"attributes\":{\"editor\":{\"id\":\"2a604fca-edf0-44c9-8ae5-42dbaedc8d1f\",\"type\":\"StringEditor\"},\"field\":\"SECTORUNIT SBB\",\"formatter\":{\"id\":\"b96637e4-1db3-4d73-ad1f-48e9b9a26595\",\"type\":\"StringFormatter\"},\"title\":\"Sector\"},\"id\":\"94689c1c-0b3b-47d6-8f0b-5341c400ae27\",\"type\":\"TableColumn\"},{\"attributes\":{\"source\":{\"id\":\"333b8a4c-e4d8-4ea6-a936-276beb062ba3\",\"type\":\"ColumnDataSource\"}},\"id\":\"f0c79a9c-2c4c-4f8b-8d8e-d066e93164d3\",\"type\":\"CDSView\"},{\"attributes\":{\"columns\":[{\"id\":\"94689c1c-0b3b-47d6-8f0b-5341c400ae27\",\"type\":\"TableColumn\"},{\"id\":\"042122d6-a865-4b53-a80a-2e7d3579160f\",\"type\":\"TableColumn\"},{\"id\":\"5acf56a2-5239-4763-9025-400fff7ea6a3\",\"type\":\"TableColumn\"}],\"source\":{\"id\":\"333b8a4c-e4d8-4ea6-a936-276beb062ba3\",\"type\":\"ColumnDataSource\"},\"view\":{\"id\":\"f0c79a9c-2c4c-4f8b-8d8e-d066e93164d3\",\"type\":\"CDSView\"}},\"id\":\"88f02f02-f974-4f26-9270-d06a84af89d9\",\"type\":\"DataTable\"},{\"attributes\":{},\"id\":\"9c88147b-8abd-4ab2-914e-81623fbfc712\",\"type\":\"UnionRenderers\"},{\"attributes\":{},\"id\":\"b96637e4-1db3-4d73-ad1f-48e9b9a26595\",\"type\":\"StringFormatter\"},{\"attributes\":{\"callback\":null,\"js_property_callbacks\":{\"change:value\":[{\"id\":\"d912a92f-5c88-4a4b-97a9-6f98b4faa82d\",\"type\":\"CustomJS\"}]},\"options\":[\"ALL\",\"2013\",\"2014\",\"2015\",\"2016\",\"2017\"],\"title\":\"Jaar:\",\"value\":\"ALL\"},\"id\":\"08664809-53e1-4912-ac1b-1566bced6c8c\",\"type\":\"Select\"}],\"root_ids\":[\"d68a1727-22ad-4231-92d9-5f7f65885a33\"]},\"title\":\"Bokeh Application\",\"version\":\"0.12.16\"}};\n",
       "  var render_items = [{\"docid\":\"2dd83b56-308e-453d-8a49-3d45a99e42be\",\"elementid\":\"8e09f4b6-58a5-4daf-8782-e60cc24d1956\",\"modelid\":\"d68a1727-22ad-4231-92d9-5f7f65885a33\"}];\n",
       "  root.Bokeh.embed.embed_items_notebook(docs_json, render_items);\n",
       "\n",
       "  }\n",
       "  if (root.Bokeh !== undefined) {\n",
       "    embed_document(root);\n",
       "  } else {\n",
       "    var attempts = 0;\n",
       "    var timer = setInterval(function(root) {\n",
       "      if (root.Bokeh !== undefined) {\n",
       "        embed_document(root);\n",
       "        clearInterval(timer);\n",
       "      }\n",
       "      attempts++;\n",
       "      if (attempts > 100) {\n",
       "        console.log(\"Bokeh: ERROR: Unable to run BokehJS code because BokehJS library is missing\")\n",
       "        clearInterval(timer);\n",
       "      }\n",
       "    }, 10, root)\n",
       "  }\n",
       "})(window);"
      ],
      "application/vnd.bokehjs_exec.v0+json": ""
     },
     "metadata": {
      "application/vnd.bokehjs_exec.v0+json": {
       "id": "d68a1727-22ad-4231-92d9-5f7f65885a33"
      }
     },
     "output_type": "display_data"
    }
   ],
   "source": [
    "# Voorbeeld datatable output voor alle datatabellen.\n",
    "output_notebook()\n",
    "\n",
    "#Defineer brondata & kolommen\n",
    "source = ColumnDataSource(df_totaalSBB)\n",
    "original_source = ColumnDataSource(df_totaalSBB)\n",
    "columns = [\n",
    "   TableColumn(field=\"SECTORUNIT SBB\", title=\"Sector\"),\n",
    "   TableColumn(field=\"Jaar\", title=\"Jaar\"),\n",
    "   TableColumn(field=\"Aantal\", title=\"Aantal\"),\n",
    "]\n",
    "\n",
    "#maak data tabel\n",
    "data_table = DataTable(source=source, columns=columns)\n",
    "\n",
    "# callback code to be used by all the filter widgets\n",
    "combined_callback_code = \"\"\"\n",
    "var data = source.data;\n",
    "var original_data = original_source.data;\n",
    "var sector = sector_select_obj.value;\n",
    "console.log(\"sector: \" + sector);\n",
    "var jaar = jaar_select_obj.value;\n",
    "console.log(\"jaar: \" + jaar);\n",
    "for (var key in original_data) {\n",
    "    data[key] = [];\n",
    "    for (var i = 0; i < original_data['SECTORUNIT SBB'].length; ++i) {\n",
    "        if ((sector === \"ALL\" || original_data['SECTORUNIT SBB'][i] === sector) &&\n",
    "            (jaar === \"ALL\" || original_data['Jaar'][i] === jaar)) {\n",
    "            data[key].push(original_data[key][i]);\n",
    "        }\n",
    "    }\n",
    "}\n",
    "target_obj.change.emit();;\n",
    "source.change.emit();\n",
    "\"\"\"\n",
    "\n",
    "# define the filter widgets, without callbacks for now\n",
    "sector_list = ['ALL'] + df_totaalSBB['SECTORUNIT SBB'].unique().tolist()\n",
    "sector_select = Select(title=\"Sector:\", value=sector_list[0], options=sector_list)\n",
    "jaar_list = ['ALL'] + df_totaalSBB['Jaar'].unique().tolist()\n",
    "jaar_select = Select(title=\"Jaar:\", value=jaar_list[0], options=jaar_list)\n",
    "\n",
    "# now define the callback objects now that the filter widgets exist\n",
    "generic_callback = CustomJS(\n",
    "    args=dict(source=source, \n",
    "              original_source=original_source, \n",
    "              sector_select_obj=sector_select, \n",
    "              jaar_select_obj=jaar_select, \n",
    "              target_obj=data_table),\n",
    "    code=combined_callback_code\n",
    ")\n",
    "\n",
    "# finally, connect the callbacks to the filter widgets\n",
    "sector_select.js_on_change('value', generic_callback)\n",
    "jaar_select.js_on_change('value', generic_callback)\n",
    "\n",
    "\n",
    "#layout = row(p, jaren)\n",
    "p = column(sector_select,jaar_select,data_table)\n",
    "\n",
    "#doc.title = \"Sectorunit SBB chart test\"\n",
    "#doc.add_root(p)\n",
    "show(p)\n"
   ]
  },
  {
   "cell_type": "code",
   "execution_count": null,
   "metadata": {},
   "outputs": [],
   "source": []
  },
  {
   "cell_type": "code",
   "execution_count": 51,
   "metadata": {},
   "outputs": [
    {
     "data": {
      "text/html": [
       "\n",
       "<div class=\"bk-root\">\n",
       "    <div class=\"bk-plotdiv\" id=\"ea45acf1-23fd-47c7-aeec-59eb2299e1d8\"></div>\n",
       "</div>"
      ]
     },
     "metadata": {},
     "output_type": "display_data"
    },
    {
     "data": {
      "application/javascript": [
       "(function(root) {\n",
       "  function embed_document(root) {\n",
       "    \n",
       "  var docs_json = {\"8fde1f32-6ad7-4e5f-a983-7a5231869501\":{\"roots\":{\"references\":[{\"attributes\":{\"children\":[{\"id\":\"bd326faf-32e7-4566-95e0-b87c5ef31c85\",\"type\":\"DataTable\"}],\"height\":400},\"id\":\"478dd78c-54cd-4aa0-9837-19940223f898\",\"type\":\"WidgetBox\"},{\"attributes\":{\"active_drag\":\"auto\",\"active_inspect\":\"auto\",\"active_scroll\":\"auto\",\"active_tap\":\"auto\",\"tools\":[{\"id\":\"e9f004c3-105c-46c8-a553-61d5416a8304\",\"type\":\"PanTool\"},{\"id\":\"58581a2f-44de-4036-bcd3-937c47142ae1\",\"type\":\"WheelZoomTool\"},{\"id\":\"224b274c-8968-464a-91c2-a93d1fc01dc0\",\"type\":\"BoxZoomTool\"},{\"id\":\"f0ab9d55-c140-4847-86dc-3e2c5d5a26d7\",\"type\":\"SaveTool\"},{\"id\":\"8a334b89-e1ab-4b9d-bc65-ea74b08595d5\",\"type\":\"ResetTool\"},{\"id\":\"02b649d1-2291-4ad7-b797-866caea12667\",\"type\":\"HelpTool\"}]},\"id\":\"3fe589e6-b52a-4323-9f2e-f01859e3b7eb\",\"type\":\"Toolbar\"},{\"attributes\":{\"source\":{\"id\":\"ba6c133e-8e30-4398-8927-fe878d546d14\",\"type\":\"ColumnDataSource\"}},\"id\":\"7e806f26-b850-4401-a195-2ea76f6dcee0\",\"type\":\"CDSView\"},{\"attributes\":{\"args\":{\"jaar_select_obj\":{\"id\":\"a33da831-90c9-4e23-a962-1ffef3f9b613\",\"type\":\"Select\"},\"original_source\":{\"id\":\"643aa1af-a06d-407d-948e-e8a46057621b\",\"type\":\"ColumnDataSource\"},\"sector_select_obj\":{\"id\":\"2a90abc1-894a-4c9c-a75a-053a594f5823\",\"type\":\"Select\"},\"source\":{\"id\":\"a653753e-698f-48b5-b82b-73d97ca9dc41\",\"type\":\"ColumnDataSource\"},\"target_obj\":{\"id\":\"bd326faf-32e7-4566-95e0-b87c5ef31c85\",\"type\":\"DataTable\"}},\"code\":\"\\nvar data = source.data;\\nvar original_data = original_source.data;\\nvar sector = sector_select_obj.value;\\nconsole.log(\\\"sector: \\\" + sector);\\nvar jaar = jaar_select_obj.value;\\nconsole.log(\\\"jaar: \\\" + jaar);\\nfor (var key in original_data) {\\n    data[key] = [];\\n    for (var i = 0; i < original_data['SECTORUNIT SBB'].length; ++i) {\\n        if ((sector === \\\"ALL\\\" || original_data['SECTORUNIT SBB'][i] === sector) &&\\n            (jaar === \\\"ALL\\\" || original_data['Jaar'][i] === jaar)) {\\n            data[key].push(original_data[key][i]);\\n        }\\n    }\\n}\\ntarget_obj.change.emit();;\\nsource.change.emit();\\n\"},\"id\":\"64021d0f-f17c-40de-bfce-a9fdffc96092\",\"type\":\"CustomJS\"},{\"attributes\":{\"children\":[{\"id\":\"a33da831-90c9-4e23-a962-1ffef3f9b613\",\"type\":\"Select\"}]},\"id\":\"e1d6a1a0-5bb1-4f57-88fe-5918bd727771\",\"type\":\"WidgetBox\"},{\"attributes\":{\"editor\":{\"id\":\"f87c6cba-b3b4-47e1-b572-03724c9cb28e\",\"type\":\"StringEditor\"},\"field\":\"Jaar\",\"formatter\":{\"id\":\"7b72dc30-621f-4af1-a642-27c86282b44c\",\"type\":\"StringFormatter\"},\"title\":\"Jaar\"},\"id\":\"04413a1e-8113-48b7-84d1-7098f331ef55\",\"type\":\"TableColumn\"},{\"attributes\":{},\"id\":\"98026a00-d953-43a8-abfd-018062796380\",\"type\":\"UnionRenderers\"},{\"attributes\":{\"fields\":[\"2013\",\"2014\"]},\"id\":\"672bbf16-ad76-4e07-aa48-fb8d3b17d5b9\",\"type\":\"Stack\"},{\"attributes\":{},\"id\":\"907ad810-adca-4d91-a029-f99c514aa32f\",\"type\":\"Selection\"},{\"attributes\":{\"fields\":[\"2013\",\"2014\",\"2015\",\"2016\",\"2017\"]},\"id\":\"859767dc-09af-44b0-b29a-6379cd046955\",\"type\":\"Stack\"},{\"attributes\":{},\"id\":\"39a0b3cc-bbc8-452a-b99f-2f2af4a3eb8b\",\"type\":\"StringEditor\"},{\"attributes\":{\"data_source\":{\"id\":\"ba6c133e-8e30-4398-8927-fe878d546d14\",\"type\":\"ColumnDataSource\"},\"glyph\":{\"id\":\"8d26898c-490d-47af-bc96-3a5e1acb10e4\",\"type\":\"VBar\"},\"hover_glyph\":null,\"muted_glyph\":null,\"nonselection_glyph\":{\"id\":\"89b9e8cd-2279-4ca5-a365-b230f11fc307\",\"type\":\"VBar\"},\"selection_glyph\":null,\"view\":{\"id\":\"e5dc680d-0688-4230-a259-2215081f14e5\",\"type\":\"CDSView\"}},\"id\":\"be40e32d-4ef1-4403-9ee6-36669585d453\",\"type\":\"GlyphRenderer\"},{\"attributes\":{},\"id\":\"14a07633-2700-4b5c-bca2-7000c9f185c4\",\"type\":\"BasicTicker\"},{\"attributes\":{},\"id\":\"838e1564-9c5a-4a91-bab7-ec51b4383ce0\",\"type\":\"CategoricalScale\"},{\"attributes\":{\"editor\":{\"id\":\"c849ac51-b547-45cc-9b66-dfd513cbec0a\",\"type\":\"StringEditor\"},\"field\":\"SECTORUNIT SBB\",\"formatter\":{\"id\":\"1e4afa71-d615-446e-9339-af7a7d2d5221\",\"type\":\"StringFormatter\"},\"title\":\"Sector\"},\"id\":\"cae1138f-bd8d-4546-a6c2-10e16fc3c5c7\",\"type\":\"TableColumn\"},{\"attributes\":{\"label\":{\"field\":\"2013\"},\"renderers\":[{\"id\":\"be40e32d-4ef1-4403-9ee6-36669585d453\",\"type\":\"GlyphRenderer\"}]},\"id\":\"52b15e6e-234c-4209-9e5f-58e3928d0f44\",\"type\":\"LegendItem\"},{\"attributes\":{\"bottom\":{\"expr\":{\"id\":\"a4e743f8-3874-4640-a922-92eea440365d\",\"type\":\"Stack\"}},\"fill_color\":{\"value\":\"#2171b5\"},\"line_color\":{\"value\":\"#2171b5\"},\"top\":{\"expr\":{\"id\":\"32c915b6-683f-4a71-97fa-4c8c3331fd63\",\"type\":\"Stack\"}},\"width\":{\"value\":0.8},\"x\":{\"field\":\"sectoren\"}},\"id\":\"e79ac44d-9ef0-4361-ae97-2df1cb62463b\",\"type\":\"VBar\"},{\"attributes\":{},\"id\":\"02a3f6ba-b0cb-4323-a32c-10c44fe648a4\",\"type\":\"Selection\"},{\"attributes\":{\"bottom\":{\"expr\":{\"id\":\"fe1721d3-5dcd-454b-afcd-4a16e0eab918\",\"type\":\"Stack\"}},\"fill_alpha\":{\"value\":0.1},\"fill_color\":{\"value\":\"#1f77b4\"},\"line_alpha\":{\"value\":0.1},\"line_color\":{\"value\":\"#1f77b4\"},\"top\":{\"expr\":{\"id\":\"9763e59d-9850-46f7-81c1-90d93c743c28\",\"type\":\"Stack\"}},\"width\":{\"value\":0.8},\"x\":{\"field\":\"sectoren\"}},\"id\":\"66e4c8b4-ecf2-4e66-b395-004a08fe22f3\",\"type\":\"VBar\"},{\"attributes\":{\"bottom\":{\"expr\":{\"id\":\"672bbf16-ad76-4e07-aa48-fb8d3b17d5b9\",\"type\":\"Stack\"}},\"fill_color\":{\"value\":\"#4292c6\"},\"line_color\":{\"value\":\"#4292c6\"},\"top\":{\"expr\":{\"id\":\"dc9f8c46-a50c-484b-93c3-dec1dc0bf992\",\"type\":\"Stack\"}},\"width\":{\"value\":0.8},\"x\":{\"field\":\"sectoren\"}},\"id\":\"d51b6683-ea37-47dd-9954-4f89adb76d6c\",\"type\":\"VBar\"},{\"attributes\":{\"use_scientific\":false},\"id\":\"1eca154a-7b48-44f1-b99a-c117831a0c3a\",\"type\":\"BasicTickFormatter\"},{\"attributes\":{\"grid_line_color\":{\"value\":null},\"plot\":{\"id\":\"6b18d404-672a-4069-849e-0f06bbd1f6cc\",\"subtype\":\"Figure\",\"type\":\"Plot\"},\"ticker\":{\"id\":\"227723a8-5aeb-415b-bf10-7fced3d0a489\",\"type\":\"CategoricalTicker\"}},\"id\":\"e05e948b-8e9c-47f9-8220-79b1ce42e8ac\",\"type\":\"Grid\"},{\"attributes\":{\"source\":{\"id\":\"a653753e-698f-48b5-b82b-73d97ca9dc41\",\"type\":\"ColumnDataSource\"}},\"id\":\"f2608030-7324-4115-ae9a-4b130f469064\",\"type\":\"CDSView\"},{\"attributes\":{\"source\":{\"id\":\"ba6c133e-8e30-4398-8927-fe878d546d14\",\"type\":\"ColumnDataSource\"}},\"id\":\"e5dc680d-0688-4230-a259-2215081f14e5\",\"type\":\"CDSView\"},{\"attributes\":{\"bottom\":{\"expr\":{\"id\":\"a4e743f8-3874-4640-a922-92eea440365d\",\"type\":\"Stack\"}},\"fill_alpha\":{\"value\":0.1},\"fill_color\":{\"value\":\"#1f77b4\"},\"line_alpha\":{\"value\":0.1},\"line_color\":{\"value\":\"#1f77b4\"},\"top\":{\"expr\":{\"id\":\"32c915b6-683f-4a71-97fa-4c8c3331fd63\",\"type\":\"Stack\"}},\"width\":{\"value\":0.8},\"x\":{\"field\":\"sectoren\"}},\"id\":\"e36b6bbe-816a-46f4-9c9f-f415d31d501e\",\"type\":\"VBar\"},{\"attributes\":{\"callback\":null,\"data\":{\"Aantal\":[369,517,433,306,562,6856,7066,7667,8033,9663,5792,6105,6009,6134,6248,2383,2472,2677,2765,3027,463,573,568,596,649,6523,6176,6270,6310,6517,6892,7078,7720,7851,10070,9769,10178,10071,9482,9214,22036,22116,22298,20812,21885],\"Jaar\":[\"2013\",\"2014\",\"2015\",\"2016\",\"2017\",\"2013\",\"2014\",\"2015\",\"2016\",\"2017\",\"2013\",\"2014\",\"2015\",\"2016\",\"2017\",\"2013\",\"2014\",\"2015\",\"2016\",\"2017\",\"2013\",\"2014\",\"2015\",\"2016\",\"2017\",\"2013\",\"2014\",\"2015\",\"2016\",\"2017\",\"2013\",\"2014\",\"2015\",\"2016\",\"2017\",\"2013\",\"2014\",\"2015\",\"2016\",\"2017\",\"2013\",\"2014\",\"2015\",\"2016\",\"2017\"],\"SECTORUNIT SBB\":[\"Bovensectoraal\",\"Bovensectoraal\",\"Bovensectoraal\",\"Bovensectoraal\",\"Bovensectoraal\",\"Sectorunit creatieve industrie en ICT\",\"Sectorunit creatieve industrie en ICT\",\"Sectorunit creatieve industrie en ICT\",\"Sectorunit creatieve industrie en ICT\",\"Sectorunit creatieve industrie en ICT\",\"Sectorunit handel\",\"Sectorunit handel\",\"Sectorunit handel\",\"Sectorunit handel\",\"Sectorunit handel\",\"Sectorunit mobiliteit, transport, logistiek, maritiem\",\"Sectorunit mobiliteit, transport, logistiek, maritiem\",\"Sectorunit mobiliteit, transport, logistiek, maritiem\",\"Sectorunit mobiliteit, transport, logistiek, maritiem\",\"Sectorunit mobiliteit, transport, logistiek, maritiem\",\"Sectorunit specialistisch vakmanschap\",\"Sectorunit specialistisch vakmanschap\",\"Sectorunit specialistisch vakmanschap\",\"Sectorunit specialistisch vakmanschap\",\"Sectorunit specialistisch vakmanschap\",\"Sectorunit techniek en gebouwde omgeving\",\"Sectorunit techniek en gebouwde omgeving\",\"Sectorunit techniek en gebouwde omgeving\",\"Sectorunit techniek en gebouwde omgeving\",\"Sectorunit techniek en gebouwde omgeving\",\"Sectorunit voedsel, groen en gastvrijheid\",\"Sectorunit voedsel, groen en gastvrijheid\",\"Sectorunit voedsel, groen en gastvrijheid\",\"Sectorunit voedsel, groen en gastvrijheid\",\"Sectorunit voedsel, groen en gastvrijheid\",\"Sectorunit zakelijke dienstverlening en veiligheid\",\"Sectorunit zakelijke dienstverlening en veiligheid\",\"Sectorunit zakelijke dienstverlening en veiligheid\",\"Sectorunit zakelijke dienstverlening en veiligheid\",\"Sectorunit zakelijke dienstverlening en veiligheid\",\"Sectorunit zorg, welzijn en sport\",\"Sectorunit zorg, welzijn en sport\",\"Sectorunit zorg, welzijn en sport\",\"Sectorunit zorg, welzijn en sport\",\"Sectorunit zorg, welzijn en sport\"],\"index\":[0,1,2,3,4,5,6,7,8,9,10,11,12,13,14,15,16,17,18,19,20,21,22,23,24,25,26,27,28,29,30,31,32,33,34,35,36,37,38,39,40,41,42,43,44]},\"selected\":{\"id\":\"f627b1f3-b108-485f-9935-235906c07c81\",\"type\":\"Selection\"},\"selection_policy\":{\"id\":\"98026a00-d953-43a8-abfd-018062796380\",\"type\":\"UnionRenderers\"}},\"id\":\"643aa1af-a06d-407d-948e-e8a46057621b\",\"type\":\"ColumnDataSource\"},{\"attributes\":{\"label\":{\"field\":\"2017\"},\"renderers\":[{\"id\":\"4766f17b-142d-4cdc-809b-f02804d47fe8\",\"type\":\"GlyphRenderer\"}]},\"id\":\"3204b10b-7911-4910-9c48-ea424e702a1a\",\"type\":\"LegendItem\"},{\"attributes\":{\"bottom\":{\"expr\":{\"id\":\"f885a57b-29c0-437c-858d-27d65ec208c5\",\"type\":\"Stack\"}},\"fill_color\":{\"value\":\"#9ecae1\"},\"line_color\":{\"value\":\"#9ecae1\"},\"top\":{\"expr\":{\"id\":\"859767dc-09af-44b0-b29a-6379cd046955\",\"type\":\"Stack\"}},\"width\":{\"value\":0.8},\"x\":{\"field\":\"sectoren\"}},\"id\":\"3d7f2368-62a4-463c-8061-00a75befb725\",\"type\":\"VBar\"},{\"attributes\":{\"fields\":[\"2013\"]},\"id\":\"3b93563c-44e9-4bae-8261-fbd3ed8f95e2\",\"type\":\"Stack\"},{\"attributes\":{\"columns\":[{\"id\":\"cae1138f-bd8d-4546-a6c2-10e16fc3c5c7\",\"type\":\"TableColumn\"},{\"id\":\"04413a1e-8113-48b7-84d1-7098f331ef55\",\"type\":\"TableColumn\"},{\"id\":\"42592272-9437-4265-813d-fdeca4684049\",\"type\":\"TableColumn\"}],\"source\":{\"id\":\"a653753e-698f-48b5-b82b-73d97ca9dc41\",\"type\":\"ColumnDataSource\"},\"view\":{\"id\":\"f2608030-7324-4115-ae9a-4b130f469064\",\"type\":\"CDSView\"}},\"id\":\"bd326faf-32e7-4566-95e0-b87c5ef31c85\",\"type\":\"DataTable\"},{\"attributes\":{\"below\":[{\"id\":\"14daaf86-b657-4007-9bba-86e7a72f9d05\",\"type\":\"CategoricalAxis\"}],\"left\":[{\"id\":\"4f769793-21a2-49fe-992d-60caa286b1cf\",\"type\":\"LinearAxis\"}],\"plot_height\":800,\"renderers\":[{\"id\":\"14daaf86-b657-4007-9bba-86e7a72f9d05\",\"type\":\"CategoricalAxis\"},{\"id\":\"e05e948b-8e9c-47f9-8220-79b1ce42e8ac\",\"type\":\"Grid\"},{\"id\":\"4f769793-21a2-49fe-992d-60caa286b1cf\",\"type\":\"LinearAxis\"},{\"id\":\"fd54094e-545e-425f-b9e9-b0e2eae303f1\",\"type\":\"Grid\"},{\"id\":\"44aba160-d5db-4c6c-8d49-d9a26574d56b\",\"type\":\"BoxAnnotation\"},{\"id\":\"588cbee3-61e4-4db6-89e7-58499d26cf3b\",\"type\":\"Legend\"},{\"id\":\"be40e32d-4ef1-4403-9ee6-36669585d453\",\"type\":\"GlyphRenderer\"},{\"id\":\"94971e1b-e8ee-47d6-8fe3-e7d78c01149b\",\"type\":\"GlyphRenderer\"},{\"id\":\"a14ccac5-9f57-4ae9-874f-266c28666e0e\",\"type\":\"GlyphRenderer\"},{\"id\":\"bc856e28-3063-4b61-8673-899fc5292cef\",\"type\":\"GlyphRenderer\"},{\"id\":\"4766f17b-142d-4cdc-809b-f02804d47fe8\",\"type\":\"GlyphRenderer\"}],\"title\":{\"id\":\"4a888f6e-8240-4bff-add7-d864f0c569f0\",\"type\":\"Title\"},\"toolbar\":{\"id\":\"3fe589e6-b52a-4323-9f2e-f01859e3b7eb\",\"type\":\"Toolbar\"},\"width\":900,\"x_range\":{\"id\":\"bb4779ea-0f95-4a5d-96a5-a738ebbec910\",\"type\":\"FactorRange\"},\"x_scale\":{\"id\":\"838e1564-9c5a-4a91-bab7-ec51b4383ce0\",\"type\":\"CategoricalScale\"},\"y_range\":{\"id\":\"157c500e-abc3-4d84-9d12-2fe00117ab09\",\"type\":\"DataRange1d\"},\"y_scale\":{\"id\":\"33706f10-9258-4d2c-8648-7dae2a15a0b2\",\"type\":\"LinearScale\"}},\"id\":\"6b18d404-672a-4069-849e-0f06bbd1f6cc\",\"subtype\":\"Figure\",\"type\":\"Plot\"},{\"attributes\":{\"data_source\":{\"id\":\"ba6c133e-8e30-4398-8927-fe878d546d14\",\"type\":\"ColumnDataSource\"},\"glyph\":{\"id\":\"3d7f2368-62a4-463c-8061-00a75befb725\",\"type\":\"VBar\"},\"hover_glyph\":null,\"muted_glyph\":null,\"nonselection_glyph\":{\"id\":\"37c942f4-8573-4860-95c7-91d694dfd680\",\"type\":\"VBar\"},\"selection_glyph\":null,\"view\":{\"id\":\"7e806f26-b850-4401-a195-2ea76f6dcee0\",\"type\":\"CDSView\"}},\"id\":\"4766f17b-142d-4cdc-809b-f02804d47fe8\",\"type\":\"GlyphRenderer\"},{\"attributes\":{\"fields\":[\"2013\",\"2014\",\"2015\"]},\"id\":\"dc9f8c46-a50c-484b-93c3-dec1dc0bf992\",\"type\":\"Stack\"},{\"attributes\":{\"data_source\":{\"id\":\"ba6c133e-8e30-4398-8927-fe878d546d14\",\"type\":\"ColumnDataSource\"},\"glyph\":{\"id\":\"d51b6683-ea37-47dd-9954-4f89adb76d6c\",\"type\":\"VBar\"},\"hover_glyph\":null,\"muted_glyph\":null,\"nonselection_glyph\":{\"id\":\"cf6272bc-4e0d-4839-aaec-f940ed45b133\",\"type\":\"VBar\"},\"selection_glyph\":null,\"view\":{\"id\":\"66278fac-0b9a-4ea8-9b47-d2b456008f9d\",\"type\":\"CDSView\"}},\"id\":\"a14ccac5-9f57-4ae9-874f-266c28666e0e\",\"type\":\"GlyphRenderer\"},{\"attributes\":{\"bottom\":{\"expr\":{\"id\":\"fe1721d3-5dcd-454b-afcd-4a16e0eab918\",\"type\":\"Stack\"}},\"fill_color\":{\"value\":\"#6baed6\"},\"line_color\":{\"value\":\"#6baed6\"},\"top\":{\"expr\":{\"id\":\"9763e59d-9850-46f7-81c1-90d93c743c28\",\"type\":\"Stack\"}},\"width\":{\"value\":0.8},\"x\":{\"field\":\"sectoren\"}},\"id\":\"e5b542e7-7ac7-4ae7-84ec-b00a27b76fe7\",\"type\":\"VBar\"},{\"attributes\":{},\"id\":\"4b56fa07-df2a-402c-8c73-e72690790f63\",\"type\":\"StringFormatter\"},{\"attributes\":{\"callback\":null,\"start\":0},\"id\":\"157c500e-abc3-4d84-9d12-2fe00117ab09\",\"type\":\"DataRange1d\"},{\"attributes\":{\"label\":{\"field\":\"2016\"},\"renderers\":[{\"id\":\"bc856e28-3063-4b61-8673-899fc5292cef\",\"type\":\"GlyphRenderer\"}]},\"id\":\"af80896f-3506-41be-837f-aaccc19a09e0\",\"type\":\"LegendItem\"},{\"attributes\":{\"fields\":[\"2013\",\"2014\",\"2015\"]},\"id\":\"fe1721d3-5dcd-454b-afcd-4a16e0eab918\",\"type\":\"Stack\"},{\"attributes\":{\"dimension\":1,\"plot\":{\"id\":\"6b18d404-672a-4069-849e-0f06bbd1f6cc\",\"subtype\":\"Figure\",\"type\":\"Plot\"},\"ticker\":{\"id\":\"14a07633-2700-4b5c-bca2-7000c9f185c4\",\"type\":\"BasicTicker\"}},\"id\":\"fd54094e-545e-425f-b9e9-b0e2eae303f1\",\"type\":\"Grid\"},{\"attributes\":{\"formatter\":{\"id\":\"ad48d539-9f44-4e37-8a36-a905122110d0\",\"type\":\"CategoricalTickFormatter\"},\"major_label_orientation\":\"vertical\",\"plot\":{\"id\":\"6b18d404-672a-4069-849e-0f06bbd1f6cc\",\"subtype\":\"Figure\",\"type\":\"Plot\"},\"ticker\":{\"id\":\"227723a8-5aeb-415b-bf10-7fced3d0a489\",\"type\":\"CategoricalTicker\"}},\"id\":\"14daaf86-b657-4007-9bba-86e7a72f9d05\",\"type\":\"CategoricalAxis\"},{\"attributes\":{\"callback\":null,\"js_property_callbacks\":{\"change:value\":[{\"id\":\"64021d0f-f17c-40de-bfce-a9fdffc96092\",\"type\":\"CustomJS\"}]},\"options\":[\"ALL\",\"Bovensectoraal\",\"Sectorunit creatieve industrie en ICT\",\"Sectorunit handel\",\"Sectorunit mobiliteit, transport, logistiek, maritiem\",\"Sectorunit specialistisch vakmanschap\",\"Sectorunit techniek en gebouwde omgeving\",\"Sectorunit voedsel, groen en gastvrijheid\",\"Sectorunit zakelijke dienstverlening en veiligheid\",\"Sectorunit zorg, welzijn en sport\"],\"title\":\"Sector:\",\"value\":\"ALL\"},\"id\":\"2a90abc1-894a-4c9c-a75a-053a594f5823\",\"type\":\"Select\"},{\"attributes\":{},\"id\":\"e9f004c3-105c-46c8-a553-61d5416a8304\",\"type\":\"PanTool\"},{\"attributes\":{\"source\":{\"id\":\"ba6c133e-8e30-4398-8927-fe878d546d14\",\"type\":\"ColumnDataSource\"}},\"id\":\"085fb619-8611-48d2-961d-fe94f7550a94\",\"type\":\"CDSView\"},{\"attributes\":{},\"id\":\"f627b1f3-b108-485f-9935-235906c07c81\",\"type\":\"Selection\"},{\"attributes\":{\"formatter\":{\"id\":\"1eca154a-7b48-44f1-b99a-c117831a0c3a\",\"type\":\"BasicTickFormatter\"},\"plot\":{\"id\":\"6b18d404-672a-4069-849e-0f06bbd1f6cc\",\"subtype\":\"Figure\",\"type\":\"Plot\"},\"ticker\":{\"id\":\"14a07633-2700-4b5c-bca2-7000c9f185c4\",\"type\":\"BasicTicker\"}},\"id\":\"4f769793-21a2-49fe-992d-60caa286b1cf\",\"type\":\"LinearAxis\"},{\"attributes\":{\"data_source\":{\"id\":\"ba6c133e-8e30-4398-8927-fe878d546d14\",\"type\":\"ColumnDataSource\"},\"glyph\":{\"id\":\"e79ac44d-9ef0-4361-ae97-2df1cb62463b\",\"type\":\"VBar\"},\"hover_glyph\":null,\"muted_glyph\":null,\"nonselection_glyph\":{\"id\":\"e36b6bbe-816a-46f4-9c9f-f415d31d501e\",\"type\":\"VBar\"},\"selection_glyph\":null,\"view\":{\"id\":\"085fb619-8611-48d2-961d-fe94f7550a94\",\"type\":\"CDSView\"}},\"id\":\"94971e1b-e8ee-47d6-8fe3-e7d78c01149b\",\"type\":\"GlyphRenderer\"},{\"attributes\":{\"callback\":null,\"factors\":[\"Bovensectoraal\",\"Sectorunit creatieve industrie en ICT\",\"Sectorunit handel\",\"Sectorunit mobiliteit, transport, logistiek, maritiem\",\"Sectorunit specialistisch vakmanschap\",\"Sectorunit techniek en gebouwde omgeving\",\"Sectorunit voedsel, groen en gastvrijheid\",\"Sectorunit zakelijke dienstverlening en veiligheid\",\"Sectorunit zorg, welzijn en sport\"],\"range_padding\":0.1},\"id\":\"bb4779ea-0f95-4a5d-96a5-a738ebbec910\",\"type\":\"FactorRange\"},{\"attributes\":{\"callback\":null,\"js_property_callbacks\":{\"change:value\":[{\"id\":\"64021d0f-f17c-40de-bfce-a9fdffc96092\",\"type\":\"CustomJS\"}]},\"options\":[\"ALL\",\"2013\",\"2014\",\"2015\",\"2016\",\"2017\"],\"title\":\"Jaar:\",\"value\":\"ALL\"},\"id\":\"a33da831-90c9-4e23-a962-1ffef3f9b613\",\"type\":\"Select\"},{\"attributes\":{\"overlay\":{\"id\":\"44aba160-d5db-4c6c-8d49-d9a26574d56b\",\"type\":\"BoxAnnotation\"}},\"id\":\"224b274c-8968-464a-91c2-a93d1fc01dc0\",\"type\":\"BoxZoomTool\"},{\"attributes\":{\"callback\":null,\"data\":{\"Aantal\":[369,517,433,306,562,6856,7066,7667,8033,9663,5792,6105,6009,6134,6248,2383,2472,2677,2765,3027,463,573,568,596,649,6523,6176,6270,6310,6517,6892,7078,7720,7851,10070,9769,10178,10071,9482,9214,22036,22116,22298,20812,21885],\"Jaar\":[\"2013\",\"2014\",\"2015\",\"2016\",\"2017\",\"2013\",\"2014\",\"2015\",\"2016\",\"2017\",\"2013\",\"2014\",\"2015\",\"2016\",\"2017\",\"2013\",\"2014\",\"2015\",\"2016\",\"2017\",\"2013\",\"2014\",\"2015\",\"2016\",\"2017\",\"2013\",\"2014\",\"2015\",\"2016\",\"2017\",\"2013\",\"2014\",\"2015\",\"2016\",\"2017\",\"2013\",\"2014\",\"2015\",\"2016\",\"2017\",\"2013\",\"2014\",\"2015\",\"2016\",\"2017\"],\"SECTORUNIT SBB\":[\"Bovensectoraal\",\"Bovensectoraal\",\"Bovensectoraal\",\"Bovensectoraal\",\"Bovensectoraal\",\"Sectorunit creatieve industrie en ICT\",\"Sectorunit creatieve industrie en ICT\",\"Sectorunit creatieve industrie en ICT\",\"Sectorunit creatieve industrie en ICT\",\"Sectorunit creatieve industrie en ICT\",\"Sectorunit handel\",\"Sectorunit handel\",\"Sectorunit handel\",\"Sectorunit handel\",\"Sectorunit handel\",\"Sectorunit mobiliteit, transport, logistiek, maritiem\",\"Sectorunit mobiliteit, transport, logistiek, maritiem\",\"Sectorunit mobiliteit, transport, logistiek, maritiem\",\"Sectorunit mobiliteit, transport, logistiek, maritiem\",\"Sectorunit mobiliteit, transport, logistiek, maritiem\",\"Sectorunit specialistisch vakmanschap\",\"Sectorunit specialistisch vakmanschap\",\"Sectorunit specialistisch vakmanschap\",\"Sectorunit specialistisch vakmanschap\",\"Sectorunit specialistisch vakmanschap\",\"Sectorunit techniek en gebouwde omgeving\",\"Sectorunit techniek en gebouwde omgeving\",\"Sectorunit techniek en gebouwde omgeving\",\"Sectorunit techniek en gebouwde omgeving\",\"Sectorunit techniek en gebouwde omgeving\",\"Sectorunit voedsel, groen en gastvrijheid\",\"Sectorunit voedsel, groen en gastvrijheid\",\"Sectorunit voedsel, groen en gastvrijheid\",\"Sectorunit voedsel, groen en gastvrijheid\",\"Sectorunit voedsel, groen en gastvrijheid\",\"Sectorunit zakelijke dienstverlening en veiligheid\",\"Sectorunit zakelijke dienstverlening en veiligheid\",\"Sectorunit zakelijke dienstverlening en veiligheid\",\"Sectorunit zakelijke dienstverlening en veiligheid\",\"Sectorunit zakelijke dienstverlening en veiligheid\",\"Sectorunit zorg, welzijn en sport\",\"Sectorunit zorg, welzijn en sport\",\"Sectorunit zorg, welzijn en sport\",\"Sectorunit zorg, welzijn en sport\",\"Sectorunit zorg, welzijn en sport\"],\"index\":[0,1,2,3,4,5,6,7,8,9,10,11,12,13,14,15,16,17,18,19,20,21,22,23,24,25,26,27,28,29,30,31,32,33,34,35,36,37,38,39,40,41,42,43,44]},\"selected\":{\"id\":\"02a3f6ba-b0cb-4323-a32c-10c44fe648a4\",\"type\":\"Selection\"},\"selection_policy\":{\"id\":\"b373ced2-2e23-4952-86ef-1e879b29d218\",\"type\":\"UnionRenderers\"}},\"id\":\"a653753e-698f-48b5-b82b-73d97ca9dc41\",\"type\":\"ColumnDataSource\"},{\"attributes\":{\"bottom_units\":\"screen\",\"fill_alpha\":{\"value\":0.5},\"fill_color\":{\"value\":\"lightgrey\"},\"left_units\":\"screen\",\"level\":\"overlay\",\"line_alpha\":{\"value\":1.0},\"line_color\":{\"value\":\"black\"},\"line_dash\":[4,4],\"line_width\":{\"value\":2},\"plot\":null,\"render_mode\":\"css\",\"right_units\":\"screen\",\"top_units\":\"screen\"},\"id\":\"44aba160-d5db-4c6c-8d49-d9a26574d56b\",\"type\":\"BoxAnnotation\"},{\"attributes\":{},\"id\":\"02b649d1-2291-4ad7-b797-866caea12667\",\"type\":\"HelpTool\"},{\"attributes\":{\"callback\":null,\"data\":{\"2013\":[22036,9769,6892,6856,6523,5792,2383,463,369],\"2014\":[22116,10178,7078,7066,6176,6105,2472,573,517],\"2015\":[22298,10071,7720,7667,6270,6009,2677,568,433],\"2016\":[20812,9482,7851,8033,6310,6134,2765,596,306],\"2017\":[21885,9214,10070,9663,6517,6248,3027,649,562],\"sectoren\":[\"Bovensectoraal\",\"Sectorunit creatieve industrie en ICT\",\"Sectorunit handel\",\"Sectorunit mobiliteit, transport, logistiek, maritiem\",\"Sectorunit specialistisch vakmanschap\",\"Sectorunit techniek en gebouwde omgeving\",\"Sectorunit voedsel, groen en gastvrijheid\",\"Sectorunit zakelijke dienstverlening en veiligheid\",\"Sectorunit zorg, welzijn en sport\"]},\"selected\":{\"id\":\"907ad810-adca-4d91-a029-f99c514aa32f\",\"type\":\"Selection\"},\"selection_policy\":{\"id\":\"62cee1b6-5c8b-40f7-a722-6dbf7c5489a8\",\"type\":\"UnionRenderers\"}},\"id\":\"ba6c133e-8e30-4398-8927-fe878d546d14\",\"type\":\"ColumnDataSource\"},{\"attributes\":{\"plot\":null,\"text\":\"Totalen per SBB sector per jaar\"},\"id\":\"4a888f6e-8240-4bff-add7-d864f0c569f0\",\"type\":\"Title\"},{\"attributes\":{},\"id\":\"62cee1b6-5c8b-40f7-a722-6dbf7c5489a8\",\"type\":\"UnionRenderers\"},{\"attributes\":{\"bottom\":{\"expr\":{\"id\":\"a56720ba-4b34-4726-8a1b-5e2c9adc0e8c\",\"type\":\"Stack\"}},\"fill_color\":{\"value\":\"#084594\"},\"line_color\":{\"value\":\"#084594\"},\"top\":{\"expr\":{\"id\":\"3b93563c-44e9-4bae-8261-fbd3ed8f95e2\",\"type\":\"Stack\"}},\"width\":{\"value\":0.8},\"x\":{\"field\":\"sectoren\"}},\"id\":\"8d26898c-490d-47af-bc96-3a5e1acb10e4\",\"type\":\"VBar\"},{\"attributes\":{\"editor\":{\"id\":\"39a0b3cc-bbc8-452a-b99f-2f2af4a3eb8b\",\"type\":\"StringEditor\"},\"field\":\"Aantal\",\"formatter\":{\"id\":\"4b56fa07-df2a-402c-8c73-e72690790f63\",\"type\":\"StringFormatter\"},\"title\":\"Aantal\"},\"id\":\"42592272-9437-4265-813d-fdeca4684049\",\"type\":\"TableColumn\"},{\"attributes\":{},\"id\":\"227723a8-5aeb-415b-bf10-7fced3d0a489\",\"type\":\"CategoricalTicker\"},{\"attributes\":{\"fields\":[\"2013\"]},\"id\":\"a4e743f8-3874-4640-a922-92eea440365d\",\"type\":\"Stack\"},{\"attributes\":{},\"id\":\"8a334b89-e1ab-4b9d-bc65-ea74b08595d5\",\"type\":\"ResetTool\"},{\"attributes\":{\"fields\":[\"2013\",\"2014\"]},\"id\":\"32c915b6-683f-4a71-97fa-4c8c3331fd63\",\"type\":\"Stack\"},{\"attributes\":{},\"id\":\"33706f10-9258-4d2c-8648-7dae2a15a0b2\",\"type\":\"LinearScale\"},{\"attributes\":{\"source\":{\"id\":\"ba6c133e-8e30-4398-8927-fe878d546d14\",\"type\":\"ColumnDataSource\"}},\"id\":\"def9f9d6-5491-49ec-a456-588228daacf0\",\"type\":\"CDSView\"},{\"attributes\":{},\"id\":\"1e4afa71-d615-446e-9339-af7a7d2d5221\",\"type\":\"StringFormatter\"},{\"attributes\":{\"source\":{\"id\":\"ba6c133e-8e30-4398-8927-fe878d546d14\",\"type\":\"ColumnDataSource\"}},\"id\":\"66278fac-0b9a-4ea8-9b47-d2b456008f9d\",\"type\":\"CDSView\"},{\"attributes\":{\"label\":{\"field\":\"2014\"},\"renderers\":[{\"id\":\"94971e1b-e8ee-47d6-8fe3-e7d78c01149b\",\"type\":\"GlyphRenderer\"}]},\"id\":\"833befeb-5c07-4eee-a06d-080e0b8b8a8d\",\"type\":\"LegendItem\"},{\"attributes\":{},\"id\":\"f87c6cba-b3b4-47e1-b572-03724c9cb28e\",\"type\":\"StringEditor\"},{\"attributes\":{},\"id\":\"7b72dc30-621f-4af1-a642-27c86282b44c\",\"type\":\"StringFormatter\"},{\"attributes\":{\"bottom\":{\"expr\":{\"id\":\"f885a57b-29c0-437c-858d-27d65ec208c5\",\"type\":\"Stack\"}},\"fill_alpha\":{\"value\":0.1},\"fill_color\":{\"value\":\"#1f77b4\"},\"line_alpha\":{\"value\":0.1},\"line_color\":{\"value\":\"#1f77b4\"},\"top\":{\"expr\":{\"id\":\"859767dc-09af-44b0-b29a-6379cd046955\",\"type\":\"Stack\"}},\"width\":{\"value\":0.8},\"x\":{\"field\":\"sectoren\"}},\"id\":\"37c942f4-8573-4860-95c7-91d694dfd680\",\"type\":\"VBar\"},{\"attributes\":{\"items\":[{\"id\":\"52b15e6e-234c-4209-9e5f-58e3928d0f44\",\"type\":\"LegendItem\"},{\"id\":\"833befeb-5c07-4eee-a06d-080e0b8b8a8d\",\"type\":\"LegendItem\"},{\"id\":\"45a65d0a-1b0c-4f7f-bcbc-22f7d5f05dc8\",\"type\":\"LegendItem\"},{\"id\":\"af80896f-3506-41be-837f-aaccc19a09e0\",\"type\":\"LegendItem\"},{\"id\":\"3204b10b-7911-4910-9c48-ea424e702a1a\",\"type\":\"LegendItem\"}],\"plot\":{\"id\":\"6b18d404-672a-4069-849e-0f06bbd1f6cc\",\"subtype\":\"Figure\",\"type\":\"Plot\"}},\"id\":\"588cbee3-61e4-4db6-89e7-58499d26cf3b\",\"type\":\"Legend\"},{\"attributes\":{},\"id\":\"58581a2f-44de-4036-bcd3-937c47142ae1\",\"type\":\"WheelZoomTool\"},{\"attributes\":{\"children\":[{\"id\":\"2a90abc1-894a-4c9c-a75a-053a594f5823\",\"type\":\"Select\"}]},\"id\":\"1da92c05-a697-4f86-ba64-f5aee969d138\",\"type\":\"WidgetBox\"},{\"attributes\":{},\"id\":\"b373ced2-2e23-4952-86ef-1e879b29d218\",\"type\":\"UnionRenderers\"},{\"attributes\":{\"children\":[{\"id\":\"1da92c05-a697-4f86-ba64-f5aee969d138\",\"type\":\"WidgetBox\"},{\"id\":\"e1d6a1a0-5bb1-4f57-88fe-5918bd727771\",\"type\":\"WidgetBox\"},{\"id\":\"478dd78c-54cd-4aa0-9837-19940223f898\",\"type\":\"WidgetBox\"},{\"id\":\"6b18d404-672a-4069-849e-0f06bbd1f6cc\",\"subtype\":\"Figure\",\"type\":\"Plot\"}]},\"id\":\"201f20a0-461e-4231-a0c8-6e74f1224adb\",\"type\":\"Column\"},{\"attributes\":{\"bottom\":{\"expr\":{\"id\":\"672bbf16-ad76-4e07-aa48-fb8d3b17d5b9\",\"type\":\"Stack\"}},\"fill_alpha\":{\"value\":0.1},\"fill_color\":{\"value\":\"#1f77b4\"},\"line_alpha\":{\"value\":0.1},\"line_color\":{\"value\":\"#1f77b4\"},\"top\":{\"expr\":{\"id\":\"dc9f8c46-a50c-484b-93c3-dec1dc0bf992\",\"type\":\"Stack\"}},\"width\":{\"value\":0.8},\"x\":{\"field\":\"sectoren\"}},\"id\":\"cf6272bc-4e0d-4839-aaec-f940ed45b133\",\"type\":\"VBar\"},{\"attributes\":{\"fields\":[\"2013\",\"2014\",\"2015\",\"2016\"]},\"id\":\"f885a57b-29c0-437c-858d-27d65ec208c5\",\"type\":\"Stack\"},{\"attributes\":{},\"id\":\"ad48d539-9f44-4e37-8a36-a905122110d0\",\"type\":\"CategoricalTickFormatter\"},{\"attributes\":{\"label\":{\"field\":\"2015\"},\"renderers\":[{\"id\":\"a14ccac5-9f57-4ae9-874f-266c28666e0e\",\"type\":\"GlyphRenderer\"}]},\"id\":\"45a65d0a-1b0c-4f7f-bcbc-22f7d5f05dc8\",\"type\":\"LegendItem\"},{\"attributes\":{\"bottom\":{\"expr\":{\"id\":\"a56720ba-4b34-4726-8a1b-5e2c9adc0e8c\",\"type\":\"Stack\"}},\"fill_alpha\":{\"value\":0.1},\"fill_color\":{\"value\":\"#1f77b4\"},\"line_alpha\":{\"value\":0.1},\"line_color\":{\"value\":\"#1f77b4\"},\"top\":{\"expr\":{\"id\":\"3b93563c-44e9-4bae-8261-fbd3ed8f95e2\",\"type\":\"Stack\"}},\"width\":{\"value\":0.8},\"x\":{\"field\":\"sectoren\"}},\"id\":\"89b9e8cd-2279-4ca5-a365-b230f11fc307\",\"type\":\"VBar\"},{\"attributes\":{},\"id\":\"f0ab9d55-c140-4847-86dc-3e2c5d5a26d7\",\"type\":\"SaveTool\"},{\"attributes\":{\"fields\":[]},\"id\":\"a56720ba-4b34-4726-8a1b-5e2c9adc0e8c\",\"type\":\"Stack\"},{\"attributes\":{\"fields\":[\"2013\",\"2014\",\"2015\",\"2016\"]},\"id\":\"9763e59d-9850-46f7-81c1-90d93c743c28\",\"type\":\"Stack\"},{\"attributes\":{\"data_source\":{\"id\":\"ba6c133e-8e30-4398-8927-fe878d546d14\",\"type\":\"ColumnDataSource\"},\"glyph\":{\"id\":\"e5b542e7-7ac7-4ae7-84ec-b00a27b76fe7\",\"type\":\"VBar\"},\"hover_glyph\":null,\"muted_glyph\":null,\"nonselection_glyph\":{\"id\":\"66e4c8b4-ecf2-4e66-b395-004a08fe22f3\",\"type\":\"VBar\"},\"selection_glyph\":null,\"view\":{\"id\":\"def9f9d6-5491-49ec-a456-588228daacf0\",\"type\":\"CDSView\"}},\"id\":\"bc856e28-3063-4b61-8673-899fc5292cef\",\"type\":\"GlyphRenderer\"},{\"attributes\":{},\"id\":\"c849ac51-b547-45cc-9b66-dfd513cbec0a\",\"type\":\"StringEditor\"}],\"root_ids\":[\"201f20a0-461e-4231-a0c8-6e74f1224adb\"]},\"title\":\"Bokeh Application\",\"version\":\"0.12.16\"}};\n",
       "  var render_items = [{\"docid\":\"8fde1f32-6ad7-4e5f-a983-7a5231869501\",\"elementid\":\"ea45acf1-23fd-47c7-aeec-59eb2299e1d8\",\"modelid\":\"201f20a0-461e-4231-a0c8-6e74f1224adb\"}];\n",
       "  root.Bokeh.embed.embed_items_notebook(docs_json, render_items);\n",
       "\n",
       "  }\n",
       "  if (root.Bokeh !== undefined) {\n",
       "    embed_document(root);\n",
       "  } else {\n",
       "    var attempts = 0;\n",
       "    var timer = setInterval(function(root) {\n",
       "      if (root.Bokeh !== undefined) {\n",
       "        embed_document(root);\n",
       "        clearInterval(timer);\n",
       "      }\n",
       "      attempts++;\n",
       "      if (attempts > 100) {\n",
       "        console.log(\"Bokeh: ERROR: Unable to run BokehJS code because BokehJS library is missing\")\n",
       "        clearInterval(timer);\n",
       "      }\n",
       "    }, 10, root)\n",
       "  }\n",
       "})(window);"
      ],
      "application/vnd.bokehjs_exec.v0+json": ""
     },
     "metadata": {
      "application/vnd.bokehjs_exec.v0+json": {
       "id": "201f20a0-461e-4231-a0c8-6e74f1224adb"
      }
     },
     "output_type": "display_data"
    }
   ],
   "source": [
    "# Datatabel + grafiek, nog in 'kolom' layout - werkend!!! \n",
    "\n",
    "#def make_document(doc):\n",
    "#output_notebook()\n",
    "\n",
    "#Defineer brondata & kolommen\n",
    "source = ColumnDataSource(df_totaalSBB)\n",
    "original_source = ColumnDataSource(df_totaalSBB)\n",
    "columns = [\n",
    "   TableColumn(field=\"SECTORUNIT SBB\", title=\"Sector\"),\n",
    "   TableColumn(field=\"Jaar\", title=\"Jaar\"),\n",
    "   TableColumn(field=\"Aantal\", title=\"Aantal\"),\n",
    "]\n",
    "\n",
    "#maak data tabel\n",
    "data_table = DataTable(source=source, columns=columns)\n",
    "\n",
    "# callback code to be used by all the filter widgets\n",
    "combined_callback_code = \"\"\"\n",
    "var data = source.data;\n",
    "var original_data = original_source.data;\n",
    "var sector = sector_select_obj.value;\n",
    "console.log(\"sector: \" + sector);\n",
    "var jaar = jaar_select_obj.value;\n",
    "console.log(\"jaar: \" + jaar);\n",
    "for (var key in original_data) {\n",
    "    data[key] = [];\n",
    "    for (var i = 0; i < original_data['SECTORUNIT SBB'].length; ++i) {\n",
    "        if ((sector === \"ALL\" || original_data['SECTORUNIT SBB'][i] === sector) &&\n",
    "            (jaar === \"ALL\" || original_data['Jaar'][i] === jaar)) {\n",
    "            data[key].push(original_data[key][i]);\n",
    "        }\n",
    "    }\n",
    "}\n",
    "target_obj.change.emit();;\n",
    "source.change.emit();\n",
    "\"\"\"\n",
    "\n",
    "# define the filter widgets, without callbacks for now\n",
    "sector_list = ['ALL'] + df_totaalSBB['SECTORUNIT SBB'].unique().tolist()\n",
    "sector_select = Select(title=\"Sector:\", value=sector_list[0], options=sector_list)\n",
    "jaar_list = ['ALL'] + df_totaalSBB['Jaar'].unique().tolist()\n",
    "jaar_select = Select(title=\"Jaar:\", value=jaar_list[0], options=jaar_list)\n",
    "\n",
    "# now define the callback objects now that the filter widgets exist\n",
    "generic_callback = CustomJS(\n",
    "    args=dict(source=source, \n",
    "              original_source=original_source, \n",
    "              sector_select_obj=sector_select, \n",
    "              jaar_select_obj=jaar_select, \n",
    "              target_obj=data_table),\n",
    "    code=combined_callback_code\n",
    ")\n",
    "\n",
    "# finally, connect the callbacks to the filter widgets\n",
    "sector_select.js_on_change('value', generic_callback)\n",
    "jaar_select.js_on_change('value', generic_callback)\n",
    "\n",
    "\n",
    "# add chart \n",
    "\n",
    "kolommen = list(df_totaalSBB['Jaar'].unique())\n",
    "sectoren = list(df_totaalSBB['SECTORUNIT SBB'].unique())\n",
    "\n",
    "# voorbereiden dataset\n",
    "df_copyForStack =  dsc.copy()\n",
    "df_copyForStackGrouped = df_copyForStack.groupby(['SECTORUNIT SBB']).sum()[['2013', '2014', '2015', '2016', '2017']]\n",
    "\n",
    "# Groepeer voor volgorde hoog-laag\n",
    "df_copyForStackGrouped.sort_values(by=['2013', '2014', '2015', '2016', '2017'], ascending=False, inplace=True)\n",
    "\n",
    "# Zet om naar dictionary voor verwerking door grafiek\n",
    "df_stackedToDict = df_copyForStackGrouped.to_dict('list')\n",
    "df_stackedToDict['sectoren'] = sectoren\n",
    "\n",
    "# Maak er een CDS van\n",
    "source2 = ColumnDataSource(df_stackedToDict)\n",
    "\n",
    "#Teken grafiek\n",
    "p1 = figure(x_range=sectoren, plot_height=800, title=\"Totalen per SBB sector per jaar\")\n",
    "p1.vbar_stack(kolommen, x='sectoren', width=0.8, source=source2, legend=kolommen, color=['#084594', '#2171b5', '#4292c6', '#6baed6', '#9ecae1'])\n",
    "\n",
    "p1.width=900\n",
    "p1.y_range.start = 0\n",
    "p1.x_range.range_padding = 0.1\n",
    "p1.xaxis.major_label_orientation = 'vertical'\n",
    "p1.xgrid.grid_line_color = None\n",
    "p1.left[0].formatter.use_scientific = False\n",
    "\n",
    "\n",
    "#layout = row(p, jaren)\n",
    "p = column(sector_select,jaar_select,data_table, p1)\n",
    "\n",
    "#doc.title = \"Sectorunit SBB chart test\"\n",
    "#doc.add_root(p)\n",
    "show(p)"
   ]
  },
  {
   "cell_type": "code",
   "execution_count": null,
   "metadata": {},
   "outputs": [],
   "source": [
    "## -- test --\n",
    "\n",
    "#source2 = ColumnDataSource(dx_totaalSBB)\n",
    "kolommen = list(df_totaalSBB['Jaar'].unique())\n",
    "sectoren = list(df_totaalSBB['SECTORUNIT SBB'].unique())\n",
    "df_copyForStack =  dsc.copy()\n",
    "df_copyForStackGrouped = df_copyForStack.groupby(['SECTORUNIT SBB']).sum()[['2013', '2014', '2015', '2016', '2017']]\n",
    "df_stackedToDict = df_copyForStackGrouped.to_dict('list')\n",
    "df_stackedToDict['sectoren'] = sectoren\n",
    "\n",
    "\n",
    "#Teken grafiek\n",
    "source2 = ColumnDataSource(df_stackedToDict)\n",
    "\n",
    "p1 = figure(x_range=sectoren, plot_height=800, title=\"Totalen per SBB sector per jaar\")\n",
    "\n",
    "p1.vbar_stack(kolommen, x='sectoren', width=0.8, source=data2, legend=kolommen, color=['#084594', '#2171b5', '#4292c6', '#6baed6', '#9ecae1'])\n",
    "\n",
    "p1.width=900\n",
    "p1.y_range.start = 0\n",
    "p1.x_range.range_padding = 0.1\n",
    "p1.xaxis.major_label_orientation = 'vertical'\n",
    "p1.xgrid.grid_line_color = None\n",
    "p1.left[0].formatter.use_scientific = False\n",
    "\n",
    "#layout = row(p, jaren)\n",
    "#doc.title = \"Sectorunit SBB chart test\"\n",
    "#doc.add_root(p)\n",
    "show(p1)"
   ]
  },
  {
   "cell_type": "code",
   "execution_count": null,
   "metadata": {},
   "outputs": [],
   "source": []
  },
  {
   "cell_type": "code",
   "execution_count": null,
   "metadata": {},
   "outputs": [],
   "source": []
  },
  {
   "cell_type": "code",
   "execution_count": null,
   "metadata": {},
   "outputs": [],
   "source": [
    "from bokeh.server.server import Server\n",
    "from bokeh.application import Application\n",
    "from bokeh.application.handlers.function import FunctionHandler\n",
    "\n",
    "apps = {'/': Application(FunctionHandler(make_document))}\n",
    "\n",
    "server = Server(apps, port=5006, allow_websocket_origin=['localhost:5006','nm-interactive.net:5006'])\n",
    "server.start()"
   ]
  },
  {
   "cell_type": "code",
   "execution_count": null,
   "metadata": {},
   "outputs": [],
   "source": [
    "server.stop()\n"
   ]
  },
  {
   "cell_type": "code",
   "execution_count": null,
   "metadata": {},
   "outputs": [],
   "source": []
  },
  {
   "cell_type": "code",
   "execution_count": null,
   "metadata": {},
   "outputs": [],
   "source": []
  },
  {
   "cell_type": "code",
   "execution_count": null,
   "metadata": {},
   "outputs": [],
   "source": [
    "## -- test --\n",
    "\n",
    "# maak document, met daarin grafiek. Hier zullen (uiteindelijk) meerdere grafieken moeten worden \n",
    "# weergegeven met meerdere opties.\n",
    "dx = dscMelt.copy()\n",
    "\n",
    "# defineer variabelen voor grafiek\n",
    "dx_totaalSBB = dx.groupby(['SECTORUNIT SBB', 'Jaar']).sum()[['Aantal']]\n",
    "dx_totaalSBB.head()\n",
    "dx_totaalSBB.loc['Bovensectoraal']"
   ]
  },
  {
   "cell_type": "markdown",
   "metadata": {},
   "source": [
    "# 2. Visualisatie op 'Sectorunit SBB'\n",
    "De aanvliegroute is om per visualisatie een apart dataframe te maken. Sorteren op attribuurtwaarde lijkt me handig.\n",
    "\n",
    "### 1a. Dataframe verkennen: Sorteren op unieke attribuutwaarde\n",
    "Normaal gesproken staan alle data in willekeurige volgorde. Je zou kunnen sorteren attribuurtwaarde, bijvoorbeeld binnen de kolom 'SECTORUNIT SBB'.<br>\n",
    "<font color=grey>\n",
    "Syntax: df.sort_values(by=['col1']) , of<br>\n",
    "df.sort_values(by=['col1', 'col2']) <br>\n",
    "Wil je eea omgekeerd selecteren? Dan df.sort_values(by='col1', ascending=False)</font>\n",
    "<font color=grey>Bron:https://pandas.pydata.org/pandas-docs/stable/generated/pandas.DataFrame.sort_values.html</font> <br>\n",
    "\n",
    "N.B. Simon en Danny zijn nog bezig met 'Locatie' en 'Categorie'. Dit zijn nu arrays [] binnen de Dataframe. Ze zoeken nog naar een manier om dit om te typeren naar normale datavelden, zodat we ook hier aparte Dataframes (locatie, categorie) van kunnen maken die gevisualiseerd kunnen worden.\n",
    "\n"
   ]
  },
  {
   "cell_type": "code",
   "execution_count": null,
   "metadata": {},
   "outputs": [],
   "source": [
    "df = datasource\n",
    "df.sort_values(by='SECTORUNIT SBB')"
   ]
  },
  {
   "cell_type": "markdown",
   "metadata": {},
   "source": [
    "### 1b. SNELLER: Welke unieke attribuutwaarden in een kolom\n",
    "Het is sneller om de unieke attribuutwaarden uit te vragen. Dan is het later makkelijker om te selecteren / slicen / visualiseren op een bepaalde attribuutwaarde in een kolom.\n",
    "\n",
    "Bron:https://chrisalbon.com/python/data_wrangling/pandas_list_unique_values_in_column/ "
   ]
  },
  {
   "cell_type": "code",
   "execution_count": null,
   "metadata": {},
   "outputs": [],
   "source": [
    "df['SECTORUNIT SBB'].unique()"
   ]
  },
  {
   "cell_type": "markdown",
   "metadata": {},
   "source": [
    "# 2. Totalen per unieke attribuutwaarde\n",
    "Om de unieke attribuutwaarden te visualiseren, hebben we de totalen nodig. Schijnbaar kan dat ook makkelijk, na lang zoeken, gvd. <br>\n",
    "\n",
    "<font color=grey>Syntax: df.groupby(['kolomnaam' waarvan je totalen wil]).sum()[['kolom aant1','kolom aant1', 'enzovoorts']]</font> <br>\n",
    "Bron: https://stackoverflow.com/questions/35307732/how-to-sum-in-pandas-by-unique-index-in-several-columns"
   ]
  },
  {
   "cell_type": "code",
   "execution_count": null,
   "metadata": {},
   "outputs": [],
   "source": [
    "df_totaalSBB = df.groupby(['SECTORUNIT SBB']).sum()[['2013   AANT','2014   AANT','2015   AANT','2016   AANT','2017   AANT']]\n",
    "df_totaalSBB.info()"
   ]
  },
  {
   "cell_type": "code",
   "execution_count": null,
   "metadata": {},
   "outputs": [],
   "source": [
    "df_totaalSBB.head(10)"
   ]
  },
  {
   "cell_type": "markdown",
   "metadata": {},
   "source": [
    "# 3. Visualiseren totalen 'Sectorunit SBB'"
   ]
  },
  {
   "cell_type": "code",
   "execution_count": null,
   "metadata": {},
   "outputs": [],
   "source": [
    "%config IPCompleter.greedy = True  \n",
    "%matplotlib inline\n",
    "df_totaalSBB.plot.bar()"
   ]
  },
  {
   "cell_type": "markdown",
   "metadata": {},
   "source": [
    "Bron voor onderstaande: https://hub.mybinder.org/user/bokeh-bokeh-notebooks-yecjmjgh/notebooks/tutorial/07%20-%20Bar%20and%20Categorical%20Data%20Plots.ipynb"
   ]
  },
  {
   "cell_type": "markdown",
   "metadata": {
    "collapsed": true
   },
   "source": [
    "# 4. Visualiseer hoe vaak een bepaald type mbo niveau 4 gediplomeerden voorkomt in het wervingsgebied van de Windesheim locatie Zwolle in absolute aantallen"
   ]
  },
  {
   "cell_type": "code",
   "execution_count": null,
   "metadata": {},
   "outputs": [],
   "source": [
    "#dataframe om alle gediplomeerden in regio Zwolle te selecteren\n",
    "df_locatie_zwolle = df.loc[df['Locatie'] == 'Zwolle']\n",
    "df_aantal_zwolle = df_locatie_zwolle.groupby(['Locatie']).sum()[['2013   AANT','2014   AANT','2015   AANT','2016   AANT','2017   AANT']]"
   ]
  },
  {
   "cell_type": "code",
   "execution_count": null,
   "metadata": {},
   "outputs": [],
   "source": [
    "df_aantal_zwolle.info()"
   ]
  },
  {
   "cell_type": "code",
   "execution_count": null,
   "metadata": {},
   "outputs": [],
   "source": [
    "df_aantal_zwolle.plot.bar(figsize=(8,5.0),title='Aantal MBO Afgestudeerden Regio Zwolle')"
   ]
  },
  {
   "cell_type": "code",
   "execution_count": null,
   "metadata": {},
   "outputs": [],
   "source": [
    "df_locatie_zwolle.info()"
   ]
  },
  {
   "cell_type": "markdown",
   "metadata": {},
   "source": [
    "# 5. Visualiseer hoe vaak een bepaald type mbo niveau 4 gediplomeerden voorkomt in het wervingsgebied van de Windesheim locatie Flevoland in absolute aantallen"
   ]
  },
  {
   "cell_type": "code",
   "execution_count": null,
   "metadata": {},
   "outputs": [],
   "source": [
    "#dataframe om alle gediplomeerden in regio Flevoland te selecteren\n",
    "df_locatie_flevoland = df.loc[df['Locatie'] == 'Flevoland']\n",
    "df_aantal_flevoland = df_locatie_flevoland.groupby(['Locatie']).sum()[['2013   AANT','2014   AANT','2015   AANT','2016   AANT','2017   AANT']]"
   ]
  },
  {
   "cell_type": "code",
   "execution_count": null,
   "metadata": {},
   "outputs": [],
   "source": [
    "df_aantal_flevoland"
   ]
  },
  {
   "cell_type": "code",
   "execution_count": null,
   "metadata": {},
   "outputs": [],
   "source": [
    "df_aantal_flevoland.plot.bar(figsize=(8,5.0),title='Aantal MBO Afgestudeerden Regio Flevoland')"
   ]
  },
  {
   "cell_type": "markdown",
   "metadata": {
    "collapsed": true
   },
   "source": [
    "# JH - 1. Visualiseer waar de gediplomeerde mbo-4 woonachtig zijn naar mbo-opleiding in absolute aantallen"
   ]
  },
  {
   "cell_type": "code",
   "execution_count": null,
   "metadata": {},
   "outputs": [],
   "source": [
    "koppeltabel = pd.read_sql_query(\"SELECT * FROM koppeltabel\",engine)"
   ]
  },
  {
   "cell_type": "code",
   "execution_count": null,
   "metadata": {},
   "outputs": [],
   "source": [
    "renamed = datasource.rename(columns={'PC4_LEERL': 'PC4'})\n",
    "output = pd.merge(renamed, koppeltabel, on='PC4', how='inner')\n",
    "output.head(10)"
   ]
  },
  {
   "cell_type": "markdown",
   "metadata": {},
   "source": [
    "# JH - 1A. Visualisatie per Provincie"
   ]
  },
  {
   "cell_type": "code",
   "execution_count": null,
   "metadata": {},
   "outputs": [],
   "source": [
    "#dataframe om alle gediplomeerden per provincie te selecteren\n",
    "df_totaalprovincie = output.groupby(['Provincie']).sum()[['2013   AANT','2014   AANT','2015   AANT','2016   AANT','2017   AANT']]\n",
    "df_totaalprovincie"
   ]
  },
  {
   "cell_type": "code",
   "execution_count": null,
   "metadata": {},
   "outputs": [],
   "source": [
    "df_totaalprovincie.plot.bar(figsize=(8,5.0),title='Aantal MBO 4 Afgestudeerden per Provincie')"
   ]
  },
  {
   "cell_type": "markdown",
   "metadata": {},
   "source": [
    "# JH - 1B. Visualisatie per Categorie"
   ]
  },
  {
   "cell_type": "code",
   "execution_count": null,
   "metadata": {},
   "outputs": [],
   "source": [
    "#dataframe om alle gediplomeerden per categorie te selecteren\n",
    "df_totaalcategorie = output.groupby(['Categorie']).sum()[['2013   AANT','2014   AANT','2015   AANT','2016   AANT','2017   AANT']]\n",
    "df_totaalcategorie"
   ]
  },
  {
   "cell_type": "code",
   "execution_count": null,
   "metadata": {},
   "outputs": [],
   "source": [
    "df_totaalcategorie.plot.bar(figsize=(8,5.0),title='Aantal MBO 4 Afgestudeerden per Categorie')"
   ]
  },
  {
   "cell_type": "markdown",
   "metadata": {},
   "source": [
    "# JH - 1C. Visualisatie \"Thuismarkt\""
   ]
  },
  {
   "cell_type": "code",
   "execution_count": null,
   "metadata": {},
   "outputs": [],
   "source": [
    "#dataframe om alle gediplomeerden in Categorie \"Thuismarkt\" te selecteren\n",
    "df_thuismarkt = output.loc[output['Categorie'] == 'Thuismarkt']\n",
    "df_gt = df_thuismarkt.groupby(['Gemeente']).sum()[['2013   AANT','2014   AANT','2015   AANT','2016   AANT','2017   AANT']]\n",
    "df_gt"
   ]
  },
  {
   "cell_type": "code",
   "execution_count": null,
   "metadata": {},
   "outputs": [],
   "source": [
    "df_gt.plot.bar(figsize=(20,8.0),title='Aantal MBO 4 Afgestudeerden - Thuismarkt')"
   ]
  },
  {
   "cell_type": "markdown",
   "metadata": {},
   "source": [
    "# JH - 1D. Visualisatie \"Aangrenzend Primair\""
   ]
  },
  {
   "cell_type": "code",
   "execution_count": null,
   "metadata": {},
   "outputs": [],
   "source": [
    "#dataframe om alle gediplomeerden in Categorie \"Aangrenzend Primair\" te selecteren\n",
    "df_ap = output.loc[output['Categorie'] == 'Aangrenzend Primair']\n",
    "df_gap = df_ap.groupby(['Gemeente']).sum()[['2013   AANT','2014   AANT','2015   AANT','2016   AANT','2017   AANT']]\n",
    "df_gap"
   ]
  },
  {
   "cell_type": "code",
   "execution_count": null,
   "metadata": {},
   "outputs": [],
   "source": [
    "df_gap.plot.bar(figsize=(20,8.0),title='Aantal MBO 4 Afgestudeerden - Aangrenzend Primair')"
   ]
  },
  {
   "cell_type": "markdown",
   "metadata": {},
   "source": [
    "# JH - 1E. Visualisatie \"Aangrenzend Secundair\""
   ]
  },
  {
   "cell_type": "code",
   "execution_count": null,
   "metadata": {},
   "outputs": [],
   "source": [
    "#dataframe om alle gediplomeerden in Categorie \"Aangrenzend Secundair\" te selecteren\n",
    "df_as = output.loc[output['Categorie'] == 'Aangrenzend Secundair']\n",
    "df_gas = df_as.groupby(['Gemeente']).sum()[['2013   AANT','2014   AANT','2015   AANT','2016   AANT','2017   AANT']]\n",
    "df_gas"
   ]
  },
  {
   "cell_type": "code",
   "execution_count": null,
   "metadata": {},
   "outputs": [],
   "source": [
    "df_gas.plot.bar(figsize=(20,8.0),title='Aantal MBO 4 Afgestudeerden - Aangrenzend Secundair')"
   ]
  },
  {
   "cell_type": "markdown",
   "metadata": {},
   "source": [
    "# JH - 1F. Visualisatie \"Meerdere\""
   ]
  },
  {
   "cell_type": "code",
   "execution_count": null,
   "metadata": {},
   "outputs": [],
   "source": [
    "#dataframe om alle gediplomeerden in Categorie \"Meerdere\" te selecteren\n",
    "df_me = output.loc[output['Categorie'] == 'Meerdere']\n",
    "df_gme = df_me.groupby(['Gemeente']).sum()[['2013   AANT','2014   AANT','2015   AANT','2016   AANT','2017   AANT']]\n",
    "df_me"
   ]
  },
  {
   "cell_type": "code",
   "execution_count": null,
   "metadata": {},
   "outputs": [],
   "source": [
    "df_gme.plot.bar(figsize=(20,8.0),title='Aantal MBO 4 Afgestudeerden - Aangrenzend Secundair')"
   ]
  },
  {
   "cell_type": "markdown",
   "metadata": {},
   "source": [
    "# 2. Visualisatie \"MBO Sector\" in absolute aantallen"
   ]
  },
  {
   "cell_type": "code",
   "execution_count": null,
   "metadata": {},
   "outputs": [],
   "source": [
    "df_sector = df.groupby(['MBO SECTOR']).sum()[['2013   AANT','2014   AANT','2015   AANT','2016   AANT','2017   AANT']]\n",
    "df_sector"
   ]
  },
  {
   "cell_type": "code",
   "execution_count": null,
   "metadata": {},
   "outputs": [],
   "source": [
    "df_sector.plot.bar(figsize=(20,8.0),title='Aantal MBO 4 Afgestudeerden - per MBO Sector')"
   ]
  },
  {
   "cell_type": "code",
   "execution_count": null,
   "metadata": {},
   "outputs": [],
   "source": [
    "#output_notebook()\n",
    "\n",
    "#Kolommen zijn de kolommen uit de df_totaalSBB dataframe. Dit gaat dan om 2013 AANT etc. Dit is voor de eerste groepering. \n",
    "kolommen = list(df_totaalSBB)\n",
    "\n",
    "#Sectoren haalt alle unieke waardes uit het dataframe voor de kolom SECTORUNIT SBB.\n",
    "sectoren = list(df['SECTORUNIT SBB'].unique())\n",
    "\n",
    "#Voeg per kolom alle sectoren toe. Dit wordt dan de data voor de x-as. \n",
    "#Kolom is bijvoorbeeld 2013 AANT en hier worden vervolgens alle sectoren aan toegevoegd.\n",
    "x = [ (kolom, sector) for kolom in kolommen for sector in sectoren ]\n",
    "\n",
    "#Data voor de y-as\n",
    "#Data doorlopen om de totalen op de juiste volgorde in een array te plaatsen.\n",
    "#Zelfde volgorde zoals hierboven staat voor de gegevens voor de x-as\n",
    "\n",
    "counts = []\n",
    "\n",
    "for kolom in kolommen:\n",
    "    for sector in sectoren:\n",
    "        counts.append(df_totaalSBB.loc[sector][kolom])\n",
    "        \n",
    "#Teken grafiek\n",
    "source = ColumnDataSource(data=dict(x=x, counts=counts))\n",
    "\n",
    "p = figure(x_range=FactorRange(*x), plot_height=400, title=\"Totalen per SBB sector per jaar\")\n",
    "\n",
    "p.vbar(x='x', top='counts', width=0.8, source=source)\n",
    "\n",
    "p.width=900\n",
    "p.y_range.start = 0\n",
    "p.x_range.range_padding = 0.1\n",
    "p.xaxis.major_label_orientation = 1\n",
    "p.xgrid.grid_line_color = None\n",
    "\n",
    "show(p)"
   ]
  },
  {
   "cell_type": "code",
   "execution_count": null,
   "metadata": {},
   "outputs": [],
   "source": [
    "#Kolommen zijn de kolommen uit de df_totaalSBB dataframe. Dit gaat dan om 2013 AANT etc. Dit is voor de eerste groepering. \n",
    "kolommen_zwolle = list(df_aantal_zwolle)\n",
    "\n",
    "#Sectoren haalt alle unieke waardes uit het dataframe voor de kolom SECTORUNIT SBB.\n",
    "locaties_zwolle = list(df_locatie_zwolle['Locatie'].unique())\n",
    "\n",
    "#Voeg per kolom alle sectoren toe. Dit wordt dan de data voor de x-as. \n",
    "#Kolom is bijvoorbeeld 2013 AANT en hier worden vervolgens alle sectoren aan toegevoegd.\n",
    "x = [ (kolom, locatie) for kolom in kolommen_zwolle for locatie in locaties_zwolle ]\n",
    "\n",
    "#Data voor de y-as\n",
    "#Data doorlopen om de totalen op de juiste volgorde in een array te plaatsen.\n",
    "#Zelfde volgorde zoals hierboven staat voor de gegevens voor de x-as\n",
    "\n",
    "counts = []\n",
    "\n",
    "for kolom in kolommen_zwolle:\n",
    "    for locatie in locaties_zwolle:\n",
    "        counts.append(df_aantal_zwolle.loc[locatie][kolom])\n",
    "\n",
    "#Teken grafiek\n",
    "source = ColumnDataSource(data=dict(x=x, counts=counts))\n",
    "\n",
    "az = figure(x_range=FactorRange(*x), plot_height=400, title=\"Aantal MBO Afgestudeerden Regio Zwolle\")\n",
    "\n",
    "az.vbar(x='x', top='counts', width=0.8, source=source)\n",
    "\n",
    "az.width=900\n",
    "az.y_range.start = 0\n",
    "az.x_range.range_padding = 0.1\n",
    "az.xaxis.major_label_orientation = 1\n",
    "az.xgrid.grid_line_color = None\n",
    "\n",
    "\n",
    "#update functie om nieuwe data(selecties) weer te geven, doet nu niets...\n",
    "#def update():\n",
    "\n",
    "#callback om updates elke 100ms op te halen\n",
    "#doc.add_periodic_callback(update, 100)\n",
    "\n",
    "show(az)"
   ]
  },
  {
   "cell_type": "code",
   "execution_count": null,
   "metadata": {},
   "outputs": [],
   "source": [
    "#from bokeh.palettes import Spectral6\n",
    "\n",
    "#Kolommen zijn de kolommen uit de df_totaalSBB dataframe. Dit gaat dan om 2013 AANT etc. Dit is voor de eerste groepering. \n",
    "#kolommen = list(df_totaalSBB)\n",
    "\n",
    "#Sectoren haalt alle unieke waardes uit het dataframe voor de kolom SECTORUNIT SBB.\n",
    "#sectoren = df['SECTORUNIT SBB'].unique()\n",
    "#sectorenMultiplied = []\n",
    "\n",
    "#Voeg per kolom alle sectoren toe. Dit wordt dan de data voor de x-as. \n",
    "#Kolom is bijvoorbeeld 2013 AANT en hier worden vervolgens alle sectoren aan toegevoegd.\n",
    "#x = [ (sector, kolom) for sector in sectoren for kolom in kolommen ]\n",
    "\n",
    "#Data voor de y-as\n",
    "#Data doorlopen om de totalen op de juiste volgorde in een array te plaatsen.\n",
    "#Zelfde volgorde zoals hierboven staat voor de gegevens voor de x-as\n",
    "\n",
    "#counts = []\n",
    "\n",
    "#for sector in sectoren:\n",
    "#    for kolom in kolommen:\n",
    "#        counts.append(df_totaalSBB.loc[sector][kolom])\n",
    "\n",
    "#cyl_cmap = factor_cmap('cyl', palette=Spectral5, factors=sorted(df.cyl.unique())\n",
    "#Teken grafiek\n",
    "#source = ColumnDataSource(data=dict(x=x, counts=counts, sectoren=sectorenMultiplied, color=Spectral6))\n",
    "#p = figure(x_range=FactorRange(*x), plot_height=400, title=\"Totalen per SBB sector per jaar\")\n",
    "#p.vbar(x='x', top='counts', width=0.8, legend='sectoren', color='color', source=source)\n",
    "\n",
    "#p.width=1000\n",
    "#p.y_range.start = 0\n",
    "#p.x_range.range_padding = 0.1\n",
    "#p.xaxis.major_label_orientation = 'vertical'\n",
    "#p.xgrid.grid_line_color = None\n",
    "\n",
    "#p.legend.orientation = \"horizontal\"\n",
    "#p.legend.location = \"top_center\"\n",
    "\n",
    "#p.xaxis[0].group_text_font_size = '0pt'\n",
    "#show(p)"
   ]
  },
  {
   "cell_type": "code",
   "execution_count": null,
   "metadata": {},
   "outputs": [],
   "source": [
    "# voorbeeld data, laad in om werking te zien! Wel even de volgende paragraaf skippen...\n",
    "\n",
    "import random\n",
    "\n",
    "def make_document(doc):\n",
    "    source = ColumnDataSource({'x': [], 'y': [], 'color': []})\n",
    "\n",
    "    def update():\n",
    "        new = {'x': [random.random()],\n",
    "               'y': [random.random()],\n",
    "               'color': [random.choice(['red', 'blue', 'green'])]}\n",
    "        source.stream(new)\n",
    "\n",
    "    doc.add_periodic_callback(update, 100)\n",
    "\n",
    "    fig = figure(title='Streaming Circle Plot!', sizing_mode='scale_width',\n",
    "                 x_range=[0, 1], y_range=[0, 1])\n",
    "    fig.circle(source=source, x='x', y='y', color='color', size=10)\n",
    "\n",
    "    doc.title = \"Now with live updating!\"\n",
    "    doc.add_root(fig)"
   ]
  },
  {
   "cell_type": "code",
   "execution_count": null,
   "metadata": {},
   "outputs": [],
   "source": [
    "# maak document, met daarin grafiek. Hier zullen (uiteindelijk) meerdere grafieken moeten worden \n",
    "# weergegeven met meerdere opties.\n",
    "\n",
    "def make_document(doc):\n",
    "    #Kolommen zijn de kolommen uit de df_totaalSBB dataframe. Dit gaat dan om 2013 AANT etc. Dit is voor de eerste groepering. \n",
    "    kolommen = list(df_totaalSBB)\n",
    "\n",
    "    #Sectoren haalt alle unieke waardes uit het dataframe voor de kolom SECTORUNIT SBB.\n",
    "    sectoren = list(df['SECTORUNIT SBB'].unique())\n",
    "\n",
    "    #Voeg per kolom alle sectoren toe. Dit wordt dan de data voor de x-as. \n",
    "    #Kolom is bijvoorbeeld 2013 AANT en hier worden vervolgens alle sectoren aan toegevoegd.\n",
    "    x = [ (kolom, sector) for kolom in kolommen for sector in sectoren ]\n",
    "\n",
    "    #Data voor de y-as\n",
    "    #Data doorlopen om de totalen op de juiste volgorde in een array te plaatsen.\n",
    "    #Zelfde volgorde zoals hierboven staat voor de gegevens voor de x-as\n",
    "\n",
    "    counts = []\n",
    "\n",
    "    for kolom in kolommen:\n",
    "        for sector in sectoren:\n",
    "            counts.append(df_totaalSBB.loc[sector][kolom])\n",
    "\n",
    "    #Teken grafiek\n",
    "    source = ColumnDataSource(data=dict(x=x, counts=counts))\n",
    "\n",
    "    p = figure(x_range=FactorRange(*x), plot_height=400, title=\"Totalen per SBB sector per jaar\")\n",
    "\n",
    "    p.vbar(x='x', top='counts', width=0.8, source=source)\n",
    "\n",
    "    p.width=900\n",
    "    p.y_range.start = 0\n",
    "    p.x_range.range_padding = 0.1\n",
    "    p.xaxis.major_label_orientation = 1\n",
    "    p.xgrid.grid_line_color = None\n",
    "\n",
    "\n",
    "    #update functie om nieuwe data(selecties) weer te geven\n",
    "    def updateSBB(attr, old, new):\n",
    "        kolommen = [jaren.labels[i] for i in jaren.active]\n",
    "        x = [ (kolom, sector) for kolom in kolommen for sector in sectoren ]\n",
    "\n",
    "        counts = []\n",
    "\n",
    "        for kolom in kolommen:\n",
    "            for sector in sectoren:\n",
    "                counts.append(df_totaalSBB.loc[sector][kolom])\n",
    "\n",
    "        newSource = ColumnDataSource(data=dict(x=x, counts=counts))\n",
    "        source.data.update(newSource.data)\n",
    "    \n",
    "    \n",
    "    jaren = CheckboxGroup(labels=kolommen, active = [0, 1, 2, 3 ,4])\n",
    "    jaren.on_change('active', updateSBB)\n",
    "\n",
    "    layout = row(p, jaren)\n",
    "\n",
    "    #callback om updates elke 100ms op te halen\n",
    "    #doc.add_periodic_callback(update, 100)\n",
    "\n",
    "    doc.title = \"Sectorunit SBB chart...\"\n",
    "    doc.add_root(layout)\n",
    "\n",
    "    # maak document, met daarin grafiek. Hier zullen (uiteindelijk) meerdere grafieken moeten worden \n",
    "    # weergegeven met meerdere opties.\n",
    "\n",
    "    #def aantal_zwolle(doc):\n",
    "\n",
    "        #Kolommen zijn de kolommen uit de df_totaalSBB dataframe. Dit gaat dan om 2013 AANT etc. Dit is voor de eerste groepering. \n",
    "        #kolommen_zwolle = list(df_aantal_zwolle)\n",
    "\n",
    "        #Sectoren haalt alle unieke waardes uit het dataframe voor de kolom SECTORUNIT SBB.\n",
    "        #locaties_zwolle = list(df_aantal_zwolle['Locatie'].unique())\n",
    "\n",
    "        #Voeg per kolom alle sectoren toe. Dit wordt dan de data voor de x-as. \n",
    "        #Kolom is bijvoorbeeld 2013 AANT en hier worden vervolgens alle sectoren aan toegevoegd.\n",
    "        #x = [ (kolom, locatie) for kolom in kolommen_zwolle for locatie in locaties_zwolle ]\n",
    "\n",
    "        #Data voor de y-as\n",
    "        #Data doorlopen om de totalen op de juiste volgorde in een array te plaatsen.\n",
    "        #Zelfde volgorde zoals hierboven staat voor de gegevens voor de x-as\n",
    "\n",
    "        #counts = []\n",
    "\n",
    "        #for kolom in kolommen_zwolle:\n",
    "        #   for locatie in locaties_zwolle:\n",
    "        #        counts.append(df_aantal_zwolle.loc[sector][kolom])\n",
    "\n",
    "        #Teken grafiek\n",
    "        #source = ColumnDataSource(data=dict(x=x, counts=counts))\n",
    "\n",
    "        #az = figure(x_range=FactorRange(*x), plot_height=400, title=\"Aantal MBO Afgestudeerden Regio Zwolle\")\n",
    "\n",
    "        #az.vbar(x='x', top='counts', width=0.8, source=source)\n",
    "\n",
    "        #az.width=900\n",
    "        #az.y_range.start = 0\n",
    "        #az.x_range.range_padding = 0.1\n",
    "        #az.xaxis.major_label_orientation = 1\n",
    "        #az.xgrid.grid_line_color = None\n",
    "   \n",
    "\n",
    "        #update functie om nieuwe data(selecties) weer te geven, doet nu niets...\n",
    "        #def update():\n",
    "\n",
    "        #callback om updates elke 100ms op te halen\n",
    "        #doc.add_periodic_callback(update, 100)\n",
    "        \n",
    "        \n",
    "        #doc.title = \"Tekst...\"\n",
    "        #doc.add_root(az)"
   ]
  },
  {
   "cell_type": "code",
   "execution_count": null,
   "metadata": {},
   "outputs": [],
   "source": [
    "# starten van de webserver :)\n",
    "apps = {'/': Application(FunctionHandler(make_document))}\n",
    "\n",
    "server = Server(apps, port=5006, allow_websocket_origin=['localhost:5006','nm-interactive.net:5006'])\n",
    "server.start()"
   ]
  },
  {
   "cell_type": "code",
   "execution_count": null,
   "metadata": {},
   "outputs": [],
   "source": [
    "# stoppen van de server :)\n",
    "server.stop()"
   ]
  },
  {
   "cell_type": "code",
   "execution_count": null,
   "metadata": {},
   "outputs": [],
   "source": [
    "output_notebook()\n",
    "\n",
    "#Kolommen zijn de kolommen uit de df_totaalSBB dataframe. Dit gaat dan om 2013 AANT etc. Dit is voor de eerste groepering. \n",
    "kolommen = list(df_totaalSBB)\n",
    "\n",
    "#Sectoren haalt alle unieke waardes uit het dataframe voor de kolom SECTORUNIT SBB.\n",
    "sectoren = df['SECTORUNIT SBB'].unique()\n",
    "\n",
    "#Voeg per kolom alle sectoren toe. Dit wordt dan de data voor de x-as. \n",
    "#Kolom is bijvoorbeeld 2013 AANT en hier worden vervolgens alle sectoren aan toegevoegd.\n",
    "x = [ (kolom, sector) for kolom in kolommen for sector in sectoren ]\n",
    "\n",
    "#Data voor de y-as\n",
    "#Data doorlopen om de totalen op de juiste volgorde in een array te plaatsen.\n",
    "#Zelfde volgorde zoals hierboven staat voor de gegevens voor de x-as\n",
    "\n",
    "counts = []\n",
    "\n",
    "for kolom in kolommen:\n",
    "    for sector in sectoren:\n",
    "        counts.append(df_totaalSBB.loc[sector][kolom])\n",
    "        \n",
    "\n",
    "source = ColumnDataSource(data=dict(x=x, counts=counts))\n",
    "\n",
    "#Teken grafiek\n",
    "p = figure(x_range=FactorRange(*x), plot_height=400, title=\"Totalen per SBB sector per jaar\")\n",
    "\n",
    "p.vbar(x='x', top='counts', width=0.8, source=source)\n",
    "\n",
    "p.width=900\n",
    "p.y_range.start = 0\n",
    "p.x_range.range_padding = 0.1\n",
    "p.xaxis.major_label_orientation = 1\n",
    "p.xgrid.grid_line_color = None\n",
    "\n",
    "show(p)"
   ]
  },
  {
   "cell_type": "code",
   "execution_count": null,
   "metadata": {},
   "outputs": [],
   "source": [
    "def updateSBB(attr, old, new):\n",
    "    kolommen = [jaren.labels[i] for i in jaren.active]\n",
    "    x = [ (kolom, sector) for kolom in kolommen for sector in sectoren ]\n",
    "   \n",
    "    counts = []\n",
    "    \n",
    "    for kolom in kolommen:\n",
    "        for sector in sectoren:\n",
    "            counts.append(df_totaalSBB.loc[sector][kolom])\n",
    "    \n",
    "    newSource = ColumnDataSource(data=dict(x=x, counts=counts))\n",
    "    source.data.update(newSource.data)"
   ]
  },
  {
   "cell_type": "code",
   "execution_count": null,
   "metadata": {},
   "outputs": [],
   "source": [
    "output_file(\"slider.html\")\n",
    "jaren = CheckboxGroup(labels=kolommen, active = [0, 1, 2, 3 ,4])\n",
    "jaren.on_change('active', updateSBB)\n",
    "\n",
    "p1 = figure(plot_width=300, plot_height=300)\n",
    "p1.circle([1, 2, 3, 4, 5], [6, 7, 2, 4, 5], size=20, color=\"red\", alpha=0.5)\n",
    "\n",
    "testcheckbox = CheckboxGroup(labels=list(\"Test\"), active = [0, 1])\n",
    "                             \n",
    "layout = row(p, jaren)\n",
    "tab1 = Panel(child=layout, title=\"Aantal per SBB Sectorunit\")\n",
    "\n",
    "p2 = figure(plot_width=300, plot_height=300)\n",
    "p2.line([1, 2, 3, 4, 5], [6, 7, 2, 4, 5], line_width=3, color=\"red\", alpha=0.5)\n",
    "\n",
    "l2 = row(az)\n",
    "tab2 = Panel(child=l2, title=\"Aantal MBO 4 afgestudeerden Zwolle\")\n",
    "\n",
    "tabs = Tabs(tabs=[ tab1, tab2 ])\n",
    "\n",
    "show(tabs)"
   ]
  },
  {
   "cell_type": "code",
   "execution_count": null,
   "metadata": {},
   "outputs": [],
   "source": [
    "def test():\n",
    "    print(\"test\")"
   ]
  },
  {
   "cell_type": "code",
   "execution_count": null,
   "metadata": {},
   "outputs": [],
   "source": [
    "test()"
   ]
  },
  {
   "cell_type": "code",
   "execution_count": null,
   "metadata": {},
   "outputs": [],
   "source": []
  }
 ],
 "metadata": {
  "kernelspec": {
   "display_name": "Python 3",
   "language": "python",
   "name": "python3"
  },
  "language_info": {
   "codemirror_mode": {
    "name": "ipython",
    "version": 3
   },
   "file_extension": ".py",
   "mimetype": "text/x-python",
   "name": "python",
   "nbconvert_exporter": "python",
   "pygments_lexer": "ipython3",
   "version": "3.6.5"
  }
 },
 "nbformat": 4,
 "nbformat_minor": 2
}
