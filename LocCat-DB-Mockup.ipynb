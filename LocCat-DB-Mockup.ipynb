{
 "cells": [
  {
   "cell_type": "code",
   "execution_count": 34,
   "metadata": {
    "collapsed": true
   },
   "outputs": [],
   "source": [
    "%config IPCompleter.greedy = True  \n",
    "%matplotlib inline\n",
    "\n",
    "import numpy as np\n",
    "import pandas as pd\n",
    "import matplotlib.pyplot as plt\n",
    "import seaborn as sns\n",
    "from sqlalchemy import create_engine\n",
    "\n",
    "from seaborn import countplot\n",
    "from matplotlib.pyplot import figure, show\n",
    "\n",
    "from bokeh.io import show, output_notebook\n",
    "from bokeh.models import ColumnDataSource\n",
    "from bokeh.plotting import figure\n",
    "from bokeh.models import FactorRange, ColumnDataSource, TableColumn, DataTable, CustomJS\n",
    "from bokeh.server.server import Server\n",
    "from bokeh.application import Application\n",
    "from bokeh.application.handlers.function import FunctionHandler\n",
    "\n",
    "from bokeh.models.widgets import Panel, Tabs, Select\n",
    "from bokeh.io import output_file, show\n",
    "from bokeh.plotting import figure\n",
    "from bokeh.models.widgets import CheckboxGroup\n",
    "from bokeh.layouts import column, row, WidgetBox  \n",
    "from bokeh.core.properties import value "
   ]
  },
  {
   "cell_type": "code",
   "execution_count": 2,
   "metadata": {},
   "outputs": [
    {
     "name": "stdout",
     "output_type": "stream",
     "text": [
      "<class 'pandas.core.frame.DataFrame'>\n",
      "RangeIndex: 169415 entries, 0 to 169414\n",
      "Data columns (total 14 columns):\n",
      "nr                    169415 non-null int64\n",
      "PC4_LEERL             169415 non-null int64\n",
      "KWALIFICATIENIVEAU    169415 non-null int64\n",
      "KWALIFICATIE CODE     169415 non-null int64\n",
      "KWALIFICATIE NAAM     169415 non-null object\n",
      "MBO SECTOR            169415 non-null object\n",
      "DOMEIN                169415 non-null object\n",
      "SECTORUNIT SBB        169415 non-null object\n",
      "GESLACHT              169415 non-null object\n",
      "2013   AANT           169415 non-null int64\n",
      "2014   AANT           169415 non-null int64\n",
      "2015   AANT           169415 non-null int64\n",
      "2016   AANT           169415 non-null int64\n",
      "2017   AANT           169415 non-null int64\n",
      "dtypes: int64(9), object(5)\n",
      "memory usage: 18.1+ MB\n",
      "<class 'pandas.core.frame.DataFrame'>\n",
      "RangeIndex: 44 entries, 0 to 43\n",
      "Data columns (total 6 columns):\n",
      "index            44 non-null int64\n",
      "PostcodeStart    44 non-null int64\n",
      "PostcodeEind     44 non-null int64\n",
      "Gemeente         44 non-null object\n",
      "Locatie          44 non-null object\n",
      "Categorie        44 non-null object\n",
      "dtypes: int64(3), object(3)\n",
      "memory usage: 2.1+ KB\n"
     ]
    }
   ],
   "source": [
    "host = \"mysql.nm-interactive.net\"\n",
    "port = 3306\n",
    "user = \"windesheim\"\n",
    "password = \"pMjq357Kdee7Sx8C\"\n",
    "database = \"windesheim\"\n",
    "client = \"mysql\"\n",
    "\n",
    "#Installeer eerst Mysqlcient in Anaconda Navigator\n",
    "engine = create_engine(\"{0}://{1}:{2}@{3}:{4}/{5}\".format(client, user, password, host, port, database))\n",
    "\n",
    "datasource = pd.read_sql_query(\"SELECT * FROM source WHERE KWALIFICATIENIVEAU = 4\",engine)\n",
    "wervingsgebieden = pd.read_sql_query(\"SELECT * FROM wervingsgebieden\",engine)\n",
    "datasource.info()\n",
    "wervingsgebieden.info()"
   ]
  },
  {
   "cell_type": "code",
   "execution_count": 3,
   "metadata": {},
   "outputs": [
    {
     "data": {
      "text/html": [
       "<div>\n",
       "<style>\n",
       "    .dataframe thead tr:only-child th {\n",
       "        text-align: right;\n",
       "    }\n",
       "\n",
       "    .dataframe thead th {\n",
       "        text-align: left;\n",
       "    }\n",
       "\n",
       "    .dataframe tbody tr th {\n",
       "        vertical-align: top;\n",
       "    }\n",
       "</style>\n",
       "<table border=\"1\" class=\"dataframe\">\n",
       "  <thead>\n",
       "    <tr style=\"text-align: right;\">\n",
       "      <th></th>\n",
       "      <th>nr</th>\n",
       "      <th>PC4_LEERL</th>\n",
       "      <th>KWALIFICATIENIVEAU</th>\n",
       "      <th>KWALIFICATIE CODE</th>\n",
       "      <th>KWALIFICATIE NAAM</th>\n",
       "      <th>MBO SECTOR</th>\n",
       "      <th>DOMEIN</th>\n",
       "      <th>SECTORUNIT SBB</th>\n",
       "      <th>GESLACHT</th>\n",
       "      <th>2013   AANT</th>\n",
       "      <th>2014   AANT</th>\n",
       "      <th>2015   AANT</th>\n",
       "      <th>2016   AANT</th>\n",
       "      <th>2017   AANT</th>\n",
       "    </tr>\n",
       "  </thead>\n",
       "  <tbody>\n",
       "    <tr>\n",
       "      <th>0</th>\n",
       "      <td>1424</td>\n",
       "      <td>1011</td>\n",
       "      <td>4</td>\n",
       "      <td>10388</td>\n",
       "      <td>Horeca-ondernemer/-manager</td>\n",
       "      <td>economie</td>\n",
       "      <td>Horeca en bakkerij</td>\n",
       "      <td>Sectorunit voedsel, groen en gastvrijheid</td>\n",
       "      <td>M</td>\n",
       "      <td>1</td>\n",
       "      <td>0</td>\n",
       "      <td>0</td>\n",
       "      <td>0</td>\n",
       "      <td>0</td>\n",
       "    </tr>\n",
       "    <tr>\n",
       "      <th>1</th>\n",
       "      <td>1425</td>\n",
       "      <td>1011</td>\n",
       "      <td>4</td>\n",
       "      <td>10801</td>\n",
       "      <td>Restauratiemedewerker</td>\n",
       "      <td>techniek</td>\n",
       "      <td>Bouw en infra</td>\n",
       "      <td>Sectorunit techniek en gebouwde omgeving</td>\n",
       "      <td>M</td>\n",
       "      <td>1</td>\n",
       "      <td>0</td>\n",
       "      <td>0</td>\n",
       "      <td>0</td>\n",
       "      <td>0</td>\n",
       "    </tr>\n",
       "    <tr>\n",
       "      <th>2</th>\n",
       "      <td>1426</td>\n",
       "      <td>1011</td>\n",
       "      <td>4</td>\n",
       "      <td>90038</td>\n",
       "      <td>Artiest (Muziek)</td>\n",
       "      <td>techniek</td>\n",
       "      <td>Zorg en welzijn</td>\n",
       "      <td>Sectorunit creatieve industrie en ICT</td>\n",
       "      <td>M</td>\n",
       "      <td>0</td>\n",
       "      <td>0</td>\n",
       "      <td>0</td>\n",
       "      <td>2</td>\n",
       "      <td>0</td>\n",
       "    </tr>\n",
       "    <tr>\n",
       "      <th>3</th>\n",
       "      <td>1427</td>\n",
       "      <td>1011</td>\n",
       "      <td>4</td>\n",
       "      <td>90290</td>\n",
       "      <td>Ondernemer detailhandel</td>\n",
       "      <td>economie</td>\n",
       "      <td>Handel en ondernemerschap</td>\n",
       "      <td>Sectorunit handel</td>\n",
       "      <td>M</td>\n",
       "      <td>1</td>\n",
       "      <td>0</td>\n",
       "      <td>0</td>\n",
       "      <td>0</td>\n",
       "      <td>0</td>\n",
       "    </tr>\n",
       "    <tr>\n",
       "      <th>4</th>\n",
       "      <td>1428</td>\n",
       "      <td>1011</td>\n",
       "      <td>4</td>\n",
       "      <td>90301</td>\n",
       "      <td>Ondernemer horeca/bakkerij (Manager/ondernemer...</td>\n",
       "      <td>economie</td>\n",
       "      <td>Horeca en bakkerij</td>\n",
       "      <td>Sectorunit voedsel, groen en gastvrijheid</td>\n",
       "      <td>M</td>\n",
       "      <td>0</td>\n",
       "      <td>1</td>\n",
       "      <td>0</td>\n",
       "      <td>0</td>\n",
       "      <td>0</td>\n",
       "    </tr>\n",
       "  </tbody>\n",
       "</table>\n",
       "</div>"
      ],
      "text/plain": [
       "     nr  PC4_LEERL  KWALIFICATIENIVEAU  KWALIFICATIE CODE  \\\n",
       "0  1424       1011                   4              10388   \n",
       "1  1425       1011                   4              10801   \n",
       "2  1426       1011                   4              90038   \n",
       "3  1427       1011                   4              90290   \n",
       "4  1428       1011                   4              90301   \n",
       "\n",
       "                                   KWALIFICATIE NAAM MBO SECTOR  \\\n",
       "0                         Horeca-ondernemer/-manager   economie   \n",
       "1                              Restauratiemedewerker   techniek   \n",
       "2                                   Artiest (Muziek)   techniek   \n",
       "3                            Ondernemer detailhandel   economie   \n",
       "4  Ondernemer horeca/bakkerij (Manager/ondernemer...   economie   \n",
       "\n",
       "                      DOMEIN                             SECTORUNIT SBB  \\\n",
       "0         Horeca en bakkerij  Sectorunit voedsel, groen en gastvrijheid   \n",
       "1              Bouw en infra   Sectorunit techniek en gebouwde omgeving   \n",
       "2            Zorg en welzijn      Sectorunit creatieve industrie en ICT   \n",
       "3  Handel en ondernemerschap                          Sectorunit handel   \n",
       "4         Horeca en bakkerij  Sectorunit voedsel, groen en gastvrijheid   \n",
       "\n",
       "  GESLACHT  2013   AANT  2014   AANT  2015   AANT  2016   AANT  2017   AANT  \n",
       "0        M            1            0            0            0            0  \n",
       "1        M            1            0            0            0            0  \n",
       "2        M            0            0            0            2            0  \n",
       "3        M            1            0            0            0            0  \n",
       "4        M            0            1            0            0            0  "
      ]
     },
     "execution_count": 3,
     "metadata": {},
     "output_type": "execute_result"
    }
   ],
   "source": [
    "# Laat n records zien van de datasource\n",
    "datasource.head()"
   ]
  },
  {
   "cell_type": "code",
   "execution_count": 4,
   "metadata": {},
   "outputs": [
    {
     "data": {
      "text/plain": [
       "nr                     int64\n",
       "PC4_LEERL              int64\n",
       "KWALIFICATIENIVEAU     int64\n",
       "KWALIFICATIE CODE      int64\n",
       "KWALIFICATIE NAAM     object\n",
       "MBO SECTOR            object\n",
       "DOMEIN                object\n",
       "SECTORUNIT SBB        object\n",
       "GESLACHT              object\n",
       "2013   AANT            int64\n",
       "2014   AANT            int64\n",
       "2015   AANT            int64\n",
       "2016   AANT            int64\n",
       "2017   AANT            int64\n",
       "dtype: object"
      ]
     },
     "execution_count": 4,
     "metadata": {},
     "output_type": "execute_result"
    }
   ],
   "source": [
    "datasource.dtypes"
   ]
  },
  {
   "cell_type": "code",
   "execution_count": 5,
   "metadata": {},
   "outputs": [
    {
     "data": {
      "text/html": [
       "<div>\n",
       "<style>\n",
       "    .dataframe thead tr:only-child th {\n",
       "        text-align: right;\n",
       "    }\n",
       "\n",
       "    .dataframe thead th {\n",
       "        text-align: left;\n",
       "    }\n",
       "\n",
       "    .dataframe tbody tr th {\n",
       "        vertical-align: top;\n",
       "    }\n",
       "</style>\n",
       "<table border=\"1\" class=\"dataframe\">\n",
       "  <thead>\n",
       "    <tr style=\"text-align: right;\">\n",
       "      <th></th>\n",
       "      <th>index</th>\n",
       "      <th>PostcodeStart</th>\n",
       "      <th>PostcodeEind</th>\n",
       "      <th>Gemeente</th>\n",
       "      <th>Locatie</th>\n",
       "      <th>Categorie</th>\n",
       "    </tr>\n",
       "  </thead>\n",
       "  <tbody>\n",
       "    <tr>\n",
       "      <th>0</th>\n",
       "      <td>0</td>\n",
       "      <td>7940</td>\n",
       "      <td>7999</td>\n",
       "      <td>Meppel</td>\n",
       "      <td>Zwolle</td>\n",
       "      <td>Thuismarkt</td>\n",
       "    </tr>\n",
       "    <tr>\n",
       "      <th>1</th>\n",
       "      <td>1</td>\n",
       "      <td>8000</td>\n",
       "      <td>8069</td>\n",
       "      <td>Zwolle</td>\n",
       "      <td>Zwolle</td>\n",
       "      <td>Thuismarkt</td>\n",
       "    </tr>\n",
       "    <tr>\n",
       "      <th>2</th>\n",
       "      <td>2</td>\n",
       "      <td>8070</td>\n",
       "      <td>8099</td>\n",
       "      <td>Nunspeet</td>\n",
       "      <td>Zwolle</td>\n",
       "      <td>Thuismarkt</td>\n",
       "    </tr>\n",
       "    <tr>\n",
       "      <th>3</th>\n",
       "      <td>3</td>\n",
       "      <td>8100</td>\n",
       "      <td>8159</td>\n",
       "      <td>Raalte</td>\n",
       "      <td>Zwolle</td>\n",
       "      <td>Thuismarkt</td>\n",
       "    </tr>\n",
       "    <tr>\n",
       "      <th>4</th>\n",
       "      <td>4</td>\n",
       "      <td>8160</td>\n",
       "      <td>8199</td>\n",
       "      <td>Epe</td>\n",
       "      <td>Zwolle</td>\n",
       "      <td>Thuismarkt</td>\n",
       "    </tr>\n",
       "  </tbody>\n",
       "</table>\n",
       "</div>"
      ],
      "text/plain": [
       "   index  PostcodeStart  PostcodeEind  Gemeente Locatie   Categorie\n",
       "0      0           7940          7999    Meppel  Zwolle  Thuismarkt\n",
       "1      1           8000          8069    Zwolle  Zwolle  Thuismarkt\n",
       "2      2           8070          8099  Nunspeet  Zwolle  Thuismarkt\n",
       "3      3           8100          8159    Raalte  Zwolle  Thuismarkt\n",
       "4      4           8160          8199       Epe  Zwolle  Thuismarkt"
      ]
     },
     "execution_count": 5,
     "metadata": {},
     "output_type": "execute_result"
    }
   ],
   "source": [
    "# Laat n records zien van de ingevoerde wervingsgebieden\n",
    "wervingsgebieden.head()"
   ]
  },
  {
   "cell_type": "code",
   "execution_count": 6,
   "metadata": {},
   "outputs": [
    {
     "data": {
      "text/plain": [
       "index             int64\n",
       "PostcodeStart     int64\n",
       "PostcodeEind      int64\n",
       "Gemeente         object\n",
       "Locatie          object\n",
       "Categorie        object\n",
       "dtype: object"
      ]
     },
     "execution_count": 6,
     "metadata": {},
     "output_type": "execute_result"
    }
   ],
   "source": [
    "wervingsgebieden.dtypes"
   ]
  },
  {
   "cell_type": "code",
   "execution_count": 7,
   "metadata": {
    "collapsed": true
   },
   "outputs": [],
   "source": [
    "# tijdelijke dataframe - 1000 rows\n",
    "ds = datasource.sample(n=1000)\n"
   ]
  },
  {
   "cell_type": "code",
   "execution_count": 8,
   "metadata": {
    "collapsed": true
   },
   "outputs": [],
   "source": [
    "# Functie voor het checken van de locatie en categorie, stukje sneller gemaakt ook.\n",
    "def check_locatie(PostCode):\n",
    "    test = wervingsgebieden.loc[(wervingsgebieden.PostcodeStart <= PostCode) & (wervingsgebieden.PostcodeEind >= PostCode), ['Locatie', 'Categorie']]\n",
    "    if test['Locatie'].empty:\n",
    "        r = pd.Series(['',''])\n",
    "    else:\n",
    "        r = pd.Series([test['Locatie'].iloc[0], test['Categorie'].iloc[0]])\n",
    "    return r\n",
    "\n",
    "#voeg kolommen toe aan datasource \n",
    "datasource[['Locatie', 'Categorie']] = datasource.apply(lambda row: check_locatie(row[\"PC4_LEERL\"]), axis=1)\n"
   ]
  },
  {
   "cell_type": "code",
   "execution_count": 9,
   "metadata": {},
   "outputs": [
    {
     "data": {
      "text/plain": [
       "array(['Aangrenzend Primair', '', 'Thuismarkt', 'Aangrenzend Secundair'], dtype=object)"
      ]
     },
     "execution_count": 9,
     "metadata": {},
     "output_type": "execute_result"
    }
   ],
   "source": [
    "#Welke soorten zitten er in Locatie?\n",
    "datasource.Locatie.unique()\n",
    "\n",
    "#Welke soorten zitten in Categorie?\n",
    "datasource.Categorie.unique()"
   ]
  },
  {
   "cell_type": "code",
   "execution_count": 10,
   "metadata": {},
   "outputs": [
    {
     "data": {
      "text/html": [
       "<div>\n",
       "<style>\n",
       "    .dataframe thead tr:only-child th {\n",
       "        text-align: right;\n",
       "    }\n",
       "\n",
       "    .dataframe thead th {\n",
       "        text-align: left;\n",
       "    }\n",
       "\n",
       "    .dataframe tbody tr th {\n",
       "        vertical-align: top;\n",
       "    }\n",
       "</style>\n",
       "<table border=\"1\" class=\"dataframe\">\n",
       "  <thead>\n",
       "    <tr style=\"text-align: right;\">\n",
       "      <th></th>\n",
       "      <th>nr</th>\n",
       "      <th>PC4_LEERL</th>\n",
       "      <th>KWALIFICATIENIVEAU</th>\n",
       "      <th>KWALIFICATIE CODE</th>\n",
       "      <th>KWALIFICATIE NAAM</th>\n",
       "      <th>MBO SECTOR</th>\n",
       "      <th>DOMEIN</th>\n",
       "      <th>SECTORUNIT SBB</th>\n",
       "      <th>GESLACHT</th>\n",
       "      <th>2013   AANT</th>\n",
       "      <th>2014   AANT</th>\n",
       "      <th>2015   AANT</th>\n",
       "      <th>2016   AANT</th>\n",
       "      <th>2017   AANT</th>\n",
       "      <th>Locatie</th>\n",
       "      <th>Categorie</th>\n",
       "    </tr>\n",
       "  </thead>\n",
       "  <tbody>\n",
       "    <tr>\n",
       "      <th>0</th>\n",
       "      <td>1424</td>\n",
       "      <td>1011</td>\n",
       "      <td>4</td>\n",
       "      <td>10388</td>\n",
       "      <td>Horeca-ondernemer/-manager</td>\n",
       "      <td>economie</td>\n",
       "      <td>Horeca en bakkerij</td>\n",
       "      <td>Sectorunit voedsel, groen en gastvrijheid</td>\n",
       "      <td>M</td>\n",
       "      <td>1</td>\n",
       "      <td>0</td>\n",
       "      <td>0</td>\n",
       "      <td>0</td>\n",
       "      <td>0</td>\n",
       "      <td>Flevoland</td>\n",
       "      <td>Aangrenzend Primair</td>\n",
       "    </tr>\n",
       "    <tr>\n",
       "      <th>1</th>\n",
       "      <td>1425</td>\n",
       "      <td>1011</td>\n",
       "      <td>4</td>\n",
       "      <td>10801</td>\n",
       "      <td>Restauratiemedewerker</td>\n",
       "      <td>techniek</td>\n",
       "      <td>Bouw en infra</td>\n",
       "      <td>Sectorunit techniek en gebouwde omgeving</td>\n",
       "      <td>M</td>\n",
       "      <td>1</td>\n",
       "      <td>0</td>\n",
       "      <td>0</td>\n",
       "      <td>0</td>\n",
       "      <td>0</td>\n",
       "      <td>Flevoland</td>\n",
       "      <td>Aangrenzend Primair</td>\n",
       "    </tr>\n",
       "    <tr>\n",
       "      <th>2</th>\n",
       "      <td>1426</td>\n",
       "      <td>1011</td>\n",
       "      <td>4</td>\n",
       "      <td>90038</td>\n",
       "      <td>Artiest (Muziek)</td>\n",
       "      <td>techniek</td>\n",
       "      <td>Zorg en welzijn</td>\n",
       "      <td>Sectorunit creatieve industrie en ICT</td>\n",
       "      <td>M</td>\n",
       "      <td>0</td>\n",
       "      <td>0</td>\n",
       "      <td>0</td>\n",
       "      <td>2</td>\n",
       "      <td>0</td>\n",
       "      <td>Flevoland</td>\n",
       "      <td>Aangrenzend Primair</td>\n",
       "    </tr>\n",
       "    <tr>\n",
       "      <th>3</th>\n",
       "      <td>1427</td>\n",
       "      <td>1011</td>\n",
       "      <td>4</td>\n",
       "      <td>90290</td>\n",
       "      <td>Ondernemer detailhandel</td>\n",
       "      <td>economie</td>\n",
       "      <td>Handel en ondernemerschap</td>\n",
       "      <td>Sectorunit handel</td>\n",
       "      <td>M</td>\n",
       "      <td>1</td>\n",
       "      <td>0</td>\n",
       "      <td>0</td>\n",
       "      <td>0</td>\n",
       "      <td>0</td>\n",
       "      <td>Flevoland</td>\n",
       "      <td>Aangrenzend Primair</td>\n",
       "    </tr>\n",
       "    <tr>\n",
       "      <th>4</th>\n",
       "      <td>1428</td>\n",
       "      <td>1011</td>\n",
       "      <td>4</td>\n",
       "      <td>90301</td>\n",
       "      <td>Ondernemer horeca/bakkerij (Manager/ondernemer...</td>\n",
       "      <td>economie</td>\n",
       "      <td>Horeca en bakkerij</td>\n",
       "      <td>Sectorunit voedsel, groen en gastvrijheid</td>\n",
       "      <td>M</td>\n",
       "      <td>0</td>\n",
       "      <td>1</td>\n",
       "      <td>0</td>\n",
       "      <td>0</td>\n",
       "      <td>0</td>\n",
       "      <td>Flevoland</td>\n",
       "      <td>Aangrenzend Primair</td>\n",
       "    </tr>\n",
       "  </tbody>\n",
       "</table>\n",
       "</div>"
      ],
      "text/plain": [
       "     nr  PC4_LEERL  KWALIFICATIENIVEAU  KWALIFICATIE CODE  \\\n",
       "0  1424       1011                   4              10388   \n",
       "1  1425       1011                   4              10801   \n",
       "2  1426       1011                   4              90038   \n",
       "3  1427       1011                   4              90290   \n",
       "4  1428       1011                   4              90301   \n",
       "\n",
       "                                   KWALIFICATIE NAAM MBO SECTOR  \\\n",
       "0                         Horeca-ondernemer/-manager   economie   \n",
       "1                              Restauratiemedewerker   techniek   \n",
       "2                                   Artiest (Muziek)   techniek   \n",
       "3                            Ondernemer detailhandel   economie   \n",
       "4  Ondernemer horeca/bakkerij (Manager/ondernemer...   economie   \n",
       "\n",
       "                      DOMEIN                             SECTORUNIT SBB  \\\n",
       "0         Horeca en bakkerij  Sectorunit voedsel, groen en gastvrijheid   \n",
       "1              Bouw en infra   Sectorunit techniek en gebouwde omgeving   \n",
       "2            Zorg en welzijn      Sectorunit creatieve industrie en ICT   \n",
       "3  Handel en ondernemerschap                          Sectorunit handel   \n",
       "4         Horeca en bakkerij  Sectorunit voedsel, groen en gastvrijheid   \n",
       "\n",
       "  GESLACHT  2013   AANT  2014   AANT  2015   AANT  2016   AANT  2017   AANT  \\\n",
       "0        M            1            0            0            0            0   \n",
       "1        M            1            0            0            0            0   \n",
       "2        M            0            0            0            2            0   \n",
       "3        M            1            0            0            0            0   \n",
       "4        M            0            1            0            0            0   \n",
       "\n",
       "     Locatie            Categorie  \n",
       "0  Flevoland  Aangrenzend Primair  \n",
       "1  Flevoland  Aangrenzend Primair  \n",
       "2  Flevoland  Aangrenzend Primair  \n",
       "3  Flevoland  Aangrenzend Primair  \n",
       "4  Flevoland  Aangrenzend Primair  "
      ]
     },
     "execution_count": 10,
     "metadata": {},
     "output_type": "execute_result"
    }
   ],
   "source": [
    "datasource.head()"
   ]
  },
  {
   "cell_type": "markdown",
   "metadata": {},
   "source": [
    "# 1. Data-Melter\n",
    "\n",
    "Een punt van aandacht is het feit dat de data niet (mooi) allemaal in gelijke kolommen zitten. Zo zijn bijvoorbeeld de jaargegevens over diverse kolommen verdeeld. Om hiermee goed te kunnen werken, dient deze data onder elkaar te worden gezet."
   ]
  },
  {
   "cell_type": "code",
   "execution_count": 11,
   "metadata": {
    "collapsed": true
   },
   "outputs": [],
   "source": [
    "# Originele dataset behouden, in kopie werken:\n",
    "dsc = datasource.copy()"
   ]
  },
  {
   "cell_type": "code",
   "execution_count": 12,
   "metadata": {},
   "outputs": [
    {
     "data": {
      "text/plain": [
       "['2013   AANT', '2014   AANT', '2015   AANT', '2016   AANT', '2017   AANT']"
      ]
     },
     "execution_count": 12,
     "metadata": {},
     "output_type": "execute_result"
    }
   ],
   "source": [
    "# Verkrijg alle 'Jaartal' kolommen (de kolommen die ge-melt dienen te worden)\n",
    "jaarCols = [col for col in dsc.columns if 'AANT' in col]\n",
    "jaarCols"
   ]
  },
  {
   "cell_type": "code",
   "execution_count": 13,
   "metadata": {},
   "outputs": [
    {
     "data": {
      "text/plain": [
       "['nr',\n",
       " 'PC4_LEERL',\n",
       " 'KWALIFICATIENIVEAU',\n",
       " 'KWALIFICATIE CODE',\n",
       " 'KWALIFICATIE NAAM',\n",
       " 'MBO SECTOR',\n",
       " 'DOMEIN',\n",
       " 'SECTORUNIT SBB',\n",
       " 'GESLACHT',\n",
       " 'Locatie',\n",
       " 'Categorie']"
      ]
     },
     "execution_count": 13,
     "metadata": {},
     "output_type": "execute_result"
    }
   ],
   "source": [
    "# Wat zijn dan de id vars? (kolommen die gelijk moeten blijven)\n",
    "otherCols = [col for col in dsc.columns if not 'AANT' in col]\n",
    "otherCols"
   ]
  },
  {
   "cell_type": "code",
   "execution_count": 14,
   "metadata": {},
   "outputs": [
    {
     "data": {
      "text/plain": [
       "['2013', '2014', '2015', '2016', '2017']"
      ]
     },
     "execution_count": 14,
     "metadata": {},
     "output_type": "execute_result"
    }
   ],
   "source": [
    "# Verander de jaartalkolomnamen naar pure jaartallen (gebruik alleen eerste 4 karakters van kolomnaam)\n",
    "jaarCleanCols = [str(x)[:4] for x in jaarCols]\n",
    "jaarCleanCols"
   ]
  },
  {
   "cell_type": "code",
   "execution_count": 15,
   "metadata": {},
   "outputs": [
    {
     "data": {
      "text/plain": [
       "{'2013   AANT': '2013',\n",
       " '2014   AANT': '2014',\n",
       " '2015   AANT': '2015',\n",
       " '2016   AANT': '2016',\n",
       " '2017   AANT': '2017'}"
      ]
     },
     "execution_count": 15,
     "metadata": {},
     "output_type": "execute_result"
    }
   ],
   "source": [
    "# Maak een dictionary voor de rename functie\n",
    "jaarDict = dict(zip(jaarCols, jaarCleanCols))\n",
    "jaarDict"
   ]
  },
  {
   "cell_type": "code",
   "execution_count": 16,
   "metadata": {
    "collapsed": true
   },
   "outputs": [],
   "source": [
    "# Rename de betreffende colommen\n",
    "dsc = dsc.rename(columns=jaarDict)"
   ]
  },
  {
   "cell_type": "code",
   "execution_count": 17,
   "metadata": {
    "collapsed": true
   },
   "outputs": [],
   "source": [
    "# Voer werkelijke melt uit\n",
    "dscMelt = pd.melt(dsc, id_vars=otherCols, var_name=\"Jaar\", value_name=\"Aantal\")"
   ]
  },
  {
   "cell_type": "code",
   "execution_count": 18,
   "metadata": {},
   "outputs": [
    {
     "data": {
      "text/html": [
       "<div>\n",
       "<style>\n",
       "    .dataframe thead tr:only-child th {\n",
       "        text-align: right;\n",
       "    }\n",
       "\n",
       "    .dataframe thead th {\n",
       "        text-align: left;\n",
       "    }\n",
       "\n",
       "    .dataframe tbody tr th {\n",
       "        vertical-align: top;\n",
       "    }\n",
       "</style>\n",
       "<table border=\"1\" class=\"dataframe\">\n",
       "  <thead>\n",
       "    <tr style=\"text-align: right;\">\n",
       "      <th></th>\n",
       "      <th>nr</th>\n",
       "      <th>PC4_LEERL</th>\n",
       "      <th>KWALIFICATIENIVEAU</th>\n",
       "      <th>KWALIFICATIE CODE</th>\n",
       "      <th>KWALIFICATIE NAAM</th>\n",
       "      <th>MBO SECTOR</th>\n",
       "      <th>DOMEIN</th>\n",
       "      <th>SECTORUNIT SBB</th>\n",
       "      <th>GESLACHT</th>\n",
       "      <th>Locatie</th>\n",
       "      <th>Categorie</th>\n",
       "      <th>Jaar</th>\n",
       "      <th>Aantal</th>\n",
       "    </tr>\n",
       "  </thead>\n",
       "  <tbody>\n",
       "    <tr>\n",
       "      <th>0</th>\n",
       "      <td>1424</td>\n",
       "      <td>1011</td>\n",
       "      <td>4</td>\n",
       "      <td>10388</td>\n",
       "      <td>Horeca-ondernemer/-manager</td>\n",
       "      <td>economie</td>\n",
       "      <td>Horeca en bakkerij</td>\n",
       "      <td>Sectorunit voedsel, groen en gastvrijheid</td>\n",
       "      <td>M</td>\n",
       "      <td>Flevoland</td>\n",
       "      <td>Aangrenzend Primair</td>\n",
       "      <td>2013</td>\n",
       "      <td>1</td>\n",
       "    </tr>\n",
       "    <tr>\n",
       "      <th>1</th>\n",
       "      <td>1425</td>\n",
       "      <td>1011</td>\n",
       "      <td>4</td>\n",
       "      <td>10801</td>\n",
       "      <td>Restauratiemedewerker</td>\n",
       "      <td>techniek</td>\n",
       "      <td>Bouw en infra</td>\n",
       "      <td>Sectorunit techniek en gebouwde omgeving</td>\n",
       "      <td>M</td>\n",
       "      <td>Flevoland</td>\n",
       "      <td>Aangrenzend Primair</td>\n",
       "      <td>2013</td>\n",
       "      <td>1</td>\n",
       "    </tr>\n",
       "    <tr>\n",
       "      <th>2</th>\n",
       "      <td>1426</td>\n",
       "      <td>1011</td>\n",
       "      <td>4</td>\n",
       "      <td>90038</td>\n",
       "      <td>Artiest (Muziek)</td>\n",
       "      <td>techniek</td>\n",
       "      <td>Zorg en welzijn</td>\n",
       "      <td>Sectorunit creatieve industrie en ICT</td>\n",
       "      <td>M</td>\n",
       "      <td>Flevoland</td>\n",
       "      <td>Aangrenzend Primair</td>\n",
       "      <td>2013</td>\n",
       "      <td>0</td>\n",
       "    </tr>\n",
       "    <tr>\n",
       "      <th>3</th>\n",
       "      <td>1427</td>\n",
       "      <td>1011</td>\n",
       "      <td>4</td>\n",
       "      <td>90290</td>\n",
       "      <td>Ondernemer detailhandel</td>\n",
       "      <td>economie</td>\n",
       "      <td>Handel en ondernemerschap</td>\n",
       "      <td>Sectorunit handel</td>\n",
       "      <td>M</td>\n",
       "      <td>Flevoland</td>\n",
       "      <td>Aangrenzend Primair</td>\n",
       "      <td>2013</td>\n",
       "      <td>1</td>\n",
       "    </tr>\n",
       "    <tr>\n",
       "      <th>4</th>\n",
       "      <td>1428</td>\n",
       "      <td>1011</td>\n",
       "      <td>4</td>\n",
       "      <td>90301</td>\n",
       "      <td>Ondernemer horeca/bakkerij (Manager/ondernemer...</td>\n",
       "      <td>economie</td>\n",
       "      <td>Horeca en bakkerij</td>\n",
       "      <td>Sectorunit voedsel, groen en gastvrijheid</td>\n",
       "      <td>M</td>\n",
       "      <td>Flevoland</td>\n",
       "      <td>Aangrenzend Primair</td>\n",
       "      <td>2013</td>\n",
       "      <td>0</td>\n",
       "    </tr>\n",
       "  </tbody>\n",
       "</table>\n",
       "</div>"
      ],
      "text/plain": [
       "     nr  PC4_LEERL  KWALIFICATIENIVEAU  KWALIFICATIE CODE  \\\n",
       "0  1424       1011                   4              10388   \n",
       "1  1425       1011                   4              10801   \n",
       "2  1426       1011                   4              90038   \n",
       "3  1427       1011                   4              90290   \n",
       "4  1428       1011                   4              90301   \n",
       "\n",
       "                                   KWALIFICATIE NAAM MBO SECTOR  \\\n",
       "0                         Horeca-ondernemer/-manager   economie   \n",
       "1                              Restauratiemedewerker   techniek   \n",
       "2                                   Artiest (Muziek)   techniek   \n",
       "3                            Ondernemer detailhandel   economie   \n",
       "4  Ondernemer horeca/bakkerij (Manager/ondernemer...   economie   \n",
       "\n",
       "                      DOMEIN                             SECTORUNIT SBB  \\\n",
       "0         Horeca en bakkerij  Sectorunit voedsel, groen en gastvrijheid   \n",
       "1              Bouw en infra   Sectorunit techniek en gebouwde omgeving   \n",
       "2            Zorg en welzijn      Sectorunit creatieve industrie en ICT   \n",
       "3  Handel en ondernemerschap                          Sectorunit handel   \n",
       "4         Horeca en bakkerij  Sectorunit voedsel, groen en gastvrijheid   \n",
       "\n",
       "  GESLACHT    Locatie            Categorie  Jaar  Aantal  \n",
       "0        M  Flevoland  Aangrenzend Primair  2013       1  \n",
       "1        M  Flevoland  Aangrenzend Primair  2013       1  \n",
       "2        M  Flevoland  Aangrenzend Primair  2013       0  \n",
       "3        M  Flevoland  Aangrenzend Primair  2013       1  \n",
       "4        M  Flevoland  Aangrenzend Primair  2013       0  "
      ]
     },
     "execution_count": 18,
     "metadata": {},
     "output_type": "execute_result"
    }
   ],
   "source": [
    "dscMelt.head()"
   ]
  },
  {
   "cell_type": "code",
   "execution_count": 19,
   "metadata": {},
   "outputs": [
    {
     "data": {
      "text/plain": [
       "array(['2013', '2014', '2015', '2016', '2017'], dtype=object)"
      ]
     },
     "execution_count": 19,
     "metadata": {},
     "output_type": "execute_result"
    }
   ],
   "source": [
    "dscMelt['Jaar'].unique()"
   ]
  },
  {
   "cell_type": "code",
   "execution_count": 20,
   "metadata": {},
   "outputs": [
    {
     "name": "stdout",
     "output_type": "stream",
     "text": [
      "<class 'pandas.core.frame.DataFrame'>\n",
      "RangeIndex: 847075 entries, 0 to 847074\n",
      "Data columns (total 13 columns):\n",
      "nr                    847075 non-null int64\n",
      "PC4_LEERL             847075 non-null int64\n",
      "KWALIFICATIENIVEAU    847075 non-null int64\n",
      "KWALIFICATIE CODE     847075 non-null int64\n",
      "KWALIFICATIE NAAM     847075 non-null object\n",
      "MBO SECTOR            847075 non-null object\n",
      "DOMEIN                847075 non-null object\n",
      "SECTORUNIT SBB        847075 non-null object\n",
      "GESLACHT              847075 non-null object\n",
      "Locatie               847075 non-null object\n",
      "Categorie             847075 non-null object\n",
      "Jaar                  847075 non-null object\n",
      "Aantal                847075 non-null int64\n",
      "dtypes: int64(5), object(8)\n",
      "memory usage: 84.0+ MB\n"
     ]
    }
   ],
   "source": [
    "dscMelt.info()"
   ]
  },
  {
   "cell_type": "markdown",
   "metadata": {},
   "source": [
    "# 2. Voorbeeld in Bokeh:\n",
    "\n",
    "Poging een voorbeeld te maken in Bokeh"
   ]
  },
  {
   "cell_type": "code",
   "execution_count": 21,
   "metadata": {},
   "outputs": [
    {
     "data": {
      "text/html": [
       "<div>\n",
       "<style>\n",
       "    .dataframe thead tr:only-child th {\n",
       "        text-align: right;\n",
       "    }\n",
       "\n",
       "    .dataframe thead th {\n",
       "        text-align: left;\n",
       "    }\n",
       "\n",
       "    .dataframe tbody tr th {\n",
       "        vertical-align: top;\n",
       "    }\n",
       "</style>\n",
       "<table border=\"1\" class=\"dataframe\">\n",
       "  <thead>\n",
       "    <tr style=\"text-align: right;\">\n",
       "      <th></th>\n",
       "      <th></th>\n",
       "      <th>Aantal</th>\n",
       "    </tr>\n",
       "    <tr>\n",
       "      <th>SECTORUNIT SBB</th>\n",
       "      <th>Jaar</th>\n",
       "      <th></th>\n",
       "    </tr>\n",
       "  </thead>\n",
       "  <tbody>\n",
       "    <tr>\n",
       "      <th rowspan=\"5\" valign=\"top\">Bovensectoraal</th>\n",
       "      <th>2013</th>\n",
       "      <td>369</td>\n",
       "    </tr>\n",
       "    <tr>\n",
       "      <th>2014</th>\n",
       "      <td>517</td>\n",
       "    </tr>\n",
       "    <tr>\n",
       "      <th>2015</th>\n",
       "      <td>433</td>\n",
       "    </tr>\n",
       "    <tr>\n",
       "      <th>2016</th>\n",
       "      <td>306</td>\n",
       "    </tr>\n",
       "    <tr>\n",
       "      <th>2017</th>\n",
       "      <td>562</td>\n",
       "    </tr>\n",
       "  </tbody>\n",
       "</table>\n",
       "</div>"
      ],
      "text/plain": [
       "                     Aantal\n",
       "SECTORUNIT SBB Jaar        \n",
       "Bovensectoraal 2013     369\n",
       "               2014     517\n",
       "               2015     433\n",
       "               2016     306\n",
       "               2017     562"
      ]
     },
     "execution_count": 21,
     "metadata": {},
     "output_type": "execute_result"
    }
   ],
   "source": [
    "# maak document, met daarin grafiek. Hier zullen (uiteindelijk) meerdere grafieken moeten worden \n",
    "# weergegeven met meerdere opties.\n",
    "df = dscMelt.copy()\n",
    "\n",
    "# defineer variabelen voor grafiek\n",
    "df_totaalSBB = df.groupby(['SECTORUNIT SBB', 'Jaar'], as_index=False).sum()[['SECTORUNIT SBB', 'Jaar', 'Aantal']]\n",
    "df_totaalSBB.head()\n",
    "\n",
    "# maak document, met daarin grafiek. Hier zullen (uiteindelijk) meerdere grafieken moeten worden \n",
    "# weergegeven met meerdere opties.\n",
    "dx = dscMelt.copy()\n",
    "\n",
    "# defineer variabelen voor grafiek\n",
    "dx_totaalSBB = dx.groupby(['SECTORUNIT SBB', 'Jaar']).sum()[['Aantal']]\n",
    "dx_totaalSBB.head()"
   ]
  },
  {
   "cell_type": "code",
   "execution_count": 22,
   "metadata": {},
   "outputs": [
    {
     "name": "stdout",
     "output_type": "stream",
     "text": [
      "<class 'pandas.core.frame.DataFrame'>\n",
      "Int64Index: 45 entries, 0 to 44\n",
      "Data columns (total 3 columns):\n",
      "SECTORUNIT SBB    45 non-null object\n",
      "Jaar              45 non-null object\n",
      "Aantal            45 non-null int64\n",
      "dtypes: int64(1), object(2)\n",
      "memory usage: 1.4+ KB\n"
     ]
    }
   ],
   "source": [
    "df_totaalSBB.info()\n"
   ]
  },
  {
   "cell_type": "code",
   "execution_count": 23,
   "metadata": {
    "collapsed": true
   },
   "outputs": [],
   "source": [
    "#Defineer brondata & kolommen\n",
    "source = ColumnDataSource(df_totaalSBB)\n",
    "original_source = ColumnDataSource(df_totaalSBB)\n",
    "columns = [\n",
    "   TableColumn(field=\"SECTORUNIT SBB\", title=\"Sector\"),\n",
    "   TableColumn(field=\"Jaar\", title=\"Jaar\"),\n",
    "   TableColumn(field=\"Aantal\", title=\"Aantal\"),\n",
    "]"
   ]
  },
  {
   "cell_type": "code",
   "execution_count": 24,
   "metadata": {},
   "outputs": [
    {
     "ename": "SyntaxError",
     "evalue": "invalid syntax (<ipython-input-24-1a9f3f910b25>, line 1)",
     "output_type": "error",
     "traceback": [
      "\u001b[1;36m  File \u001b[1;32m\"<ipython-input-24-1a9f3f910b25>\"\u001b[1;36m, line \u001b[1;32m1\u001b[0m\n\u001b[1;33m    df_totaalSBB.\u001b[0m\n\u001b[1;37m                 ^\u001b[0m\n\u001b[1;31mSyntaxError\u001b[0m\u001b[1;31m:\u001b[0m invalid syntax\n"
     ]
    }
   ],
   "source": [
    "df_totaalSBB."
   ]
  },
  {
   "cell_type": "code",
   "execution_count": 87,
   "metadata": {
    "scrolled": true
   },
   "outputs": [
    {
     "data": {
      "text/html": [
       "\n",
       "<div class=\"bk-root\">\n",
       "    <div class=\"bk-plotdiv\" id=\"c711b1c1-67ff-4137-aa2c-624bb7940eae\"></div>\n",
       "</div>"
      ]
     },
     "metadata": {},
     "output_type": "display_data"
    },
    {
     "data": {
      "application/javascript": [
       "(function(root) {\n",
       "  function embed_document(root) {\n",
       "    var docs_json = {\"39d40b4c-3142-464f-8b8c-b40822b31aa1\":{\"roots\":{\"references\":[{\"attributes\":{\"callback\":null,\"factors\":[[\"2013\",\"Bovensectoraal\"],[\"2013\",\"Sectorunit creatieve industrie en ICT\"],[\"2013\",\"Sectorunit handel\"],[\"2013\",\"Sectorunit mobiliteit, transport, logistiek, maritiem\"],[\"2013\",\"Sectorunit specialistisch vakmanschap\"],[\"2013\",\"Sectorunit techniek en gebouwde omgeving\"],[\"2013\",\"Sectorunit voedsel, groen en gastvrijheid\"],[\"2013\",\"Sectorunit zakelijke dienstverlening en veiligheid\"],[\"2013\",\"Sectorunit zorg, welzijn en sport\"],[\"2014\",\"Bovensectoraal\"],[\"2014\",\"Sectorunit creatieve industrie en ICT\"],[\"2014\",\"Sectorunit handel\"],[\"2014\",\"Sectorunit mobiliteit, transport, logistiek, maritiem\"],[\"2014\",\"Sectorunit specialistisch vakmanschap\"],[\"2014\",\"Sectorunit techniek en gebouwde omgeving\"],[\"2014\",\"Sectorunit voedsel, groen en gastvrijheid\"],[\"2014\",\"Sectorunit zakelijke dienstverlening en veiligheid\"],[\"2014\",\"Sectorunit zorg, welzijn en sport\"],[\"2015\",\"Bovensectoraal\"],[\"2015\",\"Sectorunit creatieve industrie en ICT\"],[\"2015\",\"Sectorunit handel\"],[\"2015\",\"Sectorunit mobiliteit, transport, logistiek, maritiem\"],[\"2015\",\"Sectorunit specialistisch vakmanschap\"],[\"2015\",\"Sectorunit techniek en gebouwde omgeving\"],[\"2015\",\"Sectorunit voedsel, groen en gastvrijheid\"],[\"2015\",\"Sectorunit zakelijke dienstverlening en veiligheid\"],[\"2015\",\"Sectorunit zorg, welzijn en sport\"],[\"2016\",\"Bovensectoraal\"],[\"2016\",\"Sectorunit creatieve industrie en ICT\"],[\"2016\",\"Sectorunit handel\"],[\"2016\",\"Sectorunit mobiliteit, transport, logistiek, maritiem\"],[\"2016\",\"Sectorunit specialistisch vakmanschap\"],[\"2016\",\"Sectorunit techniek en gebouwde omgeving\"],[\"2016\",\"Sectorunit voedsel, groen en gastvrijheid\"],[\"2016\",\"Sectorunit zakelijke dienstverlening en veiligheid\"],[\"2016\",\"Sectorunit zorg, welzijn en sport\"],[\"2017\",\"Bovensectoraal\"],[\"2017\",\"Sectorunit creatieve industrie en ICT\"],[\"2017\",\"Sectorunit handel\"],[\"2017\",\"Sectorunit mobiliteit, transport, logistiek, maritiem\"],[\"2017\",\"Sectorunit specialistisch vakmanschap\"],[\"2017\",\"Sectorunit techniek en gebouwde omgeving\"],[\"2017\",\"Sectorunit voedsel, groen en gastvrijheid\"],[\"2017\",\"Sectorunit zakelijke dienstverlening en veiligheid\"],[\"2017\",\"Sectorunit zorg, welzijn en sport\"]],\"range_padding\":0.1},\"id\":\"9a2fe400-e5dc-47e8-adbf-4c57768a0c02\",\"type\":\"FactorRange\"},{\"attributes\":{},\"id\":\"9bebb0c8-ae09-4cc7-8bf3-d79abe147892\",\"type\":\"PanTool\"},{\"attributes\":{\"callback\":null,\"js_property_callbacks\":{\"change:value\":[{\"id\":\"97b50f5f-7afb-4acb-9eb4-bc56ad77e138\",\"type\":\"CustomJS\"}]},\"options\":[\"ALL\",\"Bovensectoraal\",\"Sectorunit creatieve industrie en ICT\",\"Sectorunit handel\",\"Sectorunit mobiliteit, transport, logistiek, maritiem\",\"Sectorunit specialistisch vakmanschap\",\"Sectorunit techniek en gebouwde omgeving\",\"Sectorunit voedsel, groen en gastvrijheid\",\"Sectorunit zakelijke dienstverlening en veiligheid\",\"Sectorunit zorg, welzijn en sport\"],\"title\":\"Sector:\",\"value\":\"ALL\"},\"id\":\"1f235d54-a98e-4de2-a834-d0c49f86ae05\",\"type\":\"Select\"},{\"attributes\":{\"bottom_units\":\"screen\",\"fill_alpha\":{\"value\":0.5},\"fill_color\":{\"value\":\"lightgrey\"},\"left_units\":\"screen\",\"level\":\"overlay\",\"line_alpha\":{\"value\":1.0},\"line_color\":{\"value\":\"black\"},\"line_dash\":[4,4],\"line_width\":{\"value\":2},\"plot\":null,\"render_mode\":\"css\",\"right_units\":\"screen\",\"top_units\":\"screen\"},\"id\":\"ab351b37-d18d-44f9-9294-69c91c7d0341\",\"type\":\"BoxAnnotation\"},{\"attributes\":{\"args\":{\"jaar_select_obj\":{\"id\":\"1028132d-7980-4b7e-9f01-17ace61b0bb6\",\"type\":\"Select\"},\"original_source\":{\"id\":\"8846b658-dfe5-467d-a835-f89c9bfe5436\",\"type\":\"ColumnDataSource\"},\"sector_select_obj\":{\"id\":\"1f235d54-a98e-4de2-a834-d0c49f86ae05\",\"type\":\"Select\"},\"source\":{\"id\":\"091da3c1-e481-4f02-90e8-819fff266502\",\"type\":\"ColumnDataSource\"},\"target_obj\":{\"id\":\"f65d2251-7e01-46f8-a1b3-d3444a5865f8\",\"type\":\"DataTable\"}},\"code\":\"\\nvar data = source.data;\\nvar original_data = original_source.data;\\nvar sector = sector_select_obj.value;\\nconsole.log(\\\"sector: \\\" + sector);\\nvar jaar = jaar_select_obj.value;\\nconsole.log(\\\"jaar: \\\" + jaar);\\nfor (var key in original_data) {\\n    data[key] = [];\\n    for (var i = 0; i < original_data['SECTORUNIT SBB'].length; ++i) {\\n        if ((sector === \\\"ALL\\\" || original_data['SECTORUNIT SBB'][i] === sector) &&\\n            (jaar === \\\"ALL\\\" || original_data['Jaar'][i] === jaar)) {\\n            data[key].push(original_data[key][i]);\\n        }\\n    }\\n}\\ntarget_obj.change.emit();;\\nsource.change.emit();\\n\"},\"id\":\"97b50f5f-7afb-4acb-9eb4-bc56ad77e138\",\"type\":\"CustomJS\"},{\"attributes\":{},\"id\":\"3827c9ed-b791-4521-9cb5-b915ddeb1581\",\"type\":\"WheelZoomTool\"},{\"attributes\":{\"editor\":{\"id\":\"f27f07af-6f4c-4ed5-8f44-ff52448228b3\",\"type\":\"StringEditor\"},\"field\":\"Aantal\",\"formatter\":{\"id\":\"842a71b0-4116-44b8-8c73-9b7398f460dd\",\"type\":\"StringFormatter\"},\"title\":\"Aantal\"},\"id\":\"f0dd16d3-5853-4d90-badf-b992c3ce3848\",\"type\":\"TableColumn\"},{\"attributes\":{\"overlay\":{\"id\":\"ab351b37-d18d-44f9-9294-69c91c7d0341\",\"type\":\"BoxAnnotation\"}},\"id\":\"4ac1860d-959b-47ed-a38f-91b15eee28b8\",\"type\":\"BoxZoomTool\"},{\"attributes\":{\"editor\":{\"id\":\"44f09314-c72d-40d8-b07c-65a9c6511a96\",\"type\":\"StringEditor\"},\"field\":\"Jaar\",\"formatter\":{\"id\":\"d0fa28b7-69f0-40f0-9152-b8f25a5c4b0a\",\"type\":\"StringFormatter\"},\"title\":\"Jaar\"},\"id\":\"110c2352-2ba4-440f-8ff8-4aa66ab2de40\",\"type\":\"TableColumn\"},{\"attributes\":{},\"id\":\"7eda3563-a06b-4a96-9829-28c504069df6\",\"type\":\"SaveTool\"},{\"attributes\":{},\"id\":\"3d4845c5-c488-456e-80ea-8a55e996e09b\",\"type\":\"ResetTool\"},{\"attributes\":{},\"id\":\"9c58b579-820e-4058-8b41-46f28f43c721\",\"type\":\"HelpTool\"},{\"attributes\":{\"fields\":[\"2013\"]},\"id\":\"3ea88d64-2d26-450f-b019-a64d5e97fe4b\",\"type\":\"Stack\"},{\"attributes\":{\"source\":{\"id\":\"091da3c1-e481-4f02-90e8-819fff266502\",\"type\":\"ColumnDataSource\"}},\"id\":\"2c950035-5ac4-45d8-b48c-58280253f4ef\",\"type\":\"CDSView\"},{\"attributes\":{\"fields\":[\"2013\",\"2014\",\"2015\"]},\"id\":\"038df3cc-8f7e-438b-8bd1-e289a44ba6c8\",\"type\":\"Stack\"},{\"attributes\":{\"fields\":[\"2013\",\"2014\",\"2015\",\"2016\"]},\"id\":\"dbbca2c6-e71f-482c-bd05-08769571f3f8\",\"type\":\"Stack\"},{\"attributes\":{\"callback\":null,\"js_property_callbacks\":{\"change:value\":[{\"id\":\"97b50f5f-7afb-4acb-9eb4-bc56ad77e138\",\"type\":\"CustomJS\"}]},\"options\":[\"ALL\",\"2013\",\"2014\",\"2015\",\"2016\",\"2017\"],\"title\":\"Jaar:\",\"value\":\"ALL\"},\"id\":\"1028132d-7980-4b7e-9f01-17ace61b0bb6\",\"type\":\"Select\"},{\"attributes\":{\"fields\":[\"2013\",\"2014\",\"2015\"]},\"id\":\"6e130d00-7414-4db7-b9b8-b6c53c3cc148\",\"type\":\"Stack\"},{\"attributes\":{\"fields\":[\"2013\",\"2014\",\"2015\",\"2016\"]},\"id\":\"e869a833-fba8-4c9d-a458-0fca1175178f\",\"type\":\"Stack\"},{\"attributes\":{\"bottom\":{\"expr\":{\"id\":\"ac8ccb39-6976-448e-8bc2-86601d10f2cb\",\"type\":\"Stack\"}},\"fill_alpha\":{\"value\":0.1},\"fill_color\":{\"value\":\"#1f77b4\"},\"line_alpha\":{\"value\":0.1},\"line_color\":{\"value\":\"#1f77b4\"},\"top\":{\"expr\":{\"id\":\"8577f72b-8b82-4eba-a7e3-e1c55eb17d13\",\"type\":\"Stack\"}},\"width\":{\"value\":0.8},\"x\":{\"field\":\"x\"}},\"id\":\"a442735e-7e0e-4a4d-8253-e8514fe0e318\",\"type\":\"VBar\"},{\"attributes\":{\"bottom\":{\"expr\":{\"id\":\"ac8ccb39-6976-448e-8bc2-86601d10f2cb\",\"type\":\"Stack\"}},\"fill_color\":{\"value\":\"#1f77b4\"},\"line_color\":{\"value\":\"#1f77b4\"},\"top\":{\"expr\":{\"id\":\"8577f72b-8b82-4eba-a7e3-e1c55eb17d13\",\"type\":\"Stack\"}},\"width\":{\"value\":0.8},\"x\":{\"field\":\"x\"}},\"id\":\"1257e5ed-7835-4419-bd27-9580084cb4f5\",\"type\":\"VBar\"},{\"attributes\":{\"children\":[{\"id\":\"f65d2251-7e01-46f8-a1b3-d3444a5865f8\",\"type\":\"DataTable\"}],\"height\":400},\"id\":\"67c87a81-4ad3-4281-aa4a-848ec80dee72\",\"type\":\"WidgetBox\"},{\"attributes\":{\"callback\":null,\"column_names\":[\"x\",\"counts\"],\"data\":{\"counts\":[[369],[6856],[5792],[2383],[463],[6523],[6892],[9769],[22036],[517],[7066],[6105],[2472],[573],[6176],[7078],[10178],[22116],[433],[7667],[6009],[2677],[568],[6270],[7720],[10071],[22298],[306],[8033],[6134],[2765],[596],[6310],[7851],[9482],[20812],[562],[9663],[6248],[3027],[649],[6517],[10070],[9214],[21885]],\"x\":[[\"2013\",\"Bovensectoraal\"],[\"2013\",\"Sectorunit creatieve industrie en ICT\"],[\"2013\",\"Sectorunit handel\"],[\"2013\",\"Sectorunit mobiliteit, transport, logistiek, maritiem\"],[\"2013\",\"Sectorunit specialistisch vakmanschap\"],[\"2013\",\"Sectorunit techniek en gebouwde omgeving\"],[\"2013\",\"Sectorunit voedsel, groen en gastvrijheid\"],[\"2013\",\"Sectorunit zakelijke dienstverlening en veiligheid\"],[\"2013\",\"Sectorunit zorg, welzijn en sport\"],[\"2014\",\"Bovensectoraal\"],[\"2014\",\"Sectorunit creatieve industrie en ICT\"],[\"2014\",\"Sectorunit handel\"],[\"2014\",\"Sectorunit mobiliteit, transport, logistiek, maritiem\"],[\"2014\",\"Sectorunit specialistisch vakmanschap\"],[\"2014\",\"Sectorunit techniek en gebouwde omgeving\"],[\"2014\",\"Sectorunit voedsel, groen en gastvrijheid\"],[\"2014\",\"Sectorunit zakelijke dienstverlening en veiligheid\"],[\"2014\",\"Sectorunit zorg, welzijn en sport\"],[\"2015\",\"Bovensectoraal\"],[\"2015\",\"Sectorunit creatieve industrie en ICT\"],[\"2015\",\"Sectorunit handel\"],[\"2015\",\"Sectorunit mobiliteit, transport, logistiek, maritiem\"],[\"2015\",\"Sectorunit specialistisch vakmanschap\"],[\"2015\",\"Sectorunit techniek en gebouwde omgeving\"],[\"2015\",\"Sectorunit voedsel, groen en gastvrijheid\"],[\"2015\",\"Sectorunit zakelijke dienstverlening en veiligheid\"],[\"2015\",\"Sectorunit zorg, welzijn en sport\"],[\"2016\",\"Bovensectoraal\"],[\"2016\",\"Sectorunit creatieve industrie en ICT\"],[\"2016\",\"Sectorunit handel\"],[\"2016\",\"Sectorunit mobiliteit, transport, logistiek, maritiem\"],[\"2016\",\"Sectorunit specialistisch vakmanschap\"],[\"2016\",\"Sectorunit techniek en gebouwde omgeving\"],[\"2016\",\"Sectorunit voedsel, groen en gastvrijheid\"],[\"2016\",\"Sectorunit zakelijke dienstverlening en veiligheid\"],[\"2016\",\"Sectorunit zorg, welzijn en sport\"],[\"2017\",\"Bovensectoraal\"],[\"2017\",\"Sectorunit creatieve industrie en ICT\"],[\"2017\",\"Sectorunit handel\"],[\"2017\",\"Sectorunit mobiliteit, transport, logistiek, maritiem\"],[\"2017\",\"Sectorunit specialistisch vakmanschap\"],[\"2017\",\"Sectorunit techniek en gebouwde omgeving\"],[\"2017\",\"Sectorunit voedsel, groen en gastvrijheid\"],[\"2017\",\"Sectorunit zakelijke dienstverlening en veiligheid\"],[\"2017\",\"Sectorunit zorg, welzijn en sport\"]]}},\"id\":\"4f34d2f6-b358-4f3a-b0ff-91893ffd70be\",\"type\":\"ColumnDataSource\"},{\"attributes\":{},\"id\":\"39e8d54f-9c5d-40b6-80f8-7c23e5b264d9\",\"type\":\"BasicTickFormatter\"},{\"attributes\":{\"fields\":[\"2013\",\"2014\",\"2015\",\"2016\",\"2017\"]},\"id\":\"29252bbe-d12f-48c4-b5b3-d46d0ddb28ee\",\"type\":\"Stack\"},{\"attributes\":{\"label\":{\"value\":\"2013\"},\"renderers\":[{\"id\":\"278c1370-2130-43fc-8ac3-be2361cb28d2\",\"type\":\"GlyphRenderer\"}]},\"id\":\"71f582eb-f742-456a-8a43-f4ae8504df2e\",\"type\":\"LegendItem\"},{\"attributes\":{\"items\":[{\"id\":\"71f582eb-f742-456a-8a43-f4ae8504df2e\",\"type\":\"LegendItem\"},{\"id\":\"d7916ac6-49d2-4e75-9231-0ca1b3d6514b\",\"type\":\"LegendItem\"},{\"id\":\"56f0003a-13f8-441d-89e1-bd2ffeb36ca8\",\"type\":\"LegendItem\"},{\"id\":\"b05e6081-eef6-4fce-898c-b6299f8954ac\",\"type\":\"LegendItem\"},{\"id\":\"00dd5bf4-cf80-4ab6-9549-9de989a6cf04\",\"type\":\"LegendItem\"}],\"plot\":{\"id\":\"9a5b3d81-6060-41e6-8659-70095c0a0eba\",\"subtype\":\"Figure\",\"type\":\"Plot\"}},\"id\":\"b03b3115-c177-49a7-b2e0-dfb45af6972c\",\"type\":\"Legend\"},{\"attributes\":{\"bottom\":{\"expr\":{\"id\":\"3ea88d64-2d26-450f-b019-a64d5e97fe4b\",\"type\":\"Stack\"}},\"fill_alpha\":{\"value\":0.1},\"fill_color\":{\"value\":\"#1f77b4\"},\"line_alpha\":{\"value\":0.1},\"line_color\":{\"value\":\"#1f77b4\"},\"top\":{\"expr\":{\"id\":\"ef338852-b937-4737-b6d3-43d49b93ad77\",\"type\":\"Stack\"}},\"width\":{\"value\":0.8},\"x\":{\"field\":\"x\"}},\"id\":\"1eb33ea9-597c-42ef-bba3-5537a37d386b\",\"type\":\"VBar\"},{\"attributes\":{},\"id\":\"df0be919-b325-47e0-96b8-49d8e712598c\",\"type\":\"CategoricalTickFormatter\"},{\"attributes\":{\"label\":{\"value\":\"2015\"},\"renderers\":[{\"id\":\"f46b1648-8e5b-4c49-8dee-6497bf6e2d8c\",\"type\":\"GlyphRenderer\"}]},\"id\":\"56f0003a-13f8-441d-89e1-bd2ffeb36ca8\",\"type\":\"LegendItem\"},{\"attributes\":{\"data_source\":{\"id\":\"4f34d2f6-b358-4f3a-b0ff-91893ffd70be\",\"type\":\"ColumnDataSource\"},\"glyph\":{\"id\":\"1257e5ed-7835-4419-bd27-9580084cb4f5\",\"type\":\"VBar\"},\"hover_glyph\":null,\"muted_glyph\":null,\"nonselection_glyph\":{\"id\":\"a442735e-7e0e-4a4d-8253-e8514fe0e318\",\"type\":\"VBar\"},\"selection_glyph\":null,\"view\":{\"id\":\"bd3cc2a0-322f-4eae-9c14-53bf1d92f079\",\"type\":\"CDSView\"}},\"id\":\"278c1370-2130-43fc-8ac3-be2361cb28d2\",\"type\":\"GlyphRenderer\"},{\"attributes\":{\"source\":{\"id\":\"4f34d2f6-b358-4f3a-b0ff-91893ffd70be\",\"type\":\"ColumnDataSource\"}},\"id\":\"bd3cc2a0-322f-4eae-9c14-53bf1d92f079\",\"type\":\"CDSView\"},{\"attributes\":{\"bottom\":{\"expr\":{\"id\":\"038df3cc-8f7e-438b-8bd1-e289a44ba6c8\",\"type\":\"Stack\"}},\"fill_color\":{\"value\":\"#1f77b4\"},\"line_color\":{\"value\":\"#1f77b4\"},\"top\":{\"expr\":{\"id\":\"e869a833-fba8-4c9d-a458-0fca1175178f\",\"type\":\"Stack\"}},\"width\":{\"value\":0.8},\"x\":{\"field\":\"x\"}},\"id\":\"e0dde7ae-fb9c-493d-bfd0-6a07100e0491\",\"type\":\"VBar\"},{\"attributes\":{\"label\":{\"value\":\"2014\"},\"renderers\":[{\"id\":\"c2d1090e-48b4-432d-8b96-05678ece23fe\",\"type\":\"GlyphRenderer\"}]},\"id\":\"d7916ac6-49d2-4e75-9231-0ca1b3d6514b\",\"type\":\"LegendItem\"},{\"attributes\":{\"label\":{\"value\":\"2017\"},\"renderers\":[{\"id\":\"ba7ae604-3b8e-4577-9b03-8cbbe6c96a89\",\"type\":\"GlyphRenderer\"}]},\"id\":\"00dd5bf4-cf80-4ab6-9549-9de989a6cf04\",\"type\":\"LegendItem\"},{\"attributes\":{\"bottom\":{\"expr\":{\"id\":\"332447d7-1525-4d65-b9ae-43bd1ad71583\",\"type\":\"Stack\"}},\"fill_color\":{\"value\":\"#1f77b4\"},\"line_color\":{\"value\":\"#1f77b4\"},\"top\":{\"expr\":{\"id\":\"6e130d00-7414-4db7-b9b8-b6c53c3cc148\",\"type\":\"Stack\"}},\"width\":{\"value\":0.8},\"x\":{\"field\":\"x\"}},\"id\":\"c3c9c6e7-28ee-4648-8c2e-301466ac25dc\",\"type\":\"VBar\"},{\"attributes\":{\"bottom\":{\"expr\":{\"id\":\"3ea88d64-2d26-450f-b019-a64d5e97fe4b\",\"type\":\"Stack\"}},\"fill_color\":{\"value\":\"#1f77b4\"},\"line_color\":{\"value\":\"#1f77b4\"},\"top\":{\"expr\":{\"id\":\"ef338852-b937-4737-b6d3-43d49b93ad77\",\"type\":\"Stack\"}},\"width\":{\"value\":0.8},\"x\":{\"field\":\"x\"}},\"id\":\"15dbfe93-3e9c-40a2-9dcf-b3c9bccc44a8\",\"type\":\"VBar\"},{\"attributes\":{\"data_source\":{\"id\":\"4f34d2f6-b358-4f3a-b0ff-91893ffd70be\",\"type\":\"ColumnDataSource\"},\"glyph\":{\"id\":\"15dbfe93-3e9c-40a2-9dcf-b3c9bccc44a8\",\"type\":\"VBar\"},\"hover_glyph\":null,\"muted_glyph\":null,\"nonselection_glyph\":{\"id\":\"1eb33ea9-597c-42ef-bba3-5537a37d386b\",\"type\":\"VBar\"},\"selection_glyph\":null,\"view\":{\"id\":\"a95cbc2e-9b52-4a54-8a73-d1450d80a1ae\",\"type\":\"CDSView\"}},\"id\":\"c2d1090e-48b4-432d-8b96-05678ece23fe\",\"type\":\"GlyphRenderer\"},{\"attributes\":{\"source\":{\"id\":\"4f34d2f6-b358-4f3a-b0ff-91893ffd70be\",\"type\":\"ColumnDataSource\"}},\"id\":\"a95cbc2e-9b52-4a54-8a73-d1450d80a1ae\",\"type\":\"CDSView\"},{\"attributes\":{\"label\":{\"value\":\"2016\"},\"renderers\":[{\"id\":\"4653b268-2f34-4879-9b72-32ed9078f53a\",\"type\":\"GlyphRenderer\"}]},\"id\":\"b05e6081-eef6-4fce-898c-b6299f8954ac\",\"type\":\"LegendItem\"},{\"attributes\":{\"bottom\":{\"expr\":{\"id\":\"332447d7-1525-4d65-b9ae-43bd1ad71583\",\"type\":\"Stack\"}},\"fill_alpha\":{\"value\":0.1},\"fill_color\":{\"value\":\"#1f77b4\"},\"line_alpha\":{\"value\":0.1},\"line_color\":{\"value\":\"#1f77b4\"},\"top\":{\"expr\":{\"id\":\"6e130d00-7414-4db7-b9b8-b6c53c3cc148\",\"type\":\"Stack\"}},\"width\":{\"value\":0.8},\"x\":{\"field\":\"x\"}},\"id\":\"a0f4223f-3600-4f8a-b668-1950c792efd0\",\"type\":\"VBar\"},{\"attributes\":{\"bottom\":{\"expr\":{\"id\":\"dbbca2c6-e71f-482c-bd05-08769571f3f8\",\"type\":\"Stack\"}},\"fill_color\":{\"value\":\"#1f77b4\"},\"line_color\":{\"value\":\"#1f77b4\"},\"top\":{\"expr\":{\"id\":\"29252bbe-d12f-48c4-b5b3-d46d0ddb28ee\",\"type\":\"Stack\"}},\"width\":{\"value\":0.8},\"x\":{\"field\":\"x\"}},\"id\":\"b55b9f10-59ac-49da-a5b9-b81a5d9994fb\",\"type\":\"VBar\"},{\"attributes\":{\"data_source\":{\"id\":\"4f34d2f6-b358-4f3a-b0ff-91893ffd70be\",\"type\":\"ColumnDataSource\"},\"glyph\":{\"id\":\"c3c9c6e7-28ee-4648-8c2e-301466ac25dc\",\"type\":\"VBar\"},\"hover_glyph\":null,\"muted_glyph\":null,\"nonselection_glyph\":{\"id\":\"a0f4223f-3600-4f8a-b668-1950c792efd0\",\"type\":\"VBar\"},\"selection_glyph\":null,\"view\":{\"id\":\"5ff214b7-5a9c-4a25-a61f-29bc3029b234\",\"type\":\"CDSView\"}},\"id\":\"f46b1648-8e5b-4c49-8dee-6497bf6e2d8c\",\"type\":\"GlyphRenderer\"},{\"attributes\":{\"source\":{\"id\":\"4f34d2f6-b358-4f3a-b0ff-91893ffd70be\",\"type\":\"ColumnDataSource\"}},\"id\":\"5ff214b7-5a9c-4a25-a61f-29bc3029b234\",\"type\":\"CDSView\"},{\"attributes\":{\"children\":[{\"id\":\"1f235d54-a98e-4de2-a834-d0c49f86ae05\",\"type\":\"Select\"}]},\"id\":\"3cdb34e6-824b-4d67-8da1-cde53355a80a\",\"type\":\"WidgetBox\"},{\"attributes\":{\"bottom\":{\"expr\":{\"id\":\"038df3cc-8f7e-438b-8bd1-e289a44ba6c8\",\"type\":\"Stack\"}},\"fill_alpha\":{\"value\":0.1},\"fill_color\":{\"value\":\"#1f77b4\"},\"line_alpha\":{\"value\":0.1},\"line_color\":{\"value\":\"#1f77b4\"},\"top\":{\"expr\":{\"id\":\"e869a833-fba8-4c9d-a458-0fca1175178f\",\"type\":\"Stack\"}},\"width\":{\"value\":0.8},\"x\":{\"field\":\"x\"}},\"id\":\"78d14c6c-b118-416c-ada0-a50d190afc2f\",\"type\":\"VBar\"},{\"attributes\":{\"children\":[{\"id\":\"3cdb34e6-824b-4d67-8da1-cde53355a80a\",\"type\":\"WidgetBox\"},{\"id\":\"d1b47ff8-7613-4675-825c-afbe609e596a\",\"type\":\"WidgetBox\"},{\"id\":\"67c87a81-4ad3-4281-aa4a-848ec80dee72\",\"type\":\"WidgetBox\"},{\"id\":\"9a5b3d81-6060-41e6-8659-70095c0a0eba\",\"subtype\":\"Figure\",\"type\":\"Plot\"}]},\"id\":\"c819c87e-2e96-4880-b645-3e256e04d322\",\"type\":\"Column\"},{\"attributes\":{\"children\":[{\"id\":\"1028132d-7980-4b7e-9f01-17ace61b0bb6\",\"type\":\"Select\"}]},\"id\":\"d1b47ff8-7613-4675-825c-afbe609e596a\",\"type\":\"WidgetBox\"},{\"attributes\":{\"data_source\":{\"id\":\"4f34d2f6-b358-4f3a-b0ff-91893ffd70be\",\"type\":\"ColumnDataSource\"},\"glyph\":{\"id\":\"e0dde7ae-fb9c-493d-bfd0-6a07100e0491\",\"type\":\"VBar\"},\"hover_glyph\":null,\"muted_glyph\":null,\"nonselection_glyph\":{\"id\":\"78d14c6c-b118-416c-ada0-a50d190afc2f\",\"type\":\"VBar\"},\"selection_glyph\":null,\"view\":{\"id\":\"0ea89caa-150d-437c-9837-d9157dcc453a\",\"type\":\"CDSView\"}},\"id\":\"4653b268-2f34-4879-9b72-32ed9078f53a\",\"type\":\"GlyphRenderer\"},{\"attributes\":{\"source\":{\"id\":\"4f34d2f6-b358-4f3a-b0ff-91893ffd70be\",\"type\":\"ColumnDataSource\"}},\"id\":\"0ea89caa-150d-437c-9837-d9157dcc453a\",\"type\":\"CDSView\"},{\"attributes\":{},\"id\":\"28231ab5-976c-4c27-8f69-694e6fb1d05f\",\"type\":\"StringFormatter\"},{\"attributes\":{\"bottom\":{\"expr\":{\"id\":\"dbbca2c6-e71f-482c-bd05-08769571f3f8\",\"type\":\"Stack\"}},\"fill_alpha\":{\"value\":0.1},\"fill_color\":{\"value\":\"#1f77b4\"},\"line_alpha\":{\"value\":0.1},\"line_color\":{\"value\":\"#1f77b4\"},\"top\":{\"expr\":{\"id\":\"29252bbe-d12f-48c4-b5b3-d46d0ddb28ee\",\"type\":\"Stack\"}},\"width\":{\"value\":0.8},\"x\":{\"field\":\"x\"}},\"id\":\"8d15e1b5-0bdc-49c3-a46c-356718be2b8f\",\"type\":\"VBar\"},{\"attributes\":{},\"id\":\"f27f07af-6f4c-4ed5-8f44-ff52448228b3\",\"type\":\"StringEditor\"},{\"attributes\":{},\"id\":\"44f09314-c72d-40d8-b07c-65a9c6511a96\",\"type\":\"StringEditor\"},{\"attributes\":{\"data_source\":{\"id\":\"4f34d2f6-b358-4f3a-b0ff-91893ffd70be\",\"type\":\"ColumnDataSource\"},\"glyph\":{\"id\":\"b55b9f10-59ac-49da-a5b9-b81a5d9994fb\",\"type\":\"VBar\"},\"hover_glyph\":null,\"muted_glyph\":null,\"nonselection_glyph\":{\"id\":\"8d15e1b5-0bdc-49c3-a46c-356718be2b8f\",\"type\":\"VBar\"},\"selection_glyph\":null,\"view\":{\"id\":\"8d7a9b23-516b-4d6c-a838-10e5e66b28d1\",\"type\":\"CDSView\"}},\"id\":\"ba7ae604-3b8e-4577-9b03-8cbbe6c96a89\",\"type\":\"GlyphRenderer\"},{\"attributes\":{\"source\":{\"id\":\"4f34d2f6-b358-4f3a-b0ff-91893ffd70be\",\"type\":\"ColumnDataSource\"}},\"id\":\"8d7a9b23-516b-4d6c-a838-10e5e66b28d1\",\"type\":\"CDSView\"},{\"attributes\":{},\"id\":\"d0fa28b7-69f0-40f0-9152-b8f25a5c4b0a\",\"type\":\"StringFormatter\"},{\"attributes\":{},\"id\":\"842a71b0-4116-44b8-8c73-9b7398f460dd\",\"type\":\"StringFormatter\"},{\"attributes\":{\"below\":[{\"id\":\"0de5a0fa-eb7c-4320-97e7-8fa829c6f39b\",\"type\":\"CategoricalAxis\"}],\"left\":[{\"id\":\"e0b11fe8-98db-4b9a-8d6d-4ab7b589eabe\",\"type\":\"LinearAxis\"}],\"plot_height\":400,\"renderers\":[{\"id\":\"0de5a0fa-eb7c-4320-97e7-8fa829c6f39b\",\"type\":\"CategoricalAxis\"},{\"id\":\"fd1a17de-448e-4f91-af58-06cab9cd738c\",\"type\":\"Grid\"},{\"id\":\"e0b11fe8-98db-4b9a-8d6d-4ab7b589eabe\",\"type\":\"LinearAxis\"},{\"id\":\"46ac81fa-79dc-42a6-975f-19fa5157828c\",\"type\":\"Grid\"},{\"id\":\"ab351b37-d18d-44f9-9294-69c91c7d0341\",\"type\":\"BoxAnnotation\"},{\"id\":\"b03b3115-c177-49a7-b2e0-dfb45af6972c\",\"type\":\"Legend\"},{\"id\":\"278c1370-2130-43fc-8ac3-be2361cb28d2\",\"type\":\"GlyphRenderer\"},{\"id\":\"c2d1090e-48b4-432d-8b96-05678ece23fe\",\"type\":\"GlyphRenderer\"},{\"id\":\"f46b1648-8e5b-4c49-8dee-6497bf6e2d8c\",\"type\":\"GlyphRenderer\"},{\"id\":\"4653b268-2f34-4879-9b72-32ed9078f53a\",\"type\":\"GlyphRenderer\"},{\"id\":\"ba7ae604-3b8e-4577-9b03-8cbbe6c96a89\",\"type\":\"GlyphRenderer\"}],\"title\":{\"id\":\"ad0eb9cb-26f4-4b7f-b2c5-ee82e38c1aba\",\"type\":\"Title\"},\"toolbar\":{\"id\":\"b2c965e9-2d8c-4164-939e-46bf64894d10\",\"type\":\"Toolbar\"},\"width\":900,\"x_range\":{\"id\":\"9a2fe400-e5dc-47e8-adbf-4c57768a0c02\",\"type\":\"FactorRange\"},\"x_scale\":{\"id\":\"0fe4a55a-8e66-4d26-a714-0b895702f8fa\",\"type\":\"CategoricalScale\"},\"y_range\":{\"id\":\"2f34caba-6083-48bf-a771-b89528378e24\",\"type\":\"DataRange1d\"},\"y_scale\":{\"id\":\"c2585120-615a-4e9c-913b-325c5fe7e134\",\"type\":\"LinearScale\"}},\"id\":\"9a5b3d81-6060-41e6-8659-70095c0a0eba\",\"subtype\":\"Figure\",\"type\":\"Plot\"},{\"attributes\":{\"fields\":[]},\"id\":\"ac8ccb39-6976-448e-8bc2-86601d10f2cb\",\"type\":\"Stack\"},{\"attributes\":{\"callback\":null,\"start\":0},\"id\":\"2f34caba-6083-48bf-a771-b89528378e24\",\"type\":\"DataRange1d\"},{\"attributes\":{\"plot\":null,\"text\":\"Totalen per SBB sector per jaar\"},\"id\":\"ad0eb9cb-26f4-4b7f-b2c5-ee82e38c1aba\",\"type\":\"Title\"},{\"attributes\":{\"active_drag\":\"auto\",\"active_inspect\":\"auto\",\"active_scroll\":\"auto\",\"active_tap\":\"auto\",\"tools\":[{\"id\":\"9bebb0c8-ae09-4cc7-8bf3-d79abe147892\",\"type\":\"PanTool\"},{\"id\":\"3827c9ed-b791-4521-9cb5-b915ddeb1581\",\"type\":\"WheelZoomTool\"},{\"id\":\"4ac1860d-959b-47ed-a38f-91b15eee28b8\",\"type\":\"BoxZoomTool\"},{\"id\":\"7eda3563-a06b-4a96-9829-28c504069df6\",\"type\":\"SaveTool\"},{\"id\":\"3d4845c5-c488-456e-80ea-8a55e996e09b\",\"type\":\"ResetTool\"},{\"id\":\"9c58b579-820e-4058-8b41-46f28f43c721\",\"type\":\"HelpTool\"}]},\"id\":\"b2c965e9-2d8c-4164-939e-46bf64894d10\",\"type\":\"Toolbar\"},{\"attributes\":{\"formatter\":{\"id\":\"39e8d54f-9c5d-40b6-80f8-7c23e5b264d9\",\"type\":\"BasicTickFormatter\"},\"plot\":{\"id\":\"9a5b3d81-6060-41e6-8659-70095c0a0eba\",\"subtype\":\"Figure\",\"type\":\"Plot\"},\"ticker\":{\"id\":\"ac8b9e8a-17d2-4f07-8a2c-29db3ccf01fa\",\"type\":\"BasicTicker\"}},\"id\":\"e0b11fe8-98db-4b9a-8d6d-4ab7b589eabe\",\"type\":\"LinearAxis\"},{\"attributes\":{},\"id\":\"c2585120-615a-4e9c-913b-325c5fe7e134\",\"type\":\"LinearScale\"},{\"attributes\":{},\"id\":\"0fe4a55a-8e66-4d26-a714-0b895702f8fa\",\"type\":\"CategoricalScale\"},{\"attributes\":{\"grid_line_color\":{\"value\":null},\"plot\":{\"id\":\"9a5b3d81-6060-41e6-8659-70095c0a0eba\",\"subtype\":\"Figure\",\"type\":\"Plot\"},\"ticker\":{\"id\":\"3fdabd2f-5921-4d32-b6b7-3e38c2f99478\",\"type\":\"CategoricalTicker\"}},\"id\":\"fd1a17de-448e-4f91-af58-06cab9cd738c\",\"type\":\"Grid\"},{\"attributes\":{\"formatter\":{\"id\":\"df0be919-b325-47e0-96b8-49d8e712598c\",\"type\":\"CategoricalTickFormatter\"},\"major_label_orientation\":1,\"plot\":{\"id\":\"9a5b3d81-6060-41e6-8659-70095c0a0eba\",\"subtype\":\"Figure\",\"type\":\"Plot\"},\"ticker\":{\"id\":\"3fdabd2f-5921-4d32-b6b7-3e38c2f99478\",\"type\":\"CategoricalTicker\"}},\"id\":\"0de5a0fa-eb7c-4320-97e7-8fa829c6f39b\",\"type\":\"CategoricalAxis\"},{\"attributes\":{},\"id\":\"3fdabd2f-5921-4d32-b6b7-3e38c2f99478\",\"type\":\"CategoricalTicker\"},{\"attributes\":{\"fields\":[\"2013\"]},\"id\":\"8577f72b-8b82-4eba-a7e3-e1c55eb17d13\",\"type\":\"Stack\"},{\"attributes\":{},\"id\":\"ac8b9e8a-17d2-4f07-8a2c-29db3ccf01fa\",\"type\":\"BasicTicker\"},{\"attributes\":{\"callback\":null,\"column_names\":[\"SECTORUNIT SBB\",\"Jaar\",\"Aantal\",\"index\"],\"data\":{\"Aantal\":[369,517,433,306,562,6856,7066,7667,8033,9663,5792,6105,6009,6134,6248,2383,2472,2677,2765,3027,463,573,568,596,649,6523,6176,6270,6310,6517,6892,7078,7720,7851,10070,9769,10178,10071,9482,9214,22036,22116,22298,20812,21885],\"Jaar\":[\"2013\",\"2014\",\"2015\",\"2016\",\"2017\",\"2013\",\"2014\",\"2015\",\"2016\",\"2017\",\"2013\",\"2014\",\"2015\",\"2016\",\"2017\",\"2013\",\"2014\",\"2015\",\"2016\",\"2017\",\"2013\",\"2014\",\"2015\",\"2016\",\"2017\",\"2013\",\"2014\",\"2015\",\"2016\",\"2017\",\"2013\",\"2014\",\"2015\",\"2016\",\"2017\",\"2013\",\"2014\",\"2015\",\"2016\",\"2017\",\"2013\",\"2014\",\"2015\",\"2016\",\"2017\"],\"SECTORUNIT SBB\":[\"Bovensectoraal\",\"Bovensectoraal\",\"Bovensectoraal\",\"Bovensectoraal\",\"Bovensectoraal\",\"Sectorunit creatieve industrie en ICT\",\"Sectorunit creatieve industrie en ICT\",\"Sectorunit creatieve industrie en ICT\",\"Sectorunit creatieve industrie en ICT\",\"Sectorunit creatieve industrie en ICT\",\"Sectorunit handel\",\"Sectorunit handel\",\"Sectorunit handel\",\"Sectorunit handel\",\"Sectorunit handel\",\"Sectorunit mobiliteit, transport, logistiek, maritiem\",\"Sectorunit mobiliteit, transport, logistiek, maritiem\",\"Sectorunit mobiliteit, transport, logistiek, maritiem\",\"Sectorunit mobiliteit, transport, logistiek, maritiem\",\"Sectorunit mobiliteit, transport, logistiek, maritiem\",\"Sectorunit specialistisch vakmanschap\",\"Sectorunit specialistisch vakmanschap\",\"Sectorunit specialistisch vakmanschap\",\"Sectorunit specialistisch vakmanschap\",\"Sectorunit specialistisch vakmanschap\",\"Sectorunit techniek en gebouwde omgeving\",\"Sectorunit techniek en gebouwde omgeving\",\"Sectorunit techniek en gebouwde omgeving\",\"Sectorunit techniek en gebouwde omgeving\",\"Sectorunit techniek en gebouwde omgeving\",\"Sectorunit voedsel, groen en gastvrijheid\",\"Sectorunit voedsel, groen en gastvrijheid\",\"Sectorunit voedsel, groen en gastvrijheid\",\"Sectorunit voedsel, groen en gastvrijheid\",\"Sectorunit voedsel, groen en gastvrijheid\",\"Sectorunit zakelijke dienstverlening en veiligheid\",\"Sectorunit zakelijke dienstverlening en veiligheid\",\"Sectorunit zakelijke dienstverlening en veiligheid\",\"Sectorunit zakelijke dienstverlening en veiligheid\",\"Sectorunit zakelijke dienstverlening en veiligheid\",\"Sectorunit zorg, welzijn en sport\",\"Sectorunit zorg, welzijn en sport\",\"Sectorunit zorg, welzijn en sport\",\"Sectorunit zorg, welzijn en sport\",\"Sectorunit zorg, welzijn en sport\"],\"index\":[0,1,2,3,4,5,6,7,8,9,10,11,12,13,14,15,16,17,18,19,20,21,22,23,24,25,26,27,28,29,30,31,32,33,34,35,36,37,38,39,40,41,42,43,44]}},\"id\":\"8846b658-dfe5-467d-a835-f89c9bfe5436\",\"type\":\"ColumnDataSource\"},{\"attributes\":{\"dimension\":1,\"plot\":{\"id\":\"9a5b3d81-6060-41e6-8659-70095c0a0eba\",\"subtype\":\"Figure\",\"type\":\"Plot\"},\"ticker\":{\"id\":\"ac8b9e8a-17d2-4f07-8a2c-29db3ccf01fa\",\"type\":\"BasicTicker\"}},\"id\":\"46ac81fa-79dc-42a6-975f-19fa5157828c\",\"type\":\"Grid\"},{\"attributes\":{\"callback\":null,\"column_names\":[\"SECTORUNIT SBB\",\"Jaar\",\"Aantal\",\"index\"],\"data\":{\"Aantal\":[369,517,433,306,562,6856,7066,7667,8033,9663,5792,6105,6009,6134,6248,2383,2472,2677,2765,3027,463,573,568,596,649,6523,6176,6270,6310,6517,6892,7078,7720,7851,10070,9769,10178,10071,9482,9214,22036,22116,22298,20812,21885],\"Jaar\":[\"2013\",\"2014\",\"2015\",\"2016\",\"2017\",\"2013\",\"2014\",\"2015\",\"2016\",\"2017\",\"2013\",\"2014\",\"2015\",\"2016\",\"2017\",\"2013\",\"2014\",\"2015\",\"2016\",\"2017\",\"2013\",\"2014\",\"2015\",\"2016\",\"2017\",\"2013\",\"2014\",\"2015\",\"2016\",\"2017\",\"2013\",\"2014\",\"2015\",\"2016\",\"2017\",\"2013\",\"2014\",\"2015\",\"2016\",\"2017\",\"2013\",\"2014\",\"2015\",\"2016\",\"2017\"],\"SECTORUNIT SBB\":[\"Bovensectoraal\",\"Bovensectoraal\",\"Bovensectoraal\",\"Bovensectoraal\",\"Bovensectoraal\",\"Sectorunit creatieve industrie en ICT\",\"Sectorunit creatieve industrie en ICT\",\"Sectorunit creatieve industrie en ICT\",\"Sectorunit creatieve industrie en ICT\",\"Sectorunit creatieve industrie en ICT\",\"Sectorunit handel\",\"Sectorunit handel\",\"Sectorunit handel\",\"Sectorunit handel\",\"Sectorunit handel\",\"Sectorunit mobiliteit, transport, logistiek, maritiem\",\"Sectorunit mobiliteit, transport, logistiek, maritiem\",\"Sectorunit mobiliteit, transport, logistiek, maritiem\",\"Sectorunit mobiliteit, transport, logistiek, maritiem\",\"Sectorunit mobiliteit, transport, logistiek, maritiem\",\"Sectorunit specialistisch vakmanschap\",\"Sectorunit specialistisch vakmanschap\",\"Sectorunit specialistisch vakmanschap\",\"Sectorunit specialistisch vakmanschap\",\"Sectorunit specialistisch vakmanschap\",\"Sectorunit techniek en gebouwde omgeving\",\"Sectorunit techniek en gebouwde omgeving\",\"Sectorunit techniek en gebouwde omgeving\",\"Sectorunit techniek en gebouwde omgeving\",\"Sectorunit techniek en gebouwde omgeving\",\"Sectorunit voedsel, groen en gastvrijheid\",\"Sectorunit voedsel, groen en gastvrijheid\",\"Sectorunit voedsel, groen en gastvrijheid\",\"Sectorunit voedsel, groen en gastvrijheid\",\"Sectorunit voedsel, groen en gastvrijheid\",\"Sectorunit zakelijke dienstverlening en veiligheid\",\"Sectorunit zakelijke dienstverlening en veiligheid\",\"Sectorunit zakelijke dienstverlening en veiligheid\",\"Sectorunit zakelijke dienstverlening en veiligheid\",\"Sectorunit zakelijke dienstverlening en veiligheid\",\"Sectorunit zorg, welzijn en sport\",\"Sectorunit zorg, welzijn en sport\",\"Sectorunit zorg, welzijn en sport\",\"Sectorunit zorg, welzijn en sport\",\"Sectorunit zorg, welzijn en sport\"],\"index\":[0,1,2,3,4,5,6,7,8,9,10,11,12,13,14,15,16,17,18,19,20,21,22,23,24,25,26,27,28,29,30,31,32,33,34,35,36,37,38,39,40,41,42,43,44]}},\"id\":\"091da3c1-e481-4f02-90e8-819fff266502\",\"type\":\"ColumnDataSource\"},{\"attributes\":{\"columns\":[{\"id\":\"7db714bb-761f-40e7-aafc-791c9e655a66\",\"type\":\"TableColumn\"},{\"id\":\"110c2352-2ba4-440f-8ff8-4aa66ab2de40\",\"type\":\"TableColumn\"},{\"id\":\"f0dd16d3-5853-4d90-badf-b992c3ce3848\",\"type\":\"TableColumn\"}],\"source\":{\"id\":\"091da3c1-e481-4f02-90e8-819fff266502\",\"type\":\"ColumnDataSource\"},\"view\":{\"id\":\"2c950035-5ac4-45d8-b48c-58280253f4ef\",\"type\":\"CDSView\"}},\"id\":\"f65d2251-7e01-46f8-a1b3-d3444a5865f8\",\"type\":\"DataTable\"},{\"attributes\":{},\"id\":\"921f4095-6b97-47e1-9568-f2288f605ba9\",\"type\":\"StringEditor\"},{\"attributes\":{\"fields\":[\"2013\",\"2014\"]},\"id\":\"332447d7-1525-4d65-b9ae-43bd1ad71583\",\"type\":\"Stack\"},{\"attributes\":{\"editor\":{\"id\":\"921f4095-6b97-47e1-9568-f2288f605ba9\",\"type\":\"StringEditor\"},\"field\":\"SECTORUNIT SBB\",\"formatter\":{\"id\":\"28231ab5-976c-4c27-8f69-694e6fb1d05f\",\"type\":\"StringFormatter\"},\"title\":\"Sector\"},\"id\":\"7db714bb-761f-40e7-aafc-791c9e655a66\",\"type\":\"TableColumn\"},{\"attributes\":{\"fields\":[\"2013\",\"2014\"]},\"id\":\"ef338852-b937-4737-b6d3-43d49b93ad77\",\"type\":\"Stack\"}],\"root_ids\":[\"c819c87e-2e96-4880-b645-3e256e04d322\"]},\"title\":\"Bokeh Application\",\"version\":\"0.12.10\"}};\n",
       "    var render_items = [{\"docid\":\"39d40b4c-3142-464f-8b8c-b40822b31aa1\",\"elementid\":\"c711b1c1-67ff-4137-aa2c-624bb7940eae\",\"modelid\":\"c819c87e-2e96-4880-b645-3e256e04d322\"}];\n",
       "\n",
       "    root.Bokeh.embed.embed_items(docs_json, render_items);\n",
       "  }\n",
       "\n",
       "  if (root.Bokeh !== undefined) {\n",
       "    embed_document(root);\n",
       "  } else {\n",
       "    var attempts = 0;\n",
       "    var timer = setInterval(function(root) {\n",
       "      if (root.Bokeh !== undefined) {\n",
       "        embed_document(root);\n",
       "        clearInterval(timer);\n",
       "      }\n",
       "      attempts++;\n",
       "      if (attempts > 100) {\n",
       "        console.log(\"Bokeh: ERROR: Unable to embed document because BokehJS library is missing\")\n",
       "        clearInterval(timer);\n",
       "      }\n",
       "    }, 10, root)\n",
       "  }\n",
       "})(window);"
      ],
      "application/vnd.bokehjs_exec.v0+json": ""
     },
     "metadata": {
      "application/vnd.bokehjs_exec.v0+json": {
       "id": "c819c87e-2e96-4880-b645-3e256e04d322"
      }
     },
     "output_type": "display_data"
    },
    {
     "data": {
      "text/html": [
       "\n",
       "    <div class=\"bk-root\">\n",
       "        <a href=\"https://bokeh.pydata.org\" target=\"_blank\" class=\"bk-logo bk-logo-small bk-logo-notebook\"></a>\n",
       "        <span id=\"f81a8308-854b-4005-8bb0-5c437cd41d44\">Loading BokehJS ...</span>\n",
       "    </div>"
      ]
     },
     "metadata": {},
     "output_type": "display_data"
    },
    {
     "data": {
      "application/javascript": [
       "\n",
       "(function(root) {\n",
       "  function now() {\n",
       "    return new Date();\n",
       "  }\n",
       "\n",
       "  var force = true;\n",
       "\n",
       "  if (typeof (root._bokeh_onload_callbacks) === \"undefined\" || force === true) {\n",
       "    root._bokeh_onload_callbacks = [];\n",
       "    root._bokeh_is_loading = undefined;\n",
       "  }\n",
       "\n",
       "  var JS_MIME_TYPE = 'application/javascript';\n",
       "  var HTML_MIME_TYPE = 'text/html';\n",
       "  var EXEC_MIME_TYPE = 'application/vnd.bokehjs_exec.v0+json';\n",
       "  var CLASS_NAME = 'output_bokeh rendered_html';\n",
       "\n",
       "  /**\n",
       "   * Render data to the DOM node\n",
       "   */\n",
       "  function render(props, node) {\n",
       "    var script = document.createElement(\"script\");\n",
       "    node.appendChild(script);\n",
       "  }\n",
       "\n",
       "  /**\n",
       "   * Handle when an output is cleared or removed\n",
       "   */\n",
       "  function handleClearOutput(event, handle) {\n",
       "    var cell = handle.cell;\n",
       "\n",
       "    var id = cell.output_area._bokeh_element_id;\n",
       "    var server_id = cell.output_area._bokeh_server_id;\n",
       "    // Clean up Bokeh references\n",
       "    if (id !== undefined) {\n",
       "      Bokeh.index[id].model.document.clear();\n",
       "      delete Bokeh.index[id];\n",
       "    }\n",
       "\n",
       "    if (server_id !== undefined) {\n",
       "      // Clean up Bokeh references\n",
       "      var cmd = \"from bokeh.io.state import curstate; print(curstate().uuid_to_server['\" + server_id + \"'].get_sessions()[0].document.roots[0]._id)\";\n",
       "      cell.notebook.kernel.execute(cmd, {\n",
       "        iopub: {\n",
       "          output: function(msg) {\n",
       "            var element_id = msg.content.text.trim();\n",
       "            Bokeh.index[element_id].model.document.clear();\n",
       "            delete Bokeh.index[element_id];\n",
       "          }\n",
       "        }\n",
       "      });\n",
       "      // Destroy server and session\n",
       "      var cmd = \"import bokeh.io.notebook as ion; ion.destroy_server('\" + server_id + \"')\";\n",
       "      cell.notebook.kernel.execute(cmd);\n",
       "    }\n",
       "  }\n",
       "\n",
       "  /**\n",
       "   * Handle when a new output is added\n",
       "   */\n",
       "  function handleAddOutput(event, handle) {\n",
       "    var output_area = handle.output_area;\n",
       "    var output = handle.output;\n",
       "\n",
       "    // limit handleAddOutput to display_data with EXEC_MIME_TYPE content only\n",
       "    if ((output.output_type != \"display_data\") || (!output.data.hasOwnProperty(EXEC_MIME_TYPE))) {\n",
       "      return\n",
       "    }\n",
       "\n",
       "    var toinsert = output_area.element.find(`.${CLASS_NAME.split(' ')[0]}`);\n",
       "\n",
       "    if (output.metadata[EXEC_MIME_TYPE][\"id\"] !== undefined) {\n",
       "      toinsert[0].firstChild.textContent = output.data[JS_MIME_TYPE];\n",
       "      // store reference to embed id on output_area\n",
       "      output_area._bokeh_element_id = output.metadata[EXEC_MIME_TYPE][\"id\"];\n",
       "    }\n",
       "    if (output.metadata[EXEC_MIME_TYPE][\"server_id\"] !== undefined) {\n",
       "      var bk_div = document.createElement(\"div\");\n",
       "      bk_div.innerHTML = output.data[HTML_MIME_TYPE];\n",
       "      var script_attrs = bk_div.children[0].attributes;\n",
       "      for (var i = 0; i < script_attrs.length; i++) {\n",
       "        toinsert[0].firstChild.setAttribute(script_attrs[i].name, script_attrs[i].value);\n",
       "      }\n",
       "      // store reference to server id on output_area\n",
       "      output_area._bokeh_server_id = output.metadata[EXEC_MIME_TYPE][\"server_id\"];\n",
       "    }\n",
       "  }\n",
       "\n",
       "  function register_renderer(events, OutputArea) {\n",
       "\n",
       "    function append_mime(data, metadata, element) {\n",
       "      // create a DOM node to render to\n",
       "      var toinsert = this.create_output_subarea(\n",
       "        metadata,\n",
       "        CLASS_NAME,\n",
       "        EXEC_MIME_TYPE\n",
       "      );\n",
       "      this.keyboard_manager.register_events(toinsert);\n",
       "      // Render to node\n",
       "      var props = {data: data, metadata: metadata[EXEC_MIME_TYPE]};\n",
       "      render(props, toinsert[0]);\n",
       "      element.append(toinsert);\n",
       "      return toinsert\n",
       "    }\n",
       "\n",
       "    /* Handle when an output is cleared or removed */\n",
       "    events.on('clear_output.CodeCell', handleClearOutput);\n",
       "    events.on('delete.Cell', handleClearOutput);\n",
       "\n",
       "    /* Handle when a new output is added */\n",
       "    events.on('output_added.OutputArea', handleAddOutput);\n",
       "\n",
       "    /**\n",
       "     * Register the mime type and append_mime function with output_area\n",
       "     */\n",
       "    OutputArea.prototype.register_mime_type(EXEC_MIME_TYPE, append_mime, {\n",
       "      /* Is output safe? */\n",
       "      safe: true,\n",
       "      /* Index of renderer in `output_area.display_order` */\n",
       "      index: 0\n",
       "    });\n",
       "  }\n",
       "\n",
       "  // register the mime type if in Jupyter Notebook environment and previously unregistered\n",
       "  if (root.Jupyter !== undefined) {\n",
       "    var events = require('base/js/events');\n",
       "    var OutputArea = require('notebook/js/outputarea').OutputArea;\n",
       "\n",
       "    if (OutputArea.prototype.mime_types().indexOf(EXEC_MIME_TYPE) == -1) {\n",
       "      register_renderer(events, OutputArea);\n",
       "    }\n",
       "  }\n",
       "\n",
       "  \n",
       "  if (typeof (root._bokeh_timeout) === \"undefined\" || force === true) {\n",
       "    root._bokeh_timeout = Date.now() + 5000;\n",
       "    root._bokeh_failed_load = false;\n",
       "  }\n",
       "\n",
       "  var NB_LOAD_WARNING = {'data': {'text/html':\n",
       "     \"<div style='background-color: #fdd'>\\n\"+\n",
       "     \"<p>\\n\"+\n",
       "     \"BokehJS does not appear to have successfully loaded. If loading BokehJS from CDN, this \\n\"+\n",
       "     \"may be due to a slow or bad network connection. Possible fixes:\\n\"+\n",
       "     \"</p>\\n\"+\n",
       "     \"<ul>\\n\"+\n",
       "     \"<li>re-rerun `output_notebook()` to attempt to load from CDN again, or</li>\\n\"+\n",
       "     \"<li>use INLINE resources instead, as so:</li>\\n\"+\n",
       "     \"</ul>\\n\"+\n",
       "     \"<code>\\n\"+\n",
       "     \"from bokeh.resources import INLINE\\n\"+\n",
       "     \"output_notebook(resources=INLINE)\\n\"+\n",
       "     \"</code>\\n\"+\n",
       "     \"</div>\"}};\n",
       "\n",
       "  function display_loaded() {\n",
       "    var el = document.getElementById(\"f81a8308-854b-4005-8bb0-5c437cd41d44\");\n",
       "    if (el != null) {\n",
       "      el.textContent = \"BokehJS is loading...\";\n",
       "    }\n",
       "    if (root.Bokeh !== undefined) {\n",
       "      if (el != null) {\n",
       "        el.textContent = \"BokehJS \" + root.Bokeh.version + \" successfully loaded.\";\n",
       "      }\n",
       "    } else if (Date.now() < root._bokeh_timeout) {\n",
       "      setTimeout(display_loaded, 100)\n",
       "    }\n",
       "  }\n",
       "\n",
       "\n",
       "  function run_callbacks() {\n",
       "    try {\n",
       "      root._bokeh_onload_callbacks.forEach(function(callback) { callback() });\n",
       "    }\n",
       "    finally {\n",
       "      delete root._bokeh_onload_callbacks\n",
       "    }\n",
       "    console.info(\"Bokeh: all callbacks have finished\");\n",
       "  }\n",
       "\n",
       "  function load_libs(js_urls, callback) {\n",
       "    root._bokeh_onload_callbacks.push(callback);\n",
       "    if (root._bokeh_is_loading > 0) {\n",
       "      console.log(\"Bokeh: BokehJS is being loaded, scheduling callback at\", now());\n",
       "      return null;\n",
       "    }\n",
       "    if (js_urls == null || js_urls.length === 0) {\n",
       "      run_callbacks();\n",
       "      return null;\n",
       "    }\n",
       "    console.log(\"Bokeh: BokehJS not loaded, scheduling load and callback at\", now());\n",
       "    root._bokeh_is_loading = js_urls.length;\n",
       "    for (var i = 0; i < js_urls.length; i++) {\n",
       "      var url = js_urls[i];\n",
       "      var s = document.createElement('script');\n",
       "      s.src = url;\n",
       "      s.async = false;\n",
       "      s.onreadystatechange = s.onload = function() {\n",
       "        root._bokeh_is_loading--;\n",
       "        if (root._bokeh_is_loading === 0) {\n",
       "          console.log(\"Bokeh: all BokehJS libraries loaded\");\n",
       "          run_callbacks()\n",
       "        }\n",
       "      };\n",
       "      s.onerror = function() {\n",
       "        console.warn(\"failed to load library \" + url);\n",
       "      };\n",
       "      console.log(\"Bokeh: injecting script tag for BokehJS library: \", url);\n",
       "      document.getElementsByTagName(\"head\")[0].appendChild(s);\n",
       "    }\n",
       "  };var element = document.getElementById(\"f81a8308-854b-4005-8bb0-5c437cd41d44\");\n",
       "  if (element == null) {\n",
       "    console.log(\"Bokeh: ERROR: autoload.js configured with elementid 'f81a8308-854b-4005-8bb0-5c437cd41d44' but no matching script tag was found. \")\n",
       "    return false;\n",
       "  }\n",
       "\n",
       "  var js_urls = [\"https://cdn.pydata.org/bokeh/release/bokeh-0.12.10.min.js\", \"https://cdn.pydata.org/bokeh/release/bokeh-widgets-0.12.10.min.js\", \"https://cdn.pydata.org/bokeh/release/bokeh-tables-0.12.10.min.js\", \"https://cdn.pydata.org/bokeh/release/bokeh-gl-0.12.10.min.js\"];\n",
       "\n",
       "  var inline_js = [\n",
       "    function(Bokeh) {\n",
       "      Bokeh.set_log_level(\"info\");\n",
       "    },\n",
       "    \n",
       "    function(Bokeh) {\n",
       "      \n",
       "    },\n",
       "    function(Bokeh) {\n",
       "      console.log(\"Bokeh: injecting CSS: https://cdn.pydata.org/bokeh/release/bokeh-0.12.10.min.css\");\n",
       "      Bokeh.embed.inject_css(\"https://cdn.pydata.org/bokeh/release/bokeh-0.12.10.min.css\");\n",
       "      console.log(\"Bokeh: injecting CSS: https://cdn.pydata.org/bokeh/release/bokeh-widgets-0.12.10.min.css\");\n",
       "      Bokeh.embed.inject_css(\"https://cdn.pydata.org/bokeh/release/bokeh-widgets-0.12.10.min.css\");\n",
       "      console.log(\"Bokeh: injecting CSS: https://cdn.pydata.org/bokeh/release/bokeh-tables-0.12.10.min.css\");\n",
       "      Bokeh.embed.inject_css(\"https://cdn.pydata.org/bokeh/release/bokeh-tables-0.12.10.min.css\");\n",
       "    }\n",
       "  ];\n",
       "\n",
       "  function run_inline_js() {\n",
       "    \n",
       "    if ((root.Bokeh !== undefined) || (force === true)) {\n",
       "      for (var i = 0; i < inline_js.length; i++) {\n",
       "        inline_js[i].call(root, root.Bokeh);\n",
       "      }if (force === true) {\n",
       "        display_loaded();\n",
       "      }} else if (Date.now() < root._bokeh_timeout) {\n",
       "      setTimeout(run_inline_js, 100);\n",
       "    } else if (!root._bokeh_failed_load) {\n",
       "      console.log(\"Bokeh: BokehJS failed to load within specified timeout.\");\n",
       "      root._bokeh_failed_load = true;\n",
       "    } else if (force !== true) {\n",
       "      var cell = $(document.getElementById(\"f81a8308-854b-4005-8bb0-5c437cd41d44\")).parents('.cell').data().cell;\n",
       "      cell.output_area.append_execute_result(NB_LOAD_WARNING)\n",
       "    }\n",
       "\n",
       "  }\n",
       "\n",
       "  if (root._bokeh_is_loading === 0) {\n",
       "    console.log(\"Bokeh: BokehJS loaded, going straight to plotting\");\n",
       "    run_inline_js();\n",
       "  } else {\n",
       "    load_libs(js_urls, function() {\n",
       "      console.log(\"Bokeh: BokehJS plotting callback run at\", now());\n",
       "      run_inline_js();\n",
       "    });\n",
       "  }\n",
       "}(window));"
      ],
      "application/vnd.bokehjs_load.v0+json": "\n(function(root) {\n  function now() {\n    return new Date();\n  }\n\n  var force = true;\n\n  if (typeof (root._bokeh_onload_callbacks) === \"undefined\" || force === true) {\n    root._bokeh_onload_callbacks = [];\n    root._bokeh_is_loading = undefined;\n  }\n\n  \n\n  \n  if (typeof (root._bokeh_timeout) === \"undefined\" || force === true) {\n    root._bokeh_timeout = Date.now() + 5000;\n    root._bokeh_failed_load = false;\n  }\n\n  var NB_LOAD_WARNING = {'data': {'text/html':\n     \"<div style='background-color: #fdd'>\\n\"+\n     \"<p>\\n\"+\n     \"BokehJS does not appear to have successfully loaded. If loading BokehJS from CDN, this \\n\"+\n     \"may be due to a slow or bad network connection. Possible fixes:\\n\"+\n     \"</p>\\n\"+\n     \"<ul>\\n\"+\n     \"<li>re-rerun `output_notebook()` to attempt to load from CDN again, or</li>\\n\"+\n     \"<li>use INLINE resources instead, as so:</li>\\n\"+\n     \"</ul>\\n\"+\n     \"<code>\\n\"+\n     \"from bokeh.resources import INLINE\\n\"+\n     \"output_notebook(resources=INLINE)\\n\"+\n     \"</code>\\n\"+\n     \"</div>\"}};\n\n  function display_loaded() {\n    var el = document.getElementById(\"f81a8308-854b-4005-8bb0-5c437cd41d44\");\n    if (el != null) {\n      el.textContent = \"BokehJS is loading...\";\n    }\n    if (root.Bokeh !== undefined) {\n      if (el != null) {\n        el.textContent = \"BokehJS \" + root.Bokeh.version + \" successfully loaded.\";\n      }\n    } else if (Date.now() < root._bokeh_timeout) {\n      setTimeout(display_loaded, 100)\n    }\n  }\n\n\n  function run_callbacks() {\n    try {\n      root._bokeh_onload_callbacks.forEach(function(callback) { callback() });\n    }\n    finally {\n      delete root._bokeh_onload_callbacks\n    }\n    console.info(\"Bokeh: all callbacks have finished\");\n  }\n\n  function load_libs(js_urls, callback) {\n    root._bokeh_onload_callbacks.push(callback);\n    if (root._bokeh_is_loading > 0) {\n      console.log(\"Bokeh: BokehJS is being loaded, scheduling callback at\", now());\n      return null;\n    }\n    if (js_urls == null || js_urls.length === 0) {\n      run_callbacks();\n      return null;\n    }\n    console.log(\"Bokeh: BokehJS not loaded, scheduling load and callback at\", now());\n    root._bokeh_is_loading = js_urls.length;\n    for (var i = 0; i < js_urls.length; i++) {\n      var url = js_urls[i];\n      var s = document.createElement('script');\n      s.src = url;\n      s.async = false;\n      s.onreadystatechange = s.onload = function() {\n        root._bokeh_is_loading--;\n        if (root._bokeh_is_loading === 0) {\n          console.log(\"Bokeh: all BokehJS libraries loaded\");\n          run_callbacks()\n        }\n      };\n      s.onerror = function() {\n        console.warn(\"failed to load library \" + url);\n      };\n      console.log(\"Bokeh: injecting script tag for BokehJS library: \", url);\n      document.getElementsByTagName(\"head\")[0].appendChild(s);\n    }\n  };var element = document.getElementById(\"f81a8308-854b-4005-8bb0-5c437cd41d44\");\n  if (element == null) {\n    console.log(\"Bokeh: ERROR: autoload.js configured with elementid 'f81a8308-854b-4005-8bb0-5c437cd41d44' but no matching script tag was found. \")\n    return false;\n  }\n\n  var js_urls = [\"https://cdn.pydata.org/bokeh/release/bokeh-0.12.10.min.js\", \"https://cdn.pydata.org/bokeh/release/bokeh-widgets-0.12.10.min.js\", \"https://cdn.pydata.org/bokeh/release/bokeh-tables-0.12.10.min.js\", \"https://cdn.pydata.org/bokeh/release/bokeh-gl-0.12.10.min.js\"];\n\n  var inline_js = [\n    function(Bokeh) {\n      Bokeh.set_log_level(\"info\");\n    },\n    \n    function(Bokeh) {\n      \n    },\n    function(Bokeh) {\n      console.log(\"Bokeh: injecting CSS: https://cdn.pydata.org/bokeh/release/bokeh-0.12.10.min.css\");\n      Bokeh.embed.inject_css(\"https://cdn.pydata.org/bokeh/release/bokeh-0.12.10.min.css\");\n      console.log(\"Bokeh: injecting CSS: https://cdn.pydata.org/bokeh/release/bokeh-widgets-0.12.10.min.css\");\n      Bokeh.embed.inject_css(\"https://cdn.pydata.org/bokeh/release/bokeh-widgets-0.12.10.min.css\");\n      console.log(\"Bokeh: injecting CSS: https://cdn.pydata.org/bokeh/release/bokeh-tables-0.12.10.min.css\");\n      Bokeh.embed.inject_css(\"https://cdn.pydata.org/bokeh/release/bokeh-tables-0.12.10.min.css\");\n    }\n  ];\n\n  function run_inline_js() {\n    \n    if ((root.Bokeh !== undefined) || (force === true)) {\n      for (var i = 0; i < inline_js.length; i++) {\n        inline_js[i].call(root, root.Bokeh);\n      }if (force === true) {\n        display_loaded();\n      }} else if (Date.now() < root._bokeh_timeout) {\n      setTimeout(run_inline_js, 100);\n    } else if (!root._bokeh_failed_load) {\n      console.log(\"Bokeh: BokehJS failed to load within specified timeout.\");\n      root._bokeh_failed_load = true;\n    } else if (force !== true) {\n      var cell = $(document.getElementById(\"f81a8308-854b-4005-8bb0-5c437cd41d44\")).parents('.cell').data().cell;\n      cell.output_area.append_execute_result(NB_LOAD_WARNING)\n    }\n\n  }\n\n  if (root._bokeh_is_loading === 0) {\n    console.log(\"Bokeh: BokehJS loaded, going straight to plotting\");\n    run_inline_js();\n  } else {\n    load_libs(js_urls, function() {\n      console.log(\"Bokeh: BokehJS plotting callback run at\", now());\n      run_inline_js();\n    });\n  }\n}(window));"
     },
     "metadata": {},
     "output_type": "display_data"
    }
   ],
   "source": [
    "#def make_document(doc):\n",
    "\n",
    "#Defineer brondata & kolommen\n",
    "source = ColumnDataSource(df_totaalSBB)\n",
    "original_source = ColumnDataSource(df_totaalSBB)\n",
    "columns = [\n",
    "   TableColumn(field=\"SECTORUNIT SBB\", title=\"Sector\"),\n",
    "   TableColumn(field=\"Jaar\", title=\"Jaar\"),\n",
    "   TableColumn(field=\"Aantal\", title=\"Aantal\"),\n",
    "]\n",
    "\n",
    "#maak data tabel\n",
    "data_table = DataTable(source=source, columns=columns)\n",
    "\n",
    "# callback code to be used by all the filter widgets\n",
    "combined_callback_code = \"\"\"\n",
    "var data = source.data;\n",
    "var original_data = original_source.data;\n",
    "var sector = sector_select_obj.value;\n",
    "console.log(\"sector: \" + sector);\n",
    "var jaar = jaar_select_obj.value;\n",
    "console.log(\"jaar: \" + jaar);\n",
    "for (var key in original_data) {\n",
    "    data[key] = [];\n",
    "    for (var i = 0; i < original_data['SECTORUNIT SBB'].length; ++i) {\n",
    "        if ((sector === \"ALL\" || original_data['SECTORUNIT SBB'][i] === sector) &&\n",
    "            (jaar === \"ALL\" || original_data['Jaar'][i] === jaar)) {\n",
    "            data[key].push(original_data[key][i]);\n",
    "        }\n",
    "    }\n",
    "}\n",
    "target_obj.change.emit();;\n",
    "source.change.emit();\n",
    "\"\"\"\n",
    "\n",
    "# define the filter widgets, without callbacks for now\n",
    "sector_list = ['ALL'] + df_totaalSBB['SECTORUNIT SBB'].unique().tolist()\n",
    "sector_select = Select(title=\"Sector:\", value=sector_list[0], options=sector_list)\n",
    "jaar_list = ['ALL'] + df_totaalSBB['Jaar'].unique().tolist()\n",
    "jaar_select = Select(title=\"Jaar:\", value=jaar_list[0], options=jaar_list)\n",
    "\n",
    "# now define the callback objects now that the filter widgets exist\n",
    "generic_callback = CustomJS(\n",
    "    args=dict(source=source, \n",
    "              original_source=original_source, \n",
    "              sector_select_obj=sector_select, \n",
    "              jaar_select_obj=jaar_select, \n",
    "              target_obj=data_table),\n",
    "    code=combined_callback_code\n",
    ")\n",
    "\n",
    "# finally, connect the callbacks to the filter widgets\n",
    "sector_select.js_on_change('value', generic_callback)\n",
    "jaar_select.js_on_change('value', generic_callback)\n",
    "\n",
    "\n",
    "\n",
    "\n",
    "\n",
    "# add chart - werkt nog niet om 1 of andere reden.....\n",
    "#source2 = ColumnDataSource(dx_totaalSBB)\n",
    "\n",
    "\n",
    "kolommen = list(df_totaalSBB['Jaar'].unique())\n",
    "sectoren = list(df_totaalSBB['SECTORUNIT SBB'].unique())\n",
    "\n",
    "x = [ (kolom, sector) for kolom in kolommen for sector in sectoren ]\n",
    "counts = []\n",
    "\n",
    "for kolom in kolommen:\n",
    "    for sector in sectoren:\n",
    "        counts.append(dx_totaalSBB.loc[sector, kolom])\n",
    "        \n",
    "#Teken grafiek\n",
    "source2 = ColumnDataSource(data=dict(x=x, counts=counts))\n",
    "\n",
    "fig = figure(x_range=FactorRange(*x), plot_height=400, title=\"Totalen per SBB sector per jaar\")\n",
    "\n",
    "fig.vbar_stack(kolommen, x='x', width=0.8, source=source2, legend=[value(x) for x in kolommen])\n",
    "\n",
    "fig.width=900\n",
    "fig.y_range.start = 0\n",
    "fig.x_range.range_padding = 0.1\n",
    "fig.xaxis.major_label_orientation = 1\n",
    "fig.xgrid.grid_line_color = None\n",
    "\n",
    "\n",
    "#layout = row(p, jaren)\n",
    "p = column(sector_select,jaar_select,data_table,fig)\n",
    "\n",
    "#doc.title = \"Sectorunit SBB chart test\"\n",
    "#doc.add_root(p)\n",
    "show(p)\n",
    "output_notebook()\n"
   ]
  },
  {
   "cell_type": "code",
   "execution_count": 123,
   "metadata": {},
   "outputs": [
    {
     "data": {
      "text/html": [
       "\n",
       "    <div class=\"bk-root\">\n",
       "        <a href=\"https://bokeh.pydata.org\" target=\"_blank\" class=\"bk-logo bk-logo-small bk-logo-notebook\"></a>\n",
       "        <span id=\"f1fc1154-45b2-4d82-b8f3-4e37919aa99f\">Loading BokehJS ...</span>\n",
       "    </div>"
      ]
     },
     "metadata": {},
     "output_type": "display_data"
    },
    {
     "data": {
      "application/javascript": [
       "\n",
       "(function(root) {\n",
       "  function now() {\n",
       "    return new Date();\n",
       "  }\n",
       "\n",
       "  var force = true;\n",
       "\n",
       "  if (typeof (root._bokeh_onload_callbacks) === \"undefined\" || force === true) {\n",
       "    root._bokeh_onload_callbacks = [];\n",
       "    root._bokeh_is_loading = undefined;\n",
       "  }\n",
       "\n",
       "  var JS_MIME_TYPE = 'application/javascript';\n",
       "  var HTML_MIME_TYPE = 'text/html';\n",
       "  var EXEC_MIME_TYPE = 'application/vnd.bokehjs_exec.v0+json';\n",
       "  var CLASS_NAME = 'output_bokeh rendered_html';\n",
       "\n",
       "  /**\n",
       "   * Render data to the DOM node\n",
       "   */\n",
       "  function render(props, node) {\n",
       "    var script = document.createElement(\"script\");\n",
       "    node.appendChild(script);\n",
       "  }\n",
       "\n",
       "  /**\n",
       "   * Handle when an output is cleared or removed\n",
       "   */\n",
       "  function handleClearOutput(event, handle) {\n",
       "    var cell = handle.cell;\n",
       "\n",
       "    var id = cell.output_area._bokeh_element_id;\n",
       "    var server_id = cell.output_area._bokeh_server_id;\n",
       "    // Clean up Bokeh references\n",
       "    if (id !== undefined) {\n",
       "      Bokeh.index[id].model.document.clear();\n",
       "      delete Bokeh.index[id];\n",
       "    }\n",
       "\n",
       "    if (server_id !== undefined) {\n",
       "      // Clean up Bokeh references\n",
       "      var cmd = \"from bokeh.io.state import curstate; print(curstate().uuid_to_server['\" + server_id + \"'].get_sessions()[0].document.roots[0]._id)\";\n",
       "      cell.notebook.kernel.execute(cmd, {\n",
       "        iopub: {\n",
       "          output: function(msg) {\n",
       "            var element_id = msg.content.text.trim();\n",
       "            Bokeh.index[element_id].model.document.clear();\n",
       "            delete Bokeh.index[element_id];\n",
       "          }\n",
       "        }\n",
       "      });\n",
       "      // Destroy server and session\n",
       "      var cmd = \"import bokeh.io.notebook as ion; ion.destroy_server('\" + server_id + \"')\";\n",
       "      cell.notebook.kernel.execute(cmd);\n",
       "    }\n",
       "  }\n",
       "\n",
       "  /**\n",
       "   * Handle when a new output is added\n",
       "   */\n",
       "  function handleAddOutput(event, handle) {\n",
       "    var output_area = handle.output_area;\n",
       "    var output = handle.output;\n",
       "\n",
       "    // limit handleAddOutput to display_data with EXEC_MIME_TYPE content only\n",
       "    if ((output.output_type != \"display_data\") || (!output.data.hasOwnProperty(EXEC_MIME_TYPE))) {\n",
       "      return\n",
       "    }\n",
       "\n",
       "    var toinsert = output_area.element.find(`.${CLASS_NAME.split(' ')[0]}`);\n",
       "\n",
       "    if (output.metadata[EXEC_MIME_TYPE][\"id\"] !== undefined) {\n",
       "      toinsert[0].firstChild.textContent = output.data[JS_MIME_TYPE];\n",
       "      // store reference to embed id on output_area\n",
       "      output_area._bokeh_element_id = output.metadata[EXEC_MIME_TYPE][\"id\"];\n",
       "    }\n",
       "    if (output.metadata[EXEC_MIME_TYPE][\"server_id\"] !== undefined) {\n",
       "      var bk_div = document.createElement(\"div\");\n",
       "      bk_div.innerHTML = output.data[HTML_MIME_TYPE];\n",
       "      var script_attrs = bk_div.children[0].attributes;\n",
       "      for (var i = 0; i < script_attrs.length; i++) {\n",
       "        toinsert[0].firstChild.setAttribute(script_attrs[i].name, script_attrs[i].value);\n",
       "      }\n",
       "      // store reference to server id on output_area\n",
       "      output_area._bokeh_server_id = output.metadata[EXEC_MIME_TYPE][\"server_id\"];\n",
       "    }\n",
       "  }\n",
       "\n",
       "  function register_renderer(events, OutputArea) {\n",
       "\n",
       "    function append_mime(data, metadata, element) {\n",
       "      // create a DOM node to render to\n",
       "      var toinsert = this.create_output_subarea(\n",
       "        metadata,\n",
       "        CLASS_NAME,\n",
       "        EXEC_MIME_TYPE\n",
       "      );\n",
       "      this.keyboard_manager.register_events(toinsert);\n",
       "      // Render to node\n",
       "      var props = {data: data, metadata: metadata[EXEC_MIME_TYPE]};\n",
       "      render(props, toinsert[0]);\n",
       "      element.append(toinsert);\n",
       "      return toinsert\n",
       "    }\n",
       "\n",
       "    /* Handle when an output is cleared or removed */\n",
       "    events.on('clear_output.CodeCell', handleClearOutput);\n",
       "    events.on('delete.Cell', handleClearOutput);\n",
       "\n",
       "    /* Handle when a new output is added */\n",
       "    events.on('output_added.OutputArea', handleAddOutput);\n",
       "\n",
       "    /**\n",
       "     * Register the mime type and append_mime function with output_area\n",
       "     */\n",
       "    OutputArea.prototype.register_mime_type(EXEC_MIME_TYPE, append_mime, {\n",
       "      /* Is output safe? */\n",
       "      safe: true,\n",
       "      /* Index of renderer in `output_area.display_order` */\n",
       "      index: 0\n",
       "    });\n",
       "  }\n",
       "\n",
       "  // register the mime type if in Jupyter Notebook environment and previously unregistered\n",
       "  if (root.Jupyter !== undefined) {\n",
       "    var events = require('base/js/events');\n",
       "    var OutputArea = require('notebook/js/outputarea').OutputArea;\n",
       "\n",
       "    if (OutputArea.prototype.mime_types().indexOf(EXEC_MIME_TYPE) == -1) {\n",
       "      register_renderer(events, OutputArea);\n",
       "    }\n",
       "  }\n",
       "\n",
       "  \n",
       "  if (typeof (root._bokeh_timeout) === \"undefined\" || force === true) {\n",
       "    root._bokeh_timeout = Date.now() + 5000;\n",
       "    root._bokeh_failed_load = false;\n",
       "  }\n",
       "\n",
       "  var NB_LOAD_WARNING = {'data': {'text/html':\n",
       "     \"<div style='background-color: #fdd'>\\n\"+\n",
       "     \"<p>\\n\"+\n",
       "     \"BokehJS does not appear to have successfully loaded. If loading BokehJS from CDN, this \\n\"+\n",
       "     \"may be due to a slow or bad network connection. Possible fixes:\\n\"+\n",
       "     \"</p>\\n\"+\n",
       "     \"<ul>\\n\"+\n",
       "     \"<li>re-rerun `output_notebook()` to attempt to load from CDN again, or</li>\\n\"+\n",
       "     \"<li>use INLINE resources instead, as so:</li>\\n\"+\n",
       "     \"</ul>\\n\"+\n",
       "     \"<code>\\n\"+\n",
       "     \"from bokeh.resources import INLINE\\n\"+\n",
       "     \"output_notebook(resources=INLINE)\\n\"+\n",
       "     \"</code>\\n\"+\n",
       "     \"</div>\"}};\n",
       "\n",
       "  function display_loaded() {\n",
       "    var el = document.getElementById(\"f1fc1154-45b2-4d82-b8f3-4e37919aa99f\");\n",
       "    if (el != null) {\n",
       "      el.textContent = \"BokehJS is loading...\";\n",
       "    }\n",
       "    if (root.Bokeh !== undefined) {\n",
       "      if (el != null) {\n",
       "        el.textContent = \"BokehJS \" + root.Bokeh.version + \" successfully loaded.\";\n",
       "      }\n",
       "    } else if (Date.now() < root._bokeh_timeout) {\n",
       "      setTimeout(display_loaded, 100)\n",
       "    }\n",
       "  }\n",
       "\n",
       "\n",
       "  function run_callbacks() {\n",
       "    try {\n",
       "      root._bokeh_onload_callbacks.forEach(function(callback) { callback() });\n",
       "    }\n",
       "    finally {\n",
       "      delete root._bokeh_onload_callbacks\n",
       "    }\n",
       "    console.info(\"Bokeh: all callbacks have finished\");\n",
       "  }\n",
       "\n",
       "  function load_libs(js_urls, callback) {\n",
       "    root._bokeh_onload_callbacks.push(callback);\n",
       "    if (root._bokeh_is_loading > 0) {\n",
       "      console.log(\"Bokeh: BokehJS is being loaded, scheduling callback at\", now());\n",
       "      return null;\n",
       "    }\n",
       "    if (js_urls == null || js_urls.length === 0) {\n",
       "      run_callbacks();\n",
       "      return null;\n",
       "    }\n",
       "    console.log(\"Bokeh: BokehJS not loaded, scheduling load and callback at\", now());\n",
       "    root._bokeh_is_loading = js_urls.length;\n",
       "    for (var i = 0; i < js_urls.length; i++) {\n",
       "      var url = js_urls[i];\n",
       "      var s = document.createElement('script');\n",
       "      s.src = url;\n",
       "      s.async = false;\n",
       "      s.onreadystatechange = s.onload = function() {\n",
       "        root._bokeh_is_loading--;\n",
       "        if (root._bokeh_is_loading === 0) {\n",
       "          console.log(\"Bokeh: all BokehJS libraries loaded\");\n",
       "          run_callbacks()\n",
       "        }\n",
       "      };\n",
       "      s.onerror = function() {\n",
       "        console.warn(\"failed to load library \" + url);\n",
       "      };\n",
       "      console.log(\"Bokeh: injecting script tag for BokehJS library: \", url);\n",
       "      document.getElementsByTagName(\"head\")[0].appendChild(s);\n",
       "    }\n",
       "  };var element = document.getElementById(\"f1fc1154-45b2-4d82-b8f3-4e37919aa99f\");\n",
       "  if (element == null) {\n",
       "    console.log(\"Bokeh: ERROR: autoload.js configured with elementid 'f1fc1154-45b2-4d82-b8f3-4e37919aa99f' but no matching script tag was found. \")\n",
       "    return false;\n",
       "  }\n",
       "\n",
       "  var js_urls = [\"https://cdn.pydata.org/bokeh/release/bokeh-0.12.10.min.js\", \"https://cdn.pydata.org/bokeh/release/bokeh-widgets-0.12.10.min.js\", \"https://cdn.pydata.org/bokeh/release/bokeh-tables-0.12.10.min.js\", \"https://cdn.pydata.org/bokeh/release/bokeh-gl-0.12.10.min.js\"];\n",
       "\n",
       "  var inline_js = [\n",
       "    function(Bokeh) {\n",
       "      Bokeh.set_log_level(\"info\");\n",
       "    },\n",
       "    \n",
       "    function(Bokeh) {\n",
       "      \n",
       "    },\n",
       "    function(Bokeh) {\n",
       "      console.log(\"Bokeh: injecting CSS: https://cdn.pydata.org/bokeh/release/bokeh-0.12.10.min.css\");\n",
       "      Bokeh.embed.inject_css(\"https://cdn.pydata.org/bokeh/release/bokeh-0.12.10.min.css\");\n",
       "      console.log(\"Bokeh: injecting CSS: https://cdn.pydata.org/bokeh/release/bokeh-widgets-0.12.10.min.css\");\n",
       "      Bokeh.embed.inject_css(\"https://cdn.pydata.org/bokeh/release/bokeh-widgets-0.12.10.min.css\");\n",
       "      console.log(\"Bokeh: injecting CSS: https://cdn.pydata.org/bokeh/release/bokeh-tables-0.12.10.min.css\");\n",
       "      Bokeh.embed.inject_css(\"https://cdn.pydata.org/bokeh/release/bokeh-tables-0.12.10.min.css\");\n",
       "    }\n",
       "  ];\n",
       "\n",
       "  function run_inline_js() {\n",
       "    \n",
       "    if ((root.Bokeh !== undefined) || (force === true)) {\n",
       "      for (var i = 0; i < inline_js.length; i++) {\n",
       "        inline_js[i].call(root, root.Bokeh);\n",
       "      }if (force === true) {\n",
       "        display_loaded();\n",
       "      }} else if (Date.now() < root._bokeh_timeout) {\n",
       "      setTimeout(run_inline_js, 100);\n",
       "    } else if (!root._bokeh_failed_load) {\n",
       "      console.log(\"Bokeh: BokehJS failed to load within specified timeout.\");\n",
       "      root._bokeh_failed_load = true;\n",
       "    } else if (force !== true) {\n",
       "      var cell = $(document.getElementById(\"f1fc1154-45b2-4d82-b8f3-4e37919aa99f\")).parents('.cell').data().cell;\n",
       "      cell.output_area.append_execute_result(NB_LOAD_WARNING)\n",
       "    }\n",
       "\n",
       "  }\n",
       "\n",
       "  if (root._bokeh_is_loading === 0) {\n",
       "    console.log(\"Bokeh: BokehJS loaded, going straight to plotting\");\n",
       "    run_inline_js();\n",
       "  } else {\n",
       "    load_libs(js_urls, function() {\n",
       "      console.log(\"Bokeh: BokehJS plotting callback run at\", now());\n",
       "      run_inline_js();\n",
       "    });\n",
       "  }\n",
       "}(window));"
      ],
      "application/vnd.bokehjs_load.v0+json": "\n(function(root) {\n  function now() {\n    return new Date();\n  }\n\n  var force = true;\n\n  if (typeof (root._bokeh_onload_callbacks) === \"undefined\" || force === true) {\n    root._bokeh_onload_callbacks = [];\n    root._bokeh_is_loading = undefined;\n  }\n\n  \n\n  \n  if (typeof (root._bokeh_timeout) === \"undefined\" || force === true) {\n    root._bokeh_timeout = Date.now() + 5000;\n    root._bokeh_failed_load = false;\n  }\n\n  var NB_LOAD_WARNING = {'data': {'text/html':\n     \"<div style='background-color: #fdd'>\\n\"+\n     \"<p>\\n\"+\n     \"BokehJS does not appear to have successfully loaded. If loading BokehJS from CDN, this \\n\"+\n     \"may be due to a slow or bad network connection. Possible fixes:\\n\"+\n     \"</p>\\n\"+\n     \"<ul>\\n\"+\n     \"<li>re-rerun `output_notebook()` to attempt to load from CDN again, or</li>\\n\"+\n     \"<li>use INLINE resources instead, as so:</li>\\n\"+\n     \"</ul>\\n\"+\n     \"<code>\\n\"+\n     \"from bokeh.resources import INLINE\\n\"+\n     \"output_notebook(resources=INLINE)\\n\"+\n     \"</code>\\n\"+\n     \"</div>\"}};\n\n  function display_loaded() {\n    var el = document.getElementById(\"f1fc1154-45b2-4d82-b8f3-4e37919aa99f\");\n    if (el != null) {\n      el.textContent = \"BokehJS is loading...\";\n    }\n    if (root.Bokeh !== undefined) {\n      if (el != null) {\n        el.textContent = \"BokehJS \" + root.Bokeh.version + \" successfully loaded.\";\n      }\n    } else if (Date.now() < root._bokeh_timeout) {\n      setTimeout(display_loaded, 100)\n    }\n  }\n\n\n  function run_callbacks() {\n    try {\n      root._bokeh_onload_callbacks.forEach(function(callback) { callback() });\n    }\n    finally {\n      delete root._bokeh_onload_callbacks\n    }\n    console.info(\"Bokeh: all callbacks have finished\");\n  }\n\n  function load_libs(js_urls, callback) {\n    root._bokeh_onload_callbacks.push(callback);\n    if (root._bokeh_is_loading > 0) {\n      console.log(\"Bokeh: BokehJS is being loaded, scheduling callback at\", now());\n      return null;\n    }\n    if (js_urls == null || js_urls.length === 0) {\n      run_callbacks();\n      return null;\n    }\n    console.log(\"Bokeh: BokehJS not loaded, scheduling load and callback at\", now());\n    root._bokeh_is_loading = js_urls.length;\n    for (var i = 0; i < js_urls.length; i++) {\n      var url = js_urls[i];\n      var s = document.createElement('script');\n      s.src = url;\n      s.async = false;\n      s.onreadystatechange = s.onload = function() {\n        root._bokeh_is_loading--;\n        if (root._bokeh_is_loading === 0) {\n          console.log(\"Bokeh: all BokehJS libraries loaded\");\n          run_callbacks()\n        }\n      };\n      s.onerror = function() {\n        console.warn(\"failed to load library \" + url);\n      };\n      console.log(\"Bokeh: injecting script tag for BokehJS library: \", url);\n      document.getElementsByTagName(\"head\")[0].appendChild(s);\n    }\n  };var element = document.getElementById(\"f1fc1154-45b2-4d82-b8f3-4e37919aa99f\");\n  if (element == null) {\n    console.log(\"Bokeh: ERROR: autoload.js configured with elementid 'f1fc1154-45b2-4d82-b8f3-4e37919aa99f' but no matching script tag was found. \")\n    return false;\n  }\n\n  var js_urls = [\"https://cdn.pydata.org/bokeh/release/bokeh-0.12.10.min.js\", \"https://cdn.pydata.org/bokeh/release/bokeh-widgets-0.12.10.min.js\", \"https://cdn.pydata.org/bokeh/release/bokeh-tables-0.12.10.min.js\", \"https://cdn.pydata.org/bokeh/release/bokeh-gl-0.12.10.min.js\"];\n\n  var inline_js = [\n    function(Bokeh) {\n      Bokeh.set_log_level(\"info\");\n    },\n    \n    function(Bokeh) {\n      \n    },\n    function(Bokeh) {\n      console.log(\"Bokeh: injecting CSS: https://cdn.pydata.org/bokeh/release/bokeh-0.12.10.min.css\");\n      Bokeh.embed.inject_css(\"https://cdn.pydata.org/bokeh/release/bokeh-0.12.10.min.css\");\n      console.log(\"Bokeh: injecting CSS: https://cdn.pydata.org/bokeh/release/bokeh-widgets-0.12.10.min.css\");\n      Bokeh.embed.inject_css(\"https://cdn.pydata.org/bokeh/release/bokeh-widgets-0.12.10.min.css\");\n      console.log(\"Bokeh: injecting CSS: https://cdn.pydata.org/bokeh/release/bokeh-tables-0.12.10.min.css\");\n      Bokeh.embed.inject_css(\"https://cdn.pydata.org/bokeh/release/bokeh-tables-0.12.10.min.css\");\n    }\n  ];\n\n  function run_inline_js() {\n    \n    if ((root.Bokeh !== undefined) || (force === true)) {\n      for (var i = 0; i < inline_js.length; i++) {\n        inline_js[i].call(root, root.Bokeh);\n      }if (force === true) {\n        display_loaded();\n      }} else if (Date.now() < root._bokeh_timeout) {\n      setTimeout(run_inline_js, 100);\n    } else if (!root._bokeh_failed_load) {\n      console.log(\"Bokeh: BokehJS failed to load within specified timeout.\");\n      root._bokeh_failed_load = true;\n    } else if (force !== true) {\n      var cell = $(document.getElementById(\"f1fc1154-45b2-4d82-b8f3-4e37919aa99f\")).parents('.cell').data().cell;\n      cell.output_area.append_execute_result(NB_LOAD_WARNING)\n    }\n\n  }\n\n  if (root._bokeh_is_loading === 0) {\n    console.log(\"Bokeh: BokehJS loaded, going straight to plotting\");\n    run_inline_js();\n  } else {\n    load_libs(js_urls, function() {\n      console.log(\"Bokeh: BokehJS plotting callback run at\", now());\n      run_inline_js();\n    });\n  }\n}(window));"
     },
     "metadata": {},
     "output_type": "display_data"
    },
    {
     "name": "stderr",
     "output_type": "stream",
     "text": [
      "C:\\Continuum\\anaconda3\\lib\\site-packages\\bokeh\\models\\sources.py:137: BokehUserWarning: ColumnDataSource's columns must be of the same length. Current lengths: ('counts', 45), ('x', 5)\n",
      "  \"Current lengths: %s\" % \", \".join(sorted(str((k, len(v))) for k, v in data.items())), BokehUserWarning))\n",
      "E-1001 (BAD_COLUMN_NAME): Glyph refers to nonexistent column name: 2013 [renderer: GlyphRenderer(id='76c4d68c-cdc0-4aff-8c15-7772261212d4', ...)]\n",
      "E-1001 (BAD_COLUMN_NAME): Glyph refers to nonexistent column name: 2013 [renderer: GlyphRenderer(id='84477ae3-38fc-487d-9222-f8fd66895cdd', ...)]\n",
      "E-1001 (BAD_COLUMN_NAME): Glyph refers to nonexistent column name: 2013 [renderer: GlyphRenderer(id='ac6ef5d1-93b6-4aa9-bff2-9f00ad8e5781', ...)]\n",
      "E-1001 (BAD_COLUMN_NAME): Glyph refers to nonexistent column name: 2013 [renderer: GlyphRenderer(id='cd01c726-0382-4369-a4dd-7f65c9c89650', ...)]\n",
      "E-1001 (BAD_COLUMN_NAME): Glyph refers to nonexistent column name: 2013 [renderer: GlyphRenderer(id='ece5fed0-25da-4dfe-a8db-d69308128df7', ...)]\n"
     ]
    },
    {
     "data": {
      "text/html": [
       "\n",
       "<div class=\"bk-root\">\n",
       "    <div class=\"bk-plotdiv\" id=\"a513e62c-592f-42c9-8459-80b30da0124f\"></div>\n",
       "</div>"
      ]
     },
     "metadata": {},
     "output_type": "display_data"
    },
    {
     "data": {
      "application/javascript": [
       "(function(root) {\n",
       "  function embed_document(root) {\n",
       "    var docs_json = {\"51190012-1776-4961-a852-b2b3420704e2\":{\"roots\":{\"references\":[{\"attributes\":{\"bottom\":{\"expr\":{\"id\":\"277e5b62-ca6e-4d44-8e91-a8df3637bd48\",\"type\":\"Stack\"}},\"fill_alpha\":{\"value\":0.1},\"fill_color\":{\"value\":\"#1f77b4\"},\"line_alpha\":{\"value\":0.1},\"line_color\":{\"value\":\"#1f77b4\"},\"top\":{\"expr\":{\"id\":\"e5a3be79-ec1c-4bc2-93e5-fb20afcee61e\",\"type\":\"Stack\"}},\"width\":{\"value\":0.8},\"x\":{\"field\":\"2013\"}},\"id\":\"750220ec-fd1f-43f7-b0b7-b0c0b76a934c\",\"type\":\"VBar\"},{\"attributes\":{},\"id\":\"69b9b57c-9d82-4ab1-9fdf-1f3d9202b1c4\",\"type\":\"ResetTool\"},{\"attributes\":{},\"id\":\"f07fe171-0adc-472d-9096-9cb63525c4a6\",\"type\":\"CategoricalTicker\"},{\"attributes\":{\"fields\":[]},\"id\":\"7d93886e-9e7f-410d-9a37-b9cbba97a686\",\"type\":\"Stack\"},{\"attributes\":{\"bottom\":{\"expr\":{\"id\":\"227e4684-2a2d-4f98-b0e5-d497a553d743\",\"type\":\"Stack\"}},\"fill_alpha\":{\"value\":0.1},\"fill_color\":{\"value\":\"#1f77b4\"},\"line_alpha\":{\"value\":0.1},\"line_color\":{\"value\":\"#1f77b4\"},\"top\":{\"expr\":{\"id\":\"66c0eea1-8b39-446a-a8a7-83b92f5afd9c\",\"type\":\"Stack\"}},\"width\":{\"value\":0.8},\"x\":{\"field\":\"2013\"}},\"id\":\"bc600918-3542-4405-832d-960c098f40fd\",\"type\":\"VBar\"},{\"attributes\":{\"callback\":null,\"column_names\":[\"x\",\"counts\"],\"data\":{\"counts\":[369,6856,5792,2383,463,6523,6892,9769,22036,517,7066,6105,2472,573,6176,7078,10178,22116,433,7667,6009,2677,568,6270,7720,10071,22298,306,8033,6134,2765,596,6310,7851,9482,20812,562,9663,6248,3027,649,6517,10070,9214,21885],\"x\":[\"2013\",\"2014\",\"2015\",\"2016\",\"2017\"]}},\"id\":\"20786502-511f-4403-9528-cb0e39193cbe\",\"type\":\"ColumnDataSource\"},{\"attributes\":{\"label\":{\"value\":\"2014\"},\"renderers\":[{\"id\":\"84477ae3-38fc-487d-9222-f8fd66895cdd\",\"type\":\"GlyphRenderer\"}]},\"id\":\"647b8cde-8262-47ed-bcf9-fb3e9441cc14\",\"type\":\"LegendItem\"},{\"attributes\":{\"fields\":[\"2013\"]},\"id\":\"e5d8824c-a020-436b-8a34-f74861eec87d\",\"type\":\"Stack\"},{\"attributes\":{\"fields\":[\"2013\",\"2014\",\"2015\",\"2016\"]},\"id\":\"277e5b62-ca6e-4d44-8e91-a8df3637bd48\",\"type\":\"Stack\"},{\"attributes\":{\"plot\":null,\"text\":\"Totalen per SBB sector per jaar\"},\"id\":\"90d4f3c3-3580-473a-98c1-c268a0e131ce\",\"type\":\"Title\"},{\"attributes\":{\"fields\":[\"2013\",\"2014\",\"2015\"]},\"id\":\"66c0eea1-8b39-446a-a8a7-83b92f5afd9c\",\"type\":\"Stack\"},{\"attributes\":{\"source\":{\"id\":\"20786502-511f-4403-9528-cb0e39193cbe\",\"type\":\"ColumnDataSource\"}},\"id\":\"8fc89ed1-2fa4-4a47-adcb-12a0ca9ff778\",\"type\":\"CDSView\"},{\"attributes\":{\"fields\":[\"2013\",\"2014\"]},\"id\":\"d7ac3687-bd75-40c6-85ee-467ed28f003c\",\"type\":\"Stack\"},{\"attributes\":{},\"id\":\"78d5ce98-cd61-40f2-983e-34f65d0aeb8e\",\"type\":\"BasicTickFormatter\"},{\"attributes\":{\"fields\":[\"2013\",\"2014\",\"2015\"]},\"id\":\"04d1e970-222b-4163-8db9-0e00289cfcb7\",\"type\":\"Stack\"},{\"attributes\":{\"callback\":null,\"factors\":[\"Bovensectoraal\",\"Sectorunit creatieve industrie en ICT\",\"Sectorunit handel\",\"Sectorunit mobiliteit, transport, logistiek, maritiem\",\"Sectorunit specialistisch vakmanschap\",\"Sectorunit techniek en gebouwde omgeving\",\"Sectorunit voedsel, groen en gastvrijheid\",\"Sectorunit zakelijke dienstverlening en veiligheid\",\"Sectorunit zorg, welzijn en sport\"],\"range_padding\":0.1},\"id\":\"78bee9b1-a433-4b04-87c0-eb7e2b15e90f\",\"type\":\"FactorRange\"},{\"attributes\":{\"label\":{\"value\":\"2013\"},\"renderers\":[{\"id\":\"cd01c726-0382-4369-a4dd-7f65c9c89650\",\"type\":\"GlyphRenderer\"}]},\"id\":\"69dc0a91-1b7f-463e-811f-1bb4ae245a1d\",\"type\":\"LegendItem\"},{\"attributes\":{\"formatter\":{\"id\":\"78d5ce98-cd61-40f2-983e-34f65d0aeb8e\",\"type\":\"BasicTickFormatter\"},\"plot\":{\"id\":\"ed81244a-ed16-4487-b13d-54dc4738db04\",\"subtype\":\"Figure\",\"type\":\"Plot\"},\"ticker\":{\"id\":\"1927e94c-48bf-43f9-a56e-72743b8aadd6\",\"type\":\"BasicTicker\"}},\"id\":\"b746d478-fa3b-4f95-a32e-3e0e1e5dcfce\",\"type\":\"LinearAxis\"},{\"attributes\":{\"label\":{\"value\":\"2016\"},\"renderers\":[{\"id\":\"ac6ef5d1-93b6-4aa9-bff2-9f00ad8e5781\",\"type\":\"GlyphRenderer\"}]},\"id\":\"5725fb25-02f1-4c8f-8257-3bb59216cb8e\",\"type\":\"LegendItem\"},{\"attributes\":{\"active_drag\":\"auto\",\"active_inspect\":\"auto\",\"active_scroll\":\"auto\",\"active_tap\":\"auto\",\"tools\":[{\"id\":\"2678e76c-f0d9-4596-881f-e0fdd7f68b87\",\"type\":\"PanTool\"},{\"id\":\"19a5622d-ab78-4fef-ba86-6e5eaecd1c24\",\"type\":\"WheelZoomTool\"},{\"id\":\"1df839ba-06f1-4a61-b2f5-55af46959806\",\"type\":\"BoxZoomTool\"},{\"id\":\"e061b587-dba8-4979-bafe-13b27547dd1d\",\"type\":\"SaveTool\"},{\"id\":\"69b9b57c-9d82-4ab1-9fdf-1f3d9202b1c4\",\"type\":\"ResetTool\"},{\"id\":\"375c2540-4fe5-49f2-b2bf-9a0471e0d72c\",\"type\":\"HelpTool\"}]},\"id\":\"75b0c585-5976-4201-93a6-c959b3aa250a\",\"type\":\"Toolbar\"},{\"attributes\":{\"bottom\":{\"expr\":{\"id\":\"3ee0fc66-d473-47f7-970e-4b0102654532\",\"type\":\"Stack\"}},\"fill_color\":{\"value\":\"#1f77b4\"},\"line_color\":{\"value\":\"#1f77b4\"},\"top\":{\"expr\":{\"id\":\"d7ac3687-bd75-40c6-85ee-467ed28f003c\",\"type\":\"Stack\"}},\"width\":{\"value\":0.8},\"x\":{\"field\":\"2013\"}},\"id\":\"d5233b80-8d68-426b-bde6-9fd4bd66fa5d\",\"type\":\"VBar\"},{\"attributes\":{},\"id\":\"375c2540-4fe5-49f2-b2bf-9a0471e0d72c\",\"type\":\"HelpTool\"},{\"attributes\":{\"bottom\":{\"expr\":{\"id\":\"04d1e970-222b-4163-8db9-0e00289cfcb7\",\"type\":\"Stack\"}},\"fill_color\":{\"value\":\"#1f77b4\"},\"line_color\":{\"value\":\"#1f77b4\"},\"top\":{\"expr\":{\"id\":\"17c67698-7fbb-480b-b3a0-c79ef128285d\",\"type\":\"Stack\"}},\"width\":{\"value\":0.8},\"x\":{\"field\":\"2013\"}},\"id\":\"299ec272-9362-46e1-bc29-5637af2a91d5\",\"type\":\"VBar\"},{\"attributes\":{\"data_source\":{\"id\":\"20786502-511f-4403-9528-cb0e39193cbe\",\"type\":\"ColumnDataSource\"},\"glyph\":{\"id\":\"ce5322f6-06bd-46a3-b2c5-5afa8b666b9d\",\"type\":\"VBar\"},\"hover_glyph\":null,\"muted_glyph\":null,\"nonselection_glyph\":{\"id\":\"750220ec-fd1f-43f7-b0b7-b0c0b76a934c\",\"type\":\"VBar\"},\"selection_glyph\":null,\"view\":{\"id\":\"b04a1aa8-5b8b-4456-a45b-8574cec85b28\",\"type\":\"CDSView\"}},\"id\":\"76c4d68c-cdc0-4aff-8c15-7772261212d4\",\"type\":\"GlyphRenderer\"},{\"attributes\":{\"grid_line_color\":{\"value\":null},\"plot\":{\"id\":\"ed81244a-ed16-4487-b13d-54dc4738db04\",\"subtype\":\"Figure\",\"type\":\"Plot\"},\"ticker\":{\"id\":\"f07fe171-0adc-472d-9096-9cb63525c4a6\",\"type\":\"CategoricalTicker\"}},\"id\":\"1f909e34-43ea-465e-8c7d-c98dc1f0d8f1\",\"type\":\"Grid\"},{\"attributes\":{},\"id\":\"1927e94c-48bf-43f9-a56e-72743b8aadd6\",\"type\":\"BasicTicker\"},{\"attributes\":{\"data_source\":{\"id\":\"20786502-511f-4403-9528-cb0e39193cbe\",\"type\":\"ColumnDataSource\"},\"glyph\":{\"id\":\"60ef0a37-495a-479c-9f60-a29fb7b94174\",\"type\":\"VBar\"},\"hover_glyph\":null,\"muted_glyph\":null,\"nonselection_glyph\":{\"id\":\"fb4c6e96-248d-4b09-b49c-298e5be07c59\",\"type\":\"VBar\"},\"selection_glyph\":null,\"view\":{\"id\":\"8fc89ed1-2fa4-4a47-adcb-12a0ca9ff778\",\"type\":\"CDSView\"}},\"id\":\"cd01c726-0382-4369-a4dd-7f65c9c89650\",\"type\":\"GlyphRenderer\"},{\"attributes\":{\"source\":{\"id\":\"20786502-511f-4403-9528-cb0e39193cbe\",\"type\":\"ColumnDataSource\"}},\"id\":\"b04a1aa8-5b8b-4456-a45b-8574cec85b28\",\"type\":\"CDSView\"},{\"attributes\":{\"bottom\":{\"expr\":{\"id\":\"3ee0fc66-d473-47f7-970e-4b0102654532\",\"type\":\"Stack\"}},\"fill_alpha\":{\"value\":0.1},\"fill_color\":{\"value\":\"#1f77b4\"},\"line_alpha\":{\"value\":0.1},\"line_color\":{\"value\":\"#1f77b4\"},\"top\":{\"expr\":{\"id\":\"d7ac3687-bd75-40c6-85ee-467ed28f003c\",\"type\":\"Stack\"}},\"width\":{\"value\":0.8},\"x\":{\"field\":\"2013\"}},\"id\":\"479886ee-ae2c-4088-a9ba-911e509d590c\",\"type\":\"VBar\"},{\"attributes\":{\"dimension\":1,\"plot\":{\"id\":\"ed81244a-ed16-4487-b13d-54dc4738db04\",\"subtype\":\"Figure\",\"type\":\"Plot\"},\"ticker\":{\"id\":\"1927e94c-48bf-43f9-a56e-72743b8aadd6\",\"type\":\"BasicTicker\"}},\"id\":\"9841d493-e3c7-44fb-9bd5-9060071b1485\",\"type\":\"Grid\"},{\"attributes\":{\"items\":[{\"id\":\"69dc0a91-1b7f-463e-811f-1bb4ae245a1d\",\"type\":\"LegendItem\"},{\"id\":\"647b8cde-8262-47ed-bcf9-fb3e9441cc14\",\"type\":\"LegendItem\"},{\"id\":\"5737b433-dd7f-4ea7-b4da-1f47c85ec266\",\"type\":\"LegendItem\"},{\"id\":\"5725fb25-02f1-4c8f-8257-3bb59216cb8e\",\"type\":\"LegendItem\"},{\"id\":\"255bc4a6-2832-46bb-a776-f80ae24fdfb0\",\"type\":\"LegendItem\"}],\"plot\":{\"id\":\"ed81244a-ed16-4487-b13d-54dc4738db04\",\"subtype\":\"Figure\",\"type\":\"Plot\"}},\"id\":\"4780f49b-7854-409f-a9f1-94c8677df58d\",\"type\":\"Legend\"},{\"attributes\":{\"bottom\":{\"expr\":{\"id\":\"7d93886e-9e7f-410d-9a37-b9cbba97a686\",\"type\":\"Stack\"}},\"fill_alpha\":{\"value\":0.1},\"fill_color\":{\"value\":\"#1f77b4\"},\"line_alpha\":{\"value\":0.1},\"line_color\":{\"value\":\"#1f77b4\"},\"top\":{\"expr\":{\"id\":\"e5d8824c-a020-436b-8a34-f74861eec87d\",\"type\":\"Stack\"}},\"width\":{\"value\":0.8},\"x\":{\"field\":\"2013\"}},\"id\":\"fb4c6e96-248d-4b09-b49c-298e5be07c59\",\"type\":\"VBar\"},{\"attributes\":{\"bottom\":{\"expr\":{\"id\":\"277e5b62-ca6e-4d44-8e91-a8df3637bd48\",\"type\":\"Stack\"}},\"fill_color\":{\"value\":\"#1f77b4\"},\"line_color\":{\"value\":\"#1f77b4\"},\"top\":{\"expr\":{\"id\":\"e5a3be79-ec1c-4bc2-93e5-fb20afcee61e\",\"type\":\"Stack\"}},\"width\":{\"value\":0.8},\"x\":{\"field\":\"2013\"}},\"id\":\"ce5322f6-06bd-46a3-b2c5-5afa8b666b9d\",\"type\":\"VBar\"},{\"attributes\":{},\"id\":\"037ae4df-f867-45fa-92ba-bf597d1caab8\",\"type\":\"CategoricalTickFormatter\"},{\"attributes\":{\"overlay\":{\"id\":\"cf11d711-b53a-4c83-ba16-59428966fac4\",\"type\":\"BoxAnnotation\"}},\"id\":\"1df839ba-06f1-4a61-b2f5-55af46959806\",\"type\":\"BoxZoomTool\"},{\"attributes\":{},\"id\":\"e061b587-dba8-4979-bafe-13b27547dd1d\",\"type\":\"SaveTool\"},{\"attributes\":{},\"id\":\"19a5622d-ab78-4fef-ba86-6e5eaecd1c24\",\"type\":\"WheelZoomTool\"},{\"attributes\":{\"label\":{\"value\":\"2015\"},\"renderers\":[{\"id\":\"ece5fed0-25da-4dfe-a8db-d69308128df7\",\"type\":\"GlyphRenderer\"}]},\"id\":\"5737b433-dd7f-4ea7-b4da-1f47c85ec266\",\"type\":\"LegendItem\"},{\"attributes\":{},\"id\":\"2678e76c-f0d9-4596-881f-e0fdd7f68b87\",\"type\":\"PanTool\"},{\"attributes\":{\"bottom\":{\"expr\":{\"id\":\"04d1e970-222b-4163-8db9-0e00289cfcb7\",\"type\":\"Stack\"}},\"fill_alpha\":{\"value\":0.1},\"fill_color\":{\"value\":\"#1f77b4\"},\"line_alpha\":{\"value\":0.1},\"line_color\":{\"value\":\"#1f77b4\"},\"top\":{\"expr\":{\"id\":\"17c67698-7fbb-480b-b3a0-c79ef128285d\",\"type\":\"Stack\"}},\"width\":{\"value\":0.8},\"x\":{\"field\":\"2013\"}},\"id\":\"404d5dd3-ec2b-479b-aa42-94a3d060e9e5\",\"type\":\"VBar\"},{\"attributes\":{\"bottom\":{\"expr\":{\"id\":\"7d93886e-9e7f-410d-9a37-b9cbba97a686\",\"type\":\"Stack\"}},\"fill_color\":{\"value\":\"#1f77b4\"},\"line_color\":{\"value\":\"#1f77b4\"},\"top\":{\"expr\":{\"id\":\"e5d8824c-a020-436b-8a34-f74861eec87d\",\"type\":\"Stack\"}},\"width\":{\"value\":0.8},\"x\":{\"field\":\"2013\"}},\"id\":\"60ef0a37-495a-479c-9f60-a29fb7b94174\",\"type\":\"VBar\"},{\"attributes\":{\"fields\":[\"2013\",\"2014\"]},\"id\":\"227e4684-2a2d-4f98-b0e5-d497a553d743\",\"type\":\"Stack\"},{\"attributes\":{},\"id\":\"4ba19932-cef7-4670-99a2-8227a6d57bbe\",\"type\":\"LinearScale\"},{\"attributes\":{\"data_source\":{\"id\":\"20786502-511f-4403-9528-cb0e39193cbe\",\"type\":\"ColumnDataSource\"},\"glyph\":{\"id\":\"45236bba-4e13-4256-90d4-0ed04f763e8d\",\"type\":\"VBar\"},\"hover_glyph\":null,\"muted_glyph\":null,\"nonselection_glyph\":{\"id\":\"bc600918-3542-4405-832d-960c098f40fd\",\"type\":\"VBar\"},\"selection_glyph\":null,\"view\":{\"id\":\"b15a0387-fb93-4524-8048-c4f489b8ee8f\",\"type\":\"CDSView\"}},\"id\":\"ece5fed0-25da-4dfe-a8db-d69308128df7\",\"type\":\"GlyphRenderer\"},{\"attributes\":{\"label\":{\"value\":\"2017\"},\"renderers\":[{\"id\":\"76c4d68c-cdc0-4aff-8c15-7772261212d4\",\"type\":\"GlyphRenderer\"}]},\"id\":\"255bc4a6-2832-46bb-a776-f80ae24fdfb0\",\"type\":\"LegendItem\"},{\"attributes\":{\"callback\":null,\"start\":0},\"id\":\"25e74fd3-0b2e-47c9-a393-44bec5dadad6\",\"type\":\"DataRange1d\"},{\"attributes\":{\"source\":{\"id\":\"20786502-511f-4403-9528-cb0e39193cbe\",\"type\":\"ColumnDataSource\"}},\"id\":\"b15a0387-fb93-4524-8048-c4f489b8ee8f\",\"type\":\"CDSView\"},{\"attributes\":{\"fields\":[\"2013\"]},\"id\":\"3ee0fc66-d473-47f7-970e-4b0102654532\",\"type\":\"Stack\"},{\"attributes\":{\"below\":[{\"id\":\"437cf982-47c6-411e-adbe-afca9432da50\",\"type\":\"CategoricalAxis\"}],\"left\":[{\"id\":\"b746d478-fa3b-4f95-a32e-3e0e1e5dcfce\",\"type\":\"LinearAxis\"}],\"plot_height\":400,\"renderers\":[{\"id\":\"437cf982-47c6-411e-adbe-afca9432da50\",\"type\":\"CategoricalAxis\"},{\"id\":\"1f909e34-43ea-465e-8c7d-c98dc1f0d8f1\",\"type\":\"Grid\"},{\"id\":\"b746d478-fa3b-4f95-a32e-3e0e1e5dcfce\",\"type\":\"LinearAxis\"},{\"id\":\"9841d493-e3c7-44fb-9bd5-9060071b1485\",\"type\":\"Grid\"},{\"id\":\"cf11d711-b53a-4c83-ba16-59428966fac4\",\"type\":\"BoxAnnotation\"},{\"id\":\"4780f49b-7854-409f-a9f1-94c8677df58d\",\"type\":\"Legend\"},{\"id\":\"cd01c726-0382-4369-a4dd-7f65c9c89650\",\"type\":\"GlyphRenderer\"},{\"id\":\"84477ae3-38fc-487d-9222-f8fd66895cdd\",\"type\":\"GlyphRenderer\"},{\"id\":\"ece5fed0-25da-4dfe-a8db-d69308128df7\",\"type\":\"GlyphRenderer\"},{\"id\":\"ac6ef5d1-93b6-4aa9-bff2-9f00ad8e5781\",\"type\":\"GlyphRenderer\"},{\"id\":\"76c4d68c-cdc0-4aff-8c15-7772261212d4\",\"type\":\"GlyphRenderer\"}],\"title\":{\"id\":\"90d4f3c3-3580-473a-98c1-c268a0e131ce\",\"type\":\"Title\"},\"toolbar\":{\"id\":\"75b0c585-5976-4201-93a6-c959b3aa250a\",\"type\":\"Toolbar\"},\"width\":900,\"x_range\":{\"id\":\"78bee9b1-a433-4b04-87c0-eb7e2b15e90f\",\"type\":\"FactorRange\"},\"x_scale\":{\"id\":\"d0fe230d-85f7-42b1-8a61-e2da0b5a5563\",\"type\":\"CategoricalScale\"},\"y_range\":{\"id\":\"25e74fd3-0b2e-47c9-a393-44bec5dadad6\",\"type\":\"DataRange1d\"},\"y_scale\":{\"id\":\"4ba19932-cef7-4670-99a2-8227a6d57bbe\",\"type\":\"LinearScale\"}},\"id\":\"ed81244a-ed16-4487-b13d-54dc4738db04\",\"subtype\":\"Figure\",\"type\":\"Plot\"},{\"attributes\":{\"formatter\":{\"id\":\"037ae4df-f867-45fa-92ba-bf597d1caab8\",\"type\":\"CategoricalTickFormatter\"},\"major_label_orientation\":0,\"plot\":{\"id\":\"ed81244a-ed16-4487-b13d-54dc4738db04\",\"subtype\":\"Figure\",\"type\":\"Plot\"},\"ticker\":{\"id\":\"f07fe171-0adc-472d-9096-9cb63525c4a6\",\"type\":\"CategoricalTicker\"}},\"id\":\"437cf982-47c6-411e-adbe-afca9432da50\",\"type\":\"CategoricalAxis\"},{\"attributes\":{\"bottom\":{\"expr\":{\"id\":\"227e4684-2a2d-4f98-b0e5-d497a553d743\",\"type\":\"Stack\"}},\"fill_color\":{\"value\":\"#1f77b4\"},\"line_color\":{\"value\":\"#1f77b4\"},\"top\":{\"expr\":{\"id\":\"66c0eea1-8b39-446a-a8a7-83b92f5afd9c\",\"type\":\"Stack\"}},\"width\":{\"value\":0.8},\"x\":{\"field\":\"2013\"}},\"id\":\"45236bba-4e13-4256-90d4-0ed04f763e8d\",\"type\":\"VBar\"},{\"attributes\":{\"fields\":[\"2013\",\"2014\",\"2015\",\"2016\",\"2017\"]},\"id\":\"e5a3be79-ec1c-4bc2-93e5-fb20afcee61e\",\"type\":\"Stack\"},{\"attributes\":{\"bottom_units\":\"screen\",\"fill_alpha\":{\"value\":0.5},\"fill_color\":{\"value\":\"lightgrey\"},\"left_units\":\"screen\",\"level\":\"overlay\",\"line_alpha\":{\"value\":1.0},\"line_color\":{\"value\":\"black\"},\"line_dash\":[4,4],\"line_width\":{\"value\":2},\"plot\":null,\"render_mode\":\"css\",\"right_units\":\"screen\",\"top_units\":\"screen\"},\"id\":\"cf11d711-b53a-4c83-ba16-59428966fac4\",\"type\":\"BoxAnnotation\"},{\"attributes\":{\"source\":{\"id\":\"20786502-511f-4403-9528-cb0e39193cbe\",\"type\":\"ColumnDataSource\"}},\"id\":\"befd7508-be86-43ba-95fd-49f728640dd7\",\"type\":\"CDSView\"},{\"attributes\":{\"fields\":[\"2013\",\"2014\",\"2015\",\"2016\"]},\"id\":\"17c67698-7fbb-480b-b3a0-c79ef128285d\",\"type\":\"Stack\"},{\"attributes\":{},\"id\":\"d0fe230d-85f7-42b1-8a61-e2da0b5a5563\",\"type\":\"CategoricalScale\"},{\"attributes\":{\"data_source\":{\"id\":\"20786502-511f-4403-9528-cb0e39193cbe\",\"type\":\"ColumnDataSource\"},\"glyph\":{\"id\":\"299ec272-9362-46e1-bc29-5637af2a91d5\",\"type\":\"VBar\"},\"hover_glyph\":null,\"muted_glyph\":null,\"nonselection_glyph\":{\"id\":\"404d5dd3-ec2b-479b-aa42-94a3d060e9e5\",\"type\":\"VBar\"},\"selection_glyph\":null,\"view\":{\"id\":\"ea277d84-a2bc-4ed8-bf43-9adb4b1fb6a3\",\"type\":\"CDSView\"}},\"id\":\"ac6ef5d1-93b6-4aa9-bff2-9f00ad8e5781\",\"type\":\"GlyphRenderer\"},{\"attributes\":{\"data_source\":{\"id\":\"20786502-511f-4403-9528-cb0e39193cbe\",\"type\":\"ColumnDataSource\"},\"glyph\":{\"id\":\"d5233b80-8d68-426b-bde6-9fd4bd66fa5d\",\"type\":\"VBar\"},\"hover_glyph\":null,\"muted_glyph\":null,\"nonselection_glyph\":{\"id\":\"479886ee-ae2c-4088-a9ba-911e509d590c\",\"type\":\"VBar\"},\"selection_glyph\":null,\"view\":{\"id\":\"befd7508-be86-43ba-95fd-49f728640dd7\",\"type\":\"CDSView\"}},\"id\":\"84477ae3-38fc-487d-9222-f8fd66895cdd\",\"type\":\"GlyphRenderer\"},{\"attributes\":{\"source\":{\"id\":\"20786502-511f-4403-9528-cb0e39193cbe\",\"type\":\"ColumnDataSource\"}},\"id\":\"ea277d84-a2bc-4ed8-bf43-9adb4b1fb6a3\",\"type\":\"CDSView\"}],\"root_ids\":[\"ed81244a-ed16-4487-b13d-54dc4738db04\"]},\"title\":\"Bokeh Application\",\"version\":\"0.12.10\"}};\n",
       "    var render_items = [{\"docid\":\"51190012-1776-4961-a852-b2b3420704e2\",\"elementid\":\"a513e62c-592f-42c9-8459-80b30da0124f\",\"modelid\":\"ed81244a-ed16-4487-b13d-54dc4738db04\"}];\n",
       "\n",
       "    root.Bokeh.embed.embed_items(docs_json, render_items);\n",
       "  }\n",
       "\n",
       "  if (root.Bokeh !== undefined) {\n",
       "    embed_document(root);\n",
       "  } else {\n",
       "    var attempts = 0;\n",
       "    var timer = setInterval(function(root) {\n",
       "      if (root.Bokeh !== undefined) {\n",
       "        embed_document(root);\n",
       "        clearInterval(timer);\n",
       "      }\n",
       "      attempts++;\n",
       "      if (attempts > 100) {\n",
       "        console.log(\"Bokeh: ERROR: Unable to embed document because BokehJS library is missing\")\n",
       "        clearInterval(timer);\n",
       "      }\n",
       "    }, 10, root)\n",
       "  }\n",
       "})(window);"
      ],
      "application/vnd.bokehjs_exec.v0+json": ""
     },
     "metadata": {
      "application/vnd.bokehjs_exec.v0+json": {
       "id": "ed81244a-ed16-4487-b13d-54dc4738db04"
      }
     },
     "output_type": "display_data"
    }
   ],
   "source": [
    "# add chart - werkt nog niet om 1 of andere reden.....\n",
    "#source2 = ColumnDataSource(dx_totaalSBB)\n",
    "\n",
    "output_notebook()\n",
    "\n",
    "kolommen = list(df_totaalSBB['Jaar'].unique())\n",
    "sectoren = list(df_totaalSBB['SECTORUNIT SBB'].unique())\n",
    "\n",
    "#Teken grafiek\n",
    "source2 = ColumnDataSource(data2)\n",
    "\n",
    "p1 = figure(x_range=sectoren, plot_height=400, title=\"Totalen per SBB sector per jaar\")\n",
    "\n",
    "p1.vbar_stack(kolommen, x='2013', width=0.8, source=source2, legend=kolommen)\n",
    "\n",
    "p1.width=900\n",
    "p1.y_range.start = 0\n",
    "p1.x_range.range_padding = 0.1\n",
    "p1.xaxis.major_label_orientation = 0\n",
    "p1.xgrid.grid_line_color = None\n",
    "\n",
    "\n",
    "#layout = row(p, jaren)\n",
    "#doc.title = \"Sectorunit SBB chart test\"\n",
    "#doc.add_root(p)\n",
    "show(p1)"
   ]
  },
  {
   "cell_type": "code",
   "execution_count": 81,
   "metadata": {},
   "outputs": [
    {
     "data": {
      "text/plain": [
       "['2013', '2014', '2015', '2016', '2017']"
      ]
     },
     "execution_count": 81,
     "metadata": {},
     "output_type": "execute_result"
    }
   ],
   "source": [
    "kolommen"
   ]
  },
  {
   "cell_type": "code",
   "execution_count": 124,
   "metadata": {},
   "outputs": [
    {
     "data": {
      "text/plain": [
       "{'counts': [369,\n",
       "  6856,\n",
       "  5792,\n",
       "  2383,\n",
       "  463,\n",
       "  6523,\n",
       "  6892,\n",
       "  9769,\n",
       "  22036,\n",
       "  517,\n",
       "  7066,\n",
       "  6105,\n",
       "  2472,\n",
       "  573,\n",
       "  6176,\n",
       "  7078,\n",
       "  10178,\n",
       "  22116,\n",
       "  433,\n",
       "  7667,\n",
       "  6009,\n",
       "  2677,\n",
       "  568,\n",
       "  6270,\n",
       "  7720,\n",
       "  10071,\n",
       "  22298,\n",
       "  306,\n",
       "  8033,\n",
       "  6134,\n",
       "  2765,\n",
       "  596,\n",
       "  6310,\n",
       "  7851,\n",
       "  9482,\n",
       "  20812,\n",
       "  562,\n",
       "  9663,\n",
       "  6248,\n",
       "  3027,\n",
       "  649,\n",
       "  6517,\n",
       "  10070,\n",
       "  9214,\n",
       "  21885],\n",
       " 'x': ['Bovensectoraal',\n",
       "  'Sectorunit creatieve industrie en ICT',\n",
       "  'Sectorunit handel',\n",
       "  'Sectorunit mobiliteit, transport, logistiek, maritiem',\n",
       "  'Sectorunit specialistisch vakmanschap',\n",
       "  'Sectorunit techniek en gebouwde omgeving',\n",
       "  'Sectorunit voedsel, groen en gastvrijheid',\n",
       "  'Sectorunit zakelijke dienstverlening en veiligheid',\n",
       "  'Sectorunit zorg, welzijn en sport']}"
      ]
     },
     "execution_count": 124,
     "metadata": {},
     "output_type": "execute_result"
    }
   ],
   "source": [
    "test =  dsc.copy()\n",
    "tx =test.groupby(['SECTORUNIT SBB']).sum()[['2013', '2014', '2015', '2016', '2017']]\n",
    "counts = []\n",
    "test2 =tx['2013']\n",
    "data2 = dict(x=sectoren, counts = counts)\n",
    "for kolom in kolommen:\n",
    "    for sector in sectoren:\n",
    "        counts.append(tx.loc[sector][kolom])\n",
    "    \n",
    "data2"
   ]
  },
  {
   "cell_type": "code",
   "execution_count": null,
   "metadata": {
    "collapsed": true
   },
   "outputs": [],
   "source": [
    "data = {'fruits' : fruits,\n",
    "        '2015'   : [2, 1, 4, 3, 2, 4],\n",
    "        '2016'   : [5, 3, 4, 2, 4, 6],\n",
    "        '2017'   : [3, 2, 4, 4, 5, 3]}\n"
   ]
  },
  {
   "cell_type": "code",
   "execution_count": null,
   "metadata": {
    "collapsed": true
   },
   "outputs": [],
   "source": [
    "from bokeh.server.server import Server\n",
    "from bokeh.application import Application\n",
    "from bokeh.application.handlers.function import FunctionHandler\n",
    "\n",
    "apps = {'/': Application(FunctionHandler(make_document))}\n",
    "\n",
    "server = Server(apps, port=5006, allow_websocket_origin=['localhost:5006','nm-interactive.net:5006'])\n",
    "server.start()"
   ]
  },
  {
   "cell_type": "code",
   "execution_count": null,
   "metadata": {
    "collapsed": true
   },
   "outputs": [],
   "source": [
    "server.stop()\n"
   ]
  },
  {
   "cell_type": "code",
   "execution_count": null,
   "metadata": {},
   "outputs": [],
   "source": [
    "source2.column_names"
   ]
  },
  {
   "cell_type": "code",
   "execution_count": null,
   "metadata": {
    "collapsed": true
   },
   "outputs": [],
   "source": []
  },
  {
   "cell_type": "code",
   "execution_count": null,
   "metadata": {},
   "outputs": [],
   "source": [
    "# maak document, met daarin grafiek. Hier zullen (uiteindelijk) meerdere grafieken moeten worden \n",
    "# weergegeven met meerdere opties.\n",
    "dx = dscMelt.copy()\n",
    "\n",
    "# defineer variabelen voor grafiek\n",
    "dx_totaalSBB = dx.groupby(['SECTORUNIT SBB', 'Jaar']).sum()[['Aantal']]\n",
    "dx_totaalSBB.head()\n",
    "dx_totaalSBB.loc['Bovensectoraal']"
   ]
  },
  {
   "cell_type": "markdown",
   "metadata": {},
   "source": [
    "# 2. Visualisatie op 'Sectorunit SBB'\n",
    "De aanvliegroute is om per visualisatie een apart dataframe te maken. Sorteren op attribuurtwaarde lijkt me handig.\n",
    "\n",
    "### 1a. Dataframe verkennen: Sorteren op unieke attribuutwaarde\n",
    "Normaal gesproken staan alle data in willekeurige volgorde. Je zou kunnen sorteren attribuurtwaarde, bijvoorbeeld binnen de kolom 'SECTORUNIT SBB'.<br>\n",
    "<font color=grey>\n",
    "Syntax: df.sort_values(by=['col1']) , of<br>\n",
    "df.sort_values(by=['col1', 'col2']) <br>\n",
    "Wil je eea omgekeerd selecteren? Dan df.sort_values(by='col1', ascending=False)</font>\n",
    "<font color=grey>Bron:https://pandas.pydata.org/pandas-docs/stable/generated/pandas.DataFrame.sort_values.html</font> <br>\n",
    "\n",
    "N.B. Simon en Danny zijn nog bezig met 'Locatie' en 'Categorie'. Dit zijn nu arrays [] binnen de Dataframe. Ze zoeken nog naar een manier om dit om te typeren naar normale datavelden, zodat we ook hier aparte Dataframes (locatie, categorie) van kunnen maken die gevisualiseerd kunnen worden.\n",
    "\n"
   ]
  },
  {
   "cell_type": "code",
   "execution_count": null,
   "metadata": {
    "collapsed": true
   },
   "outputs": [],
   "source": [
    "df = datasource\n",
    "df.sort_values(by='SECTORUNIT SBB')"
   ]
  },
  {
   "cell_type": "markdown",
   "metadata": {},
   "source": [
    "### 1b. SNELLER: Welke unieke attribuutwaarden in een kolom\n",
    "Het is sneller om de unieke attribuutwaarden uit te vragen. Dan is het later makkelijker om te selecteren / slicen / visualiseren op een bepaalde attribuutwaarde in een kolom.\n",
    "\n",
    "Bron:https://chrisalbon.com/python/data_wrangling/pandas_list_unique_values_in_column/ "
   ]
  },
  {
   "cell_type": "code",
   "execution_count": null,
   "metadata": {
    "collapsed": true
   },
   "outputs": [],
   "source": [
    "df['SECTORUNIT SBB'].unique()"
   ]
  },
  {
   "cell_type": "markdown",
   "metadata": {},
   "source": [
    "# 2. Totalen per unieke attribuutwaarde\n",
    "Om de unieke attribuutwaarden te visualiseren, hebben we de totalen nodig. Schijnbaar kan dat ook makkelijk, na lang zoeken, gvd. <br>\n",
    "\n",
    "<font color=grey>Syntax: df.groupby(['kolomnaam' waarvan je totalen wil]).sum()[['kolom aant1','kolom aant1', 'enzovoorts']]</font> <br>\n",
    "Bron: https://stackoverflow.com/questions/35307732/how-to-sum-in-pandas-by-unique-index-in-several-columns"
   ]
  },
  {
   "cell_type": "code",
   "execution_count": null,
   "metadata": {
    "collapsed": true
   },
   "outputs": [],
   "source": [
    "df_totaalSBB = df.groupby(['SECTORUNIT SBB']).sum()[['2013   AANT','2014   AANT','2015   AANT','2016   AANT','2017   AANT']]\n",
    "df_totaalSBB.info()"
   ]
  },
  {
   "cell_type": "code",
   "execution_count": null,
   "metadata": {
    "collapsed": true
   },
   "outputs": [],
   "source": [
    "df_totaalSBB.head(10)"
   ]
  },
  {
   "cell_type": "markdown",
   "metadata": {},
   "source": [
    "# 3. Visualiseren totalen 'Sectorunit SBB'"
   ]
  },
  {
   "cell_type": "code",
   "execution_count": null,
   "metadata": {
    "collapsed": true
   },
   "outputs": [],
   "source": [
    "%config IPCompleter.greedy = True  \n",
    "%matplotlib inline\n",
    "df_totaalSBB.plot.bar()"
   ]
  },
  {
   "cell_type": "markdown",
   "metadata": {},
   "source": [
    "Bron voor onderstaande: https://hub.mybinder.org/user/bokeh-bokeh-notebooks-yecjmjgh/notebooks/tutorial/07%20-%20Bar%20and%20Categorical%20Data%20Plots.ipynb"
   ]
  },
  {
   "cell_type": "markdown",
   "metadata": {
    "collapsed": true
   },
   "source": [
    "# 4. Visualiseer hoe vaak een bepaald type mbo niveau 4 gediplomeerden voorkomt in het wervingsgebied van de Windesheim locatie Zwolle in absolute aantallen"
   ]
  },
  {
   "cell_type": "code",
   "execution_count": null,
   "metadata": {
    "collapsed": true
   },
   "outputs": [],
   "source": [
    "#dataframe om alle gediplomeerden in regio Zwolle te selecteren\n",
    "df_locatie_zwolle = df.loc[df['Locatie'] == 'Zwolle']\n",
    "df_aantal_zwolle = df_locatie_zwolle.groupby(['Locatie']).sum()[['2013   AANT','2014   AANT','2015   AANT','2016   AANT','2017   AANT']]"
   ]
  },
  {
   "cell_type": "code",
   "execution_count": null,
   "metadata": {
    "collapsed": true
   },
   "outputs": [],
   "source": [
    "df_aantal_zwolle.info()"
   ]
  },
  {
   "cell_type": "code",
   "execution_count": null,
   "metadata": {
    "collapsed": true
   },
   "outputs": [],
   "source": [
    "df_aantal_zwolle.plot.bar(figsize=(8,5.0),title='Aantal MBO Afgestudeerden Regio Zwolle')"
   ]
  },
  {
   "cell_type": "code",
   "execution_count": null,
   "metadata": {
    "collapsed": true
   },
   "outputs": [],
   "source": [
    "df_locatie_zwolle.info()"
   ]
  },
  {
   "cell_type": "markdown",
   "metadata": {},
   "source": [
    "# 5. Visualiseer hoe vaak een bepaald type mbo niveau 4 gediplomeerden voorkomt in het wervingsgebied van de Windesheim locatie Flevoland in absolute aantallen"
   ]
  },
  {
   "cell_type": "code",
   "execution_count": null,
   "metadata": {
    "collapsed": true
   },
   "outputs": [],
   "source": [
    "#dataframe om alle gediplomeerden in regio Flevoland te selecteren\n",
    "df_locatie_flevoland = df.loc[df['Locatie'] == 'Flevoland']\n",
    "df_aantal_flevoland = df_locatie_flevoland.groupby(['Locatie']).sum()[['2013   AANT','2014   AANT','2015   AANT','2016   AANT','2017   AANT']]"
   ]
  },
  {
   "cell_type": "code",
   "execution_count": null,
   "metadata": {
    "collapsed": true
   },
   "outputs": [],
   "source": [
    "df_aantal_flevoland"
   ]
  },
  {
   "cell_type": "code",
   "execution_count": null,
   "metadata": {
    "collapsed": true
   },
   "outputs": [],
   "source": [
    "df_aantal_flevoland.plot.bar(figsize=(8,5.0),title='Aantal MBO Afgestudeerden Regio Flevoland')"
   ]
  },
  {
   "cell_type": "markdown",
   "metadata": {
    "collapsed": true
   },
   "source": [
    "# JH - 1. Visualiseer waar de gediplomeerde mbo-4 woonachtig zijn naar mbo-opleiding in absolute aantallen"
   ]
  },
  {
   "cell_type": "code",
   "execution_count": null,
   "metadata": {
    "collapsed": true
   },
   "outputs": [],
   "source": [
    "koppeltabel = pd.read_sql_query(\"SELECT * FROM koppeltabel\",engine)"
   ]
  },
  {
   "cell_type": "code",
   "execution_count": null,
   "metadata": {
    "collapsed": true
   },
   "outputs": [],
   "source": [
    "renamed = datasource.rename(columns={'PC4_LEERL': 'PC4'})\n",
    "output = pd.merge(renamed, koppeltabel, on='PC4', how='inner')\n",
    "output.head(10)"
   ]
  },
  {
   "cell_type": "markdown",
   "metadata": {},
   "source": [
    "# JH - 1A. Visualisatie per Provincie"
   ]
  },
  {
   "cell_type": "code",
   "execution_count": null,
   "metadata": {
    "collapsed": true
   },
   "outputs": [],
   "source": [
    "#dataframe om alle gediplomeerden per provincie te selecteren\n",
    "df_totaalprovincie = output.groupby(['Provincie']).sum()[['2013   AANT','2014   AANT','2015   AANT','2016   AANT','2017   AANT']]\n",
    "df_totaalprovincie"
   ]
  },
  {
   "cell_type": "code",
   "execution_count": null,
   "metadata": {
    "collapsed": true
   },
   "outputs": [],
   "source": [
    "df_totaalprovincie.plot.bar(figsize=(8,5.0),title='Aantal MBO 4 Afgestudeerden per Provincie')"
   ]
  },
  {
   "cell_type": "markdown",
   "metadata": {},
   "source": [
    "# JH - 1B. Visualisatie per Categorie"
   ]
  },
  {
   "cell_type": "code",
   "execution_count": null,
   "metadata": {
    "collapsed": true
   },
   "outputs": [],
   "source": [
    "#dataframe om alle gediplomeerden per categorie te selecteren\n",
    "df_totaalcategorie = output.groupby(['Categorie']).sum()[['2013   AANT','2014   AANT','2015   AANT','2016   AANT','2017   AANT']]\n",
    "df_totaalcategorie"
   ]
  },
  {
   "cell_type": "code",
   "execution_count": null,
   "metadata": {
    "collapsed": true
   },
   "outputs": [],
   "source": [
    "df_totaalcategorie.plot.bar(figsize=(8,5.0),title='Aantal MBO 4 Afgestudeerden per Categorie')"
   ]
  },
  {
   "cell_type": "markdown",
   "metadata": {},
   "source": [
    "# JH - 1C. Visualisatie \"Thuismarkt\""
   ]
  },
  {
   "cell_type": "code",
   "execution_count": null,
   "metadata": {
    "collapsed": true
   },
   "outputs": [],
   "source": [
    "#dataframe om alle gediplomeerden in Categorie \"Thuismarkt\" te selecteren\n",
    "df_thuismarkt = output.loc[output['Categorie'] == 'Thuismarkt']\n",
    "df_gt = df_thuismarkt.groupby(['Gemeente']).sum()[['2013   AANT','2014   AANT','2015   AANT','2016   AANT','2017   AANT']]\n",
    "df_gt"
   ]
  },
  {
   "cell_type": "code",
   "execution_count": null,
   "metadata": {
    "collapsed": true
   },
   "outputs": [],
   "source": [
    "df_gt.plot.bar(figsize=(20,8.0),title='Aantal MBO 4 Afgestudeerden - Thuismarkt')"
   ]
  },
  {
   "cell_type": "markdown",
   "metadata": {},
   "source": [
    "# JH - 1D. Visualisatie \"Aangrenzend Primair\""
   ]
  },
  {
   "cell_type": "code",
   "execution_count": null,
   "metadata": {
    "collapsed": true
   },
   "outputs": [],
   "source": [
    "#dataframe om alle gediplomeerden in Categorie \"Aangrenzend Primair\" te selecteren\n",
    "df_ap = output.loc[output['Categorie'] == 'Aangrenzend Primair']\n",
    "df_gap = df_ap.groupby(['Gemeente']).sum()[['2013   AANT','2014   AANT','2015   AANT','2016   AANT','2017   AANT']]\n",
    "df_gap"
   ]
  },
  {
   "cell_type": "code",
   "execution_count": null,
   "metadata": {
    "collapsed": true
   },
   "outputs": [],
   "source": [
    "df_gap.plot.bar(figsize=(20,8.0),title='Aantal MBO 4 Afgestudeerden - Aangrenzend Primair')"
   ]
  },
  {
   "cell_type": "markdown",
   "metadata": {},
   "source": [
    "# JH - 1E. Visualisatie \"Aangrenzend Secundair\""
   ]
  },
  {
   "cell_type": "code",
   "execution_count": null,
   "metadata": {
    "collapsed": true
   },
   "outputs": [],
   "source": [
    "#dataframe om alle gediplomeerden in Categorie \"Aangrenzend Secundair\" te selecteren\n",
    "df_as = output.loc[output['Categorie'] == 'Aangrenzend Secundair']\n",
    "df_gas = df_as.groupby(['Gemeente']).sum()[['2013   AANT','2014   AANT','2015   AANT','2016   AANT','2017   AANT']]\n",
    "df_gas"
   ]
  },
  {
   "cell_type": "code",
   "execution_count": null,
   "metadata": {
    "collapsed": true
   },
   "outputs": [],
   "source": [
    "df_gas.plot.bar(figsize=(20,8.0),title='Aantal MBO 4 Afgestudeerden - Aangrenzend Secundair')"
   ]
  },
  {
   "cell_type": "markdown",
   "metadata": {},
   "source": [
    "# JH - 1F. Visualisatie \"Meerdere\""
   ]
  },
  {
   "cell_type": "code",
   "execution_count": null,
   "metadata": {
    "collapsed": true
   },
   "outputs": [],
   "source": [
    "#dataframe om alle gediplomeerden in Categorie \"Meerdere\" te selecteren\n",
    "df_me = output.loc[output['Categorie'] == 'Meerdere']\n",
    "df_gme = df_me.groupby(['Gemeente']).sum()[['2013   AANT','2014   AANT','2015   AANT','2016   AANT','2017   AANT']]\n",
    "df_me"
   ]
  },
  {
   "cell_type": "code",
   "execution_count": null,
   "metadata": {
    "collapsed": true
   },
   "outputs": [],
   "source": [
    "df_gme.plot.bar(figsize=(20,8.0),title='Aantal MBO 4 Afgestudeerden - Aangrenzend Secundair')"
   ]
  },
  {
   "cell_type": "markdown",
   "metadata": {},
   "source": [
    "# 2. Visualisatie \"MBO Sector\" in absolute aantallen"
   ]
  },
  {
   "cell_type": "code",
   "execution_count": null,
   "metadata": {
    "collapsed": true
   },
   "outputs": [],
   "source": [
    "df_sector = df.groupby(['MBO SECTOR']).sum()[['2013   AANT','2014   AANT','2015   AANT','2016   AANT','2017   AANT']]\n",
    "df_sector"
   ]
  },
  {
   "cell_type": "code",
   "execution_count": null,
   "metadata": {
    "collapsed": true
   },
   "outputs": [],
   "source": [
    "df_sector.plot.bar(figsize=(20,8.0),title='Aantal MBO 4 Afgestudeerden - per MBO Sector')"
   ]
  },
  {
   "cell_type": "code",
   "execution_count": null,
   "metadata": {
    "collapsed": true
   },
   "outputs": [],
   "source": [
    "#output_notebook()\n",
    "\n",
    "#Kolommen zijn de kolommen uit de df_totaalSBB dataframe. Dit gaat dan om 2013 AANT etc. Dit is voor de eerste groepering. \n",
    "kolommen = list(df_totaalSBB)\n",
    "\n",
    "#Sectoren haalt alle unieke waardes uit het dataframe voor de kolom SECTORUNIT SBB.\n",
    "sectoren = list(df['SECTORUNIT SBB'].unique())\n",
    "\n",
    "#Voeg per kolom alle sectoren toe. Dit wordt dan de data voor de x-as. \n",
    "#Kolom is bijvoorbeeld 2013 AANT en hier worden vervolgens alle sectoren aan toegevoegd.\n",
    "x = [ (kolom, sector) for kolom in kolommen for sector in sectoren ]\n",
    "\n",
    "#Data voor de y-as\n",
    "#Data doorlopen om de totalen op de juiste volgorde in een array te plaatsen.\n",
    "#Zelfde volgorde zoals hierboven staat voor de gegevens voor de x-as\n",
    "\n",
    "counts = []\n",
    "\n",
    "for kolom in kolommen:\n",
    "    for sector in sectoren:\n",
    "        counts.append(df_totaalSBB.loc[sector][kolom])\n",
    "        \n",
    "#Teken grafiek\n",
    "source = ColumnDataSource(data=dict(x=x, counts=counts))\n",
    "\n",
    "p = figure(x_range=FactorRange(*x), plot_height=400, title=\"Totalen per SBB sector per jaar\")\n",
    "\n",
    "p.vbar(x='x', top='counts', width=0.8, source=source)\n",
    "\n",
    "p.width=900\n",
    "p.y_range.start = 0\n",
    "p.x_range.range_padding = 0.1\n",
    "p.xaxis.major_label_orientation = 1\n",
    "p.xgrid.grid_line_color = None\n",
    "\n",
    "show(p)"
   ]
  },
  {
   "cell_type": "code",
   "execution_count": null,
   "metadata": {
    "collapsed": true
   },
   "outputs": [],
   "source": [
    "#Kolommen zijn de kolommen uit de df_totaalSBB dataframe. Dit gaat dan om 2013 AANT etc. Dit is voor de eerste groepering. \n",
    "kolommen_zwolle = list(df_aantal_zwolle)\n",
    "\n",
    "#Sectoren haalt alle unieke waardes uit het dataframe voor de kolom SECTORUNIT SBB.\n",
    "locaties_zwolle = list(df_locatie_zwolle['Locatie'].unique())\n",
    "\n",
    "#Voeg per kolom alle sectoren toe. Dit wordt dan de data voor de x-as. \n",
    "#Kolom is bijvoorbeeld 2013 AANT en hier worden vervolgens alle sectoren aan toegevoegd.\n",
    "x = [ (kolom, locatie) for kolom in kolommen_zwolle for locatie in locaties_zwolle ]\n",
    "\n",
    "#Data voor de y-as\n",
    "#Data doorlopen om de totalen op de juiste volgorde in een array te plaatsen.\n",
    "#Zelfde volgorde zoals hierboven staat voor de gegevens voor de x-as\n",
    "\n",
    "counts = []\n",
    "\n",
    "for kolom in kolommen_zwolle:\n",
    "    for locatie in locaties_zwolle:\n",
    "        counts.append(df_aantal_zwolle.loc[locatie][kolom])\n",
    "\n",
    "#Teken grafiek\n",
    "source = ColumnDataSource(data=dict(x=x, counts=counts))\n",
    "\n",
    "az = figure(x_range=FactorRange(*x), plot_height=400, title=\"Aantal MBO Afgestudeerden Regio Zwolle\")\n",
    "\n",
    "az.vbar(x='x', top='counts', width=0.8, source=source)\n",
    "\n",
    "az.width=900\n",
    "az.y_range.start = 0\n",
    "az.x_range.range_padding = 0.1\n",
    "az.xaxis.major_label_orientation = 1\n",
    "az.xgrid.grid_line_color = None\n",
    "\n",
    "\n",
    "#update functie om nieuwe data(selecties) weer te geven, doet nu niets...\n",
    "#def update():\n",
    "\n",
    "#callback om updates elke 100ms op te halen\n",
    "#doc.add_periodic_callback(update, 100)\n",
    "\n",
    "show(az)"
   ]
  },
  {
   "cell_type": "code",
   "execution_count": null,
   "metadata": {
    "collapsed": true
   },
   "outputs": [],
   "source": [
    "#from bokeh.palettes import Spectral6\n",
    "\n",
    "#Kolommen zijn de kolommen uit de df_totaalSBB dataframe. Dit gaat dan om 2013 AANT etc. Dit is voor de eerste groepering. \n",
    "#kolommen = list(df_totaalSBB)\n",
    "\n",
    "#Sectoren haalt alle unieke waardes uit het dataframe voor de kolom SECTORUNIT SBB.\n",
    "#sectoren = df['SECTORUNIT SBB'].unique()\n",
    "#sectorenMultiplied = []\n",
    "\n",
    "#Voeg per kolom alle sectoren toe. Dit wordt dan de data voor de x-as. \n",
    "#Kolom is bijvoorbeeld 2013 AANT en hier worden vervolgens alle sectoren aan toegevoegd.\n",
    "#x = [ (sector, kolom) for sector in sectoren for kolom in kolommen ]\n",
    "\n",
    "#Data voor de y-as\n",
    "#Data doorlopen om de totalen op de juiste volgorde in een array te plaatsen.\n",
    "#Zelfde volgorde zoals hierboven staat voor de gegevens voor de x-as\n",
    "\n",
    "#counts = []\n",
    "\n",
    "#for sector in sectoren:\n",
    "#    for kolom in kolommen:\n",
    "#        counts.append(df_totaalSBB.loc[sector][kolom])\n",
    "\n",
    "#cyl_cmap = factor_cmap('cyl', palette=Spectral5, factors=sorted(df.cyl.unique())\n",
    "#Teken grafiek\n",
    "#source = ColumnDataSource(data=dict(x=x, counts=counts, sectoren=sectorenMultiplied, color=Spectral6))\n",
    "#p = figure(x_range=FactorRange(*x), plot_height=400, title=\"Totalen per SBB sector per jaar\")\n",
    "#p.vbar(x='x', top='counts', width=0.8, legend='sectoren', color='color', source=source)\n",
    "\n",
    "#p.width=1000\n",
    "#p.y_range.start = 0\n",
    "#p.x_range.range_padding = 0.1\n",
    "#p.xaxis.major_label_orientation = 'vertical'\n",
    "#p.xgrid.grid_line_color = None\n",
    "\n",
    "#p.legend.orientation = \"horizontal\"\n",
    "#p.legend.location = \"top_center\"\n",
    "\n",
    "#p.xaxis[0].group_text_font_size = '0pt'\n",
    "#show(p)"
   ]
  },
  {
   "cell_type": "code",
   "execution_count": null,
   "metadata": {
    "collapsed": true
   },
   "outputs": [],
   "source": [
    "# voorbeeld data, laad in om werking te zien! Wel even de volgende paragraaf skippen...\n",
    "\n",
    "import random\n",
    "\n",
    "def make_document(doc):\n",
    "    source = ColumnDataSource({'x': [], 'y': [], 'color': []})\n",
    "\n",
    "    def update():\n",
    "        new = {'x': [random.random()],\n",
    "               'y': [random.random()],\n",
    "               'color': [random.choice(['red', 'blue', 'green'])]}\n",
    "        source.stream(new)\n",
    "\n",
    "    doc.add_periodic_callback(update, 100)\n",
    "\n",
    "    fig = figure(title='Streaming Circle Plot!', sizing_mode='scale_width',\n",
    "                 x_range=[0, 1], y_range=[0, 1])\n",
    "    fig.circle(source=source, x='x', y='y', color='color', size=10)\n",
    "\n",
    "    doc.title = \"Now with live updating!\"\n",
    "    doc.add_root(fig)"
   ]
  },
  {
   "cell_type": "code",
   "execution_count": null,
   "metadata": {
    "collapsed": true
   },
   "outputs": [],
   "source": [
    "# maak document, met daarin grafiek. Hier zullen (uiteindelijk) meerdere grafieken moeten worden \n",
    "# weergegeven met meerdere opties.\n",
    "\n",
    "def make_document(doc):\n",
    "    #Kolommen zijn de kolommen uit de df_totaalSBB dataframe. Dit gaat dan om 2013 AANT etc. Dit is voor de eerste groepering. \n",
    "    kolommen = list(df_totaalSBB)\n",
    "\n",
    "    #Sectoren haalt alle unieke waardes uit het dataframe voor de kolom SECTORUNIT SBB.\n",
    "    sectoren = list(df['SECTORUNIT SBB'].unique())\n",
    "\n",
    "    #Voeg per kolom alle sectoren toe. Dit wordt dan de data voor de x-as. \n",
    "    #Kolom is bijvoorbeeld 2013 AANT en hier worden vervolgens alle sectoren aan toegevoegd.\n",
    "    x = [ (kolom, sector) for kolom in kolommen for sector in sectoren ]\n",
    "\n",
    "    #Data voor de y-as\n",
    "    #Data doorlopen om de totalen op de juiste volgorde in een array te plaatsen.\n",
    "    #Zelfde volgorde zoals hierboven staat voor de gegevens voor de x-as\n",
    "\n",
    "    counts = []\n",
    "\n",
    "    for kolom in kolommen:\n",
    "        for sector in sectoren:\n",
    "            counts.append(df_totaalSBB.loc[sector][kolom])\n",
    "\n",
    "    #Teken grafiek\n",
    "    source = ColumnDataSource(data=dict(x=x, counts=counts))\n",
    "\n",
    "    p = figure(x_range=FactorRange(*x), plot_height=400, title=\"Totalen per SBB sector per jaar\")\n",
    "\n",
    "    p.vbar(x='x', top='counts', width=0.8, source=source)\n",
    "\n",
    "    p.width=900\n",
    "    p.y_range.start = 0\n",
    "    p.x_range.range_padding = 0.1\n",
    "    p.xaxis.major_label_orientation = 1\n",
    "    p.xgrid.grid_line_color = None\n",
    "\n",
    "\n",
    "    #update functie om nieuwe data(selecties) weer te geven\n",
    "    def updateSBB(attr, old, new):\n",
    "        kolommen = [jaren.labels[i] for i in jaren.active]\n",
    "        x = [ (kolom, sector) for kolom in kolommen for sector in sectoren ]\n",
    "\n",
    "        counts = []\n",
    "\n",
    "        for kolom in kolommen:\n",
    "            for sector in sectoren:\n",
    "                counts.append(df_totaalSBB.loc[sector][kolom])\n",
    "\n",
    "        newSource = ColumnDataSource(data=dict(x=x, counts=counts))\n",
    "        source.data.update(newSource.data)\n",
    "    \n",
    "    \n",
    "    jaren = CheckboxGroup(labels=kolommen, active = [0, 1, 2, 3 ,4])\n",
    "    jaren.on_change('active', updateSBB)\n",
    "\n",
    "    layout = row(p, jaren)\n",
    "\n",
    "    #callback om updates elke 100ms op te halen\n",
    "    #doc.add_periodic_callback(update, 100)\n",
    "\n",
    "    doc.title = \"Sectorunit SBB chart...\"\n",
    "    doc.add_root(layout)\n",
    "\n",
    "    # maak document, met daarin grafiek. Hier zullen (uiteindelijk) meerdere grafieken moeten worden \n",
    "    # weergegeven met meerdere opties.\n",
    "\n",
    "    #def aantal_zwolle(doc):\n",
    "\n",
    "        #Kolommen zijn de kolommen uit de df_totaalSBB dataframe. Dit gaat dan om 2013 AANT etc. Dit is voor de eerste groepering. \n",
    "        #kolommen_zwolle = list(df_aantal_zwolle)\n",
    "\n",
    "        #Sectoren haalt alle unieke waardes uit het dataframe voor de kolom SECTORUNIT SBB.\n",
    "        #locaties_zwolle = list(df_aantal_zwolle['Locatie'].unique())\n",
    "\n",
    "        #Voeg per kolom alle sectoren toe. Dit wordt dan de data voor de x-as. \n",
    "        #Kolom is bijvoorbeeld 2013 AANT en hier worden vervolgens alle sectoren aan toegevoegd.\n",
    "        #x = [ (kolom, locatie) for kolom in kolommen_zwolle for locatie in locaties_zwolle ]\n",
    "\n",
    "        #Data voor de y-as\n",
    "        #Data doorlopen om de totalen op de juiste volgorde in een array te plaatsen.\n",
    "        #Zelfde volgorde zoals hierboven staat voor de gegevens voor de x-as\n",
    "\n",
    "        #counts = []\n",
    "\n",
    "        #for kolom in kolommen_zwolle:\n",
    "        #   for locatie in locaties_zwolle:\n",
    "        #        counts.append(df_aantal_zwolle.loc[sector][kolom])\n",
    "\n",
    "        #Teken grafiek\n",
    "        #source = ColumnDataSource(data=dict(x=x, counts=counts))\n",
    "\n",
    "        #az = figure(x_range=FactorRange(*x), plot_height=400, title=\"Aantal MBO Afgestudeerden Regio Zwolle\")\n",
    "\n",
    "        #az.vbar(x='x', top='counts', width=0.8, source=source)\n",
    "\n",
    "        #az.width=900\n",
    "        #az.y_range.start = 0\n",
    "        #az.x_range.range_padding = 0.1\n",
    "        #az.xaxis.major_label_orientation = 1\n",
    "        #az.xgrid.grid_line_color = None\n",
    "   \n",
    "\n",
    "        #update functie om nieuwe data(selecties) weer te geven, doet nu niets...\n",
    "        #def update():\n",
    "\n",
    "        #callback om updates elke 100ms op te halen\n",
    "        #doc.add_periodic_callback(update, 100)\n",
    "        \n",
    "        \n",
    "        #doc.title = \"Tekst...\"\n",
    "        #doc.add_root(az)"
   ]
  },
  {
   "cell_type": "code",
   "execution_count": null,
   "metadata": {
    "collapsed": true
   },
   "outputs": [],
   "source": [
    "# starten van de webserver :)\n",
    "apps = {'/': Application(FunctionHandler(make_document))}\n",
    "\n",
    "server = Server(apps, port=5006, allow_websocket_origin=['localhost:5006','nm-interactive.net:5006'])\n",
    "server.start()"
   ]
  },
  {
   "cell_type": "code",
   "execution_count": null,
   "metadata": {
    "collapsed": true
   },
   "outputs": [],
   "source": [
    "# stoppen van de server :)\n",
    "server.stop()"
   ]
  },
  {
   "cell_type": "code",
   "execution_count": null,
   "metadata": {
    "collapsed": true
   },
   "outputs": [],
   "source": [
    "output_notebook()\n",
    "\n",
    "#Kolommen zijn de kolommen uit de df_totaalSBB dataframe. Dit gaat dan om 2013 AANT etc. Dit is voor de eerste groepering. \n",
    "kolommen = list(df_totaalSBB)\n",
    "\n",
    "#Sectoren haalt alle unieke waardes uit het dataframe voor de kolom SECTORUNIT SBB.\n",
    "sectoren = df['SECTORUNIT SBB'].unique()\n",
    "\n",
    "#Voeg per kolom alle sectoren toe. Dit wordt dan de data voor de x-as. \n",
    "#Kolom is bijvoorbeeld 2013 AANT en hier worden vervolgens alle sectoren aan toegevoegd.\n",
    "x = [ (kolom, sector) for kolom in kolommen for sector in sectoren ]\n",
    "\n",
    "#Data voor de y-as\n",
    "#Data doorlopen om de totalen op de juiste volgorde in een array te plaatsen.\n",
    "#Zelfde volgorde zoals hierboven staat voor de gegevens voor de x-as\n",
    "\n",
    "counts = []\n",
    "\n",
    "for kolom in kolommen:\n",
    "    for sector in sectoren:\n",
    "        counts.append(df_totaalSBB.loc[sector][kolom])\n",
    "        \n",
    "\n",
    "source = ColumnDataSource(data=dict(x=x, counts=counts))\n",
    "\n",
    "#Teken grafiek\n",
    "p = figure(x_range=FactorRange(*x), plot_height=400, title=\"Totalen per SBB sector per jaar\")\n",
    "\n",
    "p.vbar(x='x', top='counts', width=0.8, source=source)\n",
    "\n",
    "p.width=900\n",
    "p.y_range.start = 0\n",
    "p.x_range.range_padding = 0.1\n",
    "p.xaxis.major_label_orientation = 1\n",
    "p.xgrid.grid_line_color = None\n",
    "\n",
    "show(p)"
   ]
  },
  {
   "cell_type": "code",
   "execution_count": null,
   "metadata": {
    "collapsed": true
   },
   "outputs": [],
   "source": [
    "def updateSBB(attr, old, new):\n",
    "    kolommen = [jaren.labels[i] for i in jaren.active]\n",
    "    x = [ (kolom, sector) for kolom in kolommen for sector in sectoren ]\n",
    "   \n",
    "    counts = []\n",
    "    \n",
    "    for kolom in kolommen:\n",
    "        for sector in sectoren:\n",
    "            counts.append(df_totaalSBB.loc[sector][kolom])\n",
    "    \n",
    "    newSource = ColumnDataSource(data=dict(x=x, counts=counts))\n",
    "    source.data.update(newSource.data)"
   ]
  },
  {
   "cell_type": "code",
   "execution_count": null,
   "metadata": {
    "collapsed": true
   },
   "outputs": [],
   "source": [
    "output_file(\"slider.html\")\n",
    "jaren = CheckboxGroup(labels=kolommen, active = [0, 1, 2, 3 ,4])\n",
    "jaren.on_change('active', updateSBB)\n",
    "\n",
    "p1 = figure(plot_width=300, plot_height=300)\n",
    "p1.circle([1, 2, 3, 4, 5], [6, 7, 2, 4, 5], size=20, color=\"red\", alpha=0.5)\n",
    "\n",
    "testcheckbox = CheckboxGroup(labels=list(\"Test\"), active = [0, 1])\n",
    "                             \n",
    "layout = row(p, jaren)\n",
    "tab1 = Panel(child=layout, title=\"Aantal per SBB Sectorunit\")\n",
    "\n",
    "p2 = figure(plot_width=300, plot_height=300)\n",
    "p2.line([1, 2, 3, 4, 5], [6, 7, 2, 4, 5], line_width=3, color=\"red\", alpha=0.5)\n",
    "\n",
    "l2 = row(az)\n",
    "tab2 = Panel(child=l2, title=\"Aantal MBO 4 afgestudeerden Zwolle\")\n",
    "\n",
    "tabs = Tabs(tabs=[ tab1, tab2 ])\n",
    "\n",
    "show(tabs)"
   ]
  },
  {
   "cell_type": "code",
   "execution_count": null,
   "metadata": {
    "collapsed": true
   },
   "outputs": [],
   "source": [
    "def test():\n",
    "    print(\"test\")"
   ]
  },
  {
   "cell_type": "code",
   "execution_count": null,
   "metadata": {
    "collapsed": true
   },
   "outputs": [],
   "source": [
    "test()"
   ]
  },
  {
   "cell_type": "code",
   "execution_count": null,
   "metadata": {
    "collapsed": true
   },
   "outputs": [],
   "source": []
  }
 ],
 "metadata": {
  "kernelspec": {
   "display_name": "Python 3",
   "language": "python",
   "name": "python3"
  },
  "language_info": {
   "codemirror_mode": {
    "name": "ipython",
    "version": 3
   },
   "file_extension": ".py",
   "mimetype": "text/x-python",
   "name": "python",
   "nbconvert_exporter": "python",
   "pygments_lexer": "ipython3",
   "version": "3.6.3"
  }
 },
 "nbformat": 4,
 "nbformat_minor": 2
}
