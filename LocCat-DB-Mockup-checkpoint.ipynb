{
 "cells": [
  {
   "cell_type": "code",
   "execution_count": 1,
   "metadata": {},
   "outputs": [],
   "source": [
    "%config IPCompleter.greedy = True  \n",
    "%matplotlib inline\n",
    "\n",
    "import numpy as np\n",
    "import pandas as pd\n",
    "import matplotlib.pyplot as plt\n",
    "import seaborn as sns\n",
    "from sqlalchemy import create_engine\n",
    "\n",
    "from seaborn import countplot\n",
    "from matplotlib.pyplot import figure, show\n",
    "\n",
    "from bokeh.io import show, output_notebook\n",
    "from bokeh.models import ColumnDataSource\n",
    "from bokeh.plotting import figure\n",
    "from bokeh.models import FactorRange, ColumnDataSource, TableColumn, DataTable, CustomJS\n",
    "from bokeh.server.server import Server\n",
    "from bokeh.application import Application\n",
    "from bokeh.application.handlers.function import FunctionHandler\n",
    "\n",
    "from bokeh.models.widgets import Panel, Tabs, Select\n",
    "from bokeh.io import output_file, show\n",
    "from bokeh.plotting import figure\n",
    "from bokeh.models.widgets import CheckboxGroup\n",
    "from bokeh.layouts import column, row, WidgetBox  \n",
    "from bokeh.core.properties import value "
   ]
  },
  {
   "cell_type": "code",
   "execution_count": 2,
   "metadata": {},
   "outputs": [
    {
     "name": "stdout",
     "output_type": "stream",
     "text": [
      "<class 'pandas.core.frame.DataFrame'>\n",
      "RangeIndex: 169415 entries, 0 to 169414\n",
      "Data columns (total 14 columns):\n",
      "nr                    169415 non-null int64\n",
      "PC4_LEERL             169415 non-null int64\n",
      "KWALIFICATIENIVEAU    169415 non-null int64\n",
      "KWALIFICATIE CODE     169415 non-null int64\n",
      "KWALIFICATIE NAAM     169415 non-null object\n",
      "MBO SECTOR            169415 non-null object\n",
      "DOMEIN                169415 non-null object\n",
      "SECTORUNIT SBB        169415 non-null object\n",
      "GESLACHT              169415 non-null object\n",
      "2013   AANT           169415 non-null int64\n",
      "2014   AANT           169415 non-null int64\n",
      "2015   AANT           169415 non-null int64\n",
      "2016   AANT           169415 non-null int64\n",
      "2017   AANT           169415 non-null int64\n",
      "dtypes: int64(9), object(5)\n",
      "memory usage: 18.1+ MB\n",
      "<class 'pandas.core.frame.DataFrame'>\n",
      "RangeIndex: 44 entries, 0 to 43\n",
      "Data columns (total 6 columns):\n",
      "index            44 non-null int64\n",
      "PostcodeStart    44 non-null int64\n",
      "PostcodeEind     44 non-null int64\n",
      "Gemeente         44 non-null object\n",
      "Locatie          44 non-null object\n",
      "Categorie        44 non-null object\n",
      "dtypes: int64(3), object(3)\n",
      "memory usage: 2.1+ KB\n"
     ]
    }
   ],
   "source": [
    "host = \"mysql.nm-interactive.net\"\n",
    "port = 3306\n",
    "user = \"windesheim\"\n",
    "password = \"pMjq357Kdee7Sx8C\"\n",
    "database = \"windesheim\"\n",
    "client = \"mysql\"\n",
    "\n",
    "#Installeer eerst Mysqlcient in Anaconda Navigator\n",
    "engine = create_engine(\"{0}://{1}:{2}@{3}:{4}/{5}\".format(client, user, password, host, port, database))\n",
    "\n",
    "datasource = pd.read_sql_query(\"SELECT * FROM source WHERE KWALIFICATIENIVEAU = 4\",engine)\n",
    "wervingsgebieden = pd.read_sql_query(\"SELECT * FROM wervingsgebieden\",engine)\n",
    "datasource.info()\n",
    "wervingsgebieden.info()"
   ]
  },
  {
   "cell_type": "code",
   "execution_count": 3,
   "metadata": {},
   "outputs": [
    {
     "data": {
      "text/html": [
       "<div>\n",
       "<style scoped>\n",
       "    .dataframe tbody tr th:only-of-type {\n",
       "        vertical-align: middle;\n",
       "    }\n",
       "\n",
       "    .dataframe tbody tr th {\n",
       "        vertical-align: top;\n",
       "    }\n",
       "\n",
       "    .dataframe thead th {\n",
       "        text-align: right;\n",
       "    }\n",
       "</style>\n",
       "<table border=\"1\" class=\"dataframe\">\n",
       "  <thead>\n",
       "    <tr style=\"text-align: right;\">\n",
       "      <th></th>\n",
       "      <th>nr</th>\n",
       "      <th>PC4_LEERL</th>\n",
       "      <th>KWALIFICATIENIVEAU</th>\n",
       "      <th>KWALIFICATIE CODE</th>\n",
       "      <th>KWALIFICATIE NAAM</th>\n",
       "      <th>MBO SECTOR</th>\n",
       "      <th>DOMEIN</th>\n",
       "      <th>SECTORUNIT SBB</th>\n",
       "      <th>GESLACHT</th>\n",
       "      <th>2013   AANT</th>\n",
       "      <th>2014   AANT</th>\n",
       "      <th>2015   AANT</th>\n",
       "      <th>2016   AANT</th>\n",
       "      <th>2017   AANT</th>\n",
       "    </tr>\n",
       "  </thead>\n",
       "  <tbody>\n",
       "    <tr>\n",
       "      <th>0</th>\n",
       "      <td>1424</td>\n",
       "      <td>1011</td>\n",
       "      <td>4</td>\n",
       "      <td>10388</td>\n",
       "      <td>Horeca-ondernemer/-manager</td>\n",
       "      <td>economie</td>\n",
       "      <td>Horeca en bakkerij</td>\n",
       "      <td>Sectorunit voedsel, groen en gastvrijheid</td>\n",
       "      <td>M</td>\n",
       "      <td>1</td>\n",
       "      <td>0</td>\n",
       "      <td>0</td>\n",
       "      <td>0</td>\n",
       "      <td>0</td>\n",
       "    </tr>\n",
       "    <tr>\n",
       "      <th>1</th>\n",
       "      <td>1425</td>\n",
       "      <td>1011</td>\n",
       "      <td>4</td>\n",
       "      <td>10801</td>\n",
       "      <td>Restauratiemedewerker</td>\n",
       "      <td>techniek</td>\n",
       "      <td>Bouw en infra</td>\n",
       "      <td>Sectorunit techniek en gebouwde omgeving</td>\n",
       "      <td>M</td>\n",
       "      <td>1</td>\n",
       "      <td>0</td>\n",
       "      <td>0</td>\n",
       "      <td>0</td>\n",
       "      <td>0</td>\n",
       "    </tr>\n",
       "    <tr>\n",
       "      <th>2</th>\n",
       "      <td>1426</td>\n",
       "      <td>1011</td>\n",
       "      <td>4</td>\n",
       "      <td>90038</td>\n",
       "      <td>Artiest (Muziek)</td>\n",
       "      <td>techniek</td>\n",
       "      <td>Zorg en welzijn</td>\n",
       "      <td>Sectorunit creatieve industrie en ICT</td>\n",
       "      <td>M</td>\n",
       "      <td>0</td>\n",
       "      <td>0</td>\n",
       "      <td>0</td>\n",
       "      <td>2</td>\n",
       "      <td>0</td>\n",
       "    </tr>\n",
       "    <tr>\n",
       "      <th>3</th>\n",
       "      <td>1427</td>\n",
       "      <td>1011</td>\n",
       "      <td>4</td>\n",
       "      <td>90290</td>\n",
       "      <td>Ondernemer detailhandel</td>\n",
       "      <td>economie</td>\n",
       "      <td>Handel en ondernemerschap</td>\n",
       "      <td>Sectorunit handel</td>\n",
       "      <td>M</td>\n",
       "      <td>1</td>\n",
       "      <td>0</td>\n",
       "      <td>0</td>\n",
       "      <td>0</td>\n",
       "      <td>0</td>\n",
       "    </tr>\n",
       "    <tr>\n",
       "      <th>4</th>\n",
       "      <td>1428</td>\n",
       "      <td>1011</td>\n",
       "      <td>4</td>\n",
       "      <td>90301</td>\n",
       "      <td>Ondernemer horeca/bakkerij (Manager/ondernemer...</td>\n",
       "      <td>economie</td>\n",
       "      <td>Horeca en bakkerij</td>\n",
       "      <td>Sectorunit voedsel, groen en gastvrijheid</td>\n",
       "      <td>M</td>\n",
       "      <td>0</td>\n",
       "      <td>1</td>\n",
       "      <td>0</td>\n",
       "      <td>0</td>\n",
       "      <td>0</td>\n",
       "    </tr>\n",
       "  </tbody>\n",
       "</table>\n",
       "</div>"
      ],
      "text/plain": [
       "     nr  PC4_LEERL  KWALIFICATIENIVEAU  KWALIFICATIE CODE  \\\n",
       "0  1424       1011                   4              10388   \n",
       "1  1425       1011                   4              10801   \n",
       "2  1426       1011                   4              90038   \n",
       "3  1427       1011                   4              90290   \n",
       "4  1428       1011                   4              90301   \n",
       "\n",
       "                                   KWALIFICATIE NAAM MBO SECTOR  \\\n",
       "0                         Horeca-ondernemer/-manager   economie   \n",
       "1                              Restauratiemedewerker   techniek   \n",
       "2                                   Artiest (Muziek)   techniek   \n",
       "3                            Ondernemer detailhandel   economie   \n",
       "4  Ondernemer horeca/bakkerij (Manager/ondernemer...   economie   \n",
       "\n",
       "                      DOMEIN                             SECTORUNIT SBB  \\\n",
       "0         Horeca en bakkerij  Sectorunit voedsel, groen en gastvrijheid   \n",
       "1              Bouw en infra   Sectorunit techniek en gebouwde omgeving   \n",
       "2            Zorg en welzijn      Sectorunit creatieve industrie en ICT   \n",
       "3  Handel en ondernemerschap                          Sectorunit handel   \n",
       "4         Horeca en bakkerij  Sectorunit voedsel, groen en gastvrijheid   \n",
       "\n",
       "  GESLACHT  2013   AANT  2014   AANT  2015   AANT  2016   AANT  2017   AANT  \n",
       "0        M            1            0            0            0            0  \n",
       "1        M            1            0            0            0            0  \n",
       "2        M            0            0            0            2            0  \n",
       "3        M            1            0            0            0            0  \n",
       "4        M            0            1            0            0            0  "
      ]
     },
     "execution_count": 3,
     "metadata": {},
     "output_type": "execute_result"
    }
   ],
   "source": [
    "# Laat n records zien van de datasource\n",
    "datasource.head()"
   ]
  },
  {
   "cell_type": "code",
   "execution_count": 4,
   "metadata": {},
   "outputs": [
    {
     "data": {
      "text/plain": [
       "nr                     int64\n",
       "PC4_LEERL              int64\n",
       "KWALIFICATIENIVEAU     int64\n",
       "KWALIFICATIE CODE      int64\n",
       "KWALIFICATIE NAAM     object\n",
       "MBO SECTOR            object\n",
       "DOMEIN                object\n",
       "SECTORUNIT SBB        object\n",
       "GESLACHT              object\n",
       "2013   AANT            int64\n",
       "2014   AANT            int64\n",
       "2015   AANT            int64\n",
       "2016   AANT            int64\n",
       "2017   AANT            int64\n",
       "dtype: object"
      ]
     },
     "execution_count": 4,
     "metadata": {},
     "output_type": "execute_result"
    }
   ],
   "source": [
    "datasource.dtypes"
   ]
  },
  {
   "cell_type": "code",
   "execution_count": 5,
   "metadata": {},
   "outputs": [
    {
     "data": {
      "text/html": [
       "<div>\n",
       "<style scoped>\n",
       "    .dataframe tbody tr th:only-of-type {\n",
       "        vertical-align: middle;\n",
       "    }\n",
       "\n",
       "    .dataframe tbody tr th {\n",
       "        vertical-align: top;\n",
       "    }\n",
       "\n",
       "    .dataframe thead th {\n",
       "        text-align: right;\n",
       "    }\n",
       "</style>\n",
       "<table border=\"1\" class=\"dataframe\">\n",
       "  <thead>\n",
       "    <tr style=\"text-align: right;\">\n",
       "      <th></th>\n",
       "      <th>index</th>\n",
       "      <th>PostcodeStart</th>\n",
       "      <th>PostcodeEind</th>\n",
       "      <th>Gemeente</th>\n",
       "      <th>Locatie</th>\n",
       "      <th>Categorie</th>\n",
       "    </tr>\n",
       "  </thead>\n",
       "  <tbody>\n",
       "    <tr>\n",
       "      <th>0</th>\n",
       "      <td>0</td>\n",
       "      <td>7940</td>\n",
       "      <td>7999</td>\n",
       "      <td>Meppel</td>\n",
       "      <td>Zwolle</td>\n",
       "      <td>Thuismarkt</td>\n",
       "    </tr>\n",
       "    <tr>\n",
       "      <th>1</th>\n",
       "      <td>1</td>\n",
       "      <td>8000</td>\n",
       "      <td>8069</td>\n",
       "      <td>Zwolle</td>\n",
       "      <td>Zwolle</td>\n",
       "      <td>Thuismarkt</td>\n",
       "    </tr>\n",
       "    <tr>\n",
       "      <th>2</th>\n",
       "      <td>2</td>\n",
       "      <td>8070</td>\n",
       "      <td>8099</td>\n",
       "      <td>Nunspeet</td>\n",
       "      <td>Zwolle</td>\n",
       "      <td>Thuismarkt</td>\n",
       "    </tr>\n",
       "    <tr>\n",
       "      <th>3</th>\n",
       "      <td>3</td>\n",
       "      <td>8100</td>\n",
       "      <td>8159</td>\n",
       "      <td>Raalte</td>\n",
       "      <td>Zwolle</td>\n",
       "      <td>Thuismarkt</td>\n",
       "    </tr>\n",
       "    <tr>\n",
       "      <th>4</th>\n",
       "      <td>4</td>\n",
       "      <td>8160</td>\n",
       "      <td>8199</td>\n",
       "      <td>Epe</td>\n",
       "      <td>Zwolle</td>\n",
       "      <td>Thuismarkt</td>\n",
       "    </tr>\n",
       "  </tbody>\n",
       "</table>\n",
       "</div>"
      ],
      "text/plain": [
       "   index  PostcodeStart  PostcodeEind  Gemeente Locatie   Categorie\n",
       "0      0           7940          7999    Meppel  Zwolle  Thuismarkt\n",
       "1      1           8000          8069    Zwolle  Zwolle  Thuismarkt\n",
       "2      2           8070          8099  Nunspeet  Zwolle  Thuismarkt\n",
       "3      3           8100          8159    Raalte  Zwolle  Thuismarkt\n",
       "4      4           8160          8199       Epe  Zwolle  Thuismarkt"
      ]
     },
     "execution_count": 5,
     "metadata": {},
     "output_type": "execute_result"
    }
   ],
   "source": [
    "# Laat n records zien van de ingevoerde wervingsgebieden\n",
    "wervingsgebieden.head()"
   ]
  },
  {
   "cell_type": "code",
   "execution_count": 6,
   "metadata": {},
   "outputs": [
    {
     "data": {
      "text/plain": [
       "index             int64\n",
       "PostcodeStart     int64\n",
       "PostcodeEind      int64\n",
       "Gemeente         object\n",
       "Locatie          object\n",
       "Categorie        object\n",
       "dtype: object"
      ]
     },
     "execution_count": 6,
     "metadata": {},
     "output_type": "execute_result"
    }
   ],
   "source": [
    "wervingsgebieden.dtypes"
   ]
  },
  {
   "cell_type": "code",
   "execution_count": 7,
   "metadata": {},
   "outputs": [],
   "source": [
    "# tijdelijke dataframe - 1000 rows\n",
    "ds = datasource.sample(n=1000)\n"
   ]
  },
  {
   "cell_type": "code",
   "execution_count": 8,
   "metadata": {},
   "outputs": [],
   "source": [
    "# Functie voor het checken van de locatie en categorie, stukje sneller gemaakt ook.\n",
    "def check_locatie(PostCode):\n",
    "    test = wervingsgebieden.loc[(wervingsgebieden.PostcodeStart <= PostCode) & (wervingsgebieden.PostcodeEind >= PostCode), ['Locatie', 'Categorie']]\n",
    "    if test['Locatie'].empty:\n",
    "        r = pd.Series(['',''])\n",
    "    else:\n",
    "        r = pd.Series([test['Locatie'].iloc[0], test['Categorie'].iloc[0]])\n",
    "    return r\n",
    "\n",
    "#voeg kolommen toe aan datasource \n",
    "datasource[['Locatie', 'Categorie']] = datasource.apply(lambda row: check_locatie(row[\"PC4_LEERL\"]), axis=1)\n"
   ]
  },
  {
   "cell_type": "code",
   "execution_count": 9,
   "metadata": {},
   "outputs": [
    {
     "data": {
      "text/plain": [
       "array(['Aangrenzend Primair', '', 'Thuismarkt', 'Aangrenzend Secundair'],\n",
       "      dtype=object)"
      ]
     },
     "execution_count": 9,
     "metadata": {},
     "output_type": "execute_result"
    }
   ],
   "source": [
    "#Welke soorten zitten er in Locatie?\n",
    "datasource.Locatie.unique()\n",
    "\n",
    "#Welke soorten zitten in Categorie?\n",
    "datasource.Categorie.unique()"
   ]
  },
  {
   "cell_type": "code",
   "execution_count": 10,
   "metadata": {},
   "outputs": [
    {
     "data": {
      "text/html": [
       "<div>\n",
       "<style scoped>\n",
       "    .dataframe tbody tr th:only-of-type {\n",
       "        vertical-align: middle;\n",
       "    }\n",
       "\n",
       "    .dataframe tbody tr th {\n",
       "        vertical-align: top;\n",
       "    }\n",
       "\n",
       "    .dataframe thead th {\n",
       "        text-align: right;\n",
       "    }\n",
       "</style>\n",
       "<table border=\"1\" class=\"dataframe\">\n",
       "  <thead>\n",
       "    <tr style=\"text-align: right;\">\n",
       "      <th></th>\n",
       "      <th>nr</th>\n",
       "      <th>PC4_LEERL</th>\n",
       "      <th>KWALIFICATIENIVEAU</th>\n",
       "      <th>KWALIFICATIE CODE</th>\n",
       "      <th>KWALIFICATIE NAAM</th>\n",
       "      <th>MBO SECTOR</th>\n",
       "      <th>DOMEIN</th>\n",
       "      <th>SECTORUNIT SBB</th>\n",
       "      <th>GESLACHT</th>\n",
       "      <th>2013   AANT</th>\n",
       "      <th>2014   AANT</th>\n",
       "      <th>2015   AANT</th>\n",
       "      <th>2016   AANT</th>\n",
       "      <th>2017   AANT</th>\n",
       "      <th>Locatie</th>\n",
       "      <th>Categorie</th>\n",
       "    </tr>\n",
       "  </thead>\n",
       "  <tbody>\n",
       "    <tr>\n",
       "      <th>0</th>\n",
       "      <td>1424</td>\n",
       "      <td>1011</td>\n",
       "      <td>4</td>\n",
       "      <td>10388</td>\n",
       "      <td>Horeca-ondernemer/-manager</td>\n",
       "      <td>economie</td>\n",
       "      <td>Horeca en bakkerij</td>\n",
       "      <td>Sectorunit voedsel, groen en gastvrijheid</td>\n",
       "      <td>M</td>\n",
       "      <td>1</td>\n",
       "      <td>0</td>\n",
       "      <td>0</td>\n",
       "      <td>0</td>\n",
       "      <td>0</td>\n",
       "      <td>Flevoland</td>\n",
       "      <td>Aangrenzend Primair</td>\n",
       "    </tr>\n",
       "    <tr>\n",
       "      <th>1</th>\n",
       "      <td>1425</td>\n",
       "      <td>1011</td>\n",
       "      <td>4</td>\n",
       "      <td>10801</td>\n",
       "      <td>Restauratiemedewerker</td>\n",
       "      <td>techniek</td>\n",
       "      <td>Bouw en infra</td>\n",
       "      <td>Sectorunit techniek en gebouwde omgeving</td>\n",
       "      <td>M</td>\n",
       "      <td>1</td>\n",
       "      <td>0</td>\n",
       "      <td>0</td>\n",
       "      <td>0</td>\n",
       "      <td>0</td>\n",
       "      <td>Flevoland</td>\n",
       "      <td>Aangrenzend Primair</td>\n",
       "    </tr>\n",
       "    <tr>\n",
       "      <th>2</th>\n",
       "      <td>1426</td>\n",
       "      <td>1011</td>\n",
       "      <td>4</td>\n",
       "      <td>90038</td>\n",
       "      <td>Artiest (Muziek)</td>\n",
       "      <td>techniek</td>\n",
       "      <td>Zorg en welzijn</td>\n",
       "      <td>Sectorunit creatieve industrie en ICT</td>\n",
       "      <td>M</td>\n",
       "      <td>0</td>\n",
       "      <td>0</td>\n",
       "      <td>0</td>\n",
       "      <td>2</td>\n",
       "      <td>0</td>\n",
       "      <td>Flevoland</td>\n",
       "      <td>Aangrenzend Primair</td>\n",
       "    </tr>\n",
       "    <tr>\n",
       "      <th>3</th>\n",
       "      <td>1427</td>\n",
       "      <td>1011</td>\n",
       "      <td>4</td>\n",
       "      <td>90290</td>\n",
       "      <td>Ondernemer detailhandel</td>\n",
       "      <td>economie</td>\n",
       "      <td>Handel en ondernemerschap</td>\n",
       "      <td>Sectorunit handel</td>\n",
       "      <td>M</td>\n",
       "      <td>1</td>\n",
       "      <td>0</td>\n",
       "      <td>0</td>\n",
       "      <td>0</td>\n",
       "      <td>0</td>\n",
       "      <td>Flevoland</td>\n",
       "      <td>Aangrenzend Primair</td>\n",
       "    </tr>\n",
       "    <tr>\n",
       "      <th>4</th>\n",
       "      <td>1428</td>\n",
       "      <td>1011</td>\n",
       "      <td>4</td>\n",
       "      <td>90301</td>\n",
       "      <td>Ondernemer horeca/bakkerij (Manager/ondernemer...</td>\n",
       "      <td>economie</td>\n",
       "      <td>Horeca en bakkerij</td>\n",
       "      <td>Sectorunit voedsel, groen en gastvrijheid</td>\n",
       "      <td>M</td>\n",
       "      <td>0</td>\n",
       "      <td>1</td>\n",
       "      <td>0</td>\n",
       "      <td>0</td>\n",
       "      <td>0</td>\n",
       "      <td>Flevoland</td>\n",
       "      <td>Aangrenzend Primair</td>\n",
       "    </tr>\n",
       "  </tbody>\n",
       "</table>\n",
       "</div>"
      ],
      "text/plain": [
       "     nr  PC4_LEERL  KWALIFICATIENIVEAU  KWALIFICATIE CODE  \\\n",
       "0  1424       1011                   4              10388   \n",
       "1  1425       1011                   4              10801   \n",
       "2  1426       1011                   4              90038   \n",
       "3  1427       1011                   4              90290   \n",
       "4  1428       1011                   4              90301   \n",
       "\n",
       "                                   KWALIFICATIE NAAM MBO SECTOR  \\\n",
       "0                         Horeca-ondernemer/-manager   economie   \n",
       "1                              Restauratiemedewerker   techniek   \n",
       "2                                   Artiest (Muziek)   techniek   \n",
       "3                            Ondernemer detailhandel   economie   \n",
       "4  Ondernemer horeca/bakkerij (Manager/ondernemer...   economie   \n",
       "\n",
       "                      DOMEIN                             SECTORUNIT SBB  \\\n",
       "0         Horeca en bakkerij  Sectorunit voedsel, groen en gastvrijheid   \n",
       "1              Bouw en infra   Sectorunit techniek en gebouwde omgeving   \n",
       "2            Zorg en welzijn      Sectorunit creatieve industrie en ICT   \n",
       "3  Handel en ondernemerschap                          Sectorunit handel   \n",
       "4         Horeca en bakkerij  Sectorunit voedsel, groen en gastvrijheid   \n",
       "\n",
       "  GESLACHT  2013   AANT  2014   AANT  2015   AANT  2016   AANT  2017   AANT  \\\n",
       "0        M            1            0            0            0            0   \n",
       "1        M            1            0            0            0            0   \n",
       "2        M            0            0            0            2            0   \n",
       "3        M            1            0            0            0            0   \n",
       "4        M            0            1            0            0            0   \n",
       "\n",
       "     Locatie            Categorie  \n",
       "0  Flevoland  Aangrenzend Primair  \n",
       "1  Flevoland  Aangrenzend Primair  \n",
       "2  Flevoland  Aangrenzend Primair  \n",
       "3  Flevoland  Aangrenzend Primair  \n",
       "4  Flevoland  Aangrenzend Primair  "
      ]
     },
     "execution_count": 10,
     "metadata": {},
     "output_type": "execute_result"
    }
   ],
   "source": [
    "datasource.head()"
   ]
  },
  {
   "cell_type": "markdown",
   "metadata": {},
   "source": [
    "# 1. Data-Melter\n",
    "\n",
    "Een punt van aandacht is het feit dat de data niet (mooi) allemaal in gelijke kolommen zitten. Zo zijn bijvoorbeeld de jaargegevens over diverse kolommen verdeeld. Om hiermee goed te kunnen werken, dient deze data onder elkaar te worden gezet."
   ]
  },
  {
   "cell_type": "code",
   "execution_count": 11,
   "metadata": {},
   "outputs": [],
   "source": [
    "# Originele dataset behouden, in kopie werken:\n",
    "dsc = datasource.copy()"
   ]
  },
  {
   "cell_type": "code",
   "execution_count": 12,
   "metadata": {},
   "outputs": [
    {
     "data": {
      "text/plain": [
       "['2013   AANT', '2014   AANT', '2015   AANT', '2016   AANT', '2017   AANT']"
      ]
     },
     "execution_count": 12,
     "metadata": {},
     "output_type": "execute_result"
    }
   ],
   "source": [
    "# Verkrijg alle 'Jaartal' kolommen (de kolommen die ge-melt dienen te worden)\n",
    "jaarCols = [col for col in dsc.columns if 'AANT' in col]\n",
    "jaarCols"
   ]
  },
  {
   "cell_type": "code",
   "execution_count": 13,
   "metadata": {},
   "outputs": [
    {
     "data": {
      "text/plain": [
       "['nr',\n",
       " 'PC4_LEERL',\n",
       " 'KWALIFICATIENIVEAU',\n",
       " 'KWALIFICATIE CODE',\n",
       " 'KWALIFICATIE NAAM',\n",
       " 'MBO SECTOR',\n",
       " 'DOMEIN',\n",
       " 'SECTORUNIT SBB',\n",
       " 'GESLACHT',\n",
       " 'Locatie',\n",
       " 'Categorie']"
      ]
     },
     "execution_count": 13,
     "metadata": {},
     "output_type": "execute_result"
    }
   ],
   "source": [
    "# Wat zijn dan de id vars? (kolommen die gelijk moeten blijven)\n",
    "otherCols = [col for col in dsc.columns if not 'AANT' in col]\n",
    "otherCols"
   ]
  },
  {
   "cell_type": "code",
   "execution_count": 14,
   "metadata": {},
   "outputs": [
    {
     "data": {
      "text/plain": [
       "['2013', '2014', '2015', '2016', '2017']"
      ]
     },
     "execution_count": 14,
     "metadata": {},
     "output_type": "execute_result"
    }
   ],
   "source": [
    "# Verander de jaartalkolomnamen naar pure jaartallen (gebruik alleen eerste 4 karakters van kolomnaam)\n",
    "jaarCleanCols = [str(x)[:4] for x in jaarCols]\n",
    "jaarCleanCols"
   ]
  },
  {
   "cell_type": "code",
   "execution_count": 15,
   "metadata": {},
   "outputs": [
    {
     "data": {
      "text/plain": [
       "{'2013   AANT': '2013',\n",
       " '2014   AANT': '2014',\n",
       " '2015   AANT': '2015',\n",
       " '2016   AANT': '2016',\n",
       " '2017   AANT': '2017'}"
      ]
     },
     "execution_count": 15,
     "metadata": {},
     "output_type": "execute_result"
    }
   ],
   "source": [
    "# Maak een dictionary voor de rename functie\n",
    "jaarDict = dict(zip(jaarCols, jaarCleanCols))\n",
    "jaarDict"
   ]
  },
  {
   "cell_type": "code",
   "execution_count": 16,
   "metadata": {},
   "outputs": [],
   "source": [
    "# Rename de betreffende colommen\n",
    "dsc = dsc.rename(columns=jaarDict)"
   ]
  },
  {
   "cell_type": "code",
   "execution_count": 17,
   "metadata": {},
   "outputs": [],
   "source": [
    "# Voer werkelijke melt uit\n",
    "dscMelt = pd.melt(dsc, id_vars=otherCols, var_name=\"Jaar\", value_name=\"Aantal\")"
   ]
  },
  {
   "cell_type": "code",
   "execution_count": 18,
   "metadata": {},
   "outputs": [
    {
     "data": {
      "text/html": [
       "<div>\n",
       "<style scoped>\n",
       "    .dataframe tbody tr th:only-of-type {\n",
       "        vertical-align: middle;\n",
       "    }\n",
       "\n",
       "    .dataframe tbody tr th {\n",
       "        vertical-align: top;\n",
       "    }\n",
       "\n",
       "    .dataframe thead th {\n",
       "        text-align: right;\n",
       "    }\n",
       "</style>\n",
       "<table border=\"1\" class=\"dataframe\">\n",
       "  <thead>\n",
       "    <tr style=\"text-align: right;\">\n",
       "      <th></th>\n",
       "      <th>nr</th>\n",
       "      <th>PC4_LEERL</th>\n",
       "      <th>KWALIFICATIENIVEAU</th>\n",
       "      <th>KWALIFICATIE CODE</th>\n",
       "      <th>KWALIFICATIE NAAM</th>\n",
       "      <th>MBO SECTOR</th>\n",
       "      <th>DOMEIN</th>\n",
       "      <th>SECTORUNIT SBB</th>\n",
       "      <th>GESLACHT</th>\n",
       "      <th>Locatie</th>\n",
       "      <th>Categorie</th>\n",
       "      <th>Jaar</th>\n",
       "      <th>Aantal</th>\n",
       "    </tr>\n",
       "  </thead>\n",
       "  <tbody>\n",
       "    <tr>\n",
       "      <th>0</th>\n",
       "      <td>1424</td>\n",
       "      <td>1011</td>\n",
       "      <td>4</td>\n",
       "      <td>10388</td>\n",
       "      <td>Horeca-ondernemer/-manager</td>\n",
       "      <td>economie</td>\n",
       "      <td>Horeca en bakkerij</td>\n",
       "      <td>Sectorunit voedsel, groen en gastvrijheid</td>\n",
       "      <td>M</td>\n",
       "      <td>Flevoland</td>\n",
       "      <td>Aangrenzend Primair</td>\n",
       "      <td>2013</td>\n",
       "      <td>1</td>\n",
       "    </tr>\n",
       "    <tr>\n",
       "      <th>1</th>\n",
       "      <td>1425</td>\n",
       "      <td>1011</td>\n",
       "      <td>4</td>\n",
       "      <td>10801</td>\n",
       "      <td>Restauratiemedewerker</td>\n",
       "      <td>techniek</td>\n",
       "      <td>Bouw en infra</td>\n",
       "      <td>Sectorunit techniek en gebouwde omgeving</td>\n",
       "      <td>M</td>\n",
       "      <td>Flevoland</td>\n",
       "      <td>Aangrenzend Primair</td>\n",
       "      <td>2013</td>\n",
       "      <td>1</td>\n",
       "    </tr>\n",
       "    <tr>\n",
       "      <th>2</th>\n",
       "      <td>1426</td>\n",
       "      <td>1011</td>\n",
       "      <td>4</td>\n",
       "      <td>90038</td>\n",
       "      <td>Artiest (Muziek)</td>\n",
       "      <td>techniek</td>\n",
       "      <td>Zorg en welzijn</td>\n",
       "      <td>Sectorunit creatieve industrie en ICT</td>\n",
       "      <td>M</td>\n",
       "      <td>Flevoland</td>\n",
       "      <td>Aangrenzend Primair</td>\n",
       "      <td>2013</td>\n",
       "      <td>0</td>\n",
       "    </tr>\n",
       "    <tr>\n",
       "      <th>3</th>\n",
       "      <td>1427</td>\n",
       "      <td>1011</td>\n",
       "      <td>4</td>\n",
       "      <td>90290</td>\n",
       "      <td>Ondernemer detailhandel</td>\n",
       "      <td>economie</td>\n",
       "      <td>Handel en ondernemerschap</td>\n",
       "      <td>Sectorunit handel</td>\n",
       "      <td>M</td>\n",
       "      <td>Flevoland</td>\n",
       "      <td>Aangrenzend Primair</td>\n",
       "      <td>2013</td>\n",
       "      <td>1</td>\n",
       "    </tr>\n",
       "    <tr>\n",
       "      <th>4</th>\n",
       "      <td>1428</td>\n",
       "      <td>1011</td>\n",
       "      <td>4</td>\n",
       "      <td>90301</td>\n",
       "      <td>Ondernemer horeca/bakkerij (Manager/ondernemer...</td>\n",
       "      <td>economie</td>\n",
       "      <td>Horeca en bakkerij</td>\n",
       "      <td>Sectorunit voedsel, groen en gastvrijheid</td>\n",
       "      <td>M</td>\n",
       "      <td>Flevoland</td>\n",
       "      <td>Aangrenzend Primair</td>\n",
       "      <td>2013</td>\n",
       "      <td>0</td>\n",
       "    </tr>\n",
       "  </tbody>\n",
       "</table>\n",
       "</div>"
      ],
      "text/plain": [
       "     nr  PC4_LEERL  KWALIFICATIENIVEAU  KWALIFICATIE CODE  \\\n",
       "0  1424       1011                   4              10388   \n",
       "1  1425       1011                   4              10801   \n",
       "2  1426       1011                   4              90038   \n",
       "3  1427       1011                   4              90290   \n",
       "4  1428       1011                   4              90301   \n",
       "\n",
       "                                   KWALIFICATIE NAAM MBO SECTOR  \\\n",
       "0                         Horeca-ondernemer/-manager   economie   \n",
       "1                              Restauratiemedewerker   techniek   \n",
       "2                                   Artiest (Muziek)   techniek   \n",
       "3                            Ondernemer detailhandel   economie   \n",
       "4  Ondernemer horeca/bakkerij (Manager/ondernemer...   economie   \n",
       "\n",
       "                      DOMEIN                             SECTORUNIT SBB  \\\n",
       "0         Horeca en bakkerij  Sectorunit voedsel, groen en gastvrijheid   \n",
       "1              Bouw en infra   Sectorunit techniek en gebouwde omgeving   \n",
       "2            Zorg en welzijn      Sectorunit creatieve industrie en ICT   \n",
       "3  Handel en ondernemerschap                          Sectorunit handel   \n",
       "4         Horeca en bakkerij  Sectorunit voedsel, groen en gastvrijheid   \n",
       "\n",
       "  GESLACHT    Locatie            Categorie  Jaar  Aantal  \n",
       "0        M  Flevoland  Aangrenzend Primair  2013       1  \n",
       "1        M  Flevoland  Aangrenzend Primair  2013       1  \n",
       "2        M  Flevoland  Aangrenzend Primair  2013       0  \n",
       "3        M  Flevoland  Aangrenzend Primair  2013       1  \n",
       "4        M  Flevoland  Aangrenzend Primair  2013       0  "
      ]
     },
     "execution_count": 18,
     "metadata": {},
     "output_type": "execute_result"
    }
   ],
   "source": [
    "dscMelt.head()"
   ]
  },
  {
   "cell_type": "code",
   "execution_count": 19,
   "metadata": {},
   "outputs": [
    {
     "data": {
      "text/plain": [
       "array(['2013', '2014', '2015', '2016', '2017'], dtype=object)"
      ]
     },
     "execution_count": 19,
     "metadata": {},
     "output_type": "execute_result"
    }
   ],
   "source": [
    "dscMelt['Jaar'].unique()"
   ]
  },
  {
   "cell_type": "code",
   "execution_count": 20,
   "metadata": {},
   "outputs": [
    {
     "name": "stdout",
     "output_type": "stream",
     "text": [
      "<class 'pandas.core.frame.DataFrame'>\n",
      "RangeIndex: 847075 entries, 0 to 847074\n",
      "Data columns (total 13 columns):\n",
      "nr                    847075 non-null int64\n",
      "PC4_LEERL             847075 non-null int64\n",
      "KWALIFICATIENIVEAU    847075 non-null int64\n",
      "KWALIFICATIE CODE     847075 non-null int64\n",
      "KWALIFICATIE NAAM     847075 non-null object\n",
      "MBO SECTOR            847075 non-null object\n",
      "DOMEIN                847075 non-null object\n",
      "SECTORUNIT SBB        847075 non-null object\n",
      "GESLACHT              847075 non-null object\n",
      "Locatie               847075 non-null object\n",
      "Categorie             847075 non-null object\n",
      "Jaar                  847075 non-null object\n",
      "Aantal                847075 non-null int64\n",
      "dtypes: int64(5), object(8)\n",
      "memory usage: 84.0+ MB\n"
     ]
    }
   ],
   "source": [
    "dscMelt.info()"
   ]
  },
  {
   "cell_type": "markdown",
   "metadata": {},
   "source": [
    "# 2. Voorbeeld in Bokeh:\n",
    "\n",
    "Poging een voorbeeld te maken in Bokeh"
   ]
  },
  {
   "cell_type": "code",
   "execution_count": 21,
   "metadata": {},
   "outputs": [
    {
     "data": {
      "text/html": [
       "<div>\n",
       "<style scoped>\n",
       "    .dataframe tbody tr th:only-of-type {\n",
       "        vertical-align: middle;\n",
       "    }\n",
       "\n",
       "    .dataframe tbody tr th {\n",
       "        vertical-align: top;\n",
       "    }\n",
       "\n",
       "    .dataframe thead th {\n",
       "        text-align: right;\n",
       "    }\n",
       "</style>\n",
       "<table border=\"1\" class=\"dataframe\">\n",
       "  <thead>\n",
       "    <tr style=\"text-align: right;\">\n",
       "      <th></th>\n",
       "      <th></th>\n",
       "      <th>Aantal</th>\n",
       "    </tr>\n",
       "    <tr>\n",
       "      <th>SECTORUNIT SBB</th>\n",
       "      <th>Jaar</th>\n",
       "      <th></th>\n",
       "    </tr>\n",
       "  </thead>\n",
       "  <tbody>\n",
       "    <tr>\n",
       "      <th rowspan=\"5\" valign=\"top\">Bovensectoraal</th>\n",
       "      <th>2013</th>\n",
       "      <td>369</td>\n",
       "    </tr>\n",
       "    <tr>\n",
       "      <th>2014</th>\n",
       "      <td>517</td>\n",
       "    </tr>\n",
       "    <tr>\n",
       "      <th>2015</th>\n",
       "      <td>433</td>\n",
       "    </tr>\n",
       "    <tr>\n",
       "      <th>2016</th>\n",
       "      <td>306</td>\n",
       "    </tr>\n",
       "    <tr>\n",
       "      <th>2017</th>\n",
       "      <td>562</td>\n",
       "    </tr>\n",
       "  </tbody>\n",
       "</table>\n",
       "</div>"
      ],
      "text/plain": [
       "                     Aantal\n",
       "SECTORUNIT SBB Jaar        \n",
       "Bovensectoraal 2013     369\n",
       "               2014     517\n",
       "               2015     433\n",
       "               2016     306\n",
       "               2017     562"
      ]
     },
     "execution_count": 21,
     "metadata": {},
     "output_type": "execute_result"
    }
   ],
   "source": [
    "# maak document, met daarin grafiek. Hier zullen (uiteindelijk) meerdere grafieken moeten worden \n",
    "# weergegeven met meerdere opties.\n",
    "df = dscMelt.copy()\n",
    "\n",
    "# defineer variabelen voor grafiek\n",
    "df_totaalSBB = df.groupby(['SECTORUNIT SBB', 'Jaar'], as_index=False).sum()[['SECTORUNIT SBB', 'Jaar', 'Aantal']]\n",
    "df_totaalSBB.head()\n",
    "\n",
    "# maak document, met daarin grafiek. Hier zullen (uiteindelijk) meerdere grafieken moeten worden \n",
    "# weergegeven met meerdere opties.\n",
    "dx = dscMelt.copy()\n",
    "\n",
    "# defineer variabelen voor grafiek\n",
    "dx_totaalSBB = dx.groupby(['SECTORUNIT SBB', 'Jaar']).sum()[['Aantal']]\n",
    "dx_totaalSBB.head()"
   ]
  },
  {
   "cell_type": "code",
   "execution_count": 22,
   "metadata": {},
   "outputs": [
    {
     "name": "stdout",
     "output_type": "stream",
     "text": [
      "<class 'pandas.core.frame.DataFrame'>\n",
      "Int64Index: 45 entries, 0 to 44\n",
      "Data columns (total 3 columns):\n",
      "SECTORUNIT SBB    45 non-null object\n",
      "Jaar              45 non-null object\n",
      "Aantal            45 non-null int64\n",
      "dtypes: int64(1), object(2)\n",
      "memory usage: 1.4+ KB\n"
     ]
    }
   ],
   "source": [
    "df_totaalSBB.info()\n"
   ]
  },
  {
   "cell_type": "code",
   "execution_count": 23,
   "metadata": {},
   "outputs": [],
   "source": [
    "#Defineer brondata & kolommen\n",
    "source = ColumnDataSource(df_totaalSBB)\n",
    "original_source = ColumnDataSource(df_totaalSBB)\n",
    "columns = [\n",
    "   TableColumn(field=\"SECTORUNIT SBB\", title=\"Sector\"),\n",
    "   TableColumn(field=\"Jaar\", title=\"Jaar\"),\n",
    "   TableColumn(field=\"Aantal\", title=\"Aantal\"),\n",
    "]"
   ]
  },
  {
   "cell_type": "code",
   "execution_count": 24,
   "metadata": {},
   "outputs": [
    {
     "data": {
      "text/html": [
       "\n",
       "    <div class=\"bk-root\">\n",
       "        <a href=\"https://bokeh.pydata.org\" target=\"_blank\" class=\"bk-logo bk-logo-small bk-logo-notebook\"></a>\n",
       "        <span id=\"5611116e-dcdf-4213-9bf8-f5c9e486de64\">Loading BokehJS ...</span>\n",
       "    </div>"
      ]
     },
     "metadata": {},
     "output_type": "display_data"
    },
    {
     "data": {
      "application/javascript": [
       "\n",
       "(function(root) {\n",
       "  function now() {\n",
       "    return new Date();\n",
       "  }\n",
       "\n",
       "  var force = true;\n",
       "\n",
       "  if (typeof (root._bokeh_onload_callbacks) === \"undefined\" || force === true) {\n",
       "    root._bokeh_onload_callbacks = [];\n",
       "    root._bokeh_is_loading = undefined;\n",
       "  }\n",
       "\n",
       "  var JS_MIME_TYPE = 'application/javascript';\n",
       "  var HTML_MIME_TYPE = 'text/html';\n",
       "  var EXEC_MIME_TYPE = 'application/vnd.bokehjs_exec.v0+json';\n",
       "  var CLASS_NAME = 'output_bokeh rendered_html';\n",
       "\n",
       "  /**\n",
       "   * Render data to the DOM node\n",
       "   */\n",
       "  function render(props, node) {\n",
       "    var script = document.createElement(\"script\");\n",
       "    node.appendChild(script);\n",
       "  }\n",
       "\n",
       "  /**\n",
       "   * Handle when an output is cleared or removed\n",
       "   */\n",
       "  function handleClearOutput(event, handle) {\n",
       "    var cell = handle.cell;\n",
       "\n",
       "    var id = cell.output_area._bokeh_element_id;\n",
       "    var server_id = cell.output_area._bokeh_server_id;\n",
       "    // Clean up Bokeh references\n",
       "    if (id !== undefined) {\n",
       "      Bokeh.index[id].model.document.clear();\n",
       "      delete Bokeh.index[id];\n",
       "    }\n",
       "\n",
       "    if (server_id !== undefined) {\n",
       "      // Clean up Bokeh references\n",
       "      var cmd = \"from bokeh.io.state import curstate; print(curstate().uuid_to_server['\" + server_id + \"'].get_sessions()[0].document.roots[0]._id)\";\n",
       "      cell.notebook.kernel.execute(cmd, {\n",
       "        iopub: {\n",
       "          output: function(msg) {\n",
       "            var element_id = msg.content.text.trim();\n",
       "            Bokeh.index[element_id].model.document.clear();\n",
       "            delete Bokeh.index[element_id];\n",
       "          }\n",
       "        }\n",
       "      });\n",
       "      // Destroy server and session\n",
       "      var cmd = \"import bokeh.io.notebook as ion; ion.destroy_server('\" + server_id + \"')\";\n",
       "      cell.notebook.kernel.execute(cmd);\n",
       "    }\n",
       "  }\n",
       "\n",
       "  /**\n",
       "   * Handle when a new output is added\n",
       "   */\n",
       "  function handleAddOutput(event, handle) {\n",
       "    var output_area = handle.output_area;\n",
       "    var output = handle.output;\n",
       "\n",
       "    // limit handleAddOutput to display_data with EXEC_MIME_TYPE content only\n",
       "    if ((output.output_type != \"display_data\") || (!output.data.hasOwnProperty(EXEC_MIME_TYPE))) {\n",
       "      return\n",
       "    }\n",
       "\n",
       "    var toinsert = output_area.element.find(\".\" + CLASS_NAME.split(' ')[0]);\n",
       "\n",
       "    if (output.metadata[EXEC_MIME_TYPE][\"id\"] !== undefined) {\n",
       "      toinsert[0].firstChild.textContent = output.data[JS_MIME_TYPE];\n",
       "      // store reference to embed id on output_area\n",
       "      output_area._bokeh_element_id = output.metadata[EXEC_MIME_TYPE][\"id\"];\n",
       "    }\n",
       "    if (output.metadata[EXEC_MIME_TYPE][\"server_id\"] !== undefined) {\n",
       "      var bk_div = document.createElement(\"div\");\n",
       "      bk_div.innerHTML = output.data[HTML_MIME_TYPE];\n",
       "      var script_attrs = bk_div.children[0].attributes;\n",
       "      for (var i = 0; i < script_attrs.length; i++) {\n",
       "        toinsert[0].firstChild.setAttribute(script_attrs[i].name, script_attrs[i].value);\n",
       "      }\n",
       "      // store reference to server id on output_area\n",
       "      output_area._bokeh_server_id = output.metadata[EXEC_MIME_TYPE][\"server_id\"];\n",
       "    }\n",
       "  }\n",
       "\n",
       "  function register_renderer(events, OutputArea) {\n",
       "\n",
       "    function append_mime(data, metadata, element) {\n",
       "      // create a DOM node to render to\n",
       "      var toinsert = this.create_output_subarea(\n",
       "        metadata,\n",
       "        CLASS_NAME,\n",
       "        EXEC_MIME_TYPE\n",
       "      );\n",
       "      this.keyboard_manager.register_events(toinsert);\n",
       "      // Render to node\n",
       "      var props = {data: data, metadata: metadata[EXEC_MIME_TYPE]};\n",
       "      render(props, toinsert[0]);\n",
       "      element.append(toinsert);\n",
       "      return toinsert\n",
       "    }\n",
       "\n",
       "    /* Handle when an output is cleared or removed */\n",
       "    events.on('clear_output.CodeCell', handleClearOutput);\n",
       "    events.on('delete.Cell', handleClearOutput);\n",
       "\n",
       "    /* Handle when a new output is added */\n",
       "    events.on('output_added.OutputArea', handleAddOutput);\n",
       "\n",
       "    /**\n",
       "     * Register the mime type and append_mime function with output_area\n",
       "     */\n",
       "    OutputArea.prototype.register_mime_type(EXEC_MIME_TYPE, append_mime, {\n",
       "      /* Is output safe? */\n",
       "      safe: true,\n",
       "      /* Index of renderer in `output_area.display_order` */\n",
       "      index: 0\n",
       "    });\n",
       "  }\n",
       "\n",
       "  // register the mime type if in Jupyter Notebook environment and previously unregistered\n",
       "  if (root.Jupyter !== undefined) {\n",
       "    var events = require('base/js/events');\n",
       "    var OutputArea = require('notebook/js/outputarea').OutputArea;\n",
       "\n",
       "    if (OutputArea.prototype.mime_types().indexOf(EXEC_MIME_TYPE) == -1) {\n",
       "      register_renderer(events, OutputArea);\n",
       "    }\n",
       "  }\n",
       "\n",
       "  \n",
       "  if (typeof (root._bokeh_timeout) === \"undefined\" || force === true) {\n",
       "    root._bokeh_timeout = Date.now() + 5000;\n",
       "    root._bokeh_failed_load = false;\n",
       "  }\n",
       "\n",
       "  var NB_LOAD_WARNING = {'data': {'text/html':\n",
       "     \"<div style='background-color: #fdd'>\\n\"+\n",
       "     \"<p>\\n\"+\n",
       "     \"BokehJS does not appear to have successfully loaded. If loading BokehJS from CDN, this \\n\"+\n",
       "     \"may be due to a slow or bad network connection. Possible fixes:\\n\"+\n",
       "     \"</p>\\n\"+\n",
       "     \"<ul>\\n\"+\n",
       "     \"<li>re-rerun `output_notebook()` to attempt to load from CDN again, or</li>\\n\"+\n",
       "     \"<li>use INLINE resources instead, as so:</li>\\n\"+\n",
       "     \"</ul>\\n\"+\n",
       "     \"<code>\\n\"+\n",
       "     \"from bokeh.resources import INLINE\\n\"+\n",
       "     \"output_notebook(resources=INLINE)\\n\"+\n",
       "     \"</code>\\n\"+\n",
       "     \"</div>\"}};\n",
       "\n",
       "  function display_loaded() {\n",
       "    var el = document.getElementById(\"5611116e-dcdf-4213-9bf8-f5c9e486de64\");\n",
       "    if (el != null) {\n",
       "      el.textContent = \"BokehJS is loading...\";\n",
       "    }\n",
       "    if (root.Bokeh !== undefined) {\n",
       "      if (el != null) {\n",
       "        el.textContent = \"BokehJS \" + root.Bokeh.version + \" successfully loaded.\";\n",
       "      }\n",
       "    } else if (Date.now() < root._bokeh_timeout) {\n",
       "      setTimeout(display_loaded, 100)\n",
       "    }\n",
       "  }\n",
       "\n",
       "\n",
       "  function run_callbacks() {\n",
       "    try {\n",
       "      root._bokeh_onload_callbacks.forEach(function(callback) { callback() });\n",
       "    }\n",
       "    finally {\n",
       "      delete root._bokeh_onload_callbacks\n",
       "    }\n",
       "    console.info(\"Bokeh: all callbacks have finished\");\n",
       "  }\n",
       "\n",
       "  function load_libs(js_urls, callback) {\n",
       "    root._bokeh_onload_callbacks.push(callback);\n",
       "    if (root._bokeh_is_loading > 0) {\n",
       "      console.log(\"Bokeh: BokehJS is being loaded, scheduling callback at\", now());\n",
       "      return null;\n",
       "    }\n",
       "    if (js_urls == null || js_urls.length === 0) {\n",
       "      run_callbacks();\n",
       "      return null;\n",
       "    }\n",
       "    console.log(\"Bokeh: BokehJS not loaded, scheduling load and callback at\", now());\n",
       "    root._bokeh_is_loading = js_urls.length;\n",
       "    for (var i = 0; i < js_urls.length; i++) {\n",
       "      var url = js_urls[i];\n",
       "      var s = document.createElement('script');\n",
       "      s.src = url;\n",
       "      s.async = false;\n",
       "      s.onreadystatechange = s.onload = function() {\n",
       "        root._bokeh_is_loading--;\n",
       "        if (root._bokeh_is_loading === 0) {\n",
       "          console.log(\"Bokeh: all BokehJS libraries loaded\");\n",
       "          run_callbacks()\n",
       "        }\n",
       "      };\n",
       "      s.onerror = function() {\n",
       "        console.warn(\"failed to load library \" + url);\n",
       "      };\n",
       "      console.log(\"Bokeh: injecting script tag for BokehJS library: \", url);\n",
       "      document.getElementsByTagName(\"head\")[0].appendChild(s);\n",
       "    }\n",
       "  };var element = document.getElementById(\"5611116e-dcdf-4213-9bf8-f5c9e486de64\");\n",
       "  if (element == null) {\n",
       "    console.log(\"Bokeh: ERROR: autoload.js configured with elementid '5611116e-dcdf-4213-9bf8-f5c9e486de64' but no matching script tag was found. \")\n",
       "    return false;\n",
       "  }\n",
       "\n",
       "  var js_urls = [\"https://cdn.pydata.org/bokeh/release/bokeh-0.12.13.min.js\", \"https://cdn.pydata.org/bokeh/release/bokeh-widgets-0.12.13.min.js\", \"https://cdn.pydata.org/bokeh/release/bokeh-tables-0.12.13.min.js\", \"https://cdn.pydata.org/bokeh/release/bokeh-gl-0.12.13.min.js\"];\n",
       "\n",
       "  var inline_js = [\n",
       "    function(Bokeh) {\n",
       "      Bokeh.set_log_level(\"info\");\n",
       "    },\n",
       "    \n",
       "    function(Bokeh) {\n",
       "      \n",
       "    },\n",
       "    function(Bokeh) {\n",
       "      console.log(\"Bokeh: injecting CSS: https://cdn.pydata.org/bokeh/release/bokeh-0.12.13.min.css\");\n",
       "      Bokeh.embed.inject_css(\"https://cdn.pydata.org/bokeh/release/bokeh-0.12.13.min.css\");\n",
       "      console.log(\"Bokeh: injecting CSS: https://cdn.pydata.org/bokeh/release/bokeh-widgets-0.12.13.min.css\");\n",
       "      Bokeh.embed.inject_css(\"https://cdn.pydata.org/bokeh/release/bokeh-widgets-0.12.13.min.css\");\n",
       "      console.log(\"Bokeh: injecting CSS: https://cdn.pydata.org/bokeh/release/bokeh-tables-0.12.13.min.css\");\n",
       "      Bokeh.embed.inject_css(\"https://cdn.pydata.org/bokeh/release/bokeh-tables-0.12.13.min.css\");\n",
       "    }\n",
       "  ];\n",
       "\n",
       "  function run_inline_js() {\n",
       "    \n",
       "    if ((root.Bokeh !== undefined) || (force === true)) {\n",
       "      for (var i = 0; i < inline_js.length; i++) {\n",
       "        inline_js[i].call(root, root.Bokeh);\n",
       "      }if (force === true) {\n",
       "        display_loaded();\n",
       "      }} else if (Date.now() < root._bokeh_timeout) {\n",
       "      setTimeout(run_inline_js, 100);\n",
       "    } else if (!root._bokeh_failed_load) {\n",
       "      console.log(\"Bokeh: BokehJS failed to load within specified timeout.\");\n",
       "      root._bokeh_failed_load = true;\n",
       "    } else if (force !== true) {\n",
       "      var cell = $(document.getElementById(\"5611116e-dcdf-4213-9bf8-f5c9e486de64\")).parents('.cell').data().cell;\n",
       "      cell.output_area.append_execute_result(NB_LOAD_WARNING)\n",
       "    }\n",
       "\n",
       "  }\n",
       "\n",
       "  if (root._bokeh_is_loading === 0) {\n",
       "    console.log(\"Bokeh: BokehJS loaded, going straight to plotting\");\n",
       "    run_inline_js();\n",
       "  } else {\n",
       "    load_libs(js_urls, function() {\n",
       "      console.log(\"Bokeh: BokehJS plotting callback run at\", now());\n",
       "      run_inline_js();\n",
       "    });\n",
       "  }\n",
       "}(window));"
      ],
      "application/vnd.bokehjs_load.v0+json": "\n(function(root) {\n  function now() {\n    return new Date();\n  }\n\n  var force = true;\n\n  if (typeof (root._bokeh_onload_callbacks) === \"undefined\" || force === true) {\n    root._bokeh_onload_callbacks = [];\n    root._bokeh_is_loading = undefined;\n  }\n\n  \n\n  \n  if (typeof (root._bokeh_timeout) === \"undefined\" || force === true) {\n    root._bokeh_timeout = Date.now() + 5000;\n    root._bokeh_failed_load = false;\n  }\n\n  var NB_LOAD_WARNING = {'data': {'text/html':\n     \"<div style='background-color: #fdd'>\\n\"+\n     \"<p>\\n\"+\n     \"BokehJS does not appear to have successfully loaded. If loading BokehJS from CDN, this \\n\"+\n     \"may be due to a slow or bad network connection. Possible fixes:\\n\"+\n     \"</p>\\n\"+\n     \"<ul>\\n\"+\n     \"<li>re-rerun `output_notebook()` to attempt to load from CDN again, or</li>\\n\"+\n     \"<li>use INLINE resources instead, as so:</li>\\n\"+\n     \"</ul>\\n\"+\n     \"<code>\\n\"+\n     \"from bokeh.resources import INLINE\\n\"+\n     \"output_notebook(resources=INLINE)\\n\"+\n     \"</code>\\n\"+\n     \"</div>\"}};\n\n  function display_loaded() {\n    var el = document.getElementById(\"5611116e-dcdf-4213-9bf8-f5c9e486de64\");\n    if (el != null) {\n      el.textContent = \"BokehJS is loading...\";\n    }\n    if (root.Bokeh !== undefined) {\n      if (el != null) {\n        el.textContent = \"BokehJS \" + root.Bokeh.version + \" successfully loaded.\";\n      }\n    } else if (Date.now() < root._bokeh_timeout) {\n      setTimeout(display_loaded, 100)\n    }\n  }\n\n\n  function run_callbacks() {\n    try {\n      root._bokeh_onload_callbacks.forEach(function(callback) { callback() });\n    }\n    finally {\n      delete root._bokeh_onload_callbacks\n    }\n    console.info(\"Bokeh: all callbacks have finished\");\n  }\n\n  function load_libs(js_urls, callback) {\n    root._bokeh_onload_callbacks.push(callback);\n    if (root._bokeh_is_loading > 0) {\n      console.log(\"Bokeh: BokehJS is being loaded, scheduling callback at\", now());\n      return null;\n    }\n    if (js_urls == null || js_urls.length === 0) {\n      run_callbacks();\n      return null;\n    }\n    console.log(\"Bokeh: BokehJS not loaded, scheduling load and callback at\", now());\n    root._bokeh_is_loading = js_urls.length;\n    for (var i = 0; i < js_urls.length; i++) {\n      var url = js_urls[i];\n      var s = document.createElement('script');\n      s.src = url;\n      s.async = false;\n      s.onreadystatechange = s.onload = function() {\n        root._bokeh_is_loading--;\n        if (root._bokeh_is_loading === 0) {\n          console.log(\"Bokeh: all BokehJS libraries loaded\");\n          run_callbacks()\n        }\n      };\n      s.onerror = function() {\n        console.warn(\"failed to load library \" + url);\n      };\n      console.log(\"Bokeh: injecting script tag for BokehJS library: \", url);\n      document.getElementsByTagName(\"head\")[0].appendChild(s);\n    }\n  };var element = document.getElementById(\"5611116e-dcdf-4213-9bf8-f5c9e486de64\");\n  if (element == null) {\n    console.log(\"Bokeh: ERROR: autoload.js configured with elementid '5611116e-dcdf-4213-9bf8-f5c9e486de64' but no matching script tag was found. \")\n    return false;\n  }\n\n  var js_urls = [\"https://cdn.pydata.org/bokeh/release/bokeh-0.12.13.min.js\", \"https://cdn.pydata.org/bokeh/release/bokeh-widgets-0.12.13.min.js\", \"https://cdn.pydata.org/bokeh/release/bokeh-tables-0.12.13.min.js\", \"https://cdn.pydata.org/bokeh/release/bokeh-gl-0.12.13.min.js\"];\n\n  var inline_js = [\n    function(Bokeh) {\n      Bokeh.set_log_level(\"info\");\n    },\n    \n    function(Bokeh) {\n      \n    },\n    function(Bokeh) {\n      console.log(\"Bokeh: injecting CSS: https://cdn.pydata.org/bokeh/release/bokeh-0.12.13.min.css\");\n      Bokeh.embed.inject_css(\"https://cdn.pydata.org/bokeh/release/bokeh-0.12.13.min.css\");\n      console.log(\"Bokeh: injecting CSS: https://cdn.pydata.org/bokeh/release/bokeh-widgets-0.12.13.min.css\");\n      Bokeh.embed.inject_css(\"https://cdn.pydata.org/bokeh/release/bokeh-widgets-0.12.13.min.css\");\n      console.log(\"Bokeh: injecting CSS: https://cdn.pydata.org/bokeh/release/bokeh-tables-0.12.13.min.css\");\n      Bokeh.embed.inject_css(\"https://cdn.pydata.org/bokeh/release/bokeh-tables-0.12.13.min.css\");\n    }\n  ];\n\n  function run_inline_js() {\n    \n    if ((root.Bokeh !== undefined) || (force === true)) {\n      for (var i = 0; i < inline_js.length; i++) {\n        inline_js[i].call(root, root.Bokeh);\n      }if (force === true) {\n        display_loaded();\n      }} else if (Date.now() < root._bokeh_timeout) {\n      setTimeout(run_inline_js, 100);\n    } else if (!root._bokeh_failed_load) {\n      console.log(\"Bokeh: BokehJS failed to load within specified timeout.\");\n      root._bokeh_failed_load = true;\n    } else if (force !== true) {\n      var cell = $(document.getElementById(\"5611116e-dcdf-4213-9bf8-f5c9e486de64\")).parents('.cell').data().cell;\n      cell.output_area.append_execute_result(NB_LOAD_WARNING)\n    }\n\n  }\n\n  if (root._bokeh_is_loading === 0) {\n    console.log(\"Bokeh: BokehJS loaded, going straight to plotting\");\n    run_inline_js();\n  } else {\n    load_libs(js_urls, function() {\n      console.log(\"Bokeh: BokehJS plotting callback run at\", now());\n      run_inline_js();\n    });\n  }\n}(window));"
     },
     "metadata": {},
     "output_type": "display_data"
    },
    {
     "data": {
      "text/html": [
       "\n",
       "<div class=\"bk-root\">\n",
       "    <div class=\"bk-plotdiv\" id=\"3d5fb2ca-90c7-4836-bb67-5d2a20c22ea5\"></div>\n",
       "</div>"
      ]
     },
     "metadata": {},
     "output_type": "display_data"
    },
    {
     "data": {
      "application/javascript": [
       "(function(root) {\n",
       "  function embed_document(root) {\n",
       "    \n",
       "  var docs_json = {\"efd20060-485c-4a3e-9f2b-4032fc2a836a\":{\"roots\":{\"references\":[{\"attributes\":{\"editor\":{\"id\":\"af7a84a8-92fc-48d2-af3e-2159b31aa89b\",\"type\":\"StringEditor\"},\"field\":\"SECTORUNIT SBB\",\"formatter\":{\"id\":\"5f01543e-34b3-4e21-91ae-84edda56b903\",\"type\":\"StringFormatter\"},\"title\":\"Sector\"},\"id\":\"c8e2dceb-2b70-48e3-9325-2e508c08e658\",\"type\":\"TableColumn\"},{\"attributes\":{\"children\":[{\"id\":\"852995cf-9f6b-40bc-b23f-fe903775506d\",\"type\":\"Select\"}]},\"id\":\"d5462190-8869-4601-b17c-04e2fcc3f04e\",\"type\":\"WidgetBox\"},{\"attributes\":{\"editor\":{\"id\":\"b21daf2a-54c4-4e12-9852-1102ed654af9\",\"type\":\"StringEditor\"},\"field\":\"Jaar\",\"formatter\":{\"id\":\"f591ce00-9156-418c-b807-0683878f631a\",\"type\":\"StringFormatter\"},\"title\":\"Jaar\"},\"id\":\"a53bec2f-f80f-45fe-a7f3-4f1f617475bb\",\"type\":\"TableColumn\"},{\"attributes\":{},\"id\":\"b21daf2a-54c4-4e12-9852-1102ed654af9\",\"type\":\"StringEditor\"},{\"attributes\":{},\"id\":\"f591ce00-9156-418c-b807-0683878f631a\",\"type\":\"StringFormatter\"},{\"attributes\":{},\"id\":\"7c26cec6-4860-422c-acbc-997a808e1cf7\",\"type\":\"StringFormatter\"},{\"attributes\":{\"callback\":null,\"column_names\":[\"SECTORUNIT SBB\",\"Jaar\",\"Aantal\",\"index\"],\"data\":{\"Aantal\":[369,517,433,306,562,6856,7066,7667,8033,9663,5792,6105,6009,6134,6248,2383,2472,2677,2765,3027,463,573,568,596,649,6523,6176,6270,6310,6517,6892,7078,7720,7851,10070,9769,10178,10071,9482,9214,22036,22116,22298,20812,21885],\"Jaar\":[\"2013\",\"2014\",\"2015\",\"2016\",\"2017\",\"2013\",\"2014\",\"2015\",\"2016\",\"2017\",\"2013\",\"2014\",\"2015\",\"2016\",\"2017\",\"2013\",\"2014\",\"2015\",\"2016\",\"2017\",\"2013\",\"2014\",\"2015\",\"2016\",\"2017\",\"2013\",\"2014\",\"2015\",\"2016\",\"2017\",\"2013\",\"2014\",\"2015\",\"2016\",\"2017\",\"2013\",\"2014\",\"2015\",\"2016\",\"2017\",\"2013\",\"2014\",\"2015\",\"2016\",\"2017\"],\"SECTORUNIT SBB\":[\"Bovensectoraal\",\"Bovensectoraal\",\"Bovensectoraal\",\"Bovensectoraal\",\"Bovensectoraal\",\"Sectorunit creatieve industrie en ICT\",\"Sectorunit creatieve industrie en ICT\",\"Sectorunit creatieve industrie en ICT\",\"Sectorunit creatieve industrie en ICT\",\"Sectorunit creatieve industrie en ICT\",\"Sectorunit handel\",\"Sectorunit handel\",\"Sectorunit handel\",\"Sectorunit handel\",\"Sectorunit handel\",\"Sectorunit mobiliteit, transport, logistiek, maritiem\",\"Sectorunit mobiliteit, transport, logistiek, maritiem\",\"Sectorunit mobiliteit, transport, logistiek, maritiem\",\"Sectorunit mobiliteit, transport, logistiek, maritiem\",\"Sectorunit mobiliteit, transport, logistiek, maritiem\",\"Sectorunit specialistisch vakmanschap\",\"Sectorunit specialistisch vakmanschap\",\"Sectorunit specialistisch vakmanschap\",\"Sectorunit specialistisch vakmanschap\",\"Sectorunit specialistisch vakmanschap\",\"Sectorunit techniek en gebouwde omgeving\",\"Sectorunit techniek en gebouwde omgeving\",\"Sectorunit techniek en gebouwde omgeving\",\"Sectorunit techniek en gebouwde omgeving\",\"Sectorunit techniek en gebouwde omgeving\",\"Sectorunit voedsel, groen en gastvrijheid\",\"Sectorunit voedsel, groen en gastvrijheid\",\"Sectorunit voedsel, groen en gastvrijheid\",\"Sectorunit voedsel, groen en gastvrijheid\",\"Sectorunit voedsel, groen en gastvrijheid\",\"Sectorunit zakelijke dienstverlening en veiligheid\",\"Sectorunit zakelijke dienstverlening en veiligheid\",\"Sectorunit zakelijke dienstverlening en veiligheid\",\"Sectorunit zakelijke dienstverlening en veiligheid\",\"Sectorunit zakelijke dienstverlening en veiligheid\",\"Sectorunit zorg, welzijn en sport\",\"Sectorunit zorg, welzijn en sport\",\"Sectorunit zorg, welzijn en sport\",\"Sectorunit zorg, welzijn en sport\",\"Sectorunit zorg, welzijn en sport\"],\"index\":[0,1,2,3,4,5,6,7,8,9,10,11,12,13,14,15,16,17,18,19,20,21,22,23,24,25,26,27,28,29,30,31,32,33,34,35,36,37,38,39,40,41,42,43,44]}},\"id\":\"2da81c03-3df5-4edd-b61b-ded185b4c84f\",\"type\":\"ColumnDataSource\"},{\"attributes\":{},\"id\":\"5f01543e-34b3-4e21-91ae-84edda56b903\",\"type\":\"StringFormatter\"},{\"attributes\":{\"args\":{\"jaar_select_obj\":{\"id\":\"fa146e7d-dfa8-4e93-b0ee-eb0c9f135b77\",\"type\":\"Select\"},\"original_source\":{\"id\":\"2e081e15-5525-424d-893e-a33eb2142318\",\"type\":\"ColumnDataSource\"},\"sector_select_obj\":{\"id\":\"852995cf-9f6b-40bc-b23f-fe903775506d\",\"type\":\"Select\"},\"source\":{\"id\":\"2da81c03-3df5-4edd-b61b-ded185b4c84f\",\"type\":\"ColumnDataSource\"},\"target_obj\":{\"id\":\"7967b7ad-9c00-4b8a-8f43-915ea0381965\",\"type\":\"DataTable\"}},\"code\":\"\\nvar data = source.data;\\nvar original_data = original_source.data;\\nvar sector = sector_select_obj.value;\\nconsole.log(\\\"sector: \\\" + sector);\\nvar jaar = jaar_select_obj.value;\\nconsole.log(\\\"jaar: \\\" + jaar);\\nfor (var key in original_data) {\\n    data[key] = [];\\n    for (var i = 0; i < original_data['SECTORUNIT SBB'].length; ++i) {\\n        if ((sector === \\\"ALL\\\" || original_data['SECTORUNIT SBB'][i] === sector) &&\\n            (jaar === \\\"ALL\\\" || original_data['Jaar'][i] === jaar)) {\\n            data[key].push(original_data[key][i]);\\n        }\\n    }\\n}\\ntarget_obj.change.emit();;\\nsource.change.emit();\\n\"},\"id\":\"f494115b-c44d-45e0-93a6-2bfb131ceb06\",\"type\":\"CustomJS\"},{\"attributes\":{},\"id\":\"af7a84a8-92fc-48d2-af3e-2159b31aa89b\",\"type\":\"StringEditor\"},{\"attributes\":{\"callback\":null,\"js_property_callbacks\":{\"change:value\":[{\"id\":\"f494115b-c44d-45e0-93a6-2bfb131ceb06\",\"type\":\"CustomJS\"}]},\"options\":[\"ALL\",\"2013\",\"2014\",\"2015\",\"2016\",\"2017\"],\"title\":\"Jaar:\",\"value\":\"ALL\"},\"id\":\"fa146e7d-dfa8-4e93-b0ee-eb0c9f135b77\",\"type\":\"Select\"},{\"attributes\":{\"children\":[{\"id\":\"d5462190-8869-4601-b17c-04e2fcc3f04e\",\"type\":\"WidgetBox\"},{\"id\":\"4e63ab9b-5ead-4b3b-87d6-1c288aacf675\",\"type\":\"WidgetBox\"},{\"id\":\"171ec181-fe03-48e7-ae1b-d5b104aba947\",\"type\":\"WidgetBox\"}]},\"id\":\"cc501c9c-de52-4cae-b097-e1b9f4376b84\",\"type\":\"Column\"},{\"attributes\":{\"children\":[{\"id\":\"fa146e7d-dfa8-4e93-b0ee-eb0c9f135b77\",\"type\":\"Select\"}]},\"id\":\"4e63ab9b-5ead-4b3b-87d6-1c288aacf675\",\"type\":\"WidgetBox\"},{\"attributes\":{\"callback\":null,\"js_property_callbacks\":{\"change:value\":[{\"id\":\"f494115b-c44d-45e0-93a6-2bfb131ceb06\",\"type\":\"CustomJS\"}]},\"options\":[\"ALL\",\"Bovensectoraal\",\"Sectorunit creatieve industrie en ICT\",\"Sectorunit handel\",\"Sectorunit mobiliteit, transport, logistiek, maritiem\",\"Sectorunit specialistisch vakmanschap\",\"Sectorunit techniek en gebouwde omgeving\",\"Sectorunit voedsel, groen en gastvrijheid\",\"Sectorunit zakelijke dienstverlening en veiligheid\",\"Sectorunit zorg, welzijn en sport\"],\"title\":\"Sector:\",\"value\":\"ALL\"},\"id\":\"852995cf-9f6b-40bc-b23f-fe903775506d\",\"type\":\"Select\"},{\"attributes\":{\"callback\":null,\"column_names\":[\"SECTORUNIT SBB\",\"Jaar\",\"Aantal\",\"index\"],\"data\":{\"Aantal\":[369,517,433,306,562,6856,7066,7667,8033,9663,5792,6105,6009,6134,6248,2383,2472,2677,2765,3027,463,573,568,596,649,6523,6176,6270,6310,6517,6892,7078,7720,7851,10070,9769,10178,10071,9482,9214,22036,22116,22298,20812,21885],\"Jaar\":[\"2013\",\"2014\",\"2015\",\"2016\",\"2017\",\"2013\",\"2014\",\"2015\",\"2016\",\"2017\",\"2013\",\"2014\",\"2015\",\"2016\",\"2017\",\"2013\",\"2014\",\"2015\",\"2016\",\"2017\",\"2013\",\"2014\",\"2015\",\"2016\",\"2017\",\"2013\",\"2014\",\"2015\",\"2016\",\"2017\",\"2013\",\"2014\",\"2015\",\"2016\",\"2017\",\"2013\",\"2014\",\"2015\",\"2016\",\"2017\",\"2013\",\"2014\",\"2015\",\"2016\",\"2017\"],\"SECTORUNIT SBB\":[\"Bovensectoraal\",\"Bovensectoraal\",\"Bovensectoraal\",\"Bovensectoraal\",\"Bovensectoraal\",\"Sectorunit creatieve industrie en ICT\",\"Sectorunit creatieve industrie en ICT\",\"Sectorunit creatieve industrie en ICT\",\"Sectorunit creatieve industrie en ICT\",\"Sectorunit creatieve industrie en ICT\",\"Sectorunit handel\",\"Sectorunit handel\",\"Sectorunit handel\",\"Sectorunit handel\",\"Sectorunit handel\",\"Sectorunit mobiliteit, transport, logistiek, maritiem\",\"Sectorunit mobiliteit, transport, logistiek, maritiem\",\"Sectorunit mobiliteit, transport, logistiek, maritiem\",\"Sectorunit mobiliteit, transport, logistiek, maritiem\",\"Sectorunit mobiliteit, transport, logistiek, maritiem\",\"Sectorunit specialistisch vakmanschap\",\"Sectorunit specialistisch vakmanschap\",\"Sectorunit specialistisch vakmanschap\",\"Sectorunit specialistisch vakmanschap\",\"Sectorunit specialistisch vakmanschap\",\"Sectorunit techniek en gebouwde omgeving\",\"Sectorunit techniek en gebouwde omgeving\",\"Sectorunit techniek en gebouwde omgeving\",\"Sectorunit techniek en gebouwde omgeving\",\"Sectorunit techniek en gebouwde omgeving\",\"Sectorunit voedsel, groen en gastvrijheid\",\"Sectorunit voedsel, groen en gastvrijheid\",\"Sectorunit voedsel, groen en gastvrijheid\",\"Sectorunit voedsel, groen en gastvrijheid\",\"Sectorunit voedsel, groen en gastvrijheid\",\"Sectorunit zakelijke dienstverlening en veiligheid\",\"Sectorunit zakelijke dienstverlening en veiligheid\",\"Sectorunit zakelijke dienstverlening en veiligheid\",\"Sectorunit zakelijke dienstverlening en veiligheid\",\"Sectorunit zakelijke dienstverlening en veiligheid\",\"Sectorunit zorg, welzijn en sport\",\"Sectorunit zorg, welzijn en sport\",\"Sectorunit zorg, welzijn en sport\",\"Sectorunit zorg, welzijn en sport\",\"Sectorunit zorg, welzijn en sport\"],\"index\":[0,1,2,3,4,5,6,7,8,9,10,11,12,13,14,15,16,17,18,19,20,21,22,23,24,25,26,27,28,29,30,31,32,33,34,35,36,37,38,39,40,41,42,43,44]}},\"id\":\"2e081e15-5525-424d-893e-a33eb2142318\",\"type\":\"ColumnDataSource\"},{\"attributes\":{\"source\":{\"id\":\"2da81c03-3df5-4edd-b61b-ded185b4c84f\",\"type\":\"ColumnDataSource\"}},\"id\":\"59eaac03-d59b-4a5e-8db7-5e5284744f92\",\"type\":\"CDSView\"},{\"attributes\":{},\"id\":\"866ad535-04d8-419d-a55d-c0d9021cf378\",\"type\":\"StringEditor\"},{\"attributes\":{\"editor\":{\"id\":\"866ad535-04d8-419d-a55d-c0d9021cf378\",\"type\":\"StringEditor\"},\"field\":\"Aantal\",\"formatter\":{\"id\":\"7c26cec6-4860-422c-acbc-997a808e1cf7\",\"type\":\"StringFormatter\"},\"title\":\"Aantal\"},\"id\":\"7f6a0eb9-882f-43e2-8e37-0704b57ca1cb\",\"type\":\"TableColumn\"},{\"attributes\":{\"columns\":[{\"id\":\"c8e2dceb-2b70-48e3-9325-2e508c08e658\",\"type\":\"TableColumn\"},{\"id\":\"a53bec2f-f80f-45fe-a7f3-4f1f617475bb\",\"type\":\"TableColumn\"},{\"id\":\"7f6a0eb9-882f-43e2-8e37-0704b57ca1cb\",\"type\":\"TableColumn\"}],\"source\":{\"id\":\"2da81c03-3df5-4edd-b61b-ded185b4c84f\",\"type\":\"ColumnDataSource\"},\"view\":{\"id\":\"59eaac03-d59b-4a5e-8db7-5e5284744f92\",\"type\":\"CDSView\"}},\"id\":\"7967b7ad-9c00-4b8a-8f43-915ea0381965\",\"type\":\"DataTable\"},{\"attributes\":{\"children\":[{\"id\":\"7967b7ad-9c00-4b8a-8f43-915ea0381965\",\"type\":\"DataTable\"}],\"height\":400},\"id\":\"171ec181-fe03-48e7-ae1b-d5b104aba947\",\"type\":\"WidgetBox\"}],\"root_ids\":[\"cc501c9c-de52-4cae-b097-e1b9f4376b84\"]},\"title\":\"Bokeh Application\",\"version\":\"0.12.13\"}};\n",
       "  var render_items = [{\"docid\":\"efd20060-485c-4a3e-9f2b-4032fc2a836a\",\"elementid\":\"3d5fb2ca-90c7-4836-bb67-5d2a20c22ea5\",\"modelid\":\"cc501c9c-de52-4cae-b097-e1b9f4376b84\"}];\n",
       "  root.Bokeh.embed.embed_items_notebook(docs_json, render_items);\n",
       "\n",
       "  }\n",
       "  if (root.Bokeh !== undefined) {\n",
       "    embed_document(root);\n",
       "  } else {\n",
       "    var attempts = 0;\n",
       "    var timer = setInterval(function(root) {\n",
       "      if (root.Bokeh !== undefined) {\n",
       "        embed_document(root);\n",
       "        clearInterval(timer);\n",
       "      }\n",
       "      attempts++;\n",
       "      if (attempts > 100) {\n",
       "        console.log(\"Bokeh: ERROR: Unable to run BokehJS code because BokehJS library is missing\")\n",
       "        clearInterval(timer);\n",
       "      }\n",
       "    }, 10, root)\n",
       "  }\n",
       "})(window);"
      ],
      "application/vnd.bokehjs_exec.v0+json": ""
     },
     "metadata": {
      "application/vnd.bokehjs_exec.v0+json": {
       "id": "cc501c9c-de52-4cae-b097-e1b9f4376b84"
      }
     },
     "output_type": "display_data"
    }
   ],
   "source": [
    "# Voorbeeld datatable output voor alle datatabellen.\n",
    "output_notebook()\n",
    "\n",
    "#Defineer brondata & kolommen\n",
    "source = ColumnDataSource(df_totaalSBB)\n",
    "original_source = ColumnDataSource(df_totaalSBB)\n",
    "columns = [\n",
    "   TableColumn(field=\"SECTORUNIT SBB\", title=\"Sector\"),\n",
    "   TableColumn(field=\"Jaar\", title=\"Jaar\"),\n",
    "   TableColumn(field=\"Aantal\", title=\"Aantal\"),\n",
    "]\n",
    "\n",
    "#maak data tabel\n",
    "data_table = DataTable(source=source, columns=columns)\n",
    "\n",
    "# callback code to be used by all the filter widgets\n",
    "combined_callback_code = \"\"\"\n",
    "var data = source.data;\n",
    "var original_data = original_source.data;\n",
    "var sector = sector_select_obj.value;\n",
    "console.log(\"sector: \" + sector);\n",
    "var jaar = jaar_select_obj.value;\n",
    "console.log(\"jaar: \" + jaar);\n",
    "for (var key in original_data) {\n",
    "    data[key] = [];\n",
    "    for (var i = 0; i < original_data['SECTORUNIT SBB'].length; ++i) {\n",
    "        if ((sector === \"ALL\" || original_data['SECTORUNIT SBB'][i] === sector) &&\n",
    "            (jaar === \"ALL\" || original_data['Jaar'][i] === jaar)) {\n",
    "            data[key].push(original_data[key][i]);\n",
    "        }\n",
    "    }\n",
    "}\n",
    "target_obj.change.emit();;\n",
    "source.change.emit();\n",
    "\"\"\"\n",
    "\n",
    "# define the filter widgets, without callbacks for now\n",
    "sector_list = ['ALL'] + df_totaalSBB['SECTORUNIT SBB'].unique().tolist()\n",
    "sector_select = Select(title=\"Sector:\", value=sector_list[0], options=sector_list)\n",
    "jaar_list = ['ALL'] + df_totaalSBB['Jaar'].unique().tolist()\n",
    "jaar_select = Select(title=\"Jaar:\", value=jaar_list[0], options=jaar_list)\n",
    "\n",
    "# now define the callback objects now that the filter widgets exist\n",
    "generic_callback = CustomJS(\n",
    "    args=dict(source=source, \n",
    "              original_source=original_source, \n",
    "              sector_select_obj=sector_select, \n",
    "              jaar_select_obj=jaar_select, \n",
    "              target_obj=data_table),\n",
    "    code=combined_callback_code\n",
    ")\n",
    "\n",
    "# finally, connect the callbacks to the filter widgets\n",
    "sector_select.js_on_change('value', generic_callback)\n",
    "jaar_select.js_on_change('value', generic_callback)\n",
    "\n",
    "\n",
    "#layout = row(p, jaren)\n",
    "p = column(sector_select,jaar_select,data_table)\n",
    "\n",
    "#doc.title = \"Sectorunit SBB chart test\"\n",
    "#doc.add_root(p)\n",
    "show(p)\n"
   ]
  },
  {
   "cell_type": "code",
   "execution_count": 71,
   "metadata": {
    "scrolled": true
   },
   "outputs": [
    {
     "data": {
      "text/html": [
       "\n",
       "<div class=\"bk-root\">\n",
       "    <div class=\"bk-plotdiv\" id=\"4d9dffcd-8e91-438e-b8c6-790b6897bd94\"></div>\n",
       "</div>"
      ]
     },
     "metadata": {},
     "output_type": "display_data"
    },
    {
     "data": {
      "application/javascript": [
       "(function(root) {\n",
       "  function embed_document(root) {\n",
       "    \n",
       "  var docs_json = {\"e3607d05-7d87-4bf5-8cc2-1cad6984190f\":{\"roots\":{\"references\":[{\"attributes\":{\"fields\":[\"2013\",\"2014\",\"2015\",\"2016\"]},\"id\":\"271bf3db-c3d0-4e4b-80a5-bc7f55cb869c\",\"type\":\"Stack\"},{\"attributes\":{\"fields\":[\"2013\",\"2014\",\"2015\",\"2016\"]},\"id\":\"6c6a3c00-5786-4e9b-86b8-c0f787228c6b\",\"type\":\"Stack\"},{\"attributes\":{\"bottom\":{\"expr\":{\"id\":\"9dace780-99f2-4b49-8d5b-b68697120d43\",\"type\":\"Stack\"}},\"fill_alpha\":{\"value\":0.1},\"fill_color\":{\"value\":\"#1f77b4\"},\"line_alpha\":{\"value\":0.1},\"line_color\":{\"value\":\"#1f77b4\"},\"top\":{\"expr\":{\"id\":\"5002f7e7-fdf2-4231-9a69-00132e8c34cf\",\"type\":\"Stack\"}},\"width\":{\"value\":0.8},\"x\":{\"field\":\"sectoren\"}},\"id\":\"e01cd409-1df7-4b58-9b20-61e5c4f45443\",\"type\":\"VBar\"},{\"attributes\":{\"callback\":null,\"column_names\":[\"2013\",\"2014\",\"2015\",\"2016\",\"2017\",\"sectoren\"],\"data\":{\"2013\":[369,6856,5792,2383,463,6523,6892,9769,22036],\"2014\":[517,7066,6105,2472,573,6176,7078,10178,22116],\"2015\":[433,7667,6009,2677,568,6270,7720,10071,22298],\"2016\":[306,8033,6134,2765,596,6310,7851,9482,20812],\"2017\":[562,9663,6248,3027,649,6517,10070,9214,21885],\"sectoren\":[\"Bovensectoraal\",\"Sectorunit creatieve industrie en ICT\",\"Sectorunit handel\",\"Sectorunit mobiliteit, transport, logistiek, maritiem\",\"Sectorunit specialistisch vakmanschap\",\"Sectorunit techniek en gebouwde omgeving\",\"Sectorunit voedsel, groen en gastvrijheid\",\"Sectorunit zakelijke dienstverlening en veiligheid\",\"Sectorunit zorg, welzijn en sport\"]}},\"id\":\"e7d928ad-f357-49c8-a4ad-641fd65dbec9\",\"type\":\"ColumnDataSource\"},{\"attributes\":{\"fields\":[\"2013\",\"2014\",\"2015\",\"2016\",\"2017\"]},\"id\":\"16a5e854-7129-4388-9409-6a953f090438\",\"type\":\"Stack\"},{\"attributes\":{\"items\":[{\"id\":\"022c593d-1482-44a2-954e-0d1b36796455\",\"type\":\"LegendItem\"},{\"id\":\"d484113c-7be3-4a9c-a879-0f594b1f748f\",\"type\":\"LegendItem\"},{\"id\":\"f3b2329e-8485-4f4f-93c9-5d285a76a761\",\"type\":\"LegendItem\"},{\"id\":\"8e610388-3835-452e-a3c4-d02604e5156c\",\"type\":\"LegendItem\"},{\"id\":\"24a0f29d-a3bb-4d19-b192-5bc514374240\",\"type\":\"LegendItem\"}],\"plot\":{\"id\":\"e2e9335b-9b4f-4a29-adbc-db1ddd191260\",\"subtype\":\"Figure\",\"type\":\"Plot\"}},\"id\":\"3d77873e-151f-4585-9354-9d14bd6edbfb\",\"type\":\"Legend\"},{\"attributes\":{\"bottom\":{\"expr\":{\"id\":\"613221b0-7091-4be3-897d-dcf5f45c6338\",\"type\":\"Stack\"}},\"fill_color\":{\"value\":\"#084594\"},\"line_color\":{\"value\":\"#084594\"},\"top\":{\"expr\":{\"id\":\"cf9691b1-4459-4a17-8b3a-43da36067cbb\",\"type\":\"Stack\"}},\"width\":{\"value\":0.8},\"x\":{\"field\":\"sectoren\"}},\"id\":\"36434399-e30d-4100-a5e2-a08877efba6d\",\"type\":\"VBar\"},{\"attributes\":{\"bottom\":{\"expr\":{\"id\":\"613221b0-7091-4be3-897d-dcf5f45c6338\",\"type\":\"Stack\"}},\"fill_alpha\":{\"value\":0.1},\"fill_color\":{\"value\":\"#1f77b4\"},\"line_alpha\":{\"value\":0.1},\"line_color\":{\"value\":\"#1f77b4\"},\"top\":{\"expr\":{\"id\":\"cf9691b1-4459-4a17-8b3a-43da36067cbb\",\"type\":\"Stack\"}},\"width\":{\"value\":0.8},\"x\":{\"field\":\"sectoren\"}},\"id\":\"96f30507-b8ef-47ca-9e6f-223620c8680f\",\"type\":\"VBar\"},{\"attributes\":{\"use_scientific\":false},\"id\":\"a26a5ba2-a84f-41b4-bd64-a7a78f876451\",\"type\":\"BasicTickFormatter\"},{\"attributes\":{\"label\":{\"value\":\"2015\"},\"renderers\":[{\"id\":\"11ad6863-af7d-4528-9b31-cf7f5a0522ae\",\"type\":\"GlyphRenderer\"}]},\"id\":\"f3b2329e-8485-4f4f-93c9-5d285a76a761\",\"type\":\"LegendItem\"},{\"attributes\":{\"label\":{\"value\":\"2013\"},\"renderers\":[{\"id\":\"7cdf5480-acc4-4c71-9247-f7bedc74da2e\",\"type\":\"GlyphRenderer\"}]},\"id\":\"022c593d-1482-44a2-954e-0d1b36796455\",\"type\":\"LegendItem\"},{\"attributes\":{\"callback\":null,\"column_names\":[\"SECTORUNIT SBB\",\"Jaar\",\"Aantal\",\"index\"],\"data\":{\"Aantal\":[369,517,433,306,562,6856,7066,7667,8033,9663,5792,6105,6009,6134,6248,2383,2472,2677,2765,3027,463,573,568,596,649,6523,6176,6270,6310,6517,6892,7078,7720,7851,10070,9769,10178,10071,9482,9214,22036,22116,22298,20812,21885],\"Jaar\":[\"2013\",\"2014\",\"2015\",\"2016\",\"2017\",\"2013\",\"2014\",\"2015\",\"2016\",\"2017\",\"2013\",\"2014\",\"2015\",\"2016\",\"2017\",\"2013\",\"2014\",\"2015\",\"2016\",\"2017\",\"2013\",\"2014\",\"2015\",\"2016\",\"2017\",\"2013\",\"2014\",\"2015\",\"2016\",\"2017\",\"2013\",\"2014\",\"2015\",\"2016\",\"2017\",\"2013\",\"2014\",\"2015\",\"2016\",\"2017\",\"2013\",\"2014\",\"2015\",\"2016\",\"2017\"],\"SECTORUNIT SBB\":[\"Bovensectoraal\",\"Bovensectoraal\",\"Bovensectoraal\",\"Bovensectoraal\",\"Bovensectoraal\",\"Sectorunit creatieve industrie en ICT\",\"Sectorunit creatieve industrie en ICT\",\"Sectorunit creatieve industrie en ICT\",\"Sectorunit creatieve industrie en ICT\",\"Sectorunit creatieve industrie en ICT\",\"Sectorunit handel\",\"Sectorunit handel\",\"Sectorunit handel\",\"Sectorunit handel\",\"Sectorunit handel\",\"Sectorunit mobiliteit, transport, logistiek, maritiem\",\"Sectorunit mobiliteit, transport, logistiek, maritiem\",\"Sectorunit mobiliteit, transport, logistiek, maritiem\",\"Sectorunit mobiliteit, transport, logistiek, maritiem\",\"Sectorunit mobiliteit, transport, logistiek, maritiem\",\"Sectorunit specialistisch vakmanschap\",\"Sectorunit specialistisch vakmanschap\",\"Sectorunit specialistisch vakmanschap\",\"Sectorunit specialistisch vakmanschap\",\"Sectorunit specialistisch vakmanschap\",\"Sectorunit techniek en gebouwde omgeving\",\"Sectorunit techniek en gebouwde omgeving\",\"Sectorunit techniek en gebouwde omgeving\",\"Sectorunit techniek en gebouwde omgeving\",\"Sectorunit techniek en gebouwde omgeving\",\"Sectorunit voedsel, groen en gastvrijheid\",\"Sectorunit voedsel, groen en gastvrijheid\",\"Sectorunit voedsel, groen en gastvrijheid\",\"Sectorunit voedsel, groen en gastvrijheid\",\"Sectorunit voedsel, groen en gastvrijheid\",\"Sectorunit zakelijke dienstverlening en veiligheid\",\"Sectorunit zakelijke dienstverlening en veiligheid\",\"Sectorunit zakelijke dienstverlening en veiligheid\",\"Sectorunit zakelijke dienstverlening en veiligheid\",\"Sectorunit zakelijke dienstverlening en veiligheid\",\"Sectorunit zorg, welzijn en sport\",\"Sectorunit zorg, welzijn en sport\",\"Sectorunit zorg, welzijn en sport\",\"Sectorunit zorg, welzijn en sport\",\"Sectorunit zorg, welzijn en sport\"],\"index\":[0,1,2,3,4,5,6,7,8,9,10,11,12,13,14,15,16,17,18,19,20,21,22,23,24,25,26,27,28,29,30,31,32,33,34,35,36,37,38,39,40,41,42,43,44]}},\"id\":\"b1ccab1a-a32a-4491-81be-a3ea61798a12\",\"type\":\"ColumnDataSource\"},{\"attributes\":{},\"id\":\"091680e0-4720-4419-95f6-9cb9094d3df4\",\"type\":\"CategoricalTickFormatter\"},{\"attributes\":{\"callback\":null,\"js_property_callbacks\":{\"change:value\":[{\"id\":\"e6eff6c9-5b45-4024-a683-d257dec49aa4\",\"type\":\"CustomJS\"}]},\"options\":[\"ALL\",\"Bovensectoraal\",\"Sectorunit creatieve industrie en ICT\",\"Sectorunit handel\",\"Sectorunit mobiliteit, transport, logistiek, maritiem\",\"Sectorunit specialistisch vakmanschap\",\"Sectorunit techniek en gebouwde omgeving\",\"Sectorunit voedsel, groen en gastvrijheid\",\"Sectorunit zakelijke dienstverlening en veiligheid\",\"Sectorunit zorg, welzijn en sport\"],\"title\":\"Sector:\",\"value\":\"ALL\"},\"id\":\"1f63bbf7-8442-4f46-b6cd-528ddfb84c64\",\"type\":\"Select\"},{\"attributes\":{\"callback\":null,\"column_names\":[\"2013\",\"2014\",\"2015\",\"2016\",\"2017\",\"sectoren\"],\"data\":{\"2013\":[369,6856,5792,2383,463,6523,6892,9769,22036],\"2014\":[517,7066,6105,2472,573,6176,7078,10178,22116],\"2015\":[433,7667,6009,2677,568,6270,7720,10071,22298],\"2016\":[306,8033,6134,2765,596,6310,7851,9482,20812],\"2017\":[562,9663,6248,3027,649,6517,10070,9214,21885],\"sectoren\":[\"Bovensectoraal\",\"Sectorunit creatieve industrie en ICT\",\"Sectorunit handel\",\"Sectorunit mobiliteit, transport, logistiek, maritiem\",\"Sectorunit specialistisch vakmanschap\",\"Sectorunit techniek en gebouwde omgeving\",\"Sectorunit voedsel, groen en gastvrijheid\",\"Sectorunit zakelijke dienstverlening en veiligheid\",\"Sectorunit zorg, welzijn en sport\"]}},\"id\":\"4ab6fdd7-4857-47dd-8cba-11bf6ee0167e\",\"type\":\"ColumnDataSource\"},{\"attributes\":{\"data_source\":{\"id\":\"e7d928ad-f357-49c8-a4ad-641fd65dbec9\",\"type\":\"ColumnDataSource\"},\"glyph\":{\"id\":\"36434399-e30d-4100-a5e2-a08877efba6d\",\"type\":\"VBar\"},\"hover_glyph\":null,\"muted_glyph\":null,\"nonselection_glyph\":{\"id\":\"96f30507-b8ef-47ca-9e6f-223620c8680f\",\"type\":\"VBar\"},\"selection_glyph\":null,\"view\":{\"id\":\"5e57b91e-d2b6-4d5f-92b1-04d642326db7\",\"type\":\"CDSView\"}},\"id\":\"7cdf5480-acc4-4c71-9247-f7bedc74da2e\",\"type\":\"GlyphRenderer\"},{\"attributes\":{\"active_drag\":\"auto\",\"active_inspect\":\"auto\",\"active_scroll\":\"auto\",\"active_tap\":\"auto\",\"tools\":[{\"id\":\"6f4c89e4-6204-41b2-bf50-ff727c0a2114\",\"type\":\"PanTool\"},{\"id\":\"ae2e1296-745c-460a-9362-aabe3f715321\",\"type\":\"WheelZoomTool\"},{\"id\":\"8762d3b3-24e1-45f6-8ace-949d48ecf912\",\"type\":\"BoxZoomTool\"},{\"id\":\"63286ece-a29a-4e5c-9dd9-6812dc179aa6\",\"type\":\"SaveTool\"},{\"id\":\"9b55aa6c-ebf8-4c83-bafd-92209b863cb0\",\"type\":\"ResetTool\"},{\"id\":\"76928c12-693a-43a4-ad26-1e5d7ee2217d\",\"type\":\"HelpTool\"}]},\"id\":\"5cd19692-391a-4ed5-ba1f-8350658e56d0\",\"type\":\"Toolbar\"},{\"attributes\":{\"source\":{\"id\":\"e7d928ad-f357-49c8-a4ad-641fd65dbec9\",\"type\":\"ColumnDataSource\"}},\"id\":\"5e57b91e-d2b6-4d5f-92b1-04d642326db7\",\"type\":\"CDSView\"},{\"attributes\":{\"editor\":{\"id\":\"2ee31350-3712-4df2-806d-36a2f56313a8\",\"type\":\"StringEditor\"},\"field\":\"SECTORUNIT SBB\",\"formatter\":{\"id\":\"a16fd686-13a1-4f12-85c1-e202080f4bc2\",\"type\":\"StringFormatter\"},\"title\":\"Sector\"},\"id\":\"0b00e2a9-bf01-4924-96ea-5329840ccdcf\",\"type\":\"TableColumn\"},{\"attributes\":{\"bottom\":{\"expr\":{\"id\":\"e2446162-96a4-4f24-b17a-2a44acc8ca45\",\"type\":\"Stack\"}},\"fill_alpha\":{\"value\":0.1},\"fill_color\":{\"value\":\"#1f77b4\"},\"line_alpha\":{\"value\":0.1},\"line_color\":{\"value\":\"#1f77b4\"},\"top\":{\"expr\":{\"id\":\"a0b2bf24-5b45-417b-9735-62d77227c2ab\",\"type\":\"Stack\"}},\"width\":{\"value\":0.8},\"x\":{\"field\":\"sectoren\"}},\"id\":\"df6c71ab-9c4b-4803-85e9-56953e7b6231\",\"type\":\"VBar\"},{\"attributes\":{\"columns\":[{\"id\":\"0b00e2a9-bf01-4924-96ea-5329840ccdcf\",\"type\":\"TableColumn\"},{\"id\":\"d55407e4-462c-4877-aeab-0f39b1f063e6\",\"type\":\"TableColumn\"},{\"id\":\"1ebab95e-c5ae-4047-85c4-57935da748de\",\"type\":\"TableColumn\"}],\"source\":{\"id\":\"b1ccab1a-a32a-4491-81be-a3ea61798a12\",\"type\":\"ColumnDataSource\"},\"view\":{\"id\":\"842c519a-1f39-4e63-a0eb-a9d07710b4cd\",\"type\":\"CDSView\"}},\"id\":\"6af8c895-b60a-404f-bf78-906c83fad4fa\",\"type\":\"DataTable\"},{\"attributes\":{\"children\":[{\"id\":\"e85055a2-e4ca-4654-a30f-64fd5458406c\",\"type\":\"WidgetBox\"},{\"id\":\"d8079d75-806b-4209-96a7-b80b9f544a8d\",\"type\":\"WidgetBox\"},{\"id\":\"5b5b82c8-af34-40ca-8032-353e3a41a5ce\",\"type\":\"WidgetBox\"},{\"id\":\"e2e9335b-9b4f-4a29-adbc-db1ddd191260\",\"subtype\":\"Figure\",\"type\":\"Plot\"}]},\"id\":\"3e054348-2185-4f70-98e3-be01fe5a05a7\",\"type\":\"Column\"},{\"attributes\":{\"callback\":null,\"factors\":[\"Bovensectoraal\",\"Sectorunit creatieve industrie en ICT\",\"Sectorunit handel\",\"Sectorunit mobiliteit, transport, logistiek, maritiem\",\"Sectorunit specialistisch vakmanschap\",\"Sectorunit techniek en gebouwde omgeving\",\"Sectorunit voedsel, groen en gastvrijheid\",\"Sectorunit zakelijke dienstverlening en veiligheid\",\"Sectorunit zorg, welzijn en sport\"],\"range_padding\":0.1},\"id\":\"acad7fa9-5390-4295-a7e3-ff25e1146829\",\"type\":\"FactorRange\"},{\"attributes\":{\"label\":{\"value\":\"2014\"},\"renderers\":[{\"id\":\"b37185df-be5b-4f14-bcde-2b5c79a0e9cd\",\"type\":\"GlyphRenderer\"}]},\"id\":\"d484113c-7be3-4a9c-a879-0f594b1f748f\",\"type\":\"LegendItem\"},{\"attributes\":{\"callback\":null,\"column_names\":[\"2013\",\"2014\",\"2015\",\"2016\",\"2017\",\"sectoren\"],\"data\":{\"2013\":[369,6856,5792,2383,463,6523,6892,9769,22036],\"2014\":[517,7066,6105,2472,573,6176,7078,10178,22116],\"2015\":[433,7667,6009,2677,568,6270,7720,10071,22298],\"2016\":[306,8033,6134,2765,596,6310,7851,9482,20812],\"2017\":[562,9663,6248,3027,649,6517,10070,9214,21885],\"sectoren\":[\"Bovensectoraal\",\"Sectorunit creatieve industrie en ICT\",\"Sectorunit handel\",\"Sectorunit mobiliteit, transport, logistiek, maritiem\",\"Sectorunit specialistisch vakmanschap\",\"Sectorunit techniek en gebouwde omgeving\",\"Sectorunit voedsel, groen en gastvrijheid\",\"Sectorunit zakelijke dienstverlening en veiligheid\",\"Sectorunit zorg, welzijn en sport\"]}},\"id\":\"251cbe4b-047e-40f3-8fb9-7987b984a2aa\",\"type\":\"ColumnDataSource\"},{\"attributes\":{\"callback\":null,\"column_names\":[\"SECTORUNIT SBB\",\"Jaar\",\"Aantal\",\"index\"],\"data\":{\"Aantal\":[369,517,433,306,562,6856,7066,7667,8033,9663,5792,6105,6009,6134,6248,2383,2472,2677,2765,3027,463,573,568,596,649,6523,6176,6270,6310,6517,6892,7078,7720,7851,10070,9769,10178,10071,9482,9214,22036,22116,22298,20812,21885],\"Jaar\":[\"2013\",\"2014\",\"2015\",\"2016\",\"2017\",\"2013\",\"2014\",\"2015\",\"2016\",\"2017\",\"2013\",\"2014\",\"2015\",\"2016\",\"2017\",\"2013\",\"2014\",\"2015\",\"2016\",\"2017\",\"2013\",\"2014\",\"2015\",\"2016\",\"2017\",\"2013\",\"2014\",\"2015\",\"2016\",\"2017\",\"2013\",\"2014\",\"2015\",\"2016\",\"2017\",\"2013\",\"2014\",\"2015\",\"2016\",\"2017\",\"2013\",\"2014\",\"2015\",\"2016\",\"2017\"],\"SECTORUNIT SBB\":[\"Bovensectoraal\",\"Bovensectoraal\",\"Bovensectoraal\",\"Bovensectoraal\",\"Bovensectoraal\",\"Sectorunit creatieve industrie en ICT\",\"Sectorunit creatieve industrie en ICT\",\"Sectorunit creatieve industrie en ICT\",\"Sectorunit creatieve industrie en ICT\",\"Sectorunit creatieve industrie en ICT\",\"Sectorunit handel\",\"Sectorunit handel\",\"Sectorunit handel\",\"Sectorunit handel\",\"Sectorunit handel\",\"Sectorunit mobiliteit, transport, logistiek, maritiem\",\"Sectorunit mobiliteit, transport, logistiek, maritiem\",\"Sectorunit mobiliteit, transport, logistiek, maritiem\",\"Sectorunit mobiliteit, transport, logistiek, maritiem\",\"Sectorunit mobiliteit, transport, logistiek, maritiem\",\"Sectorunit specialistisch vakmanschap\",\"Sectorunit specialistisch vakmanschap\",\"Sectorunit specialistisch vakmanschap\",\"Sectorunit specialistisch vakmanschap\",\"Sectorunit specialistisch vakmanschap\",\"Sectorunit techniek en gebouwde omgeving\",\"Sectorunit techniek en gebouwde omgeving\",\"Sectorunit techniek en gebouwde omgeving\",\"Sectorunit techniek en gebouwde omgeving\",\"Sectorunit techniek en gebouwde omgeving\",\"Sectorunit voedsel, groen en gastvrijheid\",\"Sectorunit voedsel, groen en gastvrijheid\",\"Sectorunit voedsel, groen en gastvrijheid\",\"Sectorunit voedsel, groen en gastvrijheid\",\"Sectorunit voedsel, groen en gastvrijheid\",\"Sectorunit zakelijke dienstverlening en veiligheid\",\"Sectorunit zakelijke dienstverlening en veiligheid\",\"Sectorunit zakelijke dienstverlening en veiligheid\",\"Sectorunit zakelijke dienstverlening en veiligheid\",\"Sectorunit zakelijke dienstverlening en veiligheid\",\"Sectorunit zorg, welzijn en sport\",\"Sectorunit zorg, welzijn en sport\",\"Sectorunit zorg, welzijn en sport\",\"Sectorunit zorg, welzijn en sport\",\"Sectorunit zorg, welzijn en sport\"],\"index\":[0,1,2,3,4,5,6,7,8,9,10,11,12,13,14,15,16,17,18,19,20,21,22,23,24,25,26,27,28,29,30,31,32,33,34,35,36,37,38,39,40,41,42,43,44]}},\"id\":\"461b816a-9b68-4eac-99fe-c4804185870b\",\"type\":\"ColumnDataSource\"},{\"attributes\":{\"bottom\":{\"expr\":{\"id\":\"e2446162-96a4-4f24-b17a-2a44acc8ca45\",\"type\":\"Stack\"}},\"fill_color\":{\"value\":\"#2171b5\"},\"line_color\":{\"value\":\"#2171b5\"},\"top\":{\"expr\":{\"id\":\"a0b2bf24-5b45-417b-9735-62d77227c2ab\",\"type\":\"Stack\"}},\"width\":{\"value\":0.8},\"x\":{\"field\":\"sectoren\"}},\"id\":\"a668c25e-51f1-42b3-818d-8d6bace880ca\",\"type\":\"VBar\"},{\"attributes\":{\"editor\":{\"id\":\"b4b545e2-3f4f-4aa5-8e76-0376e46388e2\",\"type\":\"StringEditor\"},\"field\":\"Aantal\",\"formatter\":{\"id\":\"40509681-da95-4661-9d98-04374d07c6ea\",\"type\":\"StringFormatter\"},\"title\":\"Aantal\"},\"id\":\"1ebab95e-c5ae-4047-85c4-57935da748de\",\"type\":\"TableColumn\"},{\"attributes\":{\"bottom\":{\"expr\":{\"id\":\"9dace780-99f2-4b49-8d5b-b68697120d43\",\"type\":\"Stack\"}},\"fill_color\":{\"value\":\"#4292c6\"},\"line_color\":{\"value\":\"#4292c6\"},\"top\":{\"expr\":{\"id\":\"5002f7e7-fdf2-4231-9a69-00132e8c34cf\",\"type\":\"Stack\"}},\"width\":{\"value\":0.8},\"x\":{\"field\":\"sectoren\"}},\"id\":\"16fe422a-e97d-436a-91a1-2a2a0d507beb\",\"type\":\"VBar\"},{\"attributes\":{},\"id\":\"ac77db5a-83b6-4ac3-9c6b-18f5003ab0ce\",\"type\":\"CategoricalScale\"},{\"attributes\":{\"data_source\":{\"id\":\"251cbe4b-047e-40f3-8fb9-7987b984a2aa\",\"type\":\"ColumnDataSource\"},\"glyph\":{\"id\":\"a668c25e-51f1-42b3-818d-8d6bace880ca\",\"type\":\"VBar\"},\"hover_glyph\":null,\"muted_glyph\":null,\"nonselection_glyph\":{\"id\":\"df6c71ab-9c4b-4803-85e9-56953e7b6231\",\"type\":\"VBar\"},\"selection_glyph\":null,\"view\":{\"id\":\"8c6bd7a0-8291-4a9c-817a-3283d63499df\",\"type\":\"CDSView\"}},\"id\":\"b37185df-be5b-4f14-bcde-2b5c79a0e9cd\",\"type\":\"GlyphRenderer\"},{\"attributes\":{\"args\":{\"jaar_select_obj\":{\"id\":\"45a6076f-d8f2-412c-9767-c76d010629f4\",\"type\":\"Select\"},\"original_source\":{\"id\":\"461b816a-9b68-4eac-99fe-c4804185870b\",\"type\":\"ColumnDataSource\"},\"sector_select_obj\":{\"id\":\"1f63bbf7-8442-4f46-b6cd-528ddfb84c64\",\"type\":\"Select\"},\"source\":{\"id\":\"b1ccab1a-a32a-4491-81be-a3ea61798a12\",\"type\":\"ColumnDataSource\"},\"target_obj\":{\"id\":\"6af8c895-b60a-404f-bf78-906c83fad4fa\",\"type\":\"DataTable\"}},\"code\":\"\\nvar data = source.data;\\nvar original_data = original_source.data;\\nvar sector = sector_select_obj.value;\\nconsole.log(\\\"sector: \\\" + sector);\\nvar jaar = jaar_select_obj.value;\\nconsole.log(\\\"jaar: \\\" + jaar);\\nfor (var key in original_data) {\\n    data[key] = [];\\n    for (var i = 0; i < original_data['SECTORUNIT SBB'].length; ++i) {\\n        if ((sector === \\\"ALL\\\" || original_data['SECTORUNIT SBB'][i] === sector) &&\\n            (jaar === \\\"ALL\\\" || original_data['Jaar'][i] === jaar)) {\\n            data[key].push(original_data[key][i]);\\n        }\\n    }\\n}\\ntarget_obj.change.emit();;\\nsource.change.emit();\\n\"},\"id\":\"e6eff6c9-5b45-4024-a683-d257dec49aa4\",\"type\":\"CustomJS\"},{\"attributes\":{\"source\":{\"id\":\"b1ccab1a-a32a-4491-81be-a3ea61798a12\",\"type\":\"ColumnDataSource\"}},\"id\":\"842c519a-1f39-4e63-a0eb-a9d07710b4cd\",\"type\":\"CDSView\"},{\"attributes\":{\"source\":{\"id\":\"251cbe4b-047e-40f3-8fb9-7987b984a2aa\",\"type\":\"ColumnDataSource\"}},\"id\":\"8c6bd7a0-8291-4a9c-817a-3283d63499df\",\"type\":\"CDSView\"},{\"attributes\":{\"bottom\":{\"expr\":{\"id\":\"af3fcc25-fc26-4f2c-9934-a14bf533db2b\",\"type\":\"Stack\"}},\"fill_alpha\":{\"value\":0.1},\"fill_color\":{\"value\":\"#1f77b4\"},\"line_alpha\":{\"value\":0.1},\"line_color\":{\"value\":\"#1f77b4\"},\"top\":{\"expr\":{\"id\":\"6c6a3c00-5786-4e9b-86b8-c0f787228c6b\",\"type\":\"Stack\"}},\"width\":{\"value\":0.8},\"x\":{\"field\":\"sectoren\"}},\"id\":\"75e93983-bdd3-49ee-90d6-4219d68f6515\",\"type\":\"VBar\"},{\"attributes\":{\"below\":[{\"id\":\"8a707cf0-0d44-4e4a-9dea-b1358eaf2617\",\"type\":\"CategoricalAxis\"}],\"left\":[{\"id\":\"7575ca9c-7c9c-4b2e-9d66-cd6eedb1928e\",\"type\":\"LinearAxis\"}],\"plot_height\":800,\"renderers\":[{\"id\":\"8a707cf0-0d44-4e4a-9dea-b1358eaf2617\",\"type\":\"CategoricalAxis\"},{\"id\":\"0442bacf-0bf3-418d-b318-74bd92e805dd\",\"type\":\"Grid\"},{\"id\":\"7575ca9c-7c9c-4b2e-9d66-cd6eedb1928e\",\"type\":\"LinearAxis\"},{\"id\":\"f36ea081-f4a2-441d-9aa9-64d4a8742810\",\"type\":\"Grid\"},{\"id\":\"86a5ab18-08ed-497a-8743-e219d5a3d443\",\"type\":\"BoxAnnotation\"},{\"id\":\"3d77873e-151f-4585-9354-9d14bd6edbfb\",\"type\":\"Legend\"},{\"id\":\"7cdf5480-acc4-4c71-9247-f7bedc74da2e\",\"type\":\"GlyphRenderer\"},{\"id\":\"b37185df-be5b-4f14-bcde-2b5c79a0e9cd\",\"type\":\"GlyphRenderer\"},{\"id\":\"11ad6863-af7d-4528-9b31-cf7f5a0522ae\",\"type\":\"GlyphRenderer\"},{\"id\":\"48d142f7-8077-43bf-8e38-600c4647491a\",\"type\":\"GlyphRenderer\"},{\"id\":\"146f9e10-39cd-475d-a9a0-d8b708744214\",\"type\":\"GlyphRenderer\"}],\"title\":{\"id\":\"1d1341e2-d7f3-48ca-b2b6-e051f81296d6\",\"type\":\"Title\"},\"toolbar\":{\"id\":\"5cd19692-391a-4ed5-ba1f-8350658e56d0\",\"type\":\"Toolbar\"},\"width\":900,\"x_range\":{\"id\":\"acad7fa9-5390-4295-a7e3-ff25e1146829\",\"type\":\"FactorRange\"},\"x_scale\":{\"id\":\"ac77db5a-83b6-4ac3-9c6b-18f5003ab0ce\",\"type\":\"CategoricalScale\"},\"y_range\":{\"id\":\"3df350e9-3f7d-43b1-9b0b-be77a97939f3\",\"type\":\"DataRange1d\"},\"y_scale\":{\"id\":\"b00c19af-d841-411d-9791-3b07b2570da4\",\"type\":\"LinearScale\"}},\"id\":\"e2e9335b-9b4f-4a29-adbc-db1ddd191260\",\"subtype\":\"Figure\",\"type\":\"Plot\"},{\"attributes\":{\"callback\":null,\"column_names\":[\"2013\",\"2014\",\"2015\",\"2016\",\"2017\",\"sectoren\"],\"data\":{\"2013\":[369,6856,5792,2383,463,6523,6892,9769,22036],\"2014\":[517,7066,6105,2472,573,6176,7078,10178,22116],\"2015\":[433,7667,6009,2677,568,6270,7720,10071,22298],\"2016\":[306,8033,6134,2765,596,6310,7851,9482,20812],\"2017\":[562,9663,6248,3027,649,6517,10070,9214,21885],\"sectoren\":[\"Bovensectoraal\",\"Sectorunit creatieve industrie en ICT\",\"Sectorunit handel\",\"Sectorunit mobiliteit, transport, logistiek, maritiem\",\"Sectorunit specialistisch vakmanschap\",\"Sectorunit techniek en gebouwde omgeving\",\"Sectorunit voedsel, groen en gastvrijheid\",\"Sectorunit zakelijke dienstverlening en veiligheid\",\"Sectorunit zorg, welzijn en sport\"]}},\"id\":\"8c7e37f5-aa96-4b66-a17d-5c394c62f159\",\"type\":\"ColumnDataSource\"},{\"attributes\":{\"data_source\":{\"id\":\"4ab6fdd7-4857-47dd-8cba-11bf6ee0167e\",\"type\":\"ColumnDataSource\"},\"glyph\":{\"id\":\"16fe422a-e97d-436a-91a1-2a2a0d507beb\",\"type\":\"VBar\"},\"hover_glyph\":null,\"muted_glyph\":null,\"nonselection_glyph\":{\"id\":\"e01cd409-1df7-4b58-9b20-61e5c4f45443\",\"type\":\"VBar\"},\"selection_glyph\":null,\"view\":{\"id\":\"2550b2db-13b4-42eb-b702-55fa8ff10ebc\",\"type\":\"CDSView\"}},\"id\":\"11ad6863-af7d-4528-9b31-cf7f5a0522ae\",\"type\":\"GlyphRenderer\"},{\"attributes\":{\"editor\":{\"id\":\"9c1d9686-c461-49db-9d6d-85f33cb09bf7\",\"type\":\"StringEditor\"},\"field\":\"Jaar\",\"formatter\":{\"id\":\"4410924e-34a9-44eb-9225-747af2cfe4f4\",\"type\":\"StringFormatter\"},\"title\":\"Jaar\"},\"id\":\"d55407e4-462c-4877-aeab-0f39b1f063e6\",\"type\":\"TableColumn\"},{\"attributes\":{\"source\":{\"id\":\"4ab6fdd7-4857-47dd-8cba-11bf6ee0167e\",\"type\":\"ColumnDataSource\"}},\"id\":\"2550b2db-13b4-42eb-b702-55fa8ff10ebc\",\"type\":\"CDSView\"},{\"attributes\":{\"fields\":[\"2013\",\"2014\"]},\"id\":\"a0b2bf24-5b45-417b-9735-62d77227c2ab\",\"type\":\"Stack\"},{\"attributes\":{},\"id\":\"b00c19af-d841-411d-9791-3b07b2570da4\",\"type\":\"LinearScale\"},{\"attributes\":{\"callback\":null,\"column_names\":[\"2013\",\"2014\",\"2015\",\"2016\",\"2017\",\"sectoren\"],\"data\":{\"2013\":[369,6856,5792,2383,463,6523,6892,9769,22036],\"2014\":[517,7066,6105,2472,573,6176,7078,10178,22116],\"2015\":[433,7667,6009,2677,568,6270,7720,10071,22298],\"2016\":[306,8033,6134,2765,596,6310,7851,9482,20812],\"2017\":[562,9663,6248,3027,649,6517,10070,9214,21885],\"sectoren\":[\"Bovensectoraal\",\"Sectorunit creatieve industrie en ICT\",\"Sectorunit handel\",\"Sectorunit mobiliteit, transport, logistiek, maritiem\",\"Sectorunit specialistisch vakmanschap\",\"Sectorunit techniek en gebouwde omgeving\",\"Sectorunit voedsel, groen en gastvrijheid\",\"Sectorunit zakelijke dienstverlening en veiligheid\",\"Sectorunit zorg, welzijn en sport\"]}},\"id\":\"2ee80324-563e-4247-bdda-0c1b25b765f5\",\"type\":\"ColumnDataSource\"},{\"attributes\":{\"callback\":null,\"start\":0},\"id\":\"3df350e9-3f7d-43b1-9b0b-be77a97939f3\",\"type\":\"DataRange1d\"},{\"attributes\":{\"bottom\":{\"expr\":{\"id\":\"af3fcc25-fc26-4f2c-9934-a14bf533db2b\",\"type\":\"Stack\"}},\"fill_color\":{\"value\":\"#6baed6\"},\"line_color\":{\"value\":\"#6baed6\"},\"top\":{\"expr\":{\"id\":\"6c6a3c00-5786-4e9b-86b8-c0f787228c6b\",\"type\":\"Stack\"}},\"width\":{\"value\":0.8},\"x\":{\"field\":\"sectoren\"}},\"id\":\"45d31f1e-963d-4e8a-927b-445e82146384\",\"type\":\"VBar\"},{\"attributes\":{\"label\":{\"value\":\"2016\"},\"renderers\":[{\"id\":\"48d142f7-8077-43bf-8e38-600c4647491a\",\"type\":\"GlyphRenderer\"}]},\"id\":\"8e610388-3835-452e-a3c4-d02604e5156c\",\"type\":\"LegendItem\"},{\"attributes\":{\"fields\":[\"2013\"]},\"id\":\"cf9691b1-4459-4a17-8b3a-43da36067cbb\",\"type\":\"Stack\"},{\"attributes\":{\"bottom\":{\"expr\":{\"id\":\"271bf3db-c3d0-4e4b-80a5-bc7f55cb869c\",\"type\":\"Stack\"}},\"fill_alpha\":{\"value\":0.1},\"fill_color\":{\"value\":\"#1f77b4\"},\"line_alpha\":{\"value\":0.1},\"line_color\":{\"value\":\"#1f77b4\"},\"top\":{\"expr\":{\"id\":\"16a5e854-7129-4388-9409-6a953f090438\",\"type\":\"Stack\"}},\"width\":{\"value\":0.8},\"x\":{\"field\":\"sectoren\"}},\"id\":\"366a7b8e-db6a-4bd4-b723-2384550f6a67\",\"type\":\"VBar\"},{\"attributes\":{\"grid_line_color\":{\"value\":null},\"plot\":{\"id\":\"e2e9335b-9b4f-4a29-adbc-db1ddd191260\",\"subtype\":\"Figure\",\"type\":\"Plot\"},\"ticker\":{\"id\":\"f88d2842-39b2-43f5-bcf8-2c05fb6d64c2\",\"type\":\"CategoricalTicker\"}},\"id\":\"0442bacf-0bf3-418d-b318-74bd92e805dd\",\"type\":\"Grid\"},{\"attributes\":{\"fields\":[]},\"id\":\"613221b0-7091-4be3-897d-dcf5f45c6338\",\"type\":\"Stack\"},{\"attributes\":{\"data_source\":{\"id\":\"8c7e37f5-aa96-4b66-a17d-5c394c62f159\",\"type\":\"ColumnDataSource\"},\"glyph\":{\"id\":\"45d31f1e-963d-4e8a-927b-445e82146384\",\"type\":\"VBar\"},\"hover_glyph\":null,\"muted_glyph\":null,\"nonselection_glyph\":{\"id\":\"75e93983-bdd3-49ee-90d6-4219d68f6515\",\"type\":\"VBar\"},\"selection_glyph\":null,\"view\":{\"id\":\"468e40bc-e7f9-4e02-b21a-30ed03bb00cc\",\"type\":\"CDSView\"}},\"id\":\"48d142f7-8077-43bf-8e38-600c4647491a\",\"type\":\"GlyphRenderer\"},{\"attributes\":{},\"id\":\"f88d2842-39b2-43f5-bcf8-2c05fb6d64c2\",\"type\":\"CategoricalTicker\"},{\"attributes\":{\"source\":{\"id\":\"8c7e37f5-aa96-4b66-a17d-5c394c62f159\",\"type\":\"ColumnDataSource\"}},\"id\":\"468e40bc-e7f9-4e02-b21a-30ed03bb00cc\",\"type\":\"CDSView\"},{\"attributes\":{\"callback\":null,\"js_property_callbacks\":{\"change:value\":[{\"id\":\"e6eff6c9-5b45-4024-a683-d257dec49aa4\",\"type\":\"CustomJS\"}]},\"options\":[\"ALL\",\"2013\",\"2014\",\"2015\",\"2016\",\"2017\"],\"title\":\"Jaar:\",\"value\":\"ALL\"},\"id\":\"45a6076f-d8f2-412c-9767-c76d010629f4\",\"type\":\"Select\"},{\"attributes\":{},\"id\":\"2ee31350-3712-4df2-806d-36a2f56313a8\",\"type\":\"StringEditor\"},{\"attributes\":{\"formatter\":{\"id\":\"091680e0-4720-4419-95f6-9cb9094d3df4\",\"type\":\"CategoricalTickFormatter\"},\"major_label_orientation\":\"vertical\",\"plot\":{\"id\":\"e2e9335b-9b4f-4a29-adbc-db1ddd191260\",\"subtype\":\"Figure\",\"type\":\"Plot\"},\"ticker\":{\"id\":\"f88d2842-39b2-43f5-bcf8-2c05fb6d64c2\",\"type\":\"CategoricalTicker\"}},\"id\":\"8a707cf0-0d44-4e4a-9dea-b1358eaf2617\",\"type\":\"CategoricalAxis\"},{\"attributes\":{\"bottom\":{\"expr\":{\"id\":\"271bf3db-c3d0-4e4b-80a5-bc7f55cb869c\",\"type\":\"Stack\"}},\"fill_color\":{\"value\":\"#9ecae1\"},\"line_color\":{\"value\":\"#9ecae1\"},\"top\":{\"expr\":{\"id\":\"16a5e854-7129-4388-9409-6a953f090438\",\"type\":\"Stack\"}},\"width\":{\"value\":0.8},\"x\":{\"field\":\"sectoren\"}},\"id\":\"ae483339-96ac-4db4-92e1-cad6634660c7\",\"type\":\"VBar\"},{\"attributes\":{\"label\":{\"value\":\"2017\"},\"renderers\":[{\"id\":\"146f9e10-39cd-475d-a9a0-d8b708744214\",\"type\":\"GlyphRenderer\"}]},\"id\":\"24a0f29d-a3bb-4d19-b192-5bc514374240\",\"type\":\"LegendItem\"},{\"attributes\":{\"fields\":[\"2013\",\"2014\",\"2015\"]},\"id\":\"af3fcc25-fc26-4f2c-9934-a14bf533db2b\",\"type\":\"Stack\"},{\"attributes\":{\"plot\":null,\"text\":\"Totalen per SBB sector per jaar\"},\"id\":\"1d1341e2-d7f3-48ca-b2b6-e051f81296d6\",\"type\":\"Title\"},{\"attributes\":{\"children\":[{\"id\":\"45a6076f-d8f2-412c-9767-c76d010629f4\",\"type\":\"Select\"}]},\"id\":\"d8079d75-806b-4209-96a7-b80b9f544a8d\",\"type\":\"WidgetBox\"},{\"attributes\":{\"fields\":[\"2013\"]},\"id\":\"e2446162-96a4-4f24-b17a-2a44acc8ca45\",\"type\":\"Stack\"},{\"attributes\":{\"data_source\":{\"id\":\"2ee80324-563e-4247-bdda-0c1b25b765f5\",\"type\":\"ColumnDataSource\"},\"glyph\":{\"id\":\"ae483339-96ac-4db4-92e1-cad6634660c7\",\"type\":\"VBar\"},\"hover_glyph\":null,\"muted_glyph\":null,\"nonselection_glyph\":{\"id\":\"366a7b8e-db6a-4bd4-b723-2384550f6a67\",\"type\":\"VBar\"},\"selection_glyph\":null,\"view\":{\"id\":\"1f398cf1-9593-4e43-8dd3-0240d5d3d638\",\"type\":\"CDSView\"}},\"id\":\"146f9e10-39cd-475d-a9a0-d8b708744214\",\"type\":\"GlyphRenderer\"},{\"attributes\":{},\"id\":\"af07562e-faa4-458f-9f87-31bceadbd999\",\"type\":\"BasicTicker\"},{\"attributes\":{\"source\":{\"id\":\"2ee80324-563e-4247-bdda-0c1b25b765f5\",\"type\":\"ColumnDataSource\"}},\"id\":\"1f398cf1-9593-4e43-8dd3-0240d5d3d638\",\"type\":\"CDSView\"},{\"attributes\":{\"fields\":[\"2013\",\"2014\"]},\"id\":\"9dace780-99f2-4b49-8d5b-b68697120d43\",\"type\":\"Stack\"},{\"attributes\":{\"dimension\":1,\"plot\":{\"id\":\"e2e9335b-9b4f-4a29-adbc-db1ddd191260\",\"subtype\":\"Figure\",\"type\":\"Plot\"},\"ticker\":{\"id\":\"af07562e-faa4-458f-9f87-31bceadbd999\",\"type\":\"BasicTicker\"}},\"id\":\"f36ea081-f4a2-441d-9aa9-64d4a8742810\",\"type\":\"Grid\"},{\"attributes\":{},\"id\":\"a16fd686-13a1-4f12-85c1-e202080f4bc2\",\"type\":\"StringFormatter\"},{\"attributes\":{\"children\":[{\"id\":\"1f63bbf7-8442-4f46-b6cd-528ddfb84c64\",\"type\":\"Select\"}]},\"id\":\"e85055a2-e4ca-4654-a30f-64fd5458406c\",\"type\":\"WidgetBox\"},{\"attributes\":{},\"id\":\"6f4c89e4-6204-41b2-bf50-ff727c0a2114\",\"type\":\"PanTool\"},{\"attributes\":{},\"id\":\"9c1d9686-c461-49db-9d6d-85f33cb09bf7\",\"type\":\"StringEditor\"},{\"attributes\":{\"children\":[{\"id\":\"6af8c895-b60a-404f-bf78-906c83fad4fa\",\"type\":\"DataTable\"}],\"height\":400},\"id\":\"5b5b82c8-af34-40ca-8032-353e3a41a5ce\",\"type\":\"WidgetBox\"},{\"attributes\":{\"bottom_units\":\"screen\",\"fill_alpha\":{\"value\":0.5},\"fill_color\":{\"value\":\"lightgrey\"},\"left_units\":\"screen\",\"level\":\"overlay\",\"line_alpha\":{\"value\":1.0},\"line_color\":{\"value\":\"black\"},\"line_dash\":[4,4],\"line_width\":{\"value\":2},\"plot\":null,\"render_mode\":\"css\",\"right_units\":\"screen\",\"top_units\":\"screen\"},\"id\":\"86a5ab18-08ed-497a-8743-e219d5a3d443\",\"type\":\"BoxAnnotation\"},{\"attributes\":{\"overlay\":{\"id\":\"86a5ab18-08ed-497a-8743-e219d5a3d443\",\"type\":\"BoxAnnotation\"}},\"id\":\"8762d3b3-24e1-45f6-8ace-949d48ecf912\",\"type\":\"BoxZoomTool\"},{\"attributes\":{},\"id\":\"4410924e-34a9-44eb-9225-747af2cfe4f4\",\"type\":\"StringFormatter\"},{\"attributes\":{},\"id\":\"ae2e1296-745c-460a-9362-aabe3f715321\",\"type\":\"WheelZoomTool\"},{\"attributes\":{},\"id\":\"63286ece-a29a-4e5c-9dd9-6812dc179aa6\",\"type\":\"SaveTool\"},{\"attributes\":{},\"id\":\"b4b545e2-3f4f-4aa5-8e76-0376e46388e2\",\"type\":\"StringEditor\"},{\"attributes\":{},\"id\":\"40509681-da95-4661-9d98-04374d07c6ea\",\"type\":\"StringFormatter\"},{\"attributes\":{\"fields\":[\"2013\",\"2014\",\"2015\"]},\"id\":\"5002f7e7-fdf2-4231-9a69-00132e8c34cf\",\"type\":\"Stack\"},{\"attributes\":{\"formatter\":{\"id\":\"a26a5ba2-a84f-41b4-bd64-a7a78f876451\",\"type\":\"BasicTickFormatter\"},\"plot\":{\"id\":\"e2e9335b-9b4f-4a29-adbc-db1ddd191260\",\"subtype\":\"Figure\",\"type\":\"Plot\"},\"ticker\":{\"id\":\"af07562e-faa4-458f-9f87-31bceadbd999\",\"type\":\"BasicTicker\"}},\"id\":\"7575ca9c-7c9c-4b2e-9d66-cd6eedb1928e\",\"type\":\"LinearAxis\"},{\"attributes\":{},\"id\":\"9b55aa6c-ebf8-4c83-bafd-92209b863cb0\",\"type\":\"ResetTool\"},{\"attributes\":{},\"id\":\"76928c12-693a-43a4-ad26-1e5d7ee2217d\",\"type\":\"HelpTool\"}],\"root_ids\":[\"3e054348-2185-4f70-98e3-be01fe5a05a7\"]},\"title\":\"Bokeh Application\",\"version\":\"0.12.13\"}};\n",
       "  var render_items = [{\"docid\":\"e3607d05-7d87-4bf5-8cc2-1cad6984190f\",\"elementid\":\"4d9dffcd-8e91-438e-b8c6-790b6897bd94\",\"modelid\":\"3e054348-2185-4f70-98e3-be01fe5a05a7\"}];\n",
       "  root.Bokeh.embed.embed_items_notebook(docs_json, render_items);\n",
       "\n",
       "  }\n",
       "  if (root.Bokeh !== undefined) {\n",
       "    embed_document(root);\n",
       "  } else {\n",
       "    var attempts = 0;\n",
       "    var timer = setInterval(function(root) {\n",
       "      if (root.Bokeh !== undefined) {\n",
       "        embed_document(root);\n",
       "        clearInterval(timer);\n",
       "      }\n",
       "      attempts++;\n",
       "      if (attempts > 100) {\n",
       "        console.log(\"Bokeh: ERROR: Unable to run BokehJS code because BokehJS library is missing\")\n",
       "        clearInterval(timer);\n",
       "      }\n",
       "    }, 10, root)\n",
       "  }\n",
       "})(window);"
      ],
      "application/vnd.bokehjs_exec.v0+json": ""
     },
     "metadata": {
      "application/vnd.bokehjs_exec.v0+json": {
       "id": "3e054348-2185-4f70-98e3-be01fe5a05a7"
      }
     },
     "output_type": "display_data"
    }
   ],
   "source": [
    "#def make_document(doc):\n",
    "#output_notebook()\n",
    "\n",
    "#Defineer brondata & kolommen\n",
    "source = ColumnDataSource(df_totaalSBB)\n",
    "original_source = ColumnDataSource(df_totaalSBB)\n",
    "columns = [\n",
    "   TableColumn(field=\"SECTORUNIT SBB\", title=\"Sector\"),\n",
    "   TableColumn(field=\"Jaar\", title=\"Jaar\"),\n",
    "   TableColumn(field=\"Aantal\", title=\"Aantal\"),\n",
    "]\n",
    "\n",
    "#maak data tabel\n",
    "data_table = DataTable(source=source, columns=columns)\n",
    "\n",
    "# callback code to be used by all the filter widgets\n",
    "combined_callback_code = \"\"\"\n",
    "var data = source.data;\n",
    "var original_data = original_source.data;\n",
    "var sector = sector_select_obj.value;\n",
    "console.log(\"sector: \" + sector);\n",
    "var jaar = jaar_select_obj.value;\n",
    "console.log(\"jaar: \" + jaar);\n",
    "for (var key in original_data) {\n",
    "    data[key] = [];\n",
    "    for (var i = 0; i < original_data['SECTORUNIT SBB'].length; ++i) {\n",
    "        if ((sector === \"ALL\" || original_data['SECTORUNIT SBB'][i] === sector) &&\n",
    "            (jaar === \"ALL\" || original_data['Jaar'][i] === jaar)) {\n",
    "            data[key].push(original_data[key][i]);\n",
    "        }\n",
    "    }\n",
    "}\n",
    "target_obj.change.emit();;\n",
    "source.change.emit();\n",
    "\"\"\"\n",
    "\n",
    "# define the filter widgets, without callbacks for now\n",
    "sector_list = ['ALL'] + df_totaalSBB['SECTORUNIT SBB'].unique().tolist()\n",
    "sector_select = Select(title=\"Sector:\", value=sector_list[0], options=sector_list)\n",
    "jaar_list = ['ALL'] + df_totaalSBB['Jaar'].unique().tolist()\n",
    "jaar_select = Select(title=\"Jaar:\", value=jaar_list[0], options=jaar_list)\n",
    "\n",
    "# now define the callback objects now that the filter widgets exist\n",
    "generic_callback = CustomJS(\n",
    "    args=dict(source=source, \n",
    "              original_source=original_source, \n",
    "              sector_select_obj=sector_select, \n",
    "              jaar_select_obj=jaar_select, \n",
    "              target_obj=data_table),\n",
    "    code=combined_callback_code\n",
    ")\n",
    "\n",
    "# finally, connect the callbacks to the filter widgets\n",
    "sector_select.js_on_change('value', generic_callback)\n",
    "jaar_select.js_on_change('value', generic_callback)\n",
    "\n",
    "\n",
    "\n",
    "\n",
    "\n",
    "# add chart - werkt nog niet om 1 of andere reden.....\n",
    "#source2 = ColumnDataSource(dx_totaalSBB)\n",
    "kolommen = list(df_totaalSBB['Jaar'].unique())\n",
    "sectoren = list(df_totaalSBB['SECTORUNIT SBB'].unique())\n",
    "df_copyForStack =  dsc.copy()\n",
    "df_copyForStackGrouped = df_copyForStack.groupby(['SECTORUNIT SBB']).sum()[['2013', '2014', '2015', '2016', '2017']]\n",
    "df_stackedToDict = df_copyForStackGrouped.to_dict('list')\n",
    "df_stackedToDict['sectoren'] = sectoren\n",
    "\n",
    "\n",
    "#Teken grafiek\n",
    "source2 = ColumnDataSource(df_stackedToDict)\n",
    "\n",
    "p1 = figure(x_range=sectoren, plot_height=800, title=\"Totalen per SBB sector per jaar\")\n",
    "\n",
    "p1.vbar_stack(kolommen, x='sectoren', width=0.8, source=data2, legend=kolommen, color=['#084594', '#2171b5', '#4292c6', '#6baed6', '#9ecae1'])\n",
    "\n",
    "p1.width=900\n",
    "p1.y_range.start = 0\n",
    "p1.x_range.range_padding = 0.1\n",
    "p1.xaxis.major_label_orientation = 'vertical'\n",
    "p1.xgrid.grid_line_color = None\n",
    "p1.left[0].formatter.use_scientific = False\n",
    "\n",
    "\n",
    "#layout = row(p, jaren)\n",
    "p = column(sector_select,jaar_select,data_table, p1)\n",
    "\n",
    "#doc.title = \"Sectorunit SBB chart test\"\n",
    "#doc.add_root(p)\n",
    "show(p)"
   ]
  },
  {
   "cell_type": "code",
   "execution_count": 73,
   "metadata": {},
   "outputs": [
    {
     "data": {
      "text/html": [
       "\n",
       "<div class=\"bk-root\">\n",
       "    <div class=\"bk-plotdiv\" id=\"c89734b6-a857-4682-94c1-a2557d2c0943\"></div>\n",
       "</div>"
      ]
     },
     "metadata": {},
     "output_type": "display_data"
    },
    {
     "data": {
      "application/javascript": [
       "(function(root) {\n",
       "  function embed_document(root) {\n",
       "    \n",
       "  var docs_json = {\"48086c0c-80bf-4e15-aede-26486efe0dee\":{\"roots\":{\"references\":[{\"attributes\":{\"bottom\":{\"expr\":{\"id\":\"d00ccd9f-1a95-4909-a9d6-383e701d0492\",\"type\":\"Stack\"}},\"fill_alpha\":{\"value\":0.1},\"fill_color\":{\"value\":\"#1f77b4\"},\"line_alpha\":{\"value\":0.1},\"line_color\":{\"value\":\"#1f77b4\"},\"top\":{\"expr\":{\"id\":\"c317c993-8daf-4b42-9bf1-b00b54b56c4e\",\"type\":\"Stack\"}},\"width\":{\"value\":0.8},\"x\":{\"field\":\"sectoren\"}},\"id\":\"64715de6-a657-4c64-a1cf-7c4a6360a8ab\",\"type\":\"VBar\"},{\"attributes\":{},\"id\":\"fa11d411-d2d2-4331-ad6b-68f903ea5ed5\",\"type\":\"SaveTool\"},{\"attributes\":{\"data_source\":{\"id\":\"530cda4a-23a3-493a-98d6-a2d007f1f1c2\",\"type\":\"ColumnDataSource\"},\"glyph\":{\"id\":\"0968c86f-c290-488a-93fb-b42efecf6ebf\",\"type\":\"VBar\"},\"hover_glyph\":null,\"muted_glyph\":null,\"nonselection_glyph\":{\"id\":\"f493ce2d-e7d4-48d3-8732-2213bb45b2f1\",\"type\":\"VBar\"},\"selection_glyph\":null,\"view\":{\"id\":\"0c3939f5-1203-4aab-9e5c-d11f85c7d47a\",\"type\":\"CDSView\"}},\"id\":\"01163451-120c-41e4-bdf1-9df9906a8f81\",\"type\":\"GlyphRenderer\"},{\"attributes\":{\"callback\":null,\"column_names\":[\"2013\",\"2014\",\"2015\",\"2016\",\"2017\",\"sectoren\"],\"data\":{\"2013\":[369,6856,5792,2383,463,6523,6892,9769,22036],\"2014\":[517,7066,6105,2472,573,6176,7078,10178,22116],\"2015\":[433,7667,6009,2677,568,6270,7720,10071,22298],\"2016\":[306,8033,6134,2765,596,6310,7851,9482,20812],\"2017\":[562,9663,6248,3027,649,6517,10070,9214,21885],\"sectoren\":[\"Bovensectoraal\",\"Sectorunit creatieve industrie en ICT\",\"Sectorunit handel\",\"Sectorunit mobiliteit, transport, logistiek, maritiem\",\"Sectorunit specialistisch vakmanschap\",\"Sectorunit techniek en gebouwde omgeving\",\"Sectorunit voedsel, groen en gastvrijheid\",\"Sectorunit zakelijke dienstverlening en veiligheid\",\"Sectorunit zorg, welzijn en sport\"]}},\"id\":\"4b1aeb52-b311-4ff5-8d1b-b70e4fd2a96e\",\"type\":\"ColumnDataSource\"},{\"attributes\":{\"label\":{\"value\":\"2015\"},\"renderers\":[{\"id\":\"01163451-120c-41e4-bdf1-9df9906a8f81\",\"type\":\"GlyphRenderer\"}]},\"id\":\"060f3434-0e6c-42cb-861b-ad39e30ee891\",\"type\":\"LegendItem\"},{\"attributes\":{\"grid_line_color\":{\"value\":null},\"plot\":{\"id\":\"343c90c4-d92d-41d4-8e35-4f5a48bb4c05\",\"subtype\":\"Figure\",\"type\":\"Plot\"},\"ticker\":{\"id\":\"cc38d011-5118-44b0-848e-b3db5cd4a56c\",\"type\":\"CategoricalTicker\"}},\"id\":\"2001fcf8-3869-443b-8dd7-0115d479440b\",\"type\":\"Grid\"},{\"attributes\":{\"callback\":null,\"column_names\":[\"2013\",\"2014\",\"2015\",\"2016\",\"2017\",\"sectoren\"],\"data\":{\"2013\":[369,6856,5792,2383,463,6523,6892,9769,22036],\"2014\":[517,7066,6105,2472,573,6176,7078,10178,22116],\"2015\":[433,7667,6009,2677,568,6270,7720,10071,22298],\"2016\":[306,8033,6134,2765,596,6310,7851,9482,20812],\"2017\":[562,9663,6248,3027,649,6517,10070,9214,21885],\"sectoren\":[\"Bovensectoraal\",\"Sectorunit creatieve industrie en ICT\",\"Sectorunit handel\",\"Sectorunit mobiliteit, transport, logistiek, maritiem\",\"Sectorunit specialistisch vakmanschap\",\"Sectorunit techniek en gebouwde omgeving\",\"Sectorunit voedsel, groen en gastvrijheid\",\"Sectorunit zakelijke dienstverlening en veiligheid\",\"Sectorunit zorg, welzijn en sport\"]}},\"id\":\"530cda4a-23a3-493a-98d6-a2d007f1f1c2\",\"type\":\"ColumnDataSource\"},{\"attributes\":{\"dimension\":1,\"plot\":{\"id\":\"343c90c4-d92d-41d4-8e35-4f5a48bb4c05\",\"subtype\":\"Figure\",\"type\":\"Plot\"},\"ticker\":{\"id\":\"8f10e1b7-c731-4e4f-bb2c-e2e9cfe805eb\",\"type\":\"BasicTicker\"}},\"id\":\"3ac28c2f-d5c6-486a-8963-802b3c89973f\",\"type\":\"Grid\"},{\"attributes\":{\"items\":[{\"id\":\"981d21ee-d98e-47bc-bec4-faa70ad93905\",\"type\":\"LegendItem\"},{\"id\":\"5ad11b76-2ad9-49ca-b4d6-58b5d2d02ae3\",\"type\":\"LegendItem\"},{\"id\":\"060f3434-0e6c-42cb-861b-ad39e30ee891\",\"type\":\"LegendItem\"},{\"id\":\"c83ed7e7-3f44-4887-bb6d-8df8da512225\",\"type\":\"LegendItem\"},{\"id\":\"bdacca46-8f43-42f3-886a-f26bd636ceb4\",\"type\":\"LegendItem\"}],\"plot\":{\"id\":\"343c90c4-d92d-41d4-8e35-4f5a48bb4c05\",\"subtype\":\"Figure\",\"type\":\"Plot\"}},\"id\":\"49702178-7d1a-4b79-bf1d-4cda41b2a5c0\",\"type\":\"Legend\"},{\"attributes\":{},\"id\":\"8f10e1b7-c731-4e4f-bb2c-e2e9cfe805eb\",\"type\":\"BasicTicker\"},{\"attributes\":{\"data_source\":{\"id\":\"4f66febb-28f1-4be3-8731-e3bd65af684f\",\"type\":\"ColumnDataSource\"},\"glyph\":{\"id\":\"c3d97500-b1a1-4a69-bb24-6a55e020612e\",\"type\":\"VBar\"},\"hover_glyph\":null,\"muted_glyph\":null,\"nonselection_glyph\":{\"id\":\"64715de6-a657-4c64-a1cf-7c4a6360a8ab\",\"type\":\"VBar\"},\"selection_glyph\":null,\"view\":{\"id\":\"0ed6c551-7d40-46a9-9112-4315002cf10e\",\"type\":\"CDSView\"}},\"id\":\"fa8f8780-e21f-4916-8ea6-fc9a94093502\",\"type\":\"GlyphRenderer\"},{\"attributes\":{\"fields\":[\"2013\"]},\"id\":\"e8559271-12f0-4b16-9482-027aa795e243\",\"type\":\"Stack\"},{\"attributes\":{\"bottom\":{\"expr\":{\"id\":\"38364746-8ba7-485b-a405-422e8f29274e\",\"type\":\"Stack\"}},\"fill_color\":{\"value\":\"#6baed6\"},\"line_color\":{\"value\":\"#6baed6\"},\"top\":{\"expr\":{\"id\":\"90db89e5-242a-44ef-9707-8ab0d38c0f85\",\"type\":\"Stack\"}},\"width\":{\"value\":0.8},\"x\":{\"field\":\"sectoren\"}},\"id\":\"2d22b45b-02e9-4e2c-9ba6-c1af3964daee\",\"type\":\"VBar\"},{\"attributes\":{\"callback\":null,\"start\":0},\"id\":\"d8dbcfda-e997-419f-bb07-2ae2fb4bee95\",\"type\":\"DataRange1d\"},{\"attributes\":{\"source\":{\"id\":\"530cda4a-23a3-493a-98d6-a2d007f1f1c2\",\"type\":\"ColumnDataSource\"}},\"id\":\"0c3939f5-1203-4aab-9e5c-d11f85c7d47a\",\"type\":\"CDSView\"},{\"attributes\":{\"bottom_units\":\"screen\",\"fill_alpha\":{\"value\":0.5},\"fill_color\":{\"value\":\"lightgrey\"},\"left_units\":\"screen\",\"level\":\"overlay\",\"line_alpha\":{\"value\":1.0},\"line_color\":{\"value\":\"black\"},\"line_dash\":[4,4],\"line_width\":{\"value\":2},\"plot\":null,\"render_mode\":\"css\",\"right_units\":\"screen\",\"top_units\":\"screen\"},\"id\":\"988b86e5-eb5c-4a44-9591-1788177c8ba3\",\"type\":\"BoxAnnotation\"},{\"attributes\":{\"source\":{\"id\":\"4f66febb-28f1-4be3-8731-e3bd65af684f\",\"type\":\"ColumnDataSource\"}},\"id\":\"0ed6c551-7d40-46a9-9112-4315002cf10e\",\"type\":\"CDSView\"},{\"attributes\":{},\"id\":\"201f7bff-3148-47ad-b449-e1de28a1f17e\",\"type\":\"CategoricalTickFormatter\"},{\"attributes\":{\"fields\":[\"2013\",\"2014\",\"2015\"]},\"id\":\"0fe271a3-f66e-41bc-b774-df5416f52334\",\"type\":\"Stack\"},{\"attributes\":{\"bottom\":{\"expr\":{\"id\":\"eab07f51-4d47-4db4-aa71-82eb1b9d949f\",\"type\":\"Stack\"}},\"fill_alpha\":{\"value\":0.1},\"fill_color\":{\"value\":\"#1f77b4\"},\"line_alpha\":{\"value\":0.1},\"line_color\":{\"value\":\"#1f77b4\"},\"top\":{\"expr\":{\"id\":\"0fe271a3-f66e-41bc-b774-df5416f52334\",\"type\":\"Stack\"}},\"width\":{\"value\":0.8},\"x\":{\"field\":\"sectoren\"}},\"id\":\"f493ce2d-e7d4-48d3-8732-2213bb45b2f1\",\"type\":\"VBar\"},{\"attributes\":{},\"id\":\"4150ee97-8160-4461-9285-3b375324bfc6\",\"type\":\"HelpTool\"},{\"attributes\":{\"label\":{\"value\":\"2013\"},\"renderers\":[{\"id\":\"1fe46bd1-6b35-46a0-98ee-29e8ba7d3334\",\"type\":\"GlyphRenderer\"}]},\"id\":\"981d21ee-d98e-47bc-bec4-faa70ad93905\",\"type\":\"LegendItem\"},{\"attributes\":{\"overlay\":{\"id\":\"988b86e5-eb5c-4a44-9591-1788177c8ba3\",\"type\":\"BoxAnnotation\"}},\"id\":\"837552a1-0957-481d-b907-a9471fec1a4c\",\"type\":\"BoxZoomTool\"},{\"attributes\":{},\"id\":\"25b50b67-1825-4b0d-bd78-78b9330e68f4\",\"type\":\"CategoricalScale\"},{\"attributes\":{\"source\":{\"id\":\"4b1aeb52-b311-4ff5-8d1b-b70e4fd2a96e\",\"type\":\"ColumnDataSource\"}},\"id\":\"88661cda-9182-4c8d-a502-dd158e10f8d8\",\"type\":\"CDSView\"},{\"attributes\":{\"below\":[{\"id\":\"9a7681c5-0fa6-4572-96bd-d13ef8516a84\",\"type\":\"CategoricalAxis\"}],\"left\":[{\"id\":\"4a5e77fd-838e-406a-9890-17eeae0468d5\",\"type\":\"LinearAxis\"}],\"plot_height\":800,\"renderers\":[{\"id\":\"9a7681c5-0fa6-4572-96bd-d13ef8516a84\",\"type\":\"CategoricalAxis\"},{\"id\":\"2001fcf8-3869-443b-8dd7-0115d479440b\",\"type\":\"Grid\"},{\"id\":\"4a5e77fd-838e-406a-9890-17eeae0468d5\",\"type\":\"LinearAxis\"},{\"id\":\"3ac28c2f-d5c6-486a-8963-802b3c89973f\",\"type\":\"Grid\"},{\"id\":\"988b86e5-eb5c-4a44-9591-1788177c8ba3\",\"type\":\"BoxAnnotation\"},{\"id\":\"49702178-7d1a-4b79-bf1d-4cda41b2a5c0\",\"type\":\"Legend\"},{\"id\":\"1fe46bd1-6b35-46a0-98ee-29e8ba7d3334\",\"type\":\"GlyphRenderer\"},{\"id\":\"fa8f8780-e21f-4916-8ea6-fc9a94093502\",\"type\":\"GlyphRenderer\"},{\"id\":\"01163451-120c-41e4-bdf1-9df9906a8f81\",\"type\":\"GlyphRenderer\"},{\"id\":\"9f98f489-6089-4837-b332-1ae441cb55c2\",\"type\":\"GlyphRenderer\"},{\"id\":\"4a4f7b50-5d06-4b93-b420-d51b09ec1d2c\",\"type\":\"GlyphRenderer\"}],\"title\":{\"id\":\"3c45fccb-b30d-416b-a9dd-b4f54a3e9935\",\"type\":\"Title\"},\"toolbar\":{\"id\":\"5058b740-f641-4774-802a-6a30f3eba547\",\"type\":\"Toolbar\"},\"width\":900,\"x_range\":{\"id\":\"5506057c-3e34-44c0-89c7-24ab9587d561\",\"type\":\"FactorRange\"},\"x_scale\":{\"id\":\"25b50b67-1825-4b0d-bd78-78b9330e68f4\",\"type\":\"CategoricalScale\"},\"y_range\":{\"id\":\"d8dbcfda-e997-419f-bb07-2ae2fb4bee95\",\"type\":\"DataRange1d\"},\"y_scale\":{\"id\":\"55316620-704d-4808-ae84-1f5818ce2f12\",\"type\":\"LinearScale\"}},\"id\":\"343c90c4-d92d-41d4-8e35-4f5a48bb4c05\",\"subtype\":\"Figure\",\"type\":\"Plot\"},{\"attributes\":{\"fields\":[\"2013\",\"2014\",\"2015\",\"2016\"]},\"id\":\"68cb5a7a-ea5e-4986-be0a-ecfbacd12604\",\"type\":\"Stack\"},{\"attributes\":{\"fields\":[\"2013\",\"2014\",\"2015\",\"2016\"]},\"id\":\"90db89e5-242a-44ef-9707-8ab0d38c0f85\",\"type\":\"Stack\"},{\"attributes\":{\"callback\":null,\"column_names\":[\"2013\",\"2014\",\"2015\",\"2016\",\"2017\",\"sectoren\"],\"data\":{\"2013\":[369,6856,5792,2383,463,6523,6892,9769,22036],\"2014\":[517,7066,6105,2472,573,6176,7078,10178,22116],\"2015\":[433,7667,6009,2677,568,6270,7720,10071,22298],\"2016\":[306,8033,6134,2765,596,6310,7851,9482,20812],\"2017\":[562,9663,6248,3027,649,6517,10070,9214,21885],\"sectoren\":[\"Bovensectoraal\",\"Sectorunit creatieve industrie en ICT\",\"Sectorunit handel\",\"Sectorunit mobiliteit, transport, logistiek, maritiem\",\"Sectorunit specialistisch vakmanschap\",\"Sectorunit techniek en gebouwde omgeving\",\"Sectorunit voedsel, groen en gastvrijheid\",\"Sectorunit zakelijke dienstverlening en veiligheid\",\"Sectorunit zorg, welzijn en sport\"]}},\"id\":\"4f66febb-28f1-4be3-8731-e3bd65af684f\",\"type\":\"ColumnDataSource\"},{\"attributes\":{\"bottom\":{\"expr\":{\"id\":\"68cb5a7a-ea5e-4986-be0a-ecfbacd12604\",\"type\":\"Stack\"}},\"fill_alpha\":{\"value\":0.1},\"fill_color\":{\"value\":\"#1f77b4\"},\"line_alpha\":{\"value\":0.1},\"line_color\":{\"value\":\"#1f77b4\"},\"top\":{\"expr\":{\"id\":\"2c18a65c-ebbe-4e01-8c30-7d42f4c34ede\",\"type\":\"Stack\"}},\"width\":{\"value\":0.8},\"x\":{\"field\":\"sectoren\"}},\"id\":\"05283921-bb82-4f20-b235-275df50b73a9\",\"type\":\"VBar\"},{\"attributes\":{},\"id\":\"cc38d011-5118-44b0-848e-b3db5cd4a56c\",\"type\":\"CategoricalTicker\"},{\"attributes\":{\"fields\":[\"2013\",\"2014\"]},\"id\":\"c317c993-8daf-4b42-9bf1-b00b54b56c4e\",\"type\":\"Stack\"},{\"attributes\":{},\"id\":\"8283248e-1897-4019-82dd-aef111c54bed\",\"type\":\"PanTool\"},{\"attributes\":{\"bottom\":{\"expr\":{\"id\":\"68cb5a7a-ea5e-4986-be0a-ecfbacd12604\",\"type\":\"Stack\"}},\"fill_color\":{\"value\":\"#9ecae1\"},\"line_color\":{\"value\":\"#9ecae1\"},\"top\":{\"expr\":{\"id\":\"2c18a65c-ebbe-4e01-8c30-7d42f4c34ede\",\"type\":\"Stack\"}},\"width\":{\"value\":0.8},\"x\":{\"field\":\"sectoren\"}},\"id\":\"ea5cd5a4-7389-469a-9ea7-f555c0bda19f\",\"type\":\"VBar\"},{\"attributes\":{\"data_source\":{\"id\":\"692502b5-0903-47e6-b1f8-86f285fe43c6\",\"type\":\"ColumnDataSource\"},\"glyph\":{\"id\":\"01ed19b3-b5d9-44c0-aa56-9be94655a521\",\"type\":\"VBar\"},\"hover_glyph\":null,\"muted_glyph\":null,\"nonselection_glyph\":{\"id\":\"8ddb2a84-e129-47ea-a647-e9531f8bbe04\",\"type\":\"VBar\"},\"selection_glyph\":null,\"view\":{\"id\":\"5392b9a3-21b6-4b5b-a984-adf26708a580\",\"type\":\"CDSView\"}},\"id\":\"1fe46bd1-6b35-46a0-98ee-29e8ba7d3334\",\"type\":\"GlyphRenderer\"},{\"attributes\":{\"data_source\":{\"id\":\"4b1aeb52-b311-4ff5-8d1b-b70e4fd2a96e\",\"type\":\"ColumnDataSource\"},\"glyph\":{\"id\":\"2d22b45b-02e9-4e2c-9ba6-c1af3964daee\",\"type\":\"VBar\"},\"hover_glyph\":null,\"muted_glyph\":null,\"nonselection_glyph\":{\"id\":\"4128a36c-7e25-4f66-9672-cd3fe8fe51dd\",\"type\":\"VBar\"},\"selection_glyph\":null,\"view\":{\"id\":\"88661cda-9182-4c8d-a502-dd158e10f8d8\",\"type\":\"CDSView\"}},\"id\":\"9f98f489-6089-4837-b332-1ae441cb55c2\",\"type\":\"GlyphRenderer\"},{\"attributes\":{\"bottom\":{\"expr\":{\"id\":\"d00ccd9f-1a95-4909-a9d6-383e701d0492\",\"type\":\"Stack\"}},\"fill_color\":{\"value\":\"#2171b5\"},\"line_color\":{\"value\":\"#2171b5\"},\"top\":{\"expr\":{\"id\":\"c317c993-8daf-4b42-9bf1-b00b54b56c4e\",\"type\":\"Stack\"}},\"width\":{\"value\":0.8},\"x\":{\"field\":\"sectoren\"}},\"id\":\"c3d97500-b1a1-4a69-bb24-6a55e020612e\",\"type\":\"VBar\"},{\"attributes\":{\"bottom\":{\"expr\":{\"id\":\"38364746-8ba7-485b-a405-422e8f29274e\",\"type\":\"Stack\"}},\"fill_alpha\":{\"value\":0.1},\"fill_color\":{\"value\":\"#1f77b4\"},\"line_alpha\":{\"value\":0.1},\"line_color\":{\"value\":\"#1f77b4\"},\"top\":{\"expr\":{\"id\":\"90db89e5-242a-44ef-9707-8ab0d38c0f85\",\"type\":\"Stack\"}},\"width\":{\"value\":0.8},\"x\":{\"field\":\"sectoren\"}},\"id\":\"4128a36c-7e25-4f66-9672-cd3fe8fe51dd\",\"type\":\"VBar\"},{\"attributes\":{\"fields\":[\"2013\",\"2014\",\"2015\",\"2016\",\"2017\"]},\"id\":\"2c18a65c-ebbe-4e01-8c30-7d42f4c34ede\",\"type\":\"Stack\"},{\"attributes\":{},\"id\":\"6467ad9a-0bd3-435f-b57a-75ad6c6009c9\",\"type\":\"WheelZoomTool\"},{\"attributes\":{\"label\":{\"value\":\"2017\"},\"renderers\":[{\"id\":\"4a4f7b50-5d06-4b93-b420-d51b09ec1d2c\",\"type\":\"GlyphRenderer\"}]},\"id\":\"bdacca46-8f43-42f3-886a-f26bd636ceb4\",\"type\":\"LegendItem\"},{\"attributes\":{\"plot\":null,\"text\":\"Totalen per SBB sector per jaar\"},\"id\":\"3c45fccb-b30d-416b-a9dd-b4f54a3e9935\",\"type\":\"Title\"},{\"attributes\":{},\"id\":\"55316620-704d-4808-ae84-1f5818ce2f12\",\"type\":\"LinearScale\"},{\"attributes\":{\"bottom\":{\"expr\":{\"id\":\"eab07f51-4d47-4db4-aa71-82eb1b9d949f\",\"type\":\"Stack\"}},\"fill_color\":{\"value\":\"#4292c6\"},\"line_color\":{\"value\":\"#4292c6\"},\"top\":{\"expr\":{\"id\":\"0fe271a3-f66e-41bc-b774-df5416f52334\",\"type\":\"Stack\"}},\"width\":{\"value\":0.8},\"x\":{\"field\":\"sectoren\"}},\"id\":\"0968c86f-c290-488a-93fb-b42efecf6ebf\",\"type\":\"VBar\"},{\"attributes\":{\"data_source\":{\"id\":\"bc4aa80d-f8d6-4e8f-97af-1721d8d355f9\",\"type\":\"ColumnDataSource\"},\"glyph\":{\"id\":\"ea5cd5a4-7389-469a-9ea7-f555c0bda19f\",\"type\":\"VBar\"},\"hover_glyph\":null,\"muted_glyph\":null,\"nonselection_glyph\":{\"id\":\"05283921-bb82-4f20-b235-275df50b73a9\",\"type\":\"VBar\"},\"selection_glyph\":null,\"view\":{\"id\":\"8e17c49c-d564-40cd-bce9-60ee33177823\",\"type\":\"CDSView\"}},\"id\":\"4a4f7b50-5d06-4b93-b420-d51b09ec1d2c\",\"type\":\"GlyphRenderer\"},{\"attributes\":{\"use_scientific\":false},\"id\":\"e54668a9-d185-493b-8629-904763f94fe9\",\"type\":\"BasicTickFormatter\"},{\"attributes\":{\"bottom\":{\"expr\":{\"id\":\"a59b0fde-41e7-4bd7-8fa2-d6ae64de2087\",\"type\":\"Stack\"}},\"fill_color\":{\"value\":\"#084594\"},\"line_color\":{\"value\":\"#084594\"},\"top\":{\"expr\":{\"id\":\"e8559271-12f0-4b16-9482-027aa795e243\",\"type\":\"Stack\"}},\"width\":{\"value\":0.8},\"x\":{\"field\":\"sectoren\"}},\"id\":\"01ed19b3-b5d9-44c0-aa56-9be94655a521\",\"type\":\"VBar\"},{\"attributes\":{\"formatter\":{\"id\":\"e54668a9-d185-493b-8629-904763f94fe9\",\"type\":\"BasicTickFormatter\"},\"plot\":{\"id\":\"343c90c4-d92d-41d4-8e35-4f5a48bb4c05\",\"subtype\":\"Figure\",\"type\":\"Plot\"},\"ticker\":{\"id\":\"8f10e1b7-c731-4e4f-bb2c-e2e9cfe805eb\",\"type\":\"BasicTicker\"}},\"id\":\"4a5e77fd-838e-406a-9890-17eeae0468d5\",\"type\":\"LinearAxis\"},{\"attributes\":{\"label\":{\"value\":\"2014\"},\"renderers\":[{\"id\":\"fa8f8780-e21f-4916-8ea6-fc9a94093502\",\"type\":\"GlyphRenderer\"}]},\"id\":\"5ad11b76-2ad9-49ca-b4d6-58b5d2d02ae3\",\"type\":\"LegendItem\"},{\"attributes\":{\"fields\":[\"2013\",\"2014\"]},\"id\":\"eab07f51-4d47-4db4-aa71-82eb1b9d949f\",\"type\":\"Stack\"},{\"attributes\":{\"active_drag\":\"auto\",\"active_inspect\":\"auto\",\"active_scroll\":\"auto\",\"active_tap\":\"auto\",\"tools\":[{\"id\":\"8283248e-1897-4019-82dd-aef111c54bed\",\"type\":\"PanTool\"},{\"id\":\"6467ad9a-0bd3-435f-b57a-75ad6c6009c9\",\"type\":\"WheelZoomTool\"},{\"id\":\"837552a1-0957-481d-b907-a9471fec1a4c\",\"type\":\"BoxZoomTool\"},{\"id\":\"fa11d411-d2d2-4331-ad6b-68f903ea5ed5\",\"type\":\"SaveTool\"},{\"id\":\"6bd22a84-8a8b-4962-8255-34ef59d23a17\",\"type\":\"ResetTool\"},{\"id\":\"4150ee97-8160-4461-9285-3b375324bfc6\",\"type\":\"HelpTool\"}]},\"id\":\"5058b740-f641-4774-802a-6a30f3eba547\",\"type\":\"Toolbar\"},{\"attributes\":{\"label\":{\"value\":\"2016\"},\"renderers\":[{\"id\":\"9f98f489-6089-4837-b332-1ae441cb55c2\",\"type\":\"GlyphRenderer\"}]},\"id\":\"c83ed7e7-3f44-4887-bb6d-8df8da512225\",\"type\":\"LegendItem\"},{\"attributes\":{\"source\":{\"id\":\"692502b5-0903-47e6-b1f8-86f285fe43c6\",\"type\":\"ColumnDataSource\"}},\"id\":\"5392b9a3-21b6-4b5b-a984-adf26708a580\",\"type\":\"CDSView\"},{\"attributes\":{\"callback\":null,\"column_names\":[\"2013\",\"2014\",\"2015\",\"2016\",\"2017\",\"sectoren\"],\"data\":{\"2013\":[369,6856,5792,2383,463,6523,6892,9769,22036],\"2014\":[517,7066,6105,2472,573,6176,7078,10178,22116],\"2015\":[433,7667,6009,2677,568,6270,7720,10071,22298],\"2016\":[306,8033,6134,2765,596,6310,7851,9482,20812],\"2017\":[562,9663,6248,3027,649,6517,10070,9214,21885],\"sectoren\":[\"Bovensectoraal\",\"Sectorunit creatieve industrie en ICT\",\"Sectorunit handel\",\"Sectorunit mobiliteit, transport, logistiek, maritiem\",\"Sectorunit specialistisch vakmanschap\",\"Sectorunit techniek en gebouwde omgeving\",\"Sectorunit voedsel, groen en gastvrijheid\",\"Sectorunit zakelijke dienstverlening en veiligheid\",\"Sectorunit zorg, welzijn en sport\"]}},\"id\":\"bc4aa80d-f8d6-4e8f-97af-1721d8d355f9\",\"type\":\"ColumnDataSource\"},{\"attributes\":{\"fields\":[\"2013\"]},\"id\":\"d00ccd9f-1a95-4909-a9d6-383e701d0492\",\"type\":\"Stack\"},{\"attributes\":{\"fields\":[\"2013\",\"2014\",\"2015\"]},\"id\":\"38364746-8ba7-485b-a405-422e8f29274e\",\"type\":\"Stack\"},{\"attributes\":{\"formatter\":{\"id\":\"201f7bff-3148-47ad-b449-e1de28a1f17e\",\"type\":\"CategoricalTickFormatter\"},\"major_label_orientation\":\"vertical\",\"plot\":{\"id\":\"343c90c4-d92d-41d4-8e35-4f5a48bb4c05\",\"subtype\":\"Figure\",\"type\":\"Plot\"},\"ticker\":{\"id\":\"cc38d011-5118-44b0-848e-b3db5cd4a56c\",\"type\":\"CategoricalTicker\"}},\"id\":\"9a7681c5-0fa6-4572-96bd-d13ef8516a84\",\"type\":\"CategoricalAxis\"},{\"attributes\":{},\"id\":\"6bd22a84-8a8b-4962-8255-34ef59d23a17\",\"type\":\"ResetTool\"},{\"attributes\":{\"callback\":null,\"factors\":[\"Bovensectoraal\",\"Sectorunit creatieve industrie en ICT\",\"Sectorunit handel\",\"Sectorunit mobiliteit, transport, logistiek, maritiem\",\"Sectorunit specialistisch vakmanschap\",\"Sectorunit techniek en gebouwde omgeving\",\"Sectorunit voedsel, groen en gastvrijheid\",\"Sectorunit zakelijke dienstverlening en veiligheid\",\"Sectorunit zorg, welzijn en sport\"],\"range_padding\":0.1},\"id\":\"5506057c-3e34-44c0-89c7-24ab9587d561\",\"type\":\"FactorRange\"},{\"attributes\":{\"bottom\":{\"expr\":{\"id\":\"a59b0fde-41e7-4bd7-8fa2-d6ae64de2087\",\"type\":\"Stack\"}},\"fill_alpha\":{\"value\":0.1},\"fill_color\":{\"value\":\"#1f77b4\"},\"line_alpha\":{\"value\":0.1},\"line_color\":{\"value\":\"#1f77b4\"},\"top\":{\"expr\":{\"id\":\"e8559271-12f0-4b16-9482-027aa795e243\",\"type\":\"Stack\"}},\"width\":{\"value\":0.8},\"x\":{\"field\":\"sectoren\"}},\"id\":\"8ddb2a84-e129-47ea-a647-e9531f8bbe04\",\"type\":\"VBar\"},{\"attributes\":{\"callback\":null,\"column_names\":[\"2013\",\"2014\",\"2015\",\"2016\",\"2017\",\"sectoren\"],\"data\":{\"2013\":[369,6856,5792,2383,463,6523,6892,9769,22036],\"2014\":[517,7066,6105,2472,573,6176,7078,10178,22116],\"2015\":[433,7667,6009,2677,568,6270,7720,10071,22298],\"2016\":[306,8033,6134,2765,596,6310,7851,9482,20812],\"2017\":[562,9663,6248,3027,649,6517,10070,9214,21885],\"sectoren\":[\"Bovensectoraal\",\"Sectorunit creatieve industrie en ICT\",\"Sectorunit handel\",\"Sectorunit mobiliteit, transport, logistiek, maritiem\",\"Sectorunit specialistisch vakmanschap\",\"Sectorunit techniek en gebouwde omgeving\",\"Sectorunit voedsel, groen en gastvrijheid\",\"Sectorunit zakelijke dienstverlening en veiligheid\",\"Sectorunit zorg, welzijn en sport\"]}},\"id\":\"692502b5-0903-47e6-b1f8-86f285fe43c6\",\"type\":\"ColumnDataSource\"},{\"attributes\":{\"source\":{\"id\":\"bc4aa80d-f8d6-4e8f-97af-1721d8d355f9\",\"type\":\"ColumnDataSource\"}},\"id\":\"8e17c49c-d564-40cd-bce9-60ee33177823\",\"type\":\"CDSView\"},{\"attributes\":{\"fields\":[]},\"id\":\"a59b0fde-41e7-4bd7-8fa2-d6ae64de2087\",\"type\":\"Stack\"}],\"root_ids\":[\"343c90c4-d92d-41d4-8e35-4f5a48bb4c05\"]},\"title\":\"Bokeh Application\",\"version\":\"0.12.13\"}};\n",
       "  var render_items = [{\"docid\":\"48086c0c-80bf-4e15-aede-26486efe0dee\",\"elementid\":\"c89734b6-a857-4682-94c1-a2557d2c0943\",\"modelid\":\"343c90c4-d92d-41d4-8e35-4f5a48bb4c05\"}];\n",
       "  root.Bokeh.embed.embed_items_notebook(docs_json, render_items);\n",
       "\n",
       "  }\n",
       "  if (root.Bokeh !== undefined) {\n",
       "    embed_document(root);\n",
       "  } else {\n",
       "    var attempts = 0;\n",
       "    var timer = setInterval(function(root) {\n",
       "      if (root.Bokeh !== undefined) {\n",
       "        embed_document(root);\n",
       "        clearInterval(timer);\n",
       "      }\n",
       "      attempts++;\n",
       "      if (attempts > 100) {\n",
       "        console.log(\"Bokeh: ERROR: Unable to run BokehJS code because BokehJS library is missing\")\n",
       "        clearInterval(timer);\n",
       "      }\n",
       "    }, 10, root)\n",
       "  }\n",
       "})(window);"
      ],
      "application/vnd.bokehjs_exec.v0+json": ""
     },
     "metadata": {
      "application/vnd.bokehjs_exec.v0+json": {
       "id": "343c90c4-d92d-41d4-8e35-4f5a48bb4c05"
      }
     },
     "output_type": "display_data"
    }
   ],
   "source": [
    "# add chart - werkt nog niet om 1 of andere reden.....\n",
    "#source2 = ColumnDataSource(dx_totaalSBB)\n",
    "kolommen = list(df_totaalSBB['Jaar'].unique())\n",
    "sectoren = list(df_totaalSBB['SECTORUNIT SBB'].unique())\n",
    "df_copyForStack =  dsc.copy()\n",
    "df_copyForStackGrouped = df_copyForStack.groupby(['SECTORUNIT SBB']).sum()[['2013', '2014', '2015', '2016', '2017']]\n",
    "df_stackedToDict = df_copyForStackGrouped.to_dict('list')\n",
    "df_stackedToDict['sectoren'] = sectoren\n",
    "\n",
    "\n",
    "#Teken grafiek\n",
    "source2 = ColumnDataSource(df_stackedToDict)\n",
    "\n",
    "p1 = figure(x_range=sectoren, plot_height=800, title=\"Totalen per SBB sector per jaar\")\n",
    "\n",
    "p1.vbar_stack(kolommen, x='sectoren', width=0.8, source=data2, legend=kolommen, color=['#084594', '#2171b5', '#4292c6', '#6baed6', '#9ecae1'])\n",
    "\n",
    "p1.width=900\n",
    "p1.y_range.start = 0\n",
    "p1.x_range.range_padding = 0.1\n",
    "p1.xaxis.major_label_orientation = 'vertical'\n",
    "p1.xgrid.grid_line_color = None\n",
    "p1.left[0].formatter.use_scientific = False\n",
    "\n",
    "#layout = row(p, jaren)\n",
    "#doc.title = \"Sectorunit SBB chart test\"\n",
    "#doc.add_root(p)\n",
    "show(p1)"
   ]
  },
  {
   "cell_type": "code",
   "execution_count": null,
   "metadata": {},
   "outputs": [],
   "source": [
    "kolommen"
   ]
  },
  {
   "cell_type": "code",
   "execution_count": null,
   "metadata": {},
   "outputs": [],
   "source": [
    "data = {'fruits' : fruits,\n",
    "        'Bovensectoraal'   : [2, 1, 4, 3, 2, 4],\n",
    "        '2016'   : [5, 3, 4, 2, 4, 6],\n",
    "        '2017'   : [3, 2, 4, 4, 5, 3]}\n"
   ]
  },
  {
   "cell_type": "code",
   "execution_count": null,
   "metadata": {},
   "outputs": [],
   "source": [
    "from bokeh.server.server import Server\n",
    "from bokeh.application import Application\n",
    "from bokeh.application.handlers.function import FunctionHandler\n",
    "\n",
    "apps = {'/': Application(FunctionHandler(make_document))}\n",
    "\n",
    "server = Server(apps, port=5006, allow_websocket_origin=['localhost:5006','nm-interactive.net:5006'])\n",
    "server.start()"
   ]
  },
  {
   "cell_type": "code",
   "execution_count": null,
   "metadata": {},
   "outputs": [],
   "source": [
    "server.stop()\n"
   ]
  },
  {
   "cell_type": "code",
   "execution_count": null,
   "metadata": {},
   "outputs": [],
   "source": [
    "source2.column_names"
   ]
  },
  {
   "cell_type": "code",
   "execution_count": null,
   "metadata": {},
   "outputs": [],
   "source": []
  },
  {
   "cell_type": "code",
   "execution_count": null,
   "metadata": {},
   "outputs": [],
   "source": [
    "# maak document, met daarin grafiek. Hier zullen (uiteindelijk) meerdere grafieken moeten worden \n",
    "# weergegeven met meerdere opties.\n",
    "dx = dscMelt.copy()\n",
    "\n",
    "# defineer variabelen voor grafiek\n",
    "dx_totaalSBB = dx.groupby(['SECTORUNIT SBB', 'Jaar']).sum()[['Aantal']]\n",
    "dx_totaalSBB.head()\n",
    "dx_totaalSBB.loc['Bovensectoraal']"
   ]
  },
  {
   "cell_type": "markdown",
   "metadata": {},
   "source": [
    "# 2. Visualisatie op 'Sectorunit SBB'\n",
    "De aanvliegroute is om per visualisatie een apart dataframe te maken. Sorteren op attribuurtwaarde lijkt me handig.\n",
    "\n",
    "### 1a. Dataframe verkennen: Sorteren op unieke attribuutwaarde\n",
    "Normaal gesproken staan alle data in willekeurige volgorde. Je zou kunnen sorteren attribuurtwaarde, bijvoorbeeld binnen de kolom 'SECTORUNIT SBB'.<br>\n",
    "<font color=grey>\n",
    "Syntax: df.sort_values(by=['col1']) , of<br>\n",
    "df.sort_values(by=['col1', 'col2']) <br>\n",
    "Wil je eea omgekeerd selecteren? Dan df.sort_values(by='col1', ascending=False)</font>\n",
    "<font color=grey>Bron:https://pandas.pydata.org/pandas-docs/stable/generated/pandas.DataFrame.sort_values.html</font> <br>\n",
    "\n",
    "N.B. Simon en Danny zijn nog bezig met 'Locatie' en 'Categorie'. Dit zijn nu arrays [] binnen de Dataframe. Ze zoeken nog naar een manier om dit om te typeren naar normale datavelden, zodat we ook hier aparte Dataframes (locatie, categorie) van kunnen maken die gevisualiseerd kunnen worden.\n",
    "\n"
   ]
  },
  {
   "cell_type": "code",
   "execution_count": null,
   "metadata": {},
   "outputs": [],
   "source": [
    "df = datasource\n",
    "df.sort_values(by='SECTORUNIT SBB')"
   ]
  },
  {
   "cell_type": "markdown",
   "metadata": {},
   "source": [
    "### 1b. SNELLER: Welke unieke attribuutwaarden in een kolom\n",
    "Het is sneller om de unieke attribuutwaarden uit te vragen. Dan is het later makkelijker om te selecteren / slicen / visualiseren op een bepaalde attribuutwaarde in een kolom.\n",
    "\n",
    "Bron:https://chrisalbon.com/python/data_wrangling/pandas_list_unique_values_in_column/ "
   ]
  },
  {
   "cell_type": "code",
   "execution_count": null,
   "metadata": {},
   "outputs": [],
   "source": [
    "df['SECTORUNIT SBB'].unique()"
   ]
  },
  {
   "cell_type": "markdown",
   "metadata": {},
   "source": [
    "# 2. Totalen per unieke attribuutwaarde\n",
    "Om de unieke attribuutwaarden te visualiseren, hebben we de totalen nodig. Schijnbaar kan dat ook makkelijk, na lang zoeken, gvd. <br>\n",
    "\n",
    "<font color=grey>Syntax: df.groupby(['kolomnaam' waarvan je totalen wil]).sum()[['kolom aant1','kolom aant1', 'enzovoorts']]</font> <br>\n",
    "Bron: https://stackoverflow.com/questions/35307732/how-to-sum-in-pandas-by-unique-index-in-several-columns"
   ]
  },
  {
   "cell_type": "code",
   "execution_count": null,
   "metadata": {},
   "outputs": [],
   "source": [
    "df_totaalSBB = df.groupby(['SECTORUNIT SBB']).sum()[['2013   AANT','2014   AANT','2015   AANT','2016   AANT','2017   AANT']]\n",
    "df_totaalSBB.info()"
   ]
  },
  {
   "cell_type": "code",
   "execution_count": null,
   "metadata": {},
   "outputs": [],
   "source": [
    "df_totaalSBB.head(10)"
   ]
  },
  {
   "cell_type": "markdown",
   "metadata": {},
   "source": [
    "# 3. Visualiseren totalen 'Sectorunit SBB'"
   ]
  },
  {
   "cell_type": "code",
   "execution_count": null,
   "metadata": {},
   "outputs": [],
   "source": [
    "%config IPCompleter.greedy = True  \n",
    "%matplotlib inline\n",
    "df_totaalSBB.plot.bar()"
   ]
  },
  {
   "cell_type": "markdown",
   "metadata": {},
   "source": [
    "Bron voor onderstaande: https://hub.mybinder.org/user/bokeh-bokeh-notebooks-yecjmjgh/notebooks/tutorial/07%20-%20Bar%20and%20Categorical%20Data%20Plots.ipynb"
   ]
  },
  {
   "cell_type": "markdown",
   "metadata": {
    "collapsed": true
   },
   "source": [
    "# 4. Visualiseer hoe vaak een bepaald type mbo niveau 4 gediplomeerden voorkomt in het wervingsgebied van de Windesheim locatie Zwolle in absolute aantallen"
   ]
  },
  {
   "cell_type": "code",
   "execution_count": null,
   "metadata": {},
   "outputs": [],
   "source": [
    "#dataframe om alle gediplomeerden in regio Zwolle te selecteren\n",
    "df_locatie_zwolle = df.loc[df['Locatie'] == 'Zwolle']\n",
    "df_aantal_zwolle = df_locatie_zwolle.groupby(['Locatie']).sum()[['2013   AANT','2014   AANT','2015   AANT','2016   AANT','2017   AANT']]"
   ]
  },
  {
   "cell_type": "code",
   "execution_count": null,
   "metadata": {},
   "outputs": [],
   "source": [
    "df_aantal_zwolle.info()"
   ]
  },
  {
   "cell_type": "code",
   "execution_count": null,
   "metadata": {},
   "outputs": [],
   "source": [
    "df_aantal_zwolle.plot.bar(figsize=(8,5.0),title='Aantal MBO Afgestudeerden Regio Zwolle')"
   ]
  },
  {
   "cell_type": "code",
   "execution_count": null,
   "metadata": {},
   "outputs": [],
   "source": [
    "df_locatie_zwolle.info()"
   ]
  },
  {
   "cell_type": "markdown",
   "metadata": {},
   "source": [
    "# 5. Visualiseer hoe vaak een bepaald type mbo niveau 4 gediplomeerden voorkomt in het wervingsgebied van de Windesheim locatie Flevoland in absolute aantallen"
   ]
  },
  {
   "cell_type": "code",
   "execution_count": null,
   "metadata": {},
   "outputs": [],
   "source": [
    "#dataframe om alle gediplomeerden in regio Flevoland te selecteren\n",
    "df_locatie_flevoland = df.loc[df['Locatie'] == 'Flevoland']\n",
    "df_aantal_flevoland = df_locatie_flevoland.groupby(['Locatie']).sum()[['2013   AANT','2014   AANT','2015   AANT','2016   AANT','2017   AANT']]"
   ]
  },
  {
   "cell_type": "code",
   "execution_count": null,
   "metadata": {},
   "outputs": [],
   "source": [
    "df_aantal_flevoland"
   ]
  },
  {
   "cell_type": "code",
   "execution_count": null,
   "metadata": {},
   "outputs": [],
   "source": [
    "df_aantal_flevoland.plot.bar(figsize=(8,5.0),title='Aantal MBO Afgestudeerden Regio Flevoland')"
   ]
  },
  {
   "cell_type": "markdown",
   "metadata": {
    "collapsed": true
   },
   "source": [
    "# JH - 1. Visualiseer waar de gediplomeerde mbo-4 woonachtig zijn naar mbo-opleiding in absolute aantallen"
   ]
  },
  {
   "cell_type": "code",
   "execution_count": null,
   "metadata": {},
   "outputs": [],
   "source": [
    "koppeltabel = pd.read_sql_query(\"SELECT * FROM koppeltabel\",engine)"
   ]
  },
  {
   "cell_type": "code",
   "execution_count": null,
   "metadata": {},
   "outputs": [],
   "source": [
    "renamed = datasource.rename(columns={'PC4_LEERL': 'PC4'})\n",
    "output = pd.merge(renamed, koppeltabel, on='PC4', how='inner')\n",
    "output.head(10)"
   ]
  },
  {
   "cell_type": "markdown",
   "metadata": {},
   "source": [
    "# JH - 1A. Visualisatie per Provincie"
   ]
  },
  {
   "cell_type": "code",
   "execution_count": null,
   "metadata": {},
   "outputs": [],
   "source": [
    "#dataframe om alle gediplomeerden per provincie te selecteren\n",
    "df_totaalprovincie = output.groupby(['Provincie']).sum()[['2013   AANT','2014   AANT','2015   AANT','2016   AANT','2017   AANT']]\n",
    "df_totaalprovincie"
   ]
  },
  {
   "cell_type": "code",
   "execution_count": null,
   "metadata": {},
   "outputs": [],
   "source": [
    "df_totaalprovincie.plot.bar(figsize=(8,5.0),title='Aantal MBO 4 Afgestudeerden per Provincie')"
   ]
  },
  {
   "cell_type": "markdown",
   "metadata": {},
   "source": [
    "# JH - 1B. Visualisatie per Categorie"
   ]
  },
  {
   "cell_type": "code",
   "execution_count": null,
   "metadata": {},
   "outputs": [],
   "source": [
    "#dataframe om alle gediplomeerden per categorie te selecteren\n",
    "df_totaalcategorie = output.groupby(['Categorie']).sum()[['2013   AANT','2014   AANT','2015   AANT','2016   AANT','2017   AANT']]\n",
    "df_totaalcategorie"
   ]
  },
  {
   "cell_type": "code",
   "execution_count": null,
   "metadata": {},
   "outputs": [],
   "source": [
    "df_totaalcategorie.plot.bar(figsize=(8,5.0),title='Aantal MBO 4 Afgestudeerden per Categorie')"
   ]
  },
  {
   "cell_type": "markdown",
   "metadata": {},
   "source": [
    "# JH - 1C. Visualisatie \"Thuismarkt\""
   ]
  },
  {
   "cell_type": "code",
   "execution_count": null,
   "metadata": {},
   "outputs": [],
   "source": [
    "#dataframe om alle gediplomeerden in Categorie \"Thuismarkt\" te selecteren\n",
    "df_thuismarkt = output.loc[output['Categorie'] == 'Thuismarkt']\n",
    "df_gt = df_thuismarkt.groupby(['Gemeente']).sum()[['2013   AANT','2014   AANT','2015   AANT','2016   AANT','2017   AANT']]\n",
    "df_gt"
   ]
  },
  {
   "cell_type": "code",
   "execution_count": null,
   "metadata": {},
   "outputs": [],
   "source": [
    "df_gt.plot.bar(figsize=(20,8.0),title='Aantal MBO 4 Afgestudeerden - Thuismarkt')"
   ]
  },
  {
   "cell_type": "markdown",
   "metadata": {},
   "source": [
    "# JH - 1D. Visualisatie \"Aangrenzend Primair\""
   ]
  },
  {
   "cell_type": "code",
   "execution_count": null,
   "metadata": {},
   "outputs": [],
   "source": [
    "#dataframe om alle gediplomeerden in Categorie \"Aangrenzend Primair\" te selecteren\n",
    "df_ap = output.loc[output['Categorie'] == 'Aangrenzend Primair']\n",
    "df_gap = df_ap.groupby(['Gemeente']).sum()[['2013   AANT','2014   AANT','2015   AANT','2016   AANT','2017   AANT']]\n",
    "df_gap"
   ]
  },
  {
   "cell_type": "code",
   "execution_count": null,
   "metadata": {},
   "outputs": [],
   "source": [
    "df_gap.plot.bar(figsize=(20,8.0),title='Aantal MBO 4 Afgestudeerden - Aangrenzend Primair')"
   ]
  },
  {
   "cell_type": "markdown",
   "metadata": {},
   "source": [
    "# JH - 1E. Visualisatie \"Aangrenzend Secundair\""
   ]
  },
  {
   "cell_type": "code",
   "execution_count": null,
   "metadata": {},
   "outputs": [],
   "source": [
    "#dataframe om alle gediplomeerden in Categorie \"Aangrenzend Secundair\" te selecteren\n",
    "df_as = output.loc[output['Categorie'] == 'Aangrenzend Secundair']\n",
    "df_gas = df_as.groupby(['Gemeente']).sum()[['2013   AANT','2014   AANT','2015   AANT','2016   AANT','2017   AANT']]\n",
    "df_gas"
   ]
  },
  {
   "cell_type": "code",
   "execution_count": null,
   "metadata": {},
   "outputs": [],
   "source": [
    "df_gas.plot.bar(figsize=(20,8.0),title='Aantal MBO 4 Afgestudeerden - Aangrenzend Secundair')"
   ]
  },
  {
   "cell_type": "markdown",
   "metadata": {},
   "source": [
    "# JH - 1F. Visualisatie \"Meerdere\""
   ]
  },
  {
   "cell_type": "code",
   "execution_count": null,
   "metadata": {},
   "outputs": [],
   "source": [
    "#dataframe om alle gediplomeerden in Categorie \"Meerdere\" te selecteren\n",
    "df_me = output.loc[output['Categorie'] == 'Meerdere']\n",
    "df_gme = df_me.groupby(['Gemeente']).sum()[['2013   AANT','2014   AANT','2015   AANT','2016   AANT','2017   AANT']]\n",
    "df_me"
   ]
  },
  {
   "cell_type": "code",
   "execution_count": null,
   "metadata": {},
   "outputs": [],
   "source": [
    "df_gme.plot.bar(figsize=(20,8.0),title='Aantal MBO 4 Afgestudeerden - Aangrenzend Secundair')"
   ]
  },
  {
   "cell_type": "markdown",
   "metadata": {},
   "source": [
    "# 2. Visualisatie \"MBO Sector\" in absolute aantallen"
   ]
  },
  {
   "cell_type": "code",
   "execution_count": null,
   "metadata": {},
   "outputs": [],
   "source": [
    "df_sector = df.groupby(['MBO SECTOR']).sum()[['2013   AANT','2014   AANT','2015   AANT','2016   AANT','2017   AANT']]\n",
    "df_sector"
   ]
  },
  {
   "cell_type": "code",
   "execution_count": null,
   "metadata": {},
   "outputs": [],
   "source": [
    "df_sector.plot.bar(figsize=(20,8.0),title='Aantal MBO 4 Afgestudeerden - per MBO Sector')"
   ]
  },
  {
   "cell_type": "code",
   "execution_count": null,
   "metadata": {},
   "outputs": [],
   "source": [
    "#output_notebook()\n",
    "\n",
    "#Kolommen zijn de kolommen uit de df_totaalSBB dataframe. Dit gaat dan om 2013 AANT etc. Dit is voor de eerste groepering. \n",
    "kolommen = list(df_totaalSBB)\n",
    "\n",
    "#Sectoren haalt alle unieke waardes uit het dataframe voor de kolom SECTORUNIT SBB.\n",
    "sectoren = list(df['SECTORUNIT SBB'].unique())\n",
    "\n",
    "#Voeg per kolom alle sectoren toe. Dit wordt dan de data voor de x-as. \n",
    "#Kolom is bijvoorbeeld 2013 AANT en hier worden vervolgens alle sectoren aan toegevoegd.\n",
    "x = [ (kolom, sector) for kolom in kolommen for sector in sectoren ]\n",
    "\n",
    "#Data voor de y-as\n",
    "#Data doorlopen om de totalen op de juiste volgorde in een array te plaatsen.\n",
    "#Zelfde volgorde zoals hierboven staat voor de gegevens voor de x-as\n",
    "\n",
    "counts = []\n",
    "\n",
    "for kolom in kolommen:\n",
    "    for sector in sectoren:\n",
    "        counts.append(df_totaalSBB.loc[sector][kolom])\n",
    "        \n",
    "#Teken grafiek\n",
    "source = ColumnDataSource(data=dict(x=x, counts=counts))\n",
    "\n",
    "p = figure(x_range=FactorRange(*x), plot_height=400, title=\"Totalen per SBB sector per jaar\")\n",
    "\n",
    "p.vbar(x='x', top='counts', width=0.8, source=source)\n",
    "\n",
    "p.width=900\n",
    "p.y_range.start = 0\n",
    "p.x_range.range_padding = 0.1\n",
    "p.xaxis.major_label_orientation = 1\n",
    "p.xgrid.grid_line_color = None\n",
    "\n",
    "show(p)"
   ]
  },
  {
   "cell_type": "code",
   "execution_count": null,
   "metadata": {},
   "outputs": [],
   "source": [
    "#Kolommen zijn de kolommen uit de df_totaalSBB dataframe. Dit gaat dan om 2013 AANT etc. Dit is voor de eerste groepering. \n",
    "kolommen_zwolle = list(df_aantal_zwolle)\n",
    "\n",
    "#Sectoren haalt alle unieke waardes uit het dataframe voor de kolom SECTORUNIT SBB.\n",
    "locaties_zwolle = list(df_locatie_zwolle['Locatie'].unique())\n",
    "\n",
    "#Voeg per kolom alle sectoren toe. Dit wordt dan de data voor de x-as. \n",
    "#Kolom is bijvoorbeeld 2013 AANT en hier worden vervolgens alle sectoren aan toegevoegd.\n",
    "x = [ (kolom, locatie) for kolom in kolommen_zwolle for locatie in locaties_zwolle ]\n",
    "\n",
    "#Data voor de y-as\n",
    "#Data doorlopen om de totalen op de juiste volgorde in een array te plaatsen.\n",
    "#Zelfde volgorde zoals hierboven staat voor de gegevens voor de x-as\n",
    "\n",
    "counts = []\n",
    "\n",
    "for kolom in kolommen_zwolle:\n",
    "    for locatie in locaties_zwolle:\n",
    "        counts.append(df_aantal_zwolle.loc[locatie][kolom])\n",
    "\n",
    "#Teken grafiek\n",
    "source = ColumnDataSource(data=dict(x=x, counts=counts))\n",
    "\n",
    "az = figure(x_range=FactorRange(*x), plot_height=400, title=\"Aantal MBO Afgestudeerden Regio Zwolle\")\n",
    "\n",
    "az.vbar(x='x', top='counts', width=0.8, source=source)\n",
    "\n",
    "az.width=900\n",
    "az.y_range.start = 0\n",
    "az.x_range.range_padding = 0.1\n",
    "az.xaxis.major_label_orientation = 1\n",
    "az.xgrid.grid_line_color = None\n",
    "\n",
    "\n",
    "#update functie om nieuwe data(selecties) weer te geven, doet nu niets...\n",
    "#def update():\n",
    "\n",
    "#callback om updates elke 100ms op te halen\n",
    "#doc.add_periodic_callback(update, 100)\n",
    "\n",
    "show(az)"
   ]
  },
  {
   "cell_type": "code",
   "execution_count": null,
   "metadata": {},
   "outputs": [],
   "source": [
    "#from bokeh.palettes import Spectral6\n",
    "\n",
    "#Kolommen zijn de kolommen uit de df_totaalSBB dataframe. Dit gaat dan om 2013 AANT etc. Dit is voor de eerste groepering. \n",
    "#kolommen = list(df_totaalSBB)\n",
    "\n",
    "#Sectoren haalt alle unieke waardes uit het dataframe voor de kolom SECTORUNIT SBB.\n",
    "#sectoren = df['SECTORUNIT SBB'].unique()\n",
    "#sectorenMultiplied = []\n",
    "\n",
    "#Voeg per kolom alle sectoren toe. Dit wordt dan de data voor de x-as. \n",
    "#Kolom is bijvoorbeeld 2013 AANT en hier worden vervolgens alle sectoren aan toegevoegd.\n",
    "#x = [ (sector, kolom) for sector in sectoren for kolom in kolommen ]\n",
    "\n",
    "#Data voor de y-as\n",
    "#Data doorlopen om de totalen op de juiste volgorde in een array te plaatsen.\n",
    "#Zelfde volgorde zoals hierboven staat voor de gegevens voor de x-as\n",
    "\n",
    "#counts = []\n",
    "\n",
    "#for sector in sectoren:\n",
    "#    for kolom in kolommen:\n",
    "#        counts.append(df_totaalSBB.loc[sector][kolom])\n",
    "\n",
    "#cyl_cmap = factor_cmap('cyl', palette=Spectral5, factors=sorted(df.cyl.unique())\n",
    "#Teken grafiek\n",
    "#source = ColumnDataSource(data=dict(x=x, counts=counts, sectoren=sectorenMultiplied, color=Spectral6))\n",
    "#p = figure(x_range=FactorRange(*x), plot_height=400, title=\"Totalen per SBB sector per jaar\")\n",
    "#p.vbar(x='x', top='counts', width=0.8, legend='sectoren', color='color', source=source)\n",
    "\n",
    "#p.width=1000\n",
    "#p.y_range.start = 0\n",
    "#p.x_range.range_padding = 0.1\n",
    "#p.xaxis.major_label_orientation = 'vertical'\n",
    "#p.xgrid.grid_line_color = None\n",
    "\n",
    "#p.legend.orientation = \"horizontal\"\n",
    "#p.legend.location = \"top_center\"\n",
    "\n",
    "#p.xaxis[0].group_text_font_size = '0pt'\n",
    "#show(p)"
   ]
  },
  {
   "cell_type": "code",
   "execution_count": null,
   "metadata": {},
   "outputs": [],
   "source": [
    "# voorbeeld data, laad in om werking te zien! Wel even de volgende paragraaf skippen...\n",
    "\n",
    "import random\n",
    "\n",
    "def make_document(doc):\n",
    "    source = ColumnDataSource({'x': [], 'y': [], 'color': []})\n",
    "\n",
    "    def update():\n",
    "        new = {'x': [random.random()],\n",
    "               'y': [random.random()],\n",
    "               'color': [random.choice(['red', 'blue', 'green'])]}\n",
    "        source.stream(new)\n",
    "\n",
    "    doc.add_periodic_callback(update, 100)\n",
    "\n",
    "    fig = figure(title='Streaming Circle Plot!', sizing_mode='scale_width',\n",
    "                 x_range=[0, 1], y_range=[0, 1])\n",
    "    fig.circle(source=source, x='x', y='y', color='color', size=10)\n",
    "\n",
    "    doc.title = \"Now with live updating!\"\n",
    "    doc.add_root(fig)"
   ]
  },
  {
   "cell_type": "code",
   "execution_count": null,
   "metadata": {},
   "outputs": [],
   "source": [
    "# maak document, met daarin grafiek. Hier zullen (uiteindelijk) meerdere grafieken moeten worden \n",
    "# weergegeven met meerdere opties.\n",
    "\n",
    "def make_document(doc):\n",
    "    #Kolommen zijn de kolommen uit de df_totaalSBB dataframe. Dit gaat dan om 2013 AANT etc. Dit is voor de eerste groepering. \n",
    "    kolommen = list(df_totaalSBB)\n",
    "\n",
    "    #Sectoren haalt alle unieke waardes uit het dataframe voor de kolom SECTORUNIT SBB.\n",
    "    sectoren = list(df['SECTORUNIT SBB'].unique())\n",
    "\n",
    "    #Voeg per kolom alle sectoren toe. Dit wordt dan de data voor de x-as. \n",
    "    #Kolom is bijvoorbeeld 2013 AANT en hier worden vervolgens alle sectoren aan toegevoegd.\n",
    "    x = [ (kolom, sector) for kolom in kolommen for sector in sectoren ]\n",
    "\n",
    "    #Data voor de y-as\n",
    "    #Data doorlopen om de totalen op de juiste volgorde in een array te plaatsen.\n",
    "    #Zelfde volgorde zoals hierboven staat voor de gegevens voor de x-as\n",
    "\n",
    "    counts = []\n",
    "\n",
    "    for kolom in kolommen:\n",
    "        for sector in sectoren:\n",
    "            counts.append(df_totaalSBB.loc[sector][kolom])\n",
    "\n",
    "    #Teken grafiek\n",
    "    source = ColumnDataSource(data=dict(x=x, counts=counts))\n",
    "\n",
    "    p = figure(x_range=FactorRange(*x), plot_height=400, title=\"Totalen per SBB sector per jaar\")\n",
    "\n",
    "    p.vbar(x='x', top='counts', width=0.8, source=source)\n",
    "\n",
    "    p.width=900\n",
    "    p.y_range.start = 0\n",
    "    p.x_range.range_padding = 0.1\n",
    "    p.xaxis.major_label_orientation = 1\n",
    "    p.xgrid.grid_line_color = None\n",
    "\n",
    "\n",
    "    #update functie om nieuwe data(selecties) weer te geven\n",
    "    def updateSBB(attr, old, new):\n",
    "        kolommen = [jaren.labels[i] for i in jaren.active]\n",
    "        x = [ (kolom, sector) for kolom in kolommen for sector in sectoren ]\n",
    "\n",
    "        counts = []\n",
    "\n",
    "        for kolom in kolommen:\n",
    "            for sector in sectoren:\n",
    "                counts.append(df_totaalSBB.loc[sector][kolom])\n",
    "\n",
    "        newSource = ColumnDataSource(data=dict(x=x, counts=counts))\n",
    "        source.data.update(newSource.data)\n",
    "    \n",
    "    \n",
    "    jaren = CheckboxGroup(labels=kolommen, active = [0, 1, 2, 3 ,4])\n",
    "    jaren.on_change('active', updateSBB)\n",
    "\n",
    "    layout = row(p, jaren)\n",
    "\n",
    "    #callback om updates elke 100ms op te halen\n",
    "    #doc.add_periodic_callback(update, 100)\n",
    "\n",
    "    doc.title = \"Sectorunit SBB chart...\"\n",
    "    doc.add_root(layout)\n",
    "\n",
    "    # maak document, met daarin grafiek. Hier zullen (uiteindelijk) meerdere grafieken moeten worden \n",
    "    # weergegeven met meerdere opties.\n",
    "\n",
    "    #def aantal_zwolle(doc):\n",
    "\n",
    "        #Kolommen zijn de kolommen uit de df_totaalSBB dataframe. Dit gaat dan om 2013 AANT etc. Dit is voor de eerste groepering. \n",
    "        #kolommen_zwolle = list(df_aantal_zwolle)\n",
    "\n",
    "        #Sectoren haalt alle unieke waardes uit het dataframe voor de kolom SECTORUNIT SBB.\n",
    "        #locaties_zwolle = list(df_aantal_zwolle['Locatie'].unique())\n",
    "\n",
    "        #Voeg per kolom alle sectoren toe. Dit wordt dan de data voor de x-as. \n",
    "        #Kolom is bijvoorbeeld 2013 AANT en hier worden vervolgens alle sectoren aan toegevoegd.\n",
    "        #x = [ (kolom, locatie) for kolom in kolommen_zwolle for locatie in locaties_zwolle ]\n",
    "\n",
    "        #Data voor de y-as\n",
    "        #Data doorlopen om de totalen op de juiste volgorde in een array te plaatsen.\n",
    "        #Zelfde volgorde zoals hierboven staat voor de gegevens voor de x-as\n",
    "\n",
    "        #counts = []\n",
    "\n",
    "        #for kolom in kolommen_zwolle:\n",
    "        #   for locatie in locaties_zwolle:\n",
    "        #        counts.append(df_aantal_zwolle.loc[sector][kolom])\n",
    "\n",
    "        #Teken grafiek\n",
    "        #source = ColumnDataSource(data=dict(x=x, counts=counts))\n",
    "\n",
    "        #az = figure(x_range=FactorRange(*x), plot_height=400, title=\"Aantal MBO Afgestudeerden Regio Zwolle\")\n",
    "\n",
    "        #az.vbar(x='x', top='counts', width=0.8, source=source)\n",
    "\n",
    "        #az.width=900\n",
    "        #az.y_range.start = 0\n",
    "        #az.x_range.range_padding = 0.1\n",
    "        #az.xaxis.major_label_orientation = 1\n",
    "        #az.xgrid.grid_line_color = None\n",
    "   \n",
    "\n",
    "        #update functie om nieuwe data(selecties) weer te geven, doet nu niets...\n",
    "        #def update():\n",
    "\n",
    "        #callback om updates elke 100ms op te halen\n",
    "        #doc.add_periodic_callback(update, 100)\n",
    "        \n",
    "        \n",
    "        #doc.title = \"Tekst...\"\n",
    "        #doc.add_root(az)"
   ]
  },
  {
   "cell_type": "code",
   "execution_count": null,
   "metadata": {},
   "outputs": [],
   "source": [
    "# starten van de webserver :)\n",
    "apps = {'/': Application(FunctionHandler(make_document))}\n",
    "\n",
    "server = Server(apps, port=5006, allow_websocket_origin=['localhost:5006','nm-interactive.net:5006'])\n",
    "server.start()"
   ]
  },
  {
   "cell_type": "code",
   "execution_count": null,
   "metadata": {},
   "outputs": [],
   "source": [
    "# stoppen van de server :)\n",
    "server.stop()"
   ]
  },
  {
   "cell_type": "code",
   "execution_count": null,
   "metadata": {},
   "outputs": [],
   "source": [
    "output_notebook()\n",
    "\n",
    "#Kolommen zijn de kolommen uit de df_totaalSBB dataframe. Dit gaat dan om 2013 AANT etc. Dit is voor de eerste groepering. \n",
    "kolommen = list(df_totaalSBB)\n",
    "\n",
    "#Sectoren haalt alle unieke waardes uit het dataframe voor de kolom SECTORUNIT SBB.\n",
    "sectoren = df['SECTORUNIT SBB'].unique()\n",
    "\n",
    "#Voeg per kolom alle sectoren toe. Dit wordt dan de data voor de x-as. \n",
    "#Kolom is bijvoorbeeld 2013 AANT en hier worden vervolgens alle sectoren aan toegevoegd.\n",
    "x = [ (kolom, sector) for kolom in kolommen for sector in sectoren ]\n",
    "\n",
    "#Data voor de y-as\n",
    "#Data doorlopen om de totalen op de juiste volgorde in een array te plaatsen.\n",
    "#Zelfde volgorde zoals hierboven staat voor de gegevens voor de x-as\n",
    "\n",
    "counts = []\n",
    "\n",
    "for kolom in kolommen:\n",
    "    for sector in sectoren:\n",
    "        counts.append(df_totaalSBB.loc[sector][kolom])\n",
    "        \n",
    "\n",
    "source = ColumnDataSource(data=dict(x=x, counts=counts))\n",
    "\n",
    "#Teken grafiek\n",
    "p = figure(x_range=FactorRange(*x), plot_height=400, title=\"Totalen per SBB sector per jaar\")\n",
    "\n",
    "p.vbar(x='x', top='counts', width=0.8, source=source)\n",
    "\n",
    "p.width=900\n",
    "p.y_range.start = 0\n",
    "p.x_range.range_padding = 0.1\n",
    "p.xaxis.major_label_orientation = 1\n",
    "p.xgrid.grid_line_color = None\n",
    "\n",
    "show(p)"
   ]
  },
  {
   "cell_type": "code",
   "execution_count": null,
   "metadata": {},
   "outputs": [],
   "source": [
    "def updateSBB(attr, old, new):\n",
    "    kolommen = [jaren.labels[i] for i in jaren.active]\n",
    "    x = [ (kolom, sector) for kolom in kolommen for sector in sectoren ]\n",
    "   \n",
    "    counts = []\n",
    "    \n",
    "    for kolom in kolommen:\n",
    "        for sector in sectoren:\n",
    "            counts.append(df_totaalSBB.loc[sector][kolom])\n",
    "    \n",
    "    newSource = ColumnDataSource(data=dict(x=x, counts=counts))\n",
    "    source.data.update(newSource.data)"
   ]
  },
  {
   "cell_type": "code",
   "execution_count": null,
   "metadata": {},
   "outputs": [],
   "source": [
    "output_file(\"slider.html\")\n",
    "jaren = CheckboxGroup(labels=kolommen, active = [0, 1, 2, 3 ,4])\n",
    "jaren.on_change('active', updateSBB)\n",
    "\n",
    "p1 = figure(plot_width=300, plot_height=300)\n",
    "p1.circle([1, 2, 3, 4, 5], [6, 7, 2, 4, 5], size=20, color=\"red\", alpha=0.5)\n",
    "\n",
    "testcheckbox = CheckboxGroup(labels=list(\"Test\"), active = [0, 1])\n",
    "                             \n",
    "layout = row(p, jaren)\n",
    "tab1 = Panel(child=layout, title=\"Aantal per SBB Sectorunit\")\n",
    "\n",
    "p2 = figure(plot_width=300, plot_height=300)\n",
    "p2.line([1, 2, 3, 4, 5], [6, 7, 2, 4, 5], line_width=3, color=\"red\", alpha=0.5)\n",
    "\n",
    "l2 = row(az)\n",
    "tab2 = Panel(child=l2, title=\"Aantal MBO 4 afgestudeerden Zwolle\")\n",
    "\n",
    "tabs = Tabs(tabs=[ tab1, tab2 ])\n",
    "\n",
    "show(tabs)"
   ]
  },
  {
   "cell_type": "code",
   "execution_count": null,
   "metadata": {},
   "outputs": [],
   "source": [
    "def test():\n",
    "    print(\"test\")"
   ]
  },
  {
   "cell_type": "code",
   "execution_count": null,
   "metadata": {},
   "outputs": [],
   "source": [
    "test()"
   ]
  },
  {
   "cell_type": "code",
   "execution_count": null,
   "metadata": {},
   "outputs": [],
   "source": []
  }
 ],
 "metadata": {
  "kernelspec": {
   "display_name": "Python 3",
   "language": "python",
   "name": "python3"
  },
  "language_info": {
   "codemirror_mode": {
    "name": "ipython",
    "version": 3
   },
   "file_extension": ".py",
   "mimetype": "text/x-python",
   "name": "python",
   "nbconvert_exporter": "python",
   "pygments_lexer": "ipython3",
   "version": "3.6.4"
  }
 },
 "nbformat": 4,
 "nbformat_minor": 2
}
