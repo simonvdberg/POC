{
 "cells": [
  {
   "cell_type": "code",
   "execution_count": 5,
   "metadata": {
    "collapsed": true
   },
   "outputs": [],
   "source": [
    "from sqlalchemy import create_engine\n",
    "import pandas as pd"
   ]
  },
  {
   "cell_type": "code",
   "execution_count": 9,
   "metadata": {},
   "outputs": [],
   "source": [
    "host = \"mysql.nm-interactive.net\"\n",
    "port = 3306\n",
    "user = \"windesheim\"\n",
    "password = \"pMjq357Kdee7Sx8C\"\n",
    "database = \"windesheim\"\n",
    "client = \"mysql\"\n",
    "\n",
    "#Installeer Mysqlcient in Anaconda Navigator\n",
    "engine = create_engine(\"{0}://{1}:{2}@{3}:{4}/{5}\".format(client, user, password, host, port, database))"
   ]
  },
  {
   "cell_type": "code",
   "execution_count": 10,
   "metadata": {},
   "outputs": [
    {
     "name": "stdout",
     "output_type": "stream",
     "text": [
      "<class 'pandas.core.frame.DataFrame'>\n",
      "RangeIndex: 45 entries, 0 to 44\n",
      "Data columns (total 5 columns):\n",
      "PostcodeStart    45 non-null int64\n",
      "PostcodeEind     45 non-null int64\n",
      "Gemeente         45 non-null object\n",
      "Locatie          45 non-null object\n",
      "Categorie        45 non-null object\n",
      "dtypes: int64(2), object(3)\n",
      "memory usage: 1.8+ KB\n"
     ]
    }
   ],
   "source": [
    "wervingsgebieden = pd.read_excel(\"data\\wervingsgebieden-gestructureerd.xlsx\")"
   ]
  },
  {
   "cell_type": "code",
   "execution_count": 11,
   "metadata": {},
   "outputs": [],
   "source": [
    "wervingsgebieden.to_sql(\"wervingsgebieden\", engine, if_exists='replace')"
   ]
  }
 ],
 "metadata": {
  "kernelspec": {
   "display_name": "Python 3",
   "language": "python",
   "name": "python3"
  },
  "language_info": {
   "codemirror_mode": {
    "name": "ipython",
    "version": 3
   },
   "file_extension": ".py",
   "mimetype": "text/x-python",
   "name": "python",
   "nbconvert_exporter": "python",
   "pygments_lexer": "ipython3",
   "version": "3.6.3"
  }
 },
 "nbformat": 4,
 "nbformat_minor": 2
}
