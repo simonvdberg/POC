{
 "cells": [
  {
   "cell_type": "code",
   "execution_count": 34,
   "metadata": {
    "collapsed": true
   },
   "outputs": [],
   "source": [
    "%config IPCompleter.greedy = True  \n",
    "%matplotlib inline\n",
    "\n",
    "import numpy as np\n",
    "import pandas as pd\n",
    "import matplotlib.pyplot as plt\n",
    "import seaborn as sns\n",
    "from sqlalchemy import create_engine\n",
    "\n",
    "from seaborn import countplot\n",
    "from matplotlib.pyplot import figure, show\n",
    "\n",
    "from bokeh.io import show, output_notebook\n",
    "from bokeh.models import ColumnDataSource\n",
    "from bokeh.plotting import figure\n",
    "from bokeh.models import FactorRange, ColumnDataSource, TableColumn, DataTable, CustomJS\n",
    "from bokeh.server.server import Server\n",
    "from bokeh.application import Application\n",
    "from bokeh.application.handlers.function import FunctionHandler\n",
    "\n",
    "from bokeh.models.widgets import Panel, Tabs, Select\n",
    "from bokeh.io import output_file, show\n",
    "from bokeh.plotting import figure\n",
    "from bokeh.models.widgets import CheckboxGroup\n",
    "from bokeh.layouts import column, row, WidgetBox  \n",
    "from bokeh.core.properties import value "
   ]
  },
  {
   "cell_type": "code",
   "execution_count": 2,
   "metadata": {},
   "outputs": [
    {
     "name": "stdout",
     "output_type": "stream",
     "text": [
      "<class 'pandas.core.frame.DataFrame'>\n",
      "RangeIndex: 169415 entries, 0 to 169414\n",
      "Data columns (total 14 columns):\n",
      "nr                    169415 non-null int64\n",
      "PC4_LEERL             169415 non-null int64\n",
      "KWALIFICATIENIVEAU    169415 non-null int64\n",
      "KWALIFICATIE CODE     169415 non-null int64\n",
      "KWALIFICATIE NAAM     169415 non-null object\n",
      "MBO SECTOR            169415 non-null object\n",
      "DOMEIN                169415 non-null object\n",
      "SECTORUNIT SBB        169415 non-null object\n",
      "GESLACHT              169415 non-null object\n",
      "2013   AANT           169415 non-null int64\n",
      "2014   AANT           169415 non-null int64\n",
      "2015   AANT           169415 non-null int64\n",
      "2016   AANT           169415 non-null int64\n",
      "2017   AANT           169415 non-null int64\n",
      "dtypes: int64(9), object(5)\n",
      "memory usage: 18.1+ MB\n",
      "<class 'pandas.core.frame.DataFrame'>\n",
      "RangeIndex: 44 entries, 0 to 43\n",
      "Data columns (total 6 columns):\n",
      "index            44 non-null int64\n",
      "PostcodeStart    44 non-null int64\n",
      "PostcodeEind     44 non-null int64\n",
      "Gemeente         44 non-null object\n",
      "Locatie          44 non-null object\n",
      "Categorie        44 non-null object\n",
      "dtypes: int64(3), object(3)\n",
      "memory usage: 2.1+ KB\n"
     ]
    }
   ],
   "source": [
    "host = \"mysql.nm-interactive.net\"\n",
    "port = 3306\n",
    "user = \"windesheim\"\n",
    "password = \"pMjq357Kdee7Sx8C\"\n",
    "database = \"windesheim\"\n",
    "client = \"mysql\"\n",
    "\n",
    "#Installeer eerst Mysqlcient in Anaconda Navigator\n",
    "engine = create_engine(\"{0}://{1}:{2}@{3}:{4}/{5}\".format(client, user, password, host, port, database))\n",
    "\n",
    "datasource = pd.read_sql_query(\"SELECT * FROM source WHERE KWALIFICATIENIVEAU = 4\",engine)\n",
    "wervingsgebieden = pd.read_sql_query(\"SELECT * FROM wervingsgebieden\",engine)\n",
    "datasource.info()\n",
    "wervingsgebieden.info()"
   ]
  },
  {
   "cell_type": "code",
   "execution_count": 3,
   "metadata": {},
   "outputs": [
    {
     "data": {
      "text/html": [
       "<div>\n",
       "<style>\n",
       "    .dataframe thead tr:only-child th {\n",
       "        text-align: right;\n",
       "    }\n",
       "\n",
       "    .dataframe thead th {\n",
       "        text-align: left;\n",
       "    }\n",
       "\n",
       "    .dataframe tbody tr th {\n",
       "        vertical-align: top;\n",
       "    }\n",
       "</style>\n",
       "<table border=\"1\" class=\"dataframe\">\n",
       "  <thead>\n",
       "    <tr style=\"text-align: right;\">\n",
       "      <th></th>\n",
       "      <th>nr</th>\n",
       "      <th>PC4_LEERL</th>\n",
       "      <th>KWALIFICATIENIVEAU</th>\n",
       "      <th>KWALIFICATIE CODE</th>\n",
       "      <th>KWALIFICATIE NAAM</th>\n",
       "      <th>MBO SECTOR</th>\n",
       "      <th>DOMEIN</th>\n",
       "      <th>SECTORUNIT SBB</th>\n",
       "      <th>GESLACHT</th>\n",
       "      <th>2013   AANT</th>\n",
       "      <th>2014   AANT</th>\n",
       "      <th>2015   AANT</th>\n",
       "      <th>2016   AANT</th>\n",
       "      <th>2017   AANT</th>\n",
       "    </tr>\n",
       "  </thead>\n",
       "  <tbody>\n",
       "    <tr>\n",
       "      <th>0</th>\n",
       "      <td>1424</td>\n",
       "      <td>1011</td>\n",
       "      <td>4</td>\n",
       "      <td>10388</td>\n",
       "      <td>Horeca-ondernemer/-manager</td>\n",
       "      <td>economie</td>\n",
       "      <td>Horeca en bakkerij</td>\n",
       "      <td>Sectorunit voedsel, groen en gastvrijheid</td>\n",
       "      <td>M</td>\n",
       "      <td>1</td>\n",
       "      <td>0</td>\n",
       "      <td>0</td>\n",
       "      <td>0</td>\n",
       "      <td>0</td>\n",
       "    </tr>\n",
       "    <tr>\n",
       "      <th>1</th>\n",
       "      <td>1425</td>\n",
       "      <td>1011</td>\n",
       "      <td>4</td>\n",
       "      <td>10801</td>\n",
       "      <td>Restauratiemedewerker</td>\n",
       "      <td>techniek</td>\n",
       "      <td>Bouw en infra</td>\n",
       "      <td>Sectorunit techniek en gebouwde omgeving</td>\n",
       "      <td>M</td>\n",
       "      <td>1</td>\n",
       "      <td>0</td>\n",
       "      <td>0</td>\n",
       "      <td>0</td>\n",
       "      <td>0</td>\n",
       "    </tr>\n",
       "    <tr>\n",
       "      <th>2</th>\n",
       "      <td>1426</td>\n",
       "      <td>1011</td>\n",
       "      <td>4</td>\n",
       "      <td>90038</td>\n",
       "      <td>Artiest (Muziek)</td>\n",
       "      <td>techniek</td>\n",
       "      <td>Zorg en welzijn</td>\n",
       "      <td>Sectorunit creatieve industrie en ICT</td>\n",
       "      <td>M</td>\n",
       "      <td>0</td>\n",
       "      <td>0</td>\n",
       "      <td>0</td>\n",
       "      <td>2</td>\n",
       "      <td>0</td>\n",
       "    </tr>\n",
       "    <tr>\n",
       "      <th>3</th>\n",
       "      <td>1427</td>\n",
       "      <td>1011</td>\n",
       "      <td>4</td>\n",
       "      <td>90290</td>\n",
       "      <td>Ondernemer detailhandel</td>\n",
       "      <td>economie</td>\n",
       "      <td>Handel en ondernemerschap</td>\n",
       "      <td>Sectorunit handel</td>\n",
       "      <td>M</td>\n",
       "      <td>1</td>\n",
       "      <td>0</td>\n",
       "      <td>0</td>\n",
       "      <td>0</td>\n",
       "      <td>0</td>\n",
       "    </tr>\n",
       "    <tr>\n",
       "      <th>4</th>\n",
       "      <td>1428</td>\n",
       "      <td>1011</td>\n",
       "      <td>4</td>\n",
       "      <td>90301</td>\n",
       "      <td>Ondernemer horeca/bakkerij (Manager/ondernemer...</td>\n",
       "      <td>economie</td>\n",
       "      <td>Horeca en bakkerij</td>\n",
       "      <td>Sectorunit voedsel, groen en gastvrijheid</td>\n",
       "      <td>M</td>\n",
       "      <td>0</td>\n",
       "      <td>1</td>\n",
       "      <td>0</td>\n",
       "      <td>0</td>\n",
       "      <td>0</td>\n",
       "    </tr>\n",
       "  </tbody>\n",
       "</table>\n",
       "</div>"
      ],
      "text/plain": [
       "     nr  PC4_LEERL  KWALIFICATIENIVEAU  KWALIFICATIE CODE  \\\n",
       "0  1424       1011                   4              10388   \n",
       "1  1425       1011                   4              10801   \n",
       "2  1426       1011                   4              90038   \n",
       "3  1427       1011                   4              90290   \n",
       "4  1428       1011                   4              90301   \n",
       "\n",
       "                                   KWALIFICATIE NAAM MBO SECTOR  \\\n",
       "0                         Horeca-ondernemer/-manager   economie   \n",
       "1                              Restauratiemedewerker   techniek   \n",
       "2                                   Artiest (Muziek)   techniek   \n",
       "3                            Ondernemer detailhandel   economie   \n",
       "4  Ondernemer horeca/bakkerij (Manager/ondernemer...   economie   \n",
       "\n",
       "                      DOMEIN                             SECTORUNIT SBB  \\\n",
       "0         Horeca en bakkerij  Sectorunit voedsel, groen en gastvrijheid   \n",
       "1              Bouw en infra   Sectorunit techniek en gebouwde omgeving   \n",
       "2            Zorg en welzijn      Sectorunit creatieve industrie en ICT   \n",
       "3  Handel en ondernemerschap                          Sectorunit handel   \n",
       "4         Horeca en bakkerij  Sectorunit voedsel, groen en gastvrijheid   \n",
       "\n",
       "  GESLACHT  2013   AANT  2014   AANT  2015   AANT  2016   AANT  2017   AANT  \n",
       "0        M            1            0            0            0            0  \n",
       "1        M            1            0            0            0            0  \n",
       "2        M            0            0            0            2            0  \n",
       "3        M            1            0            0            0            0  \n",
       "4        M            0            1            0            0            0  "
      ]
     },
     "execution_count": 3,
     "metadata": {},
     "output_type": "execute_result"
    }
   ],
   "source": [
    "# Laat n records zien van de datasource\n",
    "datasource.head()"
   ]
  },
  {
   "cell_type": "code",
   "execution_count": 4,
   "metadata": {},
   "outputs": [
    {
     "data": {
      "text/plain": [
       "nr                     int64\n",
       "PC4_LEERL              int64\n",
       "KWALIFICATIENIVEAU     int64\n",
       "KWALIFICATIE CODE      int64\n",
       "KWALIFICATIE NAAM     object\n",
       "MBO SECTOR            object\n",
       "DOMEIN                object\n",
       "SECTORUNIT SBB        object\n",
       "GESLACHT              object\n",
       "2013   AANT            int64\n",
       "2014   AANT            int64\n",
       "2015   AANT            int64\n",
       "2016   AANT            int64\n",
       "2017   AANT            int64\n",
       "dtype: object"
      ]
     },
     "execution_count": 4,
     "metadata": {},
     "output_type": "execute_result"
    }
   ],
   "source": [
    "datasource.dtypes"
   ]
  },
  {
   "cell_type": "code",
   "execution_count": 5,
   "metadata": {},
   "outputs": [
    {
     "data": {
      "text/html": [
       "<div>\n",
       "<style>\n",
       "    .dataframe thead tr:only-child th {\n",
       "        text-align: right;\n",
       "    }\n",
       "\n",
       "    .dataframe thead th {\n",
       "        text-align: left;\n",
       "    }\n",
       "\n",
       "    .dataframe tbody tr th {\n",
       "        vertical-align: top;\n",
       "    }\n",
       "</style>\n",
       "<table border=\"1\" class=\"dataframe\">\n",
       "  <thead>\n",
       "    <tr style=\"text-align: right;\">\n",
       "      <th></th>\n",
       "      <th>index</th>\n",
       "      <th>PostcodeStart</th>\n",
       "      <th>PostcodeEind</th>\n",
       "      <th>Gemeente</th>\n",
       "      <th>Locatie</th>\n",
       "      <th>Categorie</th>\n",
       "    </tr>\n",
       "  </thead>\n",
       "  <tbody>\n",
       "    <tr>\n",
       "      <th>0</th>\n",
       "      <td>0</td>\n",
       "      <td>7940</td>\n",
       "      <td>7999</td>\n",
       "      <td>Meppel</td>\n",
       "      <td>Zwolle</td>\n",
       "      <td>Thuismarkt</td>\n",
       "    </tr>\n",
       "    <tr>\n",
       "      <th>1</th>\n",
       "      <td>1</td>\n",
       "      <td>8000</td>\n",
       "      <td>8069</td>\n",
       "      <td>Zwolle</td>\n",
       "      <td>Zwolle</td>\n",
       "      <td>Thuismarkt</td>\n",
       "    </tr>\n",
       "    <tr>\n",
       "      <th>2</th>\n",
       "      <td>2</td>\n",
       "      <td>8070</td>\n",
       "      <td>8099</td>\n",
       "      <td>Nunspeet</td>\n",
       "      <td>Zwolle</td>\n",
       "      <td>Thuismarkt</td>\n",
       "    </tr>\n",
       "    <tr>\n",
       "      <th>3</th>\n",
       "      <td>3</td>\n",
       "      <td>8100</td>\n",
       "      <td>8159</td>\n",
       "      <td>Raalte</td>\n",
       "      <td>Zwolle</td>\n",
       "      <td>Thuismarkt</td>\n",
       "    </tr>\n",
       "    <tr>\n",
       "      <th>4</th>\n",
       "      <td>4</td>\n",
       "      <td>8160</td>\n",
       "      <td>8199</td>\n",
       "      <td>Epe</td>\n",
       "      <td>Zwolle</td>\n",
       "      <td>Thuismarkt</td>\n",
       "    </tr>\n",
       "  </tbody>\n",
       "</table>\n",
       "</div>"
      ],
      "text/plain": [
       "   index  PostcodeStart  PostcodeEind  Gemeente Locatie   Categorie\n",
       "0      0           7940          7999    Meppel  Zwolle  Thuismarkt\n",
       "1      1           8000          8069    Zwolle  Zwolle  Thuismarkt\n",
       "2      2           8070          8099  Nunspeet  Zwolle  Thuismarkt\n",
       "3      3           8100          8159    Raalte  Zwolle  Thuismarkt\n",
       "4      4           8160          8199       Epe  Zwolle  Thuismarkt"
      ]
     },
     "execution_count": 5,
     "metadata": {},
     "output_type": "execute_result"
    }
   ],
   "source": [
    "# Laat n records zien van de ingevoerde wervingsgebieden\n",
    "wervingsgebieden.head()"
   ]
  },
  {
   "cell_type": "code",
   "execution_count": 6,
   "metadata": {},
   "outputs": [
    {
     "data": {
      "text/plain": [
       "index             int64\n",
       "PostcodeStart     int64\n",
       "PostcodeEind      int64\n",
       "Gemeente         object\n",
       "Locatie          object\n",
       "Categorie        object\n",
       "dtype: object"
      ]
     },
     "execution_count": 6,
     "metadata": {},
     "output_type": "execute_result"
    }
   ],
   "source": [
    "wervingsgebieden.dtypes"
   ]
  },
  {
   "cell_type": "code",
   "execution_count": 7,
   "metadata": {
    "collapsed": true
   },
   "outputs": [],
   "source": [
    "# tijdelijke dataframe - 1000 rows\n",
    "ds = datasource.sample(n=1000)\n"
   ]
  },
  {
   "cell_type": "code",
   "execution_count": 8,
   "metadata": {
    "collapsed": true
   },
   "outputs": [],
   "source": [
    "# Functie voor het checken van de locatie en categorie, stukje sneller gemaakt ook.\n",
    "def check_locatie(PostCode):\n",
    "    test = wervingsgebieden.loc[(wervingsgebieden.PostcodeStart <= PostCode) & (wervingsgebieden.PostcodeEind >= PostCode), ['Locatie', 'Categorie']]\n",
    "    if test['Locatie'].empty:\n",
    "        r = pd.Series(['',''])\n",
    "    else:\n",
    "        r = pd.Series([test['Locatie'].iloc[0], test['Categorie'].iloc[0]])\n",
    "    return r\n",
    "\n",
    "#voeg kolommen toe aan datasource \n",
    "datasource[['Locatie', 'Categorie']] = datasource.apply(lambda row: check_locatie(row[\"PC4_LEERL\"]), axis=1)\n"
   ]
  },
  {
   "cell_type": "code",
   "execution_count": 9,
   "metadata": {},
   "outputs": [
    {
     "data": {
      "text/plain": [
       "array(['Aangrenzend Primair', '', 'Thuismarkt', 'Aangrenzend Secundair'], dtype=object)"
      ]
     },
     "execution_count": 9,
     "metadata": {},
     "output_type": "execute_result"
    }
   ],
   "source": [
    "#Welke soorten zitten er in Locatie?\n",
    "datasource.Locatie.unique()\n",
    "\n",
    "#Welke soorten zitten in Categorie?\n",
    "datasource.Categorie.unique()"
   ]
  },
  {
   "cell_type": "code",
   "execution_count": 10,
   "metadata": {},
   "outputs": [
    {
     "data": {
      "text/html": [
       "<div>\n",
       "<style>\n",
       "    .dataframe thead tr:only-child th {\n",
       "        text-align: right;\n",
       "    }\n",
       "\n",
       "    .dataframe thead th {\n",
       "        text-align: left;\n",
       "    }\n",
       "\n",
       "    .dataframe tbody tr th {\n",
       "        vertical-align: top;\n",
       "    }\n",
       "</style>\n",
       "<table border=\"1\" class=\"dataframe\">\n",
       "  <thead>\n",
       "    <tr style=\"text-align: right;\">\n",
       "      <th></th>\n",
       "      <th>nr</th>\n",
       "      <th>PC4_LEERL</th>\n",
       "      <th>KWALIFICATIENIVEAU</th>\n",
       "      <th>KWALIFICATIE CODE</th>\n",
       "      <th>KWALIFICATIE NAAM</th>\n",
       "      <th>MBO SECTOR</th>\n",
       "      <th>DOMEIN</th>\n",
       "      <th>SECTORUNIT SBB</th>\n",
       "      <th>GESLACHT</th>\n",
       "      <th>2013   AANT</th>\n",
       "      <th>2014   AANT</th>\n",
       "      <th>2015   AANT</th>\n",
       "      <th>2016   AANT</th>\n",
       "      <th>2017   AANT</th>\n",
       "      <th>Locatie</th>\n",
       "      <th>Categorie</th>\n",
       "    </tr>\n",
       "  </thead>\n",
       "  <tbody>\n",
       "    <tr>\n",
       "      <th>0</th>\n",
       "      <td>1424</td>\n",
       "      <td>1011</td>\n",
       "      <td>4</td>\n",
       "      <td>10388</td>\n",
       "      <td>Horeca-ondernemer/-manager</td>\n",
       "      <td>economie</td>\n",
       "      <td>Horeca en bakkerij</td>\n",
       "      <td>Sectorunit voedsel, groen en gastvrijheid</td>\n",
       "      <td>M</td>\n",
       "      <td>1</td>\n",
       "      <td>0</td>\n",
       "      <td>0</td>\n",
       "      <td>0</td>\n",
       "      <td>0</td>\n",
       "      <td>Flevoland</td>\n",
       "      <td>Aangrenzend Primair</td>\n",
       "    </tr>\n",
       "    <tr>\n",
       "      <th>1</th>\n",
       "      <td>1425</td>\n",
       "      <td>1011</td>\n",
       "      <td>4</td>\n",
       "      <td>10801</td>\n",
       "      <td>Restauratiemedewerker</td>\n",
       "      <td>techniek</td>\n",
       "      <td>Bouw en infra</td>\n",
       "      <td>Sectorunit techniek en gebouwde omgeving</td>\n",
       "      <td>M</td>\n",
       "      <td>1</td>\n",
       "      <td>0</td>\n",
       "      <td>0</td>\n",
       "      <td>0</td>\n",
       "      <td>0</td>\n",
       "      <td>Flevoland</td>\n",
       "      <td>Aangrenzend Primair</td>\n",
       "    </tr>\n",
       "    <tr>\n",
       "      <th>2</th>\n",
       "      <td>1426</td>\n",
       "      <td>1011</td>\n",
       "      <td>4</td>\n",
       "      <td>90038</td>\n",
       "      <td>Artiest (Muziek)</td>\n",
       "      <td>techniek</td>\n",
       "      <td>Zorg en welzijn</td>\n",
       "      <td>Sectorunit creatieve industrie en ICT</td>\n",
       "      <td>M</td>\n",
       "      <td>0</td>\n",
       "      <td>0</td>\n",
       "      <td>0</td>\n",
       "      <td>2</td>\n",
       "      <td>0</td>\n",
       "      <td>Flevoland</td>\n",
       "      <td>Aangrenzend Primair</td>\n",
       "    </tr>\n",
       "    <tr>\n",
       "      <th>3</th>\n",
       "      <td>1427</td>\n",
       "      <td>1011</td>\n",
       "      <td>4</td>\n",
       "      <td>90290</td>\n",
       "      <td>Ondernemer detailhandel</td>\n",
       "      <td>economie</td>\n",
       "      <td>Handel en ondernemerschap</td>\n",
       "      <td>Sectorunit handel</td>\n",
       "      <td>M</td>\n",
       "      <td>1</td>\n",
       "      <td>0</td>\n",
       "      <td>0</td>\n",
       "      <td>0</td>\n",
       "      <td>0</td>\n",
       "      <td>Flevoland</td>\n",
       "      <td>Aangrenzend Primair</td>\n",
       "    </tr>\n",
       "    <tr>\n",
       "      <th>4</th>\n",
       "      <td>1428</td>\n",
       "      <td>1011</td>\n",
       "      <td>4</td>\n",
       "      <td>90301</td>\n",
       "      <td>Ondernemer horeca/bakkerij (Manager/ondernemer...</td>\n",
       "      <td>economie</td>\n",
       "      <td>Horeca en bakkerij</td>\n",
       "      <td>Sectorunit voedsel, groen en gastvrijheid</td>\n",
       "      <td>M</td>\n",
       "      <td>0</td>\n",
       "      <td>1</td>\n",
       "      <td>0</td>\n",
       "      <td>0</td>\n",
       "      <td>0</td>\n",
       "      <td>Flevoland</td>\n",
       "      <td>Aangrenzend Primair</td>\n",
       "    </tr>\n",
       "  </tbody>\n",
       "</table>\n",
       "</div>"
      ],
      "text/plain": [
       "     nr  PC4_LEERL  KWALIFICATIENIVEAU  KWALIFICATIE CODE  \\\n",
       "0  1424       1011                   4              10388   \n",
       "1  1425       1011                   4              10801   \n",
       "2  1426       1011                   4              90038   \n",
       "3  1427       1011                   4              90290   \n",
       "4  1428       1011                   4              90301   \n",
       "\n",
       "                                   KWALIFICATIE NAAM MBO SECTOR  \\\n",
       "0                         Horeca-ondernemer/-manager   economie   \n",
       "1                              Restauratiemedewerker   techniek   \n",
       "2                                   Artiest (Muziek)   techniek   \n",
       "3                            Ondernemer detailhandel   economie   \n",
       "4  Ondernemer horeca/bakkerij (Manager/ondernemer...   economie   \n",
       "\n",
       "                      DOMEIN                             SECTORUNIT SBB  \\\n",
       "0         Horeca en bakkerij  Sectorunit voedsel, groen en gastvrijheid   \n",
       "1              Bouw en infra   Sectorunit techniek en gebouwde omgeving   \n",
       "2            Zorg en welzijn      Sectorunit creatieve industrie en ICT   \n",
       "3  Handel en ondernemerschap                          Sectorunit handel   \n",
       "4         Horeca en bakkerij  Sectorunit voedsel, groen en gastvrijheid   \n",
       "\n",
       "  GESLACHT  2013   AANT  2014   AANT  2015   AANT  2016   AANT  2017   AANT  \\\n",
       "0        M            1            0            0            0            0   \n",
       "1        M            1            0            0            0            0   \n",
       "2        M            0            0            0            2            0   \n",
       "3        M            1            0            0            0            0   \n",
       "4        M            0            1            0            0            0   \n",
       "\n",
       "     Locatie            Categorie  \n",
       "0  Flevoland  Aangrenzend Primair  \n",
       "1  Flevoland  Aangrenzend Primair  \n",
       "2  Flevoland  Aangrenzend Primair  \n",
       "3  Flevoland  Aangrenzend Primair  \n",
       "4  Flevoland  Aangrenzend Primair  "
      ]
     },
     "execution_count": 10,
     "metadata": {},
     "output_type": "execute_result"
    }
   ],
   "source": [
    "datasource.head()"
   ]
  },
  {
   "cell_type": "markdown",
   "metadata": {},
   "source": [
    "# 1. Data-Melter\n",
    "\n",
    "Een punt van aandacht is het feit dat de data niet (mooi) allemaal in gelijke kolommen zitten. Zo zijn bijvoorbeeld de jaargegevens over diverse kolommen verdeeld. Om hiermee goed te kunnen werken, dient deze data onder elkaar te worden gezet."
   ]
  },
  {
   "cell_type": "code",
   "execution_count": 11,
   "metadata": {
    "collapsed": true
   },
   "outputs": [],
   "source": [
    "# Originele dataset behouden, in kopie werken:\n",
    "dsc = datasource.copy()"
   ]
  },
  {
   "cell_type": "code",
   "execution_count": 12,
   "metadata": {},
   "outputs": [
    {
     "data": {
      "text/plain": [
       "['2013   AANT', '2014   AANT', '2015   AANT', '2016   AANT', '2017   AANT']"
      ]
     },
     "execution_count": 12,
     "metadata": {},
     "output_type": "execute_result"
    }
   ],
   "source": [
    "# Verkrijg alle 'Jaartal' kolommen (de kolommen die ge-melt dienen te worden)\n",
    "jaarCols = [col for col in dsc.columns if 'AANT' in col]\n",
    "jaarCols"
   ]
  },
  {
   "cell_type": "code",
   "execution_count": 13,
   "metadata": {},
   "outputs": [
    {
     "data": {
      "text/plain": [
       "['nr',\n",
       " 'PC4_LEERL',\n",
       " 'KWALIFICATIENIVEAU',\n",
       " 'KWALIFICATIE CODE',\n",
       " 'KWALIFICATIE NAAM',\n",
       " 'MBO SECTOR',\n",
       " 'DOMEIN',\n",
       " 'SECTORUNIT SBB',\n",
       " 'GESLACHT',\n",
       " 'Locatie',\n",
       " 'Categorie']"
      ]
     },
     "execution_count": 13,
     "metadata": {},
     "output_type": "execute_result"
    }
   ],
   "source": [
    "# Wat zijn dan de id vars? (kolommen die gelijk moeten blijven)\n",
    "otherCols = [col for col in dsc.columns if not 'AANT' in col]\n",
    "otherCols"
   ]
  },
  {
   "cell_type": "code",
   "execution_count": 14,
   "metadata": {},
   "outputs": [
    {
     "data": {
      "text/plain": [
       "['2013', '2014', '2015', '2016', '2017']"
      ]
     },
     "execution_count": 14,
     "metadata": {},
     "output_type": "execute_result"
    }
   ],
   "source": [
    "# Verander de jaartalkolomnamen naar pure jaartallen (gebruik alleen eerste 4 karakters van kolomnaam)\n",
    "jaarCleanCols = [str(x)[:4] for x in jaarCols]\n",
    "jaarCleanCols"
   ]
  },
  {
   "cell_type": "code",
   "execution_count": 15,
   "metadata": {},
   "outputs": [
    {
     "data": {
      "text/plain": [
       "{'2013   AANT': '2013',\n",
       " '2014   AANT': '2014',\n",
       " '2015   AANT': '2015',\n",
       " '2016   AANT': '2016',\n",
       " '2017   AANT': '2017'}"
      ]
     },
     "execution_count": 15,
     "metadata": {},
     "output_type": "execute_result"
    }
   ],
   "source": [
    "# Maak een dictionary voor de rename functie\n",
    "jaarDict = dict(zip(jaarCols, jaarCleanCols))\n",
    "jaarDict"
   ]
  },
  {
   "cell_type": "code",
   "execution_count": 16,
   "metadata": {
    "collapsed": true
   },
   "outputs": [],
   "source": [
    "# Rename de betreffende colommen\n",
    "dsc = dsc.rename(columns=jaarDict)"
   ]
  },
  {
   "cell_type": "code",
   "execution_count": 17,
   "metadata": {
    "collapsed": true
   },
   "outputs": [],
   "source": [
    "# Voer werkelijke melt uit\n",
    "dscMelt = pd.melt(dsc, id_vars=otherCols, var_name=\"Jaar\", value_name=\"Aantal\")"
   ]
  },
  {
   "cell_type": "code",
   "execution_count": 18,
   "metadata": {},
   "outputs": [
    {
     "data": {
      "text/html": [
       "<div>\n",
       "<style>\n",
       "    .dataframe thead tr:only-child th {\n",
       "        text-align: right;\n",
       "    }\n",
       "\n",
       "    .dataframe thead th {\n",
       "        text-align: left;\n",
       "    }\n",
       "\n",
       "    .dataframe tbody tr th {\n",
       "        vertical-align: top;\n",
       "    }\n",
       "</style>\n",
       "<table border=\"1\" class=\"dataframe\">\n",
       "  <thead>\n",
       "    <tr style=\"text-align: right;\">\n",
       "      <th></th>\n",
       "      <th>nr</th>\n",
       "      <th>PC4_LEERL</th>\n",
       "      <th>KWALIFICATIENIVEAU</th>\n",
       "      <th>KWALIFICATIE CODE</th>\n",
       "      <th>KWALIFICATIE NAAM</th>\n",
       "      <th>MBO SECTOR</th>\n",
       "      <th>DOMEIN</th>\n",
       "      <th>SECTORUNIT SBB</th>\n",
       "      <th>GESLACHT</th>\n",
       "      <th>Locatie</th>\n",
       "      <th>Categorie</th>\n",
       "      <th>Jaar</th>\n",
       "      <th>Aantal</th>\n",
       "    </tr>\n",
       "  </thead>\n",
       "  <tbody>\n",
       "    <tr>\n",
       "      <th>0</th>\n",
       "      <td>1424</td>\n",
       "      <td>1011</td>\n",
       "      <td>4</td>\n",
       "      <td>10388</td>\n",
       "      <td>Horeca-ondernemer/-manager</td>\n",
       "      <td>economie</td>\n",
       "      <td>Horeca en bakkerij</td>\n",
       "      <td>Sectorunit voedsel, groen en gastvrijheid</td>\n",
       "      <td>M</td>\n",
       "      <td>Flevoland</td>\n",
       "      <td>Aangrenzend Primair</td>\n",
       "      <td>2013</td>\n",
       "      <td>1</td>\n",
       "    </tr>\n",
       "    <tr>\n",
       "      <th>1</th>\n",
       "      <td>1425</td>\n",
       "      <td>1011</td>\n",
       "      <td>4</td>\n",
       "      <td>10801</td>\n",
       "      <td>Restauratiemedewerker</td>\n",
       "      <td>techniek</td>\n",
       "      <td>Bouw en infra</td>\n",
       "      <td>Sectorunit techniek en gebouwde omgeving</td>\n",
       "      <td>M</td>\n",
       "      <td>Flevoland</td>\n",
       "      <td>Aangrenzend Primair</td>\n",
       "      <td>2013</td>\n",
       "      <td>1</td>\n",
       "    </tr>\n",
       "    <tr>\n",
       "      <th>2</th>\n",
       "      <td>1426</td>\n",
       "      <td>1011</td>\n",
       "      <td>4</td>\n",
       "      <td>90038</td>\n",
       "      <td>Artiest (Muziek)</td>\n",
       "      <td>techniek</td>\n",
       "      <td>Zorg en welzijn</td>\n",
       "      <td>Sectorunit creatieve industrie en ICT</td>\n",
       "      <td>M</td>\n",
       "      <td>Flevoland</td>\n",
       "      <td>Aangrenzend Primair</td>\n",
       "      <td>2013</td>\n",
       "      <td>0</td>\n",
       "    </tr>\n",
       "    <tr>\n",
       "      <th>3</th>\n",
       "      <td>1427</td>\n",
       "      <td>1011</td>\n",
       "      <td>4</td>\n",
       "      <td>90290</td>\n",
       "      <td>Ondernemer detailhandel</td>\n",
       "      <td>economie</td>\n",
       "      <td>Handel en ondernemerschap</td>\n",
       "      <td>Sectorunit handel</td>\n",
       "      <td>M</td>\n",
       "      <td>Flevoland</td>\n",
       "      <td>Aangrenzend Primair</td>\n",
       "      <td>2013</td>\n",
       "      <td>1</td>\n",
       "    </tr>\n",
       "    <tr>\n",
       "      <th>4</th>\n",
       "      <td>1428</td>\n",
       "      <td>1011</td>\n",
       "      <td>4</td>\n",
       "      <td>90301</td>\n",
       "      <td>Ondernemer horeca/bakkerij (Manager/ondernemer...</td>\n",
       "      <td>economie</td>\n",
       "      <td>Horeca en bakkerij</td>\n",
       "      <td>Sectorunit voedsel, groen en gastvrijheid</td>\n",
       "      <td>M</td>\n",
       "      <td>Flevoland</td>\n",
       "      <td>Aangrenzend Primair</td>\n",
       "      <td>2013</td>\n",
       "      <td>0</td>\n",
       "    </tr>\n",
       "  </tbody>\n",
       "</table>\n",
       "</div>"
      ],
      "text/plain": [
       "     nr  PC4_LEERL  KWALIFICATIENIVEAU  KWALIFICATIE CODE  \\\n",
       "0  1424       1011                   4              10388   \n",
       "1  1425       1011                   4              10801   \n",
       "2  1426       1011                   4              90038   \n",
       "3  1427       1011                   4              90290   \n",
       "4  1428       1011                   4              90301   \n",
       "\n",
       "                                   KWALIFICATIE NAAM MBO SECTOR  \\\n",
       "0                         Horeca-ondernemer/-manager   economie   \n",
       "1                              Restauratiemedewerker   techniek   \n",
       "2                                   Artiest (Muziek)   techniek   \n",
       "3                            Ondernemer detailhandel   economie   \n",
       "4  Ondernemer horeca/bakkerij (Manager/ondernemer...   economie   \n",
       "\n",
       "                      DOMEIN                             SECTORUNIT SBB  \\\n",
       "0         Horeca en bakkerij  Sectorunit voedsel, groen en gastvrijheid   \n",
       "1              Bouw en infra   Sectorunit techniek en gebouwde omgeving   \n",
       "2            Zorg en welzijn      Sectorunit creatieve industrie en ICT   \n",
       "3  Handel en ondernemerschap                          Sectorunit handel   \n",
       "4         Horeca en bakkerij  Sectorunit voedsel, groen en gastvrijheid   \n",
       "\n",
       "  GESLACHT    Locatie            Categorie  Jaar  Aantal  \n",
       "0        M  Flevoland  Aangrenzend Primair  2013       1  \n",
       "1        M  Flevoland  Aangrenzend Primair  2013       1  \n",
       "2        M  Flevoland  Aangrenzend Primair  2013       0  \n",
       "3        M  Flevoland  Aangrenzend Primair  2013       1  \n",
       "4        M  Flevoland  Aangrenzend Primair  2013       0  "
      ]
     },
     "execution_count": 18,
     "metadata": {},
     "output_type": "execute_result"
    }
   ],
   "source": [
    "dscMelt.head()"
   ]
  },
  {
   "cell_type": "code",
   "execution_count": 19,
   "metadata": {},
   "outputs": [
    {
     "data": {
      "text/plain": [
       "array(['2013', '2014', '2015', '2016', '2017'], dtype=object)"
      ]
     },
     "execution_count": 19,
     "metadata": {},
     "output_type": "execute_result"
    }
   ],
   "source": [
    "dscMelt['Jaar'].unique()"
   ]
  },
  {
   "cell_type": "code",
   "execution_count": 20,
   "metadata": {},
   "outputs": [
    {
     "name": "stdout",
     "output_type": "stream",
     "text": [
      "<class 'pandas.core.frame.DataFrame'>\n",
      "RangeIndex: 847075 entries, 0 to 847074\n",
      "Data columns (total 13 columns):\n",
      "nr                    847075 non-null int64\n",
      "PC4_LEERL             847075 non-null int64\n",
      "KWALIFICATIENIVEAU    847075 non-null int64\n",
      "KWALIFICATIE CODE     847075 non-null int64\n",
      "KWALIFICATIE NAAM     847075 non-null object\n",
      "MBO SECTOR            847075 non-null object\n",
      "DOMEIN                847075 non-null object\n",
      "SECTORUNIT SBB        847075 non-null object\n",
      "GESLACHT              847075 non-null object\n",
      "Locatie               847075 non-null object\n",
      "Categorie             847075 non-null object\n",
      "Jaar                  847075 non-null object\n",
      "Aantal                847075 non-null int64\n",
      "dtypes: int64(5), object(8)\n",
      "memory usage: 84.0+ MB\n"
     ]
    }
   ],
   "source": [
    "dscMelt.info()"
   ]
  },
  {
   "cell_type": "markdown",
   "metadata": {},
   "source": [
    "# 2. Voorbeeld in Bokeh:\n",
    "\n",
    "Poging een voorbeeld te maken in Bokeh"
   ]
  },
  {
   "cell_type": "code",
   "execution_count": 21,
   "metadata": {},
   "outputs": [
    {
     "data": {
      "text/html": [
       "<div>\n",
       "<style>\n",
       "    .dataframe thead tr:only-child th {\n",
       "        text-align: right;\n",
       "    }\n",
       "\n",
       "    .dataframe thead th {\n",
       "        text-align: left;\n",
       "    }\n",
       "\n",
       "    .dataframe tbody tr th {\n",
       "        vertical-align: top;\n",
       "    }\n",
       "</style>\n",
       "<table border=\"1\" class=\"dataframe\">\n",
       "  <thead>\n",
       "    <tr style=\"text-align: right;\">\n",
       "      <th></th>\n",
       "      <th></th>\n",
       "      <th>Aantal</th>\n",
       "    </tr>\n",
       "    <tr>\n",
       "      <th>SECTORUNIT SBB</th>\n",
       "      <th>Jaar</th>\n",
       "      <th></th>\n",
       "    </tr>\n",
       "  </thead>\n",
       "  <tbody>\n",
       "    <tr>\n",
       "      <th rowspan=\"5\" valign=\"top\">Bovensectoraal</th>\n",
       "      <th>2013</th>\n",
       "      <td>369</td>\n",
       "    </tr>\n",
       "    <tr>\n",
       "      <th>2014</th>\n",
       "      <td>517</td>\n",
       "    </tr>\n",
       "    <tr>\n",
       "      <th>2015</th>\n",
       "      <td>433</td>\n",
       "    </tr>\n",
       "    <tr>\n",
       "      <th>2016</th>\n",
       "      <td>306</td>\n",
       "    </tr>\n",
       "    <tr>\n",
       "      <th>2017</th>\n",
       "      <td>562</td>\n",
       "    </tr>\n",
       "  </tbody>\n",
       "</table>\n",
       "</div>"
      ],
      "text/plain": [
       "                     Aantal\n",
       "SECTORUNIT SBB Jaar        \n",
       "Bovensectoraal 2013     369\n",
       "               2014     517\n",
       "               2015     433\n",
       "               2016     306\n",
       "               2017     562"
      ]
     },
     "execution_count": 21,
     "metadata": {},
     "output_type": "execute_result"
    }
   ],
   "source": [
    "# maak document, met daarin grafiek. Hier zullen (uiteindelijk) meerdere grafieken moeten worden \n",
    "# weergegeven met meerdere opties.\n",
    "df = dscMelt.copy()\n",
    "\n",
    "# defineer variabelen voor grafiek\n",
    "df_totaalSBB = df.groupby(['SECTORUNIT SBB', 'Jaar'], as_index=False).sum()[['SECTORUNIT SBB', 'Jaar', 'Aantal']]\n",
    "df_totaalSBB.head()\n",
    "\n",
    "# maak document, met daarin grafiek. Hier zullen (uiteindelijk) meerdere grafieken moeten worden \n",
    "# weergegeven met meerdere opties.\n",
    "dx = dscMelt.copy()\n",
    "\n",
    "# defineer variabelen voor grafiek\n",
    "dx_totaalSBB = dx.groupby(['SECTORUNIT SBB', 'Jaar']).sum()[['Aantal']]\n",
    "dx_totaalSBB.head()"
   ]
  },
  {
   "cell_type": "code",
   "execution_count": 22,
   "metadata": {},
   "outputs": [
    {
     "name": "stdout",
     "output_type": "stream",
     "text": [
      "<class 'pandas.core.frame.DataFrame'>\n",
      "Int64Index: 45 entries, 0 to 44\n",
      "Data columns (total 3 columns):\n",
      "SECTORUNIT SBB    45 non-null object\n",
      "Jaar              45 non-null object\n",
      "Aantal            45 non-null int64\n",
      "dtypes: int64(1), object(2)\n",
      "memory usage: 1.4+ KB\n"
     ]
    }
   ],
   "source": [
    "df_totaalSBB.info()\n"
   ]
  },
  {
   "cell_type": "code",
   "execution_count": 23,
   "metadata": {
    "collapsed": true
   },
   "outputs": [],
   "source": [
    "#Defineer brondata & kolommen\n",
    "source = ColumnDataSource(df_totaalSBB)\n",
    "original_source = ColumnDataSource(df_totaalSBB)\n",
    "columns = [\n",
    "   TableColumn(field=\"SECTORUNIT SBB\", title=\"Sector\"),\n",
    "   TableColumn(field=\"Jaar\", title=\"Jaar\"),\n",
    "   TableColumn(field=\"Aantal\", title=\"Aantal\"),\n",
    "]"
   ]
  },
  {
   "cell_type": "code",
   "execution_count": 24,
   "metadata": {},
   "outputs": [
    {
     "ename": "SyntaxError",
     "evalue": "invalid syntax (<ipython-input-24-1a9f3f910b25>, line 1)",
     "output_type": "error",
     "traceback": [
      "\u001b[1;36m  File \u001b[1;32m\"<ipython-input-24-1a9f3f910b25>\"\u001b[1;36m, line \u001b[1;32m1\u001b[0m\n\u001b[1;33m    df_totaalSBB.\u001b[0m\n\u001b[1;37m                 ^\u001b[0m\n\u001b[1;31mSyntaxError\u001b[0m\u001b[1;31m:\u001b[0m invalid syntax\n"
     ]
    }
   ],
   "source": [
    "df_totaalSBB."
   ]
  },
  {
   "cell_type": "code",
   "execution_count": 40,
   "metadata": {
    "scrolled": true
   },
   "outputs": [],
   "source": [
    "#def make_document(doc):\n",
    "\n",
    "#Defineer brondata & kolommen\n",
    "source = ColumnDataSource(df_totaalSBB)\n",
    "original_source = ColumnDataSource(df_totaalSBB)\n",
    "columns = [\n",
    "   TableColumn(field=\"SECTORUNIT SBB\", title=\"Sector\"),\n",
    "   TableColumn(field=\"Jaar\", title=\"Jaar\"),\n",
    "   TableColumn(field=\"Aantal\", title=\"Aantal\"),\n",
    "]\n",
    "\n",
    "#maak data tabel\n",
    "data_table = DataTable(source=source, columns=columns)\n",
    "\n",
    "# callback code to be used by all the filter widgets\n",
    "combined_callback_code = \"\"\"\n",
    "var data = source.data;\n",
    "var original_data = original_source.data;\n",
    "var sector = sector_select_obj.value;\n",
    "console.log(\"sector: \" + sector);\n",
    "var jaar = jaar_select_obj.value;\n",
    "console.log(\"jaar: \" + jaar);\n",
    "for (var key in original_data) {\n",
    "    data[key] = [];\n",
    "    for (var i = 0; i < original_data['SECTORUNIT SBB'].length; ++i) {\n",
    "        if ((sector === \"ALL\" || original_data['SECTORUNIT SBB'][i] === sector) &&\n",
    "            (jaar === \"ALL\" || original_data['Jaar'][i] === jaar)) {\n",
    "            data[key].push(original_data[key][i]);\n",
    "        }\n",
    "    }\n",
    "}\n",
    "target_obj.change.emit();;\n",
    "source.change.emit();\n",
    "\"\"\"\n",
    "\n",
    "# define the filter widgets, without callbacks for now\n",
    "sector_list = ['ALL'] + df_totaalSBB['SECTORUNIT SBB'].unique().tolist()\n",
    "sector_select = Select(title=\"Sector:\", value=sector_list[0], options=sector_list)\n",
    "jaar_list = ['ALL'] + df_totaalSBB['Jaar'].unique().tolist()\n",
    "jaar_select = Select(title=\"Jaar:\", value=jaar_list[0], options=jaar_list)\n",
    "\n",
    "# now define the callback objects now that the filter widgets exist\n",
    "generic_callback = CustomJS(\n",
    "    args=dict(source=source, \n",
    "              original_source=original_source, \n",
    "              sector_select_obj=sector_select, \n",
    "              jaar_select_obj=jaar_select, \n",
    "              target_obj=data_table),\n",
    "    code=combined_callback_code\n",
    ")\n",
    "\n",
    "# finally, connect the callbacks to the filter widgets\n",
    "sector_select.js_on_change('value', generic_callback)\n",
    "jaar_select.js_on_change('value', generic_callback)\n",
    "\n",
    "\n",
    "\n",
    "\n",
    "\n",
    "\n",
    "# add chart - werkt nog niet om 1 of andere reden.....\n",
    "#source2 = ColumnDataSource(dx_totaalSBB)\n",
    "\n",
    "\n",
    "kolommen = list(df_totaalSBB['Jaar'].unique())\n",
    "sectoren = list(df_totaalSBB['SECTORUNIT SBB'].unique())\n",
    "\n",
    "x = [ (kolom, sector) for kolom in kolommen for sector in sectoren ]\n",
    "counts = []\n",
    "\n",
    "for kolom in kolommen:\n",
    "    for sector in sectoren:\n",
    "        counts.append(dx_totaalSBB.loc[sector, kolom])\n",
    "        \n",
    "#Teken grafiek\n",
    "source2 = ColumnDataSource(data=dict(x=x, counts=counts))\n",
    "\n",
    "fig = figure(x_range=FactorRange(*x), plot_height=400, title=\"Totalen per SBB sector per jaar\")\n",
    "\n",
    "fig.vbar_stack(kolommen, x='x', width=0.8, source=source2, legend=[value(x) for x in kolommen])\n",
    "\n",
    "fig.width=900\n",
    "fig.y_range.start = 0\n",
    "fig.x_range.range_padding = 0.1\n",
    "fig.xaxis.major_label_orientation = 1\n",
    "fig.xgrid.grid_line_color = None\n",
    "\n",
    "\n",
    "#layout = row(p, jaren)\n",
    "p = column(sector_select,jaar_select,data_table,fig)\n",
    "\n",
    "#doc.title = \"Sectorunit SBB chart test\"\n",
    "#doc.add_root(p)\n",
    "show(p)\n"
   ]
  },
  {
   "cell_type": "code",
   "execution_count": 52,
   "metadata": {},
   "outputs": [
    {
     "name": "stderr",
     "output_type": "stream",
     "text": [
      "E-1001 (BAD_COLUMN_NAME): Glyph refers to nonexistent column name: x [renderer: GlyphRenderer(id='32c7152d-9a15-463d-8f2e-233993491ac3', ...)]\n",
      "E-1001 (BAD_COLUMN_NAME): Glyph refers to nonexistent column name: x [renderer: GlyphRenderer(id='3404ac6d-0a3e-4536-9df2-653d6d7cafc8', ...)]\n",
      "E-1001 (BAD_COLUMN_NAME): Glyph refers to nonexistent column name: x [renderer: GlyphRenderer(id='6d536c6b-9e3f-4c04-8d56-dbb27afcace7', ...)]\n",
      "E-1001 (BAD_COLUMN_NAME): Glyph refers to nonexistent column name: x [renderer: GlyphRenderer(id='73f8e436-dc57-44b8-8dbc-27f4440b7591', ...)]\n",
      "E-1001 (BAD_COLUMN_NAME): Glyph refers to nonexistent column name: x [renderer: GlyphRenderer(id='c78179ba-be58-4e01-a015-3b935ea3fc4a', ...)]\n"
     ]
    }
   ],
   "source": [
    "# add chart - werkt nog niet om 1 of andere reden.....\n",
    "#source2 = ColumnDataSource(dx_totaalSBB)\n",
    "\n",
    "kolommen = list(df_totaalSBB['Jaar'].unique())\n",
    "sectoren = list(df_totaalSBB['SECTORUNIT SBB'].unique())\n",
    "\n",
    "#Teken grafiek\n",
    "source2 = ColumnDataSource(df_totaalSBB)\n",
    "\n",
    "fig = figure(x_range=sectoren, plot_height=400, title=\"Totalen per SBB sector per jaar\")\n",
    "\n",
    "fig.vbar_stack(kolommen, x='SECTORUNIT SBB', width=0.8, source=source2, legend=[value(x) for x in kolommen])\n",
    "\n",
    "#\n",
    "\n",
    "fig.width=900\n",
    "fig.y_range.start = 0\n",
    "fig.x_range.range_padding = 0.1\n",
    "fig.xaxis.major_label_orientation = 1\n",
    "fig.xgrid.grid_line_color = None\n",
    "\n",
    "\n",
    "#layout = row(p, jaren)\n",
    "#doc.title = \"Sectorunit SBB chart test\"\n",
    "#doc.add_root(p)\n",
    "show(fig)"
   ]
  },
  {
   "cell_type": "code",
   "execution_count": 48,
   "metadata": {},
   "outputs": [
    {
     "data": {
      "text/plain": [
       "['SECTORUNIT SBB', 'Jaar', 'Aantal', 'index']"
      ]
     },
     "execution_count": 48,
     "metadata": {},
     "output_type": "execute_result"
    }
   ],
   "source": [
    "source2.column_names"
   ]
  },
  {
   "cell_type": "code",
   "execution_count": null,
   "metadata": {
    "collapsed": true
   },
   "outputs": [],
   "source": [
    "from bokeh.server.server import Server\n",
    "from bokeh.application import Application\n",
    "from bokeh.application.handlers.function import FunctionHandler\n",
    "\n",
    "apps = {'/': Application(FunctionHandler(make_document))}\n",
    "\n",
    "server = Server(apps, port=5006, allow_websocket_origin=['localhost:5006','nm-interactive.net:5006'])\n",
    "server.start()"
   ]
  },
  {
   "cell_type": "code",
   "execution_count": null,
   "metadata": {
    "collapsed": true
   },
   "outputs": [],
   "source": [
    "server.stop()\n"
   ]
  },
  {
   "cell_type": "code",
   "execution_count": null,
   "metadata": {},
   "outputs": [],
   "source": [
    "source2.column_names"
   ]
  },
  {
   "cell_type": "code",
   "execution_count": null,
   "metadata": {
    "collapsed": true
   },
   "outputs": [],
   "source": []
  },
  {
   "cell_type": "code",
   "execution_count": null,
   "metadata": {},
   "outputs": [],
   "source": [
    "# maak document, met daarin grafiek. Hier zullen (uiteindelijk) meerdere grafieken moeten worden \n",
    "# weergegeven met meerdere opties.\n",
    "dx = dscMelt.copy()\n",
    "\n",
    "# defineer variabelen voor grafiek\n",
    "dx_totaalSBB = dx.groupby(['SECTORUNIT SBB', 'Jaar']).sum()[['Aantal']]\n",
    "dx_totaalSBB.head()\n",
    "dx_totaalSBB.loc['Bovensectoraal']"
   ]
  },
  {
   "cell_type": "markdown",
   "metadata": {},
   "source": [
    "# 2. Visualisatie op 'Sectorunit SBB'\n",
    "De aanvliegroute is om per visualisatie een apart dataframe te maken. Sorteren op attribuurtwaarde lijkt me handig.\n",
    "\n",
    "### 1a. Dataframe verkennen: Sorteren op unieke attribuutwaarde\n",
    "Normaal gesproken staan alle data in willekeurige volgorde. Je zou kunnen sorteren attribuurtwaarde, bijvoorbeeld binnen de kolom 'SECTORUNIT SBB'.<br>\n",
    "<font color=grey>\n",
    "Syntax: df.sort_values(by=['col1']) , of<br>\n",
    "df.sort_values(by=['col1', 'col2']) <br>\n",
    "Wil je eea omgekeerd selecteren? Dan df.sort_values(by='col1', ascending=False)</font>\n",
    "<font color=grey>Bron:https://pandas.pydata.org/pandas-docs/stable/generated/pandas.DataFrame.sort_values.html</font> <br>\n",
    "\n",
    "N.B. Simon en Danny zijn nog bezig met 'Locatie' en 'Categorie'. Dit zijn nu arrays [] binnen de Dataframe. Ze zoeken nog naar een manier om dit om te typeren naar normale datavelden, zodat we ook hier aparte Dataframes (locatie, categorie) van kunnen maken die gevisualiseerd kunnen worden.\n",
    "\n"
   ]
  },
  {
   "cell_type": "code",
   "execution_count": null,
   "metadata": {
    "collapsed": true
   },
   "outputs": [],
   "source": [
    "df = datasource\n",
    "df.sort_values(by='SECTORUNIT SBB')"
   ]
  },
  {
   "cell_type": "markdown",
   "metadata": {},
   "source": [
    "### 1b. SNELLER: Welke unieke attribuutwaarden in een kolom\n",
    "Het is sneller om de unieke attribuutwaarden uit te vragen. Dan is het later makkelijker om te selecteren / slicen / visualiseren op een bepaalde attribuutwaarde in een kolom.\n",
    "\n",
    "Bron:https://chrisalbon.com/python/data_wrangling/pandas_list_unique_values_in_column/ "
   ]
  },
  {
   "cell_type": "code",
   "execution_count": null,
   "metadata": {
    "collapsed": true
   },
   "outputs": [],
   "source": [
    "df['SECTORUNIT SBB'].unique()"
   ]
  },
  {
   "cell_type": "markdown",
   "metadata": {},
   "source": [
    "# 2. Totalen per unieke attribuutwaarde\n",
    "Om de unieke attribuutwaarden te visualiseren, hebben we de totalen nodig. Schijnbaar kan dat ook makkelijk, na lang zoeken, gvd. <br>\n",
    "\n",
    "<font color=grey>Syntax: df.groupby(['kolomnaam' waarvan je totalen wil]).sum()[['kolom aant1','kolom aant1', 'enzovoorts']]</font> <br>\n",
    "Bron: https://stackoverflow.com/questions/35307732/how-to-sum-in-pandas-by-unique-index-in-several-columns"
   ]
  },
  {
   "cell_type": "code",
   "execution_count": null,
   "metadata": {
    "collapsed": true
   },
   "outputs": [],
   "source": [
    "df_totaalSBB = df.groupby(['SECTORUNIT SBB']).sum()[['2013   AANT','2014   AANT','2015   AANT','2016   AANT','2017   AANT']]\n",
    "df_totaalSBB.info()"
   ]
  },
  {
   "cell_type": "code",
   "execution_count": null,
   "metadata": {
    "collapsed": true
   },
   "outputs": [],
   "source": [
    "df_totaalSBB.head(10)"
   ]
  },
  {
   "cell_type": "markdown",
   "metadata": {},
   "source": [
    "# 3. Visualiseren totalen 'Sectorunit SBB'"
   ]
  },
  {
   "cell_type": "code",
   "execution_count": null,
   "metadata": {
    "collapsed": true
   },
   "outputs": [],
   "source": [
    "%config IPCompleter.greedy = True  \n",
    "%matplotlib inline\n",
    "df_totaalSBB.plot.bar()"
   ]
  },
  {
   "cell_type": "markdown",
   "metadata": {},
   "source": [
    "Bron voor onderstaande: https://hub.mybinder.org/user/bokeh-bokeh-notebooks-yecjmjgh/notebooks/tutorial/07%20-%20Bar%20and%20Categorical%20Data%20Plots.ipynb"
   ]
  },
  {
   "cell_type": "markdown",
   "metadata": {
    "collapsed": true
   },
   "source": [
    "# 4. Visualiseer hoe vaak een bepaald type mbo niveau 4 gediplomeerden voorkomt in het wervingsgebied van de Windesheim locatie Zwolle in absolute aantallen"
   ]
  },
  {
   "cell_type": "code",
   "execution_count": null,
   "metadata": {
    "collapsed": true
   },
   "outputs": [],
   "source": [
    "#dataframe om alle gediplomeerden in regio Zwolle te selecteren\n",
    "df_locatie_zwolle = df.loc[df['Locatie'] == 'Zwolle']\n",
    "df_aantal_zwolle = df_locatie_zwolle.groupby(['Locatie']).sum()[['2013   AANT','2014   AANT','2015   AANT','2016   AANT','2017   AANT']]"
   ]
  },
  {
   "cell_type": "code",
   "execution_count": null,
   "metadata": {
    "collapsed": true
   },
   "outputs": [],
   "source": [
    "df_aantal_zwolle.info()"
   ]
  },
  {
   "cell_type": "code",
   "execution_count": null,
   "metadata": {
    "collapsed": true
   },
   "outputs": [],
   "source": [
    "df_aantal_zwolle.plot.bar(figsize=(8,5.0),title='Aantal MBO Afgestudeerden Regio Zwolle')"
   ]
  },
  {
   "cell_type": "code",
   "execution_count": null,
   "metadata": {
    "collapsed": true
   },
   "outputs": [],
   "source": [
    "df_locatie_zwolle.info()"
   ]
  },
  {
   "cell_type": "markdown",
   "metadata": {},
   "source": [
    "# 5. Visualiseer hoe vaak een bepaald type mbo niveau 4 gediplomeerden voorkomt in het wervingsgebied van de Windesheim locatie Flevoland in absolute aantallen"
   ]
  },
  {
   "cell_type": "code",
   "execution_count": null,
   "metadata": {
    "collapsed": true
   },
   "outputs": [],
   "source": [
    "#dataframe om alle gediplomeerden in regio Flevoland te selecteren\n",
    "df_locatie_flevoland = df.loc[df['Locatie'] == 'Flevoland']\n",
    "df_aantal_flevoland = df_locatie_flevoland.groupby(['Locatie']).sum()[['2013   AANT','2014   AANT','2015   AANT','2016   AANT','2017   AANT']]"
   ]
  },
  {
   "cell_type": "code",
   "execution_count": null,
   "metadata": {
    "collapsed": true
   },
   "outputs": [],
   "source": [
    "df_aantal_flevoland"
   ]
  },
  {
   "cell_type": "code",
   "execution_count": null,
   "metadata": {
    "collapsed": true
   },
   "outputs": [],
   "source": [
    "df_aantal_flevoland.plot.bar(figsize=(8,5.0),title='Aantal MBO Afgestudeerden Regio Flevoland')"
   ]
  },
  {
   "cell_type": "markdown",
   "metadata": {
    "collapsed": true
   },
   "source": [
    "# JH - 1. Visualiseer waar de gediplomeerde mbo-4 woonachtig zijn naar mbo-opleiding in absolute aantallen"
   ]
  },
  {
   "cell_type": "code",
   "execution_count": null,
   "metadata": {
    "collapsed": true
   },
   "outputs": [],
   "source": [
    "koppeltabel = pd.read_sql_query(\"SELECT * FROM koppeltabel\",engine)"
   ]
  },
  {
   "cell_type": "code",
   "execution_count": null,
   "metadata": {
    "collapsed": true
   },
   "outputs": [],
   "source": [
    "renamed = datasource.rename(columns={'PC4_LEERL': 'PC4'})\n",
    "output = pd.merge(renamed, koppeltabel, on='PC4', how='inner')\n",
    "output.head(10)"
   ]
  },
  {
   "cell_type": "markdown",
   "metadata": {},
   "source": [
    "# JH - 1A. Visualisatie per Provincie"
   ]
  },
  {
   "cell_type": "code",
   "execution_count": null,
   "metadata": {
    "collapsed": true
   },
   "outputs": [],
   "source": [
    "#dataframe om alle gediplomeerden per provincie te selecteren\n",
    "df_totaalprovincie = output.groupby(['Provincie']).sum()[['2013   AANT','2014   AANT','2015   AANT','2016   AANT','2017   AANT']]\n",
    "df_totaalprovincie"
   ]
  },
  {
   "cell_type": "code",
   "execution_count": null,
   "metadata": {
    "collapsed": true
   },
   "outputs": [],
   "source": [
    "df_totaalprovincie.plot.bar(figsize=(8,5.0),title='Aantal MBO 4 Afgestudeerden per Provincie')"
   ]
  },
  {
   "cell_type": "markdown",
   "metadata": {},
   "source": [
    "# JH - 1B. Visualisatie per Categorie"
   ]
  },
  {
   "cell_type": "code",
   "execution_count": null,
   "metadata": {
    "collapsed": true
   },
   "outputs": [],
   "source": [
    "#dataframe om alle gediplomeerden per categorie te selecteren\n",
    "df_totaalcategorie = output.groupby(['Categorie']).sum()[['2013   AANT','2014   AANT','2015   AANT','2016   AANT','2017   AANT']]\n",
    "df_totaalcategorie"
   ]
  },
  {
   "cell_type": "code",
   "execution_count": null,
   "metadata": {
    "collapsed": true
   },
   "outputs": [],
   "source": [
    "df_totaalcategorie.plot.bar(figsize=(8,5.0),title='Aantal MBO 4 Afgestudeerden per Categorie')"
   ]
  },
  {
   "cell_type": "markdown",
   "metadata": {},
   "source": [
    "# JH - 1C. Visualisatie \"Thuismarkt\""
   ]
  },
  {
   "cell_type": "code",
   "execution_count": null,
   "metadata": {
    "collapsed": true
   },
   "outputs": [],
   "source": [
    "#dataframe om alle gediplomeerden in Categorie \"Thuismarkt\" te selecteren\n",
    "df_thuismarkt = output.loc[output['Categorie'] == 'Thuismarkt']\n",
    "df_gt = df_thuismarkt.groupby(['Gemeente']).sum()[['2013   AANT','2014   AANT','2015   AANT','2016   AANT','2017   AANT']]\n",
    "df_gt"
   ]
  },
  {
   "cell_type": "code",
   "execution_count": null,
   "metadata": {
    "collapsed": true
   },
   "outputs": [],
   "source": [
    "df_gt.plot.bar(figsize=(20,8.0),title='Aantal MBO 4 Afgestudeerden - Thuismarkt')"
   ]
  },
  {
   "cell_type": "markdown",
   "metadata": {},
   "source": [
    "# JH - 1D. Visualisatie \"Aangrenzend Primair\""
   ]
  },
  {
   "cell_type": "code",
   "execution_count": null,
   "metadata": {
    "collapsed": true
   },
   "outputs": [],
   "source": [
    "#dataframe om alle gediplomeerden in Categorie \"Aangrenzend Primair\" te selecteren\n",
    "df_ap = output.loc[output['Categorie'] == 'Aangrenzend Primair']\n",
    "df_gap = df_ap.groupby(['Gemeente']).sum()[['2013   AANT','2014   AANT','2015   AANT','2016   AANT','2017   AANT']]\n",
    "df_gap"
   ]
  },
  {
   "cell_type": "code",
   "execution_count": null,
   "metadata": {
    "collapsed": true
   },
   "outputs": [],
   "source": [
    "df_gap.plot.bar(figsize=(20,8.0),title='Aantal MBO 4 Afgestudeerden - Aangrenzend Primair')"
   ]
  },
  {
   "cell_type": "markdown",
   "metadata": {},
   "source": [
    "# JH - 1E. Visualisatie \"Aangrenzend Secundair\""
   ]
  },
  {
   "cell_type": "code",
   "execution_count": null,
   "metadata": {
    "collapsed": true
   },
   "outputs": [],
   "source": [
    "#dataframe om alle gediplomeerden in Categorie \"Aangrenzend Secundair\" te selecteren\n",
    "df_as = output.loc[output['Categorie'] == 'Aangrenzend Secundair']\n",
    "df_gas = df_as.groupby(['Gemeente']).sum()[['2013   AANT','2014   AANT','2015   AANT','2016   AANT','2017   AANT']]\n",
    "df_gas"
   ]
  },
  {
   "cell_type": "code",
   "execution_count": null,
   "metadata": {
    "collapsed": true
   },
   "outputs": [],
   "source": [
    "df_gas.plot.bar(figsize=(20,8.0),title='Aantal MBO 4 Afgestudeerden - Aangrenzend Secundair')"
   ]
  },
  {
   "cell_type": "markdown",
   "metadata": {},
   "source": [
    "# JH - 1F. Visualisatie \"Meerdere\""
   ]
  },
  {
   "cell_type": "code",
   "execution_count": null,
   "metadata": {
    "collapsed": true
   },
   "outputs": [],
   "source": [
    "#dataframe om alle gediplomeerden in Categorie \"Meerdere\" te selecteren\n",
    "df_me = output.loc[output['Categorie'] == 'Meerdere']\n",
    "df_gme = df_me.groupby(['Gemeente']).sum()[['2013   AANT','2014   AANT','2015   AANT','2016   AANT','2017   AANT']]\n",
    "df_me"
   ]
  },
  {
   "cell_type": "code",
   "execution_count": null,
   "metadata": {
    "collapsed": true
   },
   "outputs": [],
   "source": [
    "df_gme.plot.bar(figsize=(20,8.0),title='Aantal MBO 4 Afgestudeerden - Aangrenzend Secundair')"
   ]
  },
  {
   "cell_type": "markdown",
   "metadata": {},
   "source": [
    "# 2. Visualisatie \"MBO Sector\" in absolute aantallen"
   ]
  },
  {
   "cell_type": "code",
   "execution_count": null,
   "metadata": {
    "collapsed": true
   },
   "outputs": [],
   "source": [
    "df_sector = df.groupby(['MBO SECTOR']).sum()[['2013   AANT','2014   AANT','2015   AANT','2016   AANT','2017   AANT']]\n",
    "df_sector"
   ]
  },
  {
   "cell_type": "code",
   "execution_count": null,
   "metadata": {
    "collapsed": true
   },
   "outputs": [],
   "source": [
    "df_sector.plot.bar(figsize=(20,8.0),title='Aantal MBO 4 Afgestudeerden - per MBO Sector')"
   ]
  },
  {
   "cell_type": "code",
   "execution_count": null,
   "metadata": {
    "collapsed": true
   },
   "outputs": [],
   "source": [
    "#output_notebook()\n",
    "\n",
    "#Kolommen zijn de kolommen uit de df_totaalSBB dataframe. Dit gaat dan om 2013 AANT etc. Dit is voor de eerste groepering. \n",
    "kolommen = list(df_totaalSBB)\n",
    "\n",
    "#Sectoren haalt alle unieke waardes uit het dataframe voor de kolom SECTORUNIT SBB.\n",
    "sectoren = list(df['SECTORUNIT SBB'].unique())\n",
    "\n",
    "#Voeg per kolom alle sectoren toe. Dit wordt dan de data voor de x-as. \n",
    "#Kolom is bijvoorbeeld 2013 AANT en hier worden vervolgens alle sectoren aan toegevoegd.\n",
    "x = [ (kolom, sector) for kolom in kolommen for sector in sectoren ]\n",
    "\n",
    "#Data voor de y-as\n",
    "#Data doorlopen om de totalen op de juiste volgorde in een array te plaatsen.\n",
    "#Zelfde volgorde zoals hierboven staat voor de gegevens voor de x-as\n",
    "\n",
    "counts = []\n",
    "\n",
    "for kolom in kolommen:\n",
    "    for sector in sectoren:\n",
    "        counts.append(df_totaalSBB.loc[sector][kolom])\n",
    "        \n",
    "#Teken grafiek\n",
    "source = ColumnDataSource(data=dict(x=x, counts=counts))\n",
    "\n",
    "p = figure(x_range=FactorRange(*x), plot_height=400, title=\"Totalen per SBB sector per jaar\")\n",
    "\n",
    "p.vbar(x='x', top='counts', width=0.8, source=source)\n",
    "\n",
    "p.width=900\n",
    "p.y_range.start = 0\n",
    "p.x_range.range_padding = 0.1\n",
    "p.xaxis.major_label_orientation = 1\n",
    "p.xgrid.grid_line_color = None\n",
    "\n",
    "show(p)"
   ]
  },
  {
   "cell_type": "code",
   "execution_count": null,
   "metadata": {
    "collapsed": true
   },
   "outputs": [],
   "source": [
    "#Kolommen zijn de kolommen uit de df_totaalSBB dataframe. Dit gaat dan om 2013 AANT etc. Dit is voor de eerste groepering. \n",
    "kolommen_zwolle = list(df_aantal_zwolle)\n",
    "\n",
    "#Sectoren haalt alle unieke waardes uit het dataframe voor de kolom SECTORUNIT SBB.\n",
    "locaties_zwolle = list(df_locatie_zwolle['Locatie'].unique())\n",
    "\n",
    "#Voeg per kolom alle sectoren toe. Dit wordt dan de data voor de x-as. \n",
    "#Kolom is bijvoorbeeld 2013 AANT en hier worden vervolgens alle sectoren aan toegevoegd.\n",
    "x = [ (kolom, locatie) for kolom in kolommen_zwolle for locatie in locaties_zwolle ]\n",
    "\n",
    "#Data voor de y-as\n",
    "#Data doorlopen om de totalen op de juiste volgorde in een array te plaatsen.\n",
    "#Zelfde volgorde zoals hierboven staat voor de gegevens voor de x-as\n",
    "\n",
    "counts = []\n",
    "\n",
    "for kolom in kolommen_zwolle:\n",
    "    for locatie in locaties_zwolle:\n",
    "        counts.append(df_aantal_zwolle.loc[locatie][kolom])\n",
    "\n",
    "#Teken grafiek\n",
    "source = ColumnDataSource(data=dict(x=x, counts=counts))\n",
    "\n",
    "az = figure(x_range=FactorRange(*x), plot_height=400, title=\"Aantal MBO Afgestudeerden Regio Zwolle\")\n",
    "\n",
    "az.vbar(x='x', top='counts', width=0.8, source=source)\n",
    "\n",
    "az.width=900\n",
    "az.y_range.start = 0\n",
    "az.x_range.range_padding = 0.1\n",
    "az.xaxis.major_label_orientation = 1\n",
    "az.xgrid.grid_line_color = None\n",
    "\n",
    "\n",
    "#update functie om nieuwe data(selecties) weer te geven, doet nu niets...\n",
    "#def update():\n",
    "\n",
    "#callback om updates elke 100ms op te halen\n",
    "#doc.add_periodic_callback(update, 100)\n",
    "\n",
    "show(az)"
   ]
  },
  {
   "cell_type": "code",
   "execution_count": null,
   "metadata": {
    "collapsed": true
   },
   "outputs": [],
   "source": [
    "#from bokeh.palettes import Spectral6\n",
    "\n",
    "#Kolommen zijn de kolommen uit de df_totaalSBB dataframe. Dit gaat dan om 2013 AANT etc. Dit is voor de eerste groepering. \n",
    "#kolommen = list(df_totaalSBB)\n",
    "\n",
    "#Sectoren haalt alle unieke waardes uit het dataframe voor de kolom SECTORUNIT SBB.\n",
    "#sectoren = df['SECTORUNIT SBB'].unique()\n",
    "#sectorenMultiplied = []\n",
    "\n",
    "#Voeg per kolom alle sectoren toe. Dit wordt dan de data voor de x-as. \n",
    "#Kolom is bijvoorbeeld 2013 AANT en hier worden vervolgens alle sectoren aan toegevoegd.\n",
    "#x = [ (sector, kolom) for sector in sectoren for kolom in kolommen ]\n",
    "\n",
    "#Data voor de y-as\n",
    "#Data doorlopen om de totalen op de juiste volgorde in een array te plaatsen.\n",
    "#Zelfde volgorde zoals hierboven staat voor de gegevens voor de x-as\n",
    "\n",
    "#counts = []\n",
    "\n",
    "#for sector in sectoren:\n",
    "#    for kolom in kolommen:\n",
    "#        counts.append(df_totaalSBB.loc[sector][kolom])\n",
    "\n",
    "#cyl_cmap = factor_cmap('cyl', palette=Spectral5, factors=sorted(df.cyl.unique())\n",
    "#Teken grafiek\n",
    "#source = ColumnDataSource(data=dict(x=x, counts=counts, sectoren=sectorenMultiplied, color=Spectral6))\n",
    "#p = figure(x_range=FactorRange(*x), plot_height=400, title=\"Totalen per SBB sector per jaar\")\n",
    "#p.vbar(x='x', top='counts', width=0.8, legend='sectoren', color='color', source=source)\n",
    "\n",
    "#p.width=1000\n",
    "#p.y_range.start = 0\n",
    "#p.x_range.range_padding = 0.1\n",
    "#p.xaxis.major_label_orientation = 'vertical'\n",
    "#p.xgrid.grid_line_color = None\n",
    "\n",
    "#p.legend.orientation = \"horizontal\"\n",
    "#p.legend.location = \"top_center\"\n",
    "\n",
    "#p.xaxis[0].group_text_font_size = '0pt'\n",
    "#show(p)"
   ]
  },
  {
   "cell_type": "code",
   "execution_count": null,
   "metadata": {
    "collapsed": true
   },
   "outputs": [],
   "source": [
    "# voorbeeld data, laad in om werking te zien! Wel even de volgende paragraaf skippen...\n",
    "\n",
    "import random\n",
    "\n",
    "def make_document(doc):\n",
    "    source = ColumnDataSource({'x': [], 'y': [], 'color': []})\n",
    "\n",
    "    def update():\n",
    "        new = {'x': [random.random()],\n",
    "               'y': [random.random()],\n",
    "               'color': [random.choice(['red', 'blue', 'green'])]}\n",
    "        source.stream(new)\n",
    "\n",
    "    doc.add_periodic_callback(update, 100)\n",
    "\n",
    "    fig = figure(title='Streaming Circle Plot!', sizing_mode='scale_width',\n",
    "                 x_range=[0, 1], y_range=[0, 1])\n",
    "    fig.circle(source=source, x='x', y='y', color='color', size=10)\n",
    "\n",
    "    doc.title = \"Now with live updating!\"\n",
    "    doc.add_root(fig)"
   ]
  },
  {
   "cell_type": "code",
   "execution_count": null,
   "metadata": {
    "collapsed": true
   },
   "outputs": [],
   "source": [
    "# maak document, met daarin grafiek. Hier zullen (uiteindelijk) meerdere grafieken moeten worden \n",
    "# weergegeven met meerdere opties.\n",
    "\n",
    "def make_document(doc):\n",
    "    #Kolommen zijn de kolommen uit de df_totaalSBB dataframe. Dit gaat dan om 2013 AANT etc. Dit is voor de eerste groepering. \n",
    "    kolommen = list(df_totaalSBB)\n",
    "\n",
    "    #Sectoren haalt alle unieke waardes uit het dataframe voor de kolom SECTORUNIT SBB.\n",
    "    sectoren = list(df['SECTORUNIT SBB'].unique())\n",
    "\n",
    "    #Voeg per kolom alle sectoren toe. Dit wordt dan de data voor de x-as. \n",
    "    #Kolom is bijvoorbeeld 2013 AANT en hier worden vervolgens alle sectoren aan toegevoegd.\n",
    "    x = [ (kolom, sector) for kolom in kolommen for sector in sectoren ]\n",
    "\n",
    "    #Data voor de y-as\n",
    "    #Data doorlopen om de totalen op de juiste volgorde in een array te plaatsen.\n",
    "    #Zelfde volgorde zoals hierboven staat voor de gegevens voor de x-as\n",
    "\n",
    "    counts = []\n",
    "\n",
    "    for kolom in kolommen:\n",
    "        for sector in sectoren:\n",
    "            counts.append(df_totaalSBB.loc[sector][kolom])\n",
    "\n",
    "    #Teken grafiek\n",
    "    source = ColumnDataSource(data=dict(x=x, counts=counts))\n",
    "\n",
    "    p = figure(x_range=FactorRange(*x), plot_height=400, title=\"Totalen per SBB sector per jaar\")\n",
    "\n",
    "    p.vbar(x='x', top='counts', width=0.8, source=source)\n",
    "\n",
    "    p.width=900\n",
    "    p.y_range.start = 0\n",
    "    p.x_range.range_padding = 0.1\n",
    "    p.xaxis.major_label_orientation = 1\n",
    "    p.xgrid.grid_line_color = None\n",
    "\n",
    "\n",
    "    #update functie om nieuwe data(selecties) weer te geven\n",
    "    def updateSBB(attr, old, new):\n",
    "        kolommen = [jaren.labels[i] for i in jaren.active]\n",
    "        x = [ (kolom, sector) for kolom in kolommen for sector in sectoren ]\n",
    "\n",
    "        counts = []\n",
    "\n",
    "        for kolom in kolommen:\n",
    "            for sector in sectoren:\n",
    "                counts.append(df_totaalSBB.loc[sector][kolom])\n",
    "\n",
    "        newSource = ColumnDataSource(data=dict(x=x, counts=counts))\n",
    "        source.data.update(newSource.data)\n",
    "    \n",
    "    \n",
    "    jaren = CheckboxGroup(labels=kolommen, active = [0, 1, 2, 3 ,4])\n",
    "    jaren.on_change('active', updateSBB)\n",
    "\n",
    "    layout = row(p, jaren)\n",
    "\n",
    "    #callback om updates elke 100ms op te halen\n",
    "    #doc.add_periodic_callback(update, 100)\n",
    "\n",
    "    doc.title = \"Sectorunit SBB chart...\"\n",
    "    doc.add_root(layout)\n",
    "\n",
    "    # maak document, met daarin grafiek. Hier zullen (uiteindelijk) meerdere grafieken moeten worden \n",
    "    # weergegeven met meerdere opties.\n",
    "\n",
    "    #def aantal_zwolle(doc):\n",
    "\n",
    "        #Kolommen zijn de kolommen uit de df_totaalSBB dataframe. Dit gaat dan om 2013 AANT etc. Dit is voor de eerste groepering. \n",
    "        #kolommen_zwolle = list(df_aantal_zwolle)\n",
    "\n",
    "        #Sectoren haalt alle unieke waardes uit het dataframe voor de kolom SECTORUNIT SBB.\n",
    "        #locaties_zwolle = list(df_aantal_zwolle['Locatie'].unique())\n",
    "\n",
    "        #Voeg per kolom alle sectoren toe. Dit wordt dan de data voor de x-as. \n",
    "        #Kolom is bijvoorbeeld 2013 AANT en hier worden vervolgens alle sectoren aan toegevoegd.\n",
    "        #x = [ (kolom, locatie) for kolom in kolommen_zwolle for locatie in locaties_zwolle ]\n",
    "\n",
    "        #Data voor de y-as\n",
    "        #Data doorlopen om de totalen op de juiste volgorde in een array te plaatsen.\n",
    "        #Zelfde volgorde zoals hierboven staat voor de gegevens voor de x-as\n",
    "\n",
    "        #counts = []\n",
    "\n",
    "        #for kolom in kolommen_zwolle:\n",
    "        #   for locatie in locaties_zwolle:\n",
    "        #        counts.append(df_aantal_zwolle.loc[sector][kolom])\n",
    "\n",
    "        #Teken grafiek\n",
    "        #source = ColumnDataSource(data=dict(x=x, counts=counts))\n",
    "\n",
    "        #az = figure(x_range=FactorRange(*x), plot_height=400, title=\"Aantal MBO Afgestudeerden Regio Zwolle\")\n",
    "\n",
    "        #az.vbar(x='x', top='counts', width=0.8, source=source)\n",
    "\n",
    "        #az.width=900\n",
    "        #az.y_range.start = 0\n",
    "        #az.x_range.range_padding = 0.1\n",
    "        #az.xaxis.major_label_orientation = 1\n",
    "        #az.xgrid.grid_line_color = None\n",
    "   \n",
    "\n",
    "        #update functie om nieuwe data(selecties) weer te geven, doet nu niets...\n",
    "        #def update():\n",
    "\n",
    "        #callback om updates elke 100ms op te halen\n",
    "        #doc.add_periodic_callback(update, 100)\n",
    "        \n",
    "        \n",
    "        #doc.title = \"Tekst...\"\n",
    "        #doc.add_root(az)"
   ]
  },
  {
   "cell_type": "code",
   "execution_count": null,
   "metadata": {
    "collapsed": true
   },
   "outputs": [],
   "source": [
    "# starten van de webserver :)\n",
    "apps = {'/': Application(FunctionHandler(make_document))}\n",
    "\n",
    "server = Server(apps, port=5006, allow_websocket_origin=['localhost:5006','nm-interactive.net:5006'])\n",
    "server.start()"
   ]
  },
  {
   "cell_type": "code",
   "execution_count": null,
   "metadata": {
    "collapsed": true
   },
   "outputs": [],
   "source": [
    "# stoppen van de server :)\n",
    "server.stop()"
   ]
  },
  {
   "cell_type": "code",
   "execution_count": null,
   "metadata": {
    "collapsed": true
   },
   "outputs": [],
   "source": [
    "output_notebook()\n",
    "\n",
    "#Kolommen zijn de kolommen uit de df_totaalSBB dataframe. Dit gaat dan om 2013 AANT etc. Dit is voor de eerste groepering. \n",
    "kolommen = list(df_totaalSBB)\n",
    "\n",
    "#Sectoren haalt alle unieke waardes uit het dataframe voor de kolom SECTORUNIT SBB.\n",
    "sectoren = df['SECTORUNIT SBB'].unique()\n",
    "\n",
    "#Voeg per kolom alle sectoren toe. Dit wordt dan de data voor de x-as. \n",
    "#Kolom is bijvoorbeeld 2013 AANT en hier worden vervolgens alle sectoren aan toegevoegd.\n",
    "x = [ (kolom, sector) for kolom in kolommen for sector in sectoren ]\n",
    "\n",
    "#Data voor de y-as\n",
    "#Data doorlopen om de totalen op de juiste volgorde in een array te plaatsen.\n",
    "#Zelfde volgorde zoals hierboven staat voor de gegevens voor de x-as\n",
    "\n",
    "counts = []\n",
    "\n",
    "for kolom in kolommen:\n",
    "    for sector in sectoren:\n",
    "        counts.append(df_totaalSBB.loc[sector][kolom])\n",
    "        \n",
    "\n",
    "source = ColumnDataSource(data=dict(x=x, counts=counts))\n",
    "\n",
    "#Teken grafiek\n",
    "p = figure(x_range=FactorRange(*x), plot_height=400, title=\"Totalen per SBB sector per jaar\")\n",
    "\n",
    "p.vbar(x='x', top='counts', width=0.8, source=source)\n",
    "\n",
    "p.width=900\n",
    "p.y_range.start = 0\n",
    "p.x_range.range_padding = 0.1\n",
    "p.xaxis.major_label_orientation = 1\n",
    "p.xgrid.grid_line_color = None\n",
    "\n",
    "show(p)"
   ]
  },
  {
   "cell_type": "code",
   "execution_count": null,
   "metadata": {
    "collapsed": true
   },
   "outputs": [],
   "source": [
    "def updateSBB(attr, old, new):\n",
    "    kolommen = [jaren.labels[i] for i in jaren.active]\n",
    "    x = [ (kolom, sector) for kolom in kolommen for sector in sectoren ]\n",
    "   \n",
    "    counts = []\n",
    "    \n",
    "    for kolom in kolommen:\n",
    "        for sector in sectoren:\n",
    "            counts.append(df_totaalSBB.loc[sector][kolom])\n",
    "    \n",
    "    newSource = ColumnDataSource(data=dict(x=x, counts=counts))\n",
    "    source.data.update(newSource.data)"
   ]
  },
  {
   "cell_type": "code",
   "execution_count": null,
   "metadata": {
    "collapsed": true
   },
   "outputs": [],
   "source": [
    "output_file(\"slider.html\")\n",
    "jaren = CheckboxGroup(labels=kolommen, active = [0, 1, 2, 3 ,4])\n",
    "jaren.on_change('active', updateSBB)\n",
    "\n",
    "p1 = figure(plot_width=300, plot_height=300)\n",
    "p1.circle([1, 2, 3, 4, 5], [6, 7, 2, 4, 5], size=20, color=\"red\", alpha=0.5)\n",
    "\n",
    "testcheckbox = CheckboxGroup(labels=list(\"Test\"), active = [0, 1])\n",
    "                             \n",
    "layout = row(p, jaren)\n",
    "tab1 = Panel(child=layout, title=\"Aantal per SBB Sectorunit\")\n",
    "\n",
    "p2 = figure(plot_width=300, plot_height=300)\n",
    "p2.line([1, 2, 3, 4, 5], [6, 7, 2, 4, 5], line_width=3, color=\"red\", alpha=0.5)\n",
    "\n",
    "l2 = row(az)\n",
    "tab2 = Panel(child=l2, title=\"Aantal MBO 4 afgestudeerden Zwolle\")\n",
    "\n",
    "tabs = Tabs(tabs=[ tab1, tab2 ])\n",
    "\n",
    "show(tabs)"
   ]
  },
  {
   "cell_type": "code",
   "execution_count": null,
   "metadata": {
    "collapsed": true
   },
   "outputs": [],
   "source": [
    "def test():\n",
    "    print(\"test\")"
   ]
  },
  {
   "cell_type": "code",
   "execution_count": null,
   "metadata": {
    "collapsed": true
   },
   "outputs": [],
   "source": [
    "test()"
   ]
  },
  {
   "cell_type": "code",
   "execution_count": null,
   "metadata": {
    "collapsed": true
   },
   "outputs": [],
   "source": []
  }
 ],
 "metadata": {
  "kernelspec": {
   "display_name": "Python 3",
   "language": "python",
   "name": "python3"
  },
  "language_info": {
   "codemirror_mode": {
    "name": "ipython",
    "version": 3
   },
   "file_extension": ".py",
   "mimetype": "text/x-python",
   "name": "python",
   "nbconvert_exporter": "python",
   "pygments_lexer": "ipython3",
   "version": "3.6.3"
  }
 },
 "nbformat": 4,
 "nbformat_minor": 2
}
