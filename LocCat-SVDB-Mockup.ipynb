{
 "cells": [
  {
   "cell_type": "code",
   "execution_count": 1,
   "metadata": {},
   "outputs": [],
   "source": [
    "%config IPCompleter.greedy = True  \n",
    "%matplotlib inline\n",
    "\n",
    "import numpy as np\n",
    "import pandas as pd\n",
    "import matplotlib.pyplot as plt\n",
    "import seaborn as sns\n",
    "from sqlalchemy import create_engine\n",
    "\n",
    "from seaborn import countplot\n",
    "from matplotlib.pyplot import figure, show\n",
    "\n",
    "from bokeh.io import show, output_notebook\n",
    "from bokeh.models import ColumnDataSource\n",
    "from bokeh.plotting import figure\n",
    "from bokeh.models import FactorRange, ColumnDataSource, TableColumn, DataTable, CustomJS\n",
    "from bokeh.server.server import Server\n",
    "from bokeh.application import Application\n",
    "from bokeh.application.handlers.function import FunctionHandler\n",
    "\n",
    "from bokeh.models.widgets import Panel, Tabs, Select\n",
    "from bokeh.io import output_file, show\n",
    "from bokeh.plotting import figure\n",
    "from bokeh.models.widgets import CheckboxGroup\n",
    "from bokeh.layouts import column, row, WidgetBox  \n",
    "from bokeh.core.properties import value "
   ]
  },
  {
   "cell_type": "code",
   "execution_count": 2,
   "metadata": {},
   "outputs": [
    {
     "name": "stdout",
     "output_type": "stream",
     "text": [
      "<class 'pandas.core.frame.DataFrame'>\n",
      "RangeIndex: 169415 entries, 0 to 169414\n",
      "Data columns (total 14 columns):\n",
      "nr                    169415 non-null int64\n",
      "PC4_LEERL             169415 non-null int64\n",
      "KWALIFICATIENIVEAU    169415 non-null int64\n",
      "KWALIFICATIE CODE     169415 non-null int64\n",
      "KWALIFICATIE NAAM     169415 non-null object\n",
      "MBO SECTOR            169415 non-null object\n",
      "DOMEIN                169415 non-null object\n",
      "SECTORUNIT SBB        169415 non-null object\n",
      "GESLACHT              169415 non-null object\n",
      "2013   AANT           169415 non-null int64\n",
      "2014   AANT           169415 non-null int64\n",
      "2015   AANT           169415 non-null int64\n",
      "2016   AANT           169415 non-null int64\n",
      "2017   AANT           169415 non-null int64\n",
      "dtypes: int64(9), object(5)\n",
      "memory usage: 18.1+ MB\n",
      "<class 'pandas.core.frame.DataFrame'>\n",
      "RangeIndex: 44 entries, 0 to 43\n",
      "Data columns (total 6 columns):\n",
      "index            44 non-null int64\n",
      "PostcodeStart    44 non-null int64\n",
      "PostcodeEind     44 non-null int64\n",
      "Gemeente         44 non-null object\n",
      "Locatie          44 non-null object\n",
      "Categorie        44 non-null object\n",
      "dtypes: int64(3), object(3)\n",
      "memory usage: 2.1+ KB\n"
     ]
    }
   ],
   "source": [
    "host = \"mysql.nm-interactive.net\"\n",
    "port = 3306\n",
    "user = \"windesheim\"\n",
    "password = \"pMjq357Kdee7Sx8C\"\n",
    "database = \"windesheim\"\n",
    "client = \"mysql\"\n",
    "\n",
    "#Installeer eerst Mysqlcient in Anaconda Navigator\n",
    "engine = create_engine(\"{0}://{1}:{2}@{3}:{4}/{5}\".format(client, user, password, host, port, database))\n",
    "\n",
    "datasource = pd.read_sql_query(\"SELECT * FROM source WHERE KWALIFICATIENIVEAU = 4\",engine)\n",
    "wervingsgebieden = pd.read_sql_query(\"SELECT * FROM wervingsgebieden\",engine)\n",
    "datasource.info()\n",
    "wervingsgebieden.info()"
   ]
  },
  {
   "cell_type": "code",
   "execution_count": 3,
   "metadata": {},
   "outputs": [
    {
     "data": {
      "text/html": [
       "<div>\n",
       "<style scoped>\n",
       "    .dataframe tbody tr th:only-of-type {\n",
       "        vertical-align: middle;\n",
       "    }\n",
       "\n",
       "    .dataframe tbody tr th {\n",
       "        vertical-align: top;\n",
       "    }\n",
       "\n",
       "    .dataframe thead th {\n",
       "        text-align: right;\n",
       "    }\n",
       "</style>\n",
       "<table border=\"1\" class=\"dataframe\">\n",
       "  <thead>\n",
       "    <tr style=\"text-align: right;\">\n",
       "      <th></th>\n",
       "      <th>nr</th>\n",
       "      <th>PC4_LEERL</th>\n",
       "      <th>KWALIFICATIENIVEAU</th>\n",
       "      <th>KWALIFICATIE CODE</th>\n",
       "      <th>KWALIFICATIE NAAM</th>\n",
       "      <th>MBO SECTOR</th>\n",
       "      <th>DOMEIN</th>\n",
       "      <th>SECTORUNIT SBB</th>\n",
       "      <th>GESLACHT</th>\n",
       "      <th>2013   AANT</th>\n",
       "      <th>2014   AANT</th>\n",
       "      <th>2015   AANT</th>\n",
       "      <th>2016   AANT</th>\n",
       "      <th>2017   AANT</th>\n",
       "    </tr>\n",
       "  </thead>\n",
       "  <tbody>\n",
       "    <tr>\n",
       "      <th>0</th>\n",
       "      <td>1424</td>\n",
       "      <td>1011</td>\n",
       "      <td>4</td>\n",
       "      <td>10388</td>\n",
       "      <td>Horeca-ondernemer/-manager</td>\n",
       "      <td>economie</td>\n",
       "      <td>Horeca en bakkerij</td>\n",
       "      <td>Sectorunit voedsel, groen en gastvrijheid</td>\n",
       "      <td>M</td>\n",
       "      <td>1</td>\n",
       "      <td>0</td>\n",
       "      <td>0</td>\n",
       "      <td>0</td>\n",
       "      <td>0</td>\n",
       "    </tr>\n",
       "    <tr>\n",
       "      <th>1</th>\n",
       "      <td>1425</td>\n",
       "      <td>1011</td>\n",
       "      <td>4</td>\n",
       "      <td>10801</td>\n",
       "      <td>Restauratiemedewerker</td>\n",
       "      <td>techniek</td>\n",
       "      <td>Bouw en infra</td>\n",
       "      <td>Sectorunit techniek en gebouwde omgeving</td>\n",
       "      <td>M</td>\n",
       "      <td>1</td>\n",
       "      <td>0</td>\n",
       "      <td>0</td>\n",
       "      <td>0</td>\n",
       "      <td>0</td>\n",
       "    </tr>\n",
       "    <tr>\n",
       "      <th>2</th>\n",
       "      <td>1426</td>\n",
       "      <td>1011</td>\n",
       "      <td>4</td>\n",
       "      <td>90038</td>\n",
       "      <td>Artiest (Muziek)</td>\n",
       "      <td>techniek</td>\n",
       "      <td>Zorg en welzijn</td>\n",
       "      <td>Sectorunit creatieve industrie en ICT</td>\n",
       "      <td>M</td>\n",
       "      <td>0</td>\n",
       "      <td>0</td>\n",
       "      <td>0</td>\n",
       "      <td>2</td>\n",
       "      <td>0</td>\n",
       "    </tr>\n",
       "    <tr>\n",
       "      <th>3</th>\n",
       "      <td>1427</td>\n",
       "      <td>1011</td>\n",
       "      <td>4</td>\n",
       "      <td>90290</td>\n",
       "      <td>Ondernemer detailhandel</td>\n",
       "      <td>economie</td>\n",
       "      <td>Handel en ondernemerschap</td>\n",
       "      <td>Sectorunit handel</td>\n",
       "      <td>M</td>\n",
       "      <td>1</td>\n",
       "      <td>0</td>\n",
       "      <td>0</td>\n",
       "      <td>0</td>\n",
       "      <td>0</td>\n",
       "    </tr>\n",
       "    <tr>\n",
       "      <th>4</th>\n",
       "      <td>1428</td>\n",
       "      <td>1011</td>\n",
       "      <td>4</td>\n",
       "      <td>90301</td>\n",
       "      <td>Ondernemer horeca/bakkerij (Manager/ondernemer...</td>\n",
       "      <td>economie</td>\n",
       "      <td>Horeca en bakkerij</td>\n",
       "      <td>Sectorunit voedsel, groen en gastvrijheid</td>\n",
       "      <td>M</td>\n",
       "      <td>0</td>\n",
       "      <td>1</td>\n",
       "      <td>0</td>\n",
       "      <td>0</td>\n",
       "      <td>0</td>\n",
       "    </tr>\n",
       "  </tbody>\n",
       "</table>\n",
       "</div>"
      ],
      "text/plain": [
       "     nr  PC4_LEERL  KWALIFICATIENIVEAU  KWALIFICATIE CODE  \\\n",
       "0  1424       1011                   4              10388   \n",
       "1  1425       1011                   4              10801   \n",
       "2  1426       1011                   4              90038   \n",
       "3  1427       1011                   4              90290   \n",
       "4  1428       1011                   4              90301   \n",
       "\n",
       "                                   KWALIFICATIE NAAM MBO SECTOR  \\\n",
       "0                         Horeca-ondernemer/-manager   economie   \n",
       "1                              Restauratiemedewerker   techniek   \n",
       "2                                   Artiest (Muziek)   techniek   \n",
       "3                            Ondernemer detailhandel   economie   \n",
       "4  Ondernemer horeca/bakkerij (Manager/ondernemer...   economie   \n",
       "\n",
       "                      DOMEIN                             SECTORUNIT SBB  \\\n",
       "0         Horeca en bakkerij  Sectorunit voedsel, groen en gastvrijheid   \n",
       "1              Bouw en infra   Sectorunit techniek en gebouwde omgeving   \n",
       "2            Zorg en welzijn      Sectorunit creatieve industrie en ICT   \n",
       "3  Handel en ondernemerschap                          Sectorunit handel   \n",
       "4         Horeca en bakkerij  Sectorunit voedsel, groen en gastvrijheid   \n",
       "\n",
       "  GESLACHT  2013   AANT  2014   AANT  2015   AANT  2016   AANT  2017   AANT  \n",
       "0        M            1            0            0            0            0  \n",
       "1        M            1            0            0            0            0  \n",
       "2        M            0            0            0            2            0  \n",
       "3        M            1            0            0            0            0  \n",
       "4        M            0            1            0            0            0  "
      ]
     },
     "execution_count": 3,
     "metadata": {},
     "output_type": "execute_result"
    }
   ],
   "source": [
    "# Laat n records zien van de datasource\n",
    "datasource.head()"
   ]
  },
  {
   "cell_type": "code",
   "execution_count": 4,
   "metadata": {},
   "outputs": [
    {
     "data": {
      "text/plain": [
       "nr                     int64\n",
       "PC4_LEERL              int64\n",
       "KWALIFICATIENIVEAU     int64\n",
       "KWALIFICATIE CODE      int64\n",
       "KWALIFICATIE NAAM     object\n",
       "MBO SECTOR            object\n",
       "DOMEIN                object\n",
       "SECTORUNIT SBB        object\n",
       "GESLACHT              object\n",
       "2013   AANT            int64\n",
       "2014   AANT            int64\n",
       "2015   AANT            int64\n",
       "2016   AANT            int64\n",
       "2017   AANT            int64\n",
       "dtype: object"
      ]
     },
     "execution_count": 4,
     "metadata": {},
     "output_type": "execute_result"
    }
   ],
   "source": [
    "datasource.dtypes"
   ]
  },
  {
   "cell_type": "code",
   "execution_count": 5,
   "metadata": {},
   "outputs": [
    {
     "data": {
      "text/html": [
       "<div>\n",
       "<style scoped>\n",
       "    .dataframe tbody tr th:only-of-type {\n",
       "        vertical-align: middle;\n",
       "    }\n",
       "\n",
       "    .dataframe tbody tr th {\n",
       "        vertical-align: top;\n",
       "    }\n",
       "\n",
       "    .dataframe thead th {\n",
       "        text-align: right;\n",
       "    }\n",
       "</style>\n",
       "<table border=\"1\" class=\"dataframe\">\n",
       "  <thead>\n",
       "    <tr style=\"text-align: right;\">\n",
       "      <th></th>\n",
       "      <th>index</th>\n",
       "      <th>PostcodeStart</th>\n",
       "      <th>PostcodeEind</th>\n",
       "      <th>Gemeente</th>\n",
       "      <th>Locatie</th>\n",
       "      <th>Categorie</th>\n",
       "    </tr>\n",
       "  </thead>\n",
       "  <tbody>\n",
       "    <tr>\n",
       "      <th>0</th>\n",
       "      <td>0</td>\n",
       "      <td>7940</td>\n",
       "      <td>7999</td>\n",
       "      <td>Meppel</td>\n",
       "      <td>Zwolle</td>\n",
       "      <td>Thuismarkt</td>\n",
       "    </tr>\n",
       "    <tr>\n",
       "      <th>1</th>\n",
       "      <td>1</td>\n",
       "      <td>8000</td>\n",
       "      <td>8069</td>\n",
       "      <td>Zwolle</td>\n",
       "      <td>Zwolle</td>\n",
       "      <td>Thuismarkt</td>\n",
       "    </tr>\n",
       "    <tr>\n",
       "      <th>2</th>\n",
       "      <td>2</td>\n",
       "      <td>8070</td>\n",
       "      <td>8099</td>\n",
       "      <td>Nunspeet</td>\n",
       "      <td>Zwolle</td>\n",
       "      <td>Thuismarkt</td>\n",
       "    </tr>\n",
       "    <tr>\n",
       "      <th>3</th>\n",
       "      <td>3</td>\n",
       "      <td>8100</td>\n",
       "      <td>8159</td>\n",
       "      <td>Raalte</td>\n",
       "      <td>Zwolle</td>\n",
       "      <td>Thuismarkt</td>\n",
       "    </tr>\n",
       "    <tr>\n",
       "      <th>4</th>\n",
       "      <td>4</td>\n",
       "      <td>8160</td>\n",
       "      <td>8199</td>\n",
       "      <td>Epe</td>\n",
       "      <td>Zwolle</td>\n",
       "      <td>Thuismarkt</td>\n",
       "    </tr>\n",
       "  </tbody>\n",
       "</table>\n",
       "</div>"
      ],
      "text/plain": [
       "   index  PostcodeStart  PostcodeEind  Gemeente Locatie   Categorie\n",
       "0      0           7940          7999    Meppel  Zwolle  Thuismarkt\n",
       "1      1           8000          8069    Zwolle  Zwolle  Thuismarkt\n",
       "2      2           8070          8099  Nunspeet  Zwolle  Thuismarkt\n",
       "3      3           8100          8159    Raalte  Zwolle  Thuismarkt\n",
       "4      4           8160          8199       Epe  Zwolle  Thuismarkt"
      ]
     },
     "execution_count": 5,
     "metadata": {},
     "output_type": "execute_result"
    }
   ],
   "source": [
    "# Laat n records zien van de ingevoerde wervingsgebieden\n",
    "wervingsgebieden.head()"
   ]
  },
  {
   "cell_type": "code",
   "execution_count": 6,
   "metadata": {},
   "outputs": [
    {
     "data": {
      "text/plain": [
       "index             int64\n",
       "PostcodeStart     int64\n",
       "PostcodeEind      int64\n",
       "Gemeente         object\n",
       "Locatie          object\n",
       "Categorie        object\n",
       "dtype: object"
      ]
     },
     "execution_count": 6,
     "metadata": {},
     "output_type": "execute_result"
    }
   ],
   "source": [
    "wervingsgebieden.dtypes"
   ]
  },
  {
   "cell_type": "code",
   "execution_count": 7,
   "metadata": {},
   "outputs": [],
   "source": [
    "# tijdelijke dataframe - 1000 rows\n",
    "ds = datasource.sample(n=1000)\n"
   ]
  },
  {
   "cell_type": "code",
   "execution_count": 8,
   "metadata": {},
   "outputs": [],
   "source": [
    "# Functie voor het checken van de locatie en categorie, stukje sneller gemaakt ook.\n",
    "def check_locatie(PostCode):\n",
    "    test = wervingsgebieden.loc[(wervingsgebieden.PostcodeStart <= PostCode) & (wervingsgebieden.PostcodeEind >= PostCode), ['Locatie', 'Categorie']]\n",
    "    if test['Locatie'].empty:\n",
    "        r = pd.Series(['',''])\n",
    "    else:\n",
    "        r = pd.Series([test['Locatie'].iloc[0], test['Categorie'].iloc[0]])\n",
    "    return r\n",
    "\n",
    "#voeg kolommen toe aan datasource \n",
    "datasource[['Locatie', 'Categorie']] = datasource.apply(lambda row: check_locatie(row[\"PC4_LEERL\"]), axis=1)\n"
   ]
  },
  {
   "cell_type": "code",
   "execution_count": 9,
   "metadata": {},
   "outputs": [
    {
     "data": {
      "text/plain": [
       "array(['Aangrenzend Primair', '', 'Thuismarkt', 'Aangrenzend Secundair'],\n",
       "      dtype=object)"
      ]
     },
     "execution_count": 9,
     "metadata": {},
     "output_type": "execute_result"
    }
   ],
   "source": [
    "#Welke soorten zitten er in Locatie?\n",
    "datasource.Locatie.unique()\n",
    "\n",
    "#Welke soorten zitten in Categorie?\n",
    "datasource.Categorie.unique()"
   ]
  },
  {
   "cell_type": "code",
   "execution_count": 10,
   "metadata": {},
   "outputs": [
    {
     "data": {
      "text/html": [
       "<div>\n",
       "<style scoped>\n",
       "    .dataframe tbody tr th:only-of-type {\n",
       "        vertical-align: middle;\n",
       "    }\n",
       "\n",
       "    .dataframe tbody tr th {\n",
       "        vertical-align: top;\n",
       "    }\n",
       "\n",
       "    .dataframe thead th {\n",
       "        text-align: right;\n",
       "    }\n",
       "</style>\n",
       "<table border=\"1\" class=\"dataframe\">\n",
       "  <thead>\n",
       "    <tr style=\"text-align: right;\">\n",
       "      <th></th>\n",
       "      <th>nr</th>\n",
       "      <th>PC4_LEERL</th>\n",
       "      <th>KWALIFICATIENIVEAU</th>\n",
       "      <th>KWALIFICATIE CODE</th>\n",
       "      <th>KWALIFICATIE NAAM</th>\n",
       "      <th>MBO SECTOR</th>\n",
       "      <th>DOMEIN</th>\n",
       "      <th>SECTORUNIT SBB</th>\n",
       "      <th>GESLACHT</th>\n",
       "      <th>2013   AANT</th>\n",
       "      <th>2014   AANT</th>\n",
       "      <th>2015   AANT</th>\n",
       "      <th>2016   AANT</th>\n",
       "      <th>2017   AANT</th>\n",
       "      <th>Locatie</th>\n",
       "      <th>Categorie</th>\n",
       "    </tr>\n",
       "  </thead>\n",
       "  <tbody>\n",
       "    <tr>\n",
       "      <th>0</th>\n",
       "      <td>1424</td>\n",
       "      <td>1011</td>\n",
       "      <td>4</td>\n",
       "      <td>10388</td>\n",
       "      <td>Horeca-ondernemer/-manager</td>\n",
       "      <td>economie</td>\n",
       "      <td>Horeca en bakkerij</td>\n",
       "      <td>Sectorunit voedsel, groen en gastvrijheid</td>\n",
       "      <td>M</td>\n",
       "      <td>1</td>\n",
       "      <td>0</td>\n",
       "      <td>0</td>\n",
       "      <td>0</td>\n",
       "      <td>0</td>\n",
       "      <td>Flevoland</td>\n",
       "      <td>Aangrenzend Primair</td>\n",
       "    </tr>\n",
       "    <tr>\n",
       "      <th>1</th>\n",
       "      <td>1425</td>\n",
       "      <td>1011</td>\n",
       "      <td>4</td>\n",
       "      <td>10801</td>\n",
       "      <td>Restauratiemedewerker</td>\n",
       "      <td>techniek</td>\n",
       "      <td>Bouw en infra</td>\n",
       "      <td>Sectorunit techniek en gebouwde omgeving</td>\n",
       "      <td>M</td>\n",
       "      <td>1</td>\n",
       "      <td>0</td>\n",
       "      <td>0</td>\n",
       "      <td>0</td>\n",
       "      <td>0</td>\n",
       "      <td>Flevoland</td>\n",
       "      <td>Aangrenzend Primair</td>\n",
       "    </tr>\n",
       "    <tr>\n",
       "      <th>2</th>\n",
       "      <td>1426</td>\n",
       "      <td>1011</td>\n",
       "      <td>4</td>\n",
       "      <td>90038</td>\n",
       "      <td>Artiest (Muziek)</td>\n",
       "      <td>techniek</td>\n",
       "      <td>Zorg en welzijn</td>\n",
       "      <td>Sectorunit creatieve industrie en ICT</td>\n",
       "      <td>M</td>\n",
       "      <td>0</td>\n",
       "      <td>0</td>\n",
       "      <td>0</td>\n",
       "      <td>2</td>\n",
       "      <td>0</td>\n",
       "      <td>Flevoland</td>\n",
       "      <td>Aangrenzend Primair</td>\n",
       "    </tr>\n",
       "    <tr>\n",
       "      <th>3</th>\n",
       "      <td>1427</td>\n",
       "      <td>1011</td>\n",
       "      <td>4</td>\n",
       "      <td>90290</td>\n",
       "      <td>Ondernemer detailhandel</td>\n",
       "      <td>economie</td>\n",
       "      <td>Handel en ondernemerschap</td>\n",
       "      <td>Sectorunit handel</td>\n",
       "      <td>M</td>\n",
       "      <td>1</td>\n",
       "      <td>0</td>\n",
       "      <td>0</td>\n",
       "      <td>0</td>\n",
       "      <td>0</td>\n",
       "      <td>Flevoland</td>\n",
       "      <td>Aangrenzend Primair</td>\n",
       "    </tr>\n",
       "    <tr>\n",
       "      <th>4</th>\n",
       "      <td>1428</td>\n",
       "      <td>1011</td>\n",
       "      <td>4</td>\n",
       "      <td>90301</td>\n",
       "      <td>Ondernemer horeca/bakkerij (Manager/ondernemer...</td>\n",
       "      <td>economie</td>\n",
       "      <td>Horeca en bakkerij</td>\n",
       "      <td>Sectorunit voedsel, groen en gastvrijheid</td>\n",
       "      <td>M</td>\n",
       "      <td>0</td>\n",
       "      <td>1</td>\n",
       "      <td>0</td>\n",
       "      <td>0</td>\n",
       "      <td>0</td>\n",
       "      <td>Flevoland</td>\n",
       "      <td>Aangrenzend Primair</td>\n",
       "    </tr>\n",
       "  </tbody>\n",
       "</table>\n",
       "</div>"
      ],
      "text/plain": [
       "     nr  PC4_LEERL  KWALIFICATIENIVEAU  KWALIFICATIE CODE  \\\n",
       "0  1424       1011                   4              10388   \n",
       "1  1425       1011                   4              10801   \n",
       "2  1426       1011                   4              90038   \n",
       "3  1427       1011                   4              90290   \n",
       "4  1428       1011                   4              90301   \n",
       "\n",
       "                                   KWALIFICATIE NAAM MBO SECTOR  \\\n",
       "0                         Horeca-ondernemer/-manager   economie   \n",
       "1                              Restauratiemedewerker   techniek   \n",
       "2                                   Artiest (Muziek)   techniek   \n",
       "3                            Ondernemer detailhandel   economie   \n",
       "4  Ondernemer horeca/bakkerij (Manager/ondernemer...   economie   \n",
       "\n",
       "                      DOMEIN                             SECTORUNIT SBB  \\\n",
       "0         Horeca en bakkerij  Sectorunit voedsel, groen en gastvrijheid   \n",
       "1              Bouw en infra   Sectorunit techniek en gebouwde omgeving   \n",
       "2            Zorg en welzijn      Sectorunit creatieve industrie en ICT   \n",
       "3  Handel en ondernemerschap                          Sectorunit handel   \n",
       "4         Horeca en bakkerij  Sectorunit voedsel, groen en gastvrijheid   \n",
       "\n",
       "  GESLACHT  2013   AANT  2014   AANT  2015   AANT  2016   AANT  2017   AANT  \\\n",
       "0        M            1            0            0            0            0   \n",
       "1        M            1            0            0            0            0   \n",
       "2        M            0            0            0            2            0   \n",
       "3        M            1            0            0            0            0   \n",
       "4        M            0            1            0            0            0   \n",
       "\n",
       "     Locatie            Categorie  \n",
       "0  Flevoland  Aangrenzend Primair  \n",
       "1  Flevoland  Aangrenzend Primair  \n",
       "2  Flevoland  Aangrenzend Primair  \n",
       "3  Flevoland  Aangrenzend Primair  \n",
       "4  Flevoland  Aangrenzend Primair  "
      ]
     },
     "execution_count": 10,
     "metadata": {},
     "output_type": "execute_result"
    }
   ],
   "source": [
    "datasource.head()"
   ]
  },
  {
   "cell_type": "markdown",
   "metadata": {},
   "source": [
    "# 1. Data-Melter\n",
    "\n",
    "Een punt van aandacht is het feit dat de data niet (mooi) allemaal in gelijke kolommen zitten. Zo zijn bijvoorbeeld de jaargegevens over diverse kolommen verdeeld. Om hiermee goed te kunnen werken, dient deze data onder elkaar te worden gezet."
   ]
  },
  {
   "cell_type": "code",
   "execution_count": 11,
   "metadata": {},
   "outputs": [],
   "source": [
    "# Originele dataset behouden, in kopie werken:\n",
    "dsc = datasource.copy()"
   ]
  },
  {
   "cell_type": "code",
   "execution_count": 12,
   "metadata": {},
   "outputs": [
    {
     "data": {
      "text/plain": [
       "['2013   AANT', '2014   AANT', '2015   AANT', '2016   AANT', '2017   AANT']"
      ]
     },
     "execution_count": 12,
     "metadata": {},
     "output_type": "execute_result"
    }
   ],
   "source": [
    "# Verkrijg alle 'Jaartal' kolommen (de kolommen die ge-melt dienen te worden)\n",
    "jaarCols = [col for col in dsc.columns if 'AANT' in col]\n",
    "jaarCols"
   ]
  },
  {
   "cell_type": "code",
   "execution_count": 13,
   "metadata": {},
   "outputs": [
    {
     "data": {
      "text/plain": [
       "['nr',\n",
       " 'PC4_LEERL',\n",
       " 'KWALIFICATIENIVEAU',\n",
       " 'KWALIFICATIE CODE',\n",
       " 'KWALIFICATIE NAAM',\n",
       " 'MBO SECTOR',\n",
       " 'DOMEIN',\n",
       " 'SECTORUNIT SBB',\n",
       " 'GESLACHT',\n",
       " 'Locatie',\n",
       " 'Categorie']"
      ]
     },
     "execution_count": 13,
     "metadata": {},
     "output_type": "execute_result"
    }
   ],
   "source": [
    "# Wat zijn dan de id vars? (kolommen die gelijk moeten blijven)\n",
    "otherCols = [col for col in dsc.columns if not 'AANT' in col]\n",
    "otherCols"
   ]
  },
  {
   "cell_type": "code",
   "execution_count": 14,
   "metadata": {},
   "outputs": [
    {
     "data": {
      "text/plain": [
       "['2013', '2014', '2015', '2016', '2017']"
      ]
     },
     "execution_count": 14,
     "metadata": {},
     "output_type": "execute_result"
    }
   ],
   "source": [
    "# Verander de jaartalkolomnamen naar pure jaartallen (gebruik alleen eerste 4 karakters van kolomnaam)\n",
    "jaarCleanCols = [str(x)[:4] for x in jaarCols]\n",
    "jaarCleanCols"
   ]
  },
  {
   "cell_type": "code",
   "execution_count": 15,
   "metadata": {},
   "outputs": [
    {
     "data": {
      "text/plain": [
       "{'2013   AANT': '2013',\n",
       " '2014   AANT': '2014',\n",
       " '2015   AANT': '2015',\n",
       " '2016   AANT': '2016',\n",
       " '2017   AANT': '2017'}"
      ]
     },
     "execution_count": 15,
     "metadata": {},
     "output_type": "execute_result"
    }
   ],
   "source": [
    "# Maak een dictionary voor de rename functie\n",
    "jaarDict = dict(zip(jaarCols, jaarCleanCols))\n",
    "jaarDict"
   ]
  },
  {
   "cell_type": "code",
   "execution_count": 16,
   "metadata": {},
   "outputs": [],
   "source": [
    "# Rename de betreffende colommen\n",
    "dsc = dsc.rename(columns=jaarDict)"
   ]
  },
  {
   "cell_type": "code",
   "execution_count": 17,
   "metadata": {},
   "outputs": [],
   "source": [
    "# Voer werkelijke melt uit\n",
    "dscMelt = pd.melt(dsc, id_vars=otherCols, var_name=\"Jaar\", value_name=\"Aantal\")"
   ]
  },
  {
   "cell_type": "code",
   "execution_count": 18,
   "metadata": {},
   "outputs": [
    {
     "data": {
      "text/html": [
       "<div>\n",
       "<style scoped>\n",
       "    .dataframe tbody tr th:only-of-type {\n",
       "        vertical-align: middle;\n",
       "    }\n",
       "\n",
       "    .dataframe tbody tr th {\n",
       "        vertical-align: top;\n",
       "    }\n",
       "\n",
       "    .dataframe thead th {\n",
       "        text-align: right;\n",
       "    }\n",
       "</style>\n",
       "<table border=\"1\" class=\"dataframe\">\n",
       "  <thead>\n",
       "    <tr style=\"text-align: right;\">\n",
       "      <th></th>\n",
       "      <th>nr</th>\n",
       "      <th>PC4_LEERL</th>\n",
       "      <th>KWALIFICATIENIVEAU</th>\n",
       "      <th>KWALIFICATIE CODE</th>\n",
       "      <th>KWALIFICATIE NAAM</th>\n",
       "      <th>MBO SECTOR</th>\n",
       "      <th>DOMEIN</th>\n",
       "      <th>SECTORUNIT SBB</th>\n",
       "      <th>GESLACHT</th>\n",
       "      <th>Locatie</th>\n",
       "      <th>Categorie</th>\n",
       "      <th>Jaar</th>\n",
       "      <th>Aantal</th>\n",
       "    </tr>\n",
       "  </thead>\n",
       "  <tbody>\n",
       "    <tr>\n",
       "      <th>0</th>\n",
       "      <td>1424</td>\n",
       "      <td>1011</td>\n",
       "      <td>4</td>\n",
       "      <td>10388</td>\n",
       "      <td>Horeca-ondernemer/-manager</td>\n",
       "      <td>economie</td>\n",
       "      <td>Horeca en bakkerij</td>\n",
       "      <td>Sectorunit voedsel, groen en gastvrijheid</td>\n",
       "      <td>M</td>\n",
       "      <td>Flevoland</td>\n",
       "      <td>Aangrenzend Primair</td>\n",
       "      <td>2013</td>\n",
       "      <td>1</td>\n",
       "    </tr>\n",
       "    <tr>\n",
       "      <th>1</th>\n",
       "      <td>1425</td>\n",
       "      <td>1011</td>\n",
       "      <td>4</td>\n",
       "      <td>10801</td>\n",
       "      <td>Restauratiemedewerker</td>\n",
       "      <td>techniek</td>\n",
       "      <td>Bouw en infra</td>\n",
       "      <td>Sectorunit techniek en gebouwde omgeving</td>\n",
       "      <td>M</td>\n",
       "      <td>Flevoland</td>\n",
       "      <td>Aangrenzend Primair</td>\n",
       "      <td>2013</td>\n",
       "      <td>1</td>\n",
       "    </tr>\n",
       "    <tr>\n",
       "      <th>2</th>\n",
       "      <td>1426</td>\n",
       "      <td>1011</td>\n",
       "      <td>4</td>\n",
       "      <td>90038</td>\n",
       "      <td>Artiest (Muziek)</td>\n",
       "      <td>techniek</td>\n",
       "      <td>Zorg en welzijn</td>\n",
       "      <td>Sectorunit creatieve industrie en ICT</td>\n",
       "      <td>M</td>\n",
       "      <td>Flevoland</td>\n",
       "      <td>Aangrenzend Primair</td>\n",
       "      <td>2013</td>\n",
       "      <td>0</td>\n",
       "    </tr>\n",
       "    <tr>\n",
       "      <th>3</th>\n",
       "      <td>1427</td>\n",
       "      <td>1011</td>\n",
       "      <td>4</td>\n",
       "      <td>90290</td>\n",
       "      <td>Ondernemer detailhandel</td>\n",
       "      <td>economie</td>\n",
       "      <td>Handel en ondernemerschap</td>\n",
       "      <td>Sectorunit handel</td>\n",
       "      <td>M</td>\n",
       "      <td>Flevoland</td>\n",
       "      <td>Aangrenzend Primair</td>\n",
       "      <td>2013</td>\n",
       "      <td>1</td>\n",
       "    </tr>\n",
       "    <tr>\n",
       "      <th>4</th>\n",
       "      <td>1428</td>\n",
       "      <td>1011</td>\n",
       "      <td>4</td>\n",
       "      <td>90301</td>\n",
       "      <td>Ondernemer horeca/bakkerij (Manager/ondernemer...</td>\n",
       "      <td>economie</td>\n",
       "      <td>Horeca en bakkerij</td>\n",
       "      <td>Sectorunit voedsel, groen en gastvrijheid</td>\n",
       "      <td>M</td>\n",
       "      <td>Flevoland</td>\n",
       "      <td>Aangrenzend Primair</td>\n",
       "      <td>2013</td>\n",
       "      <td>0</td>\n",
       "    </tr>\n",
       "  </tbody>\n",
       "</table>\n",
       "</div>"
      ],
      "text/plain": [
       "     nr  PC4_LEERL  KWALIFICATIENIVEAU  KWALIFICATIE CODE  \\\n",
       "0  1424       1011                   4              10388   \n",
       "1  1425       1011                   4              10801   \n",
       "2  1426       1011                   4              90038   \n",
       "3  1427       1011                   4              90290   \n",
       "4  1428       1011                   4              90301   \n",
       "\n",
       "                                   KWALIFICATIE NAAM MBO SECTOR  \\\n",
       "0                         Horeca-ondernemer/-manager   economie   \n",
       "1                              Restauratiemedewerker   techniek   \n",
       "2                                   Artiest (Muziek)   techniek   \n",
       "3                            Ondernemer detailhandel   economie   \n",
       "4  Ondernemer horeca/bakkerij (Manager/ondernemer...   economie   \n",
       "\n",
       "                      DOMEIN                             SECTORUNIT SBB  \\\n",
       "0         Horeca en bakkerij  Sectorunit voedsel, groen en gastvrijheid   \n",
       "1              Bouw en infra   Sectorunit techniek en gebouwde omgeving   \n",
       "2            Zorg en welzijn      Sectorunit creatieve industrie en ICT   \n",
       "3  Handel en ondernemerschap                          Sectorunit handel   \n",
       "4         Horeca en bakkerij  Sectorunit voedsel, groen en gastvrijheid   \n",
       "\n",
       "  GESLACHT    Locatie            Categorie  Jaar  Aantal  \n",
       "0        M  Flevoland  Aangrenzend Primair  2013       1  \n",
       "1        M  Flevoland  Aangrenzend Primair  2013       1  \n",
       "2        M  Flevoland  Aangrenzend Primair  2013       0  \n",
       "3        M  Flevoland  Aangrenzend Primair  2013       1  \n",
       "4        M  Flevoland  Aangrenzend Primair  2013       0  "
      ]
     },
     "execution_count": 18,
     "metadata": {},
     "output_type": "execute_result"
    }
   ],
   "source": [
    "dscMelt.head()"
   ]
  },
  {
   "cell_type": "code",
   "execution_count": 19,
   "metadata": {},
   "outputs": [
    {
     "data": {
      "text/plain": [
       "array(['2013', '2014', '2015', '2016', '2017'], dtype=object)"
      ]
     },
     "execution_count": 19,
     "metadata": {},
     "output_type": "execute_result"
    }
   ],
   "source": [
    "dscMelt['Jaar'].unique()"
   ]
  },
  {
   "cell_type": "code",
   "execution_count": 20,
   "metadata": {},
   "outputs": [
    {
     "name": "stdout",
     "output_type": "stream",
     "text": [
      "<class 'pandas.core.frame.DataFrame'>\n",
      "RangeIndex: 847075 entries, 0 to 847074\n",
      "Data columns (total 13 columns):\n",
      "nr                    847075 non-null int64\n",
      "PC4_LEERL             847075 non-null int64\n",
      "KWALIFICATIENIVEAU    847075 non-null int64\n",
      "KWALIFICATIE CODE     847075 non-null int64\n",
      "KWALIFICATIE NAAM     847075 non-null object\n",
      "MBO SECTOR            847075 non-null object\n",
      "DOMEIN                847075 non-null object\n",
      "SECTORUNIT SBB        847075 non-null object\n",
      "GESLACHT              847075 non-null object\n",
      "Locatie               847075 non-null object\n",
      "Categorie             847075 non-null object\n",
      "Jaar                  847075 non-null object\n",
      "Aantal                847075 non-null int64\n",
      "dtypes: int64(5), object(8)\n",
      "memory usage: 84.0+ MB\n"
     ]
    }
   ],
   "source": [
    "dscMelt.info()"
   ]
  },
  {
   "cell_type": "markdown",
   "metadata": {},
   "source": [
    "# 2. Voorbeeld in Bokeh:\n",
    "\n",
    "Poging een voorbeeld te maken in Bokeh"
   ]
  },
  {
   "cell_type": "code",
   "execution_count": 21,
   "metadata": {},
   "outputs": [
    {
     "data": {
      "text/html": [
       "<div>\n",
       "<style scoped>\n",
       "    .dataframe tbody tr th:only-of-type {\n",
       "        vertical-align: middle;\n",
       "    }\n",
       "\n",
       "    .dataframe tbody tr th {\n",
       "        vertical-align: top;\n",
       "    }\n",
       "\n",
       "    .dataframe thead th {\n",
       "        text-align: right;\n",
       "    }\n",
       "</style>\n",
       "<table border=\"1\" class=\"dataframe\">\n",
       "  <thead>\n",
       "    <tr style=\"text-align: right;\">\n",
       "      <th></th>\n",
       "      <th></th>\n",
       "      <th>Aantal</th>\n",
       "    </tr>\n",
       "    <tr>\n",
       "      <th>SECTORUNIT SBB</th>\n",
       "      <th>Jaar</th>\n",
       "      <th></th>\n",
       "    </tr>\n",
       "  </thead>\n",
       "  <tbody>\n",
       "    <tr>\n",
       "      <th rowspan=\"5\" valign=\"top\">Bovensectoraal</th>\n",
       "      <th>2013</th>\n",
       "      <td>369</td>\n",
       "    </tr>\n",
       "    <tr>\n",
       "      <th>2014</th>\n",
       "      <td>517</td>\n",
       "    </tr>\n",
       "    <tr>\n",
       "      <th>2015</th>\n",
       "      <td>433</td>\n",
       "    </tr>\n",
       "    <tr>\n",
       "      <th>2016</th>\n",
       "      <td>306</td>\n",
       "    </tr>\n",
       "    <tr>\n",
       "      <th>2017</th>\n",
       "      <td>562</td>\n",
       "    </tr>\n",
       "  </tbody>\n",
       "</table>\n",
       "</div>"
      ],
      "text/plain": [
       "                     Aantal\n",
       "SECTORUNIT SBB Jaar        \n",
       "Bovensectoraal 2013     369\n",
       "               2014     517\n",
       "               2015     433\n",
       "               2016     306\n",
       "               2017     562"
      ]
     },
     "execution_count": 21,
     "metadata": {},
     "output_type": "execute_result"
    }
   ],
   "source": [
    "# maak document, met daarin grafiek. Hier zullen (uiteindelijk) meerdere grafieken moeten worden \n",
    "# weergegeven met meerdere opties.\n",
    "df = dscMelt.copy()\n",
    "\n",
    "# defineer variabelen voor grafiek\n",
    "df_totaalSBB = df.groupby(['SECTORUNIT SBB', 'Jaar'], as_index=False).sum()[['SECTORUNIT SBB', 'Jaar', 'Aantal']]\n",
    "df_totaalSBB.head()\n",
    "\n",
    "# maak document, met daarin grafiek. Hier zullen (uiteindelijk) meerdere grafieken moeten worden \n",
    "# weergegeven met meerdere opties.\n",
    "dx = dscMelt.copy()\n",
    "\n",
    "# defineer variabelen voor grafiek\n",
    "dx_totaalSBB = dx.groupby(['SECTORUNIT SBB', 'Jaar']).sum()[['Aantal']]\n",
    "dx_totaalSBB.head()"
   ]
  },
  {
   "cell_type": "code",
   "execution_count": 22,
   "metadata": {},
   "outputs": [
    {
     "name": "stdout",
     "output_type": "stream",
     "text": [
      "<class 'pandas.core.frame.DataFrame'>\n",
      "Int64Index: 45 entries, 0 to 44\n",
      "Data columns (total 3 columns):\n",
      "SECTORUNIT SBB    45 non-null object\n",
      "Jaar              45 non-null object\n",
      "Aantal            45 non-null int64\n",
      "dtypes: int64(1), object(2)\n",
      "memory usage: 1.4+ KB\n"
     ]
    }
   ],
   "source": [
    "df_totaalSBB.info()\n"
   ]
  },
  {
   "cell_type": "code",
   "execution_count": 23,
   "metadata": {},
   "outputs": [],
   "source": [
    "#Defineer brondata & kolommen\n",
    "source = ColumnDataSource(df_totaalSBB)\n",
    "original_source = ColumnDataSource(df_totaalSBB)\n",
    "columns = [\n",
    "   TableColumn(field=\"SECTORUNIT SBB\", title=\"Sector\"),\n",
    "   TableColumn(field=\"Jaar\", title=\"Jaar\"),\n",
    "   TableColumn(field=\"Aantal\", title=\"Aantal\"),\n",
    "]"
   ]
  },
  {
   "cell_type": "code",
   "execution_count": 24,
   "metadata": {},
   "outputs": [
    {
     "data": {
      "text/html": [
       "\n",
       "    <div class=\"bk-root\">\n",
       "        <a href=\"https://bokeh.pydata.org\" target=\"_blank\" class=\"bk-logo bk-logo-small bk-logo-notebook\"></a>\n",
       "        <span id=\"c22b6bb7-d4d0-4135-a43b-bc1bba7d7794\">Loading BokehJS ...</span>\n",
       "    </div>"
      ]
     },
     "metadata": {},
     "output_type": "display_data"
    },
    {
     "data": {
      "application/javascript": [
       "\n",
       "(function(root) {\n",
       "  function now() {\n",
       "    return new Date();\n",
       "  }\n",
       "\n",
       "  var force = true;\n",
       "\n",
       "  if (typeof (root._bokeh_onload_callbacks) === \"undefined\" || force === true) {\n",
       "    root._bokeh_onload_callbacks = [];\n",
       "    root._bokeh_is_loading = undefined;\n",
       "  }\n",
       "\n",
       "  var JS_MIME_TYPE = 'application/javascript';\n",
       "  var HTML_MIME_TYPE = 'text/html';\n",
       "  var EXEC_MIME_TYPE = 'application/vnd.bokehjs_exec.v0+json';\n",
       "  var CLASS_NAME = 'output_bokeh rendered_html';\n",
       "\n",
       "  /**\n",
       "   * Render data to the DOM node\n",
       "   */\n",
       "  function render(props, node) {\n",
       "    var script = document.createElement(\"script\");\n",
       "    node.appendChild(script);\n",
       "  }\n",
       "\n",
       "  /**\n",
       "   * Handle when an output is cleared or removed\n",
       "   */\n",
       "  function handleClearOutput(event, handle) {\n",
       "    var cell = handle.cell;\n",
       "\n",
       "    var id = cell.output_area._bokeh_element_id;\n",
       "    var server_id = cell.output_area._bokeh_server_id;\n",
       "    // Clean up Bokeh references\n",
       "    if (id !== undefined) {\n",
       "      Bokeh.index[id].model.document.clear();\n",
       "      delete Bokeh.index[id];\n",
       "    }\n",
       "\n",
       "    if (server_id !== undefined) {\n",
       "      // Clean up Bokeh references\n",
       "      var cmd = \"from bokeh.io.state import curstate; print(curstate().uuid_to_server['\" + server_id + \"'].get_sessions()[0].document.roots[0]._id)\";\n",
       "      cell.notebook.kernel.execute(cmd, {\n",
       "        iopub: {\n",
       "          output: function(msg) {\n",
       "            var element_id = msg.content.text.trim();\n",
       "            Bokeh.index[element_id].model.document.clear();\n",
       "            delete Bokeh.index[element_id];\n",
       "          }\n",
       "        }\n",
       "      });\n",
       "      // Destroy server and session\n",
       "      var cmd = \"import bokeh.io.notebook as ion; ion.destroy_server('\" + server_id + \"')\";\n",
       "      cell.notebook.kernel.execute(cmd);\n",
       "    }\n",
       "  }\n",
       "\n",
       "  /**\n",
       "   * Handle when a new output is added\n",
       "   */\n",
       "  function handleAddOutput(event, handle) {\n",
       "    var output_area = handle.output_area;\n",
       "    var output = handle.output;\n",
       "\n",
       "    // limit handleAddOutput to display_data with EXEC_MIME_TYPE content only\n",
       "    if ((output.output_type != \"display_data\") || (!output.data.hasOwnProperty(EXEC_MIME_TYPE))) {\n",
       "      return\n",
       "    }\n",
       "\n",
       "    var toinsert = output_area.element.find(\".\" + CLASS_NAME.split(' ')[0]);\n",
       "\n",
       "    if (output.metadata[EXEC_MIME_TYPE][\"id\"] !== undefined) {\n",
       "      toinsert[0].firstChild.textContent = output.data[JS_MIME_TYPE];\n",
       "      // store reference to embed id on output_area\n",
       "      output_area._bokeh_element_id = output.metadata[EXEC_MIME_TYPE][\"id\"];\n",
       "    }\n",
       "    if (output.metadata[EXEC_MIME_TYPE][\"server_id\"] !== undefined) {\n",
       "      var bk_div = document.createElement(\"div\");\n",
       "      bk_div.innerHTML = output.data[HTML_MIME_TYPE];\n",
       "      var script_attrs = bk_div.children[0].attributes;\n",
       "      for (var i = 0; i < script_attrs.length; i++) {\n",
       "        toinsert[0].firstChild.setAttribute(script_attrs[i].name, script_attrs[i].value);\n",
       "      }\n",
       "      // store reference to server id on output_area\n",
       "      output_area._bokeh_server_id = output.metadata[EXEC_MIME_TYPE][\"server_id\"];\n",
       "    }\n",
       "  }\n",
       "\n",
       "  function register_renderer(events, OutputArea) {\n",
       "\n",
       "    function append_mime(data, metadata, element) {\n",
       "      // create a DOM node to render to\n",
       "      var toinsert = this.create_output_subarea(\n",
       "        metadata,\n",
       "        CLASS_NAME,\n",
       "        EXEC_MIME_TYPE\n",
       "      );\n",
       "      this.keyboard_manager.register_events(toinsert);\n",
       "      // Render to node\n",
       "      var props = {data: data, metadata: metadata[EXEC_MIME_TYPE]};\n",
       "      render(props, toinsert[0]);\n",
       "      element.append(toinsert);\n",
       "      return toinsert\n",
       "    }\n",
       "\n",
       "    /* Handle when an output is cleared or removed */\n",
       "    events.on('clear_output.CodeCell', handleClearOutput);\n",
       "    events.on('delete.Cell', handleClearOutput);\n",
       "\n",
       "    /* Handle when a new output is added */\n",
       "    events.on('output_added.OutputArea', handleAddOutput);\n",
       "\n",
       "    /**\n",
       "     * Register the mime type and append_mime function with output_area\n",
       "     */\n",
       "    OutputArea.prototype.register_mime_type(EXEC_MIME_TYPE, append_mime, {\n",
       "      /* Is output safe? */\n",
       "      safe: true,\n",
       "      /* Index of renderer in `output_area.display_order` */\n",
       "      index: 0\n",
       "    });\n",
       "  }\n",
       "\n",
       "  // register the mime type if in Jupyter Notebook environment and previously unregistered\n",
       "  if (root.Jupyter !== undefined) {\n",
       "    var events = require('base/js/events');\n",
       "    var OutputArea = require('notebook/js/outputarea').OutputArea;\n",
       "\n",
       "    if (OutputArea.prototype.mime_types().indexOf(EXEC_MIME_TYPE) == -1) {\n",
       "      register_renderer(events, OutputArea);\n",
       "    }\n",
       "  }\n",
       "\n",
       "  \n",
       "  if (typeof (root._bokeh_timeout) === \"undefined\" || force === true) {\n",
       "    root._bokeh_timeout = Date.now() + 5000;\n",
       "    root._bokeh_failed_load = false;\n",
       "  }\n",
       "\n",
       "  var NB_LOAD_WARNING = {'data': {'text/html':\n",
       "     \"<div style='background-color: #fdd'>\\n\"+\n",
       "     \"<p>\\n\"+\n",
       "     \"BokehJS does not appear to have successfully loaded. If loading BokehJS from CDN, this \\n\"+\n",
       "     \"may be due to a slow or bad network connection. Possible fixes:\\n\"+\n",
       "     \"</p>\\n\"+\n",
       "     \"<ul>\\n\"+\n",
       "     \"<li>re-rerun `output_notebook()` to attempt to load from CDN again, or</li>\\n\"+\n",
       "     \"<li>use INLINE resources instead, as so:</li>\\n\"+\n",
       "     \"</ul>\\n\"+\n",
       "     \"<code>\\n\"+\n",
       "     \"from bokeh.resources import INLINE\\n\"+\n",
       "     \"output_notebook(resources=INLINE)\\n\"+\n",
       "     \"</code>\\n\"+\n",
       "     \"</div>\"}};\n",
       "\n",
       "  function display_loaded() {\n",
       "    var el = document.getElementById(\"c22b6bb7-d4d0-4135-a43b-bc1bba7d7794\");\n",
       "    if (el != null) {\n",
       "      el.textContent = \"BokehJS is loading...\";\n",
       "    }\n",
       "    if (root.Bokeh !== undefined) {\n",
       "      if (el != null) {\n",
       "        el.textContent = \"BokehJS \" + root.Bokeh.version + \" successfully loaded.\";\n",
       "      }\n",
       "    } else if (Date.now() < root._bokeh_timeout) {\n",
       "      setTimeout(display_loaded, 100)\n",
       "    }\n",
       "  }\n",
       "\n",
       "\n",
       "  function run_callbacks() {\n",
       "    try {\n",
       "      root._bokeh_onload_callbacks.forEach(function(callback) { callback() });\n",
       "    }\n",
       "    finally {\n",
       "      delete root._bokeh_onload_callbacks\n",
       "    }\n",
       "    console.info(\"Bokeh: all callbacks have finished\");\n",
       "  }\n",
       "\n",
       "  function load_libs(js_urls, callback) {\n",
       "    root._bokeh_onload_callbacks.push(callback);\n",
       "    if (root._bokeh_is_loading > 0) {\n",
       "      console.log(\"Bokeh: BokehJS is being loaded, scheduling callback at\", now());\n",
       "      return null;\n",
       "    }\n",
       "    if (js_urls == null || js_urls.length === 0) {\n",
       "      run_callbacks();\n",
       "      return null;\n",
       "    }\n",
       "    console.log(\"Bokeh: BokehJS not loaded, scheduling load and callback at\", now());\n",
       "    root._bokeh_is_loading = js_urls.length;\n",
       "    for (var i = 0; i < js_urls.length; i++) {\n",
       "      var url = js_urls[i];\n",
       "      var s = document.createElement('script');\n",
       "      s.src = url;\n",
       "      s.async = false;\n",
       "      s.onreadystatechange = s.onload = function() {\n",
       "        root._bokeh_is_loading--;\n",
       "        if (root._bokeh_is_loading === 0) {\n",
       "          console.log(\"Bokeh: all BokehJS libraries loaded\");\n",
       "          run_callbacks()\n",
       "        }\n",
       "      };\n",
       "      s.onerror = function() {\n",
       "        console.warn(\"failed to load library \" + url);\n",
       "      };\n",
       "      console.log(\"Bokeh: injecting script tag for BokehJS library: \", url);\n",
       "      document.getElementsByTagName(\"head\")[0].appendChild(s);\n",
       "    }\n",
       "  };var element = document.getElementById(\"c22b6bb7-d4d0-4135-a43b-bc1bba7d7794\");\n",
       "  if (element == null) {\n",
       "    console.log(\"Bokeh: ERROR: autoload.js configured with elementid 'c22b6bb7-d4d0-4135-a43b-bc1bba7d7794' but no matching script tag was found. \")\n",
       "    return false;\n",
       "  }\n",
       "\n",
       "  var js_urls = [\"https://cdn.pydata.org/bokeh/release/bokeh-0.12.13.min.js\", \"https://cdn.pydata.org/bokeh/release/bokeh-widgets-0.12.13.min.js\", \"https://cdn.pydata.org/bokeh/release/bokeh-tables-0.12.13.min.js\", \"https://cdn.pydata.org/bokeh/release/bokeh-gl-0.12.13.min.js\"];\n",
       "\n",
       "  var inline_js = [\n",
       "    function(Bokeh) {\n",
       "      Bokeh.set_log_level(\"info\");\n",
       "    },\n",
       "    \n",
       "    function(Bokeh) {\n",
       "      \n",
       "    },\n",
       "    function(Bokeh) {\n",
       "      console.log(\"Bokeh: injecting CSS: https://cdn.pydata.org/bokeh/release/bokeh-0.12.13.min.css\");\n",
       "      Bokeh.embed.inject_css(\"https://cdn.pydata.org/bokeh/release/bokeh-0.12.13.min.css\");\n",
       "      console.log(\"Bokeh: injecting CSS: https://cdn.pydata.org/bokeh/release/bokeh-widgets-0.12.13.min.css\");\n",
       "      Bokeh.embed.inject_css(\"https://cdn.pydata.org/bokeh/release/bokeh-widgets-0.12.13.min.css\");\n",
       "      console.log(\"Bokeh: injecting CSS: https://cdn.pydata.org/bokeh/release/bokeh-tables-0.12.13.min.css\");\n",
       "      Bokeh.embed.inject_css(\"https://cdn.pydata.org/bokeh/release/bokeh-tables-0.12.13.min.css\");\n",
       "    }\n",
       "  ];\n",
       "\n",
       "  function run_inline_js() {\n",
       "    \n",
       "    if ((root.Bokeh !== undefined) || (force === true)) {\n",
       "      for (var i = 0; i < inline_js.length; i++) {\n",
       "        inline_js[i].call(root, root.Bokeh);\n",
       "      }if (force === true) {\n",
       "        display_loaded();\n",
       "      }} else if (Date.now() < root._bokeh_timeout) {\n",
       "      setTimeout(run_inline_js, 100);\n",
       "    } else if (!root._bokeh_failed_load) {\n",
       "      console.log(\"Bokeh: BokehJS failed to load within specified timeout.\");\n",
       "      root._bokeh_failed_load = true;\n",
       "    } else if (force !== true) {\n",
       "      var cell = $(document.getElementById(\"c22b6bb7-d4d0-4135-a43b-bc1bba7d7794\")).parents('.cell').data().cell;\n",
       "      cell.output_area.append_execute_result(NB_LOAD_WARNING)\n",
       "    }\n",
       "\n",
       "  }\n",
       "\n",
       "  if (root._bokeh_is_loading === 0) {\n",
       "    console.log(\"Bokeh: BokehJS loaded, going straight to plotting\");\n",
       "    run_inline_js();\n",
       "  } else {\n",
       "    load_libs(js_urls, function() {\n",
       "      console.log(\"Bokeh: BokehJS plotting callback run at\", now());\n",
       "      run_inline_js();\n",
       "    });\n",
       "  }\n",
       "}(window));"
      ],
      "application/vnd.bokehjs_load.v0+json": "\n(function(root) {\n  function now() {\n    return new Date();\n  }\n\n  var force = true;\n\n  if (typeof (root._bokeh_onload_callbacks) === \"undefined\" || force === true) {\n    root._bokeh_onload_callbacks = [];\n    root._bokeh_is_loading = undefined;\n  }\n\n  \n\n  \n  if (typeof (root._bokeh_timeout) === \"undefined\" || force === true) {\n    root._bokeh_timeout = Date.now() + 5000;\n    root._bokeh_failed_load = false;\n  }\n\n  var NB_LOAD_WARNING = {'data': {'text/html':\n     \"<div style='background-color: #fdd'>\\n\"+\n     \"<p>\\n\"+\n     \"BokehJS does not appear to have successfully loaded. If loading BokehJS from CDN, this \\n\"+\n     \"may be due to a slow or bad network connection. Possible fixes:\\n\"+\n     \"</p>\\n\"+\n     \"<ul>\\n\"+\n     \"<li>re-rerun `output_notebook()` to attempt to load from CDN again, or</li>\\n\"+\n     \"<li>use INLINE resources instead, as so:</li>\\n\"+\n     \"</ul>\\n\"+\n     \"<code>\\n\"+\n     \"from bokeh.resources import INLINE\\n\"+\n     \"output_notebook(resources=INLINE)\\n\"+\n     \"</code>\\n\"+\n     \"</div>\"}};\n\n  function display_loaded() {\n    var el = document.getElementById(\"c22b6bb7-d4d0-4135-a43b-bc1bba7d7794\");\n    if (el != null) {\n      el.textContent = \"BokehJS is loading...\";\n    }\n    if (root.Bokeh !== undefined) {\n      if (el != null) {\n        el.textContent = \"BokehJS \" + root.Bokeh.version + \" successfully loaded.\";\n      }\n    } else if (Date.now() < root._bokeh_timeout) {\n      setTimeout(display_loaded, 100)\n    }\n  }\n\n\n  function run_callbacks() {\n    try {\n      root._bokeh_onload_callbacks.forEach(function(callback) { callback() });\n    }\n    finally {\n      delete root._bokeh_onload_callbacks\n    }\n    console.info(\"Bokeh: all callbacks have finished\");\n  }\n\n  function load_libs(js_urls, callback) {\n    root._bokeh_onload_callbacks.push(callback);\n    if (root._bokeh_is_loading > 0) {\n      console.log(\"Bokeh: BokehJS is being loaded, scheduling callback at\", now());\n      return null;\n    }\n    if (js_urls == null || js_urls.length === 0) {\n      run_callbacks();\n      return null;\n    }\n    console.log(\"Bokeh: BokehJS not loaded, scheduling load and callback at\", now());\n    root._bokeh_is_loading = js_urls.length;\n    for (var i = 0; i < js_urls.length; i++) {\n      var url = js_urls[i];\n      var s = document.createElement('script');\n      s.src = url;\n      s.async = false;\n      s.onreadystatechange = s.onload = function() {\n        root._bokeh_is_loading--;\n        if (root._bokeh_is_loading === 0) {\n          console.log(\"Bokeh: all BokehJS libraries loaded\");\n          run_callbacks()\n        }\n      };\n      s.onerror = function() {\n        console.warn(\"failed to load library \" + url);\n      };\n      console.log(\"Bokeh: injecting script tag for BokehJS library: \", url);\n      document.getElementsByTagName(\"head\")[0].appendChild(s);\n    }\n  };var element = document.getElementById(\"c22b6bb7-d4d0-4135-a43b-bc1bba7d7794\");\n  if (element == null) {\n    console.log(\"Bokeh: ERROR: autoload.js configured with elementid 'c22b6bb7-d4d0-4135-a43b-bc1bba7d7794' but no matching script tag was found. \")\n    return false;\n  }\n\n  var js_urls = [\"https://cdn.pydata.org/bokeh/release/bokeh-0.12.13.min.js\", \"https://cdn.pydata.org/bokeh/release/bokeh-widgets-0.12.13.min.js\", \"https://cdn.pydata.org/bokeh/release/bokeh-tables-0.12.13.min.js\", \"https://cdn.pydata.org/bokeh/release/bokeh-gl-0.12.13.min.js\"];\n\n  var inline_js = [\n    function(Bokeh) {\n      Bokeh.set_log_level(\"info\");\n    },\n    \n    function(Bokeh) {\n      \n    },\n    function(Bokeh) {\n      console.log(\"Bokeh: injecting CSS: https://cdn.pydata.org/bokeh/release/bokeh-0.12.13.min.css\");\n      Bokeh.embed.inject_css(\"https://cdn.pydata.org/bokeh/release/bokeh-0.12.13.min.css\");\n      console.log(\"Bokeh: injecting CSS: https://cdn.pydata.org/bokeh/release/bokeh-widgets-0.12.13.min.css\");\n      Bokeh.embed.inject_css(\"https://cdn.pydata.org/bokeh/release/bokeh-widgets-0.12.13.min.css\");\n      console.log(\"Bokeh: injecting CSS: https://cdn.pydata.org/bokeh/release/bokeh-tables-0.12.13.min.css\");\n      Bokeh.embed.inject_css(\"https://cdn.pydata.org/bokeh/release/bokeh-tables-0.12.13.min.css\");\n    }\n  ];\n\n  function run_inline_js() {\n    \n    if ((root.Bokeh !== undefined) || (force === true)) {\n      for (var i = 0; i < inline_js.length; i++) {\n        inline_js[i].call(root, root.Bokeh);\n      }if (force === true) {\n        display_loaded();\n      }} else if (Date.now() < root._bokeh_timeout) {\n      setTimeout(run_inline_js, 100);\n    } else if (!root._bokeh_failed_load) {\n      console.log(\"Bokeh: BokehJS failed to load within specified timeout.\");\n      root._bokeh_failed_load = true;\n    } else if (force !== true) {\n      var cell = $(document.getElementById(\"c22b6bb7-d4d0-4135-a43b-bc1bba7d7794\")).parents('.cell').data().cell;\n      cell.output_area.append_execute_result(NB_LOAD_WARNING)\n    }\n\n  }\n\n  if (root._bokeh_is_loading === 0) {\n    console.log(\"Bokeh: BokehJS loaded, going straight to plotting\");\n    run_inline_js();\n  } else {\n    load_libs(js_urls, function() {\n      console.log(\"Bokeh: BokehJS plotting callback run at\", now());\n      run_inline_js();\n    });\n  }\n}(window));"
     },
     "metadata": {},
     "output_type": "display_data"
    },
    {
     "data": {
      "text/html": [
       "\n",
       "<div class=\"bk-root\">\n",
       "    <div class=\"bk-plotdiv\" id=\"9dda65a2-1902-4f00-94bc-14688b03cf49\"></div>\n",
       "</div>"
      ]
     },
     "metadata": {},
     "output_type": "display_data"
    },
    {
     "data": {
      "application/javascript": [
       "(function(root) {\n",
       "  function embed_document(root) {\n",
       "    \n",
       "  var docs_json = {\"0c47e936-f6d3-408a-9d06-e96d1644e6e0\":{\"roots\":{\"references\":[{\"attributes\":{},\"id\":\"24a6bb0b-62df-4efd-8d5b-16bc244a6e8b\",\"type\":\"StringFormatter\"},{\"attributes\":{\"columns\":[{\"id\":\"a22bfc79-bc5f-4787-9e17-dbd282ee411c\",\"type\":\"TableColumn\"},{\"id\":\"04f59a25-2ca0-4b3f-9af5-6004b3031cbf\",\"type\":\"TableColumn\"},{\"id\":\"7580b6ee-8ff0-497e-8695-ca63375a94f6\",\"type\":\"TableColumn\"}],\"source\":{\"id\":\"a2d9a5a3-255a-4909-a71a-09c9601f4e66\",\"type\":\"ColumnDataSource\"},\"view\":{\"id\":\"49e14527-be63-4e33-a966-b94b7bc45873\",\"type\":\"CDSView\"}},\"id\":\"20d37fc0-41bd-4112-924e-c317ed91b7fb\",\"type\":\"DataTable\"},{\"attributes\":{},\"id\":\"a13d1f2e-ebe9-491d-a3b4-1d32f6bd7fc9\",\"type\":\"StringFormatter\"},{\"attributes\":{\"editor\":{\"id\":\"283da217-fc83-4ca9-a385-21048c0b6667\",\"type\":\"StringEditor\"},\"field\":\"Aantal\",\"formatter\":{\"id\":\"a13d1f2e-ebe9-491d-a3b4-1d32f6bd7fc9\",\"type\":\"StringFormatter\"},\"title\":\"Aantal\"},\"id\":\"7580b6ee-8ff0-497e-8695-ca63375a94f6\",\"type\":\"TableColumn\"},{\"attributes\":{},\"id\":\"5723a920-41c2-47d1-9979-075702d23142\",\"type\":\"StringEditor\"},{\"attributes\":{\"callback\":null,\"js_property_callbacks\":{\"change:value\":[{\"id\":\"5e39f1c5-5ccc-4938-bc0f-b6810684d707\",\"type\":\"CustomJS\"}]},\"options\":[\"ALL\",\"2013\",\"2014\",\"2015\",\"2016\",\"2017\"],\"title\":\"Jaar:\",\"value\":\"ALL\"},\"id\":\"baae4623-4be9-42eb-a046-72ecb0f98960\",\"type\":\"Select\"},{\"attributes\":{\"callback\":null,\"column_names\":[\"SECTORUNIT SBB\",\"Jaar\",\"Aantal\",\"index\"],\"data\":{\"Aantal\":[369,517,433,306,562,6856,7066,7667,8033,9663,5792,6105,6009,6134,6248,2383,2472,2677,2765,3027,463,573,568,596,649,6523,6176,6270,6310,6517,6892,7078,7720,7851,10070,9769,10178,10071,9482,9214,22036,22116,22298,20812,21885],\"Jaar\":[\"2013\",\"2014\",\"2015\",\"2016\",\"2017\",\"2013\",\"2014\",\"2015\",\"2016\",\"2017\",\"2013\",\"2014\",\"2015\",\"2016\",\"2017\",\"2013\",\"2014\",\"2015\",\"2016\",\"2017\",\"2013\",\"2014\",\"2015\",\"2016\",\"2017\",\"2013\",\"2014\",\"2015\",\"2016\",\"2017\",\"2013\",\"2014\",\"2015\",\"2016\",\"2017\",\"2013\",\"2014\",\"2015\",\"2016\",\"2017\",\"2013\",\"2014\",\"2015\",\"2016\",\"2017\"],\"SECTORUNIT SBB\":[\"Bovensectoraal\",\"Bovensectoraal\",\"Bovensectoraal\",\"Bovensectoraal\",\"Bovensectoraal\",\"Sectorunit creatieve industrie en ICT\",\"Sectorunit creatieve industrie en ICT\",\"Sectorunit creatieve industrie en ICT\",\"Sectorunit creatieve industrie en ICT\",\"Sectorunit creatieve industrie en ICT\",\"Sectorunit handel\",\"Sectorunit handel\",\"Sectorunit handel\",\"Sectorunit handel\",\"Sectorunit handel\",\"Sectorunit mobiliteit, transport, logistiek, maritiem\",\"Sectorunit mobiliteit, transport, logistiek, maritiem\",\"Sectorunit mobiliteit, transport, logistiek, maritiem\",\"Sectorunit mobiliteit, transport, logistiek, maritiem\",\"Sectorunit mobiliteit, transport, logistiek, maritiem\",\"Sectorunit specialistisch vakmanschap\",\"Sectorunit specialistisch vakmanschap\",\"Sectorunit specialistisch vakmanschap\",\"Sectorunit specialistisch vakmanschap\",\"Sectorunit specialistisch vakmanschap\",\"Sectorunit techniek en gebouwde omgeving\",\"Sectorunit techniek en gebouwde omgeving\",\"Sectorunit techniek en gebouwde omgeving\",\"Sectorunit techniek en gebouwde omgeving\",\"Sectorunit techniek en gebouwde omgeving\",\"Sectorunit voedsel, groen en gastvrijheid\",\"Sectorunit voedsel, groen en gastvrijheid\",\"Sectorunit voedsel, groen en gastvrijheid\",\"Sectorunit voedsel, groen en gastvrijheid\",\"Sectorunit voedsel, groen en gastvrijheid\",\"Sectorunit zakelijke dienstverlening en veiligheid\",\"Sectorunit zakelijke dienstverlening en veiligheid\",\"Sectorunit zakelijke dienstverlening en veiligheid\",\"Sectorunit zakelijke dienstverlening en veiligheid\",\"Sectorunit zakelijke dienstverlening en veiligheid\",\"Sectorunit zorg, welzijn en sport\",\"Sectorunit zorg, welzijn en sport\",\"Sectorunit zorg, welzijn en sport\",\"Sectorunit zorg, welzijn en sport\",\"Sectorunit zorg, welzijn en sport\"],\"index\":[0,1,2,3,4,5,6,7,8,9,10,11,12,13,14,15,16,17,18,19,20,21,22,23,24,25,26,27,28,29,30,31,32,33,34,35,36,37,38,39,40,41,42,43,44]}},\"id\":\"a2d9a5a3-255a-4909-a71a-09c9601f4e66\",\"type\":\"ColumnDataSource\"},{\"attributes\":{\"editor\":{\"id\":\"5723a920-41c2-47d1-9979-075702d23142\",\"type\":\"StringEditor\"},\"field\":\"SECTORUNIT SBB\",\"formatter\":{\"id\":\"cc1b11f3-c5f4-4326-8619-4cb5c8827654\",\"type\":\"StringFormatter\"},\"title\":\"Sector\"},\"id\":\"a22bfc79-bc5f-4787-9e17-dbd282ee411c\",\"type\":\"TableColumn\"},{\"attributes\":{},\"id\":\"cc1b11f3-c5f4-4326-8619-4cb5c8827654\",\"type\":\"StringFormatter\"},{\"attributes\":{\"editor\":{\"id\":\"79c44026-19a1-44ef-adb2-14de6b17f811\",\"type\":\"StringEditor\"},\"field\":\"Jaar\",\"formatter\":{\"id\":\"24a6bb0b-62df-4efd-8d5b-16bc244a6e8b\",\"type\":\"StringFormatter\"},\"title\":\"Jaar\"},\"id\":\"04f59a25-2ca0-4b3f-9af5-6004b3031cbf\",\"type\":\"TableColumn\"},{\"attributes\":{},\"id\":\"79c44026-19a1-44ef-adb2-14de6b17f811\",\"type\":\"StringEditor\"},{\"attributes\":{\"children\":[{\"id\":\"35ca4c3f-c837-4bed-a429-c17d106582d0\",\"type\":\"WidgetBox\"},{\"id\":\"8b9efa59-a735-42ed-b12e-a38efbecf171\",\"type\":\"WidgetBox\"},{\"id\":\"9b7c665f-2f2b-455c-910d-3f9dddac9ed6\",\"type\":\"WidgetBox\"}]},\"id\":\"3ab951ad-77e7-4871-8c5f-dc597cd235b4\",\"type\":\"Column\"},{\"attributes\":{\"callback\":null,\"column_names\":[\"SECTORUNIT SBB\",\"Jaar\",\"Aantal\",\"index\"],\"data\":{\"Aantal\":[369,517,433,306,562,6856,7066,7667,8033,9663,5792,6105,6009,6134,6248,2383,2472,2677,2765,3027,463,573,568,596,649,6523,6176,6270,6310,6517,6892,7078,7720,7851,10070,9769,10178,10071,9482,9214,22036,22116,22298,20812,21885],\"Jaar\":[\"2013\",\"2014\",\"2015\",\"2016\",\"2017\",\"2013\",\"2014\",\"2015\",\"2016\",\"2017\",\"2013\",\"2014\",\"2015\",\"2016\",\"2017\",\"2013\",\"2014\",\"2015\",\"2016\",\"2017\",\"2013\",\"2014\",\"2015\",\"2016\",\"2017\",\"2013\",\"2014\",\"2015\",\"2016\",\"2017\",\"2013\",\"2014\",\"2015\",\"2016\",\"2017\",\"2013\",\"2014\",\"2015\",\"2016\",\"2017\",\"2013\",\"2014\",\"2015\",\"2016\",\"2017\"],\"SECTORUNIT SBB\":[\"Bovensectoraal\",\"Bovensectoraal\",\"Bovensectoraal\",\"Bovensectoraal\",\"Bovensectoraal\",\"Sectorunit creatieve industrie en ICT\",\"Sectorunit creatieve industrie en ICT\",\"Sectorunit creatieve industrie en ICT\",\"Sectorunit creatieve industrie en ICT\",\"Sectorunit creatieve industrie en ICT\",\"Sectorunit handel\",\"Sectorunit handel\",\"Sectorunit handel\",\"Sectorunit handel\",\"Sectorunit handel\",\"Sectorunit mobiliteit, transport, logistiek, maritiem\",\"Sectorunit mobiliteit, transport, logistiek, maritiem\",\"Sectorunit mobiliteit, transport, logistiek, maritiem\",\"Sectorunit mobiliteit, transport, logistiek, maritiem\",\"Sectorunit mobiliteit, transport, logistiek, maritiem\",\"Sectorunit specialistisch vakmanschap\",\"Sectorunit specialistisch vakmanschap\",\"Sectorunit specialistisch vakmanschap\",\"Sectorunit specialistisch vakmanschap\",\"Sectorunit specialistisch vakmanschap\",\"Sectorunit techniek en gebouwde omgeving\",\"Sectorunit techniek en gebouwde omgeving\",\"Sectorunit techniek en gebouwde omgeving\",\"Sectorunit techniek en gebouwde omgeving\",\"Sectorunit techniek en gebouwde omgeving\",\"Sectorunit voedsel, groen en gastvrijheid\",\"Sectorunit voedsel, groen en gastvrijheid\",\"Sectorunit voedsel, groen en gastvrijheid\",\"Sectorunit voedsel, groen en gastvrijheid\",\"Sectorunit voedsel, groen en gastvrijheid\",\"Sectorunit zakelijke dienstverlening en veiligheid\",\"Sectorunit zakelijke dienstverlening en veiligheid\",\"Sectorunit zakelijke dienstverlening en veiligheid\",\"Sectorunit zakelijke dienstverlening en veiligheid\",\"Sectorunit zakelijke dienstverlening en veiligheid\",\"Sectorunit zorg, welzijn en sport\",\"Sectorunit zorg, welzijn en sport\",\"Sectorunit zorg, welzijn en sport\",\"Sectorunit zorg, welzijn en sport\",\"Sectorunit zorg, welzijn en sport\"],\"index\":[0,1,2,3,4,5,6,7,8,9,10,11,12,13,14,15,16,17,18,19,20,21,22,23,24,25,26,27,28,29,30,31,32,33,34,35,36,37,38,39,40,41,42,43,44]}},\"id\":\"0faef947-c5f1-4c95-8e90-80815a2b2f65\",\"type\":\"ColumnDataSource\"},{\"attributes\":{\"callback\":null,\"js_property_callbacks\":{\"change:value\":[{\"id\":\"5e39f1c5-5ccc-4938-bc0f-b6810684d707\",\"type\":\"CustomJS\"}]},\"options\":[\"ALL\",\"Bovensectoraal\",\"Sectorunit creatieve industrie en ICT\",\"Sectorunit handel\",\"Sectorunit mobiliteit, transport, logistiek, maritiem\",\"Sectorunit specialistisch vakmanschap\",\"Sectorunit techniek en gebouwde omgeving\",\"Sectorunit voedsel, groen en gastvrijheid\",\"Sectorunit zakelijke dienstverlening en veiligheid\",\"Sectorunit zorg, welzijn en sport\"],\"title\":\"Sector:\",\"value\":\"ALL\"},\"id\":\"dee8e384-1cb4-4fa9-900b-4b49ad6fdfaf\",\"type\":\"Select\"},{\"attributes\":{\"children\":[{\"id\":\"baae4623-4be9-42eb-a046-72ecb0f98960\",\"type\":\"Select\"}]},\"id\":\"8b9efa59-a735-42ed-b12e-a38efbecf171\",\"type\":\"WidgetBox\"},{\"attributes\":{\"source\":{\"id\":\"a2d9a5a3-255a-4909-a71a-09c9601f4e66\",\"type\":\"ColumnDataSource\"}},\"id\":\"49e14527-be63-4e33-a966-b94b7bc45873\",\"type\":\"CDSView\"},{\"attributes\":{\"children\":[{\"id\":\"dee8e384-1cb4-4fa9-900b-4b49ad6fdfaf\",\"type\":\"Select\"}]},\"id\":\"35ca4c3f-c837-4bed-a429-c17d106582d0\",\"type\":\"WidgetBox\"},{\"attributes\":{},\"id\":\"283da217-fc83-4ca9-a385-21048c0b6667\",\"type\":\"StringEditor\"},{\"attributes\":{\"args\":{\"jaar_select_obj\":{\"id\":\"baae4623-4be9-42eb-a046-72ecb0f98960\",\"type\":\"Select\"},\"original_source\":{\"id\":\"0faef947-c5f1-4c95-8e90-80815a2b2f65\",\"type\":\"ColumnDataSource\"},\"sector_select_obj\":{\"id\":\"dee8e384-1cb4-4fa9-900b-4b49ad6fdfaf\",\"type\":\"Select\"},\"source\":{\"id\":\"a2d9a5a3-255a-4909-a71a-09c9601f4e66\",\"type\":\"ColumnDataSource\"},\"target_obj\":{\"id\":\"20d37fc0-41bd-4112-924e-c317ed91b7fb\",\"type\":\"DataTable\"}},\"code\":\"\\nvar data = source.data;\\nvar original_data = original_source.data;\\nvar sector = sector_select_obj.value;\\nconsole.log(\\\"sector: \\\" + sector);\\nvar jaar = jaar_select_obj.value;\\nconsole.log(\\\"jaar: \\\" + jaar);\\nfor (var key in original_data) {\\n    data[key] = [];\\n    for (var i = 0; i < original_data['SECTORUNIT SBB'].length; ++i) {\\n        if ((sector === \\\"ALL\\\" || original_data['SECTORUNIT SBB'][i] === sector) &&\\n            (jaar === \\\"ALL\\\" || original_data['Jaar'][i] === jaar)) {\\n            data[key].push(original_data[key][i]);\\n        }\\n    }\\n}\\ntarget_obj.change.emit();;\\nsource.change.emit();\\n\"},\"id\":\"5e39f1c5-5ccc-4938-bc0f-b6810684d707\",\"type\":\"CustomJS\"},{\"attributes\":{\"children\":[{\"id\":\"20d37fc0-41bd-4112-924e-c317ed91b7fb\",\"type\":\"DataTable\"}],\"height\":400},\"id\":\"9b7c665f-2f2b-455c-910d-3f9dddac9ed6\",\"type\":\"WidgetBox\"}],\"root_ids\":[\"3ab951ad-77e7-4871-8c5f-dc597cd235b4\"]},\"title\":\"Bokeh Application\",\"version\":\"0.12.13\"}};\n",
       "  var render_items = [{\"docid\":\"0c47e936-f6d3-408a-9d06-e96d1644e6e0\",\"elementid\":\"9dda65a2-1902-4f00-94bc-14688b03cf49\",\"modelid\":\"3ab951ad-77e7-4871-8c5f-dc597cd235b4\"}];\n",
       "  root.Bokeh.embed.embed_items_notebook(docs_json, render_items);\n",
       "\n",
       "  }\n",
       "  if (root.Bokeh !== undefined) {\n",
       "    embed_document(root);\n",
       "  } else {\n",
       "    var attempts = 0;\n",
       "    var timer = setInterval(function(root) {\n",
       "      if (root.Bokeh !== undefined) {\n",
       "        embed_document(root);\n",
       "        clearInterval(timer);\n",
       "      }\n",
       "      attempts++;\n",
       "      if (attempts > 100) {\n",
       "        console.log(\"Bokeh: ERROR: Unable to run BokehJS code because BokehJS library is missing\")\n",
       "        clearInterval(timer);\n",
       "      }\n",
       "    }, 10, root)\n",
       "  }\n",
       "})(window);"
      ],
      "application/vnd.bokehjs_exec.v0+json": ""
     },
     "metadata": {
      "application/vnd.bokehjs_exec.v0+json": {
       "id": "3ab951ad-77e7-4871-8c5f-dc597cd235b4"
      }
     },
     "output_type": "display_data"
    }
   ],
   "source": [
    "# Voorbeeld datatable output voor alle datatabellen.\n",
    "output_notebook()\n",
    "\n",
    "#Defineer brondata & kolommen\n",
    "source = ColumnDataSource(df_totaalSBB)\n",
    "original_source = ColumnDataSource(df_totaalSBB)\n",
    "columns = [\n",
    "   TableColumn(field=\"SECTORUNIT SBB\", title=\"Sector\"),\n",
    "   TableColumn(field=\"Jaar\", title=\"Jaar\"),\n",
    "   TableColumn(field=\"Aantal\", title=\"Aantal\"),\n",
    "]\n",
    "\n",
    "#maak data tabel\n",
    "data_table = DataTable(source=source, columns=columns)\n",
    "\n",
    "# callback code to be used by all the filter widgets\n",
    "combined_callback_code = \"\"\"\n",
    "var data = source.data;\n",
    "var original_data = original_source.data;\n",
    "var sector = sector_select_obj.value;\n",
    "console.log(\"sector: \" + sector);\n",
    "var jaar = jaar_select_obj.value;\n",
    "console.log(\"jaar: \" + jaar);\n",
    "for (var key in original_data) {\n",
    "    data[key] = [];\n",
    "    for (var i = 0; i < original_data['SECTORUNIT SBB'].length; ++i) {\n",
    "        if ((sector === \"ALL\" || original_data['SECTORUNIT SBB'][i] === sector) &&\n",
    "            (jaar === \"ALL\" || original_data['Jaar'][i] === jaar)) {\n",
    "            data[key].push(original_data[key][i]);\n",
    "        }\n",
    "    }\n",
    "}\n",
    "target_obj.change.emit();;\n",
    "source.change.emit();\n",
    "\"\"\"\n",
    "\n",
    "# define the filter widgets, without callbacks for now\n",
    "sector_list = ['ALL'] + df_totaalSBB['SECTORUNIT SBB'].unique().tolist()\n",
    "sector_select = Select(title=\"Sector:\", value=sector_list[0], options=sector_list)\n",
    "jaar_list = ['ALL'] + df_totaalSBB['Jaar'].unique().tolist()\n",
    "jaar_select = Select(title=\"Jaar:\", value=jaar_list[0], options=jaar_list)\n",
    "\n",
    "# now define the callback objects now that the filter widgets exist\n",
    "generic_callback = CustomJS(\n",
    "    args=dict(source=source, \n",
    "              original_source=original_source, \n",
    "              sector_select_obj=sector_select, \n",
    "              jaar_select_obj=jaar_select, \n",
    "              target_obj=data_table),\n",
    "    code=combined_callback_code\n",
    ")\n",
    "\n",
    "# finally, connect the callbacks to the filter widgets\n",
    "sector_select.js_on_change('value', generic_callback)\n",
    "jaar_select.js_on_change('value', generic_callback)\n",
    "\n",
    "\n",
    "#layout = row(p, jaren)\n",
    "p = column(sector_select,jaar_select,data_table)\n",
    "\n",
    "#doc.title = \"Sectorunit SBB chart test\"\n",
    "#doc.add_root(p)\n",
    "show(p)\n"
   ]
  },
  {
   "cell_type": "code",
   "execution_count": 25,
   "metadata": {
    "scrolled": true
   },
   "outputs": [
    {
     "ename": "NameError",
     "evalue": "name 'update_jaar' is not defined",
     "output_type": "error",
     "traceback": [
      "\u001b[1;31m---------------------------------------------------------------------------\u001b[0m",
      "\u001b[1;31mNameError\u001b[0m                                 Traceback (most recent call last)",
      "\u001b[1;32m<ipython-input-25-19b93dbb6d1d>\u001b[0m in \u001b[0;36m<module>\u001b[1;34m()\u001b[0m\n\u001b[0;32m     55\u001b[0m \u001b[0msector_select\u001b[0m\u001b[1;33m.\u001b[0m\u001b[0mjs_on_change\u001b[0m\u001b[1;33m(\u001b[0m\u001b[1;34m'value'\u001b[0m\u001b[1;33m,\u001b[0m \u001b[0mgeneric_callback\u001b[0m\u001b[1;33m)\u001b[0m\u001b[1;33m\u001b[0m\u001b[0m\n\u001b[0;32m     56\u001b[0m \u001b[0mjaar_select\u001b[0m\u001b[1;33m.\u001b[0m\u001b[0mjs_on_change\u001b[0m\u001b[1;33m(\u001b[0m\u001b[1;34m'value'\u001b[0m\u001b[1;33m,\u001b[0m \u001b[0mgeneric_callback\u001b[0m\u001b[1;33m)\u001b[0m\u001b[1;33m\u001b[0m\u001b[0m\n\u001b[1;32m---> 57\u001b[1;33m \u001b[0mjaar_select\u001b[0m\u001b[1;33m.\u001b[0m\u001b[0mon_change\u001b[0m\u001b[1;33m(\u001b[0m\u001b[1;34m'value'\u001b[0m\u001b[1;33m,\u001b[0m \u001b[0mupdate_jaar\u001b[0m\u001b[1;33m)\u001b[0m\u001b[1;33m\u001b[0m\u001b[0m\n\u001b[0m\u001b[0;32m     58\u001b[0m \u001b[1;33m\u001b[0m\u001b[0m\n\u001b[0;32m     59\u001b[0m \u001b[1;33m\u001b[0m\u001b[0m\n",
      "\u001b[1;31mNameError\u001b[0m: name 'update_jaar' is not defined"
     ]
    }
   ],
   "source": [
    "#def make_document(doc):\n",
    "#output_notebook()\n",
    "\n",
    "#Defineer brondata & kolommen\n",
    "source = ColumnDataSource(df_totaalSBB)\n",
    "original_source = ColumnDataSource(df_totaalSBB)\n",
    "columns = [\n",
    "   TableColumn(field=\"SECTORUNIT SBB\", title=\"Sector\"),\n",
    "   TableColumn(field=\"Jaar\", title=\"Jaar\"),\n",
    "   TableColumn(field=\"Aantal\", title=\"Aantal\"),\n",
    "]\n",
    "\n",
    "#maak data tabel\n",
    "data_table = DataTable(source=source, columns=columns)\n",
    "\n",
    "# callback code to be used by all the filter widgets\n",
    "combined_callback_code = \"\"\"\n",
    "var data = source.data;\n",
    "var original_data = original_source.data;\n",
    "var sector = sector_select_obj.value;\n",
    "console.log(\"sector: \" + sector);\n",
    "var jaar = jaar_select_obj.value;\n",
    "console.log(\"jaar: \" + jaar);\n",
    "for (var key in original_data) {\n",
    "    data[key] = [];\n",
    "    for (var i = 0; i < original_data['SECTORUNIT SBB'].length; ++i) {\n",
    "        if ((sector === \"ALL\" || original_data['SECTORUNIT SBB'][i] === sector) &&\n",
    "            (jaar === \"ALL\" || original_data['Jaar'][i] === jaar)) {\n",
    "            data[key].push(original_data[key][i]);\n",
    "        }\n",
    "    }\n",
    "}\n",
    "target_obj.change.emit();;\n",
    "source.change.emit();\n",
    "\"\"\"\n",
    "\n",
    "# define the filter widgets, without callbacks for now\n",
    "sector_list = ['ALL'] + df_totaalSBB['SECTORUNIT SBB'].unique().tolist()\n",
    "sector_select = Select(title=\"Sector:\", value=sector_list[0], options=sector_list)\n",
    "jaar_list = ['ALL'] + df_totaalSBB['Jaar'].unique().tolist()\n",
    "jaar_select = Select(title=\"Jaar:\", value=jaar_list[0], options=jaar_list)\n",
    "\n",
    "# now define the callback objects now that the filter widgets exist\n",
    "generic_callback = CustomJS(\n",
    "    args=dict(source=source, \n",
    "              original_source=original_source, \n",
    "              sector_select_obj=sector_select, \n",
    "              jaar_select_obj=jaar_select, \n",
    "              target_obj=data_table),\n",
    "    code=combined_callback_code\n",
    ")\n",
    "\n",
    "\n",
    "# finally, connect the callbacks to the filter widgets\n",
    "sector_select.js_on_change('value', generic_callback)\n",
    "jaar_select.js_on_change('value', generic_callback)\n",
    "jaar_select.on_change('value', update_jaar)\n",
    "\n",
    "\n",
    "# add chart - werkt nog niet om 1 of andere reden.....\n",
    "#source2 = ColumnDataSource(dx_totaalSBB)\n",
    "kolommen = list(df_totaalSBB['Jaar'].unique())\n",
    "sectoren = list(df_totaalSBB['SECTORUNIT SBB'].unique())\n",
    "df_copyForStack =  dsc.copy()\n",
    "df_copyForStackGrouped = df_copyForStack.groupby(['SECTORUNIT SBB']).sum()[['2013', '2014', '2015', '2016', '2017']]\n",
    "df_stackedToDict = df_copyForStackGrouped.to_dict('list')\n",
    "df_stackedToDict['sectoren'] = sectoren\n",
    "\n",
    "\n",
    "#Teken grafiek\n",
    "sourceStacked = ColumnDataSource(df_stackedToDict)\n",
    "\n",
    "p1 = figure(x_range=sectoren, plot_height=800, title=\"Totalen per SBB sector per jaar\")\n",
    "\n",
    "p1.vbar_stack(kolommen, x='sectoren', width=0.8, source=sourceStacked, legend=kolommen, color=['#084594', '#2171b5', '#4292c6', '#6baed6', '#9ecae1'])\n",
    "\n",
    "p1.width=900\n",
    "p1.y_range.start = 0\n",
    "p1.x_range.range_padding = 0.1\n",
    "p1.xaxis.major_label_orientation = 'vertical'\n",
    "p1.xgrid.grid_line_color = None\n",
    "p1.left[0].formatter.use_scientific = False\n",
    "\n",
    "\n",
    "#layout = row(p, jaren)\n",
    "p = column(sector_select,jaar_select,data_table, p1)\n",
    "\n",
    "#doc.title = \"Sectorunit SBB chart test\"\n",
    "#doc.add_root(p)\n",
    "show(p)"
   ]
  },
  {
   "cell_type": "code",
   "execution_count": null,
   "metadata": {},
   "outputs": [],
   "source": [
    "# add chart - werkt nog niet om 1 of andere reden.....\n",
    "#source2 = ColumnDataSource(dx_totaalSBB)\n",
    "kolommen = list(df_totaalSBB['Jaar'].unique())\n",
    "sectoren = list(df_totaalSBB['SECTORUNIT SBB'].unique())\n",
    "df_copyForStack =  dsc.copy()\n",
    "df_copyForStackGrouped = df_copyForStack.groupby(['SECTORUNIT SBB']).sum()[['2013', '2014', '2015', '2016', '2017']]\n",
    "df_stackedToDict = df_copyForStackGrouped.to_dict('list')\n",
    "df_stackedToDict['sectoren'] = sectoren\n",
    "\n",
    "\n",
    "#Teken grafiek\n",
    "data2 = ColumnDataSource(df_stackedToDict)\n",
    "\n",
    "p1 = figure(x_range=sectoren, plot_height=800, title=\"Totalen per SBB sector per jaar\")\n",
    "\n",
    "p1.vbar_stack(kolommen, x='sectoren', width=0.8, source=data2, legend=kolommen, color=['#084594', '#2171b5', '#4292c6', '#6baed6', '#9ecae1'])\n",
    "\n",
    "p1.width=900\n",
    "p1.y_range.start = 0\n",
    "p1.x_range.range_padding = 0.1\n",
    "p1.xaxis.major_label_orientation = 'vertical'\n",
    "p1.xgrid.grid_line_color = None\n",
    "p1.left[0].formatter.use_scientific = False\n",
    "\n",
    "#layout = row(p, jaren)\n",
    "#doc.title = \"Sectorunit SBB chart test\"\n",
    "#doc.add_root(p)\n",
    "show(p1)"
   ]
  },
  {
   "cell_type": "code",
   "execution_count": null,
   "metadata": {},
   "outputs": [],
   "source": [
    "df_stackedToDict"
   ]
  },
  {
   "cell_type": "code",
   "execution_count": null,
   "metadata": {},
   "outputs": [],
   "source": [
    "data = {'fruits' : fruits,\n",
    "        'Bovensectoraal'   : [2, 1, 4, 3, 2, 4],\n",
    "        '2016'   : [5, 3, 4, 2, 4, 6],\n",
    "        '2017'   : [3, 2, 4, 4, 5, 3]}\n"
   ]
  },
  {
   "cell_type": "code",
   "execution_count": null,
   "metadata": {},
   "outputs": [],
   "source": [
    "from bokeh.server.server import Server\n",
    "from bokeh.application import Application\n",
    "from bokeh.application.handlers.function import FunctionHandler\n",
    "\n",
    "apps = {'/': Application(FunctionHandler(make_document))}\n",
    "\n",
    "server = Server(apps, port=5006, allow_websocket_origin=['localhost:5006','nm-interactive.net:5006'])\n",
    "server.start()"
   ]
  },
  {
   "cell_type": "code",
   "execution_count": null,
   "metadata": {},
   "outputs": [],
   "source": [
    "server.stop()\n"
   ]
  },
  {
   "cell_type": "code",
   "execution_count": null,
   "metadata": {},
   "outputs": [],
   "source": [
    "source2.column_names"
   ]
  },
  {
   "cell_type": "code",
   "execution_count": null,
   "metadata": {},
   "outputs": [],
   "source": []
  },
  {
   "cell_type": "code",
   "execution_count": null,
   "metadata": {},
   "outputs": [],
   "source": [
    "# maak document, met daarin grafiek. Hier zullen (uiteindelijk) meerdere grafieken moeten worden \n",
    "# weergegeven met meerdere opties.\n",
    "dx = dscMelt.copy()\n",
    "\n",
    "# defineer variabelen voor grafiek\n",
    "dx_totaalSBB = dx.groupby(['SECTORUNIT SBB', 'Jaar']).sum()[['Aantal']]\n",
    "dx_totaalSBB.head()\n",
    "dx_totaalSBB.loc['Bovensectoraal']"
   ]
  },
  {
   "cell_type": "markdown",
   "metadata": {},
   "source": [
    "# 2. Visualisatie op 'Sectorunit SBB'\n",
    "De aanvliegroute is om per visualisatie een apart dataframe te maken. Sorteren op attribuurtwaarde lijkt me handig.\n",
    "\n",
    "### 1a. Dataframe verkennen: Sorteren op unieke attribuutwaarde\n",
    "Normaal gesproken staan alle data in willekeurige volgorde. Je zou kunnen sorteren attribuurtwaarde, bijvoorbeeld binnen de kolom 'SECTORUNIT SBB'.<br>\n",
    "<font color=grey>\n",
    "Syntax: df.sort_values(by=['col1']) , of<br>\n",
    "df.sort_values(by=['col1', 'col2']) <br>\n",
    "Wil je eea omgekeerd selecteren? Dan df.sort_values(by='col1', ascending=False)</font>\n",
    "<font color=grey>Bron:https://pandas.pydata.org/pandas-docs/stable/generated/pandas.DataFrame.sort_values.html</font> <br>\n",
    "\n",
    "N.B. Simon en Danny zijn nog bezig met 'Locatie' en 'Categorie'. Dit zijn nu arrays [] binnen de Dataframe. Ze zoeken nog naar een manier om dit om te typeren naar normale datavelden, zodat we ook hier aparte Dataframes (locatie, categorie) van kunnen maken die gevisualiseerd kunnen worden.\n",
    "\n"
   ]
  },
  {
   "cell_type": "code",
   "execution_count": null,
   "metadata": {},
   "outputs": [],
   "source": [
    "df = datasource\n",
    "df.sort_values(by='SECTORUNIT SBB')"
   ]
  },
  {
   "cell_type": "markdown",
   "metadata": {},
   "source": [
    "### 1b. SNELLER: Welke unieke attribuutwaarden in een kolom\n",
    "Het is sneller om de unieke attribuutwaarden uit te vragen. Dan is het later makkelijker om te selecteren / slicen / visualiseren op een bepaalde attribuutwaarde in een kolom.\n",
    "\n",
    "Bron:https://chrisalbon.com/python/data_wrangling/pandas_list_unique_values_in_column/ "
   ]
  },
  {
   "cell_type": "code",
   "execution_count": null,
   "metadata": {},
   "outputs": [],
   "source": [
    "df['SECTORUNIT SBB'].unique()"
   ]
  },
  {
   "cell_type": "markdown",
   "metadata": {},
   "source": [
    "# 2. Totalen per unieke attribuutwaarde\n",
    "Om de unieke attribuutwaarden te visualiseren, hebben we de totalen nodig. Schijnbaar kan dat ook makkelijk, na lang zoeken, gvd. <br>\n",
    "\n",
    "<font color=grey>Syntax: df.groupby(['kolomnaam' waarvan je totalen wil]).sum()[['kolom aant1','kolom aant1', 'enzovoorts']]</font> <br>\n",
    "Bron: https://stackoverflow.com/questions/35307732/how-to-sum-in-pandas-by-unique-index-in-several-columns"
   ]
  },
  {
   "cell_type": "code",
   "execution_count": null,
   "metadata": {},
   "outputs": [],
   "source": [
    "df_totaalSBB = df.groupby(['SECTORUNIT SBB']).sum()[['2013   AANT','2014   AANT','2015   AANT','2016   AANT','2017   AANT']]\n",
    "df_totaalSBB.info()"
   ]
  },
  {
   "cell_type": "code",
   "execution_count": null,
   "metadata": {},
   "outputs": [],
   "source": [
    "df_totaalSBB.head(10)"
   ]
  },
  {
   "cell_type": "markdown",
   "metadata": {},
   "source": [
    "# 3. Visualiseren totalen 'Sectorunit SBB'"
   ]
  },
  {
   "cell_type": "code",
   "execution_count": null,
   "metadata": {},
   "outputs": [],
   "source": [
    "%config IPCompleter.greedy = True  \n",
    "%matplotlib inline\n",
    "df_totaalSBB.plot.bar()"
   ]
  },
  {
   "cell_type": "markdown",
   "metadata": {},
   "source": [
    "Bron voor onderstaande: https://hub.mybinder.org/user/bokeh-bokeh-notebooks-yecjmjgh/notebooks/tutorial/07%20-%20Bar%20and%20Categorical%20Data%20Plots.ipynb"
   ]
  },
  {
   "cell_type": "markdown",
   "metadata": {
    "collapsed": true
   },
   "source": [
    "# 4. Visualiseer hoe vaak een bepaald type mbo niveau 4 gediplomeerden voorkomt in het wervingsgebied van de Windesheim locatie Zwolle in absolute aantallen"
   ]
  },
  {
   "cell_type": "code",
   "execution_count": null,
   "metadata": {},
   "outputs": [],
   "source": [
    "#dataframe om alle gediplomeerden in regio Zwolle te selecteren\n",
    "df_locatie_zwolle = df.loc[df['Locatie'] == 'Zwolle']\n",
    "df_aantal_zwolle = df_locatie_zwolle.groupby(['Locatie']).sum()[['2013   AANT','2014   AANT','2015   AANT','2016   AANT','2017   AANT']]"
   ]
  },
  {
   "cell_type": "code",
   "execution_count": null,
   "metadata": {},
   "outputs": [],
   "source": [
    "df_aantal_zwolle.info()"
   ]
  },
  {
   "cell_type": "code",
   "execution_count": null,
   "metadata": {},
   "outputs": [],
   "source": [
    "df_aantal_zwolle.plot.bar(figsize=(8,5.0),title='Aantal MBO Afgestudeerden Regio Zwolle')"
   ]
  },
  {
   "cell_type": "code",
   "execution_count": null,
   "metadata": {},
   "outputs": [],
   "source": [
    "df_locatie_zwolle.info()"
   ]
  },
  {
   "cell_type": "markdown",
   "metadata": {},
   "source": [
    "# 5. Visualiseer hoe vaak een bepaald type mbo niveau 4 gediplomeerden voorkomt in het wervingsgebied van de Windesheim locatie Flevoland in absolute aantallen"
   ]
  },
  {
   "cell_type": "code",
   "execution_count": null,
   "metadata": {},
   "outputs": [],
   "source": [
    "#dataframe om alle gediplomeerden in regio Flevoland te selecteren\n",
    "df_locatie_flevoland = df.loc[df['Locatie'] == 'Flevoland']\n",
    "df_aantal_flevoland = df_locatie_flevoland.groupby(['Locatie']).sum()[['2013   AANT','2014   AANT','2015   AANT','2016   AANT','2017   AANT']]"
   ]
  },
  {
   "cell_type": "code",
   "execution_count": null,
   "metadata": {},
   "outputs": [],
   "source": [
    "df_aantal_flevoland"
   ]
  },
  {
   "cell_type": "code",
   "execution_count": null,
   "metadata": {},
   "outputs": [],
   "source": [
    "df_aantal_flevoland.plot.bar(figsize=(8,5.0),title='Aantal MBO Afgestudeerden Regio Flevoland')"
   ]
  },
  {
   "cell_type": "markdown",
   "metadata": {
    "collapsed": true
   },
   "source": [
    "# JH - 1. Visualiseer waar de gediplomeerde mbo-4 woonachtig zijn naar mbo-opleiding in absolute aantallen"
   ]
  },
  {
   "cell_type": "code",
   "execution_count": null,
   "metadata": {},
   "outputs": [],
   "source": [
    "koppeltabel = pd.read_sql_query(\"SELECT * FROM koppeltabel\",engine)"
   ]
  },
  {
   "cell_type": "code",
   "execution_count": null,
   "metadata": {},
   "outputs": [],
   "source": [
    "renamed = datasource.rename(columns={'PC4_LEERL': 'PC4'})\n",
    "output = pd.merge(renamed, koppeltabel, on='PC4', how='inner')\n",
    "output.head(10)"
   ]
  },
  {
   "cell_type": "markdown",
   "metadata": {},
   "source": [
    "# JH - 1A. Visualisatie per Provincie"
   ]
  },
  {
   "cell_type": "code",
   "execution_count": null,
   "metadata": {},
   "outputs": [],
   "source": [
    "#dataframe om alle gediplomeerden per provincie te selecteren\n",
    "df_totaalprovincie = output.groupby(['Provincie']).sum()[['2013   AANT','2014   AANT','2015   AANT','2016   AANT','2017   AANT']]\n",
    "df_totaalprovincie"
   ]
  },
  {
   "cell_type": "code",
   "execution_count": null,
   "metadata": {},
   "outputs": [],
   "source": [
    "df_totaalprovincie.plot.bar(figsize=(8,5.0),title='Aantal MBO 4 Afgestudeerden per Provincie')"
   ]
  },
  {
   "cell_type": "markdown",
   "metadata": {},
   "source": [
    "# JH - 1B. Visualisatie per Categorie"
   ]
  },
  {
   "cell_type": "code",
   "execution_count": null,
   "metadata": {},
   "outputs": [],
   "source": [
    "#dataframe om alle gediplomeerden per categorie te selecteren\n",
    "df_totaalcategorie = output.groupby(['Categorie']).sum()[['2013   AANT','2014   AANT','2015   AANT','2016   AANT','2017   AANT']]\n",
    "df_totaalcategorie"
   ]
  },
  {
   "cell_type": "code",
   "execution_count": null,
   "metadata": {},
   "outputs": [],
   "source": [
    "df_totaalcategorie.plot.bar(figsize=(8,5.0),title='Aantal MBO 4 Afgestudeerden per Categorie')"
   ]
  },
  {
   "cell_type": "markdown",
   "metadata": {},
   "source": [
    "# JH - 1C. Visualisatie \"Thuismarkt\""
   ]
  },
  {
   "cell_type": "code",
   "execution_count": null,
   "metadata": {},
   "outputs": [],
   "source": [
    "#dataframe om alle gediplomeerden in Categorie \"Thuismarkt\" te selecteren\n",
    "df_thuismarkt = output.loc[output['Categorie'] == 'Thuismarkt']\n",
    "df_gt = df_thuismarkt.groupby(['Gemeente']).sum()[['2013   AANT','2014   AANT','2015   AANT','2016   AANT','2017   AANT']]\n",
    "df_gt"
   ]
  },
  {
   "cell_type": "code",
   "execution_count": null,
   "metadata": {},
   "outputs": [],
   "source": [
    "df_gt.plot.bar(figsize=(20,8.0),title='Aantal MBO 4 Afgestudeerden - Thuismarkt')"
   ]
  },
  {
   "cell_type": "markdown",
   "metadata": {},
   "source": [
    "# JH - 1D. Visualisatie \"Aangrenzend Primair\""
   ]
  },
  {
   "cell_type": "code",
   "execution_count": null,
   "metadata": {},
   "outputs": [],
   "source": [
    "#dataframe om alle gediplomeerden in Categorie \"Aangrenzend Primair\" te selecteren\n",
    "df_ap = output.loc[output['Categorie'] == 'Aangrenzend Primair']\n",
    "df_gap = df_ap.groupby(['Gemeente']).sum()[['2013   AANT','2014   AANT','2015   AANT','2016   AANT','2017   AANT']]\n",
    "df_gap"
   ]
  },
  {
   "cell_type": "code",
   "execution_count": null,
   "metadata": {},
   "outputs": [],
   "source": [
    "df_gap.plot.bar(figsize=(20,8.0),title='Aantal MBO 4 Afgestudeerden - Aangrenzend Primair')"
   ]
  },
  {
   "cell_type": "markdown",
   "metadata": {},
   "source": [
    "# JH - 1E. Visualisatie \"Aangrenzend Secundair\""
   ]
  },
  {
   "cell_type": "code",
   "execution_count": null,
   "metadata": {},
   "outputs": [],
   "source": [
    "#dataframe om alle gediplomeerden in Categorie \"Aangrenzend Secundair\" te selecteren\n",
    "df_as = output.loc[output['Categorie'] == 'Aangrenzend Secundair']\n",
    "df_gas = df_as.groupby(['Gemeente']).sum()[['2013   AANT','2014   AANT','2015   AANT','2016   AANT','2017   AANT']]\n",
    "df_gas"
   ]
  },
  {
   "cell_type": "code",
   "execution_count": null,
   "metadata": {},
   "outputs": [],
   "source": [
    "df_gas.plot.bar(figsize=(20,8.0),title='Aantal MBO 4 Afgestudeerden - Aangrenzend Secundair')"
   ]
  },
  {
   "cell_type": "markdown",
   "metadata": {},
   "source": [
    "# JH - 1F. Visualisatie \"Meerdere\""
   ]
  },
  {
   "cell_type": "code",
   "execution_count": null,
   "metadata": {},
   "outputs": [],
   "source": [
    "#dataframe om alle gediplomeerden in Categorie \"Meerdere\" te selecteren\n",
    "df_me = output.loc[output['Categorie'] == 'Meerdere']\n",
    "df_gme = df_me.groupby(['Gemeente']).sum()[['2013   AANT','2014   AANT','2015   AANT','2016   AANT','2017   AANT']]\n",
    "df_me"
   ]
  },
  {
   "cell_type": "code",
   "execution_count": null,
   "metadata": {},
   "outputs": [],
   "source": [
    "df_gme.plot.bar(figsize=(20,8.0),title='Aantal MBO 4 Afgestudeerden - Aangrenzend Secundair')"
   ]
  },
  {
   "cell_type": "markdown",
   "metadata": {},
   "source": [
    "# 2. Visualisatie \"MBO Sector\" in absolute aantallen"
   ]
  },
  {
   "cell_type": "code",
   "execution_count": null,
   "metadata": {},
   "outputs": [],
   "source": [
    "df_sector = df.groupby(['MBO SECTOR']).sum()[['2013   AANT','2014   AANT','2015   AANT','2016   AANT','2017   AANT']]\n",
    "df_sector"
   ]
  },
  {
   "cell_type": "code",
   "execution_count": null,
   "metadata": {},
   "outputs": [],
   "source": [
    "df_sector.plot.bar(figsize=(20,8.0),title='Aantal MBO 4 Afgestudeerden - per MBO Sector')"
   ]
  },
  {
   "cell_type": "code",
   "execution_count": null,
   "metadata": {},
   "outputs": [],
   "source": [
    "#output_notebook()\n",
    "\n",
    "#Kolommen zijn de kolommen uit de df_totaalSBB dataframe. Dit gaat dan om 2013 AANT etc. Dit is voor de eerste groepering. \n",
    "kolommen = list(df_totaalSBB)\n",
    "\n",
    "#Sectoren haalt alle unieke waardes uit het dataframe voor de kolom SECTORUNIT SBB.\n",
    "sectoren = list(df['SECTORUNIT SBB'].unique())\n",
    "\n",
    "#Voeg per kolom alle sectoren toe. Dit wordt dan de data voor de x-as. \n",
    "#Kolom is bijvoorbeeld 2013 AANT en hier worden vervolgens alle sectoren aan toegevoegd.\n",
    "x = [ (kolom, sector) for kolom in kolommen for sector in sectoren ]\n",
    "\n",
    "#Data voor de y-as\n",
    "#Data doorlopen om de totalen op de juiste volgorde in een array te plaatsen.\n",
    "#Zelfde volgorde zoals hierboven staat voor de gegevens voor de x-as\n",
    "\n",
    "counts = []\n",
    "\n",
    "for kolom in kolommen:\n",
    "    for sector in sectoren:\n",
    "        counts.append(df_totaalSBB.loc[sector][kolom])\n",
    "        \n",
    "#Teken grafiek\n",
    "source = ColumnDataSource(data=dict(x=x, counts=counts))\n",
    "\n",
    "p = figure(x_range=FactorRange(*x), plot_height=400, title=\"Totalen per SBB sector per jaar\")\n",
    "\n",
    "p.vbar(x='x', top='counts', width=0.8, source=source)\n",
    "\n",
    "p.width=900\n",
    "p.y_range.start = 0\n",
    "p.x_range.range_padding = 0.1\n",
    "p.xaxis.major_label_orientation = 1\n",
    "p.xgrid.grid_line_color = None\n",
    "\n",
    "show(p)"
   ]
  },
  {
   "cell_type": "code",
   "execution_count": null,
   "metadata": {},
   "outputs": [],
   "source": [
    "#Kolommen zijn de kolommen uit de df_totaalSBB dataframe. Dit gaat dan om 2013 AANT etc. Dit is voor de eerste groepering. \n",
    "kolommen_zwolle = list(df_aantal_zwolle)\n",
    "\n",
    "#Sectoren haalt alle unieke waardes uit het dataframe voor de kolom SECTORUNIT SBB.\n",
    "locaties_zwolle = list(df_locatie_zwolle['Locatie'].unique())\n",
    "\n",
    "#Voeg per kolom alle sectoren toe. Dit wordt dan de data voor de x-as. \n",
    "#Kolom is bijvoorbeeld 2013 AANT en hier worden vervolgens alle sectoren aan toegevoegd.\n",
    "x = [ (kolom, locatie) for kolom in kolommen_zwolle for locatie in locaties_zwolle ]\n",
    "\n",
    "#Data voor de y-as\n",
    "#Data doorlopen om de totalen op de juiste volgorde in een array te plaatsen.\n",
    "#Zelfde volgorde zoals hierboven staat voor de gegevens voor de x-as\n",
    "\n",
    "counts = []\n",
    "\n",
    "for kolom in kolommen_zwolle:\n",
    "    for locatie in locaties_zwolle:\n",
    "        counts.append(df_aantal_zwolle.loc[locatie][kolom])\n",
    "\n",
    "#Teken grafiek\n",
    "source = ColumnDataSource(data=dict(x=x, counts=counts))\n",
    "\n",
    "az = figure(x_range=FactorRange(*x), plot_height=400, title=\"Aantal MBO Afgestudeerden Regio Zwolle\")\n",
    "\n",
    "az.vbar(x='x', top='counts', width=0.8, source=source)\n",
    "\n",
    "az.width=900\n",
    "az.y_range.start = 0\n",
    "az.x_range.range_padding = 0.1\n",
    "az.xaxis.major_label_orientation = 1\n",
    "az.xgrid.grid_line_color = None\n",
    "\n",
    "\n",
    "#update functie om nieuwe data(selecties) weer te geven, doet nu niets...\n",
    "#def update():\n",
    "\n",
    "#callback om updates elke 100ms op te halen\n",
    "#doc.add_periodic_callback(update, 100)\n",
    "\n",
    "show(az)"
   ]
  },
  {
   "cell_type": "code",
   "execution_count": null,
   "metadata": {},
   "outputs": [],
   "source": [
    "#from bokeh.palettes import Spectral6\n",
    "\n",
    "#Kolommen zijn de kolommen uit de df_totaalSBB dataframe. Dit gaat dan om 2013 AANT etc. Dit is voor de eerste groepering. \n",
    "#kolommen = list(df_totaalSBB)\n",
    "\n",
    "#Sectoren haalt alle unieke waardes uit het dataframe voor de kolom SECTORUNIT SBB.\n",
    "#sectoren = df['SECTORUNIT SBB'].unique()\n",
    "#sectorenMultiplied = []\n",
    "\n",
    "#Voeg per kolom alle sectoren toe. Dit wordt dan de data voor de x-as. \n",
    "#Kolom is bijvoorbeeld 2013 AANT en hier worden vervolgens alle sectoren aan toegevoegd.\n",
    "#x = [ (sector, kolom) for sector in sectoren for kolom in kolommen ]\n",
    "\n",
    "#Data voor de y-as\n",
    "#Data doorlopen om de totalen op de juiste volgorde in een array te plaatsen.\n",
    "#Zelfde volgorde zoals hierboven staat voor de gegevens voor de x-as\n",
    "\n",
    "#counts = []\n",
    "\n",
    "#for sector in sectoren:\n",
    "#    for kolom in kolommen:\n",
    "#        counts.append(df_totaalSBB.loc[sector][kolom])\n",
    "\n",
    "#cyl_cmap = factor_cmap('cyl', palette=Spectral5, factors=sorted(df.cyl.unique())\n",
    "#Teken grafiek\n",
    "#source = ColumnDataSource(data=dict(x=x, counts=counts, sectoren=sectorenMultiplied, color=Spectral6))\n",
    "#p = figure(x_range=FactorRange(*x), plot_height=400, title=\"Totalen per SBB sector per jaar\")\n",
    "#p.vbar(x='x', top='counts', width=0.8, legend='sectoren', color='color', source=source)\n",
    "\n",
    "#p.width=1000\n",
    "#p.y_range.start = 0\n",
    "#p.x_range.range_padding = 0.1\n",
    "#p.xaxis.major_label_orientation = 'vertical'\n",
    "#p.xgrid.grid_line_color = None\n",
    "\n",
    "#p.legend.orientation = \"horizontal\"\n",
    "#p.legend.location = \"top_center\"\n",
    "\n",
    "#p.xaxis[0].group_text_font_size = '0pt'\n",
    "#show(p)"
   ]
  },
  {
   "cell_type": "code",
   "execution_count": null,
   "metadata": {},
   "outputs": [],
   "source": [
    "# voorbeeld data, laad in om werking te zien! Wel even de volgende paragraaf skippen...\n",
    "\n",
    "import random\n",
    "\n",
    "def make_document(doc):\n",
    "    source = ColumnDataSource({'x': [], 'y': [], 'color': []})\n",
    "\n",
    "    def update():\n",
    "        new = {'x': [random.random()],\n",
    "               'y': [random.random()],\n",
    "               'color': [random.choice(['red', 'blue', 'green'])]}\n",
    "        source.stream(new)\n",
    "\n",
    "    doc.add_periodic_callback(update, 100)\n",
    "\n",
    "    fig = figure(title='Streaming Circle Plot!', sizing_mode='scale_width',\n",
    "                 x_range=[0, 1], y_range=[0, 1])\n",
    "    fig.circle(source=source, x='x', y='y', color='color', size=10)\n",
    "\n",
    "    doc.title = \"Now with live updating!\"\n",
    "    doc.add_root(fig)"
   ]
  },
  {
   "cell_type": "code",
   "execution_count": null,
   "metadata": {},
   "outputs": [],
   "source": [
    "# maak document, met daarin grafiek. Hier zullen (uiteindelijk) meerdere grafieken moeten worden \n",
    "# weergegeven met meerdere opties.\n",
    "\n",
    "def make_document(doc):\n",
    "    #Kolommen zijn de kolommen uit de df_totaalSBB dataframe. Dit gaat dan om 2013 AANT etc. Dit is voor de eerste groepering. \n",
    "    kolommen = list(df_totaalSBB)\n",
    "\n",
    "    #Sectoren haalt alle unieke waardes uit het dataframe voor de kolom SECTORUNIT SBB.\n",
    "    sectoren = list(df['SECTORUNIT SBB'].unique())\n",
    "\n",
    "    #Voeg per kolom alle sectoren toe. Dit wordt dan de data voor de x-as. \n",
    "    #Kolom is bijvoorbeeld 2013 AANT en hier worden vervolgens alle sectoren aan toegevoegd.\n",
    "    x = [ (kolom, sector) for kolom in kolommen for sector in sectoren ]\n",
    "\n",
    "    #Data voor de y-as\n",
    "    #Data doorlopen om de totalen op de juiste volgorde in een array te plaatsen.\n",
    "    #Zelfde volgorde zoals hierboven staat voor de gegevens voor de x-as\n",
    "\n",
    "    counts = []\n",
    "\n",
    "    for kolom in kolommen:\n",
    "        for sector in sectoren:\n",
    "            counts.append(df_totaalSBB.loc[sector][kolom])\n",
    "\n",
    "    #Teken grafiek\n",
    "    source = ColumnDataSource(data=dict(x=x, counts=counts))\n",
    "\n",
    "    p = figure(x_range=FactorRange(*x), plot_height=400, title=\"Totalen per SBB sector per jaar\")\n",
    "\n",
    "    p.vbar(x='x', top='counts', width=0.8, source=source)\n",
    "\n",
    "    p.width=900\n",
    "    p.y_range.start = 0\n",
    "    p.x_range.range_padding = 0.1\n",
    "    p.xaxis.major_label_orientation = 1\n",
    "    p.xgrid.grid_line_color = None\n",
    "\n",
    "\n",
    "    #update functie om nieuwe data(selecties) weer te geven\n",
    "    def updateSBB(attr, old, new):\n",
    "        kolommen = [jaren.labels[i] for i in jaren.active]\n",
    "        x = [ (kolom, sector) for kolom in kolommen for sector in sectoren ]\n",
    "\n",
    "        counts = []\n",
    "\n",
    "        for kolom in kolommen:\n",
    "            for sector in sectoren:\n",
    "                counts.append(df_totaalSBB.loc[sector][kolom])\n",
    "\n",
    "        newSource = ColumnDataSource(data=dict(x=x, counts=counts))\n",
    "        source.data.update(newSource.data)\n",
    "    \n",
    "    \n",
    "    jaren = CheckboxGroup(labels=kolommen, active = [0, 1, 2, 3 ,4])\n",
    "    jaren.on_change('active', updateSBB)\n",
    "\n",
    "    layout = row(p, jaren)\n",
    "\n",
    "    #callback om updates elke 100ms op te halen\n",
    "    #doc.add_periodic_callback(update, 100)\n",
    "\n",
    "    doc.title = \"Sectorunit SBB chart...\"\n",
    "    doc.add_root(layout)\n",
    "\n",
    "    # maak document, met daarin grafiek. Hier zullen (uiteindelijk) meerdere grafieken moeten worden \n",
    "    # weergegeven met meerdere opties.\n",
    "\n",
    "    #def aantal_zwolle(doc):\n",
    "\n",
    "        #Kolommen zijn de kolommen uit de df_totaalSBB dataframe. Dit gaat dan om 2013 AANT etc. Dit is voor de eerste groepering. \n",
    "        #kolommen_zwolle = list(df_aantal_zwolle)\n",
    "\n",
    "        #Sectoren haalt alle unieke waardes uit het dataframe voor de kolom SECTORUNIT SBB.\n",
    "        #locaties_zwolle = list(df_aantal_zwolle['Locatie'].unique())\n",
    "\n",
    "        #Voeg per kolom alle sectoren toe. Dit wordt dan de data voor de x-as. \n",
    "        #Kolom is bijvoorbeeld 2013 AANT en hier worden vervolgens alle sectoren aan toegevoegd.\n",
    "        #x = [ (kolom, locatie) for kolom in kolommen_zwolle for locatie in locaties_zwolle ]\n",
    "\n",
    "        #Data voor de y-as\n",
    "        #Data doorlopen om de totalen op de juiste volgorde in een array te plaatsen.\n",
    "        #Zelfde volgorde zoals hierboven staat voor de gegevens voor de x-as\n",
    "\n",
    "        #counts = []\n",
    "\n",
    "        #for kolom in kolommen_zwolle:\n",
    "        #   for locatie in locaties_zwolle:\n",
    "        #        counts.append(df_aantal_zwolle.loc[sector][kolom])\n",
    "\n",
    "        #Teken grafiek\n",
    "        #source = ColumnDataSource(data=dict(x=x, counts=counts))\n",
    "\n",
    "        #az = figure(x_range=FactorRange(*x), plot_height=400, title=\"Aantal MBO Afgestudeerden Regio Zwolle\")\n",
    "\n",
    "        #az.vbar(x='x', top='counts', width=0.8, source=source)\n",
    "\n",
    "        #az.width=900\n",
    "        #az.y_range.start = 0\n",
    "        #az.x_range.range_padding = 0.1\n",
    "        #az.xaxis.major_label_orientation = 1\n",
    "        #az.xgrid.grid_line_color = None\n",
    "   \n",
    "\n",
    "        #update functie om nieuwe data(selecties) weer te geven, doet nu niets...\n",
    "        #def update():\n",
    "\n",
    "        #callback om updates elke 100ms op te halen\n",
    "        #doc.add_periodic_callback(update, 100)\n",
    "        \n",
    "        \n",
    "        #doc.title = \"Tekst...\"\n",
    "        #doc.add_root(az)"
   ]
  },
  {
   "cell_type": "code",
   "execution_count": null,
   "metadata": {},
   "outputs": [],
   "source": [
    "# starten van de webserver :)\n",
    "apps = {'/': Application(FunctionHandler(make_document))}\n",
    "\n",
    "server = Server(apps, port=5006, allow_websocket_origin=['localhost:5006','nm-interactive.net:5006'])\n",
    "server.start()"
   ]
  },
  {
   "cell_type": "code",
   "execution_count": null,
   "metadata": {},
   "outputs": [],
   "source": [
    "# stoppen van de server :)\n",
    "server.stop()"
   ]
  },
  {
   "cell_type": "code",
   "execution_count": null,
   "metadata": {},
   "outputs": [],
   "source": [
    "output_notebook()\n",
    "\n",
    "#Kolommen zijn de kolommen uit de df_totaalSBB dataframe. Dit gaat dan om 2013 AANT etc. Dit is voor de eerste groepering. \n",
    "kolommen = list(df_totaalSBB)\n",
    "\n",
    "#Sectoren haalt alle unieke waardes uit het dataframe voor de kolom SECTORUNIT SBB.\n",
    "sectoren = df['SECTORUNIT SBB'].unique()\n",
    "\n",
    "#Voeg per kolom alle sectoren toe. Dit wordt dan de data voor de x-as. \n",
    "#Kolom is bijvoorbeeld 2013 AANT en hier worden vervolgens alle sectoren aan toegevoegd.\n",
    "x = [ (kolom, sector) for kolom in kolommen for sector in sectoren ]\n",
    "\n",
    "#Data voor de y-as\n",
    "#Data doorlopen om de totalen op de juiste volgorde in een array te plaatsen.\n",
    "#Zelfde volgorde zoals hierboven staat voor de gegevens voor de x-as\n",
    "\n",
    "counts = []\n",
    "\n",
    "for kolom in kolommen:\n",
    "    for sector in sectoren:\n",
    "        counts.append(df_totaalSBB.loc[sector][kolom])\n",
    "        \n",
    "\n",
    "source = ColumnDataSource(data=dict(x=x, counts=counts))\n",
    "\n",
    "#Teken grafiek\n",
    "p = figure(x_range=FactorRange(*x), plot_height=400, title=\"Totalen per SBB sector per jaar\")\n",
    "\n",
    "p.vbar(x='x', top='counts', width=0.8, source=source)\n",
    "\n",
    "p.width=900\n",
    "p.y_range.start = 0\n",
    "p.x_range.range_padding = 0.1\n",
    "p.xaxis.major_label_orientation = 1\n",
    "p.xgrid.grid_line_color = None\n",
    "\n",
    "show(p)"
   ]
  },
  {
   "cell_type": "code",
   "execution_count": null,
   "metadata": {},
   "outputs": [],
   "source": [
    "def updateSBB(attr, old, new):\n",
    "    kolommen = [jaren.labels[i] for i in jaren.active]\n",
    "    x = [ (kolom, sector) for kolom in kolommen for sector in sectoren ]\n",
    "   \n",
    "    counts = []\n",
    "    \n",
    "    for kolom in kolommen:\n",
    "        for sector in sectoren:\n",
    "            counts.append(df_totaalSBB.loc[sector][kolom])\n",
    "    \n",
    "    newSource = ColumnDataSource(data=dict(x=x, counts=counts))\n",
    "    source.data.update(newSource.data)"
   ]
  },
  {
   "cell_type": "code",
   "execution_count": null,
   "metadata": {},
   "outputs": [],
   "source": [
    "output_file(\"slider.html\")\n",
    "jaren = CheckboxGroup(labels=kolommen, active = [0, 1, 2, 3 ,4])\n",
    "jaren.on_change('active', updateSBB)\n",
    "\n",
    "p1 = figure(plot_width=300, plot_height=300)\n",
    "p1.circle([1, 2, 3, 4, 5], [6, 7, 2, 4, 5], size=20, color=\"red\", alpha=0.5)\n",
    "\n",
    "testcheckbox = CheckboxGroup(labels=list(\"Test\"), active = [0, 1])\n",
    "                             \n",
    "layout = row(p, jaren)\n",
    "tab1 = Panel(child=layout, title=\"Aantal per SBB Sectorunit\")\n",
    "\n",
    "p2 = figure(plot_width=300, plot_height=300)\n",
    "p2.line([1, 2, 3, 4, 5], [6, 7, 2, 4, 5], line_width=3, color=\"red\", alpha=0.5)\n",
    "\n",
    "l2 = row(az)\n",
    "tab2 = Panel(child=l2, title=\"Aantal MBO 4 afgestudeerden Zwolle\")\n",
    "\n",
    "tabs = Tabs(tabs=[ tab1, tab2 ])\n",
    "\n",
    "show(tabs)"
   ]
  },
  {
   "cell_type": "code",
   "execution_count": null,
   "metadata": {},
   "outputs": [],
   "source": [
    "def test():\n",
    "    print(\"test\")"
   ]
  },
  {
   "cell_type": "code",
   "execution_count": null,
   "metadata": {},
   "outputs": [],
   "source": [
    "test()"
   ]
  },
  {
   "cell_type": "code",
   "execution_count": null,
   "metadata": {},
   "outputs": [],
   "source": []
  }
 ],
 "metadata": {
  "kernelspec": {
   "display_name": "Python 3",
   "language": "python",
   "name": "python3"
  },
  "language_info": {
   "codemirror_mode": {
    "name": "ipython",
    "version": 3
   },
   "file_extension": ".py",
   "mimetype": "text/x-python",
   "name": "python",
   "nbconvert_exporter": "python",
   "pygments_lexer": "ipython3",
   "version": "3.6.4"
  }
 },
 "nbformat": 4,
 "nbformat_minor": 2
}
