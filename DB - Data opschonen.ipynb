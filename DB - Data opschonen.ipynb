{
 "cells": [
  {
   "cell_type": "code",
   "execution_count": null,
   "metadata": {},
   "outputs": [],
   "source": [
    "# init\n",
    "%config IPCompleter.greedy = True  \n",
    "%matplotlib inline\n",
    "\n",
    "import pandas as pd\n",
    "import numpy as np\n",
    "\n",
    "# Importeer dataset, houd rekening met encoding(!)\n",
    "csvdata = pd.read_csv('Data\\pc4dipv2-csvdata.csv', sep=';',encoding='ISO-8859-1').set_index(['nr'])\n",
    "pcdata = pd.read_csv('Data\\PC4-DB.csv', sep=';',encoding='UTF-8')\n",
    "\n",
    "# Importeer postcodedatabase"
   ]
  },
  {
   "cell_type": "code",
   "execution_count": null,
   "metadata": {},
   "outputs": [],
   "source": [
    "# exploreer data\n",
    "csvdata.head()"
   ]
  },
  {
   "cell_type": "code",
   "execution_count": null,
   "metadata": {},
   "outputs": [],
   "source": [
    "# exploreer data\n",
    "csvdata.info()"
   ]
  },
  {
   "cell_type": "code",
   "execution_count": null,
   "metadata": {},
   "outputs": [],
   "source": [
    "# exploreer data\n",
    "pcdata.head()"
   ]
  },
  {
   "cell_type": "code",
   "execution_count": null,
   "metadata": {},
   "outputs": [],
   "source": [
    "# exploreer data\n",
    "pcdata.info()"
   ]
  },
  {
   "cell_type": "code",
   "execution_count": null,
   "metadata": {},
   "outputs": [],
   "source": [
    "# Controleer unieke postcodes in dataset\n",
    "csvuniquepc = csvdata['PC4_LEERL'].unique()\n",
    "csvuniquepc"
   ]
  },
  {
   "cell_type": "code",
   "execution_count": null,
   "metadata": {},
   "outputs": [],
   "source": [
    "# Hoeveel unieke postcodes zijn er?\n",
    "pcuniquepc = pcdata['PC4'].unique()\n",
    "pcuniquepc"
   ]
  },
  {
   "cell_type": "code",
   "execution_count": null,
   "metadata": {},
   "outputs": [],
   "source": [
    "# Welke postcodes zijn ongeldig?\n",
    "pcdiff = set(csvuniquepc) - set(pcuniquepc)\n",
    "pcdiff"
   ]
  },
  {
   "cell_type": "code",
   "execution_count": null,
   "metadata": {},
   "outputs": [],
   "source": [
    "# Hoeveel postcodes zijn niet te matchen met elkaar?\n",
    "df = csvdata[csvdata['PC4_LEERL'].isin(pcdiff)]\n",
    "df.info()"
   ]
  },
  {
   "cell_type": "code",
   "execution_count": null,
   "metadata": {},
   "outputs": [],
   "source": [
    "# Verwijder dataregels uit dataset die geen overeenkomende postcode hebben\n",
    "newcsvdata = csvdata[~csvdata['PC4_LEERL'].isin(pcdiff)]\n",
    "newcsvdata.info()"
   ]
  }
 ],
 "metadata": {
  "kernelspec": {
   "display_name": "Python 3",
   "language": "python",
   "name": "python3"
  },
  "language_info": {
   "codemirror_mode": {
    "name": "ipython",
    "version": 3
   },
   "file_extension": ".py",
   "mimetype": "text/x-python",
   "name": "python",
   "nbconvert_exporter": "python",
   "pygments_lexer": "ipython3",
   "version": "3.6.5"
  }
 },
 "nbformat": 4,
 "nbformat_minor": 2
}
